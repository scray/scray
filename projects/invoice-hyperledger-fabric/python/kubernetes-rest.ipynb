{
 "cells": [
  {
   "cell_type": "markdown",
   "metadata": {},
   "source": [
    "# Kubernetes"
   ]
  },
  {
   "cell_type": "code",
   "execution_count": null,
   "metadata": {},
   "outputs": [],
   "source": []
  },
  {
   "cell_type": "code",
   "execution_count": null,
   "metadata": {},
   "outputs": [],
   "source": [
    "# WEBDAV at http://10.15.136.41:30080/\n",
    "# visualization\n",
    "# local \n",
    "# kubernetesTool\n"
   ]
  },
  {
   "cell_type": "code",
   "execution_count": null,
   "metadata": {},
   "outputs": [],
   "source": [
    "print(getPods()['items'][10].keys())\n",
    "getPods()['items'][10]['metadata']['name']\n",
    "getPods()['items'][9]['status'].keys()\n"
   ]
  },
  {
   "cell_type": "code",
   "execution_count": null,
   "metadata": {},
   "outputs": [],
   "source": [
    "# download e.g. all crts of needed peers to local dir (e.g. for invoke,commit)\n",
    "def getCrtName(org='', domain='kubernetes.research.dev.seeburger.de'):\n",
    "    return str(org + '-' + domain + '-ca.crt')\n",
    "    \n",
    "def downloadToLocalCmdList(host='10.15.136.41:30080',user='scray', pwd='scray',\n",
    "                    local_path='./', remote_name='' ,remote_path='upload'):  \n",
    "    return ['curl', '--user',user + ':' + pwd, 'http://' + host + '/' + remote_path + '/' + remote_name, '-o', local_path + '/' + remote_name]\n",
    "\n",
    "\n",
    "def downloadCrtsToPeer(orgs, execute_org='schalke3'):\n",
    "    for org in orgs:\n",
    "        executePeerCmd(peers[execute_org].pod_name,toCmd(downloadToLocalCmdList(local_path='/tmp', remote_name=getCrtName(org))))     \n",
    "   "
   ]
  },
  {
   "cell_type": "code",
   "execution_count": null,
   "metadata": {},
   "outputs": [],
   "source": [
    "def downloadToLocal(host='10.15.136.41:30080',user='scray', pwd='scray',\n",
    "                    local_path='./', local_name='' ,remote_path='upload'):  \n",
    "    try:    \n",
    "        output = subprocess.check_output(['curl', '--user',user + ':' + pwd, \n",
    "                                               'http://' + host + '/' + remote_path + '/' + local_name, '-o', local_path + '/' + local_name])\n",
    "        #return str(callProcess)[3:-3]\n",
    "        return output.decode('ascii')\n",
    "    except Exception as e:\n",
    "        return str(e)     \n",
    "   \n",
    "\n",
    "def uploadFromLocal(host='10.15.136.41:30080',user='scray', pwd='scray',\n",
    "                    local_path='./', local_name='' ,remote_path='upload'):\n",
    "    try:    \n",
    "        output = subprocess.check_output(['curl', '--user',user + ':' + pwd, \n",
    "                                          '-T', local_path + '/' + local_name, \n",
    "                                          'http://' + host + '/' + remote_path + '/' + local_name])\n",
    "        return output.decode('ascii')\n",
    "    except Exception as e:\n",
    "        return str(e)   \n",
    "                    \n",
    "#downloadToLocal(local_path='./', local_name='org3_update_in_envelope.pb' ,remote_path='upload')"
   ]
  },
  {
   "cell_type": "code",
   "execution_count": null,
   "metadata": {},
   "outputs": [],
   "source": [
    "# hyperledger peer\n",
    "\n",
    "def deletePeer(peername):   \n",
    "    output  = executeKubectlCmd(['delete','configmap','hl-fabric-peer-' + peername])\n",
    "    #output  = executeKubectlCmd(['delete','-f','/home/jovyan/scray/projects/invoice-hyperledger-fabric/containers/target/' + peername + '/k8s-peer.yaml'])\n",
    "    output  = executeKubectlCmd(['delete','deployment',peername])\n",
    "    output  = executeKubectlCmd(['delete', 'service', peername])\n",
    "    return output\n",
    "            \n",
    "def addEnvVariable(pod_name, key,value):\n",
    "    try:  \n",
    "        cmd = \"echo \\'export '\" + key + '=' + value + \"'\\' >> /root/.bashrc\"\n",
    "        output  = subprocess.check_output(['/home/jovyan/work/usr/bin/kubectl', 'exec','-t', pod_name, '-c', 'scray-peer-cli','--', '/bin/bash','-c',cmd])\n",
    "        return output.decode('ascii')\n",
    "    except Exception as e:\n",
    "        return str(e)\n",
    "       \n",
    "def addBashEnvToPeer(peer):        \n",
    "    pod_name    = peer.pod_name\n",
    "    listen_port = peer.listen_port\n",
    "    executePeerCmd(pod_name,\"rm -f /root/.bashrc\")\n",
    "    #!/home/jovyan/work/usr/bin/kubectl exec --stdin --tty $POD_NAME  -c scray-peer-cli touch /root/.bashrc\n",
    "    addEnvVariable(pod_name, 'ORDERER_CA', '/tmp/tlsca.example.com-cert.pem')\n",
    "    addEnvVariable(pod_name, 'ORDERER_HOSTNAME', 'orderer.example.com')\n",
    "    addEnvVariable(pod_name, 'CHANNEL_NAME', 'mychannel')\n",
    "    #addEnvVariable(pod_name, 'CORE_PEER_ADDRESS', pod_name + ':' + listen_port)\n",
    "    #addEnvVariable(pod_name, 'CORE_PEER_ADDRESS', 'peer0.kubernetes.research.dev.seeburger.de:' + listen_port)\n",
    "    addEnvVariable(pod_name, 'CORE_PEER_ADDRESS', 'kubernetes.research.dev.seeburger.de:' + listen_port)\n",
    "    addEnvVariable(pod_name, 'CORE_PEER_LOCALMSPID', peer.name + 'MSP')\n",
    "    addEnvVariable(pod_name, 'CORE_PEER_MSPCONFIGPATH', '/mnt/conf/organizations/peerOrganizations/kubernetes.research.dev.seeburger.de/users/Admin@kubernetes.research.dev.seeburger.de/msp')\n",
    "    addEnvVariable(pod_name, 'SHARED_FS_HOST', '10.15.136.41:30080')\n",
    "    addEnvVariable(pod_name, 'SHARED_FS_USER', 'scray')\n",
    "    addEnvVariable(pod_name, 'SHARED_FS_PW', 'scray')        \n",
    "  \n",
    "def addBashEnvToPeers(peerlist):\n",
    "    for name in peerlist:\n",
    "        if name in peers:\n",
    "            peer = peers[name]\n",
    "            addBashEnvToPeer(peer)\n",
    "            #installAndAproveChaincode(peer)\n",
    "\n",
    "##############\n",
    "           \n",
    "# actions\n",
    "\n",
    "#!/home/jovyan/work/usr/bin/kubectl exec -it tanja1-65b7889d68-ghxpj -c scray-peer-cli -- /bin/bash -c \"curl --user scray:scray http://10.15.136.41:30080/upload/org3_update_in_envelope.pb -o /tmp/org3_update_in_envelope.pb\"\n",
    "def sign(pod_name):\n",
    "    #executePeerCmd(pod_name,\"curl --user $SHARED_FS_USER:$SHARED_FS_PW http://$SHARED_FS_HOST/ca/tlsca.example.com-cert.pem > /tmp/tlsca.example.com-cert.pem\"\n",
    "    executePeerCmd(pod_name,\"curl --user scray:scray http://10.15.136.41:30080/upload/org3_update_in_envelope.pb -o /tmp/org3_update_in_envelope.pb\")\n",
    "    executePeerCmd(pod_name,\"peer channel signconfigtx -f /tmp/org3_update_in_envelope.pb\")\n",
    "    executePeerCmd(pod_name,\"curl --user scray:scray -T /tmp/org3_update_in_envelope.pb http://10.15.136.41:30080/upload/org3_update_in_envelope.pb\")\n",
    "       \n",
    "\n",
    "def installAndAproveChaincode(peer,cc_host='10.14.128.38',orderer_host='10.15.128.97'):\n",
    "    #!/home/jovyan/work/usr/bin/kubectl exec --stdin --tty $POD_NAME -c scray-peer-cli -- /bin/sh /mnt/conf/install_and_approve_cc.sh $IP_CC_SERVICE $IP_OF_EXAMPLE_NETWORK\n",
    "    strlist = ['/mnt/conf/install_and_approve_cc.sh', cc_host, orderer_host]\n",
    "    executePeerCmd(peer.pod_name,toCmd(strlist)) \n",
    "                    \n",
    "#########################################################################            \n",
    "      "
   ]
  },
  {
   "cell_type": "code",
   "execution_count": null,
   "metadata": {},
   "outputs": [],
   "source": [
    "cc_host='10.14.128.38'\n",
    "orderer_host='10.15.128.97'\n",
    "peer=peers['oly2']\n",
    "strlist = ['/mnt/conf/install_and_approve_cc.sh', cc_host, orderer_host]\n",
    "executePeerCmd2(peer.pod_name,toCmd(strlist)) "
   ]
  },
  {
   "cell_type": "code",
   "execution_count": null,
   "metadata": {},
   "outputs": [],
   "source": [
    "# Cerificates\n",
    "from cryptography import x509\n",
    "from cryptography.hazmat.backends import default_backend\n",
    "from cryptography.x509.oid import NameOID\n",
    "\n",
    "#https://stackoverflow.com/questions/16899247/how-can-i-decode-a-ssl-certificate-using-python\n",
    "\n",
    "def getCrt(org='',domain='kubernetes.research.dev.seeburger.de',host='10.15.136.41:30080',user='scray', pwd='scray',channel='mychannel'):\n",
    "    cmd = ['curl', '--user',user + ':' + pwd, \n",
    "           'http://' + host + '/ca/' + channel + '/' + org + '-' + domain + '-ca.crt']\n",
    "    res = executeLocalCmd(cmd)\n",
    "    if 'CERTIFICATE' in str(res):\n",
    "        return res\n",
    "       \n",
    "def getOrgCrt(org=''):    \n",
    "    pem_data=getCrt(org)\n",
    "    if pem_data:\n",
    "        return x509.load_pem_x509_certificate(pem_data, default_backend())\n"
   ]
  },
  {
   "cell_type": "code",
   "execution_count": null,
   "metadata": {},
   "outputs": [],
   "source": [
    "# get config of blockchain and store it at local directory of peer\n",
    "#peer channel fetch config  $WORK_LOCATION/config_block.pb -o orderer.example.com:7050 -c $CHANNEL_NAME --tls --cafile $ORDERER_CA \n",
    "#configtxlator proto_decode --input $WORK_LOCATION/config_block.pb --type common.Block | jq .data.data[0].payload.data.config > $WORK_LOCATION/config.json\n",
    "\n",
    "def getCurrentConfig(peer, channel_name='mychannel', location='/tmp'):\n",
    "    pod_name = peer.pod_name\n",
    "    executePeerCmd(peer.pod_name,toCmd(downloadToLocalCmdList(local_path='/tmp', remote_path='ca', remote_name='tlsca.example.com-cert.pem')))               \n",
    "    cmd = 'peer channel fetch config ' + location + '/config_block.pb -o orderer.example.com:7050 -c ' +  channel_name + ' --tls --cafile /tmp/tlsca.example.com-cert.pem'\n",
    "    executePeerCmd(pod_name,cmd)\n",
    "    cmd = 'configtxlator proto_decode --input ' + location + '/config_block.pb --type common.Block > ' + location + '/config_block.json'\n",
    "    executePeerCmd(pod_name,cmd)\n",
    "    cmd = 'jq .data.data[0].payload.data.config ' + location + '/config_block.json > ' + location + '/config.json'\n",
    "    executePeerCmd(pod_name,cmd)\n",
    "    cmd = 'cat ' + location + '/config.json'\n",
    "    return json.loads(executePeerCmd(pod_name,cmd))\n",
    "    \n",
    "def getConsortium(config):\n",
    "    dkeys = config.get('channel_group').get('groups').get('Application').get('groups').keys()\n",
    "    return dkeys    \n",
    "    \n",
    "def getLocalOrgList(data):    \n",
    "    local_orgs=[]\n",
    "    for name in data:\n",
    "        if name[:-3] in peers:\n",
    "            local_orgs.append(name[:-3])    \n",
    "    return local_orgs\n",
    "\n",
    "def getBlockInfo(peer=None,channel='mychannel'):\n",
    "    strlist = ['peer', 'channel','-c', channel, 'getinfo']\n",
    "    return executePeerCmd(peer.pod_name,toCmd(strlist))\n",
    "    #return json.loads(executePeerCmd(peer.pod_name,toCmd(strlist))[17:])\n",
    "\n",
    "def getChannelList(peer=None):\n",
    "    strlist = ['peer', 'channel', 'list']\n",
    "    return executePeerCmd2(peer.pod_name,toCmd(strlist))\n"
   ]
  },
  {
   "cell_type": "code",
   "execution_count": null,
   "metadata": {},
   "outputs": [],
   "source": [
    "# update local_orgs\n",
    "\n",
    "config = getCurrentConfig(peers['oly0'])\n",
    "#getChannelList(peers['oly0'])\n",
    "\n",
    "consortium = getConsortium(config)\n",
    "local_orgs = getLocalOrgList(consortium)"
   ]
  },
  {
   "cell_type": "code",
   "execution_count": null,
   "metadata": {},
   "outputs": [],
   "source": [
    "import json\n",
    "#len(kubernetesTool.getPods())\n",
    "#kubeconfig = kubernetesTool.getConfigmap()\n",
    "from kubernetesTool import executeKubectlCmd\n",
    "#executeKubectlCmd(['get','configmap', '-o', 'json'])\n",
    "kubeconfig = json.loads(executeKubectlCmd(['get','configmap', '-o', 'json']))\n",
    "len(kubeconfig['items'])"
   ]
  },
  {
   "cell_type": "code",
   "execution_count": null,
   "metadata": {},
   "outputs": [],
   "source": [
    "pods = json.loads(executeKubectlCmd(['get', 'pods', '-o', 'json']))  \n"
   ]
  },
  {
   "cell_type": "code",
   "execution_count": null,
   "metadata": {},
   "outputs": [],
   "source": [
    "pods['items'][1]['metadata']['name']\n",
    "len(pods['items'])\n"
   ]
  },
  {
   "cell_type": "code",
   "execution_count": null,
   "metadata": {},
   "outputs": [],
   "source": [
    "#pods['items'][1]['metadata']\n",
    "deployments = json.loads(executeKubectlCmd(['get', 'deployments', '-o', 'json'])) "
   ]
  },
  {
   "cell_type": "code",
   "execution_count": null,
   "metadata": {},
   "outputs": [],
   "source": [
    "#deployments['items'][1]['metadata'].keys()\n",
    "#deployments['items'][14]['metadata']['name']\n",
    "\n",
    "deploymentNames=[]\n",
    "for item in deployments['items']:\n",
    "    deploymentNames.append(item['metadata']['name'])"
   ]
  },
  {
   "cell_type": "code",
   "execution_count": null,
   "metadata": {},
   "outputs": [],
   "source": [
    "def getLocalOrgListFromDeploymentNames(consortium,deploymentNames):    \n",
    "    local_orgs=[]\n",
    "    for name in consortium:\n",
    "        if name[:-3] in deploymentNames:\n",
    "            local_orgs.append(name[:-3])    \n",
    "    return local_orgs\n",
    "\n",
    "local_orgs = getLocalOrgListFromDeploymentNames(consortium, deploymentNames)"
   ]
  },
  {
   "cell_type": "code",
   "execution_count": null,
   "metadata": {},
   "outputs": [],
   "source": [
    "#from kubernetesTool import executeLocalCmd\n",
    "for name in local_orgs:\n",
    "    peer = kubernetespeer(name=name)\n",
    "    peers[name] = peer"
   ]
  },
  {
   "cell_type": "code",
   "execution_count": null,
   "metadata": {},
   "outputs": [],
   "source": [
    "#peers, local_orgs"
   ]
  },
  {
   "cell_type": "markdown",
   "metadata": {},
   "source": [
    "# Kubernetes Version (Current)"
   ]
  },
  {
   "cell_type": "code",
   "execution_count": 43,
   "metadata": {},
   "outputs": [],
   "source": [
    "from kubernetesTool import executeKubectlCmd\n",
    "from kubernetesTool import toCmd\n",
    "from kubernetesTool import executeLocalCmd\n",
    "from kubernetesTool import createConfig\n",
    "from kubernetesTool import getPort"
   ]
  },
  {
   "cell_type": "markdown",
   "metadata": {},
   "source": [
    "## addPeer"
   ]
  },
  {
   "cell_type": "code",
   "execution_count": 44,
   "metadata": {},
   "outputs": [],
   "source": [
    "def addPeer(peername):  \n",
    "    if peername in peers.keys():\n",
    "        return peers[peername]\n",
    "    # Create configuration for new peer\n",
    "    executeLocalCmd(['/bin/bash','-c','cd /home/jovyan/scray/projects/invoice-hyperledger-fabric/containers/ && /home/jovyan/scray/projects/invoice-hyperledger-fabric/containers/configure-deployment.sh -n ' + peername])\n",
    "    # Start service\n",
    "    executeKubectlCmd(['apply', '-f', '/home/jovyan/scray/projects/invoice-hyperledger-fabric/containers/target/' + peername + '/k8s-peer-service.yaml'])\n",
    "    # Create peer configuration\n",
    "    res = createConfig(peername=peername,\n",
    "                       peer_listen_port=getPort(peername=peername, name='peer-listen'),\n",
    "                       peer_gossip_port=getPort(peername=peername, name='peer-gossip'))\n",
    "    # Start new peer\n",
    "    executeKubectlCmd(['apply', '-f','/home/jovyan/scray/projects/invoice-hyperledger-fabric/containers/target/' + peername + '/k8s-peer.yaml'])\n",
    "    peer = kubernetespeer(name=peername)\n",
    "    peers[peername] = peer\n",
    "    return peer\n",
    "    \n",
    "# create, delete numbered peers\n",
    "def createPeers(base_name,start=0, end=10):\n",
    "    for x in range(start,end):\n",
    "        peername = base_name + '-' + str(x)\n",
    "        addPeer(peername)\n",
    "         \n",
    "def deletePeers(name):\n",
    "    for x in range(0,10):\n",
    "        peerneme = name + str(x)\n",
    "        deletePeer(peerneme)    \n",
    "  \n",
    "def deleteAllPeers(config):\n",
    "    for item in config['items']:\n",
    "        try:\n",
    "            if 'org_name' in item['data'].keys():\n",
    "                deletePeer(item['data']['org_name'])\n",
    "        except Exception as e:\n",
    "            print(item['data'])\n",
    "            \n",
    "#createPeers('oly')\n",
    "#deletePeers('ga')"
   ]
  },
  {
   "cell_type": "code",
   "execution_count": 45,
   "metadata": {},
   "outputs": [],
   "source": [
    "import subprocess\n",
    "def deleteConfig(peername=''):\n",
    "    try:  \n",
    "        output  = subprocess.check_output(['/home/jovyan/work/usr/bin/kubectl', 'delete','configmap','hl-fabric-peer-' + peername])\n",
    "        return str(output)\n",
    "    except Exception as e:\n",
    "        return str(e)  \n",
    "        \n",
    "    \n",
    "def createConfig(peername='',peer_listen_port='',peer_gossip_port=''):\n",
    "    try:  \n",
    "        peer_host_name = peername + '.kubernetes.research.dev.seeburger.de'\n",
    "        output  = subprocess.check_output(['/home/jovyan/work/usr/bin/kubectl', 'create','configmap','hl-fabric-peer-' + peername,\n",
    "                                          '--from-literal=hostname=' + peer_host_name,\n",
    "                                          '--from-literal=org_name=' + peername,\n",
    "                                          '--from-literal=data_share=hl-fabric-data-share-service:80',\n",
    "                                          '--from-literal=CORE_PEER_ADDRESS=peer0.' + peer_host_name + ':' + peer_listen_port,\n",
    "                                          '--from-literal=CORE_PEER_GOSSIP_EXTERNALENDPOINT=' + peer_host_name + ':' + peer_gossip_port,\n",
    "                                          '--from-literal=CORE_PEER_LOCALMSPID=' + peername + 'MSP'])\n",
    "        return str(output)\n",
    "    except Exception as e:\n",
    "        return str(e)  "
   ]
  },
  {
   "cell_type": "code",
   "execution_count": 46,
   "metadata": {},
   "outputs": [],
   "source": [
    "def executePeerCmd(pod_name,cmd, cli='scray-peer-cli'):\n",
    "    try:  \n",
    "        #cmd1 = \"source /root/.bashrc && \"\n",
    "        cmd1 = ['/home/jovyan/work/usr/bin/kubectl', 'exec','-t', pod_name, '-c', cli,'--', '/bin/sh','-c',cmd]\n",
    "        #cmd1 = ['/home/jovyan/work/usr/bin/kubectl', 'exec','-t', pod_name, '-c', cli,'--', '/bin/sh','-c'] + cmd\n",
    "        print(toCmd(cmd1))\n",
    "        output  = subprocess.check_output(cmd1)\n",
    "        #output  = subprocess.check_output(['/home/jovyan/work/usr/bin/kubectl', 'exec', '--stdin' ,'--tty', pod_name, '-c', cli,'--', '/bin/sh','-c',cmd])\n",
    "        return output.decode('ascii')\n",
    "    except Exception as e:\n",
    "        return str(e)"
   ]
  },
  {
   "cell_type": "code",
   "execution_count": 47,
   "metadata": {},
   "outputs": [],
   "source": [
    "import kubernetesTool\n",
    "\n",
    "class kubernetespeer:\n",
    "    def __init__(self, name='',prefix='peer'):\n",
    "        self.name = name\n",
    "        self.pod_name = kubernetesTool.getPod(name)\n",
    "        self.listen_port = kubernetesTool.getPort(peername=name, name = prefix + '-listen')\n",
    "        self.gossip_port = kubernetesTool.getPort(peername=name, name = prefix + '-gossip')\n",
    "        # ????????\n",
    "        #print('kubernetespeer addBashEnvToPeer')\n",
    "        #addBashEnvToPeer(self)\n",
    "    def getCertificate(self):\n",
    "        try:\n",
    "            return str(subprocess.check_output(['cat', self.crt]))[2:-3]   \n",
    "        except Exception as e:\n",
    "            return str(e)      \n",
    "        \n",
    "class ordererpeer(kubernetespeer):\n",
    "    def __init__(self, name='',prefix='peer'):\n",
    "        super().__init__(name,prefix)\n",
    "        self.host = 'orderer.example.com'\n",
    "        self.orderer_intern = 7050\n",
    "        \n",
    "    # can change\n",
    "    def get_ip(self, app='orderer-org1-scray-org'):\n",
    "        return executeKubectlCmd(['get', 'pods','-l', 'app=' + app,'-o','jsonpath=\\'{.items[*].status.podIP}\\''])   \n",
    "    "
   ]
  },
  {
   "cell_type": "code",
   "execution_count": 48,
   "metadata": {},
   "outputs": [],
   "source": [
    "def toCmd(strlist):\n",
    "    return ''.join((str(e) + ' ') for e in strlist)[:-1]\n",
    "\n",
    "\n",
    "#!/home/jovyan/work/usr/bin/kubectl exec --stdin --tty $POD_NAME  -c scray-peer-cli -- /bin/sh /mnt/conf/peer_join.sh $ORDERER_IP  $ORDERER_HOSTNAME $CHANNEL_NAME         \n",
    "def joinHyperledger(peer,orderer_ip,orderer_hostname,orderer_port,channel_name,shared_fs_host,ext_peer_ip='10.15.136.41'):          \n",
    "    cmd = toCmd(['/mnt/conf/peer_join.sh', orderer_ip,orderer_hostname,orderer_port,channel_name,shared_fs_host,ext_peer_ip])\n",
    "    print(cmd)\n",
    "    return executePeerCmd(peer.pod_name, cmd)\n",
    "\n",
    "def endorse_peer(peer=None, orderer_ip='',channel_name='',shared_fs_host='',ext_peer_ip='10.15.136.41'):\n",
    "    print(peer.name)\n",
    "    peername = peer.name\n",
    "    peer_host_name = peername + '.kubernetes.research.dev.seeburger.de'\n",
    "    cmd = toCmd(['/mnt/conf/orderer/scripts/inform_existing_nodes.sh',orderer_ip,channel_name,peer.name,shared_fs_host,ext_peer_ip,peer_host_name]) \n",
    "    #print(cmd)\n",
    "    return executePeerCmd(orderer.pod_name,cmd,cli='scray-orderer-cli')\n",
    "\n",
    "def add_channel(name):\n",
    "    cmd1 = ['/mnt/conf/orderer/scripts/create_channel.sh', name, 'orderer.example.com', '7050']\n",
    "    cmd = toCmd(cmd1)\n",
    "    return executePeerCmd(orderer.pod_name, cmd1, cli='scray-orderer-cli')"
   ]
  },
  {
   "cell_type": "markdown",
   "metadata": {},
   "source": [
    "## check status peers"
   ]
  },
  {
   "cell_type": "code",
   "execution_count": 107,
   "metadata": {},
   "outputs": [
    {
     "name": "stdout",
     "output_type": "stream",
     "text": [
      "{'app': 'hl-fabric-data-share', 'pod-template-hash': '6849487f76'} Running\n",
      "{'app': 'invoice-chaincode-external', 'pod-template-hash': '847cd44954'} Running\n",
      "{'app': 'lalya-0', 'pod-template-hash': '7c887cffb8'} Running\n",
      "{'app': 'lalya-1', 'pod-template-hash': '7c76dff8c'} Running\n",
      "{'app': 'lalya-2', 'pod-template-hash': '5f8b45dbc4'} Running\n",
      "{'app': 'orderer-org1-scray-org', 'pod-template-hash': '9dbd9fc68'} Running\n",
      "{'app': 'peer48', 'pod-template-hash': '57445d5f7b'} Running\n"
     ]
    }
   ],
   "source": [
    "from kubernetesTool import executeKubectlCmd\n",
    "_res = executeKubectlCmd(['get', 'pods', '-o', 'json'], decode='json')\n",
    "\n",
    "for item in _res['items']:\n",
    "    labels=item['metadata']['labels']\n",
    "    #status=item['status']['initContainerStatuses'][0]\n",
    "    #print(labels,status['state'],status['restartCount'],status['name'],status['ready'])\n",
    "    print(labels,item['status']['phase'])\n",
    "    #print(labels)"
   ]
  },
  {
   "cell_type": "code",
   "execution_count": 74,
   "metadata": {},
   "outputs": [
    {
     "data": {
      "text/plain": [
       "'Running'"
      ]
     },
     "execution_count": 74,
     "metadata": {},
     "output_type": "execute_result"
    }
   ],
   "source": [
    "_res['items'][3]['metadata']['labels']\n",
    "_res['items'][0]['status']['phase']"
   ]
  },
  {
   "cell_type": "markdown",
   "metadata": {},
   "source": [
    "## create peers"
   ]
  },
  {
   "cell_type": "code",
   "execution_count": 49,
   "metadata": {},
   "outputs": [],
   "source": [
    "peers = {}"
   ]
  },
  {
   "cell_type": "code",
   "execution_count": 78,
   "metadata": {},
   "outputs": [
    {
     "data": {
      "text/plain": [
       "{'lalya-0': <__main__.kubernetespeer at 0x7f7dac574640>,\n",
       " 'lalya-1': <__main__.kubernetespeer at 0x7f7dac536700>,\n",
       " 'lalya-2': <__main__.kubernetespeer at 0x7f7dac536730>}"
      ]
     },
     "execution_count": 78,
     "metadata": {},
     "output_type": "execute_result"
    }
   ],
   "source": [
    "peers"
   ]
  },
  {
   "cell_type": "code",
   "execution_count": 81,
   "metadata": {},
   "outputs": [],
   "source": [
    "orderer = ordererpeer(name='orderer-org1-scray-org',prefix='orderer')"
   ]
  },
  {
   "cell_type": "code",
   "execution_count": 51,
   "metadata": {},
   "outputs": [],
   "source": [
    "createPeers('lalya',start=0, end=3)"
   ]
  },
  {
   "cell_type": "code",
   "execution_count": null,
   "metadata": {},
   "outputs": [],
   "source": [
    "orderer.__dict__"
   ]
  },
  {
   "cell_type": "code",
   "execution_count": null,
   "metadata": {},
   "outputs": [],
   "source": [
    "kubectl exec --stdin --tty $ORDERER_POD -c scray-orderer-cli  -- /bin/sh /mnt/conf/orderer/scripts/inform_existing_nodes.sh $ORDERER_IP $CHANNEL_NAME $PEER_NAME $SHARED_FS_HOST $EXT_PEER_IP $PEER_HOST_NAME"
   ]
  },
  {
   "cell_type": "code",
   "execution_count": null,
   "metadata": {},
   "outputs": [],
   "source": [
    "EER_POD_NAME=$(kubectl get pod -l app=$PEER_NAME -o jsonpath=\"{.items[0].metadata.name}\")\n",
    " ORDERER_PORT=$(kubectl get service orderer-org1-scray-org -o jsonpath=\"{.spec.ports[?(@.name=='orderer-listen')].nodePort}\")\n",
    " ORDERER_PORT=7050\n",
    " PEER_PORT=$(kubectl get service $PEER_NAME -o jsonpath=\"{.spec.ports[?(@.name=='peer-listen')].nodePort}\")\n",
    " kubectl exec --stdin --tty $PEER_POD_NAME  -c scray-peer-cli -- /bin/sh /mnt/conf/peer_join.sh $ORDERER_IP  $ORDERER_HOSTNAME $ORDERER_PORT $CHANNEL_NAME $SHARED_FS_HOST $EXT_PEER_IP"
   ]
  },
  {
   "cell_type": "code",
   "execution_count": null,
   "metadata": {},
   "outputs": [],
   "source": []
  },
  {
   "cell_type": "code",
   "execution_count": 99,
   "metadata": {},
   "outputs": [
    {
     "name": "stdout",
     "output_type": "stream",
     "text": [
      "lalya-0\n",
      "/home/jovyan/work/usr/bin/kubectl exec -t orderer-org1-scray-org-9dbd9fc68-5lrgq -c scray-orderer-cli -- /bin/sh -c /mnt/conf/orderer/scripts/inform_existing_nodes.sh '10.32.0.5' super43 lalya-0 10.14.128.38:30080 10.15.136.41 lalya-0.kubernetes.research.dev.seeburger.de\n"
     ]
    },
    {
     "name": "stderr",
     "output_type": "stream",
     "text": [
      "\u001b[34m2021-10-07 07:55:57.873 UTC [channelCmd] InitCmdFactory -> INFO 001\u001b[0m Endorser and orderer connections initialized\n",
      "\u001b[34m2021-10-07 07:55:57.899 UTC [cli.common] readBlock -> INFO 002\u001b[0m Received block: 3\n",
      "\u001b[34m2021-10-07 07:55:57.900 UTC [channelCmd] fetch -> INFO 003\u001b[0m Retrieving last config block: 3\n",
      "\u001b[34m2021-10-07 07:55:57.919 UTC [cli.common] readBlock -> INFO 004\u001b[0m Received block: 3\n",
      "  % Total    % Received % Xferd  Average Speed   Time    Time     Time  Current\n",
      "                                 Dload  Upload   Total   Spent    Left  Speed\n",
      "100   237  100   237    0     0  10304      0 --:--:-- --:--:-- --:--:-- 10304\n",
      "  % Total    % Received % Xferd  Average Speed   Time    Time     Time  Current\n",
      "                                 Dload  Upload   Total   Spent    Left  Speed\n",
      "100   847    0     0  100   847      0  44578 --:--:-- --:--:-- --:--:-- 44578\n",
      "  % Total    % Received % Xferd  Average Speed   Time    Time     Time  Current\n",
      "                                 Dload  Upload   Total   Spent    Left  Speed\n",
      "100 11523  100 11523    0     0   375k      0 --:--:-- --:--:-- --:--:--  375k\n",
      "configtxlator: error: Error computing update: error computing config update: no differences detected between original and updated config\n",
      "\u001b[34m2021-10-07 07:55:58.721 UTC [channelCmd] InitCmdFactory -> INFO 001\u001b[0m Endorser and orderer connections initialized\n",
      "\u001b[34m2021-10-07 07:55:58.767 UTC [channelCmd] InitCmdFactory -> INFO 001\u001b[0m Endorser and orderer connections initialized\n",
      "Error: got unexpected status: BAD_REQUEST -- error applying config update to existing channel 'super43': error authorizing update: ConfigUpdate for channel '' but envelope for channel 'super43'\n",
      "command terminated with exit code 1\n"
     ]
    },
    {
     "name": "stdout",
     "output_type": "stream",
     "text": [
      "/mnt/conf/peer_join.sh '10.32.0.5' orderer.example.com 30081 super43 10.14.128.38:30080 10.15.136.41\n",
      "/home/jovyan/work/usr/bin/kubectl exec -t lalya-0-7c887cffb8-fpw7h -c scray-peer-cli -- /bin/sh -c /mnt/conf/peer_join.sh '10.32.0.5' orderer.example.com 30081 super43 10.14.128.38:30080 10.15.136.41\n"
     ]
    },
    {
     "name": "stderr",
     "output_type": "stream",
     "text": [
      "  % Total    % Received % Xferd  Average Speed   Time    Time     Time  Current\n",
      "                                 Dload  Upload   Total   Spent    Left  Speed\n",
      "100   847  100   847    0     0   103k      0 --:--:-- --:--:-- --:--:--  103k\n",
      "\u001b[34m2021-10-07 07:55:59.552 UTC [channelCmd] InitCmdFactory -> INFO 001\u001b[0m Endorser and orderer connections initialized\n",
      "\u001b[34m2021-10-07 07:55:59.563 UTC [cli.common] readBlock -> INFO 002\u001b[0m Received block: 0\n",
      "\u001b[34m2021-10-07 07:55:59.631 UTC [channelCmd] InitCmdFactory -> INFO 001\u001b[0m Endorser and orderer connections initialized\n",
      "\u001b[34m2021-10-07 07:55:59.819 UTC [channelCmd] executeJoin -> INFO 002\u001b[0m Successfully submitted proposal to join channel\n"
     ]
    },
    {
     "name": "stdout",
     "output_type": "stream",
     "text": [
      "lalya-1\n",
      "/home/jovyan/work/usr/bin/kubectl exec -t orderer-org1-scray-org-9dbd9fc68-5lrgq -c scray-orderer-cli -- /bin/sh -c /mnt/conf/orderer/scripts/inform_existing_nodes.sh '10.32.0.5' super43 lalya-1 10.14.128.38:30080 10.15.136.41 lalya-1.kubernetes.research.dev.seeburger.de\n"
     ]
    },
    {
     "name": "stderr",
     "output_type": "stream",
     "text": [
      "\u001b[34m2021-10-07 07:56:00.175 UTC [channelCmd] InitCmdFactory -> INFO 001\u001b[0m Endorser and orderer connections initialized\n",
      "\u001b[34m2021-10-07 07:56:00.194 UTC [cli.common] readBlock -> INFO 002\u001b[0m Received block: 3\n",
      "\u001b[34m2021-10-07 07:56:00.195 UTC [channelCmd] fetch -> INFO 003\u001b[0m Retrieving last config block: 3\n",
      "\u001b[34m2021-10-07 07:56:00.200 UTC [cli.common] readBlock -> INFO 004\u001b[0m Received block: 3\n",
      "  % Total    % Received % Xferd  Average Speed   Time    Time     Time  Current\n",
      "                                 Dload  Upload   Total   Spent    Left  Speed\n",
      "100   237  100   237    0     0  79000      0 --:--:-- --:--:-- --:--:-- 79000\n",
      "  % Total    % Received % Xferd  Average Speed   Time    Time     Time  Current\n",
      "                                 Dload  Upload   Total   Spent    Left  Speed\n",
      "100   847    0     0  100   847      0   137k --:--:-- --:--:-- --:--:--  137k\n",
      "  % Total    % Received % Xferd  Average Speed   Time    Time     Time  Current\n",
      "                                 Dload  Upload   Total   Spent    Left  Speed\n",
      "100 11523  100 11523    0     0  2813k      0 --:--:-- --:--:-- --:--:-- 2813k\n",
      "configtxlator: error: Error computing update: error computing config update: no differences detected between original and updated config\n",
      "\u001b[34m2021-10-07 07:56:00.906 UTC [channelCmd] InitCmdFactory -> INFO 001\u001b[0m Endorser and orderer connections initialized\n",
      "\u001b[34m2021-10-07 07:56:00.958 UTC [channelCmd] InitCmdFactory -> INFO 001\u001b[0m Endorser and orderer connections initialized\n",
      "Error: got unexpected status: BAD_REQUEST -- error applying config update to existing channel 'super43': error authorizing update: ConfigUpdate for channel '' but envelope for channel 'super43'\n",
      "command terminated with exit code 1\n"
     ]
    },
    {
     "name": "stdout",
     "output_type": "stream",
     "text": [
      "/mnt/conf/peer_join.sh '10.32.0.5' orderer.example.com 30081 super43 10.14.128.38:30080 10.15.136.41\n",
      "/home/jovyan/work/usr/bin/kubectl exec -t lalya-1-7c76dff8c-pzx78 -c scray-peer-cli -- /bin/sh -c /mnt/conf/peer_join.sh '10.32.0.5' orderer.example.com 30081 super43 10.14.128.38:30080 10.15.136.41\n"
     ]
    },
    {
     "name": "stderr",
     "output_type": "stream",
     "text": [
      "  % Total    % Received % Xferd  Average Speed   Time    Time     Time  Current\n",
      "                                 Dload  Upload   Total   Spent    Left  Speed\n",
      "100   847  100   847    0     0   103k      0 --:--:-- --:--:-- --:--:--  103k\n",
      "\u001b[34m2021-10-07 07:56:01.762 UTC [channelCmd] InitCmdFactory -> INFO 001\u001b[0m Endorser and orderer connections initialized\n",
      "\u001b[34m2021-10-07 07:56:01.771 UTC [cli.common] readBlock -> INFO 002\u001b[0m Received block: 0\n",
      "\u001b[34m2021-10-07 07:56:01.852 UTC [channelCmd] InitCmdFactory -> INFO 001\u001b[0m Endorser and orderer connections initialized\n",
      "\u001b[34m2021-10-07 07:56:01.971 UTC [channelCmd] executeJoin -> INFO 002\u001b[0m Successfully submitted proposal to join channel\n"
     ]
    },
    {
     "name": "stdout",
     "output_type": "stream",
     "text": [
      "lalya-2\n",
      "/home/jovyan/work/usr/bin/kubectl exec -t orderer-org1-scray-org-9dbd9fc68-5lrgq -c scray-orderer-cli -- /bin/sh -c /mnt/conf/orderer/scripts/inform_existing_nodes.sh '10.32.0.5' super43 lalya-2 10.14.128.38:30080 10.15.136.41 lalya-2.kubernetes.research.dev.seeburger.de\n"
     ]
    },
    {
     "name": "stderr",
     "output_type": "stream",
     "text": [
      "\u001b[34m2021-10-07 07:56:02.337 UTC [channelCmd] InitCmdFactory -> INFO 001\u001b[0m Endorser and orderer connections initialized\n",
      "\u001b[34m2021-10-07 07:56:02.349 UTC [cli.common] readBlock -> INFO 002\u001b[0m Received block: 3\n",
      "\u001b[34m2021-10-07 07:56:02.349 UTC [channelCmd] fetch -> INFO 003\u001b[0m Retrieving last config block: 3\n",
      "\u001b[34m2021-10-07 07:56:02.356 UTC [cli.common] readBlock -> INFO 004\u001b[0m Received block: 3\n",
      "  % Total    % Received % Xferd  Average Speed   Time    Time     Time  Current\n",
      "                                 Dload  Upload   Total   Spent    Left  Speed\n",
      "100   237  100   237    0     0  59250      0 --:--:-- --:--:-- --:--:-- 59250\n",
      "  % Total    % Received % Xferd  Average Speed   Time    Time     Time  Current\n",
      "                                 Dload  Upload   Total   Spent    Left  Speed\n",
      "100   847    0     0  100   847      0   165k --:--:-- --:--:-- --:--:--  165k\n",
      "  % Total    % Received % Xferd  Average Speed   Time    Time     Time  Current\n",
      "                                 Dload  Upload   Total   Spent    Left  Speed\n",
      "100 11523  100 11523    0     0  2813k      0 --:--:-- --:--:-- --:--:-- 2813k\n",
      "configtxlator: error: Error computing update: error computing config update: no differences detected between original and updated config\n",
      "\u001b[34m2021-10-07 07:56:03.119 UTC [channelCmd] InitCmdFactory -> INFO 001\u001b[0m Endorser and orderer connections initialized\n",
      "\u001b[34m2021-10-07 07:56:03.171 UTC [channelCmd] InitCmdFactory -> INFO 001\u001b[0m Endorser and orderer connections initialized\n",
      "Error: got unexpected status: BAD_REQUEST -- error applying config update to existing channel 'super43': error authorizing update: ConfigUpdate for channel '' but envelope for channel 'super43'\n",
      "command terminated with exit code 1\n"
     ]
    },
    {
     "name": "stdout",
     "output_type": "stream",
     "text": [
      "/mnt/conf/peer_join.sh '10.32.0.5' orderer.example.com 30081 super43 10.14.128.38:30080 10.15.136.41\n",
      "/home/jovyan/work/usr/bin/kubectl exec -t lalya-2-5f8b45dbc4-52tt7 -c scray-peer-cli -- /bin/sh -c /mnt/conf/peer_join.sh '10.32.0.5' orderer.example.com 30081 super43 10.14.128.38:30080 10.15.136.41\n"
     ]
    },
    {
     "name": "stderr",
     "output_type": "stream",
     "text": [
      "  % Total    % Received % Xferd  Average Speed   Time    Time     Time  Current\n",
      "                                 Dload  Upload   Total   Spent    Left  Speed\n",
      "100   847  100   847    0     0   137k      0 --:--:-- --:--:-- --:--:--  137k\n",
      "\u001b[34m2021-10-07 07:56:03.977 UTC [channelCmd] InitCmdFactory -> INFO 001\u001b[0m Endorser and orderer connections initialized\n",
      "\u001b[34m2021-10-07 07:56:03.992 UTC [cli.common] readBlock -> INFO 002\u001b[0m Received block: 0\n",
      "\u001b[34m2021-10-07 07:56:04.051 UTC [channelCmd] InitCmdFactory -> INFO 001\u001b[0m Endorser and orderer connections initialized\n",
      "\u001b[34m2021-10-07 07:56:04.165 UTC [channelCmd] executeJoin -> INFO 002\u001b[0m Successfully submitted proposal to join channel\n"
     ]
    }
   ],
   "source": [
    "#orderer_ip=get_orderer_ip('orderer-org1-scray-org') \n",
    "#orderer_hostname='orderer.example.com'\n",
    "#orderer_port='7050'\n",
    "\n",
    "orderer_ip=orderer.get_ip()\n",
    "orderer_hostname=orderer.host\n",
    "#orderer_port=orderer.orderer_intern\n",
    "orderer_port= orderer.listen_port\n",
    "\n",
    "channel_name='super43'\n",
    "shared_fs_host='10.14.128.38:30080'\n",
    "    \n",
    "def endorse_and_join(peer):    \n",
    "    res1 = endorse_peer(peer=peer,orderer_ip=orderer_ip,channel_name=channel_name,shared_fs_host='10.14.128.38:30080')   \n",
    "    res2  = joinHyperledger(peer,orderer_ip,orderer_hostname,orderer_port,channel_name,shared_fs_host)\n",
    "    return res1,res2\n",
    "\n",
    "for key, value in peers.items():\n",
    "    endorse_and_join(value)"
   ]
  },
  {
   "cell_type": "code",
   "execution_count": null,
   "metadata": {},
   "outputs": [],
   "source": [
    "!/home/jovyan/work/usr/bin/kubectl exec -t orderer-org1-scray-org-5f97c57d44-j5mbs -c scray-orderer-cli -- /bin/sh -c /mnt/conf/orderer/scripts/inform_existing_nodes.sh '10.32.0.5' super40 kalya-0 10.14.128.38:30080 10.15.136.41 kalya-0.kubernetes.research.dev.seeburger.de"
   ]
  },
  {
   "cell_type": "code",
   "execution_count": null,
   "metadata": {},
   "outputs": [],
   "source": [
    "type(peers)"
   ]
  },
  {
   "cell_type": "markdown",
   "metadata": {},
   "source": [
    "## install chaincode"
   ]
  },
  {
   "cell_type": "code",
   "execution_count": 94,
   "metadata": {},
   "outputs": [
    {
     "data": {
      "text/plain": [
       "{'name': 'orderer-org1-scray-org',\n",
       " 'pod_name': 'orderer-org1-scray-org-9dbd9fc68-5lrgq',\n",
       " 'listen_port': '30081',\n",
       " 'gossip_port': '',\n",
       " 'host': 'orderer.example.com',\n",
       " 'orderer_intern': 7050}"
      ]
     },
     "execution_count": 94,
     "metadata": {},
     "output_type": "execute_result"
    }
   ],
   "source": [
    "channel_name\n",
    "orderer.__dict__"
   ]
  },
  {
   "cell_type": "code",
   "execution_count": 100,
   "metadata": {},
   "outputs": [
    {
     "name": "stdout",
     "output_type": "stream",
     "text": [
      "/home/jovyan/work/usr/bin/kubectl exec -t lalya-0-7c887cffb8-fpw7h -c scray-peer-cli -- /bin/sh -c /mnt/conf/install_and_approve_cc.sh 10.14.128.38 '10.32.0.5' orderer.example.com 30081 super43\n"
     ]
    },
    {
     "name": "stderr",
     "output_type": "stream",
     "text": [
      "  % Total    % Received % Xferd  Average Speed   Time    Time     Time  Current\n",
      "                                 Dload  Upload   Total   Spent    Left  Speed\n",
      "100   450  100   450    0     0   6081      0 --:--:-- --:--:-- --:--:--  6081\n",
      "Error: chaincode install failed with status: 500 - failed to invoke backing implementation of 'InstallChaincode': chaincode already successfully installed\n",
      "\u001b[34m2021-10-07 07:56:32.992 UTC [chaincodeCmd] ClientWait -> INFO 001\u001b[0m txid [663ae957435c3928f4673b317fd44928a73dc53ca00e49f49c235a7357439396] committed with status (VALID) at peer0.lalya-0.kubernetes.research.dev.seeburger.de:30700\n"
     ]
    },
    {
     "name": "stdout",
     "output_type": "stream",
     "text": [
      "/home/jovyan/work/usr/bin/kubectl exec -t lalya-1-7c76dff8c-pzx78 -c scray-peer-cli -- /bin/sh -c /mnt/conf/install_and_approve_cc.sh 10.14.128.38 '10.32.0.5' orderer.example.com 30081 super43\n"
     ]
    },
    {
     "name": "stderr",
     "output_type": "stream",
     "text": [
      "  % Total    % Received % Xferd  Average Speed   Time    Time     Time  Current\n",
      "                                 Dload  Upload   Total   Spent    Left  Speed\n",
      "100   450  100   450    0     0   6521      0 --:--:-- --:--:-- --:--:--  6521\n",
      "Error: chaincode install failed with status: 500 - failed to invoke backing implementation of 'InstallChaincode': chaincode already successfully installed\n",
      "\u001b[34m2021-10-07 07:56:35.983 UTC [chaincodeCmd] ClientWait -> INFO 001\u001b[0m txid [42d14bc33c7343a67aff03cf2c57cee6ba6713585ecf92ce7d7f23cd30e55e13] committed with status (VALID) at peer0.lalya-1.kubernetes.research.dev.seeburger.de:32294\n"
     ]
    },
    {
     "name": "stdout",
     "output_type": "stream",
     "text": [
      "/home/jovyan/work/usr/bin/kubectl exec -t lalya-2-5f8b45dbc4-52tt7 -c scray-peer-cli -- /bin/sh -c /mnt/conf/install_and_approve_cc.sh 10.14.128.38 '10.32.0.5' orderer.example.com 30081 super43\n"
     ]
    },
    {
     "name": "stderr",
     "output_type": "stream",
     "text": [
      "  % Total    % Received % Xferd  Average Speed   Time    Time     Time  Current\n",
      "                                 Dload  Upload   Total   Spent    Left  Speed\n",
      "100   450  100   450    0     0   7142      0 --:--:-- --:--:-- --:--:--  7142\n",
      "Error: chaincode install failed with status: 500 - failed to invoke backing implementation of 'InstallChaincode': chaincode already successfully installed\n",
      "\u001b[34m2021-10-07 07:56:38.818 UTC [chaincodeCmd] ClientWait -> INFO 001\u001b[0m txid [37653ed57eeeae1fa4b83ce55ce4f8bc8cd2b5e6ccfb471d239df6307752b6d7] committed with status (VALID) at peer0.lalya-2.kubernetes.research.dev.seeburger.de:30851\n"
     ]
    }
   ],
   "source": [
    "#cc_host chaincode host\n",
    "def installAndAproveChaincode(peer,orderer,channel_name,cc_host='10.14.128.38'):\n",
    "    #!/home/jovyan/work/usr/bin/kubectl exec --stdin --tty $POD_NAME -c scray-peer-cli -- /bin/sh /mnt/conf/install_and_approve_cc.sh $IP_CC_SERVICE $IP_OF_EXAMPLE_NETWORK\n",
    "    #strlist = ['/mnt/conf/install_and_approve_cc.sh', cc_host, orderer.get_ip(), orderer.host, str(orderer.orderer_intern), channel_name ]\n",
    "    strlist = ['/mnt/conf/install_and_approve_cc.sh', cc_host, orderer.get_ip(), orderer.host, str(orderer.listen_port), channel_name ]\n",
    "    return executePeerCmd(peer.pod_name,toCmd(strlist)) \n",
    "     \n",
    "for key, peer in peers.items():\n",
    "    installAndAproveChaincode(peer,orderer,channel_name)"
   ]
  },
  {
   "cell_type": "code",
   "execution_count": 101,
   "metadata": {},
   "outputs": [
    {
     "name": "stdout",
     "output_type": "stream",
     "text": [
      "/home/jovyan/work/usr/bin/kubectl exec -t lalya-0-7c887cffb8-fpw7h -c scray-peer-cli -- /bin/sh -c /mnt/conf/peer/cc_commit.sh super43\n"
     ]
    },
    {
     "name": "stderr",
     "output_type": "stream",
     "text": [
      "\u001b[34m2021-10-07 07:57:09.677 UTC [chaincodeCmd] ClientWait -> INFO 001\u001b[0m txid [782c14433b3559febd81e46c921fe1fbcb24a5dda8f240bbbceb223bf52a017f] committed with status (VALID) at peer0.lalya-0.kubernetes.research.dev.seeburger.de:30700\n"
     ]
    },
    {
     "data": {
      "text/plain": [
       "\"Installed chaincode\\nInstalled chaincodes on peer:\\nPackage ID: basic_1.0:5a294a12a1a89cd4eed3d4234fbc79f42eab2ac20cd176bc8ebbc07c597cd0ee, Label: basic_1.0\\nChaincode definition for chaincode 'basic', version '1.0', sequence '1' on channel 'super43' approval status by org:\\nAdminOrgMSP: false\\nlalya-0MSP: true\\nlalya-1MSP: true\\nlalya-2MSP: true\\n\""
      ]
     },
     "execution_count": 101,
     "metadata": {},
     "output_type": "execute_result"
    }
   ],
   "source": [
    "def commitChaincode(peer,channel_name):\n",
    "    strlist = ['/mnt/conf/peer/cc_commit.sh', channel_name ]\n",
    "    return executePeerCmd(peer.pod_name,toCmd(strlist)) \n",
    "\n",
    "peer = list(peers.values())[0]\n",
    "commitChaincode(peer,channel_name)"
   ]
  },
  {
   "cell_type": "code",
   "execution_count": 105,
   "metadata": {},
   "outputs": [
    {
     "data": {
      "text/plain": [
       "('lalya-0', 'super43')"
      ]
     },
     "execution_count": 105,
     "metadata": {},
     "output_type": "execute_result"
    }
   ],
   "source": [
    "peer.name, channel_name"
   ]
  },
  {
   "cell_type": "code",
   "execution_count": 106,
   "metadata": {},
   "outputs": [
    {
     "name": "stdout",
     "output_type": "stream",
     "text": [
      "Error: endorsement failure during invoke. response: status:500 message:\"error in simulation: failed to execute transaction 42d0040afd7a8c8a129f481f503bb8828b87eceed4a967b663d8c0f4e3a017fe: could not launch chaincode basic_1.0:5a294a12a1a89cd4eed3d4234fbc79f42eab2ac20cd176bc8ebbc07c597cd0ee: connection to basic_1.0:5a294a12a1a89cd4eed3d4234fbc79f42eab2ac20cd176bc8ebbc07c597cd0ee failed: error cannot create connection for basic_1.0:5a294a12a1a89cd4eed3d4234fbc79f42eab2ac20cd176bc8ebbc07c597cd0ee: error creating grpc connection to asset-transfer-basic.org1.example.com:30999: failed to create new connection: connection error: desc = \\\"transport: error while dialing: dial tcp 10.14.128.38:30999: connect: connection refused\\\"\" \n",
      "Error: endorsement failure during query. response: status:500 message:\"error in simulation: failed to execute transaction 6baa63b319b0947a9c9d3f3c748efc7ac1681b5c6330dd441a0258232e2a59e6: could not launch chaincode basic_1.0:5a294a12a1a89cd4eed3d4234fbc79f42eab2ac20cd176bc8ebbc07c597cd0ee: connection to basic_1.0:5a294a12a1a89cd4eed3d4234fbc79f42eab2ac20cd176bc8ebbc07c597cd0ee failed: error cannot create connection for basic_1.0:5a294a12a1a89cd4eed3d4234fbc79f42eab2ac20cd176bc8ebbc07c597cd0ee: error creating grpc connection to asset-transfer-basic.org1.example.com:30999: failed to create new connection: connection error: desc = \\\"transport: error while dialing: dial tcp 10.14.128.38:30999: connect: connection refused\\\"\" \n",
      "command terminated with exit code 1\n"
     ]
    }
   ],
   "source": [
    "!/home/jovyan/work/usr/bin/kubectl exec --stdin --tty lalya-0-7c887cffb8-fpw7h -c scray-peer-cli -- /bin/sh /mnt/conf/peer/cc-basic-interaction.sh  super43"
   ]
  },
  {
   "cell_type": "code",
   "execution_count": 108,
   "metadata": {},
   "outputs": [
    {
     "name": "stdout",
     "output_type": "stream",
     "text": [
      "/home/jovyan/work/usr/bin/kubectl exec -t lalya-0-7c887cffb8-fpw7h -c scray-peer-cli -- /bin/sh -c /mnt/conf/peer/cc-basic-interaction.sh super43\n"
     ]
    },
    {
     "name": "stderr",
     "output_type": "stream",
     "text": [
      "\u001b[34m2021-10-07 09:08:07.889 UTC [chaincodeCmd] chaincodeInvokeOrQuery -> INFO 001\u001b[0m Chaincode invoke successful. result: status:200 \n"
     ]
    },
    {
     "data": {
      "text/plain": [
       "'[{\"Key\":\"invoice1\",\"Record\":{\"ID\":\"invoice1\",\"InvoiceOwner\":\"x509::CN=User1@lalya-0.kubernetes.research.dev.seeburger.de,OU=client,L=Bretten,ST=Baden,C=DE::CN=ca.lalya-0.kubernetes.research.dev.seeburger.de,O=lalya-0.kubernetes.research.dev.seeburger.de,L=Bretten,ST=Baden,C=DE\",\"ProductByer\":\"x509::CN=User1@lalya-0.kubernetes.research.dev.seeburger.de,OU=client,L=Bretten,ST=Baden,C=DE::CN=ca.lalya-0.kubernetes.research.dev.seeburger.de,O=lalya-0.kubernetes.research.dev.seeburger.de,L=Bretten,ST=Baden,C=DE\"}}]\\n'"
      ]
     },
     "execution_count": 108,
     "metadata": {},
     "output_type": "execute_result"
    }
   ],
   "source": [
    "#Call init method in chaincode\n",
    "def chaincode_init(peer,channel_name):\n",
    "    strlist = ['/mnt/conf/peer/cc-basic-interaction.sh', channel_name ]\n",
    "    return executePeerCmd(peer.pod_name,toCmd(strlist)) \n",
    "\n",
    "chaincode_init(peer,channel_name)"
   ]
  },
  {
   "cell_type": "code",
   "execution_count": null,
   "metadata": {},
   "outputs": [],
   "source": [
    "CHANNEL_NAME=mychannel\n",
    "#ORDERER_NAME=orderer.example.com\n",
    "IP_CC_SERVICE=10.14.128.38         # Host where the chaincode is running\n",
    "#PEER_POD=$(kubectl get pod -l app=$PEER_NAME -o jsonpath=\"{.items[0].metadata.name}\")\n",
    "#ORDERER_IP=$(kubectl get pods  -l app=orderer-org1-scray-org -o jsonpath='{.items[*].status.podIP}')\n",
    "#ORDERER_LISTEN_PORT=$(kubectl get service orderer-org1-scray-org -o jsonpath=\"{.spec.ports[?(@.name=='orderer-listen')].nodePort}\")\n",
    "#ORDERER_HOST=orderer.example.com\n",
    "EXT_PEER_IP=10.14.128.38\n",
    "\n",
    "ORDERER_PORT=$(kubectl get service orderer-org1-scray-org -o jsonpath=\"{.spec.ports[?(@.name=='orderer-listen')].nodePort}\")\n",
    "ORDERER_PORT=7050\n",
    "ORDERER_IP=$(kubectl get pods  -l app=orderer-org1-scray-org -o jsonpath='{.items[*].status.podIP}')\n",
    "\n",
    "kubectl exec --stdin --tty $PEER_POD -c scray-peer-cli -- /bin/sh /mnt/conf/install_and_approve_cc.sh $IP_CC_SERVICE $ORDERER_IP $ORDERER_HOST $ORDERER_PORT $CHANNEL_NAME "
   ]
  },
  {
   "cell_type": "code",
   "execution_count": null,
   "metadata": {},
   "outputs": [],
   "source": [
    "#peers.keys()\n",
    "#[elem for elem in peers.values()]\n",
    "list(peers.values())[0].__dict__"
   ]
  },
  {
   "cell_type": "markdown",
   "metadata": {},
   "source": [
    "## invoice usecase"
   ]
  },
  {
   "cell_type": "code",
   "execution_count": 123,
   "metadata": {},
   "outputs": [
    {
     "name": "stdout",
     "output_type": "stream",
     "text": [
      "/mnt/conf/peer/add-invoice.sh super43 046 x509::CN=User1@lalya-1.kubernetes.research.dev.seeburger.de,OU=client,L=Bretten,ST=Baden,C=DE::CN=ca.lalya-1.kubernetes.research.dev.seeburger.de,O=lalya-1.kubernetes.research.dev.seeburger.de,L=Bretten,ST=Baden,C=DE\n",
      "/home/jovyan/work/usr/bin/kubectl exec -t lalya-0-7c887cffb8-fpw7h -c scray-peer-cli -- /bin/sh -c /mnt/conf/peer/add-invoice.sh super43 046 x509::CN=User1@lalya-1.kubernetes.research.dev.seeburger.de,OU=client,L=Bretten,ST=Baden,C=DE::CN=ca.lalya-1.kubernetes.research.dev.seeburger.de,O=lalya-1.kubernetes.research.dev.seeburger.de,L=Bretten,ST=Baden,C=DE\n"
     ]
    },
    {
     "name": "stderr",
     "output_type": "stream",
     "text": [
      "\u001b[34m2021-10-07 10:24:09.284 UTC [chaincodeCmd] chaincodeInvokeOrQuery -> INFO 001\u001b[0m Chaincode invoke successful. result: status:200 \n"
     ]
    },
    {
     "data": {
      "text/plain": [
       "''"
      ]
     },
     "execution_count": 123,
     "metadata": {},
     "output_type": "execute_result"
    }
   ],
   "source": [
    "#kubectl exec --stdin --tty $PEER_POD -c scray-peer-cli -- /bin/sh /mnt/conf/peer/add-invoice.sh  $CHANNEL_NAME $INVOICE_ID\n",
    "\n",
    "def get_certificate_string(peername):\n",
    "    return 'x509::CN=User1@' + peername + '.kubernetes.research.dev.seeburger.de,OU=client,L=Bretten,ST=Baden,C=DE::CN=ca.' + peername + '.kubernetes.research.dev.seeburger.de,O=' + peername + '.kubernetes.research.dev.seeburger.de,L=Bretten,ST=Baden,C=DE'\n",
    "    #return 'x509::CN=User1@' + peername + '.kubernetes.research.dev.seeburger.de,OU=client,L=Bretten,ST=Baden,C=DE::CN=ca.' + peername + '.kubernetes.research.dev.seeburger.de,O=' + peername + '.kubernetes.research.dev.seeburger.de,L=Bretten,ST=Baden,C=DE,C=DEdx509::CN=User1@' + peername + '.kubernetes.research.dev.seeburger.de,OU=client,L=Bretten,ST=Baden,C=DE::CN=ca.' + peername + '.kubernetes.research.dev.seeburger.de,O=' + peername + '.kubernetes.research.dev.seeburger.de,L=Bretten,ST=Baden,C=DE'\n",
    "\n",
    "def chaincode_add_invoice(peer,channel_name,invoice_id,buyer):\n",
    "    strlist = ['/mnt/conf/peer/add-invoice.sh', channel_name,invoice_id,get_certificate_string(buyer)]\n",
    "    print(toCmd(strlist))\n",
    "    return executePeerCmd(peer.pod_name,toCmd(strlist)) \n",
    "\n",
    "pernames = list(peers.keys())\n",
    "chaincode_add_invoice(peers[pernames[0]],channel_name,'046',pernames[1])"
   ]
  },
  {
   "cell_type": "code",
   "execution_count": null,
   "metadata": {},
   "outputs": [],
   "source": [
    "!/home/jovyan/work/usr/bin/kubectl exec -t galya-0-6cc848b49-pv2dn -c scray-peer-cli -- /bin/sh /mnt/conf/peer/add-invoice.sh super13 006 x509::CN=User1@galya-1.kubernetes.research.dev.seeburger.de,OU=client,L=San Francisco,ST=California,C=US::CN=ca.galya-1.kubernetes.research.dev.seeburger.de,O=galya-1.kubernetes.research.dev.seeburger.de,L=San Francisco,ST=California,C=USdx509::CN=User1@galya-1.kubernetes.research.dev.seeburger.de,OU=client,L=San Francisco,ST=California,C=US::CN=ca.galya-1.kubernetes.research.dev.seeburger.de,O=galya-1.kubernetes.research.dev.seeburger.de,L=San Francisco,ST=California,C=US"
   ]
  },
  {
   "cell_type": "code",
   "execution_count": null,
   "metadata": {},
   "outputs": [],
   "source": [
    "get_certificate_string(pernames[1])\n",
    "\n",
    "#'x509::CN=User1@galya-1.kubernetes.research.dev.seeburger.de,OU=client,L=San Francisco,ST=California,C=US::CN=ca.galya-1.kubernetes.research.dev.seeburger.de,O=galya-1.kubernetes.research.dev.seeburger.de,L=San Francisco,ST=California,C=USdx509::CN=User1@galya-1.kubernetes.research.dev.seeburger.de,OU=client,L=San Francisco,ST=California,C=US::CN=ca.galya-1.kubernetes.research.dev.seeburger.de,O=galya-1.kubernetes.research.dev.seeburger.de,L=San Francisco,ST=California,C=US'\n",
    "\n",
    "#, 'x509::CN=User1@galya-1.kubernetes.research.dev.seeburger.de,OU=client,L=San Francisco,ST=California,C=US::CN=ca.galya-1.kubernetes.research.dev.seeburger.de,O=galya-1.kubernetes.research.dev.seeburger.de,L=San Francisco,ST=California,C=USdx509::CN=User1@galya-1.kubernetes.research.dev.seeburger.de,OU=client,L=San Francisco,ST=California,C=US::CN=ca.galya-1.kubernetes.research.dev.seeburger.de,O=galya-1.kubernetes.research.dev.seeburger.de,L=San Francisco,ST=California,C=US'"
   ]
  },
  {
   "cell_type": "code",
   "execution_count": 122,
   "metadata": {},
   "outputs": [
    {
     "name": "stdout",
     "output_type": "stream",
     "text": [
      "/home/jovyan/work/usr/bin/kubectl exec -t lalya-0-7c887cffb8-fpw7h -c scray-peer-cli -- /bin/sh -c /mnt/conf/peer/get-my-invoices.sh super43\n"
     ]
    },
    {
     "data": {
      "text/plain": [
       "'[{\"Key\":\"invoice1\",\"Record\":{\"ID\":\"invoice1\",\"InvoiceOwner\":\"x509::CN=User1@lalya-0.kubernetes.research.dev.seeburger.de,OU=client,L=Bretten,ST=Baden,C=DE::CN=ca.lalya-0.kubernetes.research.dev.seeburger.de,O=lalya-0.kubernetes.research.dev.seeburger.de,L=Bretten,ST=Baden,C=DE\",\"ProductByer\":\"x509::CN=User1@lalya-0.kubernetes.research.dev.seeburger.de,OU=client,L=Bretten,ST=Baden,C=DE::CN=ca.lalya-0.kubernetes.research.dev.seeburger.de,O=lalya-0.kubernetes.research.dev.seeburger.de,L=Bretten,ST=Baden,C=DE\"}}]\\n'"
      ]
     },
     "execution_count": 122,
     "metadata": {},
     "output_type": "execute_result"
    }
   ],
   "source": [
    "#kubectl exec --stdin --tty $PEER_POD -c scray-peer-cli -- /bin/sh /mnt/conf/peer/get-my-invoices.sh  $CHANNEL_NAME $INVOICE_ID\n",
    "def chaincode_read_invoice(peer,channel_name):\n",
    "    strlist = ['/mnt/conf/peer/get-my-invoices.sh', channel_name]\n",
    "    return executePeerCmd(peer.pod_name,toCmd(strlist)) \n",
    "chaincode_read_invoice(peers[pernames[0]],channel_name)"
   ]
  },
  {
   "cell_type": "code",
   "execution_count": 112,
   "metadata": {},
   "outputs": [
    {
     "name": "stdout",
     "output_type": "stream",
     "text": [
      "/mnt/conf/peer/transfer_invoice.sh super43 045 x509::CN=User1@lalya-2.kubernetes.research.dev.seeburger.de,OU=client,L=Bretten,ST=Baden,C=DE::CN=ca.lalya-2.kubernetes.research.dev.seeburger.de,O=lalya-2.kubernetes.research.dev.seeburger.de,L=Bretten,ST=Baden,C=DE\n",
      "/home/jovyan/work/usr/bin/kubectl exec -t lalya-0-7c887cffb8-fpw7h -c scray-peer-cli -- /bin/sh -c /mnt/conf/peer/transfer_invoice.sh super43 045 x509::CN=User1@lalya-2.kubernetes.research.dev.seeburger.de,OU=client,L=Bretten,ST=Baden,C=DE::CN=ca.lalya-2.kubernetes.research.dev.seeburger.de,O=lalya-2.kubernetes.research.dev.seeburger.de,L=Bretten,ST=Baden,C=DE\n"
     ]
    },
    {
     "name": "stderr",
     "output_type": "stream",
     "text": [
      "/bin/sh: /mnt/conf/peer/transfer_invoice.sh: Permission denied\n",
      "command terminated with exit code 126\n"
     ]
    },
    {
     "data": {
      "text/plain": [
       "\"Command '['/home/jovyan/work/usr/bin/kubectl', 'exec', '-t', 'lalya-0-7c887cffb8-fpw7h', '-c', 'scray-peer-cli', '--', '/bin/sh', '-c', '/mnt/conf/peer/transfer_invoice.sh super43 045 x509::CN=User1@lalya-2.kubernetes.research.dev.seeburger.de,OU=client,L=Bretten,ST=Baden,C=DE::CN=ca.lalya-2.kubernetes.research.dev.seeburger.de,O=lalya-2.kubernetes.research.dev.seeburger.de,L=Bretten,ST=Baden,C=DE']' returned non-zero exit status 126.\""
      ]
     },
     "execution_count": 112,
     "metadata": {},
     "output_type": "execute_result"
    }
   ],
   "source": [
    "def chaincode_transfer_invoice(peer,channel_name,invoice_id,new_owner):\n",
    "    strlist = ['/mnt/conf/peer/transfer_invoice.sh', channel_name,invoice_id,get_certificate_string(new_owner)]\n",
    "    print(toCmd(strlist))\n",
    "    return executePeerCmd(peer.pod_name,toCmd(strlist)) \n",
    "\n",
    "pernames = list(peers.keys())\n",
    "chaincode_transfer_invoice(peers[pernames[0]],channel_name,'045',pernames[2])"
   ]
  },
  {
   "cell_type": "code",
   "execution_count": 114,
   "metadata": {},
   "outputs": [
    {
     "data": {
      "text/plain": [
       "'x509::CN=User1@lalya-2.kubernetes.research.dev.seeburger.de,OU=client,L=Bretten,ST=Baden,C=DE::CN=ca.lalya-2.kubernetes.research.dev.seeburger.de,O=lalya-2.kubernetes.research.dev.seeburger.de,L=Bretten,ST=Baden,C=DE'"
      ]
     },
     "execution_count": 114,
     "metadata": {},
     "output_type": "execute_result"
    }
   ],
   "source": [
    "get_certificate_string(pernames[2])\n",
    "NEW_OWNER='x509::CN=User1@lalya-2.kubernetes.research.dev.seeburger.de,OU=client,L=Bretten,ST=Baden,C=DE::CN=ca.lalya-2.kubernetes.research.dev.seeburger.de,O=lalya-2.kubernetes.research.dev.seeburger.de,L=Bretten,ST=Baden,C=DE'\n",
    "kubectl exec --stdin --tty lalya-0-7c887cffb8-fpw7h -c scray-peer-cli -- /bin/sh /mnt/conf/peer/transfer_invoice.sh  super43 045 $NEW_OWNER"
   ]
  },
  {
   "cell_type": "code",
   "execution_count": 119,
   "metadata": {},
   "outputs": [
    {
     "data": {
      "text/plain": [
       "'lalya-0-7c887cffb8-fpw7h'"
      ]
     },
     "execution_count": 119,
     "metadata": {},
     "output_type": "execute_result"
    }
   ],
   "source": [
    "kubectl exec --stdin --tty 'lalya-0-7c887cffb8-fpw7h' -c scray-peer-cli -- /bin/sh /mnt/conf/peer/get-my-invoices.sh  super43 045\n",
    "kubectl exec --stdin --tty 'lalya-1-7c76dff8c-pzx78' -c scray-peer-cli -- /bin/sh /mnt/conf/peer/get-my-invoices.sh  super43 045\n",
    "kubectl exec --stdin --tty 'lalya-2-5f8b45dbc4-52tt7' -c scray-peer-cli -- /bin/sh /mnt/conf/peer/get-my-invoices.sh  super43 045\n"
   ]
  },
  {
   "cell_type": "code",
   "execution_count": 121,
   "metadata": {},
   "outputs": [
    {
     "data": {
      "text/plain": [
       "'lalya-2-5f8b45dbc4-52tt7'"
      ]
     },
     "execution_count": 121,
     "metadata": {},
     "output_type": "execute_result"
    }
   ],
   "source": [
    "peers[pernames[2]].pod_name"
   ]
  },
  {
   "cell_type": "markdown",
   "metadata": {},
   "source": [
    "## add channel"
   ]
  },
  {
   "cell_type": "code",
   "execution_count": 82,
   "metadata": {},
   "outputs": [
    {
     "data": {
      "text/plain": [
       "'orderer-org1-scray-org-9dbd9fc68-5lrgq'"
      ]
     },
     "execution_count": 82,
     "metadata": {},
     "output_type": "execute_result"
    }
   ],
   "source": [
    "orderer.pod_name"
   ]
  },
  {
   "cell_type": "code",
   "execution_count": 97,
   "metadata": {},
   "outputs": [
    {
     "name": "stdout",
     "output_type": "stream",
     "text": [
      "\u001b[34m2021-10-07 07:52:53.181 UTC [common.tools.configtxgen] main -> INFO 001\u001b[0m Loading configuration\n",
      "\u001b[34m2021-10-07 07:52:53.204 UTC [common.tools.configtxgen.localconfig] Load -> INFO 002\u001b[0m Loaded configuration: /mnt/conf/orderer/configtx.yaml\n",
      "\u001b[34m2021-10-07 07:52:53.205 UTC [common.tools.configtxgen] doOutputChannelCreateTx -> INFO 003\u001b[0m Generating new channel configtx\n",
      "\u001b[34m2021-10-07 07:52:53.207 UTC [common.tools.configtxgen] doOutputChannelCreateTx -> INFO 004\u001b[0m Writing new channel tx\n",
      "\u001b[34m2021-10-07 07:52:53.274 UTC [channelCmd] InitCmdFactory -> INFO 001\u001b[0m Endorser and orderer connections initialized\n",
      "\u001b[34m2021-10-07 07:52:53.341 UTC [cli.common] readBlock -> INFO 002\u001b[0m Expect block, but got status: &{NOT_FOUND}\n",
      "\u001b[34m2021-10-07 07:52:53.345 UTC [channelCmd] InitCmdFactory -> INFO 003\u001b[0m Endorser and orderer connections initialized\n",
      "\u001b[34m2021-10-07 07:52:53.547 UTC [cli.common] readBlock -> INFO 004\u001b[0m Expect block, but got status: &{SERVICE_UNAVAILABLE}\n",
      "\u001b[34m2021-10-07 07:52:53.553 UTC [channelCmd] InitCmdFactory -> INFO 005\u001b[0m Endorser and orderer connections initialized\n",
      "\u001b[34m2021-10-07 07:52:53.755 UTC [cli.common] readBlock -> INFO 006\u001b[0m Expect block, but got status: &{SERVICE_UNAVAILABLE}\n",
      "\u001b[34m2021-10-07 07:52:53.762 UTC [channelCmd] InitCmdFactory -> INFO 007\u001b[0m Endorser and orderer connections initialized\n",
      "\u001b[34m2021-10-07 07:52:53.964 UTC [cli.common] readBlock -> INFO 008\u001b[0m Expect block, but got status: &{SERVICE_UNAVAILABLE}\n",
      "\u001b[34m2021-10-07 07:52:53.970 UTC [channelCmd] InitCmdFactory -> INFO 009\u001b[0m Endorser and orderer connections initialized\n",
      "\u001b[34m2021-10-07 07:52:54.172 UTC [cli.common] readBlock -> INFO 00a\u001b[0m Expect block, but got status: &{SERVICE_UNAVAILABLE}\n",
      "\u001b[34m2021-10-07 07:52:54.178 UTC [channelCmd] InitCmdFactory -> INFO 00b\u001b[0m Endorser and orderer connections initialized\n",
      "\u001b[34m2021-10-07 07:52:54.380 UTC [cli.common] readBlock -> INFO 00c\u001b[0m Expect block, but got status: &{SERVICE_UNAVAILABLE}\n",
      "\u001b[34m2021-10-07 07:52:54.385 UTC [channelCmd] InitCmdFactory -> INFO 00d\u001b[0m Endorser and orderer connections initialized\n",
      "\u001b[34m2021-10-07 07:52:54.599 UTC [cli.common] readBlock -> INFO 00e\u001b[0m Received block: 0\n"
     ]
    }
   ],
   "source": [
    "!/home/jovyan/work/usr/bin/kubectl exec -t orderer-org1-scray-org-9dbd9fc68-5lrgq -c scray-orderer-cli -- /bin/sh /mnt/conf/orderer/scripts/create_channel.sh super43 orderer.example.com 30081"
   ]
  },
  {
   "cell_type": "code",
   "execution_count": null,
   "metadata": {},
   "outputs": [],
   "source": [
    "add_channel('super20')"
   ]
  },
  {
   "cell_type": "code",
   "execution_count": null,
   "metadata": {},
   "outputs": [],
   "source": [
    "name = 'super30'\n",
    "cmd = toCmd(['/mnt/conf/orderer/scripts/create_channel.sh', name, 'orderer.example.com', '7050'])\n",
    "cmd, orderer.pod_name"
   ]
  },
  {
   "cell_type": "code",
   "execution_count": null,
   "metadata": {},
   "outputs": [],
   "source": [
    "executePeerCmd(orderer.pod_name, cmd, cli='scray-orderer-cli')"
   ]
  },
  {
   "cell_type": "code",
   "execution_count": null,
   "metadata": {},
   "outputs": [],
   "source": [
    "executePeerCmd(orderer.pod_name, 'peer channel list', cli='scray-orderer-cli')"
   ]
  },
  {
   "cell_type": "code",
   "execution_count": null,
   "metadata": {},
   "outputs": [],
   "source": [
    "cmd1 = ['/mnt/conf/orderer/scripts/create_channel.sh super20 orderer.example.com 7050']\n",
    "executePeerCmd(orderer.pod_name, cmd1, cli='scray-orderer-cli')"
   ]
  },
  {
   "cell_type": "code",
   "execution_count": null,
   "metadata": {},
   "outputs": [],
   "source": [
    "#cmd1 = ['/home/jovyan/work/usr/bin/kubectl', 'exec','-t', 'orderer-org1-scray-org-5f97c57d44-l6d5l', '-c', 'scray-orderer-cli','--', '/bin/sh', '-c','/mnt/conf/orderer/scripts/create_channel.sh super7 orderer.example.com 7050']\n",
    "\n",
    "#cmd2 = toCmd(['ls','-a'])\n",
    "cmd2 = toCmd(['/mnt/conf/orderer/scripts/create_channel.sh', 'super7', 'orderer.example.com', '7050'])\n",
    "\n",
    "cmd1 = ['/home/jovyan/work/usr/bin/kubectl', 'exec','-t', 'orderer-org1-scray-org-5f97c57d44-l6d5l', '-c', 'scray-orderer-cli','--', '/bin/sh', '-c',cmd2]\n",
    "\n",
    "\n",
    "print(toCmd(cmd1))\n",
    "#subprocess.check_output(cmd1)\n",
    "subprocess.run(cmd1, stdout = subprocess.PIPE, stderr=subprocess.PIPE)"
   ]
  },
  {
   "cell_type": "code",
   "execution_count": null,
   "metadata": {},
   "outputs": [],
   "source": [
    "!/home/jovyan/work/usr/bin/kubectl exec -it orderer-org1-scray-org-5f97c57d44-l6d5l -c scray-orderer-cli -- /bin/sh /mnt/conf/orderer/scripts/create_channel.sh super6 orderer.example.com 7050\n"
   ]
  },
  {
   "cell_type": "code",
   "execution_count": null,
   "metadata": {},
   "outputs": [],
   "source": [
    "orderer.pod_name"
   ]
  },
  {
   "cell_type": "code",
   "execution_count": null,
   "metadata": {},
   "outputs": [],
   "source": [
    "!/home/jovyan/work/usr/bin/kubectl exec --stdin --tty 'orderer-org1-scray-org-5f97c57d44-j5mbs' -c scray-orderer-cli  -- /bin/sh /mnt/conf/orderer/scripts/create_channel.sh 'super' orderer.example.com '7050'"
   ]
  },
  {
   "cell_type": "code",
   "execution_count": null,
   "metadata": {},
   "outputs": [],
   "source": [
    "# Create Peer\n",
    "\n",
    "peername='dalya8'\n",
    "addPeer(peername)\n",
    "peers[peername].__dict__"
   ]
  },
  {
   "cell_type": "code",
   "execution_count": null,
   "metadata": {},
   "outputs": [],
   "source": [
    "\n"
   ]
  },
  {
   "cell_type": "code",
   "execution_count": null,
   "metadata": {},
   "outputs": [],
   "source": [
    "executeKubectlCmd(['get', 'pods','-l', 'app=orderer-org1-scray-org','-o','jsonpath=\\'{.items[*].status.podIP}\\''])  "
   ]
  },
  {
   "cell_type": "code",
   "execution_count": null,
   "metadata": {},
   "outputs": [],
   "source": [
    "peers[peername].__dict__"
   ]
  },
  {
   "cell_type": "code",
   "execution_count": null,
   "metadata": {},
   "outputs": [],
   "source": [
    "orderer.__dict__"
   ]
  },
  {
   "cell_type": "markdown",
   "metadata": {},
   "source": [
    "## Export channel configuration"
   ]
  },
  {
   "cell_type": "code",
   "execution_count": null,
   "metadata": {},
   "outputs": [],
   "source": [
    "#https://github.com/scray/scray/blob/feature/k8s-peer/projects/invoice-hyperledger-fabric/containers/README.md#export-data\n",
    "\n",
    "SHARED_FS_HOST='10.14.128.38:30080'\n",
    "_result = SHARED_FS_HOST + '/channel/configuration/$CHANNEL_NAME/config.json'\n",
    "\n",
    "#kubectl exec --stdin --tty $ORDERER_POD -c scray-orderer-cli -- /bin/sh /mnt/conf/orderer/scripts/publish_channel_conf.sh $CHANNEL_NAME $SHARED_FS_HOST\n",
    "\n",
    "def export_channel_configuration(peer,channel_name,SHARED_FS_HOST):\n",
    "    strlist = ['/mnt/conf/orderer/scripts/publish_channel_conf.sh', channel_name,SHARED_FS_HOST]\n",
    "    return executePeerCmd(peer.pod_name,toCmd(strlist)) \n",
    "\n",
    "#_peer = peers[list(peers.keys())[0]]\n",
    "_peer = orderer\n",
    "channel_name = 'super'\n",
    "export_channel_configuration(_peer,channel_name,SHARED_FS_HOST)"
   ]
  },
  {
   "cell_type": "code",
   "execution_count": null,
   "metadata": {},
   "outputs": [],
   "source": [
    "#list(peers)[0]\n"
   ]
  },
  {
   "cell_type": "markdown",
   "metadata": {},
   "source": [
    "# Multiple version"
   ]
  },
  {
   "cell_type": "code",
   "execution_count": null,
   "metadata": {},
   "outputs": [],
   "source": [
    "# init\n",
    "peers = {}"
   ]
  },
  {
   "cell_type": "code",
   "execution_count": null,
   "metadata": {},
   "outputs": [],
   "source": [
    "# create peer\n",
    "peername='olya4'\n",
    "addPeer(peername)\n",
    "peers[peername].__dict__"
   ]
  },
  {
   "cell_type": "code",
   "execution_count": null,
   "metadata": {},
   "outputs": [],
   "source": [
    "# initialize blockchain from known peer\n",
    "import kubernetesTool\n",
    "peer = kubernetespeer(name=peername)\n",
    "#kubernetesTool.getPod('oly0')\n",
    "peers[peername] = peer"
   ]
  },
  {
   "cell_type": "code",
   "execution_count": null,
   "metadata": {},
   "outputs": [],
   "source": [
    "peername='test27'\n",
    "#executeLocalCmd('cd /home/jovyan/scray/projects/invoice-hyperledger-fabric/containers/ && /home/jovyan/scray/projects/invoice-hyperledger-fabric/containers/configure-deployment.sh -n ' + peername)\n",
    "#!ls /home/jovyan/scray/projects/invoice-hyperledger-fabric/containers/\n",
    "#executeLocalCmd(['/bin/cd','/home/jovyan/scray/projects/invoice-hyperledger-fabric/containers/'])\n",
    "#executeLocalCmd('which cd')\n",
    "cmd = \"cd\"\n",
    "#subprocess.check_output(cmd)\n",
    "cmd ='!cd /home/jovyan/scray/projects/invoice-hyperledger-fabric/containers/ && pwd'\n",
    "cmd=['/bin/bash','&&','/usr/bin/ls','/home']\n",
    "cmd=['/bin/bash','-c','cd /']\n",
    "subprocess.check_output(cmd)\n",
    "#subprocess.run(cmd, stdout = subprocess.PIPE, stderr=subprocess.PIPE)\n",
    "#!which cd"
   ]
  },
  {
   "cell_type": "code",
   "execution_count": null,
   "metadata": {},
   "outputs": [],
   "source": [
    "def getPeer0Address(peer):\n",
    "    addr='peer0.kubernetes.research.dev.seeburger.de'\n",
    "    return str(addr + ':' + peer.listen_port)\n",
    "\n",
    "def getPeerBaseAddress(peer):\n",
    "    addr='kubernetes.research.dev.seeburger.de'\n",
    "    return str(addr + ':' + peer.listen_port)"
   ]
  },
  {
   "cell_type": "code",
   "execution_count": null,
   "metadata": {},
   "outputs": [],
   "source": [
    "import kubernetesTool\n",
    "\n",
    "peer = peers['test4']\n",
    "cmd= ['get', 'pods', peer.pod_name, '-o', 'json']\n",
    "#peer_containers_text.value=str(len(json.loads(executeKubectlCmd(cmd).decode('ascii'))['spec']['containers']))\n",
    "kubernetesTool.executeKubectlCmd(cmd)"
   ]
  },
  {
   "cell_type": "code",
   "execution_count": null,
   "metadata": {},
   "outputs": [],
   "source": [
    "import os\n",
    "import json\n",
    "import subprocess\n",
    "import pandas as pd\n",
    "\n",
    "import containerWidgets\n",
    "from containerWidgets import addHeader,addVisText,addVisCheckbox   \n",
    "from kubernetesTool import executeKubectlCmd\n",
    "\n",
    "def setPeerWidgetValues(peer):\n",
    "    pod_name_text.value = peer.pod_name\n",
    "    peer_addr_text.value = getPeerAddress(peer)\n",
    "    cmd= ['get', 'pods', peer.pod_name, '-o', 'json']\n",
    "    peer_containers_text.value=str(len(json.loads(executeKubectlCmd(cmd))['spec']['containers']))\n",
    "          \n",
    "    cert = getOrgCrt(org=peer.name)\n",
    "    if cert:\n",
    "        issuer = cert.issuer\n",
    "        c_o_text.value=issuer.get_attributes_for_oid(NameOID.ORGANIZATION_NAME)[0].value\n",
    "        c_cn_text.value=issuer.get_attributes_for_oid(NameOID.COMMON_NAME)[0].value\n",
    "        c_sn_text.value=str(cert.serial_number)\n",
    "        c_l_text.value=issuer.get_attributes_for_oid(NameOID.LOCALITY_NAME)[0].value\n",
    "        c_s_text.value=issuer.get_attributes_for_oid(NameOID.STATE_OR_PROVINCE_NAME)[0].value\n",
    "        c_c_text.value=issuer.get_attributes_for_oid(NameOID.COUNTRY_NAME)[0].value\n",
    "        c_nvb_text.value=cert.not_valid_before.strftime(\"%Y-%m-%d %H:%M:%S\")\n",
    "        c_nva_text.value=cert.not_valid_after.strftime(\"%Y-%m-%d %H:%M:%S\")\n",
    "    else:\n",
    "        c_o_text.value=''\n",
    "    \n",
    "\n",
    "def handle_submit(text):\n",
    "    global peername\n",
    "    peer = addPeer(text.value)\n",
    "    setPeerWidgetValues(peer)\n",
    "    \n",
    "layout2 = {'width': '600px'}   \n",
    "addHeader(text='peer',bold=True)\n",
    "peertext      = addVisText(key='organization',layout=layout2)\n",
    "pod_name_text = addVisText(key='pod name',disabled=True,layout=layout2)\n",
    "peer_containers_text = addVisText(key='containers',disabled=True,layout=layout2)\n",
    "peer_addr_text = addVisText(key='address',disabled=True,layout=layout2)\n",
    "peertext.on_submit(handle_submit)    \n",
    "\n",
    "addHeader(text='certificate',bold=True)\n",
    "c_o_text = addVisText(key='organization',disabled=True,layout=layout2)\n",
    "c_cn_text = addVisText(key='common name',disabled=True,layout=layout2)\n",
    "c_sn_text =addVisText(key='serial number',disabled=True,layout=layout2)\n",
    "c_l_text =addVisText(key='locality',disabled=True,layout=layout2)\n",
    "c_s_text =addVisText(key='state',disabled=True,layout=layout2)\n",
    "c_c_text =addVisText(key='country',disabled=True,layout=layout2)\n",
    "c_nvb_text =addVisText(key='from',disabled=True,layout=layout2)\n",
    "c_nva_text =addVisText(key='until',disabled=True,layout=layout2)"
   ]
  },
  {
   "cell_type": "markdown",
   "metadata": {},
   "source": [
    "Step2: Sign by majority of old peers"
   ]
  },
  {
   "cell_type": "code",
   "execution_count": null,
   "metadata": {},
   "outputs": [],
   "source": [
    "# download current organizations (consortium) from sharepoint\n",
    "downloadToLocal(local_path='/tmp', local_name='org_msp.json' ,remote_path='upload')\n",
    "with open('/tmp/org_msp.json', 'r') as fp:\n",
    "    data = json.load(fp)\n",
    "       \n",
    "local_orgs = getLocalOrgList(data)    "
   ]
  },
  {
   "cell_type": "code",
   "execution_count": null,
   "metadata": {},
   "outputs": [],
   "source": [
    "for name in local_orgs:\n",
    "    sign(peers[name].pod_name)"
   ]
  },
  {
   "cell_type": "markdown",
   "metadata": {},
   "source": [
    "Step 3"
   ]
  },
  {
   "cell_type": "code",
   "execution_count": null,
   "metadata": {},
   "outputs": [],
   "source": [
    "peer = peers['oly2']\n",
    "addBashEnvToPeer(peer)\n",
    "\n",
    "peer.pod_name"
   ]
  },
  {
   "cell_type": "code",
   "execution_count": null,
   "metadata": {},
   "outputs": [],
   "source": [
    "#pod_name   = peers['sally5'].pod_name\n",
    "orderer_ip = '10.15.128.97'   \n",
    "orderer_hostname = 'orderer.example.com'\n",
    "channel_name = 'mychannel'  \n",
    "joinHyperledger(peer.pod_name,orderer_ip,orderer_hostname,channel_name)"
   ]
  },
  {
   "cell_type": "code",
   "execution_count": null,
   "metadata": {},
   "outputs": [],
   "source": [
    "cmd= \"peer lifecycle chaincode querycommitted --channelID mychannel --name scray-invoice-example --output json\"\n",
    "executePeerCmd(peer.pod_name,cmd)"
   ]
  },
  {
   "cell_type": "markdown",
   "metadata": {},
   "source": [
    "B"
   ]
  },
  {
   "cell_type": "markdown",
   "metadata": {},
   "source": [
    "# Enroll users"
   ]
  },
  {
   "cell_type": "code",
   "execution_count": null,
   "metadata": {},
   "outputs": [],
   "source": [
    "# download walletcreator to peers\n",
    "def uploadWalletToolToSharepoint():\n",
    "    uploadFromLocal(local_path='/home/jovyan/scray/projects/invoice-hyperledger-fabric/tools/wallet-creator/target', local_name='wallet-creator-0.0.1-SNAPSHOT-jar-with-dependencies.jar' ,remote_path='upload')\n",
    "    uploadFromLocal(local_path='/home/jovyan/scray/projects/invoice-hyperledger-fabric/tools/wallet-creator', local_name='cert-creator.sh' ,remote_path='upload')\n",
    "\n",
    "def installPeerWalletTool(peer):\n",
    "    executePeerCmd(peer.pod_name,toCmd(downloadToLocalCmdList(local_path='/tmp', remote_name='wallet-creator-0.0.1-SNAPSHOT-jar-with-dependencies.jar'))) \n",
    "    executePeerCmd(peer.pod_name,toCmd(downloadToLocalCmdList(local_path='/tmp', remote_name='cert-creator.sh'))) \n",
    "    executePeerCmd(peer.pod_name,'apk add openssl')\n",
    "    executePeerCmd(peer.pod_name,'apk add openjdk8-jre')\n",
    "    # chmod 755\n",
    "    \n",
    "def createPeerUser(peer,user, admin='admin',\n",
    "    cert='/mnt/conf/organizations/peerOrganizations/kubernetes.research.dev.seeburger.de/ca/ca.kubernetes.research.dev.seeburger.de-cert.pem',\n",
    "    key='/mnt/conf/organizations/peerOrganizations/kubernetes.research.dev.seeburger.de/ca/priv_sk'):\n",
    "        cmd = ['/tmp/cert-creator.sh','--cacert',cert,'--cakey',key,'--new-user-crt',user,'--organizational-unit',admin,\n",
    "               '--create-wallet','true','--wallet-creator-lib-path', '/tmp']\n",
    "        return executePeerCmd(peer.pod_name,toCmd(cmd))\n",
    "    \n",
    "#createPeerUser(peers['oly0'],'bretten')     "
   ]
  },
  {
   "cell_type": "code",
   "execution_count": null,
   "metadata": {},
   "outputs": [],
   "source": [
    "peer = peers['oly0']\n",
    "# build local , upload tool to sharepoint \n",
    "#uploadWalletToolToSharepoint()\n",
    "#installPeerWalletTool(peer)\n",
    "\n",
    "createPeerUser(peer,'bretten')   "
   ]
  },
  {
   "cell_type": "markdown",
   "metadata": {},
   "source": [
    "# Install and aprove chaincode"
   ]
  },
  {
   "cell_type": "code",
   "execution_count": null,
   "metadata": {},
   "outputs": [],
   "source": [
    "local_orgs\n",
    "peers['oly0'].pod_name"
   ]
  },
  {
   "cell_type": "code",
   "execution_count": null,
   "metadata": {},
   "outputs": [],
   "source": [
    "#installAndAproveChaincode(peers['schalke3'])\n",
    "for name in local_orgs:\n",
    "    installAndAproveChaincode(peers[name])"
   ]
  },
  {
   "cell_type": "code",
   "execution_count": null,
   "metadata": {},
   "outputs": [],
   "source": [
    "downloadCrtsToPeer(local_orgs, execute_org=local_orgs[0])"
   ]
  },
  {
   "cell_type": "code",
   "execution_count": null,
   "metadata": {},
   "outputs": [],
   "source": [
    "peer lifecycle chaincode commit -o orderer.example.com:7050 --ordererTLSHostnameOverride orderer.example.com \n",
    "--tls --cafile $CERT_BASE_PATH/organizations/ordererOrganizations/example.com/orderers/orderer.example.com/msp/tlscacerts/tlsca.example.com-cert.pem --channelID mychannel --name basic --peerAddresses peer0.org1.example.com:7051 --tlsRootCertFiles $CERT_BASE_PATH/organizations/peerOrganizations/org1.example.com/peers/peer0.org1.example.com/tls/ca.crt --peerAddresses peer0.org2.example.com:9051 --tlsRootCertFiles ${CERT_BASE_PATH}/organizations/peerOrganizations/org2.example.com/peers/peer0.org2.example.com/tls/ca.crt --version 1.0 --sequence 1\n"
   ]
  },
  {
   "cell_type": "code",
   "execution_count": null,
   "metadata": {},
   "outputs": [],
   "source": [
    "#addBashEnvToPeer(peers['schalke3'])\n",
    "downloadCrtsToPeer(local_orgs)\n",
    "downloadCrtsToPeer(['schalke3'], execute_org='schalke3')"
   ]
  },
  {
   "cell_type": "code",
   "execution_count": null,
   "metadata": {},
   "outputs": [],
   "source": [
    "def commit():\n",
    "    try:    \n",
    "        #crtnew = '\\\" + getCrt(org='klaus') + '\\\"\n",
    "        getCrt(org='klaus')\n",
    "        output = subprocess.check_output(['peer', 'lifecycle','chaincode','commit','-o',addr0,'--ordererTLSHostnameOverride',orderer,\n",
    "                                          '--tls','--cafile',ordererpem,'--channelID','mychannel','--name','basic',\n",
    "                                          '--peerAddresses',addr1, '--tlsRootCertFiles', crt1, \n",
    "                                          '--peerAddresses', addr2, '--tlsRootCertFiles', crt2, \n",
    "                                          '--peerAddresses', 'peer0.scray.org', '--tlsRootCertFiles', '/tmp/new.crt',\n",
    "                                          #'--peerAddresses', 'kubernetes.research.dev.seeburger.de:32190', '--tlsRootCertFiles', '/tmp/new.crt',\n",
    "                                          '--version', '1.0', '--sequence', '1','--tlsRootCertFiles'])\n",
    "        return output.decode('ascii')\n",
    "    except Exception as e:\n",
    "        return str(e)\n",
    "    \n",
    "def getCrt(org='',domain='kubernetes.research.dev.seeburger.de',host='10.15.136.41:30080',user='scray', pwd='scray',channel='mychannel'):\n",
    "    try:    \n",
    "        output = subprocess.check_output(['curl', '--user',user + ':' + pwd, \n",
    "                                               'http://' + host + '/ca/' + channel + '/' + org + '-' + domain + '-ca.crt'])\n",
    "        #return str(callProcess)[3:-3]\n",
    "        return output.decode('ascii')\n",
    "    except Exception as e:\n",
    "        return str(e)    \n",
    "\n",
    "\n",
    "def getCrtToLocalCmd(org='',topath='/tmp',domain='kubernetes.research.dev.seeburger.de',host='10.15.136.41:30080',user='scray', pwd='scray',channel='mychannel'):\n",
    "    crtname = getCrtName(org, domain)\n",
    "    return str('curl --user ' + user + ':' + pwd + \\\n",
    "            ' http://' + host + '/ca/' + channel + '/' + crtname +  ' -o ' +  ' /tmp/' + crtname)\n",
    "        \n",
    "        \n",
    "def getCrtToLocal(org='',topath='/tmp',domain='kubernetes.research.dev.seeburger.de',host='10.15.136.41:30080',user='scray', pwd='scray',channel='mychannel'):\n",
    "    try:    \n",
    "        output = subprocess.check_output(['curl', '--user',user + ':' + pwd, \n",
    "                                               'http://' + host + '/ca/' + channel + '/' + getCrtName(org, domain), '-o', '/tmp/' + getCrtName(org, domain)])\n",
    "        #return str(callProcess)[3:-3]\n",
    "        return output.decode('ascii')\n",
    "    except Exception as e:\n",
    "        return str(e)       \n",
    "    \n",
    "def getCrtCmdParameters():\n",
    "    crts=''\n",
    "    for name in local_orgs:\n",
    "        if name in peers:\n",
    "            peer = peers[name] \n",
    "            crts = crts + str(' --peerAddresses ' + getPeer0Address(peer)  + ' --tlsRootCertFiles ' +  '/tmp/' + getCrtName(org=peer.name))\n",
    "    return crts"
   ]
  },
  {
   "cell_type": "code",
   "execution_count": null,
   "metadata": {},
   "outputs": [],
   "source": [
    "#local_orgs, crts\n",
    "crts = getCrtCmdParameters()"
   ]
  },
  {
   "cell_type": "code",
   "execution_count": null,
   "metadata": {},
   "outputs": [],
   "source": [
    "#addr='peer0.kubernetes.research.dev.seeburger.de'\n",
    "crts"
   ]
  },
  {
   "cell_type": "markdown",
   "metadata": {},
   "source": [
    "commit chaincode"
   ]
  },
  {
   "cell_type": "code",
   "execution_count": null,
   "metadata": {},
   "outputs": [],
   "source": [
    "addr0 = 'orderer.example.com:7050'\n",
    "orderer = 'orderer.example.com'\n",
    "ordererpem = '/tmp/tlsca.example.com-cert.pem'\n",
    "cmd1 = 'peer lifecycle chaincode commit -o ' + addr0 + ' --ordererTLSHostnameOverride ' + orderer + ' --tls --cafile ' + ordererpem + ' --channelID mychannel --name basic'\n",
    "cmd2 = ' --version 1.0 --sequence 1'\n",
    "\n",
    "def getPart(peer, org='kubernetes.research.dev.seeburger.de'):\n",
    "    return getCrtToLocalCmd(org=peer.name)\n",
    "    #return '--peerAddresses ' + org + ':' + peer.listen_port + ' --tlsRootCertFiles ' +  crt1\n",
    "\n",
    "destpeer = peers[local_orgs[0]]    \n",
    "for name in local_orgs:\n",
    "    if name in peers:\n",
    "        peer = peers[name]    \n",
    "        cmd = getPart(peer)\n",
    "        executePeerCmd(destpeer.pod_name,cmd)\n",
    "\n"
   ]
  },
  {
   "cell_type": "code",
   "execution_count": null,
   "metadata": {},
   "outputs": [],
   "source": [
    "executePeerCmd(destpeer.pod_name,cmd1 + crts + cmd2)"
   ]
  },
  {
   "cell_type": "code",
   "execution_count": null,
   "metadata": {},
   "outputs": [],
   "source": [
    "#cmd1 + crts + cmd2\n",
    "crts"
   ]
  },
  {
   "cell_type": "code",
   "execution_count": null,
   "metadata": {},
   "outputs": [],
   "source": [
    "peer lifecycle chaincode queryinstalled --peerAddresses peer0.kubernetes.research.dev.seeburger.de:32733 --tlsRootCertFiles /tmp/sally3-kubernetes.research.dev.seeburger.de-ca.crt"
   ]
  },
  {
   "cell_type": "code",
   "execution_count": null,
   "metadata": {},
   "outputs": [],
   "source": [
    "pod_name   = peers['sally3'].pod_name\n",
    "executePeerCmd(pod_name, \"peer lifecycle chaincode queryinstalled --peerAddresses peer0.kubernetes.research.dev.seeburger.de:32733 --tlsRootCertFiles /tmp/sally3-kubernetes.research.dev.seeburger.de-ca.crt --output json\")"
   ]
  },
  {
   "cell_type": "markdown",
   "metadata": {},
   "source": [
    "# test chaincode"
   ]
  },
  {
   "cell_type": "code",
   "execution_count": null,
   "metadata": {},
   "outputs": [],
   "source": [
    "from kubernetesTool import toCmd\n",
    "from kubernetesTool import executePeerCmd\n",
    "import json"
   ]
  },
  {
   "cell_type": "code",
   "execution_count": null,
   "metadata": {},
   "outputs": [],
   "source": [
    "#peer chaincode query -C mychannel -n basic -c '{\"function\":\"ReadAsset\",\"Args\":[\"asset1\"]}'\n",
    "\n",
    "def readAsset(peer, asset='asset1'):\n",
    "    #callopt= '{\\\"function\\\":\\\"ReadAsset\\\",\\\"Args\\\":[' + '\\\"' + asset + '\\\"' + ']}'\n",
    "    callopt= '{\"function\":\"ReadAsset\",\"Args\":[' + '\\\"' + asset + '\\\"' + ']}'\n",
    "    cmd0 = str('\\'' + callopt + \"\\'\")\n",
    "    try:\n",
    "        #cmd1= 'CORE_PEER_ADDRESS=\\\"peer0.kubernetes.research.dev.seeburger.de:31866\\\" && ' \n",
    "        cmd1 = 'CORE_PEER_ADDRESS=\\\"' + getPeer0Address(peer) + '\\\" && '\n",
    "        cmd2 = ['peer', 'chaincode','query', '-C', 'mychannel', '-n', 'basic', '-c']\n",
    "        cmd = toCmd(cmd2) + ' ' + cmd0\n",
    "        output = executePeerCmd(peer.pod_name, cmd1 + cmd)\n",
    "        #print(output)\n",
    "        if output[0] == '{':\n",
    "            return json.loads(output)\n",
    "    except Exception as e:\n",
    "        print(e)\n",
    "    \n",
    "asset = readAsset(peers['oly0'], 'asset7')\n",
    "asset\n",
    "#asset['ID'] = 'asset11'"
   ]
  },
  {
   "cell_type": "code",
   "execution_count": null,
   "metadata": {},
   "outputs": [],
   "source": [
    "for key, value in asset.items():\n",
    "    print(key,value, type(value))\n",
    "    \n",
    "    \n",
    "#import facturxWidget\n",
    "#widget = facturxWidget.facturx_widgets(asset, '/',hideUnused=True) \n",
    "\n",
    "\n",
    "#write asset to json file\n",
    "import json\n",
    "with open('data.json', 'w', encoding='utf-8') as f:\n",
    "    json.dump(asset, f, ensure_ascii=False, indent=4)"
   ]
  },
  {
   "cell_type": "code",
   "execution_count": null,
   "metadata": {},
   "outputs": [],
   "source": [
    "try:\n",
    "    import cPickle as pickle\n",
    "except ImportError:  # Python 3.x\n",
    "    import pickle\n",
    "\n",
    "with open('data.p', 'wb') as fp:\n",
    "    pickle.dump(asset, fp, protocol=pickle.HIGHEST_PROTOCOL)"
   ]
  },
  {
   "cell_type": "code",
   "execution_count": null,
   "metadata": {},
   "outputs": [],
   "source": [
    "def toCmd(strlist):\n",
    "    return ''.join(str(e + ' ') for e in strlist)[:-1]\n",
    "\n",
    "#toCmd(asset.values())\n",
    "#print(e) for e in asset.items()\n",
    "\n",
    "#toCmd(list(asset.values()))\n",
    "\n",
    "#[\"asset11\",\"green\",\"10\",\"Jin Soo\",\"500\"]\n",
    "asset['ID'] = 'asset7'\n",
    "arglist = '[' + ''.join(('\\\"' + str(e) + '\\\",') for e in asset.values())[:-1] + ']' \n",
    "print(arglist)"
   ]
  },
  {
   "cell_type": "code",
   "execution_count": null,
   "metadata": {},
   "outputs": [],
   "source": [
    "def createAsset(peer,crts,arglist):\n",
    "    cmd1 = 'peer chaincode invoke -o orderer.example.com:7050 --tls true --cafile /tmp/tlsca.example.com-cert.pem  -C mychannel -n basic'\n",
    "    cmd3= '{\"function\":\"CreateAsset\",\"Args\":' + arglist + '}'\n",
    "    cmd2 = \"-c \"\n",
    "    cmd = str(cmd1 + ' ' + crts + ' ' + cmd2 + '\\'' + cmd3 + '\\'')\n",
    "    #print(cmd)\n",
    "    return executePeerCmd(peer.pod_name, cmd)\n",
    "                   \n",
    "createAsset(peers['oly0'],crts,arglist)\n",
    "    \n",
    "#executePeerCmd(peers['oly0'].pod_name,printCmdForPeer(crts))"
   ]
  },
  {
   "cell_type": "code",
   "execution_count": null,
   "metadata": {},
   "outputs": [],
   "source": [
    "peers['oly0'].pod_name"
   ]
  },
  {
   "cell_type": "code",
   "execution_count": null,
   "metadata": {},
   "outputs": [],
   "source": [
    "args = [\"asset2\",\"blue\",\"5\",\"Tomoko\", \"300\"]\n",
    "arglist = ''.join(str('\\\"' + e + '\\\",') for e in args)[:-1]\n",
    "  \n",
    "callopt= '{\\\"function\\\":\\\"CreateAsset\\\",\\\"Args\\\":[' + arglist + ']}'\n",
    "#peer chaincode invoke -C mychannel -n basic \n",
    "#-c '{\"function\":\"CreateAsset\",\"Args\":[\"asset1\",\"blue\",\"5\",\"Tomoko\", \"300\"]}' \n",
    "#--peerAddresses peer0.kubernetes.research.dev.seeburger.de:31866 --tlsRootCertFiles /tmp/hafen0-kubernetes.research.dev.seeburger.de-ca.crt --peerAddresses peer0.kubernetes.research.dev.seeburger.de:30755 --tlsRootCertFiles /tmp/hafen1-kubernetes.research.dev.seeburger.de-ca.crt --peerAddresses peer0.kubernetes.research.dev.seeburger.de:30948 --tlsRootCertFiles /tmp/hafen3-kubernetes.research.dev.seeburger.de-ca.crt \n",
    "#-o orderer.example.com:7050 --ordererTLSHostnameOverride orderer.example.com --tls --cafile /tmp/tlsca.example.com-cert.pem\n",
    "\n",
    "            \n",
    "\n",
    "cmd1= 'CORE_PEER_ADDRESS=\\\"peer0.kubernetes.research.dev.seeburger.de:31866\\\" && ' \n",
    "cmd = ['peer', 'chaincode','invoke', '-C', 'mychannel', '-n', 'basic', '-c',\"'\" + callopt + \"'\"]\n",
    "\n",
    "#certs"
   ]
  },
  {
   "cell_type": "code",
   "execution_count": null,
   "metadata": {},
   "outputs": [],
   "source": [
    "peer chaincode invoke -o orderer.example.com:7050 --tls true --cafile /tmp/tlsca.example.com-cert.pem  -C mychannel -n basic --peerAddresses peer0.kubernetes.research.dev.seeburger.de:30084 --tlsRootCertFiles /tmp/sally1-kubernetes.research.dev.seeburger.de-ca.crt --peerAddresses peer0.kubernetes.research.dev.seeburger.de:31521 --tlsRootCertFiles /tmp/sally2-kubernetes.research.dev.seeburger.de-ca.crt --peerAddresses peer0.kubernetes.research.dev.seeburger.de:32733 --tlsRootCertFiles /tmp/sally3-kubernetes.research.dev.seeburger.de-ca.crt --peerAddresses peer0.kubernetes.research.dev.seeburger.de:31018 --tlsRootCertFiles /tmp/sally4-kubernetes.research.dev.seeburger.de-ca.crt -c '{\"function\":\"CreateAsset\",\"Args\":[\"asset1\",\"green\",\"10\", \"Jin Soo\",\"500\"]}'\n",
    "                        \n",
    "peer chaincode query -C mychannel -n basic -c '{\"function\":\"ReadAsset\",\"Args\":[\"asset1\"]}'\n"
   ]
  },
  {
   "cell_type": "code",
   "execution_count": null,
   "metadata": {},
   "outputs": [],
   "source": [
    "\n",
    "addBashEnvToPeer(peer.pod_name, peer.listen_port)"
   ]
  },
  {
   "cell_type": "code",
   "execution_count": null,
   "metadata": {},
   "outputs": [],
   "source": [
    "print(pod_name)\n",
    "executePeerCmd(pod_name,\"hostname\")"
   ]
  },
  {
   "cell_type": "code",
   "execution_count": null,
   "metadata": {},
   "outputs": [],
   "source": [
    " peer chaincode invoke -C mychannel -n basic -c '{\"function\":\"GetAllAssets\",\"Args\":[]}' --peerAddresses peer0.kubernetes.research.dev.seeburger.de:31866 --tlsRootCertFiles /tmp/hafen0-kubernetes.research.dev.seeburger.de-ca.crt --peerAddresses peer0.kubernetes.research.dev.seeburger.de:30755 --tlsRootCertFiles /tmp/hafen1-kubernetes.research.dev.seeburger.de-ca.crt --peerAddresses peer0.kubernetes.research.dev.seeburger.de:30948 --tlsRootCertFiles /tmp/hafen3-kubernetes.research.dev.seeburger.de-ca.crt -o orderer.example.com:7050 --ordererTLSHostnameOverride orderer.example.com --tls --cafile /tmp/tlsca.example.com-cert.pem\n"
   ]
  },
  {
   "cell_type": "code",
   "execution_count": null,
   "metadata": {},
   "outputs": [],
   "source": [
    "executePeerCmd(peers['hafen0'].pod_name,\"peer chaincode query -C mychannel -n basic -c '{\\\"function\\\":\\\"GetAllAssets\\\",\\\"Args\\\":[]}'\")"
   ]
  },
  {
   "cell_type": "code",
   "execution_count": null,
   "metadata": {},
   "outputs": [],
   "source": [
    "executePeerCmd(peers['hafen0'].pod_name,\"peer chaincode query -C mychannel -n basic -c '{\\\"function\\\":\\\"ReadAsset\\\",\\\"Args\\\":[\\\"asset1\\\"]}'\")"
   ]
  },
  {
   "cell_type": "code",
   "execution_count": null,
   "metadata": {},
   "outputs": [],
   "source": [
    "executePeerCmd(pod_name,\"peer chaincode query -C mychannel -n basic -c '{\\\"function\\\":\\\"ReadAsset\\\",\\\"Args\\\":[]}'\")"
   ]
  },
  {
   "cell_type": "code",
   "execution_count": null,
   "metadata": {},
   "outputs": [],
   "source": [
    "executePeerCmd(peers['hafen0'].pod_name,\"peer chaincode query -C mychannel -n basic -c '{\\\"function\\\":\\\"ReadAsset\\\",\\\"Args\\\":[\\\"asset1\\\"]}' --peerAddresses peer0.kubernetes.research.dev.seeburger.de:30773 --tlsRootCertFiles /tmp/sally0-kubernetes.research.dev.seeburger.de-ca.crt\")"
   ]
  },
  {
   "cell_type": "code",
   "execution_count": null,
   "metadata": {},
   "outputs": [],
   "source": [
    "executePeerCmd(peers['hafen0'].pod_name,\"export CORE_PEER_ADDRESS=peer0.kubernetes.research.dev.seeburger.de:31866 && peer chaincode query -C mychannel -n basic -c '{\\\"function\\\":\\\"ReadAsset\\\",\\\"Args\\\":[\\\"asset1\\\"]}'\")"
   ]
  },
  {
   "cell_type": "code",
   "execution_count": null,
   "metadata": {},
   "outputs": [],
   "source": [
    "CreateAsset(ctx contractapi.TransactionContextInterface, id, color string, size int, owner string, appraisedValue int)"
   ]
  },
  {
   "cell_type": "code",
   "execution_count": null,
   "metadata": {},
   "outputs": [],
   "source": [
    "peer chaincode invoke -C mychannel -n basic -c '{\"function\":\"CreateAsset\",\"Args\":[\"asset1\",\"blue\",\"5\",\"Tomoko\", \"300\"]}' --peerAddresses peer0.kubernetes.research.dev.seeburger.de:31866 --tlsRootCertFiles /tmp/hafen0-kubernetes.research.dev.seeburger.de-ca.crt --peerAddresses peer0.kubernetes.research.dev.seeburger.de:30755 --tlsRootCertFiles /tmp/hafen1-kubernetes.research.dev.seeburger.de-ca.crt --peerAddresses peer0.kubernetes.research.dev.seeburger.de:30948 --tlsRootCertFiles /tmp/hafen3-kubernetes.research.dev.seeburger.de-ca.crt -o orderer.example.com:7050 --ordererTLSHostnameOverride orderer.example.com --tls --cafile /tmp/tlsca.example.com-cert.pem\n",
    "\n",
    "peer chaincode invoke -C mychannel -n basic -c '{\"function\":\"ReadAsset\",\"Args\":[\"asset1\"]}' --peerAddresses peer0.kubernetes.research.dev.seeburger.de:31866 --tlsRootCertFiles /tmp/hafen0-kubernetes.research.dev.seeburger.de-ca.crt --peerAddresses peer0.kubernetes.research.dev.seeburger.de:30755 --tlsRootCertFiles /tmp/hafen1-kubernetes.research.dev.seeburger.de-ca.crt --peerAddresses peer0.kubernetes.research.dev.seeburger.de:30948 --tlsRootCertFiles /tmp/hafen3-kubernetes.research.dev.seeburger.de-ca.crt -o orderer.example.com:7050 --ordererTLSHostnameOverride orderer.example.com --tls --cafile /tmp/tlsca.example.com-cert.pem\n",
    "peer chaincode query  -C mychannel -n basic -c '{\"function\":\"ReadAsset\",\"Args\":[\"asset1\"]}'\n"
   ]
  },
  {
   "cell_type": "code",
   "execution_count": null,
   "metadata": {},
   "outputs": [],
   "source": [
    "executePeerCmd(pod_name, \"peer chaincode query -C mychannel -n basic -c '{\\\"function\\\":\\\"ReadAsset\\\",\\\"Args\\\":[\\\"asset2\\\"]}'\")"
   ]
  },
  {
   "cell_type": "code",
   "execution_count": null,
   "metadata": {},
   "outputs": [],
   "source": [
    "executePeerCmd(pod_name,  \"peer chaincode query -C mychannel -n basic -c '{\\\"function\\\":\\\"GetAllAssets\\\",\\\"Args\\\":[]}'\")"
   ]
  },
  {
   "cell_type": "code",
   "execution_count": null,
   "metadata": {},
   "outputs": [],
   "source": [
    "setPeerEnvironment(peername)\n",
    "\n",
    "#!/home/jovyan/work/usr/bin/kubectl exec --stdin --tty 'lara2-5d8bd488d6-kll5n' -c lara2 -- /bin/bash pwd"
   ]
  },
  {
   "cell_type": "code",
   "execution_count": null,
   "metadata": {},
   "outputs": [],
   "source": [
    "########## execute commands in container\n",
    "#!/home/jovyan/work/usr/bin/kubectl  exec -it $POD_NAME -c maja3 -- /bin/sh -c \"ls -l / && hostname\"\n",
    "#!/home/jovyan/work/usr/bin/kubectl  exec -it $POD_NAME -c scray-peer-cli -- /bin/bash -c \"ls -l / && hostname\"\n",
    "#!/home/jovyan/work/usr/bin/kubectl  exec -it $POD_NAME -c scray-peer-cli -- /bin/bash -c \"echo 'export ORDERER_CA=/tmp/tlsca.example.com-cert.pem' >> /root/.bashrc\""
   ]
  },
  {
   "cell_type": "code",
   "execution_count": null,
   "metadata": {},
   "outputs": [],
   "source": [
    "#setPeerEnvironment('tanja2')\n",
    "#!/home/jovyan/work/usr/bin/kubectl exec --stdin --tty $POD_NAME  -c scray-peer-cli --  /bin/sh export ORDERER_CA=\"/tmp/tlsca.example.com-cert.pem\"\n",
    "#!/home/jovyan/work/usr/bin/kubectl exec --stdin --tty $POD_NAME  -c scray-peer-cli --  ORDERER_HOSTNAME=\"orderer.example.com\"\n",
    "#!/home/jovyan/work/usr/bin/kubectl exec --stdin --tty $POD_NAME  -c scray-peer-cli --  CHANNEL_NAME=\"mychannel\"\n",
    "#!/home/jovyan/work/usr/bin/kubectl exec --stdin --tty $POD_NAME  -c scray-peer-cli --  CORE_PEER_ADDRESS=\"peer0.kubernetes.research.dev.seeburger.de:32222\"\n",
    "#!/home/jovyan/work/usr/bin/kubectl exec --stdin --tty $POD_NAME  -c scray-peer-cli --  CORE_PEER_MSPCONFIGPATH=\"/mnt/conf/organizations/peerOrganizations/kubernetes.research.dev.seeburger.de/users/Admin@kubernetes.research.dev.seeburger.de/msp\"\n",
    "\n",
    "\n",
    "!/home/jovyan/work/usr/bin/kubectl exec --stdin --tty $POD_NAME  -c scray-peer-cli -- env | fgrep ORDERER_HOSTNAME"
   ]
  },
  {
   "cell_type": "code",
   "execution_count": null,
   "metadata": {},
   "outputs": [],
   "source": [
    "peername='maja2'\n",
    "setPeerEnvironment(peername)\n",
    "os.environ['ORDERER_HOSTNAME'] = 'orderer.example.com'\n",
    "#!/home/jovyan/work/usr/bin/kubectl exec --stdin --tty $POD_NAME  -c scray-peer-cli -- env | fgrep ORDERER\n",
    "#!/home/jovyan/work/usr/bin/kubectl exec --stdin --tty $POD_NAME  -c scray-peer-cli -- which export\n",
    "print(getPod(peername),getPort(peername=peername, name='peer-listen'))"
   ]
  },
  {
   "cell_type": "code",
   "execution_count": null,
   "metadata": {},
   "outputs": [],
   "source": [
    "export ORDERER_CA=/tmp/tlsca.example.com-cert.pem\n",
    "export ORDERER_HOSTNAME=\"orderer.example.com\"\n",
    "export CHANNEL_NAME=\"mychannel\"\n",
    "export CORE_PEER_ADDRESS=\"peer0.kubernetes.research.dev.seeburger.de:32190\"\n",
    "export CORE_PEER_MSPCONFIGPATH=\"/mnt/conf/organizations/peerOrganizations/kubernetes.research.dev.seeburger.de/users/Admin@kubernetes.research.dev.seeburger.de/msp\"\n",
    "export SHARED_FS_HOST=10.15.136.41:30080\n",
    "export SHARED_FS_USER=scray\n",
    "export SHARED_FS_PW=scray\n",
    "\n",
    "curl --user $SHARED_FS_USER:$SHARED_FS_PW http://$SHARED_FS_HOST/ca/tlsca.example.com-cert.pem > /tmp/tlsca.example.com-cert.pem\n",
    "curl --user scray:scray http://10.15.136.41:30080/upload/org3_update_in_envelope.pb -o ./org3_update_in_envelope.pb\n",
    "peer channel signconfigtx -f org3_update_in_envelope.pb\n",
    "curl --user scray:scray -T ./org3_update_in_envelope.pb http://10.15.136.41:30080/upload/org3_update_in_envelope.pb\n",
    "  "
   ]
  },
  {
   "cell_type": "code",
   "execution_count": null,
   "metadata": {},
   "outputs": [],
   "source": [
    "!ls -l ./*.pb\n",
    "\n",
    "#sign update\n",
    "#createEnvironmentForPeer(localmspid=mspid2, tlsrootcert=crt2, mspconfigpath=msp2, peeraddress=addr2)\n",
    "#setPeerEnvironment('carla1')\n",
    "setPeerEnvironment('tanja2')\n",
    "!/home/jovyan/work/usr/bin/kubectl exec --stdin --tty $POD_NAME  -c scray-peer-cli -- curl --user scray:scray http://10.15.136.41:30080/upload/org3_update_in_envelope.pb -o ./org3_update_in_envelope.pb\n",
    "!/home/jovyan/work/usr/bin/kubectl exec --stdin --tty $POD_NAME  -c scray-peer-cli -- peer channel signconfigtx -f org3_update_in_envelope.pb\n",
    "!/home/jovyan/work/usr/bin/kubectl exec --stdin --tty $POD_NAME  -c scray-peer-cli -- curl --user scray:scray -T ./org3_update_in_envelope.pb http://10.15.136.41:30080/upload/org3_update_in_envelope.pb\n",
    "  "
   ]
  },
  {
   "cell_type": "markdown",
   "metadata": {},
   "source": [
    "# Install and aprove chaincode"
   ]
  },
  {
   "cell_type": "code",
   "execution_count": null,
   "metadata": {},
   "outputs": [],
   "source": [
    "setPeerEnvironment('tanja2')\n",
    "installAndAproveChaincode()"
   ]
  },
  {
   "cell_type": "code",
   "execution_count": null,
   "metadata": {},
   "outputs": [],
   "source": [
    "#!/home/jovyan/work/usr/bin/kubectl exec --stdin --tty $POD_NAME -c scray-peer-cli -- lifecycle chaincode querycommitted --channelID mychannel --name basic --output json"
   ]
  },
  {
   "cell_type": "code",
   "execution_count": null,
   "metadata": {},
   "outputs": [],
   "source": [
    "#setPeerEnvironment('klaus')\n",
    "!echo  $POD_NAME $IP_CC_SERVICE $IP_OF_EXAMPLE_NETWORK\n",
    "\n",
    "# Host where the chaincode is running\n",
    "os.environ['IP_CC_SERVICE']='10.14.128.38'\n",
    "#Host where the example network is running\n",
    "os.environ['IP_OF_EXAMPLE_NETWORK']='10.15.128.97'\n",
    "!/home/jovyan/work/usr/bin/kubectl exec --stdin --tty $POD_NAME -c scray-peer-cli -- /bin/sh /mnt/conf/install_and_approve_cc.sh $IP_CC_SERVICE $IP_OF_EXAMPLE_NETWORK"
   ]
  },
  {
   "cell_type": "code",
   "execution_count": null,
   "metadata": {},
   "outputs": [],
   "source": [
    "#!ping orderer.example.com 7050\n",
    "!more /etc/hosts"
   ]
  },
  {
   "cell_type": "markdown",
   "metadata": {},
   "source": [
    "# ------------------------------------------------------------------------"
   ]
  },
  {
   "cell_type": "code",
   "execution_count": null,
   "metadata": {},
   "outputs": [],
   "source": [
    "#kubectl get pods -l k8s-app=kube-dns -o jsonpath={.items[*].spec.containers[*].name}\n",
    "#kubectl get pods hafen1-69947bff88-2pgxs -o json\n",
    "#cmd= ['get', 'pods', 'hafen1-69947bff88-2pgxs', '-o', 'jsonpath={.items[*].spec.containers[*].name}']\n",
    "cmd= ['get', 'pods', 'hafen1-69947bff88-2pgxs', '-o', 'json']\n",
    "#f:spec': {'f:containers': {'k:{\"name\":\"hafen1\"}\n",
    "len(json.loads(executeKubectlCmd(cmd).decode('ascii'))['spec']['containers'])"
   ]
  },
  {
   "cell_type": "markdown",
   "metadata": {},
   "source": [
    "# Shell only"
   ]
  },
  {
   "cell_type": "code",
   "execution_count": null,
   "metadata": {},
   "outputs": [],
   "source": [
    "#!echo $GOSSIP_PORT, $PEER_NAME\n",
    "getPort(peername=peername, name='peer-listen')"
   ]
  },
  {
   "cell_type": "code",
   "execution_count": null,
   "metadata": {},
   "outputs": [],
   "source": [
    "GOSSIP_PORT=$(kubectl get service $PEER_NAME -o jsonpath=\"{.spec.ports[?(@.name=='peer-gossip')].nodePort}\")\n",
    "PEER_LISTEN_PORT=$(kubectl get service $PEER_NAME -o jsonpath=\"{.spec.ports[?(@.name=='peer-listen')].nodePort}\")\n",
    "PEER_CHAINCODE_PORT=$(kubectl get service $PEER_NAME -o jsonpath=\"{.spec.ports[?(@.name=='peer-chaincode')].nodePort}\")\n"
   ]
  },
  {
   "cell_type": "code",
   "execution_count": null,
   "metadata": {},
   "outputs": [],
   "source": [
    "!echo $(/home/jovyan/work/usr/bin/kubectl get service $PEER_NAME -o jsonpath=\"{.spec.ports[?(@.name=='peer-gossip')].nodePort}\")\n",
    "!echo $(/home/jovyan/work/usr/bin/kubectl get service $PEER_NAME -o jsonpath=\"{.spec.ports[?(@.name=='peer-listen')].nodePort}\")\n",
    "!echo $(/home/jovyan/work/usr/bin/kubectl get service $PEER_NAME -o jsonpath=\"{.spec.ports[?(@.name=='peer-chaincode')].nodePort}\")"
   ]
  },
  {
   "cell_type": "code",
   "execution_count": null,
   "metadata": {},
   "outputs": [],
   "source": [
    "os.environ['GOSSIP_PORT'] = \"32068\"  \n",
    "os.environ['PEER_LISTEN_PORT'] = \"30251\"\n",
    "os.environ['PEER_CHAINCODE_PORT'] = \"30052\"\n",
    "!echo $GOSSIP_PORT\n",
    "#!echo $(/home/jovyan/work/usr/bin/kubectl get service $PEER_NAME -o jsonpath=\"{.spec.ports[?(@.name=='peer-gossip')].nodePort}\")"
   ]
  },
  {
   "cell_type": "code",
   "execution_count": null,
   "metadata": {},
   "outputs": [],
   "source": [
    "!/home/jovyan/work/usr/bin/kubectl create configmap hl-fabric-peer-$PEER_NAME \\\n",
    " --from-literal=hostname=kubernetes.research.dev.seeburger.de \\\n",
    " --from-literal=org_name=$PEER_NAME \\\n",
    " --from-literal=CORE_PEER_ADDRESS=kubernetes.research.dev.seeburger.de:$PEER_LISTEN_PORT \\\n",
    " --from-literal=CORE_PEER_GOSSIP_EXTERNALENDPOINT=kubernetes.research.dev.seeburger.de:$GOSSIP_PORT \\\n",
    " --from-literal=CORE_PEER_LOCALMSPID=${PEER_NAME}MSP"
   ]
  },
  {
   "cell_type": "code",
   "execution_count": null,
   "metadata": {},
   "outputs": [],
   "source": [
    "!/home/jovyan/work/usr/bin/kubectl apply -f /home/jovyan/scray/projects/invoice-hyperledger-fabric/containers/target/$PEER_NAME/k8s-peer.yaml"
   ]
  },
  {
   "cell_type": "code",
   "execution_count": null,
   "metadata": {},
   "outputs": [],
   "source": [
    "POD_NAME=$(/home/jovyan/work/usr/bin/kubectl  get pod -l app=peer0-org1-scray-org -o jsonpath=\"{.items[0].metadata.name}\")\n",
    "kubectl exec --stdin --tty $POD_NAME  -c scray-peer-cli -- /bin/sh /mnt/conf/peer_join.sh $ORDERER_IP  $ORDERER_HOSTNAME $CHANNEL_NAME"
   ]
  },
  {
   "cell_type": "code",
   "execution_count": null,
   "metadata": {},
   "outputs": [],
   "source": [
    "!echo $(/home/jovyan/work/usr/bin/kubectl  get pod -l app=$PEER_NAME -o jsonpath=\"{.items[0].metadata.name}\")\n"
   ]
  },
  {
   "cell_type": "code",
   "execution_count": null,
   "metadata": {},
   "outputs": [],
   "source": [
    "os.environ['POD_NAME'] = \"tom-6647c77bbb-hjlkc\"\n",
    "os.environ['ORDERER_IP'] = '10.15.128.97'\n",
    "os.environ['ORDERER_HOSTNAME'] = 'orderer.example.com'\n",
    "os.environ['CHANNEL_NAME'] = 'mychannel'\n",
    "\n",
    "!/home/jovyan/work/usr/bin/kubectl exec --stdin --tty $POD_NAME  -c scray-peer-cli -- /bin/sh /mnt/conf/peer_join.sh $ORDERER_IP  $ORDERER_HOSTNAME $CHANNEL_NAME"
   ]
  },
  {
   "cell_type": "markdown",
   "metadata": {},
   "source": [
    "# Delete old peer"
   ]
  },
  {
   "cell_type": "code",
   "execution_count": null,
   "metadata": {},
   "outputs": [],
   "source": [
    "!/home/jovyan/work/usr/bin/kubectl delete configmap hl-fabric-peer-klaus\n",
    "!/home/jovyan/work/usr/bin/kubectl delete -f /home/jovyan/scray/projects/invoice-hyperledger-fabric/containers/target/klaus/k8s-peer.yaml\n",
    "!/home/jovyan/work/usr/bin/kubectl delete service klaus"
   ]
  },
  {
   "cell_type": "code",
   "execution_count": null,
   "metadata": {},
   "outputs": [],
   "source": [
    "#deletePeer('carla1')\n",
    "deletePeer('ff')"
   ]
  },
  {
   "cell_type": "code",
   "execution_count": null,
   "metadata": {},
   "outputs": [],
   "source": [
    "!/home/jovyan/work/usr/bin/kubectl get configmap \n",
    "!/home/jovyan/work/usr/bin/kubectl get deployments \n",
    "#!/home/jovyan/work/usr/bin/kubectl get svc -o json\n",
    "!/home/jovyan/work/usr/bin/kubectl get svc"
   ]
  },
  {
   "cell_type": "markdown",
   "metadata": {},
   "source": [
    "# Create new peer and 'apply'"
   ]
  },
  {
   "cell_type": "code",
   "execution_count": null,
   "metadata": {},
   "outputs": [],
   "source": [
    "!/home/jovyan/work/usr/bin/kubectl create configmap hl-fabric-peer \\\n",
    " --from-literal=hostname=kubernetes.research.dev.seeburger.de \\\n",
    " --from-literal=org_name=OrgSally \\ \n",
    " --from-literal=CORE_PEER_ADDRESS=kubernetes.research.dev.seeburger.de:30003 \\\n",
    " --from-literal=CORE_PEER_GOSSIP_EXTERNALENDPOINT=kubernetes.research.dev.seeburger.de:30001 \\\n",
    " --from-literal=CORE_PEER_LOCALMSPID=OrgSallyMSP\n",
    "\n",
    "!/home/jovyan/work/usr/bin/kubectl apply -f https://raw.githubusercontent.com/scray/scray/feature/k8s-peer/projects/invoice-hyperledger-fabric/containers/k8s-peer.yaml        "
   ]
  },
  {
   "cell_type": "markdown",
   "metadata": {},
   "source": [
    "1. Der neue Peer wurde erzeugt. All relevant infos and cryptos for the application is uploaded to external sharepoint\n",
    "2. Now the application needs to be signed by other peers"
   ]
  },
  {
   "cell_type": "markdown",
   "metadata": {},
   "source": [
    "# Now the peer can join the network"
   ]
  },
  {
   "cell_type": "code",
   "execution_count": null,
   "metadata": {},
   "outputs": [],
   "source": [
    "import os\n",
    "import json\n",
    "import subprocess\n",
    "import pandas as pd\n",
    "\n",
    "!/home/jovyan/work/usr/bin/kubectl get pods\n",
    "os.environ['POD_NAME'] = 'peer0-org1-scray-org-5c4d69f556-snz5c'"
   ]
  },
  {
   "cell_type": "code",
   "execution_count": null,
   "metadata": {},
   "outputs": [],
   "source": [
    "#!/home/jovyan/work/usr/bin/kubectl get pods | fgrep peer0\n",
    "#!POD_NAME=$(/home/jovyan/work/usr/bin/kubectl get pod -l app=peer0-org1-scray-org | tail -n 1 | cut -d' ' -f1)\n",
    "os.environ['ORDERER_IP'] = '10.15.128.97'\n",
    "os.environ['ORDERER_HOSTNAME'] = 'orderer.example.com'\n",
    "os.environ['CHANNEL_NAME'] = 'mychannel'\n",
    "\n",
    "!echo $POD_NAME\n",
    "!/home/jovyan/work/usr/bin/kubectl exec --stdin --tty $POD_NAME -c scray-peer-cli -- /bin/sh /mnt/conf/peer_join.sh $ORDERER_IP $ORDERER_HOSTNAME $CHANNEL_NAME"
   ]
  },
  {
   "cell_type": "code",
   "execution_count": null,
   "metadata": {},
   "outputs": [],
   "source": [
    "os.environ['ORDERER_IP'] = '10.15.128.97'\n",
    "os.environ['ORDERER_HOSTNAME'] = 'orderer.example.com'\n",
    "os.environ['CHANNEL_NAME'] = 'super2'\n",
    "\n",
    "!echo $POD_NAME\n",
    "!/home/jovyan/work/usr/bin/kubectl exec --stdin --tty $POD_NAME -c scray-peer-cli -- /bin/sh /mnt/conf/peer_join.sh $ORDERER_IP $ORDERER_HOSTNAME $CHANNEL_NAME"
   ]
  },
  {
   "cell_type": "code",
   "execution_count": null,
   "metadata": {},
   "outputs": [],
   "source": [
    "peers['olya0'].__dict__"
   ]
  },
  {
   "cell_type": "code",
   "execution_count": null,
   "metadata": {},
   "outputs": [],
   "source": [
    "!/home/jovyan/work/usr/bin/kubectl exec --stdin --tty 'olya0-c658f7997-9wh22'  -c scray-peer-cli -- /bin/sh /mnt/conf/peer_join.sh 10.15.128.97 'orderer.example.com'  7050 super2 10.14.128.38:30080 "
   ]
  },
  {
   "cell_type": "code",
   "execution_count": null,
   "metadata": {},
   "outputs": [],
   "source": [
    "PEER_POD_NAME=$(kubectl get pod -l app=$PEER_NAME -o jsonpath=\"{.items[0].metadata.name}\")\n",
    "ORDERER_PORT=$(kubectl get service orderer-org1-scray-org -o jsonpath=\"{.spec.ports[?(@.name=='orderer-listen')].nodePort}\")\n",
    "ORDERER_PORT=7050\n",
    "PEER_PORT=$(kubectl get service $PEER_NAME -o jsonpath=\"{.spec.ports[?(@.name=='peer-listen')].nodePort}\")\n",
    "kubectl exec --stdin --tty $PEER_POD_NAME  -c scray-peer-cli -- /bin/sh /mnt/conf/peer_join.sh $ORDERER_IP  $ORDERER_HOSTNAME $ORDERER_PORT $CHANNEL_NAME $SHARED_FS_HOST"
   ]
  },
  {
   "cell_type": "code",
   "execution_count": null,
   "metadata": {},
   "outputs": [],
   "source": [
    "#!/home/jovyan/work/usr/bin/kubectl exec --stdin --tty peer0-org1-scray-org-84ddc5757f-glbgn -c scray-peer-cli -- /bin/sh /mnt/conf/install_and_approve_cc.sh $IP_CC_SERVICE $IP_OF_EXAMPLE_NETWORK"
   ]
  },
  {
   "cell_type": "markdown",
   "metadata": {},
   "source": [
    "# Install and aprove chaincode"
   ]
  },
  {
   "cell_type": "code",
   "execution_count": null,
   "metadata": {},
   "outputs": [],
   "source": []
  },
  {
   "cell_type": "code",
   "execution_count": null,
   "metadata": {},
   "outputs": [],
   "source": [
    "# Host where the chaincode is running\n",
    "os.environ['IP_CC_SERVICE']='10.14.128.38'\n",
    "#Host where the example network is running\n",
    "os.environ['IP_OF_EXAMPLE_NETWORK']='10.15.128.97'\n",
    "!/home/jovyan/work/usr/bin/kubectl exec --stdin --tty $POD_NAME -c scray-peer-cli -- /bin/sh /mnt/conf/install_and_approve_cc.sh $IP_CC_SERVICE $IP_OF_EXAMPLE_NETWORK"
   ]
  },
  {
   "cell_type": "markdown",
   "metadata": {},
   "source": [
    "# QR Code"
   ]
  },
  {
   "cell_type": "code",
   "execution_count": null,
   "metadata": {},
   "outputs": [],
   "source": [
    "#!pip install qrcode"
   ]
  },
  {
   "cell_type": "code",
   "execution_count": null,
   "metadata": {},
   "outputs": [],
   "source": [
    "#Import Library\n",
    "import qrcode#Generate QR Code\n",
    "img=qrcode.make('Hello World')\n",
    "img.save('hello.png')"
   ]
  },
  {
   "cell_type": "code",
   "execution_count": null,
   "metadata": {},
   "outputs": [],
   "source": [
    "qr = qrcode.QRCode(\n",
    "    version=1,\n",
    "    error_correction=qrcode.constants.ERROR_CORRECT_L,\n",
    "    box_size=10,\n",
    "    border=4,\n",
    ")\n",
    "qr.add_data(\"https://scray.org\")\n",
    "qr.make(fit=True)\n",
    "img = qr.make_image(fill_color=\"red\", back_color=\"black\")\n",
    "img.save(\"medium.png\")"
   ]
  },
  {
   "cell_type": "code",
   "execution_count": null,
   "metadata": {},
   "outputs": [],
   "source": [
    "! pip install opencv-python"
   ]
  },
  {
   "cell_type": "code",
   "execution_count": null,
   "metadata": {},
   "outputs": [],
   "source": [
    "img=cv2.imread(\"medium.png\")\n",
    "det=cv2.QRCodeDetector()\n",
    "val, pts, st_code=det.detectAndDecode(img)\n",
    "print(val)"
   ]
  },
  {
   "cell_type": "markdown",
   "metadata": {},
   "source": [
    "# TMP"
   ]
  },
  {
   "cell_type": "code",
   "execution_count": null,
   "metadata": {},
   "outputs": [],
   "source": [
    "print(getPod(peername),getPort(peername=peername, name='peer-listen'))"
   ]
  },
  {
   "cell_type": "code",
   "execution_count": null,
   "metadata": {},
   "outputs": [],
   "source": [
    "export ORDERER_CA=\"/tmp/tlsca.example.com-cert.pem\"\n",
    "export ORDERER_HOSTNAME=\"orderer.example.com\"\n",
    "export CHANNEL_NAME=\"mychannel\"\n",
    "export CORE_PEER_ADDRESS=\"peer0.kubernetes.research.dev.seeburger.de:32190\"\n",
    "export CORE_PEER_MSPCONFIGPATH=\"/mnt/conf/organizations/peerOrganizations/kubernetes.research.dev.seeburger.de/users/Admin@kubernetes.research.dev.seeburger.de/msp\"\n",
    "\n",
    "peer lifecycle chaincode querycommitted --channelID mychannel --name basic --output json\n",
    "   "
   ]
  },
  {
   "cell_type": "code",
   "execution_count": null,
   "metadata": {},
   "outputs": [],
   "source": [
    "def readAsset(asset='asset1'):\n",
    "    callopt= '{\\\"function\\\":\\\"ReadAsset\\\",\\\"Args\\\":[' + '\\\"' + asset + '\\\"' + ']}'\n",
    "    try:    \n",
    "        callProcess  = subprocess.check_output(['/home/jovyan/work/usr/bin/kubectl exec --stdin --tty $POD_NAME -c scray-peer-cli -- peer', 'chaincode','query', '-C', 'mychannel', '-n', 'basic', '-c', callopt])\n",
    "        return json.loads(str(callProcess)[2:-3])\n",
    "    except Exception as e:\n",
    "        return str(e)\n",
    "    \n",
    "readAsset('asset1')    "
   ]
  },
  {
   "cell_type": "code",
   "execution_count": null,
   "metadata": {},
   "outputs": [],
   "source": [
    "!/home/jovyan/work/usr/bin/kubectl exec --stdin --tty $POD_NAME -c scray-peer-cli -- peer lifecycle chaincode querycommitted --channelID mychannel --name basic --output json"
   ]
  },
  {
   "cell_type": "code",
   "execution_count": null,
   "metadata": {},
   "outputs": [],
   "source": [
    "!/home/jovyan/work/usr/bin/kubectl exec --stdin --tty $POD_NAME -c scray-peer-cli -- peer"
   ]
  },
  {
   "cell_type": "code",
   "execution_count": null,
   "metadata": {},
   "outputs": [],
   "source": [
    "#pip install PyYAML\n",
    "import yaml"
   ]
  }
 ],
 "metadata": {
  "kernelspec": {
   "display_name": "Python 3 (ipykernel)",
   "language": "python",
   "name": "python3"
  },
  "language_info": {
   "codemirror_mode": {
    "name": "ipython",
    "version": 3
   },
   "file_extension": ".py",
   "mimetype": "text/x-python",
   "name": "python",
   "nbconvert_exporter": "python",
   "pygments_lexer": "ipython3",
   "version": "3.9.5"
  }
 },
 "nbformat": 4,
 "nbformat_minor": 4
}
