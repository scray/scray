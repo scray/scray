{
 "cells": [
  {
   "cell_type": "markdown",
   "metadata": {},
   "source": [
    "# Current Blockchain ( 2nodes )"
   ]
  },
  {
   "cell_type": "code",
   "execution_count": 1,
   "metadata": {},
   "outputs": [],
   "source": [
    "!rm -f /tmp/*.json\n",
    "!rm -f /tmp/*.pb"
   ]
  },
  {
   "cell_type": "code",
   "execution_count": null,
   "metadata": {},
   "outputs": [],
   "source": [
    "!peer lifecycle chaincode querycommitted --channelID mychannel --name scray-invoice-example --output json"
   ]
  },
  {
   "cell_type": "markdown",
   "metadata": {},
   "source": [
    "# init peer access (certificates,...)"
   ]
  },
  {
   "cell_type": "code",
   "execution_count": 2,
   "metadata": {},
   "outputs": [],
   "source": [
    "import os\n",
    "import json\n",
    "import subprocess\n",
    "import pandas as pd\n",
    " \n",
    "pwd0 = \"/home/jovyan/work/fabric-samples/\"\n",
    "pwd = \"/home/jovyan/work/fabric-samples/test-network\"\n",
    "\n",
    "os.environ['PATH'] = \"/home/jovyan/work/fabric-samples/bin:\" + str(os.environ.get('PATH')) \n",
    "os.environ['CORE_PEER_TLS_ENABLED'] = \"true\"\n",
    "os.environ['CORE_PEER_LOCALMSPID'] = \"Org1MSP\"\n",
    "os.environ['CORE_PEER_TLS_ROOTCERT_FILE'] = pwd + \"/organizations/peerOrganizations/org1.example.com/peers/peer0.org1.example.com/tls/ca.crt\"\n",
    "os.environ['CORE_PEER_MSPCONFIGPATH'] = pwd + \"/organizations/peerOrganizations/org1.example.com/users/Admin@org1.example.com/msp\"\n",
    "os.environ['CORE_PEER_ADDRESS'] = \"peer0.org1.example.com:7051\"\n",
    "os.environ['FABRIC_CFG_PATH'] = pwd0 + \"/config/\"\n",
    "\n",
    "addr0 = 'peer0.org1.example.com:7050'\n",
    "orderer = 'orderer.example.com'\n",
    "ordererpem = pwd + '/organizations/ordererOrganizations/example.com/orderers/orderer.example.com/msp/tlscacerts/tlsca.example.com-cert.pem'\n",
    "addr1 = 'peer0.org1.example.com:7051'\n",
    "crt1 = pwd + '/organizations/peerOrganizations/org1.example.com/peers/peer0.org1.example.com/tls/ca.crt'\n",
    "addr2 = 'peer0.org2.example.com:9051'\n",
    "crt2 = pwd + '/organizations/peerOrganizations/org2.example.com/peers/peer0.org2.example.com/tls/ca.crt' \n",
    "\n",
    "msp1 = pwd + '/organizations/peerOrganizations/org1.example.com/users/Admin@org1.example.com/msp'\n",
    "msp2 = pwd + '/organizations/peerOrganizations/org2.example.com/users/Admin@org2.example.com/msp'"
   ]
  },
  {
   "cell_type": "code",
   "execution_count": 3,
   "metadata": {},
   "outputs": [
    {
     "name": "stdout",
     "output_type": "stream",
     "text": [
      "\u001b[34m2020-12-17 16:05:08.279 UTC [channelCmd] InitCmdFactory -> INFO 001\u001b[0m Endorser and orderer connections initialized\n",
      "\u001b[34m2020-12-17 16:05:08.283 UTC [cli.common] readBlock -> INFO 002\u001b[0m Received block: 5\n",
      "\u001b[34m2020-12-17 16:05:08.283 UTC [channelCmd] fetch -> INFO 003\u001b[0m Retrieving last config block: 2\n",
      "\u001b[34m2020-12-17 16:05:08.286 UTC [cli.common] readBlock -> INFO 004\u001b[0m Received block: 2\n"
     ]
    }
   ],
   "source": [
    "os.environ['ORDERER_IP']=\"10.15.128.97\"\n",
    "os.environ['ORDERER_HOSTNAME']=\"orderer.example.com\" \n",
    "os.environ['CHANNEL_NAME']=\"mychannel\"\n",
    "os.environ['ORG_ID']=\"henry2\"\n",
    "\n",
    "os.environ['CORE_PEER_LOCALMSPID']=\"Org1MSP\"\n",
    "os.environ['CORE_PEER_TLS_ROOTCERT_FILE']=crt1\n",
    "os.environ['CORE_PEER_MSPCONFIGPATH']=msp1\n",
    "os.environ['ORDERER_CA']=ordererpem\n",
    "\n",
    "os.environ['CORE_PEER_ADDRESS'] = \"peer0.org1.example.com:7051\"\n",
    "\n",
    "!peer channel fetch config /tmp/config_block.pb -o orderer.example.com:7050 -c $CHANNEL_NAME --tls --cafile $ORDERER_CA > /dev/null\n",
    "!configtxlator proto_decode --input /tmp/config_block.pb --type common.Block | jq .data.data[0].payload.data.config > /tmp/config.json    "
   ]
  },
  {
   "cell_type": "code",
   "execution_count": null,
   "metadata": {},
   "outputs": [],
   "source": [
    "# Upload CA cert\n",
    "os.environ['SHARED_FS_HOST']=\"10.15.136.41:30080\"\n",
    "os.environ['SHARED_FS_USER']=\"scray\"\n",
    "os.environ['SHARED_FS_PW']=\"scray\"\n",
    "#!apk add curl\n",
    "\n",
    "os.environ['NEW_ORG_NAME']=\"henry1\"\n",
    "\n",
    "!curl --user $SHARED_FS_USER:$SHARED_FS_PW -X MKCOL http://$SHARED_FS_HOST/ca\n",
    "!curl --user $SHARED_FS_USER:$SHARED_FS_PW -T /home/jovyan/work/fabric-samples/test-network/organizations/ordererOrganizations/example.com/orderers/orderer.example.com/msp/tlscacerts/tlsca.example.com-cert.pem http://$SHARED_FS_HOST/ca/tlsca.example.com-cert.pem\n",
    "\n",
    "# Get configuration of new peer\n",
    "#curl --user 'scray:scray' http://${SHARED_FS_HOST}/newmemberrequests/$CHANNEL_NAME/${NEW_ORG_NAME}.json > new_member_org.json\n",
    "!curl --user $SHARED_FS_USER:$SHARED_FS_PW  http://${SHARED_FS_HOST}/newmemberrequests/$CHANNEL_NAME/${NEW_ORG_NAME}.json > /tmp/new_member_org.json \n",
    "        \n",
    "# Add org3 data to existing config\n",
    "!jq -s \".[0] \"*\" {\\\"channel_group\\\":{\\\"groups\\\":{\\\"Application\\\":{\\\"groups\\\": {\\\"${NEW_ORG_NAME}MSP\\\":.[1]}}}}}\" /tmp/config.json /tmp/new_member_org.json > /tmp/modified_config.json\n",
    "\n",
    "!configtxlator proto_encode --input /tmp/config.json --type common.Config --output /tmp/config.pb\n",
    "!configtxlator proto_encode --input /tmp/modified_config.json --type common.Config --output /tmp/modified_config.pb\n",
    "!configtxlator compute_update --channel_id $CHANNEL_NAME --original /tmp/config.pb --updated /tmp/modified_config.pb --output /tmp/org3_update.pb\n",
    "!configtxlator proto_decode --input /tmp/org3_update.pb --type common.ConfigUpdate | jq . > /tmp/org3_update.json\n",
    "!echo '{\"payload\":{\"header\":{\"channel_header\":{\"channel_id\":\"'$CHANNEL_NAME'\", \"type\":2}},\"data\":{\"config_update\":'$(cat /tmp/org3_update.json)'}}}' | jq . > /tmp/org3_update_in_envelope.json\n",
    "!configtxlator proto_encode --input /tmp/org3_update_in_envelope.json --type common.Envelope --output /tmp/org3_update_in_envelope.pb        "
   ]
  },
  {
   "cell_type": "markdown",
   "metadata": {},
   "source": [
    "sign and update"
   ]
  },
  {
   "cell_type": "code",
   "execution_count": null,
   "metadata": {},
   "outputs": [],
   "source": [
    "!peer channel signconfigtx -f /tmp/org3_update_in_envelope.pb\n",
    "\n",
    "os.environ['CORE_PEER_LOCALMSPID']=\"Org2MSP\"\n",
    "os.environ['CORE_PEER_TLS_ROOTCERT_FILE']=crt2\n",
    "os.environ['CORE_PEER_MSPCONFIGPATH']=msp2\n",
    "os.environ['ORDERER_CA']=ordererpem\n",
    "os.environ['CORE_PEER_ADDRESS'] = addr2\n",
    "\n",
    "!peer channel update -f /tmp/org3_update_in_envelope.pb -c $CHANNEL_NAME -o orderer.example.com:7050 --tls --cafile $ORDERER_CA"
   ]
  },
  {
   "cell_type": "markdown",
   "metadata": {},
   "source": [
    "# network_install_and_approve_cc"
   ]
  },
  {
   "cell_type": "code",
   "execution_count": null,
   "metadata": {},
   "outputs": [],
   "source": [
    "#!pwd\n",
    "#!ls /home/jovyan/work/scray/projects/invoice-hyperledger-fabric/scripts/example_network_install_and_approve_cc.sh\n",
    "!cd /tmp\n",
    "!/home/jovyan/work/scray/projects/invoice-hyperledger-fabric/scripts/example_network_install_and_approve_cc.sh 10.14.128.38 10.15.128.97 /home/jovyan/work/fabric-samples/test-network"
   ]
  },
  {
   "cell_type": "markdown",
   "metadata": {},
   "source": [
    "# commit"
   ]
  },
  {
   "cell_type": "code",
   "execution_count": null,
   "metadata": {},
   "outputs": [],
   "source": [
    "os.environ['IP_CC_SERVICE']='10.14.128.38'\n",
    "#Host where the example network is running\n",
    "os.environ['IP_OF_EXAMPLE_NETWORK']='10.15.128.97'\n",
    "\n",
    "!/home/jovyan/work/scray/projects/invoice-hyperledger-fabric/scripts/example_network_commit_cc.sh $IP_CC_SERVICE $IP_OF_EXAMPLE_NETWORK /home/jovyan/work/fabric-samples/test-network"
   ]
  },
  {
   "cell_type": "markdown",
   "metadata": {},
   "source": [
    "# check network (approved chaincode)"
   ]
  },
  {
   "cell_type": "code",
   "execution_count": null,
   "metadata": {},
   "outputs": [],
   "source": [
    "!peer lifecycle chaincode querycommitted --channelID mychannel --name basic --output json"
   ]
  },
  {
   "cell_type": "code",
   "execution_count": null,
   "metadata": {},
   "outputs": [],
   "source": [
    "!peer lifecycle chaincode querycommitted --channelID mychannel --name scray-invoice-example --output json"
   ]
  },
  {
   "cell_type": "markdown",
   "metadata": {},
   "source": [
    "# Test"
   ]
  },
  {
   "cell_type": "code",
   "execution_count": null,
   "metadata": {},
   "outputs": [],
   "source": [
    "def readAsset(asset='asset1'):\n",
    "    callopt= '{\\\"function\\\":\\\"ReadAsset\\\",\\\"Args\\\":[' + '\\\"' + asset + '\\\"' + ']}'\n",
    "    try:    \n",
    "        callProcess  = subprocess.check_output(['peer', 'chaincode','query', '-C', 'mychannel', '-n', 'basic', '-c', callopt])\n",
    "        return json.loads(str(callProcess)[2:-3])\n",
    "    except Exception as e:\n",
    "        return str(e)\n",
    "    \n",
    "readAsset('asset1')    "
   ]
  },
  {
   "cell_type": "code",
   "execution_count": null,
   "metadata": {},
   "outputs": [],
   "source": [
    "readAsset('asset2')  "
   ]
  },
  {
   "cell_type": "code",
   "execution_count": null,
   "metadata": {},
   "outputs": [],
   "source": [
    "readAsset('asset4')  "
   ]
  },
  {
   "cell_type": "code",
   "execution_count": null,
   "metadata": {},
   "outputs": [],
   "source": [
    "!peer chaincode query -C mychannel -n basic -c '{\"function\":\"GetAllAssets\",\"Args\":[]}'"
   ]
  },
  {
   "cell_type": "markdown",
   "metadata": {},
   "source": [
    "# REST"
   ]
  },
  {
   "cell_type": "code",
   "execution_count": null,
   "metadata": {},
   "outputs": [],
   "source": [
    "!peer channel fetch config /tmp/config_block.pb -o orderer.example.com:7050 -c $CHANNEL_NAME --tls --cafile $ORDERER_CA > /dev/null  "
   ]
  },
  {
   "cell_type": "code",
   "execution_count": null,
   "metadata": {},
   "outputs": [],
   "source": [
    "#peer channel fetch config config_block.pb -o orderer.example.com:7050 -c $CHANNEL_NAME --tls --cafile $ORDERER_CA\n",
    "import sys    \n",
    "def channelFetch(channelName,ordererpem):\n",
    "    #rint(channelName,ordererpem)\n",
    "    try:    \n",
    "        output = subprocess.check_output(['peer', 'channel','fetch', 'config', 'config_block.pb', '-o', 'orderer.example.com:7050', '-c',channelName, '--tls', \n",
    "                                               '--cafile', ordererpem], stderr=subprocess.STDOUT, shell=True, timeout=3,universal_newlines=True)\n",
    "        #output = subprocess.check_output(['peer', 'channel','fetch', 'config', 'config_block.pb', '-o', 'orderer.example.com:7050', '-c',channelName, '--tls', 'cafile', ordererpem], stderr=subprocess.STDOUT, shell=True, timeout=3,universal_newlines=True)\n",
    "        #output = subprocess.check_output(['peer', 'channel','fetch','newest', 'config', '/tmp/config_block.pb', '-o', 'orderer.example.com:7050', '-c',channelName, '--tls', '--cafile', ordererpem], stderr=subprocess.STDOUT)\n",
    "        \n",
    "    #xcept Exception as e:\n",
    "    #   print('exception' + str(e))\n",
    "    #   return None\n",
    "    except subprocess.CalledProcessError as exc:\n",
    "        print(\"Status : FAIL\", exc.returncode, exc.output)\n",
    "    else:\n",
    "        print(\"Output: \\n{}\\n\".format(output))\n",
    "    \n",
    "#channelFetch('mychannel',ordererpem)    \n",
    "\n",
    "#!cd /home/jovyan/work/\n",
    "#rm -f config_block.pb\n",
    "channelFetch('mychannel',ordererpem)\n"
   ]
  },
  {
   "cell_type": "code",
   "execution_count": null,
   "metadata": {},
   "outputs": [],
   "source": []
  }
 ],
 "metadata": {
  "kernelspec": {
   "display_name": "Python 3",
   "language": "python",
   "name": "python3"
  },
  "language_info": {
   "codemirror_mode": {
    "name": "ipython",
    "version": 3
   },
   "file_extension": ".py",
   "mimetype": "text/x-python",
   "name": "python",
   "nbconvert_exporter": "python",
   "pygments_lexer": "ipython3",
   "version": "3.8.6"
  }
 },
 "nbformat": 4,
 "nbformat_minor": 4
}
