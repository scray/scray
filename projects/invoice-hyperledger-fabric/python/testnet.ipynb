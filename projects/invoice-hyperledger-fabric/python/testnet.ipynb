{
 "cells": [
  {
   "cell_type": "markdown",
   "metadata": {},
   "source": [
    "# Current Blockchain ( 2nodes )"
   ]
  },
  {
   "cell_type": "code",
   "execution_count": null,
   "metadata": {},
   "outputs": [],
   "source": [
    "!rm -f /tmp/*.json\n",
    "!rm -f /tmp/*.pb"
   ]
  },
  {
   "cell_type": "code",
   "execution_count": 5,
   "metadata": {},
   "outputs": [
    {
     "name": "stdout",
     "output_type": "stream",
     "text": [
      "{\n",
      "\t\"sequence\": 1,\n",
      "\t\"version\": \"1.0\",\n",
      "\t\"endorsement_plugin\": \"escc\",\n",
      "\t\"validation_plugin\": \"vscc\",\n",
      "\t\"validation_parameter\": \"EiAvQ2hhbm5lbC9BcHBsaWNhdGlvbi9FbmRvcnNlbWVudA==\",\n",
      "\t\"collections\": {},\n",
      "\t\"approvals\": {\n",
      "\t\t\"Org1MSP\": true,\n",
      "\t\t\"Org2MSP\": true,\n",
      "\t\t\"oly0MSP\": false\n",
      "\t}\n",
      "}\n"
     ]
    }
   ],
   "source": [
    "!peer lifecycle chaincode querycommitted --channelID mychannel --name scray-invoice-example --output json"
   ]
  },
  {
   "cell_type": "markdown",
   "metadata": {},
   "source": [
    "# init peer access (certificates,...)"
   ]
  },
  {
   "cell_type": "code",
   "execution_count": 1,
   "metadata": {},
   "outputs": [],
   "source": [
    "import os\n",
    "import json\n",
    "import subprocess\n",
    "import pandas as pd\n",
    " \n",
    "pwd0 = \"/home/jovyan/work/fabric-samples/\"\n",
    "pwd = \"/home/jovyan/work/fabric-samples/test-network\"\n",
    "\n",
    "os.environ['PATH'] = \"/home/jovyan/work/fabric-samples/bin:\" + str(os.environ.get('PATH')) \n",
    "os.environ['CORE_PEER_TLS_ENABLED'] = \"true\"\n",
    "os.environ['CORE_PEER_LOCALMSPID'] = \"Org1MSP\"\n",
    "os.environ['CORE_PEER_TLS_ROOTCERT_FILE'] = pwd + \"/organizations/peerOrganizations/org1.example.com/peers/peer0.org1.example.com/tls/ca.crt\"\n",
    "os.environ['CORE_PEER_MSPCONFIGPATH'] = pwd + \"/organizations/peerOrganizations/org1.example.com/users/Admin@org1.example.com/msp\"\n",
    "os.environ['CORE_PEER_ADDRESS'] = \"peer0.org1.example.com:7051\"\n",
    "os.environ['FABRIC_CFG_PATH'] = pwd0 + \"/config/\"\n",
    "\n",
    "addr0      = 'peer0.org1.example.com:7050'\n",
    "orderer    = 'orderer.example.com'\n",
    "ordererpem = pwd + '/organizations/ordererOrganizations/example.com/orderers/orderer.example.com/msp/tlscacerts/tlsca.example.com-cert.pem'\n",
    "\n",
    "addr1  = 'peer0.org1.example.com:7051'\n",
    "crt1   = pwd + '/organizations/peerOrganizations/org1.example.com/peers/peer0.org1.example.com/tls/ca.crt'\n",
    "msp1   = pwd + '/organizations/peerOrganizations/org1.example.com/users/Admin@org1.example.com/msp'\n",
    "mspid1 = \"Org1MSP\"\n",
    "\n",
    "addr2  = 'peer0.org2.example.com:9051'\n",
    "crt2   = pwd + '/organizations/peerOrganizations/org2.example.com/peers/peer0.org2.example.com/tls/ca.crt' \n",
    "msp2   = pwd + '/organizations/peerOrganizations/org2.example.com/users/Admin@org2.example.com/msp'\n",
    "mspid2 = \"Org2MSP\"\n",
    "\n",
    "def createEnvironmentForPeer(localmspid=mspid1, tlsrootcert=crt1, mspconfigpath=msp1, peeraddress=addr1):\n",
    "    os.environ['CORE_PEER_LOCALMSPID']        = localmspid\n",
    "    os.environ['CORE_PEER_TLS_ROOTCERT_FILE'] = tlsrootcert\n",
    "    os.environ['CORE_PEER_MSPCONFIGPATH']     = mspconfigpath\n",
    "    os.environ['CORE_PEER_ADDRESS']           = peeraddress\n",
    "    \n",
    "def createEnvironment(orgname): \n",
    "    os.environ['ORDERER_IP']=\"10.15.128.97\"\n",
    "    os.environ['ORDERER_HOSTNAME']=\"orderer.example.com\" \n",
    "    os.environ['CHANNEL_NAME']=\"mychannel\"\n",
    "    os.environ['ORG_ID']=orgname\n",
    "    os.environ['CORE_PEER_LOCALMSPID']=\"Org1MSP\"\n",
    "    os.environ['CORE_PEER_TLS_ROOTCERT_FILE']=crt1\n",
    "    os.environ['CORE_PEER_MSPCONFIGPATH']=msp1\n",
    "    os.environ['ORDERER_CA']=ordererpem\n",
    "    os.environ['CORE_PEER_ADDRESS'] = \"peer0.org1.example.com:7051\"\n",
    "    \n",
    "def inform_existing_nodes():\n",
    "    !/home/jovyan/work/scray/projects/invoice-hyperledger-fabric/scripts/inform_existing_nodes_local.sh $ORDERER_IP $CHANNEL_NAME $ORG_ID \"/home/jovyan/work/fabric-samples/test-network\" /home/jovyan/work/tmp\n",
    "    \n",
    "def example_network_install_and_approve_cc():     \n",
    "    !/home/jovyan/work/scray/projects/invoice-hyperledger-fabric/scripts/example_network_install_and_approve_cc.sh 10.14.128.38 10.15.128.97 /home/jovyan/work/fabric-samples/test-network    \n",
    "    \n",
    "def example_network_commit_cc():    \n",
    "    os.environ['IP_CC_SERVICE']='10.14.128.38'\n",
    "    #Host where the example network is running\n",
    "    os.environ['IP_OF_EXAMPLE_NETWORK']='10.15.128.97'\n",
    "    !/home/jovyan/work/scray/projects/invoice-hyperledger-fabric/scripts/example_network_commit_cc.sh $IP_CC_SERVICE $IP_OF_EXAMPLE_NETWORK /home/jovyan/work/fabric-samples/test-network   \n",
    "    \n",
    "def getCurrentConfig():\n",
    "    !peer channel fetch config config_block.pb -o orderer.example.com:7050 -c $CHANNEL_NAME --tls --cafile $ORDERER_CA\n",
    "    !configtxlator proto_decode --input config_block.pb --type common.Block > config_block.json\n",
    "    !jq .data.data[0].payload.data.config config_block.json > config.json\n",
    "    \n",
    "    \n",
    "#!configtxlator proto_decode --type='common.Envelope' --input=/home/jovyan/work/tmp/org3_update_in_envelope.pb --output=a.json   \n",
    "def convertLocalEnvelopeToJson(local_path='./', input='' ,output=''):  \n",
    "    try:    \n",
    "        output = subprocess.check_output(['configtxlator', 'proto_decode','--type=common.Envelope',\n",
    "                                          '--input='  + local_path + '/' + input, \n",
    "                                          '--output=' + local_path + '/' + output])\n",
    "        return output.decode('ascii')\n",
    "    except Exception as e:\n",
    "        return str(e) "
   ]
  },
  {
   "cell_type": "code",
   "execution_count": 17,
   "metadata": {},
   "outputs": [
    {
     "name": "stdout",
     "output_type": "stream",
     "text": [
      "\u001b[34m2021-01-25 16:11:22.245 UTC [channelCmd] InitCmdFactory -> INFO 001\u001b[0m Endorser and orderer connections initialized\n",
      "\u001b[34m2021-01-25 16:11:22.253 UTC [cli.common] readBlock -> INFO 002\u001b[0m Received block: 7\n",
      "\u001b[34m2021-01-25 16:11:22.253 UTC [channelCmd] fetch -> INFO 003\u001b[0m Retrieving last config block: 7\n",
      "\u001b[34m2021-01-25 16:11:22.258 UTC [cli.common] readBlock -> INFO 004\u001b[0m Received block: 7\n"
     ]
    }
   ],
   "source": [
    "getCurrentConfig()"
   ]
  },
  {
   "cell_type": "code",
   "execution_count": 2,
   "metadata": {},
   "outputs": [],
   "source": [
    "import ipywidgets as widgets\n",
    "from IPython.display import clear_output\n",
    "from IPython.display import Javascript, display\n",
    "import uuid\n",
    "\n",
    "style = {'description_width': '250px'}\n",
    "layout = {'width': '500px'}\n",
    "\n",
    "def addVisText(key='',value='',disabled=False):\n",
    "    text = widgets.Text(description = key,value = value, style=style, layout=layout,disabled=disabled)\n",
    "    display(text)  \n",
    "    return text\n",
    "    \n",
    "def addVisCheckbox(key='',value=False):\n",
    "    text = widgets.Checkbox(description = key,value = value, style=style, layout=layout)\n",
    "    display(text)   \n",
    "    return text"
   ]
  },
  {
   "cell_type": "code",
   "execution_count": 3,
   "metadata": {},
   "outputs": [],
   "source": [
    "def getCrt(org='',domain='kubernetes.research.dev.seeburger.de',host='10.15.136.41:30080',user='scray', pwd='scray',channel='mychannel'):\n",
    "    try:    \n",
    "        output = subprocess.check_output(['curl', '--user',user + ':' + pwd, \n",
    "                                               'http://' + host + '/ca/' + channel + '/' + org + '-' + domain + '-ca.crt'])\n",
    "        #return str(callProcess)[3:-3]\n",
    "        return output.decode('ascii')\n",
    "    except Exception as e:\n",
    "        return str(e)    \n",
    "\n",
    "def getCrtToLocal(org='',topath='/tmp',domain='kubernetes.research.dev.seeburger.de',host='10.15.136.41:30080',user='scray', pwd='scray',channel='mychannel'):\n",
    "    try:    \n",
    "        output = subprocess.check_output(['curl', '--user',user + ':' + pwd, \n",
    "                                               'http://' + host + '/ca/' + channel + '/' + org + '-' + domain + '-ca.crt', '-o', '/tmp/new.crt'])\n",
    "        #return str(callProcess)[3:-3]\n",
    "        return output.decode('ascii')\n",
    "    except Exception as e:\n",
    "        return str(e)   \n",
    "\n",
    "def uploadFromLocal(host='10.15.136.41:30080',user='scray', pwd='scray',\n",
    "                    local_path='./', local_name='' ,remote_path='upload'):\n",
    "    try:    \n",
    "        output = subprocess.check_output(['curl', '--user',user + ':' + pwd, \n",
    "                                          '-T', local_path + '/' + local_name, \n",
    "                                          'http://' + host + '/' + remote_path + '/' + local_name])\n",
    "        return output.decode('ascii')\n",
    "    except Exception as e:\n",
    "        return str(e)   \n",
    "    \n",
    "def downloadToLocal(host='10.15.136.41:30080',user='scray', pwd='scray',\n",
    "                    local_path='./', local_name='' ,remote_path='upload'):  \n",
    "    try:    \n",
    "        output = subprocess.check_output(['curl', '--user',user + ':' + pwd, \n",
    "                                               'http://' + host + '/' + remote_path + '/' + local_name, '-o', local_path + '/' + local_name])\n",
    "        #return str(callProcess)[3:-3]\n",
    "        return output.decode('ascii')\n",
    "    except Exception as e:\n",
    "        return str(e)     \n",
    "    \n",
    "def commit():\n",
    "    try:    \n",
    "        #crtnew = '\\\" + getCrt(org='klaus') + '\\\"\n",
    "        getCrt(org='klaus')\n",
    "        output = subprocess.check_output(['peer', 'lifecycle','chaincode','commit','-o',addr0,'--ordererTLSHostnameOverride',orderer,\n",
    "                                          '--tls','--cafile',ordererpem,'--channelID','mychannel','--name','basic',\n",
    "                                          '--peerAddresses',addr1, '--tlsRootCertFiles', crt1, \n",
    "                                          '--peerAddresses', addr2, '--tlsRootCertFiles', crt2, \n",
    "                                          '--peerAddresses', 'peer0.scray.org', '--tlsRootCertFiles', '/tmp/new.crt',\n",
    "                                          #'--peerAddresses', 'kubernetes.research.dev.seeburger.de:32190', '--tlsRootCertFiles', '/tmp/new.crt',\n",
    "                                          '--version', '1.0', '--sequence', '1','--tlsRootCertFiles'])\n",
    "        return output.decode('ascii')\n",
    "    except Exception as e:\n",
    "        return str(e)\n",
    "    \n",
    "#commit()        "
   ]
  },
  {
   "cell_type": "markdown",
   "metadata": {},
   "source": [
    "Create application for new node, sign it by two nodes"
   ]
  },
  {
   "cell_type": "code",
   "execution_count": 4,
   "metadata": {},
   "outputs": [
    {
     "data": {
      "application/vnd.jupyter.widget-view+json": {
       "model_id": "7e8ee6670a034913b677abede585a5f2",
       "version_major": 2,
       "version_minor": 0
      },
      "text/plain": [
       "Text(value='', description='name', layout=Layout(width='500px'), style=DescriptionStyle(description_width='250…"
      ]
     },
     "metadata": {},
     "output_type": "display_data"
    }
   ],
   "source": [
    "import json\n",
    "\n",
    "def getConsortium():\n",
    "    with open('/home/jovyan/work/tmp/config.json') as f:\n",
    "        d = json.load(f)\n",
    "    dkeys = d.get('channel_group').get('groups').get('Application').get('groups').keys()\n",
    "    return dkeys\n",
    "\n",
    "def uploadConsortiumToSharepoint(dkeys):\n",
    "    with open('/home/jovyan/work/tmp/org_msp.json', 'w') as fp:\n",
    "        json.dump(list(dkeys), fp)\n",
    "    uploadFromLocal(local_path='/home/jovyan/work/tmp/', local_name='org_msp.json' ,remote_path='upload')\n",
    "\n",
    "def signBy2peers():\n",
    "    createEnvironmentForPeer(localmspid=mspid1, tlsrootcert=crt1, mspconfigpath=msp1, peeraddress=addr1)\n",
    "    !peer channel signconfigtx -f /home/jovyan/work/tmp/org3_update_in_envelope.pb\n",
    "    createEnvironmentForPeer(localmspid=mspid2, tlsrootcert=crt2, mspconfigpath=msp2, peeraddress=addr2)\n",
    "    !peer channel signconfigtx -f /home/jovyan/work/tmp/org3_update_in_envelope.pb\n",
    "\n",
    "def signBy2peersAndUpdate():\n",
    "    signBy2peers()\n",
    "    update()\n",
    "    \n",
    "def update():\n",
    "    !peer channel update -f /home/jovyan/work/tmp/org3_update_in_envelope.pb -c $CHANNEL_NAME -o orderer.example.com:7050 --tls --cafile $ORDERER_CA\n",
    "\n",
    "def handle_submit(text):\n",
    "    global peername\n",
    "    peername = text.value\n",
    "    \n",
    "    !rm /home/jovyan/work/tmp/*\n",
    "    createEnvironment(peername)\n",
    "    #!echo $ORDERER_IP $CHANNEL_NAME $ORG_ID\n",
    "    inform_existing_nodes()\n",
    "    uploadFromLocal(local_path='/home/jovyan/work/tmp/', local_name='org3_update_in_envelope.pb' ,remote_path='upload')\n",
    "    consortium = getConsortium()\n",
    "    if len(consortium) < 4:\n",
    "        signBy2peersAndUpdate()\n",
    "    uploadConsortiumToSharepoint(consortium)\n",
    "    \n",
    "peertext      = addVisText(key='name')\n",
    "peertext.on_submit(handle_submit)      "
   ]
  },
  {
   "cell_type": "code",
   "execution_count": 17,
   "metadata": {},
   "outputs": [
    {
     "data": {
      "text/plain": [
       "4"
      ]
     },
     "execution_count": 17,
     "metadata": {},
     "output_type": "execute_result"
    }
   ],
   "source": [
    "len(getConsortium())"
   ]
  },
  {
   "cell_type": "code",
   "execution_count": null,
   "metadata": {},
   "outputs": [],
   "source": [
    "#3 peers\n",
    "signBy2peersAndUpdate()"
   ]
  },
  {
   "cell_type": "code",
   "execution_count": 18,
   "metadata": {},
   "outputs": [
    {
     "name": "stdout",
     "output_type": "stream",
     "text": [
      "\u001b[34m2021-01-29 16:40:03.454 UTC [channelCmd] InitCmdFactory -> INFO 001\u001b[0m Endorser and orderer connections initialized\n",
      "\u001b[34m2021-01-29 16:40:04.216 UTC [channelCmd] InitCmdFactory -> INFO 001\u001b[0m Endorser and orderer connections initialized\n",
      "\u001b[34m2021-01-29 16:40:04.998 UTC [channelCmd] InitCmdFactory -> INFO 001\u001b[0m Endorser and orderer connections initialized\n",
      "\u001b[34m2021-01-29 16:40:05.036 UTC [channelCmd] update -> INFO 002\u001b[0m Successfully submitted channel update\n"
     ]
    }
   ],
   "source": [
    "# 4peers\n",
    "downloadToLocal(local_path='/home/jovyan/work/tmp/', local_name='org3_update_in_envelope.pb' ,remote_path='upload')\n",
    "signBy2peersAndUpdate()"
   ]
  },
  {
   "cell_type": "code",
   "execution_count": 16,
   "metadata": {},
   "outputs": [
    {
     "name": "stdout",
     "output_type": "stream",
     "text": [
      "\u001b[34m2021-01-29 16:38:49.548 UTC [channelCmd] InitCmdFactory -> INFO 001\u001b[0m Endorser and orderer connections initialized\n",
      "Error: got unexpected status: BAD_REQUEST -- error applying config update to existing channel 'mychannel': error authorizing update: error validating DeltaSet: policy for [Group]  /Channel/Application not satisfied: implicit policy evaluation failed - 2 sub-policies were satisfied, but this policy requires 3 of the 'Admins' sub-policies to be satisfied\n"
     ]
    }
   ],
   "source": [
    "# 5 peers\n",
    "downloadToLocal(local_path='/home/jovyan/work/tmp/', local_name='org3_update_in_envelope.pb' ,remote_path='upload')\n",
    "update()"
   ]
  },
  {
   "cell_type": "markdown",
   "metadata": {},
   "source": [
    "rest"
   ]
  },
  {
   "cell_type": "code",
   "execution_count": null,
   "metadata": {},
   "outputs": [],
   "source": [
    "#createEnvironmentForPeer(localmspid=mspid1, tlsrootcert=crt1, mspconfigpath=msp1, peeraddress=addr1)\n",
    "#!peer channel signconfigtx -f /home/jovyan/work/tmp/org3_update_in_envelope.pb\n",
    "\n",
    "#signBy2peers()\n",
    "#uploadFromLocal(local_path='/home/jovyan/work/tmp/', local_name='org3_update_in_envelope.pb' ,remote_path='upload')\n",
    "#uploadConsortiumToSharepoint()\n",
    "#update()"
   ]
  },
  {
   "cell_type": "code",
   "execution_count": null,
   "metadata": {},
   "outputs": [],
   "source": [
    "downloadToLocal(local_path='/home/jovyan/work/tmp/', local_name='org3_update_in_envelope.pb' ,remote_path='upload')\n",
    "update()"
   ]
  },
  {
   "cell_type": "code",
   "execution_count": null,
   "metadata": {},
   "outputs": [],
   "source": [
    "\n",
    "uploadFromLocal(local_path='/home/jovyan/work/tmp/', local_name='org3_update_in_envelope.pb' ,remote_path='upload')\n"
   ]
  },
  {
   "cell_type": "markdown",
   "metadata": {},
   "source": [
    "Testing"
   ]
  },
  {
   "cell_type": "code",
   "execution_count": null,
   "metadata": {},
   "outputs": [],
   "source": [
    "downloadToLocal(local_path='./', local_name='org3_update_in_envelope.pb' ,remote_path='upload')\n",
    "convertLocalEnvelopeToJson(local_path='./', input='org3_update_in_envelope.pb' ,output='a.json')"
   ]
  },
  {
   "cell_type": "code",
   "execution_count": null,
   "metadata": {},
   "outputs": [],
   "source": [
    "# load config, upload orgs list to  sharepoint upload\n",
    "import json\n",
    "with open('/home/jovyan/work/tmp/config.json') as f:\n",
    "    d = json.load(f)\n",
    "    \n",
    "#print(d)\n",
    "#d.keys()\n",
    "dkeys = d.get('channel_group').get('groups').get('Application').get('groups').keys()\n",
    "\n",
    "#https://stackoverflow.com/questions/7100125/storing-python-dictionaries\n",
    "with open('/home/jovyan/work/tmp/org_msp.json', 'w') as fp:\n",
    "    json.dump(list(dkeys), fp)\n",
    "    \n",
    "with open('/home/jovyan/work/tmp/org_msp.json', 'r') as fp:\n",
    "    data = json.load(fp)\n",
    "    \n",
    "uploadFromLocal(local_path='/home/jovyan/work/tmp/', local_name='org_msp.json' ,remote_path='upload')"
   ]
  },
  {
   "cell_type": "code",
   "execution_count": null,
   "metadata": {},
   "outputs": [],
   "source": [
    "convertLocalEnvelopeToJson(local_path='/home/jovyan/work/tmp', input='org3_update_in_envelope.pb' ,output='a.json')\n",
    "\n",
    "with open('/home/jovyan/work/tmp/a.json') as f:\n",
    "    d = json.load(f)"
   ]
  },
  {
   "cell_type": "code",
   "execution_count": 25,
   "metadata": {},
   "outputs": [],
   "source": [
    "getCurrentConfig()"
   ]
  },
  {
   "cell_type": "code",
   "execution_count": 26,
   "metadata": {},
   "outputs": [
    {
     "ename": "FileNotFoundError",
     "evalue": "[Errno 2] No such file or directory: './config.json'",
     "output_type": "error",
     "traceback": [
      "\u001b[0;31m---------------------------------------------------------------------------\u001b[0m",
      "\u001b[0;31mFileNotFoundError\u001b[0m                         Traceback (most recent call last)",
      "\u001b[0;32m<ipython-input-26-b1795a8e886d>\u001b[0m in \u001b[0;36m<module>\u001b[0;34m\u001b[0m\n\u001b[1;32m      1\u001b[0m \u001b[0;32mimport\u001b[0m \u001b[0mjson\u001b[0m\u001b[0;34m\u001b[0m\u001b[0;34m\u001b[0m\u001b[0m\n\u001b[0;32m----> 2\u001b[0;31m \u001b[0;32mwith\u001b[0m \u001b[0mopen\u001b[0m\u001b[0;34m(\u001b[0m\u001b[0;34m'./config.json'\u001b[0m\u001b[0;34m)\u001b[0m \u001b[0;32mas\u001b[0m \u001b[0mf\u001b[0m\u001b[0;34m:\u001b[0m\u001b[0;34m\u001b[0m\u001b[0;34m\u001b[0m\u001b[0m\n\u001b[0m\u001b[1;32m      3\u001b[0m     \u001b[0md\u001b[0m \u001b[0;34m=\u001b[0m \u001b[0mjson\u001b[0m\u001b[0;34m.\u001b[0m\u001b[0mload\u001b[0m\u001b[0;34m(\u001b[0m\u001b[0mf\u001b[0m\u001b[0;34m)\u001b[0m\u001b[0;34m\u001b[0m\u001b[0;34m\u001b[0m\u001b[0m\n\u001b[1;32m      4\u001b[0m \u001b[0;34m\u001b[0m\u001b[0m\n\u001b[1;32m      5\u001b[0m \u001b[0;32mimport\u001b[0m \u001b[0mfacturxWidget\u001b[0m\u001b[0;34m\u001b[0m\u001b[0;34m\u001b[0m\u001b[0m\n",
      "\u001b[0;31mFileNotFoundError\u001b[0m: [Errno 2] No such file or directory: './config.json'"
     ]
    }
   ],
   "source": [
    "import json\n",
    "with open('./config.json') as f:\n",
    "    d = json.load(f)\n",
    "\n",
    "import facturxWidget\n",
    "import ipywidgets as widgets\n",
    "from IPython.display import clear_output\n",
    "outs = widgets.Output()\n",
    "style = {'description_width': '250px'}\n",
    "layout = {'width': '500px'}\n",
    "\n",
    "print(d.keys())\n",
    "print(d['channel_group']['groups']['Application']['groups']['hafen0MSP'].keys())\n",
    "print(d['channel_group']['groups']['Application']['groups'].keys())\n",
    "#facturxWidget.facturx_widgets(d,'/channel_group/groups/Application/groups/hafen0MSP',hideUnused=False)  \n",
    "facturxWidget.facturx_widgets(d['channel_group']['groups']['Application']['groups'], '/Org1MSP',hideUnused=False)  \n",
    "#d"
   ]
  },
  {
   "cell_type": "code",
   "execution_count": null,
   "metadata": {},
   "outputs": [],
   "source": [
    "#fakturxWidget.addChilds(d,'/channel_group',hideUnused=True)  \n",
    "print(d['channel_group']['groups']['Application']['groups'].keys())\n",
    "d['channel_group']['groups']['Application']['groups']['Org1MSP']\n",
    "#fakturxWidget.addChilds(d,'/channel_group/groups/Application/groups/sally1MSP',hideUnused=True) \n",
    "print(d['channel_group']['groups']['Application']['groups']['sally1MSP'].keys())\n",
    "d['channel_group']['groups']['Application']['groups']['sally1MSP']['policies']\n",
    "#fakturxWidget.addChilds(d['channel_group']['groups']['Application']['groups']['sally1MSP'],'/policies',hideUnused=True)\n",
    "\n",
    "print(d['channel_group']['groups']['Application']['groups']['sally1MSP']['policies'].keys())\n",
    "d['channel_group']['groups']['Application']['groups']['sally1MSP']['policies']['Admins']['policy']"
   ]
  },
  {
   "cell_type": "code",
   "execution_count": null,
   "metadata": {},
   "outputs": [],
   "source": [
    "os.environ['SHARED_FS_USER'] = \"scray\"\n",
    "os.environ['SHARED_FS_PW']   = \"scray\"\n",
    "os.environ['SHARED_FS_HOST'] = \"10.15.136.41:30080\"\n",
    "\n",
    "#!curl --user $SHARED_FS_USER:$SHARED_FS_PW -X MKCOL http://$SHARED_FS_HOST/upload/\n",
    " \n",
    "\n",
    "uploadFromLocal(local_path='./', local_name='org3_update_in_envelope.pb' ,remote_path='upload')"
   ]
  },
  {
   "cell_type": "code",
   "execution_count": null,
   "metadata": {},
   "outputs": [],
   "source": [
    "downloadToLocal(local_path='./', local_name='org3_update_in_envelope.pb' ,remote_path='upload')"
   ]
  },
  {
   "cell_type": "code",
   "execution_count": null,
   "metadata": {},
   "outputs": [],
   "source": [
    "!ls ./org3_update_in_envelope.pb\n",
    "#!mv org3_update_in_envelope.pb org3_update_in_envelope1.pb"
   ]
  },
  {
   "cell_type": "code",
   "execution_count": null,
   "metadata": {},
   "outputs": [],
   "source": [
    "#curl --user $SHARED_FS_USER:$SHARED_FS_PW -X MKCOL http://$SHARED_FS_HOST/newmemberrequests/\n",
    "#curl --user $SHARED_FS_USER:$SHARED_FS_PW -X MKCOL http://$SHARED_FS_HOST/newmemberrequests/$CHANNEL_NAME\n",
    "#curl --user $SHARED_FS_USER:$SHARED_FS_PW -X DELETE http://$SHARED_FS_HOST/newmemberrequests/$CHANNEL_NAME/${ORG_NAME}.json\n",
    "#curl --user $SHARED_FS_USER:$SHARED_FS_PW -T organizations/peerOrganizations/$DOMAINE/${ORG_NAME}.json http://$SHARED_FS_HOST/newmemberrequests/$CHANNEL_NAME/${ORG_NAME}.json\n",
    "    \n",
    "# Upload CA\n",
    "#curl --user $SHARED_FS_USER:$SHARED_FS_PW -X MKCOL http://$SHARED_FS_HOST/ca\n",
    "#curl --user $SHARED_FS_USER:$SHARED_FS_PW -X MKCOL http://$SHARED_FS_HOST/ca/$CHANNEL_NAME\n",
    "#curl --user $SHARED_FS_USER:$SHARED_FS_PW -T organizations/peerOrganizations/$DOMAINE/users/User1@$DOMAINE/tls/ca.crt http://$SHARED_FS_HOST/ca/$CHANNEL_NAME/$DOMAINE-ca.crt\n"
   ]
  },
  {
   "cell_type": "code",
   "execution_count": null,
   "metadata": {},
   "outputs": [],
   "source": [
    "!peer channel update -f org3_update_in_envelope.pb -c $CHANNEL_NAME -o orderer.example.com:7050 --tls --cafile $ORDERER_CA\n"
   ]
  },
  {
   "cell_type": "code",
   "execution_count": null,
   "metadata": {},
   "outputs": [],
   "source": [
    "!rm -f /tmp/new.crt\n",
    "res = getCrtToLocal(org='tanja2')\n",
    "#res = getCrt(org='lara2')\n",
    "print(res)\n",
    "!ls /tmp/*.crt\n",
    "commit()"
   ]
  },
  {
   "cell_type": "code",
   "execution_count": 6,
   "metadata": {},
   "outputs": [
    {
     "name": "stdout",
     "output_type": "stream",
     "text": [
      "  % Total    % Received % Xferd  Average Speed   Time    Time     Time  Current\n",
      "                                 Dload  Upload   Total   Spent    Left  Speed\n",
      "100   450  100   450    0     0   1836      0 --:--:-- --:--:-- --:--:--  1844\n",
      "\u001b[34m2021-01-29 15:43:31.930 UTC [cli.lifecycle.chaincode] submitInstallProposal -> INFO 001\u001b[0m Installed remotely: response:<status:200 payload:\"\\nJbasic_1.0:5a294a12a1a89cd4eed3d4234fbc79f42eab2ac20cd176bc8ebbc07c597cd0ee\\022\\tbasic_1.0\" > \n",
      "\u001b[34m2021-01-29 15:43:31.930 UTC [cli.lifecycle.chaincode] submitInstallProposal -> INFO 002\u001b[0m Chaincode code package identifier: basic_1.0:5a294a12a1a89cd4eed3d4234fbc79f42eab2ac20cd176bc8ebbc07c597cd0ee\n",
      "\u001b[34m2021-01-29 15:43:32.026 UTC [cli.lifecycle.chaincode] submitInstallProposal -> INFO 001\u001b[0m Installed remotely: response:<status:200 payload:\"\\nJbasic_1.0:5a294a12a1a89cd4eed3d4234fbc79f42eab2ac20cd176bc8ebbc07c597cd0ee\\022\\tbasic_1.0\" > \n",
      "\u001b[34m2021-01-29 15:43:32.026 UTC [cli.lifecycle.chaincode] submitInstallProposal -> INFO 002\u001b[0m Chaincode code package identifier: basic_1.0:5a294a12a1a89cd4eed3d4234fbc79f42eab2ac20cd176bc8ebbc07c597cd0ee\n",
      "\u001b[34m2021-01-29 15:43:34.310 UTC [chaincodeCmd] ClientWait -> INFO 001\u001b[0m txid [28bb5d838035701126daf5d721cb1fa187bad6cf7e3e9cdb690e3f89ffcc556c] committed with status (VALID) at peer0.org2.example.com:9051\n",
      "\u001b[34m2021-01-29 15:43:36.467 UTC [chaincodeCmd] ClientWait -> INFO 001\u001b[0m txid [dccd3070dc28163b348fd43b0d8aa2b958d70bce07f662f27074f4a9360dfc09] committed with status (VALID) at peer0.org1.example.com:7051\n"
     ]
    }
   ],
   "source": [
    "!/home/jovyan/work/scray/projects/invoice-hyperledger-fabric/scripts/example_network_install_and_approve_cc.sh 10.14.128.38 10.15.128.97 /home/jovyan/work/fabric-samples/test-network"
   ]
  },
  {
   "cell_type": "code",
   "execution_count": null,
   "metadata": {},
   "outputs": [],
   "source": [
    "peer lifecycle chaincode approveformyorg \n",
    "-o orderer.example.com:7050 \n",
    "--ordererTLSHostnameOverride orderer.example.com \n",
    "--tls  \n",
    "--cafile /tmp/tlsca.example.com-cert.pem \n",
    "--channelID $CHANNEL_ID \n",
    "--name basic \n",
    "--version 1.0 --package-id $PKGID --sequence 1"
   ]
  },
  {
   "cell_type": "code",
   "execution_count": null,
   "metadata": {},
   "outputs": [],
   "source": [
    "#print(getCrt(org='klaus'))\n",
    "\n",
    "getCrtToLocal(org='tanja2')"
   ]
  },
  {
   "cell_type": "code",
   "execution_count": null,
   "metadata": {},
   "outputs": [],
   "source": [
    "getCrt(org='klaus')\n",
    "!ls /tmp"
   ]
  },
  {
   "cell_type": "code",
   "execution_count": null,
   "metadata": {},
   "outputs": [],
   "source": [
    "os.environ['IP_CC_SERVICE']='10.14.128.38'\n",
    "#Host where the example network is running\n",
    "os.environ['IP_OF_EXAMPLE_NETWORK']='10.15.128.97'\n",
    "\n",
    "!/home/jovyan/work/scray/projects/invoice-hyperledger-fabric/scripts/example_network_commit_cc.sh $IP_CC_SERVICE $IP_OF_EXAMPLE_NETWORK /home/jovyan/work/fabric-samples/test-network"
   ]
  },
  {
   "cell_type": "code",
   "execution_count": null,
   "metadata": {},
   "outputs": [],
   "source": [
    "!cat /home/jovyan/work/scray/projects/invoice-hyperledger-fabric/scripts/example_network_commit_cc.sh"
   ]
  },
  {
   "cell_type": "markdown",
   "metadata": {},
   "source": [
    "# old"
   ]
  },
  {
   "cell_type": "code",
   "execution_count": null,
   "metadata": {},
   "outputs": [],
   "source": [
    "\n",
    "!peer channel fetch config /tmp/config_block.pb -o orderer.example.com:7050 -c $CHANNEL_NAME --tls --cafile $ORDERER_CA > /dev/null\n",
    "!configtxlator proto_decode --input /tmp/config_block.pb --type common.Block | jq .data.data[0].payload.data.config > /tmp/config.json   "
   ]
  },
  {
   "cell_type": "code",
   "execution_count": null,
   "metadata": {},
   "outputs": [],
   "source": [
    "# Upload CA cert\n",
    "os.environ['SHARED_FS_HOST']=\"10.15.136.41:30080\"\n",
    "os.environ['SHARED_FS_USER']=\"scray\"\n",
    "os.environ['SHARED_FS_PW']=\"scray\"\n",
    "#!apk add curl\n",
    "\n",
    "os.environ['NEW_ORG_NAME']=\"OrgSally\"\n",
    "\n",
    "!curl --user $SHARED_FS_USER:$SHARED_FS_PW -X MKCOL http://$SHARED_FS_HOST/ca\n",
    "!curl --user $SHARED_FS_USER:$SHARED_FS_PW -T /home/jovyan/work/fabric-samples/test-network/organizations/ordererOrganizations/example.com/orderers/orderer.example.com/msp/tlscacerts/tlsca.example.com-cert.pem http://$SHARED_FS_HOST/ca/tlsca.example.com-cert.pem\n",
    "\n",
    "# Get configuration of new peer\n",
    "#curl --user 'scray:scray' http://${SHARED_FS_HOST}/newmemberrequests/$CHANNEL_NAME/${NEW_ORG_NAME}.json > new_member_org.json\n",
    "!curl --user $SHARED_FS_USER:$SHARED_FS_PW  http://${SHARED_FS_HOST}/newmemberrequests/$CHANNEL_NAME/${NEW_ORG_NAME}.json > /tmp/new_member_org.json \n",
    "        \n",
    "# Add org3 data to existing config\n",
    "!jq -s \".[0] \"*\" {\\\"channel_group\\\":{\\\"groups\\\":{\\\"Application\\\":{\\\"groups\\\": {\\\"${NEW_ORG_NAME}MSP\\\":.[1]}}}}}\" /tmp/config.json /tmp/new_member_org.json > /tmp/modified_config.json\n",
    "\n",
    "!configtxlator proto_encode --input /tmp/config.json --type common.Config --output /tmp/config.pb\n",
    "!configtxlator proto_encode --input /tmp/modified_config.json --type common.Config --output /tmp/modified_config.pb\n",
    "!configtxlator compute_update --channel_id $CHANNEL_NAME --original /tmp/config.pb --updated /tmp/modified_config.pb --output /tmp/org3_update.pb\n",
    "!configtxlator proto_decode --input /tmp/org3_update.pb --type common.ConfigUpdate | jq . > /tmp/org3_update.json\n",
    "!echo '{\"payload\":{\"header\":{\"channel_header\":{\"channel_id\":\"'$CHANNEL_NAME'\", \"type\":2}},\"data\":{\"config_update\":'$(cat /tmp/org3_update.json)'}}}' | jq . > /tmp/org3_update_in_envelope.json\n",
    "!configtxlator proto_encode --input /tmp/org3_update_in_envelope.json --type common.Envelope --output /tmp/org3_update_in_envelope.pb        "
   ]
  },
  {
   "cell_type": "markdown",
   "metadata": {},
   "source": [
    "sign and update"
   ]
  },
  {
   "cell_type": "code",
   "execution_count": null,
   "metadata": {},
   "outputs": [],
   "source": [
    "!peer channel signconfigtx -f /tmp/org3_update_in_envelope.pb\n",
    "\n",
    "os.environ['CORE_PEER_LOCALMSPID']=\"Org2MSP\"\n",
    "os.environ['CORE_PEER_TLS_ROOTCERT_FILE']=crt2\n",
    "os.environ['CORE_PEER_MSPCONFIGPATH']=msp2\n",
    "os.environ['ORDERER_CA']=ordererpem\n",
    "os.environ['CORE_PEER_ADDRESS'] = addr2\n",
    "\n",
    "!peer channel update -f /tmp/org3_update_in_envelope.pb -c $CHANNEL_NAME -o orderer.example.com:7050 --tls --cafile $ORDERER_CA"
   ]
  },
  {
   "cell_type": "markdown",
   "metadata": {},
   "source": [
    "# network_install_and_approve_cc (3 nodes)"
   ]
  },
  {
   "cell_type": "code",
   "execution_count": null,
   "metadata": {},
   "outputs": [],
   "source": [
    "#!pwd\n",
    "#!ls /home/jovyan/work/scray/projects/invoice-hyperledger-fabric/scripts/example_network_install_and_approve_cc.sh\n",
    "!cd /tmp\n",
    "!/home/jovyan/work/scray/projects/invoice-hyperledger-fabric/scripts/example_network_install_and_approve_cc.sh 10.14.128.38 10.15.128.97 /home/jovyan/work/fabric-samples/test-network"
   ]
  },
  {
   "cell_type": "markdown",
   "metadata": {},
   "source": [
    "# commit"
   ]
  },
  {
   "cell_type": "code",
   "execution_count": 15,
   "metadata": {},
   "outputs": [
    {
     "name": "stdout",
     "output_type": "stream",
     "text": [
      "Error: proposal failed with status: 500 - failed to invoke backing implementation of 'CommitChaincodeDefinition': chaincode definition not agreed to by this org (Org1MSP)\n",
      "Error: could not assemble transaction: proposal response was not successful, error code 500, msg error in simulation: failed to execute transaction 2a3775c7f0bb7d6c6b6bb5b2f099d4355b401e8e36ba4e9ad1c4726022dd72e1: could not launch chaincode basic_1.0:5a294a12a1a89cd4eed3d4234fbc79f42eab2ac20cd176bc8ebbc07c597cd0ee: connection to basic_1.0:5a294a12a1a89cd4eed3d4234fbc79f42eab2ac20cd176bc8ebbc07c597cd0ee failed: error cannot create connection for basic_1.0:5a294a12a1a89cd4eed3d4234fbc79f42eab2ac20cd176bc8ebbc07c597cd0ee: error creating grpc connection to asset-transfer-basic.org1.example.com:30999: failed to create new connection: connection error: desc = \"transport: error while dialing: dial tcp: lookup asset-transfer-basic.org1.example.com on 127.0.0.11:53: no such host\" - proposal response: version:1 response:<status:200 > payload:\"\\n \\3776Z\\235\\225\\260C\\006\\343q\\2745\\024\\344\\272\\260\\323\\334\\235\\030r\\237\\235\\263\\313\\351\\342\\267\\236G\\212W\\022\\366\\004\\n\\340\\004\\0226\\n\\n_lifecycle\\022(\\n&\\n namespaces/fields/basic/Sequence\\022\\002\\010\\013\\022\\245\\004\\n\\005basic\\022\\233\\004\\032W\\n\\006asset1\\032M{\\\"ID\\\":\\\"asset1\\\",\\\"color\\\":\\\"blue\\\",\\\"size\\\":5,\\\"owner\\\":\\\"Tomoko\\\",\\\"appraisedValue\\\":300}\\032T\\n\\006asset2\\032J{\\\"ID\\\":\\\"asset2\\\",\\\"color\\\":\\\"red\\\",\\\"size\\\":5,\\\"owner\\\":\\\"Brad\\\",\\\"appraisedValue\\\":400}\\032Z\\n\\006asset3\\032P{\\\"ID\\\":\\\"asset3\\\",\\\"color\\\":\\\"green\\\",\\\"size\\\":10,\\\"owner\\\":\\\"Jin Soo\\\",\\\"appraisedValue\\\":500}\\032W\\n\\006asset4\\032M{\\\"ID\\\":\\\"asset4\\\",\\\"color\\\":\\\"yellow\\\",\\\"size\\\":10,\\\"owner\\\":\\\"Max\\\",\\\"appraisedValue\\\":600}\\032Z\\n\\006asset5\\032P{\\\"ID\\\":\\\"asset5\\\",\\\"color\\\":\\\"black\\\",\\\"size\\\":15,\\\"owner\\\":\\\"Adriana\\\",\\\"appraisedValue\\\":700}\\032Y\\n\\006asset6\\032O{\\\"ID\\\":\\\"asset6\\\",\\\"color\\\":\\\"white\\\",\\\"size\\\":15,\\\"owner\\\":\\\"Michel\\\",\\\"appraisedValue\\\":800}\\032\\003\\010\\310\\001\\\"\\014\\022\\005basic\\032\\0031.0\" endorsement:<endorser:\"\\n\\007Org1MSP\\022\\252\\006-----BEGIN CERTIFICATE-----\\nMIICKTCCAc+gAwIBAgIRAOYvYe1FdKB/bM4d6HW97OMwCgYIKoZIzj0EAwIwczEL\\nMAkGA1UEBhMCVVMxEzARBgNVBAgTCkNhbGlmb3JuaWExFjAUBgNVBAcTDVNhbiBG\\ncmFuY2lzY28xGTAXBgNVBAoTEG9yZzEuZXhhbXBsZS5jb20xHDAaBgNVBAMTE2Nh\\nLm9yZzEuZXhhbXBsZS5jb20wHhcNMjEwMTI5MTMxNDAwWhcNMzEwMTI3MTMxNDAw\\nWjBqMQswCQYDVQQGEwJVUzETMBEGA1UECBMKQ2FsaWZvcm5pYTEWMBQGA1UEBxMN\\nU2FuIEZyYW5jaXNjbzENMAsGA1UECxMEcGVlcjEfMB0GA1UEAxMWcGVlcjAub3Jn\\nMS5leGFtcGxlLmNvbTBZMBMGByqGSM49AgEGCCqGSM49AwEHA0IABLlWgXWJgnYX\\nnx5C9hZN0vG4pZ10kf6mq9rsUXTYyO5JBg7fbMVWG/cBsqjgQC1DWgQR/gOBkFin\\nDz2OaeVEGkyjTTBLMA4GA1UdDwEB/wQEAwIHgDAMBgNVHRMBAf8EAjAAMCsGA1Ud\\nIwQkMCKAIJw+tgElzuwTgj+4GJ1uuiFsegUu/z2G3Q3MGztpI1CzMAoGCCqGSM49\\nBAMCA0gAMEUCIQCCN+Bs7x08YP5rRD7r5b4cCFYjDBONA04W/hCQF4I1AwIgFIjB\\nVhb9Fhm1vtwuOivh2en6KsdRzmx/NBN7wJbKJuE=\\n-----END CERTIFICATE-----\\n\" signature:\"0E\\002!\\000\\303T\\207P\\376>\\3539H\\n>\\251\\353\\270P\\217\\341N\\371\\226\\260\\037Y\\024\\017\\346[\\315\\333\\3145X\\002  \\301^G\\\"Y\\342\\213~$\\225\\253\\006\\220\\326\\037F'\\317O3\\005\\022\\202zJN\\217\\004\\3278i\" > \n"
     ]
    }
   ],
   "source": [
    "os.environ['IP_CC_SERVICE']='10.14.128.38'\n",
    "#Host where the example network is running\n",
    "os.environ['IP_OF_EXAMPLE_NETWORK']='10.15.128.97'\n",
    "\n",
    "!/home/jovyan/work/scray/projects/invoice-hyperledger-fabric/scripts/example_network_commit_cc.sh $IP_CC_SERVICE $IP_OF_EXAMPLE_NETWORK /home/jovyan/work/fabric-samples/test-network"
   ]
  },
  {
   "cell_type": "markdown",
   "metadata": {},
   "source": [
    "# check network (approved chaincode)"
   ]
  },
  {
   "cell_type": "code",
   "execution_count": 22,
   "metadata": {},
   "outputs": [
    {
     "name": "stdout",
     "output_type": "stream",
     "text": [
      "{\n",
      "\t\"sequence\": 1,\n",
      "\t\"version\": \"1.0\",\n",
      "\t\"endorsement_plugin\": \"escc\",\n",
      "\t\"validation_plugin\": \"vscc\",\n",
      "\t\"validation_parameter\": \"EiAvQ2hhbm5lbC9BcHBsaWNhdGlvbi9FbmRvcnNlbWVudA==\",\n",
      "\t\"collections\": {},\n",
      "\t\"approvals\": {\n",
      "\t\t\"Org1MSP\": true,\n",
      "\t\t\"Org2MSP\": true,\n",
      "\t\t\"oly0MSP\": true,\n",
      "\t\t\"oly1MSP\": true,\n",
      "\t\t\"oly2MSP\": true\n",
      "\t}\n",
      "}\n"
     ]
    }
   ],
   "source": [
    "!peer lifecycle chaincode querycommitted --channelID mychannel --name basic --output json\n",
    "\n",
    "#!peer lifecycle chaincode checkcommitreadiness --channelID mychannel --name basic --output json --version  1.0 --sequence 2\n",
    "\n",
    "#!peer lifecycle chaincode --channelID mychannel\n",
    "#!discover --configFile conf.yaml peers --channel mychannel  --server peer0.org1.example.com:7051\n",
    "\n",
    "#!discover --configFile config.json peers --channel mychannel  --server peer0.org1.example.com:7051"
   ]
  },
  {
   "cell_type": "code",
   "execution_count": 23,
   "metadata": {},
   "outputs": [
    {
     "name": "stdout",
     "output_type": "stream",
     "text": [
      "{\n",
      "\t\"sequence\": 1,\n",
      "\t\"version\": \"1.0\",\n",
      "\t\"endorsement_plugin\": \"escc\",\n",
      "\t\"validation_plugin\": \"vscc\",\n",
      "\t\"validation_parameter\": \"EiAvQ2hhbm5lbC9BcHBsaWNhdGlvbi9FbmRvcnNlbWVudA==\",\n",
      "\t\"collections\": {},\n",
      "\t\"approvals\": {\n",
      "\t\t\"Org1MSP\": true,\n",
      "\t\t\"Org2MSP\": true,\n",
      "\t\t\"oly0MSP\": false,\n",
      "\t\t\"oly1MSP\": false,\n",
      "\t\t\"oly2MSP\": false\n",
      "\t}\n",
      "}\n",
      "Installed chaincodes on peer:\n",
      "Package ID: scray-invoice-example_1.0:00183e641cfcb303d7a6236a8461500223224ad3d06c75f68a6a32338dc6415f, Label: scray-invoice-example_1.0\n",
      "Package ID: basic_1.0:5a294a12a1a89cd4eed3d4234fbc79f42eab2ac20cd176bc8ebbc07c597cd0ee, Label: basic_1.0\n"
     ]
    }
   ],
   "source": [
    "!peer lifecycle chaincode querycommitted --channelID mychannel --name scray-invoice-example --output json\n",
    "!peer lifecycle chaincode queryinstalled"
   ]
  },
  {
   "cell_type": "code",
   "execution_count": null,
   "metadata": {},
   "outputs": [],
   "source": [
    "#!peer chaincode query -C mychannel -n scray-invoice-example -c '{\"Args\":[\"get\",\"name\"]}'\n",
    "#./network.sh createChannel -c channelone\n",
    "!peer channel list\n",
    "!peer lifecycle chaincode querycommitted --channelID channelone --name scray-invoice-example --output json"
   ]
  },
  {
   "cell_type": "code",
   "execution_count": null,
   "metadata": {},
   "outputs": [],
   "source": [
    "!env | fgrep MSP"
   ]
  },
  {
   "cell_type": "markdown",
   "metadata": {},
   "source": [
    "# Test"
   ]
  },
  {
   "cell_type": "code",
   "execution_count": null,
   "metadata": {},
   "outputs": [],
   "source": [
    "def readAsset(asset='asset1'):\n",
    "    callopt= '{\\\"function\\\":\\\"ReadAsset\\\",\\\"Args\\\":[' + '\\\"' + asset + '\\\"' + ']}'\n",
    "    try:    \n",
    "        callProcess  = subprocess.check_output(['peer', 'chaincode','query', '-C', 'mychannel', '-n', 'basic', '-c', callopt])\n",
    "        return json.loads(str(callProcess)[2:-3])\n",
    "    except Exception as e:\n",
    "        return str(e)\n",
    "    \n",
    "readAsset('asset1')    "
   ]
  },
  {
   "cell_type": "code",
   "execution_count": null,
   "metadata": {},
   "outputs": [],
   "source": [
    "readAsset('asset2')  "
   ]
  },
  {
   "cell_type": "code",
   "execution_count": null,
   "metadata": {},
   "outputs": [],
   "source": [
    "readAsset('asset4')  "
   ]
  },
  {
   "cell_type": "code",
   "execution_count": null,
   "metadata": {},
   "outputs": [],
   "source": [
    "!peer chaincode query -C mychannel -n basic -c '{\"function\":\"GetAllAssets\",\"Args\":[]}'"
   ]
  },
  {
   "cell_type": "markdown",
   "metadata": {},
   "source": [
    "# REST"
   ]
  },
  {
   "cell_type": "code",
   "execution_count": null,
   "metadata": {},
   "outputs": [],
   "source": [
    "!peer channel fetch config config_block.pb -o orderer.example.com:7050 -c $CHANNEL_NAME --tls --cafile $ORDERER_CA\n",
    "!configtxlator proto_decode --input config_block.pb --type common.Block > config_block.json\n",
    "    "
   ]
  },
  {
   "cell_type": "code",
   "execution_count": null,
   "metadata": {},
   "outputs": [],
   "source": [
    "!peer channel fetch config /tmp/config_block.pb -o orderer.example.com:7050 -c $CHANNEL_NAME --tls --cafile $ORDERER_CA > /dev/null  "
   ]
  },
  {
   "cell_type": "code",
   "execution_count": null,
   "metadata": {},
   "outputs": [],
   "source": [
    "#peer channel fetch config config_block.pb -o orderer.example.com:7050 -c $CHANNEL_NAME --tls --cafile $ORDERER_CA\n",
    "import sys    \n",
    "def channelFetch(channelName,ordererpem):\n",
    "    #rint(channelName,ordererpem)\n",
    "    try:    \n",
    "        output = subprocess.check_output(['peer', 'channel','fetch', 'config', 'config_block.pb', '-o', 'orderer.example.com:7050', '-c',channelName, '--tls', \n",
    "                                               '--cafile', ordererpem], stderr=subprocess.STDOUT, shell=True, timeout=3,universal_newlines=True)\n",
    "        #output = subprocess.check_output(['peer', 'channel','fetch', 'config', 'config_block.pb', '-o', 'orderer.example.com:7050', '-c',channelName, '--tls', 'cafile', ordererpem], stderr=subprocess.STDOUT, shell=True, timeout=3,universal_newlines=True)\n",
    "        #output = subprocess.check_output(['peer', 'channel','fetch','newest', 'config', '/tmp/config_block.pb', '-o', 'orderer.example.com:7050', '-c',channelName, '--tls', '--cafile', ordererpem], stderr=subprocess.STDOUT)\n",
    "        \n",
    "    #xcept Exception as e:\n",
    "    #   print('exception' + str(e))\n",
    "    #   return None\n",
    "    except subprocess.CalledProcessError as exc:\n",
    "        print(\"Status : FAIL\", exc.returncode, exc.output)\n",
    "    else:\n",
    "        print(\"Output: \\n{}\\n\".format(output))\n",
    "    \n",
    "#channelFetch('mychannel',ordererpem)    \n",
    "\n",
    "#!cd /home/jovyan/work/\n",
    "#rm -f config_block.pb\n",
    "channelFetch('mychannel',ordererpem)\n"
   ]
  },
  {
   "cell_type": "code",
   "execution_count": null,
   "metadata": {},
   "outputs": [],
   "source": []
  }
 ],
 "metadata": {
  "kernelspec": {
   "display_name": "Python 3",
   "language": "python",
   "name": "python3"
  },
  "language_info": {
   "codemirror_mode": {
    "name": "ipython",
    "version": 3
   },
   "file_extension": ".py",
   "mimetype": "text/x-python",
   "name": "python",
   "nbconvert_exporter": "python",
   "pygments_lexer": "ipython3",
   "version": "3.8.6"
  }
 },
 "nbformat": 4,
 "nbformat_minor": 4
}
