{
 "cells": [
  {
   "cell_type": "code",
   "execution_count": null,
   "metadata": {},
   "outputs": [],
   "source": [
    "import invoiceTool\n",
    "import uuid\n",
    "import pandas as pd\n",
    "pd.set_option('display.max_rows', 500)\n",
    "\n",
    "peers = [invoiceTool.peer(addr=invoiceTool.addr1, crt=invoiceTool.crt1),\n",
    "         invoiceTool.peer(addr=invoiceTool.addr2, crt=invoiceTool.crt2)]"
   ]
  },
  {
   "cell_type": "markdown",
   "metadata": {},
   "source": [
    "# Load some invoices, add hash values"
   ]
  },
  {
   "cell_type": "code",
   "execution_count": null,
   "metadata": {},
   "outputs": [],
   "source": [
    "#https://www.kaggle.com/akpflow/super-market-analysis\n",
    "invoices = pd.read_csv('/home/jovyan/work/supermarketsales.csv')  \n",
    "invoices.set_index('Invoice ID', inplace=True)\n",
    "invoices['hash'] = invoices.apply(lambda x: hash(tuple(x)), axis = 1)"
   ]
  },
  {
   "cell_type": "code",
   "execution_count": null,
   "metadata": {},
   "outputs": [],
   "source": [
    "invoices.head()"
   ]
  },
  {
   "cell_type": "markdown",
   "metadata": {},
   "source": [
    "# Store only data needed for the usecases in the blockchain "
   ]
  },
  {
   "cell_type": "code",
   "execution_count": null,
   "metadata": {},
   "outputs": [],
   "source": [
    "def createInvoiceFromData(index=1,id = 41):\n",
    "    row = invoices.iloc[index]\n",
    "    invoiceid = row.name\n",
    "    tax = row['Tax 5%']\n",
    "    netto = row['Total'] - tax\n",
    "    hashvalue = row['hash']\n",
    "    return invoiceTool.createInvoice(id=id,invoiceNumber=invoiceid,vat=tax,netto=netto,countryOrigin='US',hash=hashvalue)\n",
    "\n",
    "for x in range(0,99):\n",
    "    createInvoiceFromData(index=x,id = 400 + x)"
   ]
  },
  {
   "cell_type": "markdown",
   "metadata": {},
   "source": [
    "# Decentral peers interact with the blockchain"
   ]
  },
  {
   "cell_type": "code",
   "execution_count": null,
   "metadata": {},
   "outputs": [],
   "source": [
    "invoiceTool.getinfo()['height']"
   ]
  },
  {
   "cell_type": "code",
   "execution_count": null,
   "metadata": {},
   "outputs": [],
   "source": [
    "import invoiceWidget\n",
    "\n",
    "f = invoiceWidget.invoice_widgets(peers=peers)"
   ]
  },
  {
   "cell_type": "code",
   "execution_count": null,
   "metadata": {},
   "outputs": [],
   "source": [
    "invoiceTool.getinfo()['height']"
   ]
  },
  {
   "cell_type": "markdown",
   "metadata": {},
   "source": [
    "# Analytics"
   ]
  },
  {
   "cell_type": "code",
   "execution_count": null,
   "metadata": {},
   "outputs": [],
   "source": [
    "sns.boxenplot(y = 'Product line', x = 'Total', data=invoices )"
   ]
  },
  {
   "cell_type": "code",
   "execution_count": null,
   "metadata": {},
   "outputs": [],
   "source": [
    "import pandas as pd\n",
    "import numpy as np\n",
    "import seaborn as sns\n",
    "import matplotlib.pyplot as plt\n",
    "%matplotlib inline\n",
    "\n",
    "plt.figure(dpi=125)\n",
    "sns.countplot(y ='Product line', hue = \"Gender\", data = invoices) \n",
    "plt.xlabel('Count')\n",
    "plt.ylabel('Product Type')\n",
    "plt.show()"
   ]
  }
 ],
 "metadata": {
  "kernelspec": {
   "display_name": "Python 3 (ipykernel)",
   "language": "python",
   "name": "python3"
  },
  "language_info": {
   "codemirror_mode": {
    "name": "ipython",
    "version": 3
   },
   "file_extension": ".py",
   "mimetype": "text/x-python",
   "name": "python",
   "nbconvert_exporter": "python",
   "pygments_lexer": "ipython3",
   "version": "3.9.5"
  }
 },
 "nbformat": 4,
 "nbformat_minor": 4
}
