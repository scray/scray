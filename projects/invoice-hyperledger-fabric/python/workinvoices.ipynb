{
 "cells": [
  {
   "cell_type": "code",
   "execution_count": 1,
   "metadata": {},
   "outputs": [],
   "source": [
    "import invoiceTool\n",
    "#invoiceTool.getInvoices()\n",
    "import json\n",
    "#type(invoiceTool.getInvoices())\n",
    "\n",
    "#data = json.loads(str(invoiceTool.getInvoices()))\n",
    "\n",
    "#invoiceTool.getInvoicesAsDF()"
   ]
  },
  {
   "cell_type": "code",
   "execution_count": null,
   "metadata": {},
   "outputs": [],
   "source": [
    "invoiceTool.createInvoice(id=35,invoiceNumber=\"d7\",received=\"false\",sell=\"false\")"
   ]
  },
  {
   "cell_type": "code",
   "execution_count": null,
   "metadata": {},
   "outputs": [],
   "source": [
    "invoiceTool.getInvoicesAsDF()"
   ]
  },
  {
   "cell_type": "code",
   "execution_count": 9,
   "metadata": {},
   "outputs": [
    {
     "name": "stdout",
     "output_type": "stream",
     "text": [
      "{'netto': 522.83, 'sell': False, 'forderungErhaltenVon': '', 'vat': 26.1415, 'countryReceiver': '', 'received': False, 'forderungBezahlt': False, 'steuerbefreiungsgrund': '', 'receivedOrder': False, 'invoiceNumber': '750-67-8428', 'umsatzsteuerAbgefuehrt': False, 'countryOrigin': '', 'hash': 0}\n"
     ]
    }
   ],
   "source": [
    "val = invoiceTool.queryInvoice(id=200)\n",
    "if val is None:\n",
    "    print('none')\n",
    "else:\n",
    "    print (val)"
   ]
  },
  {
   "cell_type": "code",
   "execution_count": null,
   "metadata": {},
   "outputs": [],
   "source": [
    "import os\n",
    "#os.environ['USER'] = 'Bob'\n",
    "#print(os.environ.get('PATH'))\n",
    "#!cd work/test-network/\n",
    "#PATH=${PWD}/../bin:$PATH\n",
    "\n",
    "pwd0 = \"/home/jovyan/work/fabric-samples/\"\n",
    "pwd = \"/home/jovyan/work/fabric-samples/test-network\"\n",
    "\n",
    "os.environ['PATH'] = \"/home/jovyan/work/fabric-samples/bin:\" + str(os.environ.get('PATH')) \n",
    "os.environ['CORE_PEER_TLS_ENABLED'] = \"true\"\n",
    "os.environ['CORE_PEER_LOCALMSPID'] = \"Org1MSP\"\n",
    "os.environ['CORE_PEER_TLS_ROOTCERT_FILE'] = pwd + \"/organizations/peerOrganizations/org1.example.com/peers/peer0.org1.example.com/tls/ca.crt\"\n",
    "os.environ['CORE_PEER_MSPCONFIGPATH'] = pwd + \"/organizations/peerOrganizations/org1.example.com/users/Admin@org1.example.com/msp\"\n",
    "os.environ['CORE_PEER_ADDRESS'] = \"peer0.org1.example.com:7051\"\n",
    "os.environ['FABRIC_CFG_PATH'] = pwd0 + \"/config/\"\n"
   ]
  },
  {
   "cell_type": "code",
   "execution_count": null,
   "metadata": {},
   "outputs": [],
   "source": [
    "!more\n",
    "#!ls /home/jovyan/work/fabric-samples/test-network\n",
    "#print(os.environ.get('PATH'))\n",
    "#!ls /home/jovyan/work/fabric-samples//config/\n",
    "#!pwd\n",
    " \n",
    "#!peer chaincode invoke -o peer0.org1.example.com:7050 --ordererTLSHostnameOverride orderer.example.com --tls --cafile /home/jovyan/work/test-network/organizations/ordererOrganizations/example.com/orderers/orderer.example.com/msp/tlscacerts/tlsca.example.com-cert.pem -C mychannel -n scray-invoice-example --peerAddresses peer0.org1.example.com:7051 --tlsRootCertFiles /home/jovyan/work/test-network/organizations/peerOrganizations/org1.example.com/peers/peer0.org1.example.com/tls/ca.crt --peerAddresses peer0.org2.example.com:9051 --tlsRootCertFiles /home/jovyan/work/test-network/organizations/peerOrganizations/org2.example.com/peers/peer0.org2.example.com/tls/ca.crt  -c '{\"Args\":[\"createInvoice\", \"k4\", \"1234\", \"true\", \"false\"]}' \n",
    "#!peer\n",
    "#os.environ['PATH'] = \"/home/jovyan/work/fabric-samples/bin:/opt/conda/bin:/usr/local/sbin:/usr/local/bin:/usr/sbin:/usr/bin:/sbin:/bin:/usr/local/spark/bin\" "
   ]
  },
  {
   "cell_type": "code",
   "execution_count": null,
   "metadata": {},
   "outputs": [],
   "source": [
    "import ipywidgets as widget\n",
    "#widget.Text(placeholder='Type Here', description='Address:', disabled=False)"
   ]
  },
  {
   "cell_type": "code",
   "execution_count": null,
   "metadata": {},
   "outputs": [],
   "source": [
    "import subprocess\n",
    "\n",
    "def createInvoice(id=19,invoiceNumber=\"123433\",received=\"false\",sell=\"false\"):\n",
    "    key = 'CAR' + str(id) \n",
    "    callopt = '{\\\"Args\\\":[\\\"createInvoice\\\",' + '\\\"' + key + '\\\",' + '\\\"' + invoiceNumber + '\\\",' + '\\\"' + received + '\\\",' + '\\\"' + sell + '\\\"' + ']}'\n",
    "    addr0 = 'peer0.org1.example.com:7050'\n",
    "    orderer = 'orderer.example.com'\n",
    "    ordererpem = pwd + '/organizations/ordererOrganizations/example.com/orderers/orderer.example.com/msp/tlscacerts/tlsca.example.com-cert.pem'\n",
    "    addr1 = 'peer0.org1.example.com:7051'\n",
    "    crt1 = pwd + '/organizations/peerOrganizations/org1.example.com/peers/peer0.org1.example.com/tls/ca.crt'\n",
    "    addr2 = 'peer0.org2.example.com:9051'\n",
    "    crt2 = pwd + '/organizations/peerOrganizations/org2.example.com/peers/peer0.org2.example.com/tls/ca.crt' \n",
    "\n",
    "    try:\n",
    "        callProcess  = subprocess.check_output(['peer', 'chaincode', 'invoke', \n",
    "            '-o', addr0, '--ordererTLSHostnameOverride', orderer, '--tls', '--cafile', ordererpem, '-C', 'mychannel', \n",
    "            '-n', 'scray-invoice-example', \n",
    "            '--peerAddresses', addr1, '--tlsRootCertFiles', crt1,\n",
    "            '--peerAddresses', addr2, '--tlsRootCertFiles', crt2,\n",
    "            '-c',callopt])  \n",
    "        return callProcess\n",
    "    except Exception as e:\n",
    "        callProcess = ''\n",
    "        print('exception' + str(e))\n",
    "              \n",
    "createInvoice(id=33,invoiceNumber=\"445555\")      "
   ]
  },
  {
   "cell_type": "code",
   "execution_count": null,
   "metadata": {},
   "outputs": [],
   "source": [
    "import subprocess\n",
    "\n",
    "def createInvoice(id=19,invoiceNumber=\"123433\",received=\"false\",sell=\"false\"):\n",
    "    key = 'CAR' + str(id) \n",
    "    callopt = '{\\\"Args\\\":[\\\"createInvoice\\\",' + '\\\"' + key + '\\\",' + '\\\"' + invoiceNumber + '\\\",' + '\\\"' + received + '\\\",' + '\\\"' + sell + '\\\"' + ']}'\n",
    "    addr0 = 'peer0.org1.example.com:7050'\n",
    "    orderer = 'orderer.example.com'\n",
    "    ordererpem = pwd + '/organizations/ordererOrganizations/example.com/orderers/orderer.example.com/msp/tlscacerts/tlsca.example.com-cert.pem'\n",
    "    addr1 = 'peer0.org1.example.com:7051'\n",
    "    crt1 = pwd + '/organizations/peerOrganizations/org1.example.com/peers/peer0.org1.example.com/tls/ca.crt'\n",
    "    addr2 = 'peer0.org2.example.com:9051'\n",
    "    crt2 = pwd + '/organizations/peerOrganizations/org2.example.com/peers/peer0.org2.example.com/tls/ca.crt' \n",
    "\n",
    "    try:\n",
    "        callProcess  = subprocess.check_output(['peer', 'chaincode', 'invoke', \n",
    "            '-o', addr0, '--ordererTLSHostnameOverride', orderer, '--tls', '--cafile', ordererpem, '-C', 'mychannel', \n",
    "            '-n', 'scray-invoice-example', \n",
    "            '--peerAddresses', addr1, '--tlsRootCertFiles', crt1,\n",
    "            '-c',callopt])  \n",
    "        return callProcess\n",
    "    except Exception as e:\n",
    "        callProcess = ''\n",
    "        print('exception' + str(e))\n",
    "        \n",
    "createInvoice(id=44445566,invoiceNumber=\"445555\")        "
   ]
  },
  {
   "cell_type": "code",
   "execution_count": null,
   "metadata": {},
   "outputs": [],
   "source": [
    "import subprocess\n",
    "\n",
    "def createInvoice(id=19,invoiceNumber=\"123433\",received=\"false\",sell=\"false\"):\n",
    "    key = 'CAR' + str(id) \n",
    "    callopt = '{\\\"Args\\\":[\\\"createInvoice\\\",' + '\\\"' + key + '\\\",' + '\\\"' + invoiceNumber + '\\\",' + '\\\"' + received + '\\\",' + '\\\"' + sell + '\\\"' + ']}'\n",
    "    addr0 = 'peer0.org1.example.com:7050'\n",
    "    orderer = 'orderer.example.com'\n",
    "    ordererpem = pwd + '/organizations/ordererOrganizations/example.com/orderers/orderer.example.com/msp/tlscacerts/tlsca.example.com-cert.pem'\n",
    "    addr1 = 'peer0.org1.example.com:7051'\n",
    "    crt1 = pwd + '/organizations/peerOrganizations/org1.example.com/peers/peer0.org1.example.com/tls/ca.crt'\n",
    "    addr2 = 'peer0.org2.example.com:9051'\n",
    "    crt2 = pwd + '/organizations/peerOrganizations/org2.example.com/peers/peer0.org2.example.com/tls/ca.crt' \n",
    "    addr3 = 'peer0.org1.scray.org:30002'\n",
    "    crt3 = pwd0 + 'tlsca.example.com-cert.pem' \n",
    "    \n",
    "    try:\n",
    "        callProcess  = subprocess.check_output(['peer', 'chaincode', 'invoke', \n",
    "            '-o', addr0, '--ordererTLSHostnameOverride', orderer, '--tls', '--cafile', ordererpem, '-C', 'mychannel', \n",
    "            '-n', 'scray-invoice-example', \n",
    "            '--peerAddresses', addr1, '--tlsRootCertFiles', crt1,\n",
    "            '--peerAddresses', addr2, '--tlsRootCertFiles', crt2,\n",
    "            '--peerAddresses', addr3, '--tlsRootCertFiles', crt3,                                    \n",
    "            '-c',callopt])  \n",
    "        return callProcess\n",
    "    except Exception as e:\n",
    "        callProcess = ''\n",
    "        print('exception' + str(e))\n",
    "        \n",
    "createInvoice(id=34,invoiceNumber=\"34\")    "
   ]
  },
  {
   "cell_type": "code",
   "execution_count": null,
   "metadata": {},
   "outputs": [],
   "source": [
    "!ls /home/jovyan/work/fabric-samples/tlsca.example.com-cert.pem"
   ]
  },
  {
   "cell_type": "code",
   "execution_count": null,
   "metadata": {},
   "outputs": [],
   "source": [
    "def queryInvoice(id=19):\n",
    "    key = 'CAR' + str(id) \n",
    "    callopt= '{\\\"Args\\\":[\\\"queryInvoice\\\",' + '\\\"' + key + '\\\"' + ']}'\n",
    "    try:    \n",
    "        callProcess  = subprocess.check_output(['peer', 'chaincode','query', '-C', 'mychannel', '-n', 'scray-invoice-example', '-c',callopt])\n",
    "        return str(callProcess)[2:-3]\n",
    "    except:\n",
    "        callProcess = ''\n",
    "    #return callProcess\n",
    "\n",
    "import json\n",
    "d = json.loads(queryInvoice(29))\n",
    "d['invoiceNumber']"
   ]
  },
  {
   "cell_type": "code",
   "execution_count": null,
   "metadata": {},
   "outputs": [],
   "source": [
    "import pandas as pd   \n",
    "import json\n",
    "\n",
    "def getInvoices():\n",
    "    callopt= '{\\\"Args\\\":[\\\"queryAllInvoices\\\"'  + ']}'\n",
    "    try:\n",
    "        callProcess  = subprocess.check_output(['peer', 'chaincode','query', '-C', 'mychannel', '-n', 'scray-invoice-example', '-c',callopt])\n",
    "        return str(callProcess)[2:-3]\n",
    "        #return json.loads(str(callProcess)[2:-3])\n",
    "    except:\n",
    "        callProcess = ''\n",
    "        \n",
    "print(getInvoices())\n",
    "\n",
    "#data = json.loads(getInvoices())\n",
    "#df = pd.json_normalize(data)\n",
    "#df"
   ]
  },
  {
   "cell_type": "code",
   "execution_count": null,
   "metadata": {},
   "outputs": [],
   "source": [
    "def markAsReceived(id):\n",
    "    key = 'CAR' + str(id) \n",
    "    \n",
    "    callopt= '{\\\"Args\\\":[\\\"markAsReceived\\\",' + '\\\"' + key + '\\\"' + ']}'\n",
    "\n",
    "    #callopt = '{\\\"Args\\\":[\\\"createInvoice\\\",' + '\\\"' + invoicename + '\\\",' + '\\\"' + arg1 + '\\\",' + '\\\"' + arg2 + '\\\",' + '\\\"' + arg3 + '\\\"' + ']}'\n",
    "    addr0 = 'peer0.org1.example.com:7050'\n",
    "    orderer = 'orderer.example.com'\n",
    "    ordererpem = pwd + '/organizations/ordererOrganizations/example.com/orderers/orderer.example.com/msp/tlscacerts/tlsca.example.com-cert.pem'\n",
    "    addr1 = 'peer0.org1.example.com:7051'\n",
    "    crt1 = pwd + '/organizations/peerOrganizations/org1.example.com/peers/peer0.org1.example.com/tls/ca.crt'\n",
    "    addr2 = 'peer0.org2.example.com:9051'\n",
    "    crt2 = pwd + '/organizations/peerOrganizations/org2.example.com/peers/peer0.org2.example.com/tls/ca.crt' \n",
    "\n",
    "    try:\n",
    "        callProcess  = subprocess.check_output(['peer', 'chaincode', 'invoke', \n",
    "            '-o', addr0, '--ordererTLSHostnameOverride', orderer, '--tls', '--cafile', ordererpem, '-C', 'mychannel', \n",
    "            '-n', 'scray-invoice-example', \n",
    "            '--peerAddresses', addr1, '--tlsRootCertFiles', crt1,\n",
    "            '--peerAddresses', addr2, '--tlsRootCertFiles', crt2,\n",
    "            '-c',callopt])   \n",
    "    except:\n",
    "        callProcess = ''\n",
    "    \n",
    "markAsReceived(21)    "
   ]
  },
  {
   "cell_type": "code",
   "execution_count": null,
   "metadata": {},
   "outputs": [],
   "source": [
    "import pandas as pd   \n",
    "import json\n",
    "\n",
    "#discover --configFile conf.yaml endorsers --channel mychannel  --server peer0.org1.example.com:7051 --chaincode fabcar\n",
    "\n",
    "def discover():\n",
    "    conf = pwd + \"/organizations/peerOrganizations/org1.example.com/users/Admin@org1.example.com/msp/conf.yaml\"\n",
    "    #callopt= '{\\\"Args\\\":[\\\"queryAllInvoices\\\"'  + ']}'\n",
    "    try:\n",
    "        callProcess  = subprocess.check_output(['discover', '--configFile',conf, endorsers, '-C', 'mychannel', '-n', 'scray-invoice-example', '-c',callopt])\n",
    "        return str(callProcess)[2:-3]\n",
    "        #return json.loads(str(callProcess)[2:-3])\n",
    "    except:\n",
    "        callProcess = ''\n",
    "        \n",
    "print(getInvoices())\n",
    "\n",
    "#data = json.loads(getInvoices())\n",
    "#df = pd.json_normalize(data)\n",
    "#df"
   ]
  },
  {
   "cell_type": "code",
   "execution_count": null,
   "metadata": {},
   "outputs": [],
   "source": [
    "!peer chaincode query -C mychannel -n scray-invoice-example -c '{\"Args\":[\"queryInvoice\", \"k1\"]}'"
   ]
  },
  {
   "cell_type": "code",
   "execution_count": null,
   "metadata": {},
   "outputs": [],
   "source": [
    "crt1 = pwd + '/organizations/peerOrganizations/org1.example.com/peers/peer0.org1.example.com/tls/ca.crt'\n",
    "print(crt1)\n",
    "!peer lifecycle chaincode queryinstalled --peerAddresses peer0.org1.example.com:7050 --tlsRootCertFiles /home/jovyan/work/fabric-samples/test-network/organizations/peerOrganizations/org1.example.com/peers/peer0.org1.example.com/tls/ca.crt"
   ]
  },
  {
   "cell_type": "code",
   "execution_count": null,
   "metadata": {},
   "outputs": [],
   "source": [
    "print(os.environ.get('CORE_PEER_TLS_ROOTCERT_FILE'))\n",
    "!ls /home/jovyan/work/test-network/organizations/peerOrganizations/org1.example.com/peers/peer0.org1.example.com/tls/ca.crt"
   ]
  },
  {
   "cell_type": "code",
   "execution_count": null,
   "metadata": {},
   "outputs": [],
   "source": []
  }
 ],
 "metadata": {
  "kernelspec": {
   "display_name": "Python 3",
   "language": "python",
   "name": "python3"
  },
  "language_info": {
   "codemirror_mode": {
    "name": "ipython",
    "version": 3
   },
   "file_extension": ".py",
   "mimetype": "text/x-python",
   "name": "python",
   "nbconvert_exporter": "python",
   "pygments_lexer": "ipython3",
   "version": "3.8.6"
  }
 },
 "nbformat": 4,
 "nbformat_minor": 4
}
