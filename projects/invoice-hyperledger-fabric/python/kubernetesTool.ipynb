{
 "cells": [
  {
   "cell_type": "code",
   "execution_count": null,
   "metadata": {},
   "outputs": [],
   "source": [
    "import subprocess\n",
    "import json\n",
    "\n",
    "##############################################\n",
    "# different ways  to execute commands\n",
    " \n",
    "# in Kubernetes\n",
    "def executeKubectlCmd(cmd, decode='ascii'):\n",
    "    try:    \n",
    "        output  = subprocess.check_output(['/home/jovyan/work/usr/bin/kubectl'] + cmd)\n",
    "        if decode == 'json':\n",
    "            return json.loads(output.decode('ascii'))\n",
    "        else:\n",
    "            return output.decode(decode)\n",
    "    except Exception as e:\n",
    "        return str(e)       \n",
    "    \n",
    "# at the peer    \n",
    "def executePeerCmd(pod_name,cmd):\n",
    "    try:  \n",
    "        cmd1 = \"source /root/.bashrc && \"\n",
    "        output  = subprocess.check_output(['/home/jovyan/work/usr/bin/kubectl', 'exec','-it', pod_name, '-c', 'scray-peer-cli','--', '/bin/bash','-c',cmd1 + cmd])\n",
    "        return output.decode('ascii')\n",
    "    except Exception as e:\n",
    "        return str(e)\n",
    "\n",
    "def executePeerCmd2(pod_name,cmd):\n",
    "    try:  \n",
    "        cmd1 = \"source /root/.bashrc && \"\n",
    "        output  = subprocess.run(['/home/jovyan/work/usr/bin/kubectl', 'exec','-it', pod_name, '-c', 'scray-peer-cli','--', '/bin/bash','-c',cmd1 + cmd], stdout = subprocess.PIPE, stderr=subprocess.PIPE)\n",
    "        return output\n",
    "    except Exception as e:\n",
    "        return str(e)    \n",
    "    \n",
    "# in Jupyter     \n",
    "def executeLocalCmd(cmd):\n",
    "    try:  \n",
    "        output  = subprocess.check_output(cmd)\n",
    "        return output\n",
    "    except Exception as e:\n",
    "        return str(e)    \n",
    "\n",
    "def executeLocalCmd2(cmd):\n",
    "    try:  \n",
    "        output  = subprocess.run(cmd, stdout = subprocess.PIPE, stderr=subprocess.PIPE)\n",
    "        return output\n",
    "    except Exception as e:\n",
    "        return str(e)        \n",
    "    \n",
    "def toCmd(strlist):\n",
    "    return ''.join(str(e + ' ') for e in strlist)[:-1]\n",
    "    \n",
    "##############################################\n",
    "## peer\n",
    "\n",
    "def getPort(peername='', name='peer-gossip'):\n",
    "    callopt= 'jsonpath=\\\"{.spec.ports[?(@.name==\\'' + name + '\\')].nodePort}\\\"'\n",
    "    try:    \n",
    "        callProcess  = subprocess.check_output(['/home/jovyan/work/usr/bin/kubectl', 'get','service',peername,'-o', callopt])\n",
    "        return str(callProcess)[3:-2]\n",
    "    except Exception as e:\n",
    "        return str(e)\n",
    "\n",
    "def deleteConfig(peername=''):\n",
    "    try:  \n",
    "        output  = subprocess.check_output(['/home/jovyan/work/usr/bin/kubectl', 'delete','configmap','hl-fabric-peer-' + peername])\n",
    "        return str(output)\n",
    "    except Exception as e:\n",
    "        return str(e)  \n",
    "        \n",
    "    \n",
    "def createConfig(peername='',peer_listen_port='',peer_gossip_port=''):\n",
    "    try:  \n",
    "        output  = subprocess.check_output(['/home/jovyan/work/usr/bin/kubectl', 'create','configmap','hl-fabric-peer-' + peername,\n",
    "                                          '--from-literal=hostname=kubernetes.research.dev.seeburger.de',\n",
    "                                          '--from-literal=org_name=' + peername,\n",
    "                                          '--from-literal=data_share=hl-fabric-data-share-service:80',\n",
    "                                          '--from-literal=CORE_PEER_ADDRESS=kubernetes.research.dev.seeburger.de:' + peer_listen_port,\n",
    "                                          '--from-literal=CORE_PEER_GOSSIP_EXTERNALENDPOINT=kubernetes.research.dev.seeburger.de:' + peer_gossip_port,\n",
    "                                          '--from-literal=CORE_PEER_LOCALMSPID=' + peername + 'MSP'])\n",
    "        return str(output)\n",
    "    except Exception as e:\n",
    "        return str(e)  \n",
    "\n",
    "#!/home/jovyan/work/usr/bin/kubectl get configmap -o json     \n",
    "def getConfigmap(): \n",
    "    return json.loads(executeKubectlCmd(['get','configmap', '-o', 'json']).decode('ascii'))\n",
    "       \n",
    "def getPod(peername):\n",
    "    try:    \n",
    "        callProcess  = subprocess.check_output(['/home/jovyan/work/usr/bin/kubectl', 'get','pod','-l','app=' + peername,'-o', \n",
    "                                                'jsonpath=\\\"{.items[0].metadata.name}\\\"'])\n",
    "        return str(callProcess)[3:-2]\n",
    "    except Exception as e:\n",
    "        return str(e)     \n",
    "    \n",
    "def getPods():\n",
    "    return json.loads(executeKubectlCmd(['get', 'pods', '-o', 'json']))       "
   ]
  },
  {
   "cell_type": "code",
   "execution_count": null,
   "metadata": {},
   "outputs": [],
   "source": [
    "#getPods()['metadata'].keys()\n",
    "\n",
    "#getPods().keys()\n",
    "getPods()['items'][0]['metadata'].keys()\n",
    "getPods()['items'][0]['metadata']['name']\n",
    "\n",
    "for item in getPods()['items']:\n",
    "    print(item['metadata']['name'])\n",
    "    \n",
    "  \n",
    "deployments = json.loads(executeKubectlCmd(['get', 'deployments', '-o', 'json'])) "
   ]
  },
  {
   "cell_type": "code",
   "execution_count": null,
   "metadata": {},
   "outputs": [],
   "source": [
    "deployments.keys()\n",
    "\n",
    "for item in deployments['items']:\n",
    "    print(item['metadata']['name'])\n",
    "    \n",
    "    \n",
    "services = json.loads(executeKubectlCmd(['get', 'services', '-o', 'json']))    \n",
    "\n",
    "for item in services['items']:\n",
    "    print(item['metadata']['name'])"
   ]
  },
  {
   "cell_type": "code",
   "execution_count": null,
   "metadata": {},
   "outputs": [],
   "source": [
    "type(executeKubectlCmd(['get', 'service', 'orderer-org1-scray-org']))"
   ]
  },
  {
   "cell_type": "code",
   "execution_count": null,
   "metadata": {},
   "outputs": [],
   "source": [
    "services['items'][2]['spec']['ports']"
   ]
  },
  {
   "cell_type": "code",
   "execution_count": null,
   "metadata": {},
   "outputs": [],
   "source": [
    "!/home/jovyan/work/usr/bin/kubectl get service orderer-org1-scray-org -o jsonpath=\"{.spec.ports[?(@.name=='orderer-listen')].nodePort}\""
   ]
  },
  {
   "cell_type": "code",
   "execution_count": null,
   "metadata": {},
   "outputs": [],
   "source": [
    "getPort(peername='orderer-org1-scray-org',name='orderer-listen')"
   ]
  },
  {
   "cell_type": "code",
   "execution_count": null,
   "metadata": {},
   "outputs": [],
   "source": [
    "getPod('orderer-org1-scray-org')"
   ]
  },
  {
   "cell_type": "code",
   "execution_count": null,
   "metadata": {},
   "outputs": [],
   "source": [
    "!/home/jovyan/work/usr/bin/kubectl exec --stdin --tty 'orderer-org1-scray-org-5f97c57d44-qrz4b' -c scray-orderer-cli  -- /bin/sh /mnt/conf/orderer/scripts/create_channel.sh 'super' orderer.example.com '7050'"
   ]
  },
  {
   "cell_type": "code",
   "execution_count": null,
   "metadata": {},
   "outputs": [],
   "source": [
    "getPort(peername='olya0', name='peer-gossip'), getPort(peername='olya0', name='peer-listen')"
   ]
  }
 ],
 "metadata": {
  "kernelspec": {
   "display_name": "Python 3 (ipykernel)",
   "language": "python",
   "name": "python3"
  },
  "language_info": {
   "codemirror_mode": {
    "name": "ipython",
    "version": 3
   },
   "file_extension": ".py",
   "mimetype": "text/x-python",
   "name": "python",
   "nbconvert_exporter": "python",
   "pygments_lexer": "ipython3",
   "version": "3.9.5"
  }
 },
 "nbformat": 4,
 "nbformat_minor": 4
}
