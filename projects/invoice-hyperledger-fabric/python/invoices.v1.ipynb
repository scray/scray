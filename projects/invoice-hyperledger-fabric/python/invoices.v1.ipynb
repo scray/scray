{
 "cells": [
  {
   "cell_type": "code",
   "execution_count": 2,
   "metadata": {},
   "outputs": [],
   "source": [
    "import invoiceTool\n",
    "import uuid\n",
    "import pandas as pd\n",
    "pd.set_option('display.max_rows', 500)\n",
    "\n",
    "peers = [invoiceTool.peer(addr=invoiceTool.addr1, crt=invoiceTool.crt1),\n",
    "         invoiceTool.peer(addr=invoiceTool.addr2, crt=invoiceTool.crt2)]"
   ]
  },
  {
   "cell_type": "markdown",
   "metadata": {},
   "source": [
    "# Load some invoices, add hash values"
   ]
  },
  {
   "cell_type": "code",
   "execution_count": 2,
   "metadata": {},
   "outputs": [],
   "source": [
    "invoices = pd.read_csv('/home/jovyan/work/supermarketsales.csv')  \n",
    "invoices.set_index('Invoice ID', inplace=True)\n",
    "invoices['hash'] = invoices.apply(lambda x: hash(tuple(x)), axis = 1)"
   ]
  },
  {
   "cell_type": "code",
   "execution_count": 3,
   "metadata": {},
   "outputs": [
    {
     "data": {
      "text/html": [
       "<div>\n",
       "<style scoped>\n",
       "    .dataframe tbody tr th:only-of-type {\n",
       "        vertical-align: middle;\n",
       "    }\n",
       "\n",
       "    .dataframe tbody tr th {\n",
       "        vertical-align: top;\n",
       "    }\n",
       "\n",
       "    .dataframe thead th {\n",
       "        text-align: right;\n",
       "    }\n",
       "</style>\n",
       "<table border=\"1\" class=\"dataframe\">\n",
       "  <thead>\n",
       "    <tr style=\"text-align: right;\">\n",
       "      <th></th>\n",
       "      <th>Branch</th>\n",
       "      <th>City</th>\n",
       "      <th>Customer type</th>\n",
       "      <th>Gender</th>\n",
       "      <th>Product line</th>\n",
       "      <th>Unit price</th>\n",
       "      <th>Quantity</th>\n",
       "      <th>Tax 5%</th>\n",
       "      <th>Total</th>\n",
       "      <th>Date</th>\n",
       "      <th>Time</th>\n",
       "      <th>Payment</th>\n",
       "      <th>cogs</th>\n",
       "      <th>gross margin percentage</th>\n",
       "      <th>gross income</th>\n",
       "      <th>Rating</th>\n",
       "      <th>hash</th>\n",
       "    </tr>\n",
       "    <tr>\n",
       "      <th>Invoice ID</th>\n",
       "      <th></th>\n",
       "      <th></th>\n",
       "      <th></th>\n",
       "      <th></th>\n",
       "      <th></th>\n",
       "      <th></th>\n",
       "      <th></th>\n",
       "      <th></th>\n",
       "      <th></th>\n",
       "      <th></th>\n",
       "      <th></th>\n",
       "      <th></th>\n",
       "      <th></th>\n",
       "      <th></th>\n",
       "      <th></th>\n",
       "      <th></th>\n",
       "      <th></th>\n",
       "    </tr>\n",
       "  </thead>\n",
       "  <tbody>\n",
       "    <tr>\n",
       "      <th>750-67-8428</th>\n",
       "      <td>A</td>\n",
       "      <td>Yangon</td>\n",
       "      <td>Member</td>\n",
       "      <td>Female</td>\n",
       "      <td>Health and beauty</td>\n",
       "      <td>74.69</td>\n",
       "      <td>7</td>\n",
       "      <td>26.1415</td>\n",
       "      <td>548.9715</td>\n",
       "      <td>1/5/2019</td>\n",
       "      <td>13:08</td>\n",
       "      <td>Ewallet</td>\n",
       "      <td>522.83</td>\n",
       "      <td>4.761905</td>\n",
       "      <td>26.1415</td>\n",
       "      <td>9.1</td>\n",
       "      <td>8252117794214139958</td>\n",
       "    </tr>\n",
       "    <tr>\n",
       "      <th>226-31-3081</th>\n",
       "      <td>C</td>\n",
       "      <td>Naypyitaw</td>\n",
       "      <td>Normal</td>\n",
       "      <td>Female</td>\n",
       "      <td>Electronic accessories</td>\n",
       "      <td>15.28</td>\n",
       "      <td>5</td>\n",
       "      <td>3.8200</td>\n",
       "      <td>80.2200</td>\n",
       "      <td>3/8/2019</td>\n",
       "      <td>10:29</td>\n",
       "      <td>Cash</td>\n",
       "      <td>76.40</td>\n",
       "      <td>4.761905</td>\n",
       "      <td>3.8200</td>\n",
       "      <td>9.6</td>\n",
       "      <td>-333208600729903974</td>\n",
       "    </tr>\n",
       "    <tr>\n",
       "      <th>631-41-3108</th>\n",
       "      <td>A</td>\n",
       "      <td>Yangon</td>\n",
       "      <td>Normal</td>\n",
       "      <td>Male</td>\n",
       "      <td>Home and lifestyle</td>\n",
       "      <td>46.33</td>\n",
       "      <td>7</td>\n",
       "      <td>16.2155</td>\n",
       "      <td>340.5255</td>\n",
       "      <td>3/3/2019</td>\n",
       "      <td>13:23</td>\n",
       "      <td>Credit card</td>\n",
       "      <td>324.31</td>\n",
       "      <td>4.761905</td>\n",
       "      <td>16.2155</td>\n",
       "      <td>7.4</td>\n",
       "      <td>-4675384210355374297</td>\n",
       "    </tr>\n",
       "    <tr>\n",
       "      <th>123-19-1176</th>\n",
       "      <td>A</td>\n",
       "      <td>Yangon</td>\n",
       "      <td>Member</td>\n",
       "      <td>Male</td>\n",
       "      <td>Health and beauty</td>\n",
       "      <td>58.22</td>\n",
       "      <td>8</td>\n",
       "      <td>23.2880</td>\n",
       "      <td>489.0480</td>\n",
       "      <td>1/27/2019</td>\n",
       "      <td>20:33</td>\n",
       "      <td>Ewallet</td>\n",
       "      <td>465.76</td>\n",
       "      <td>4.761905</td>\n",
       "      <td>23.2880</td>\n",
       "      <td>8.4</td>\n",
       "      <td>2881726942978795534</td>\n",
       "    </tr>\n",
       "    <tr>\n",
       "      <th>373-73-7910</th>\n",
       "      <td>A</td>\n",
       "      <td>Yangon</td>\n",
       "      <td>Normal</td>\n",
       "      <td>Male</td>\n",
       "      <td>Sports and travel</td>\n",
       "      <td>86.31</td>\n",
       "      <td>7</td>\n",
       "      <td>30.2085</td>\n",
       "      <td>634.3785</td>\n",
       "      <td>2/8/2019</td>\n",
       "      <td>10:37</td>\n",
       "      <td>Ewallet</td>\n",
       "      <td>604.17</td>\n",
       "      <td>4.761905</td>\n",
       "      <td>30.2085</td>\n",
       "      <td>5.3</td>\n",
       "      <td>6907212254428517984</td>\n",
       "    </tr>\n",
       "  </tbody>\n",
       "</table>\n",
       "</div>"
      ],
      "text/plain": [
       "            Branch       City Customer type  Gender            Product line  \\\n",
       "Invoice ID                                                                    \n",
       "750-67-8428      A     Yangon        Member  Female       Health and beauty   \n",
       "226-31-3081      C  Naypyitaw        Normal  Female  Electronic accessories   \n",
       "631-41-3108      A     Yangon        Normal    Male      Home and lifestyle   \n",
       "123-19-1176      A     Yangon        Member    Male       Health and beauty   \n",
       "373-73-7910      A     Yangon        Normal    Male       Sports and travel   \n",
       "\n",
       "             Unit price  Quantity   Tax 5%     Total       Date   Time  \\\n",
       "Invoice ID                                                               \n",
       "750-67-8428       74.69         7  26.1415  548.9715   1/5/2019  13:08   \n",
       "226-31-3081       15.28         5   3.8200   80.2200   3/8/2019  10:29   \n",
       "631-41-3108       46.33         7  16.2155  340.5255   3/3/2019  13:23   \n",
       "123-19-1176       58.22         8  23.2880  489.0480  1/27/2019  20:33   \n",
       "373-73-7910       86.31         7  30.2085  634.3785   2/8/2019  10:37   \n",
       "\n",
       "                 Payment    cogs  gross margin percentage  gross income  \\\n",
       "Invoice ID                                                                \n",
       "750-67-8428      Ewallet  522.83                 4.761905       26.1415   \n",
       "226-31-3081         Cash   76.40                 4.761905        3.8200   \n",
       "631-41-3108  Credit card  324.31                 4.761905       16.2155   \n",
       "123-19-1176      Ewallet  465.76                 4.761905       23.2880   \n",
       "373-73-7910      Ewallet  604.17                 4.761905       30.2085   \n",
       "\n",
       "             Rating                 hash  \n",
       "Invoice ID                                \n",
       "750-67-8428     9.1  8252117794214139958  \n",
       "226-31-3081     9.6  -333208600729903974  \n",
       "631-41-3108     7.4 -4675384210355374297  \n",
       "123-19-1176     8.4  2881726942978795534  \n",
       "373-73-7910     5.3  6907212254428517984  "
      ]
     },
     "execution_count": 3,
     "metadata": {},
     "output_type": "execute_result"
    }
   ],
   "source": [
    "invoices.head()"
   ]
  },
  {
   "cell_type": "code",
   "execution_count": 5,
   "metadata": {},
   "outputs": [],
   "source": [
    "def createInvoiceFromData(index=1,id = 41):\n",
    "    row = invoices.iloc[index]\n",
    "    invoiceid = row.name\n",
    "    tax = row['Tax 5%']\n",
    "    netto = row['Total'] - tax\n",
    "    hashvalue = row['hash']\n",
    "    return invoiceTool.createInvoice(id=id,invoiceNumber=invoiceid,vat=tax,netto=netto,countryOrigin='US',hash=hashvalue)\n",
    "\n",
    "for x in range(0,99):\n",
    "    createInvoiceFromData(index=x,id = 400 + x)"
   ]
  },
  {
   "cell_type": "code",
   "execution_count": null,
   "metadata": {},
   "outputs": [],
   "source": [
    "#df = invoiceTool.getInvoicesAsDF()\n",
    "#df.head()"
   ]
  },
  {
   "cell_type": "code",
   "execution_count": 19,
   "metadata": {},
   "outputs": [],
   "source": [
    "import ipywidgets as widgets\n",
    "#from IPython.display import display\n",
    "from IPython.display import Javascript, display\n",
    "\n",
    "import invoiceTool\n",
    "import uuid\n",
    "\n",
    "\n",
    "#def createInvoice(word1,word2):\n",
    "#    print(\"test\")\n",
    "#    invoiceTool.createInvoice(id=word1,invoiceNumber=word2,sell=\"True\")\n",
    "\n",
    "class invoice_widgets():\n",
    "    layout = widgets.Layout(width='auto', height='40px') #set width and height\n",
    "    style = {'description_width': '150px'}\n",
    "    layout = {'width': '400px'}\n",
    "\n",
    "    def helper(a,b,c):\n",
    "            print (a)\n",
    "\n",
    "    def setvalues1(netto='', vat='') :\n",
    "        print(netto)\n",
    "        self.netto.value = netto\n",
    "        self.vat.value = vat\n",
    "            \n",
    "    def createInvoice(self,word1,word2):\n",
    "        #invoiceTool.createInvoice(id=word1,invoiceNumber=word2,sell=\"True\")\n",
    "        res=invoiceTool.createInvoice(id=word1,invoiceNumber=word2,received=\"false\",sell=\"false\")\n",
    "        print(word2 + \"=\" + str(res))\n",
    "        return \"ok\"\n",
    "            \n",
    "    #def __init__(self, param1 = str(uuid.uuid4()), param2 = ''):\n",
    "    def __init__(self, param1 = '', param2 = '', peers = None):\n",
    "        self.peers = peers\n",
    "        #self.TextField1= widgets.Text(value='', description='Client List Name:',disabled=False, style=self.style, layout=self.layout)\n",
    "        self.ledger = widgets.Dropdown(description = 'Ledger',options=['mychannel'], style=self.style, layout=self.layout)\n",
    "        self.peer = widgets.Dropdown(description = 'Peer',options=[peers[0].addr,peers[1].addr], style=self.style, layout=self.layout)\n",
    "        self.p1_text = widgets.Text(description = 'id',value = param1,disabled=False, style=self.style, layout=self.layout)\n",
    "        # Rechnugsnnummer\n",
    "        self.p2_text = widgets.Text(description = 'Rechnungsnummer',value = param2, style=self.style, layout=self.layout)\n",
    "        # Country_Invoice Erstellung\n",
    "        self.country_origin = widgets.Text(description = 'country (origin)',value = 'DE', style=self.style, layout=self.layout)\n",
    "        self.country_receiver = widgets.Text(description = 'country (receiver)',value = '', style=self.style, layout=self.layout)\n",
    "        \n",
    "        # Invoice erhalten\n",
    "        self.received = widgets.Checkbox(value=False, description='received (invoice)', style=self.style, layout=self.layout)\n",
    "\n",
    "        self.order_received = widgets.Checkbox(value=False, description='received (order)', style=self.style, layout=self.layout)\n",
    "        \n",
    "        # Forderungsabtritt boolean (ID)\n",
    "        self.forderungsabtritt = widgets.Checkbox(value=False, description='Forderungsabtritt', style=self.style, layout=self.layout)\n",
    "       \n",
    "        self.paid = widgets.Checkbox(value=False, description='Forderung bezahlt', style=self.style, layout=self.layout)\n",
    "        # Geld erhalten auch von j anders / Forderung erhalten  (ID)\n",
    "        self.forderungErhaltenVon = widgets.Text(description = 'Forderung erhalten von',value = '', style=self.style, layout=self.layout)\n",
    "        self.steuerbefreiungsgrund = widgets.Dropdown(description = 'Steuerbefreieungsgrund',options=['','Ausfuhr'], style=self.style, layout=self.layout)\n",
    " \n",
    "        #Umsatzsteuer abgeführt (Boolean) (wird von Finanzbehörde gesetzt)\n",
    "        self.tax_received = widgets.Checkbox(value=False, description='Umsatzsteuer abgeführt', style=self.style, layout=self.layout)    \n",
    "    \n",
    "        # VAT- amount\n",
    "        self.vat = widgets.Text(description = 'VAT',value = '', style=self.style, layout=self.layout)\n",
    "        self.netto = widgets.Text(description = 'Netto',value = '', style=self.style, layout=self.layout)\n",
    "        self.hash_text = widgets.Text(description = 'Hash (invoice)',value = '', style=self.style, disabled=True, layout=self.layout)\n",
    "        \n",
    "        self.invoicedata_actions = {self.p2_text, self.vat, self.netto, self.country_origin,self.country_receiver}\n",
    "        for action in self.invoicedata_actions:\n",
    "            action.disabled = True\n",
    "        \n",
    "        self.seller_actions = {self.forderungErhaltenVon, self.forderungsabtritt}\n",
    "        \n",
    "        self.notuser_actions = {self.hash_text,self.steuerbefreiungsgrund,\n",
    "                                self.tax_received, \n",
    "                                self.forderungsabtritt,\n",
    "                               self.forderungErhaltenVon }\n",
    "        for action in self.notuser_actions:\n",
    "            action.disabled = True\n",
    "        \n",
    "        self.blocked = False\n",
    "        self.user_actions = {self.received,self.order_received, self.paid}\n",
    "        for action in self.user_actions:\n",
    "            action.disabled = True\n",
    "        \n",
    "        #self.received.on_submit(self.handle_submit) \n",
    "        self.received.observe(self.changed)\n",
    "        self.order_received.observe(self.changed)\n",
    "        self.peer.observe(self.changedpeer)\n",
    "        \n",
    "        self.p1_text.on_submit(self.handle_submit)\n",
    "        self.p2_text.on_submit(self.handle_submit)\n",
    "        display(self.ledger, self.peer,\n",
    "                self.hash_text, self.p1_text, self.p2_text, self.vat, self.netto, self.country_origin,self.country_receiver, self.received,self.order_received,  \n",
    "                self.forderungsabtritt, self.paid, self.forderungErhaltenVon,\n",
    "                self.steuerbefreiungsgrund,self.tax_received)\n",
    "        \n",
    "    def changedpeer(self, change):   \n",
    "        if change['type'] == 'change' and change['name'] == 'value':\n",
    "            #print('peer')\n",
    "            if self.peer.value == self.peers[0].addr:\n",
    "                for action in self.seller_actions:\n",
    "                    action.disabled = True\n",
    "                for action in self.user_actions:\n",
    "                    #print(str(action))\n",
    "                    if action.value == False:\n",
    "                        action.disabled = False\n",
    "                    else:\n",
    "                        action.disabled = True\n",
    "                        #print(action)\n",
    "            else:\n",
    "                for action in self.user_actions:\n",
    "                    action.disabled = True\n",
    "                self.forderungErhaltenVon.disabled = False    \n",
    "                for action in self.seller_actions:\n",
    "                    #print(str(action))\n",
    "                    if action.value == False:\n",
    "                        action.disabled = False\n",
    "                    else:\n",
    "                        action.disabled = True   \n",
    "        \n",
    "    def changed(self, change):    \n",
    "        #print(b['description'])\n",
    "        #print(b.description)\n",
    "        if self.blocked == True:\n",
    "            print('blocked')\n",
    "            return\n",
    "        \n",
    "        if change['type'] == 'change' and change['name'] == 'value':\n",
    "            print (\"changed to %s\" % change['new'])\n",
    "            print(change['owner'].description)\n",
    "            #if change['owner'] == self.received:\n",
    "            if change['owner'] in self.user_actions:    \n",
    "                print('received')\n",
    "                change['owner'].disabled = True\n",
    "                if change['owner'] == self.received:\n",
    "                    invoiceTool.markAsReceived(self.p1_text.value)\n",
    "                elif change['owner'] == self.order_received:\n",
    "                    invoiceTool.markOrderReceived(self.p1_text.value)\n",
    "                    \n",
    "        \n",
    "    def handle_submit(self, text):\n",
    "        #print (\"Submitting:\")\n",
    "        #print (\"Text \" + str(text.value))\n",
    "        key = self.p1_text.value\n",
    "        word2 = self.p2_text.value\n",
    "        #print(self.p1_text.value + \"=\" + word2)\n",
    "        \n",
    "        val = invoiceTool.queryInvoice(id=key)\n",
    "        print (val)\n",
    "        if val is None:\n",
    "            self.w = self.createInvoice(key,word2)\n",
    "            self.p1_text.value = str(int(key) + 1)\n",
    "            self.p2_text.value = ''\n",
    "        else:\n",
    "            #netto=str(val['netto'])\n",
    "            #self.setvalues1(netto=netto)\n",
    "            print(\"key=\" + key)\n",
    "            self.blocked = True\n",
    "            \n",
    "            self.netto.value = str(val['netto'])\n",
    "            self.vat.value = str(val['vat'])\n",
    "            self.p2_text.value = str(val['invoiceNumber'])\n",
    "            self.country_origin.value = str(val['countryOrigin'])\n",
    "            self.country_receiver.value = str(val['countryReceiver'])\n",
    "            self.hash_text.value = str(val['hash'])\n",
    "            self.forderungErhaltenVon.value = str(val['forderungErhaltenVon'])\n",
    "            self.steuerbefreiungsgrund.value = str(val['steuerbefreiungsgrund'])\n",
    "            \n",
    "            self.received.value       = val['received']\n",
    "            self.order_received.value = val['receivedOrder']\n",
    "            \n",
    "            #self.paid.value = str(val['forderungBezahlt'])\n",
    "            #self.tax_received.value = str(val['umsatzsteuerAbgefuehrt'])\n",
    "            #self.forderungsabtritt.value = str(val['sell'])\n",
    "            self.blocked = False\n",
    "            \n",
    "            print(self.peer.value, self.peers[0].addr)\n",
    "            \n",
    "            if self.peer.value == self.peers[0].addr:\n",
    "                for action in self.seller_actions:\n",
    "                    action.disabled = True\n",
    "                for action in self.user_actions:\n",
    "                    #print(str(action))\n",
    "                    if action.value == False:\n",
    "                        action.disabled = False\n",
    "                    else:\n",
    "                        action.disabled = True\n",
    "                        #print(action)\n",
    "            else:\n",
    "                for action in self.user_actions:\n",
    "                    action.disabled = True\n",
    "                self.forderungErhaltenVon.disabled = False    \n",
    "                for action in self.seller_actions:\n",
    "                    #print(str(action))\n",
    "                    if action.value == False:\n",
    "                        action.disabled = False\n",
    "                    else:\n",
    "                        action.disabled = True   \n",
    "                    \n",
    "            #print ('fill:' + str(val))\n",
    "            #return None\n",
    "            self.w='true'\n",
    "       \n",
    "        return self.w"
   ]
  },
  {
   "cell_type": "code",
   "execution_count": 18,
   "metadata": {},
   "outputs": [
    {
     "data": {
      "application/vnd.jupyter.widget-view+json": {
       "model_id": "170fcaa0813041b6a8b1ca484db1d24b",
       "version_major": 2,
       "version_minor": 0
      },
      "text/plain": [
       "Dropdown(description='Ledger', layout=Layout(width='400px'), options=('mychannel',), style=DescriptionStyle(de…"
      ]
     },
     "metadata": {},
     "output_type": "display_data"
    },
    {
     "data": {
      "application/vnd.jupyter.widget-view+json": {
       "model_id": "01f905f491fd426ca6e717caedacaecb",
       "version_major": 2,
       "version_minor": 0
      },
      "text/plain": [
       "Dropdown(description='Peer', layout=Layout(width='400px'), options=('peer0.org1.example.com:7051', 'peer0.org2…"
      ]
     },
     "metadata": {},
     "output_type": "display_data"
    },
    {
     "data": {
      "application/vnd.jupyter.widget-view+json": {
       "model_id": "11ee3501131e48e1916fbd1f84a57e13",
       "version_major": 2,
       "version_minor": 0
      },
      "text/plain": [
       "Text(value='', description='Hash (invoice)', disabled=True, layout=Layout(width='400px'), style=DescriptionSty…"
      ]
     },
     "metadata": {},
     "output_type": "display_data"
    },
    {
     "data": {
      "application/vnd.jupyter.widget-view+json": {
       "model_id": "c623bbef83e941c8bf671a23a00b8c0e",
       "version_major": 2,
       "version_minor": 0
      },
      "text/plain": [
       "Text(value='', description='id', layout=Layout(width='400px'), style=DescriptionStyle(description_width='150px…"
      ]
     },
     "metadata": {},
     "output_type": "display_data"
    },
    {
     "data": {
      "application/vnd.jupyter.widget-view+json": {
       "model_id": "a3ece4af21bd47189e465c5feeffe27d",
       "version_major": 2,
       "version_minor": 0
      },
      "text/plain": [
       "Text(value='', description='Rechnungsnummer', disabled=True, layout=Layout(width='400px'), style=DescriptionSt…"
      ]
     },
     "metadata": {},
     "output_type": "display_data"
    },
    {
     "data": {
      "application/vnd.jupyter.widget-view+json": {
       "model_id": "468b4ba8711b4e01b50f49b125250d74",
       "version_major": 2,
       "version_minor": 0
      },
      "text/plain": [
       "Text(value='', description='VAT', disabled=True, layout=Layout(width='400px'), style=DescriptionStyle(descript…"
      ]
     },
     "metadata": {},
     "output_type": "display_data"
    },
    {
     "data": {
      "application/vnd.jupyter.widget-view+json": {
       "model_id": "e7aab635ff284fd8a4577d23c1ecc6e9",
       "version_major": 2,
       "version_minor": 0
      },
      "text/plain": [
       "Text(value='', description='Netto', disabled=True, layout=Layout(width='400px'), style=DescriptionStyle(descri…"
      ]
     },
     "metadata": {},
     "output_type": "display_data"
    },
    {
     "data": {
      "application/vnd.jupyter.widget-view+json": {
       "model_id": "138df24c7d1a490b8f6413de97d6628a",
       "version_major": 2,
       "version_minor": 0
      },
      "text/plain": [
       "Text(value='DE', description='country (origin)', disabled=True, layout=Layout(width='400px'), style=Descriptio…"
      ]
     },
     "metadata": {},
     "output_type": "display_data"
    },
    {
     "data": {
      "application/vnd.jupyter.widget-view+json": {
       "model_id": "4c8e7ce1599e4f7b9ba09d51546886a2",
       "version_major": 2,
       "version_minor": 0
      },
      "text/plain": [
       "Text(value='', description='country (receiver)', disabled=True, layout=Layout(width='400px'), style=Descriptio…"
      ]
     },
     "metadata": {},
     "output_type": "display_data"
    },
    {
     "data": {
      "application/vnd.jupyter.widget-view+json": {
       "model_id": "2f6c74d7e2974ce5ab9fb3f171149014",
       "version_major": 2,
       "version_minor": 0
      },
      "text/plain": [
       "Checkbox(value=False, description='received (invoice)', disabled=True, layout=Layout(width='400px'), style=Des…"
      ]
     },
     "metadata": {},
     "output_type": "display_data"
    },
    {
     "data": {
      "application/vnd.jupyter.widget-view+json": {
       "model_id": "bf2efa54d10049f8bdf7a963822a7767",
       "version_major": 2,
       "version_minor": 0
      },
      "text/plain": [
       "Checkbox(value=False, description='received (order)', disabled=True, layout=Layout(width='400px'), style=Descr…"
      ]
     },
     "metadata": {},
     "output_type": "display_data"
    },
    {
     "data": {
      "application/vnd.jupyter.widget-view+json": {
       "model_id": "3d53630d06f14c98aa51f3be3b007845",
       "version_major": 2,
       "version_minor": 0
      },
      "text/plain": [
       "Checkbox(value=False, description='Forderungsabtritt', disabled=True, layout=Layout(width='400px'), style=Desc…"
      ]
     },
     "metadata": {},
     "output_type": "display_data"
    },
    {
     "data": {
      "application/vnd.jupyter.widget-view+json": {
       "model_id": "dd5a919447cd444fbc7810a44e49e8d8",
       "version_major": 2,
       "version_minor": 0
      },
      "text/plain": [
       "Checkbox(value=False, description='Forderung bezahlt', disabled=True, layout=Layout(width='400px'), style=Desc…"
      ]
     },
     "metadata": {},
     "output_type": "display_data"
    },
    {
     "data": {
      "application/vnd.jupyter.widget-view+json": {
       "model_id": "090b8666ad8244cf949a82a0ba5c681a",
       "version_major": 2,
       "version_minor": 0
      },
      "text/plain": [
       "Text(value='', description='Forderung erhalten von', disabled=True, layout=Layout(width='400px'), style=Descri…"
      ]
     },
     "metadata": {},
     "output_type": "display_data"
    },
    {
     "data": {
      "application/vnd.jupyter.widget-view+json": {
       "model_id": "2f1910cc21f14a87821ce590fd810fdd",
       "version_major": 2,
       "version_minor": 0
      },
      "text/plain": [
       "Dropdown(description='Steuerbefreieungsgrund', disabled=True, layout=Layout(width='400px'), options=('', 'Ausf…"
      ]
     },
     "metadata": {},
     "output_type": "display_data"
    },
    {
     "data": {
      "application/vnd.jupyter.widget-view+json": {
       "model_id": "0b3ffc780dba49f5b2940e74ec0dbeb9",
       "version_major": 2,
       "version_minor": 0
      },
      "text/plain": [
       "Checkbox(value=False, description='Umsatzsteuer abgeführt', disabled=True, layout=Layout(width='400px'), style…"
      ]
     },
     "metadata": {},
     "output_type": "display_data"
    }
   ],
   "source": [
    "f = invoice_widgets(peers=peers)"
   ]
  },
  {
   "cell_type": "code",
   "execution_count": null,
   "metadata": {},
   "outputs": [],
   "source": [
    "df = invoiceTool.getInvoicesAsDF()\n",
    "df[df['record.invoiceNumber'].str.contains(\"s\")]"
   ]
  }
 ],
 "metadata": {
  "kernelspec": {
   "display_name": "Python 3",
   "language": "python",
   "name": "python3"
  },
  "language_info": {
   "codemirror_mode": {
    "name": "ipython",
    "version": 3
   },
   "file_extension": ".py",
   "mimetype": "text/x-python",
   "name": "python",
   "nbconvert_exporter": "python",
   "pygments_lexer": "ipython3",
   "version": "3.8.6"
  }
 },
 "nbformat": 4,
 "nbformat_minor": 4
}
