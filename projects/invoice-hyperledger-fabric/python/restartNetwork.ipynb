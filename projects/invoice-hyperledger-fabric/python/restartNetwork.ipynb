{
 "cells": [
  {
   "cell_type": "code",
   "execution_count": 1,
   "metadata": {},
   "outputs": [
    {
     "ename": "SyntaxError",
     "evalue": "invalid syntax (<ipython-input-1-ab1ac52058eb>, line 1)",
     "output_type": "error",
     "traceback": [
      "\u001b[0;36m  File \u001b[0;32m\"<ipython-input-1-ab1ac52058eb>\"\u001b[0;36m, line \u001b[0;32m1\u001b[0m\n\u001b[0;31m    ./network.sh down\u001b[0m\n\u001b[0m    ^\u001b[0m\n\u001b[0;31mSyntaxError\u001b[0m\u001b[0;31m:\u001b[0m invalid syntax\n"
     ]
    }
   ],
   "source": [
    "./network.sh down\n",
    "./network.sh up\n",
    "./network.sh up createChannel\n",
    "./network.sh deployCC -ccn scray-invoice-example -ccl java -ccp /home/ubuntu/jupyter/scray/projects/invoice-hyperledger-fabric/chaincode/chaincode-java\n",
    "cd test-network/\n"
   ]
  },
  {
   "cell_type": "code",
   "execution_count": 13,
   "metadata": {},
   "outputs": [
    {
     "name": "stdout",
     "output_type": "stream",
     "text": [
      "addNewOrgToNetwork.ipynb  invoiceTool.py    restartNetwork.ipynb\n",
      "facturx.ipynb\t\t  invoiceWidget.py  widgets.ipynb\n",
      "invoices.ipynb\t\t  old\t\t    workinvoices.ipynb\n",
      "invoices.v1.ipynb\t  __pycache__\n"
     ]
    }
   ],
   "source": [
    "!cd /home/jovyan/work/fabric-samples/test-network\n",
    "!ls"
   ]
  },
  {
   "cell_type": "code",
   "execution_count": 16,
   "metadata": {},
   "outputs": [
    {
     "name": "stdout",
     "output_type": "stream",
     "text": [
      "/home/jovyan/work/fabric-samples/test-network/network.sh: line 19: scriptUtils.sh: No such file or directory\n",
      "/home/jovyan/work/fabric-samples/test-network/network.sh: line 513: infoln: command not found\n",
      "/home/jovyan/work/fabric-samples/test-network/network.sh: line 330: docker-compose: command not found\n",
      "/home/jovyan/work/fabric-samples/test-network/network.sh: line 331: docker-compose: command not found\n",
      "/home/jovyan/work/fabric-samples/test-network/network.sh: line 25: docker: command not found\n",
      "/home/jovyan/work/fabric-samples/test-network/network.sh: line 27: infoln: command not found\n",
      "/home/jovyan/work/fabric-samples/test-network/network.sh: line 37: docker: command not found\n",
      "/home/jovyan/work/fabric-samples/test-network/network.sh: line 39: infoln: command not found\n",
      "/home/jovyan/work/fabric-samples/test-network/network.sh: line 340: docker: command not found\n",
      "/home/jovyan/work/fabric-samples/test-network/network.sh: line 342: docker: command not found\n",
      "/home/jovyan/work/fabric-samples/test-network/network.sh: line 343: docker: command not found\n",
      "/home/jovyan/work/fabric-samples/test-network/network.sh: line 344: docker: command not found\n",
      "/home/jovyan/work/fabric-samples/test-network/network.sh: line 345: docker: command not found\n",
      "/home/jovyan/work/fabric-samples/test-network/network.sh: line 347: docker: command not found\n"
     ]
    }
   ],
   "source": [
    "!/home/jovyan/work/fabric-samples/test-network/network.sh down"
   ]
  }
 ],
 "metadata": {
  "kernelspec": {
   "display_name": "Python 3",
   "language": "python",
   "name": "python3"
  },
  "language_info": {
   "codemirror_mode": {
    "name": "ipython",
    "version": 3
   },
   "file_extension": ".py",
   "mimetype": "text/x-python",
   "name": "python",
   "nbconvert_exporter": "python",
   "pygments_lexer": "ipython3",
   "version": "3.8.6"
  }
 },
 "nbformat": 4,
 "nbformat_minor": 4
}
