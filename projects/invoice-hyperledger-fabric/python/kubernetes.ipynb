{
 "cells": [
  {
   "cell_type": "markdown",
   "metadata": {},
   "source": [
    "# Kubernetes"
   ]
  },
  {
   "cell_type": "markdown",
   "metadata": {},
   "source": [
    "# Kubernetes Version (Current)"
   ]
  },
  {
   "cell_type": "code",
   "execution_count": null,
   "metadata": {},
   "outputs": [],
   "source": [
    "from kubernetesTool import executeKubectlCmd\n",
    "from kubernetesTool import toCmd\n",
    "from kubernetesTool import executeLocalCmd\n",
    "from kubernetesTool import createConfig\n",
    "from kubernetesTool import getPort"
   ]
  },
  {
   "cell_type": "markdown",
   "metadata": {},
   "source": [
    "## addPeer"
   ]
  },
  {
   "cell_type": "code",
   "execution_count": null,
   "metadata": {},
   "outputs": [],
   "source": [
    "def addPeer(peername):  \n",
    "    if peername in peers.keys():\n",
    "        return peers[peername]\n",
    "    # Create configuration for new peer\n",
    "    executeLocalCmd(['/bin/bash','-c','cd /home/jovyan/scray/projects/invoice-hyperledger-fabric/containers/ && /home/jovyan/scray/projects/invoice-hyperledger-fabric/containers/configure-deployment.sh -n ' + peername])\n",
    "    # Start service\n",
    "    executeKubectlCmd(['apply', '-f', '/home/jovyan/scray/projects/invoice-hyperledger-fabric/containers/target/' + peername + '/k8s-peer-service.yaml'])\n",
    "    # Create peer configuration\n",
    "    res = createConfig(peername=peername,\n",
    "                       peer_listen_port=getPort(peername=peername, name='peer-listen'),\n",
    "                       peer_gossip_port=getPort(peername=peername, name='peer-gossip'))\n",
    "    # Start new peer\n",
    "    executeKubectlCmd(['apply', '-f','/home/jovyan/scray/projects/invoice-hyperledger-fabric/containers/target/' + peername + '/k8s-peer.yaml'])\n",
    "    peer = kubernetespeer(name=peername)\n",
    "    peers[peername] = peer\n",
    "    return peer\n",
    "    \n",
    "# create, delete numbered peers\n",
    "def createPeers(base_name,start=0, end=10):\n",
    "    for x in range(start,end):\n",
    "        peername = base_name + '-' + str(x)\n",
    "        addPeer(peername)\n",
    "         \n",
    "def deletePeers(name):\n",
    "    for x in range(0,10):\n",
    "        peerneme = name + str(x)\n",
    "        deletePeer(peerneme)    \n",
    "  \n",
    "def deleteAllPeers(config):\n",
    "    for item in config['items']:\n",
    "        try:\n",
    "            if 'org_name' in item['data'].keys():\n",
    "                deletePeer(item['data']['org_name'])\n",
    "        except Exception as e:\n",
    "            print(item['data'])\n",
    "            \n",
    "\n",
    "### config            \n",
    "            \n",
    "import subprocess\n",
    "def deleteConfig(peername=''):\n",
    "    try:  \n",
    "        output  = subprocess.check_output(['/home/jovyan/work/usr/bin/kubectl', 'delete','configmap','hl-fabric-peer-' + peername])\n",
    "        return str(output)\n",
    "    except Exception as e:\n",
    "        return str(e)  \n",
    "        \n",
    "    \n",
    "def createConfig(peername='',peer_listen_port='',peer_gossip_port=''):\n",
    "    try:  \n",
    "        peer_host_name = peername + '.kubernetes.research.dev.seeburger.de'\n",
    "        output  = subprocess.check_output(['/home/jovyan/work/usr/bin/kubectl', 'create','configmap','hl-fabric-peer-' + peername,\n",
    "                                          '--from-literal=hostname=' + peer_host_name,\n",
    "                                          '--from-literal=org_name=' + peername,\n",
    "                                          '--from-literal=data_share=hl-fabric-data-share-service:80',\n",
    "                                          '--from-literal=CORE_PEER_ADDRESS=peer0.' + peer_host_name + ':' + peer_listen_port,\n",
    "                                          '--from-literal=CORE_PEER_GOSSIP_EXTERNALENDPOINT=' + peer_host_name + ':' + peer_gossip_port,\n",
    "                                          '--from-literal=CORE_PEER_LOCALMSPID=' + peername + 'MSP'])\n",
    "        return str(output)\n",
    "    except Exception as e:\n",
    "        return str(e)      \n",
    "    \n",
    "  \n",
    "##### execute\n",
    "\n",
    "def executePeerCmd(pod_name,cmd, cli='scray-peer-cli'):\n",
    "    try:  \n",
    "        #cmd1 = \"source /root/.bashrc && \"\n",
    "        cmd1 = ['/home/jovyan/work/usr/bin/kubectl', 'exec','-t', pod_name, '-c', cli,'--', '/bin/sh','-c',cmd]\n",
    "        #cmd1 = ['/home/jovyan/work/usr/bin/kubectl', 'exec','-t', pod_name, '-c', cli,'--', '/bin/sh','-c'] + cmd\n",
    "        print(toCmd(cmd1))\n",
    "        output  = subprocess.check_output(cmd1)\n",
    "        #output  = subprocess.check_output(['/home/jovyan/work/usr/bin/kubectl', 'exec', '--stdin' ,'--tty', pod_name, '-c', cli,'--', '/bin/sh','-c',cmd])\n",
    "        return output.decode('ascii')\n",
    "    except Exception as e:\n",
    "        return str(e)"
   ]
  },
  {
   "cell_type": "code",
   "execution_count": null,
   "metadata": {},
   "outputs": [],
   "source": [
    "import kubernetesTool\n",
    "\n",
    "class kubernetespeer:\n",
    "    def __init__(self, name='',prefix='peer'):\n",
    "        self.name = name\n",
    "        self.pod_name = kubernetesTool.getPod(name)\n",
    "        self.listen_port = kubernetesTool.getPort(peername=name, name = prefix + '-listen')\n",
    "        self.gossip_port = kubernetesTool.getPort(peername=name, name = prefix + '-gossip')\n",
    "        # ????????\n",
    "        #print('kubernetespeer addBashEnvToPeer')\n",
    "        #addBashEnvToPeer(self)\n",
    "    def getCertificate(self):\n",
    "        try:\n",
    "            return str(subprocess.check_output(['cat', self.crt]))[2:-3]   \n",
    "        except Exception as e:\n",
    "            return str(e)      \n",
    "        \n",
    "class ordererpeer(kubernetespeer):\n",
    "    def __init__(self, name='',prefix='peer'):\n",
    "        super().__init__(name,prefix)\n",
    "        self.host = 'orderer.example.com'\n",
    "        self.orderer_intern = 7050\n",
    "        \n",
    "    # can change\n",
    "    def get_ip(self, app='orderer-org1-scray-org'):\n",
    "        return executeKubectlCmd(['get', 'pods','-l', 'app=' + app,'-o','jsonpath=\\'{.items[*].status.podIP}\\''])   \n",
    "    "
   ]
  },
  {
   "cell_type": "code",
   "execution_count": null,
   "metadata": {},
   "outputs": [],
   "source": [
    "def toCmd(strlist):\n",
    "    return ''.join((str(e) + ' ') for e in strlist)[:-1]\n",
    "\n",
    "#!/home/jovyan/work/usr/bin/kubectl exec --stdin --tty $POD_NAME  -c scray-peer-cli -- /bin/sh /mnt/conf/peer_join.sh $ORDERER_IP  $ORDERER_HOSTNAME $CHANNEL_NAME         \n",
    "def joinHyperledger(peer,orderer_ip,orderer_hostname,orderer_port,channel_name,shared_fs_host,ext_peer_ip='10.15.136.41'):          \n",
    "    cmd = toCmd(['/mnt/conf/peer_join.sh', orderer_ip,orderer_hostname,orderer_port,channel_name,shared_fs_host,ext_peer_ip])\n",
    "    print(cmd)\n",
    "    return executePeerCmd(peer.pod_name, cmd)\n",
    "\n",
    "def endorse_peer(peer=None, orderer_ip='',channel_name='',shared_fs_host='',ext_peer_ip='10.15.136.41'):\n",
    "    print(peer.name)\n",
    "    peername = peer.name\n",
    "    peer_host_name = peername + '.kubernetes.research.dev.seeburger.de'\n",
    "    cmd = toCmd(['/mnt/conf/orderer/scripts/inform_existing_nodes.sh',orderer_ip,channel_name,peer.name,shared_fs_host,ext_peer_ip,peer_host_name]) \n",
    "    #print(cmd)\n",
    "    return executePeerCmd(orderer.pod_name,cmd,cli='scray-orderer-cli')\n",
    "\n",
    "def add_channel(name):\n",
    "    cmd1 = ['/mnt/conf/orderer/scripts/create_channel.sh', name, 'orderer.example.com', '7050']\n",
    "    cmd = toCmd(cmd1)\n",
    "    return executePeerCmd(orderer.pod_name, cmd1, cli='scray-orderer-cli')"
   ]
  },
  {
   "cell_type": "markdown",
   "metadata": {},
   "source": [
    "## check status peers"
   ]
  },
  {
   "cell_type": "code",
   "execution_count": null,
   "metadata": {},
   "outputs": [],
   "source": [
    "from kubernetesTool import executeKubectlCmd\n",
    "_res = executeKubectlCmd(['get', 'pods', '-o', 'json'], decode='json')\n",
    "\n",
    "for item in _res['items']:\n",
    "    labels=item['metadata']['labels']\n",
    "    #status=item['status']['initContainerStatuses'][0]\n",
    "    #print(labels,status['state'],status['restartCount'],status['name'],status['ready'])\n",
    "    print(labels,item['status']['phase'])\n",
    "    #print(labels)"
   ]
  },
  {
   "cell_type": "code",
   "execution_count": null,
   "metadata": {},
   "outputs": [],
   "source": [
    "_res['items'][3]['metadata']['labels']\n",
    "_res['items'][0]['status']['phase']"
   ]
  },
  {
   "cell_type": "markdown",
   "metadata": {},
   "source": [
    "## create peers"
   ]
  },
  {
   "cell_type": "code",
   "execution_count": null,
   "metadata": {},
   "outputs": [],
   "source": [
    "peers = {}"
   ]
  },
  {
   "cell_type": "code",
   "execution_count": null,
   "metadata": {},
   "outputs": [],
   "source": [
    "peers"
   ]
  },
  {
   "cell_type": "code",
   "execution_count": null,
   "metadata": {},
   "outputs": [],
   "source": [
    "orderer = ordererpeer(name='orderer-org1-scray-org',prefix='orderer')"
   ]
  },
  {
   "cell_type": "code",
   "execution_count": null,
   "metadata": {},
   "outputs": [],
   "source": [
    "createPeers('lalya',start=0, end=3)"
   ]
  },
  {
   "cell_type": "code",
   "execution_count": null,
   "metadata": {},
   "outputs": [],
   "source": [
    "orderer.__dict__"
   ]
  },
  {
   "cell_type": "code",
   "execution_count": null,
   "metadata": {},
   "outputs": [],
   "source": [
    "kubectl exec --stdin --tty $ORDERER_POD -c scray-orderer-cli  -- /bin/sh /mnt/conf/orderer/scripts/inform_existing_nodes.sh $ORDERER_IP $CHANNEL_NAME $PEER_NAME $SHARED_FS_HOST $EXT_PEER_IP $PEER_HOST_NAME"
   ]
  },
  {
   "cell_type": "code",
   "execution_count": null,
   "metadata": {},
   "outputs": [],
   "source": [
    "EER_POD_NAME=$(kubectl get pod -l app=$PEER_NAME -o jsonpath=\"{.items[0].metadata.name}\")\n",
    " ORDERER_PORT=$(kubectl get service orderer-org1-scray-org -o jsonpath=\"{.spec.ports[?(@.name=='orderer-listen')].nodePort}\")\n",
    " ORDERER_PORT=7050\n",
    " PEER_PORT=$(kubectl get service $PEER_NAME -o jsonpath=\"{.spec.ports[?(@.name=='peer-listen')].nodePort}\")\n",
    " kubectl exec --stdin --tty $PEER_POD_NAME  -c scray-peer-cli -- /bin/sh /mnt/conf/peer_join.sh $ORDERER_IP  $ORDERER_HOSTNAME $ORDERER_PORT $CHANNEL_NAME $SHARED_FS_HOST $EXT_PEER_IP"
   ]
  },
  {
   "cell_type": "code",
   "execution_count": null,
   "metadata": {},
   "outputs": [],
   "source": []
  },
  {
   "cell_type": "code",
   "execution_count": null,
   "metadata": {},
   "outputs": [],
   "source": [
    "#orderer_ip=get_orderer_ip('orderer-org1-scray-org') \n",
    "#orderer_hostname='orderer.example.com'\n",
    "#orderer_port='7050'\n",
    "\n",
    "orderer_ip=orderer.get_ip()\n",
    "orderer_hostname=orderer.host\n",
    "#orderer_port=orderer.orderer_intern\n",
    "orderer_port= orderer.listen_port\n",
    "\n",
    "channel_name='super43'\n",
    "shared_fs_host='10.14.128.38:30080'\n",
    "    \n",
    "def endorse_and_join(peer):    \n",
    "    res1 = endorse_peer(peer=peer,orderer_ip=orderer_ip,channel_name=channel_name,shared_fs_host='10.14.128.38:30080')   \n",
    "    res2  = joinHyperledger(peer,orderer_ip,orderer_hostname,orderer_port,channel_name,shared_fs_host)\n",
    "    return res1,res2\n",
    "\n",
    "for key, value in peers.items():\n",
    "    endorse_and_join(value)"
   ]
  },
  {
   "cell_type": "code",
   "execution_count": null,
   "metadata": {},
   "outputs": [],
   "source": [
    "!/home/jovyan/work/usr/bin/kubectl exec -t orderer-org1-scray-org-5f97c57d44-j5mbs -c scray-orderer-cli -- /bin/sh -c /mnt/conf/orderer/scripts/inform_existing_nodes.sh '10.32.0.5' super40 kalya-0 10.14.128.38:30080 10.15.136.41 kalya-0.kubernetes.research.dev.seeburger.de"
   ]
  },
  {
   "cell_type": "code",
   "execution_count": null,
   "metadata": {},
   "outputs": [],
   "source": [
    "type(peers)"
   ]
  },
  {
   "cell_type": "markdown",
   "metadata": {},
   "source": [
    "## install chaincode"
   ]
  },
  {
   "cell_type": "code",
   "execution_count": null,
   "metadata": {},
   "outputs": [],
   "source": [
    "channel_name\n",
    "orderer.__dict__"
   ]
  },
  {
   "cell_type": "code",
   "execution_count": null,
   "metadata": {},
   "outputs": [],
   "source": [
    "#cc_host chaincode host\n",
    "def installAndAproveChaincode(peer,orderer,channel_name,cc_host='10.14.128.38'):\n",
    "    #!/home/jovyan/work/usr/bin/kubectl exec --stdin --tty $POD_NAME -c scray-peer-cli -- /bin/sh /mnt/conf/install_and_approve_cc.sh $IP_CC_SERVICE $IP_OF_EXAMPLE_NETWORK\n",
    "    #strlist = ['/mnt/conf/install_and_approve_cc.sh', cc_host, orderer.get_ip(), orderer.host, str(orderer.orderer_intern), channel_name ]\n",
    "    strlist = ['/mnt/conf/install_and_approve_cc.sh', cc_host, orderer.get_ip(), orderer.host, str(orderer.listen_port), channel_name ]\n",
    "    return executePeerCmd(peer.pod_name,toCmd(strlist)) \n",
    "     \n",
    "for key, peer in peers.items():\n",
    "    installAndAproveChaincode(peer,orderer,channel_name)"
   ]
  },
  {
   "cell_type": "code",
   "execution_count": null,
   "metadata": {},
   "outputs": [],
   "source": [
    "def commitChaincode(peer,channel_name):\n",
    "    strlist = ['/mnt/conf/peer/cc_commit.sh', channel_name ]\n",
    "    return executePeerCmd(peer.pod_name,toCmd(strlist)) \n",
    "\n",
    "peer = list(peers.values())[0]\n",
    "commitChaincode(peer,channel_name)"
   ]
  },
  {
   "cell_type": "code",
   "execution_count": null,
   "metadata": {},
   "outputs": [],
   "source": [
    "peer.name, channel_name"
   ]
  },
  {
   "cell_type": "code",
   "execution_count": null,
   "metadata": {},
   "outputs": [],
   "source": [
    "!/home/jovyan/work/usr/bin/kubectl exec --stdin --tty lalya-0-7c887cffb8-fpw7h -c scray-peer-cli -- /bin/sh /mnt/conf/peer/cc-basic-interaction.sh  super43"
   ]
  },
  {
   "cell_type": "code",
   "execution_count": null,
   "metadata": {},
   "outputs": [],
   "source": [
    "#Call init method in chaincode\n",
    "def chaincode_init(peer,channel_name):\n",
    "    strlist = ['/mnt/conf/peer/cc-basic-interaction.sh', channel_name ]\n",
    "    return executePeerCmd(peer.pod_name,toCmd(strlist)) \n",
    "\n",
    "chaincode_init(peer,channel_name)"
   ]
  },
  {
   "cell_type": "code",
   "execution_count": null,
   "metadata": {},
   "outputs": [],
   "source": [
    "CHANNEL_NAME=mychannel\n",
    "#ORDERER_NAME=orderer.example.com\n",
    "IP_CC_SERVICE=10.14.128.38         # Host where the chaincode is running\n",
    "#PEER_POD=$(kubectl get pod -l app=$PEER_NAME -o jsonpath=\"{.items[0].metadata.name}\")\n",
    "#ORDERER_IP=$(kubectl get pods  -l app=orderer-org1-scray-org -o jsonpath='{.items[*].status.podIP}')\n",
    "#ORDERER_LISTEN_PORT=$(kubectl get service orderer-org1-scray-org -o jsonpath=\"{.spec.ports[?(@.name=='orderer-listen')].nodePort}\")\n",
    "#ORDERER_HOST=orderer.example.com\n",
    "EXT_PEER_IP=10.14.128.38\n",
    "\n",
    "ORDERER_PORT=$(kubectl get service orderer-org1-scray-org -o jsonpath=\"{.spec.ports[?(@.name=='orderer-listen')].nodePort}\")\n",
    "ORDERER_PORT=7050\n",
    "ORDERER_IP=$(kubectl get pods  -l app=orderer-org1-scray-org -o jsonpath='{.items[*].status.podIP}')\n",
    "\n",
    "kubectl exec --stdin --tty $PEER_POD -c scray-peer-cli -- /bin/sh /mnt/conf/install_and_approve_cc.sh $IP_CC_SERVICE $ORDERER_IP $ORDERER_HOST $ORDERER_PORT $CHANNEL_NAME "
   ]
  },
  {
   "cell_type": "code",
   "execution_count": null,
   "metadata": {},
   "outputs": [],
   "source": [
    "#peers.keys()\n",
    "#[elem for elem in peers.values()]\n",
    "list(peers.values())[0].__dict__"
   ]
  },
  {
   "cell_type": "markdown",
   "metadata": {},
   "source": [
    "## invoice usecase"
   ]
  },
  {
   "cell_type": "code",
   "execution_count": null,
   "metadata": {},
   "outputs": [],
   "source": [
    "#kubectl exec --stdin --tty $PEER_POD -c scray-peer-cli -- /bin/sh /mnt/conf/peer/add-invoice.sh  $CHANNEL_NAME $INVOICE_ID\n",
    "\n",
    "def get_certificate_string(peername):\n",
    "    return 'x509::CN=User1@' + peername + '.kubernetes.research.dev.seeburger.de,OU=client,L=Bretten,ST=Baden,C=DE::CN=ca.' + peername + '.kubernetes.research.dev.seeburger.de,O=' + peername + '.kubernetes.research.dev.seeburger.de,L=Bretten,ST=Baden,C=DE'\n",
    "    #return 'x509::CN=User1@' + peername + '.kubernetes.research.dev.seeburger.de,OU=client,L=Bretten,ST=Baden,C=DE::CN=ca.' + peername + '.kubernetes.research.dev.seeburger.de,O=' + peername + '.kubernetes.research.dev.seeburger.de,L=Bretten,ST=Baden,C=DE,C=DEdx509::CN=User1@' + peername + '.kubernetes.research.dev.seeburger.de,OU=client,L=Bretten,ST=Baden,C=DE::CN=ca.' + peername + '.kubernetes.research.dev.seeburger.de,O=' + peername + '.kubernetes.research.dev.seeburger.de,L=Bretten,ST=Baden,C=DE'\n",
    "\n",
    "def chaincode_add_invoice(peer,channel_name,invoice_id,buyer):\n",
    "    strlist = ['/mnt/conf/peer/add-invoice.sh', channel_name,invoice_id,get_certificate_string(buyer)]\n",
    "    print(toCmd(strlist))\n",
    "    return executePeerCmd(peer.pod_name,toCmd(strlist)) \n",
    "\n",
    "pernames = list(peers.keys())\n",
    "chaincode_add_invoice(peers[pernames[0]],channel_name,'046',pernames[1])"
   ]
  },
  {
   "cell_type": "code",
   "execution_count": null,
   "metadata": {},
   "outputs": [],
   "source": [
    "!/home/jovyan/work/usr/bin/kubectl exec -t galya-0-6cc848b49-pv2dn -c scray-peer-cli -- /bin/sh /mnt/conf/peer/add-invoice.sh super13 006 x509::CN=User1@galya-1.kubernetes.research.dev.seeburger.de,OU=client,L=San Francisco,ST=California,C=US::CN=ca.galya-1.kubernetes.research.dev.seeburger.de,O=galya-1.kubernetes.research.dev.seeburger.de,L=San Francisco,ST=California,C=USdx509::CN=User1@galya-1.kubernetes.research.dev.seeburger.de,OU=client,L=San Francisco,ST=California,C=US::CN=ca.galya-1.kubernetes.research.dev.seeburger.de,O=galya-1.kubernetes.research.dev.seeburger.de,L=San Francisco,ST=California,C=US"
   ]
  },
  {
   "cell_type": "code",
   "execution_count": null,
   "metadata": {},
   "outputs": [],
   "source": [
    "get_certificate_string(pernames[1])\n",
    "\n",
    "#'x509::CN=User1@galya-1.kubernetes.research.dev.seeburger.de,OU=client,L=San Francisco,ST=California,C=US::CN=ca.galya-1.kubernetes.research.dev.seeburger.de,O=galya-1.kubernetes.research.dev.seeburger.de,L=San Francisco,ST=California,C=USdx509::CN=User1@galya-1.kubernetes.research.dev.seeburger.de,OU=client,L=San Francisco,ST=California,C=US::CN=ca.galya-1.kubernetes.research.dev.seeburger.de,O=galya-1.kubernetes.research.dev.seeburger.de,L=San Francisco,ST=California,C=US'\n",
    "\n",
    "#, 'x509::CN=User1@galya-1.kubernetes.research.dev.seeburger.de,OU=client,L=San Francisco,ST=California,C=US::CN=ca.galya-1.kubernetes.research.dev.seeburger.de,O=galya-1.kubernetes.research.dev.seeburger.de,L=San Francisco,ST=California,C=USdx509::CN=User1@galya-1.kubernetes.research.dev.seeburger.de,OU=client,L=San Francisco,ST=California,C=US::CN=ca.galya-1.kubernetes.research.dev.seeburger.de,O=galya-1.kubernetes.research.dev.seeburger.de,L=San Francisco,ST=California,C=US'"
   ]
  },
  {
   "cell_type": "code",
   "execution_count": null,
   "metadata": {},
   "outputs": [],
   "source": [
    "#kubectl exec --stdin --tty $PEER_POD -c scray-peer-cli -- /bin/sh /mnt/conf/peer/get-my-invoices.sh  $CHANNEL_NAME $INVOICE_ID\n",
    "def chaincode_read_invoice(peer,channel_name):\n",
    "    strlist = ['/mnt/conf/peer/get-my-invoices.sh', channel_name]\n",
    "    return executePeerCmd(peer.pod_name,toCmd(strlist)) \n",
    "chaincode_read_invoice(peers[pernames[0]],channel_name)"
   ]
  },
  {
   "cell_type": "code",
   "execution_count": null,
   "metadata": {},
   "outputs": [],
   "source": [
    "def chaincode_transfer_invoice(peer,channel_name,invoice_id,new_owner):\n",
    "    strlist = ['/mnt/conf/peer/transfer_invoice.sh', channel_name,invoice_id,get_certificate_string(new_owner)]\n",
    "    print(toCmd(strlist))\n",
    "    return executePeerCmd(peer.pod_name,toCmd(strlist)) \n",
    "\n",
    "pernames = list(peers.keys())\n",
    "chaincode_transfer_invoice(peers[pernames[0]],channel_name,'045',pernames[2])"
   ]
  },
  {
   "cell_type": "code",
   "execution_count": null,
   "metadata": {},
   "outputs": [],
   "source": [
    "get_certificate_string(pernames[2])\n",
    "NEW_OWNER='x509::CN=User1@lalya-2.kubernetes.research.dev.seeburger.de,OU=client,L=Bretten,ST=Baden,C=DE::CN=ca.lalya-2.kubernetes.research.dev.seeburger.de,O=lalya-2.kubernetes.research.dev.seeburger.de,L=Bretten,ST=Baden,C=DE'\n",
    "kubectl exec --stdin --tty lalya-0-7c887cffb8-fpw7h -c scray-peer-cli -- /bin/sh /mnt/conf/peer/transfer_invoice.sh  super43 045 $NEW_OWNER"
   ]
  },
  {
   "cell_type": "code",
   "execution_count": null,
   "metadata": {},
   "outputs": [],
   "source": [
    "kubectl exec --stdin --tty 'lalya-0-7c887cffb8-fpw7h' -c scray-peer-cli -- /bin/sh /mnt/conf/peer/get-my-invoices.sh  super43 045\n",
    "kubectl exec --stdin --tty 'lalya-1-7c76dff8c-pzx78' -c scray-peer-cli -- /bin/sh /mnt/conf/peer/get-my-invoices.sh  super43 045\n",
    "kubectl exec --stdin --tty 'lalya-2-5f8b45dbc4-52tt7' -c scray-peer-cli -- /bin/sh /mnt/conf/peer/get-my-invoices.sh  super43 045\n"
   ]
  },
  {
   "cell_type": "code",
   "execution_count": null,
   "metadata": {},
   "outputs": [],
   "source": [
    "peers[pernames[2]].pod_name"
   ]
  },
  {
   "cell_type": "markdown",
   "metadata": {},
   "source": [
    "## add channel"
   ]
  },
  {
   "cell_type": "code",
   "execution_count": null,
   "metadata": {},
   "outputs": [],
   "source": [
    "orderer.pod_name"
   ]
  },
  {
   "cell_type": "code",
   "execution_count": null,
   "metadata": {},
   "outputs": [],
   "source": [
    "!/home/jovyan/work/usr/bin/kubectl exec -t orderer-org1-scray-org-9dbd9fc68-5lrgq -c scray-orderer-cli -- /bin/sh /mnt/conf/orderer/scripts/create_channel.sh super43 orderer.example.com 30081"
   ]
  },
  {
   "cell_type": "code",
   "execution_count": null,
   "metadata": {},
   "outputs": [],
   "source": [
    "add_channel('super20')"
   ]
  },
  {
   "cell_type": "code",
   "execution_count": null,
   "metadata": {},
   "outputs": [],
   "source": [
    "name = 'super30'\n",
    "cmd = toCmd(['/mnt/conf/orderer/scripts/create_channel.sh', name, 'orderer.example.com', '7050'])\n",
    "cmd, orderer.pod_name"
   ]
  },
  {
   "cell_type": "code",
   "execution_count": null,
   "metadata": {},
   "outputs": [],
   "source": [
    "executePeerCmd(orderer.pod_name, cmd, cli='scray-orderer-cli')"
   ]
  },
  {
   "cell_type": "code",
   "execution_count": null,
   "metadata": {},
   "outputs": [],
   "source": [
    "executePeerCmd(orderer.pod_name, 'peer channel list', cli='scray-orderer-cli')"
   ]
  },
  {
   "cell_type": "code",
   "execution_count": null,
   "metadata": {},
   "outputs": [],
   "source": [
    "cmd1 = ['/mnt/conf/orderer/scripts/create_channel.sh super20 orderer.example.com 7050']\n",
    "executePeerCmd(orderer.pod_name, cmd1, cli='scray-orderer-cli')"
   ]
  },
  {
   "cell_type": "code",
   "execution_count": null,
   "metadata": {},
   "outputs": [],
   "source": [
    "#cmd1 = ['/home/jovyan/work/usr/bin/kubectl', 'exec','-t', 'orderer-org1-scray-org-5f97c57d44-l6d5l', '-c', 'scray-orderer-cli','--', '/bin/sh', '-c','/mnt/conf/orderer/scripts/create_channel.sh super7 orderer.example.com 7050']\n",
    "\n",
    "#cmd2 = toCmd(['ls','-a'])\n",
    "cmd2 = toCmd(['/mnt/conf/orderer/scripts/create_channel.sh', 'super7', 'orderer.example.com', '7050'])\n",
    "\n",
    "cmd1 = ['/home/jovyan/work/usr/bin/kubectl', 'exec','-t', 'orderer-org1-scray-org-5f97c57d44-l6d5l', '-c', 'scray-orderer-cli','--', '/bin/sh', '-c',cmd2]\n",
    "\n",
    "\n",
    "print(toCmd(cmd1))\n",
    "#subprocess.check_output(cmd1)\n",
    "subprocess.run(cmd1, stdout = subprocess.PIPE, stderr=subprocess.PIPE)"
   ]
  },
  {
   "cell_type": "code",
   "execution_count": null,
   "metadata": {},
   "outputs": [],
   "source": [
    "!/home/jovyan/work/usr/bin/kubectl exec -it orderer-org1-scray-org-5f97c57d44-l6d5l -c scray-orderer-cli -- /bin/sh /mnt/conf/orderer/scripts/create_channel.sh super6 orderer.example.com 7050\n"
   ]
  },
  {
   "cell_type": "code",
   "execution_count": null,
   "metadata": {},
   "outputs": [],
   "source": [
    "orderer.pod_name"
   ]
  },
  {
   "cell_type": "code",
   "execution_count": null,
   "metadata": {},
   "outputs": [],
   "source": [
    "!/home/jovyan/work/usr/bin/kubectl exec --stdin --tty 'orderer-org1-scray-org-5f97c57d44-j5mbs' -c scray-orderer-cli  -- /bin/sh /mnt/conf/orderer/scripts/create_channel.sh 'super' orderer.example.com '7050'"
   ]
  },
  {
   "cell_type": "code",
   "execution_count": null,
   "metadata": {},
   "outputs": [],
   "source": [
    "# Create Peer\n",
    "\n",
    "peername='dalya8'\n",
    "addPeer(peername)\n",
    "peers[peername].__dict__"
   ]
  },
  {
   "cell_type": "code",
   "execution_count": null,
   "metadata": {},
   "outputs": [],
   "source": [
    "\n"
   ]
  },
  {
   "cell_type": "code",
   "execution_count": null,
   "metadata": {},
   "outputs": [],
   "source": [
    "executeKubectlCmd(['get', 'pods','-l', 'app=orderer-org1-scray-org','-o','jsonpath=\\'{.items[*].status.podIP}\\''])  "
   ]
  },
  {
   "cell_type": "code",
   "execution_count": null,
   "metadata": {},
   "outputs": [],
   "source": [
    "peers[peername].__dict__"
   ]
  },
  {
   "cell_type": "code",
   "execution_count": null,
   "metadata": {},
   "outputs": [],
   "source": [
    "orderer.__dict__"
   ]
  },
  {
   "cell_type": "markdown",
   "metadata": {},
   "source": [
    "## Export channel configuration"
   ]
  },
  {
   "cell_type": "code",
   "execution_count": null,
   "metadata": {},
   "outputs": [],
   "source": [
    "#https://github.com/scray/scray/blob/feature/k8s-peer/projects/invoice-hyperledger-fabric/containers/README.md#export-data\n",
    "\n",
    "SHARED_FS_HOST='10.14.128.38:30080'\n",
    "_result = SHARED_FS_HOST + '/channel/configuration/$CHANNEL_NAME/config.json'\n",
    "\n",
    "#kubectl exec --stdin --tty $ORDERER_POD -c scray-orderer-cli -- /bin/sh /mnt/conf/orderer/scripts/publish_channel_conf.sh $CHANNEL_NAME $SHARED_FS_HOST\n",
    "\n",
    "def export_channel_configuration(peer,channel_name,SHARED_FS_HOST):\n",
    "    strlist = ['/mnt/conf/orderer/scripts/publish_channel_conf.sh', channel_name,SHARED_FS_HOST]\n",
    "    return executePeerCmd(peer.pod_name,toCmd(strlist)) \n",
    "\n",
    "#_peer = peers[list(peers.keys())[0]]\n",
    "_peer = orderer\n",
    "channel_name = 'super'\n",
    "export_channel_configuration(_peer,channel_name,SHARED_FS_HOST)"
   ]
  },
  {
   "cell_type": "code",
   "execution_count": null,
   "metadata": {},
   "outputs": [],
   "source": [
    "#list(peers)[0]\n"
   ]
  }
 ],
 "metadata": {
  "kernelspec": {
   "display_name": "Python 3 (ipykernel)",
   "language": "python",
   "name": "python3"
  },
  "language_info": {
   "codemirror_mode": {
    "name": "ipython",
    "version": 3
   },
   "file_extension": ".py",
   "mimetype": "text/x-python",
   "name": "python",
   "nbconvert_exporter": "python",
   "pygments_lexer": "ipython3",
   "version": "3.9.5"
  }
 },
 "nbformat": 4,
 "nbformat_minor": 4
}
