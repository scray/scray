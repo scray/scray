{
 "cells": [
  {
   "cell_type": "markdown",
   "id": "bc7d9ac3-b47c-4b13-b3ad-30892840ad6f",
   "metadata": {},
   "source": [
    "# QR Code"
   ]
  },
  {
   "cell_type": "code",
   "execution_count": null,
   "id": "9fec95d0-b8a5-4de4-a288-17792bc367c5",
   "metadata": {},
   "outputs": [],
   "source": [
    "#!pip install qrcode"
   ]
  },
  {
   "cell_type": "code",
   "execution_count": null,
   "id": "5603134b-ebaf-4a9e-ac70-2c5942bbf412",
   "metadata": {},
   "outputs": [],
   "source": [
    "#Import Library\n",
    "import qrcode#Generate QR Code\n",
    "img=qrcode.make('Hello World')\n",
    "img.save('hello.png')"
   ]
  },
  {
   "cell_type": "code",
   "execution_count": null,
   "id": "823da0d0-a5f3-41b5-9717-589020879588",
   "metadata": {},
   "outputs": [],
   "source": [
    "qr = qrcode.QRCode(\n",
    "    version=1,\n",
    "    error_correction=qrcode.constants.ERROR_CORRECT_L,\n",
    "    box_size=10,\n",
    "    border=4,\n",
    ")\n",
    "qr.add_data(\"https://scray.org\")\n",
    "qr.make(fit=True)\n",
    "img = qr.make_image(fill_color=\"red\", back_color=\"black\")\n",
    "img.save(\"medium.png\")"
   ]
  },
  {
   "cell_type": "code",
   "execution_count": null,
   "id": "60ef41ef-aede-46cf-a5fe-5213e95a1f24",
   "metadata": {},
   "outputs": [],
   "source": [
    "! pip install opencv-python"
   ]
  },
  {
   "cell_type": "code",
   "execution_count": null,
   "id": "e318e424-29f2-46e8-b1ba-e698ca555f45",
   "metadata": {},
   "outputs": [],
   "source": [
    "img=cv2.imread(\"medium.png\")\n",
    "det=cv2.QRCodeDetector()\n",
    "val, pts, st_code=det.detectAndDecode(img)\n",
    "print(val)"
   ]
  }
 ],
 "metadata": {
  "kernelspec": {
   "display_name": "Python 3 (ipykernel)",
   "language": "python",
   "name": "python3"
  },
  "language_info": {
   "codemirror_mode": {
    "name": "ipython",
    "version": 3
   },
   "file_extension": ".py",
   "mimetype": "text/x-python",
   "name": "python",
   "nbconvert_exporter": "python",
   "pygments_lexer": "ipython3",
   "version": "3.9.5"
  }
 },
 "nbformat": 4,
 "nbformat_minor": 5
}
