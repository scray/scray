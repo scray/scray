{
 "cells": [
  {
   "cell_type": "code",
   "execution_count": 117,
   "metadata": {},
   "outputs": [
    {
     "name": "stdout",
     "output_type": "stream",
     "text": [
      "NAME                                               READY   STATUS    RESTARTS   AGE\n",
      "hl-fabric-data-share-deployment-56d49c4d9b-d9trf   1/1     Running   0          56d\n",
      "invoice-chaincode-external-6566b486ff-zcl8c        1/1     Running   0          18h\n",
      "peer0-org1-scray-org-5c4d69f556-snz5c              2/2     Running   0          3h6m\n"
     ]
    }
   ],
   "source": [
    "!/home/jovyan/work/usr/bin/kubectl get pods\n",
    "#!POD_NAME=$(/home/jovyan/work/usr/bin/kubectl get pod -l app=peer0-org1-scray-org | tail -n 1 | cut -d' ' -f1)\n",
    "#!echo $POD_NAME"
   ]
  },
  {
   "cell_type": "markdown",
   "metadata": {},
   "source": [
    "# Delete old peer"
   ]
  },
  {
   "cell_type": "code",
   "execution_count": 109,
   "metadata": {},
   "outputs": [
    {
     "name": "stdout",
     "output_type": "stream",
     "text": [
      "configmap \"hl-fabric-peer\" deleted\n",
      "deployment.apps \"peer0-org1-scray-org\" deleted\n",
      "service \"peer0-org1-scray-org\" deleted\n"
     ]
    }
   ],
   "source": [
    "!/home/jovyan/work/usr/bin/kubectl delete configmap hl-fabric-peer \n",
    "!/home/jovyan/work/usr/bin/kubectl delete -f https://raw.githubusercontent.com/scray/scray/feature/k8s-peer/projects/invoice-hyperledger-fabric/containers/k8s-peer.yaml"
   ]
  },
  {
   "cell_type": "markdown",
   "metadata": {},
   "source": [
    "# Create new peer and 'apply'"
   ]
  },
  {
   "cell_type": "code",
   "execution_count": 112,
   "metadata": {},
   "outputs": [
    {
     "name": "stdout",
     "output_type": "stream",
     "text": [
      "configmap/hl-fabric-peer created\n",
      "deployment.apps/peer0-org1-scray-org created\n",
      "service/peer0-org1-scray-org created\n"
     ]
    }
   ],
   "source": [
    "!/home/jovyan/work/usr/bin/kubectl create configmap hl-fabric-peer \\\n",
    " --from-literal=hostname=kubernetes.research.dev.seeburger.de \\\n",
    " --from-literal=org_name=OrgSally \\ \n",
    " --from-literal=CORE_PEER_ADDRESS=kubernetes.research.dev.seeburger.de:30003 \\\n",
    " --from-literal=CORE_PEER_GOSSIP_EXTERNALENDPOINT=kubernetes.research.dev.seeburger.de:30001 \\\n",
    " --from-literal=CORE_PEER_LOCALMSPID=OrgSallyMSP\n",
    "\n",
    "!/home/jovyan/work/usr/bin/kubectl apply -f https://raw.githubusercontent.com/scray/scray/feature/k8s-peer/projects/invoice-hyperledger-fabric/containers/k8s-peer.yaml        "
   ]
  },
  {
   "cell_type": "markdown",
   "metadata": {},
   "source": [
    "1. Der neue Peer wurde erzeugt. All relevant infos and cryptos for the application is uploaded to external sharepoint\n",
    "2. Now the application needs to be signed by other peers"
   ]
  },
  {
   "cell_type": "markdown",
   "metadata": {},
   "source": [
    "# Now the peer can join the network"
   ]
  },
  {
   "cell_type": "code",
   "execution_count": 114,
   "metadata": {},
   "outputs": [
    {
     "name": "stdout",
     "output_type": "stream",
     "text": [
      "NAME                                               READY   STATUS    RESTARTS   AGE\n",
      "hl-fabric-data-share-deployment-56d49c4d9b-d9trf   1/1     Running   0          56d\n",
      "invoice-chaincode-external-6566b486ff-zcl8c        1/1     Running   0          14h\n",
      "peer0-org1-scray-org-5c4d69f556-snz5c              2/2     Running   0          2m24s\n"
     ]
    }
   ],
   "source": [
    "import os\n",
    "import json\n",
    "import subprocess\n",
    "import pandas as pd\n",
    "\n",
    "!/home/jovyan/work/usr/bin/kubectl get pods\n",
    "os.environ['POD_NAME'] = 'peer0-org1-scray-org-5c4d69f556-snz5c'"
   ]
  },
  {
   "cell_type": "code",
   "execution_count": 115,
   "metadata": {},
   "outputs": [
    {
     "name": "stdout",
     "output_type": "stream",
     "text": [
      "peer0-org1-scray-org-5c4d69f556-snz5c\n",
      "fetch http://dl-cdn.alpinelinux.org/alpine/v3.12/main/x86_64/APKINDEX.tar.gz\n",
      "fetch http://dl-cdn.alpinelinux.org/alpine/v3.12/community/x86_64/APKINDEX.tar.gz\n",
      "(1/1) Installing curl (7.69.1-r1)\n",
      "\u001b7  0%                                                                           \u001b8\u001b[0K\u001b7100% ##########################################################################\u001b8\u001b[0KExecuting busybox-1.31.1-r16.trigger\n",
      "OK: 29 MiB in 28 packages\n",
      "(1/17) Installing fstrm (0.6.0-r1)\n",
      "\u001b7  0%                                                                           \u001b8\u001b[0K(2/17) Installing libgcc (9.3.0-r2)\n",
      "\u001b7  0%                                                                           \u001b8\u001b[0K(3/17) Installing krb5-conf (1.0-r2)\n",
      "\u001b7  1%                                                                           \u001b8\u001b[0K(4/17) Installing libcom_err (1.45.6-r0)\n",
      "\u001b7  1%                                                                           \u001b8\u001b[0K(5/17) Installing keyutils-libs (1.6.1-r1)\n",
      "\u001b7  1% #                                                                         \u001b8\u001b[0K(6/17) Installing libverto (0.3.1-r1)\n",
      "\u001b7  1% #                                                                         \u001b8\u001b[0K(7/17) Installing krb5-libs (1.18.3-r0)\n",
      "\u001b7  1% #                                                                         \u001b8\u001b[0K\u001b7  2% #                                                                         \u001b8\u001b[0K\u001b7  2% ##                                                                        \u001b8\u001b[0K\u001b7  3% ##                                                                        \u001b8\u001b[0K\u001b7  5% ####                                                                      \u001b8\u001b[0K\u001b7  6% ####                                                                      \u001b8\u001b[0K\u001b7  7% #####                                                                     \u001b8\u001b[0K\u001b7  8% ######                                                                    \u001b8\u001b[0K\u001b7  9% ######                                                                    \u001b8\u001b[0K\u001b7  9% #######                                                                   \u001b8\u001b[0K\u001b7 10% #######                                                                   \u001b8\u001b[0K\u001b7 16% ###########                                                               \u001b8\u001b[0K(8/17) Installing json-c (0.14-r1)\n",
      "\u001b7 16% ############                                                              \u001b8\u001b[0K(9/17) Installing libstdc++ (9.3.0-r2)\n",
      "\u001b7 17% ############                                                              \u001b8\u001b[0K(10/17) Installing libprotobuf (3.12.2-r0)\n",
      "\u001b7 29% #####################                                                     \u001b8\u001b[0K\u001b7 44% #################################                                         \u001b8\u001b[0K(11/17) Installing libprotoc (3.12.2-r0)\n",
      "\u001b7 47% ###################################                                       \u001b8\u001b[0K(12/17) Installing protobuf-c (1.3.3-r1)\n",
      "\u001b7 61% #############################################                             \u001b8\u001b[0K\u001b7 62% ##############################################                            \u001b8\u001b[0K(13/17) Installing libuv (1.38.1-r0)\n",
      "\u001b7 62% ##############################################                            \u001b8\u001b[0K\u001b7 63% ###############################################                           \u001b8\u001b[0K(14/17) Installing xz-libs (5.2.5-r0)\n",
      "\u001b7 64% ###############################################                           \u001b8\u001b[0K(15/17) Installing libxml2 (2.9.10-r5)\n",
      "\u001b7 65% ################################################                          \u001b8\u001b[0K(16/17) Installing bind-libs (9.16.6-r0)\n",
      "\u001b7 74% ######################################################                    \u001b8\u001b[0K\u001b7 74% #######################################################                   \u001b8\u001b[0K\u001b7 88% #################################################################         \u001b8\u001b[0K\u001b7 91% ###################################################################       \u001b8\u001b[0K\u001b7 91% ####################################################################      \u001b8\u001b[0K\u001b7 93% #####################################################################     \u001b8\u001b[0K(17/17) Installing bind-tools (9.16.6-r0)\n",
      "\u001b7 95% ######################################################################    \u001b8\u001b[0K\u001b7 96% #######################################################################   \u001b8\u001b[0K\u001b7 97% ########################################################################  \u001b8\u001b[0K\u001b7 98% ######################################################################### \u001b8\u001b[0K\u001b7 99% ######################################################################### \u001b8\u001b[0K\u001b7100% ##########################################################################\u001b8\u001b[0KExecuting busybox-1.31.1-r16.trigger\n",
      "OK: 42 MiB in 45 packages\n",
      "  % Total    % Received % Xferd  Average Speed   Time    Time     Time  Current\n",
      "                                 Dload  Upload   Total   Spent    Left  Speed\n",
      "100   847  100   847    0     0  42350      0 --:--:-- --:--:-- --:--:-- 42350\n",
      "\u001b[34m2020-12-08 09:58:37.877 UTC [channelCmd] InitCmdFactory -> INFO 001\u001b[0m Endorser and orderer connections initialized\n",
      "\u001b[34m2020-12-08 09:58:37.886 UTC [cli.common] readBlock -> INFO 002\u001b[0m Received block: 0\n",
      "\u001b[34m2020-12-08 09:58:37.950 UTC [channelCmd] InitCmdFactory -> INFO 001\u001b[0m Endorser and orderer connections initialized\n",
      "\u001b[34m2020-12-08 09:58:38.082 UTC [channelCmd] executeJoin -> INFO 002\u001b[0m Successfully submitted proposal to join channel\n"
     ]
    }
   ],
   "source": [
    "#!/home/jovyan/work/usr/bin/kubectl get pods | fgrep peer0\n",
    "#!POD_NAME=$(/home/jovyan/work/usr/bin/kubectl get pod -l app=peer0-org1-scray-org | tail -n 1 | cut -d' ' -f1)\n",
    "os.environ['ORDERER_IP'] = '10.15.128.97'\n",
    "os.environ['ORDERER_HOSTNAME'] = 'orderer.example.com'\n",
    "os.environ['CHANNEL_NAME'] = 'mychannel'\n",
    "\n",
    "!echo $POD_NAME\n",
    "!/home/jovyan/work/usr/bin/kubectl exec --stdin --tty $POD_NAME -c scray-peer-cli -- /bin/sh /mnt/conf/peer_join.sh $ORDERER_IP $ORDERER_HOSTNAME $CHANNEL_NAME"
   ]
  },
  {
   "cell_type": "code",
   "execution_count": 68,
   "metadata": {},
   "outputs": [],
   "source": [
    "#!/home/jovyan/work/usr/bin/kubectl exec --stdin --tty peer0-org1-scray-org-84ddc5757f-glbgn -c scray-peer-cli -- /bin/sh /mnt/conf/install_and_approve_cc.sh $IP_CC_SERVICE $IP_OF_EXAMPLE_NETWORK"
   ]
  },
  {
   "cell_type": "markdown",
   "metadata": {},
   "source": [
    "# Install and aprove chaincode"
   ]
  },
  {
   "cell_type": "code",
   "execution_count": 116,
   "metadata": {},
   "outputs": [
    {
     "name": "stdout",
     "output_type": "stream",
     "text": [
      "  % Total    % Received % Xferd  Average Speed   Time    Time     Time  Current\n",
      "                                 Dload  Upload   Total   Spent    Left  Speed\n",
      "100   450  100   450    0     0   1250      0 --:--:-- --:--:-- --:--:--  1246\n",
      "\u001b[34m2020-12-08 09:59:13.197 UTC [cli.lifecycle.chaincode] submitInstallProposal -> INFO 001\u001b[0m Installed remotely: response:<status:200 payload:\"\\nJbasic_1.0:5a294a12a1a89cd4eed3d4234fbc79f42eab2ac20cd176bc8ebbc07c597cd0ee\\022\\tbasic_1.0\" > \n",
      "\u001b[34m2020-12-08 09:59:13.198 UTC [cli.lifecycle.chaincode] submitInstallProposal -> INFO 002\u001b[0m Chaincode code package identifier: basic_1.0:5a294a12a1a89cd4eed3d4234fbc79f42eab2ac20cd176bc8ebbc07c597cd0ee\n",
      "\u001b[34m2020-12-08 09:59:15.388 UTC [chaincodeCmd] ClientWait -> INFO 001\u001b[0m txid [a084f06991b010f25c19cf88afdabc36811439958675b0fafb824216c9648114] committed with status (VALID) at peer0.kubernetes.research.dev.seeburger.de:30003\n"
     ]
    }
   ],
   "source": [
    "# Host where the chaincode is running\n",
    "os.environ['IP_CC_SERVICE']='10.14.128.38'\n",
    "#Host where the example network is running\n",
    "os.environ['IP_OF_EXAMPLE_NETWORK']='10.15.128.97'\n",
    "!/home/jovyan/work/usr/bin/kubectl exec --stdin --tty $POD_NAME -c scray-peer-cli -- /bin/sh /mnt/conf/install_and_approve_cc.sh $IP_CC_SERVICE $IP_OF_EXAMPLE_NETWORK"
   ]
  }
 ],
 "metadata": {
  "kernelspec": {
   "display_name": "Python 3",
   "language": "python",
   "name": "python3"
  },
  "language_info": {
   "codemirror_mode": {
    "name": "ipython",
    "version": 3
   },
   "file_extension": ".py",
   "mimetype": "text/x-python",
   "name": "python",
   "nbconvert_exporter": "python",
   "pygments_lexer": "ipython3",
   "version": "3.8.6"
  }
 },
 "nbformat": 4,
 "nbformat_minor": 4
}
