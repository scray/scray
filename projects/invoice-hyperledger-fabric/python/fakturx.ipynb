{
 "cells": [
  {
   "cell_type": "code",
   "execution_count": null,
   "metadata": {},
   "outputs": [],
   "source": [
    "import pandas as pd\n",
    "pd.set_option('display.max_rows', 500)\n",
    "invoices = pd.read_parquet('/home/jovyan/work/invoices_facturx.parquet')"
   ]
  },
  {
   "cell_type": "code",
   "execution_count": null,
   "metadata": {},
   "outputs": [],
   "source": [
    "import pandas as pd\n",
    "pd.set_option('display.max_rows', 500)\n",
    "#seexml = pd.read_parquet('/home/jovyan/work/data/seexml/parquet/20129c47-d70a-4e9b-b7f3-b541f03e1922_SEEINVOIC_I-335311388_O1835403871.parquet')\n",
    "seexml = pd.read_parquet('/home/jovyan/work/data/seexml/poc2/parquet/79cc713b-f3c2-4200-91f0-599e9f8c1ef5_SEEDELFOR_I-1049843335_O1835403871.parquet')"
   ]
  },
  {
   "cell_type": "code",
   "execution_count": null,
   "metadata": {},
   "outputs": [],
   "source": [
    "seexml.head()['cnt']"
   ]
  },
  {
   "cell_type": "code",
   "execution_count": null,
   "metadata": {},
   "outputs": [],
   "source": []
  },
  {
   "cell_type": "code",
   "execution_count": null,
   "metadata": {},
   "outputs": [],
   "source": [
    "import facturxWidget\n",
    "import ipywidgets as widgets\n",
    "from IPython.display import clear_output\n",
    "outs = widgets.Output()\n",
    "style = {'description_width': '250px'}\n",
    "layout = {'width': '500px'}\n",
    "\n",
    "def printPath(m,path,hideUnused=False):\n",
    "    __name__='printPath'\n",
    "    #print(__name__,hideUnused)\n",
    "    r = facturxWidget.getPathValue(m, path)\n",
    "    print(r)\n",
    "        \n",
    "def mytest(x):\n",
    "    with outs:\n",
    "        clear_output()\n",
    "        lookhere = mytestfilter.value\n",
    "        path = pathtext.value\n",
    "        #print(pathtext)\n",
    "        if lookhere==1:\n",
    "            facturxWidget.doit(m,path,hideUnused=False)\n",
    "        if lookhere==0:\n",
    "            #doit(m,path,hideUnused=True)\n",
    "            facturxWidget.printPath(m,path,hideUnused=False)  \n",
    "        if lookhere==2:\n",
    "            facturxWidget.addChilds(m,path,hideUnused=False)    \n",
    "        if lookhere==3:\n",
    "            #print(m['includedSupplyChainTradeLineItem'])\n",
    "            facturxWidget.addChilds(m,path,hideUnused=True)  \n",
    "             \n",
    "def handle_submit(text):\n",
    "    #print('ok')\n",
    "    #print(text.value)\n",
    "    global m\n",
    "    m=invoices.iloc[int(text.value)]\n",
    "    #print(m.get('includedSupplyChainTradeLineItem'))\n",
    "    #print(len(str(m)))\n",
    "    mytest(1)\n",
    "    return text.value\n",
    "    \n",
    "mytestfilter = widgets.Dropdown(options={ 'other (False)': 2, 'other (True)': 3 , 'print': 0}, description=\"FILTER\", style=style, layout=layout)\n",
    "#pathtext = widgets.Text(description = 'path',value = '/applicableHeaderTradeAgreement', style=style, layout={'width': '800px'})\n",
    "invoice = widgets.Text(description = 'invoice',value = '4', style=style, layout=layout)\n",
    "\n",
    "pathtext = widgets.Dropdown(options={'/includedSupplyChainTradeLineItem', '/applicableHeaderTradeAgreement', '/applicableHeaderTradeDelivery', '/applicableHeaderTradeSettlement'}, description=\"FILTER\", style=style, layout=layout)\n",
    "pathtext.observe(mytest, names='value')\n",
    "display(invoice,mytestfilter,pathtext)\n",
    "display(outs)\n",
    "mytestfilter.observe(mytest, names='value')\n",
    "invoice.on_submit(handle_submit)"
   ]
  },
  {
   "cell_type": "code",
   "execution_count": null,
   "metadata": {},
   "outputs": [],
   "source": [
    "widget = facturxWidget.facturx_widgets(invoices.iloc[0], '/supplyChainTradeTransaction',hideUnused=True) "
   ]
  },
  {
   "cell_type": "code",
   "execution_count": null,
   "metadata": {},
   "outputs": [],
   "source": [
    "invoices.iloc[0].keys()"
   ]
  }
 ],
 "metadata": {
  "kernelspec": {
   "display_name": "Python 3 (ipykernel)",
   "language": "python",
   "name": "python3"
  },
  "language_info": {
   "codemirror_mode": {
    "name": "ipython",
    "version": 3
   },
   "file_extension": ".py",
   "mimetype": "text/x-python",
   "name": "python",
   "nbconvert_exporter": "python",
   "pygments_lexer": "ipython3",
   "version": "3.9.5"
  }
 },
 "nbformat": 4,
 "nbformat_minor": 4
}
