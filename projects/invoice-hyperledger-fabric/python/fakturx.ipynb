{
 "cells": [
  {
   "cell_type": "code",
   "execution_count": 9,
   "metadata": {},
   "outputs": [],
   "source": [
    "import pandas as pd\n",
    "pd.set_option('display.max_rows', 500)\n",
    "invoices = pd.read_parquet('/home/jovyan/work/invoices_facturx.parquet')"
   ]
  },
  {
   "cell_type": "code",
   "execution_count": 19,
   "metadata": {},
   "outputs": [],
   "source": [
    "import pandas as pd\n",
    "pd.set_option('display.max_rows', 500)\n",
    "#seexml = pd.read_parquet('/home/jovyan/work/data/seexml/parquet/20129c47-d70a-4e9b-b7f3-b541f03e1922_SEEINVOIC_I-335311388_O1835403871.parquet')\n",
    "seexml = pd.read_parquet('/home/jovyan/work/data/seexml/poc2/parquet/79cc713b-f3c2-4200-91f0-599e9f8c1ef5_SEEDELFOR_I-1049843335_O1835403871.parquet')"
   ]
  },
  {
   "cell_type": "code",
   "execution_count": 21,
   "metadata": {},
   "outputs": [
    {
     "data": {
      "text/plain": [
       "0    [{'ic': {'td': '20180712', 'tti': '173200', 's...\n",
       "1    [{'ic': {'td': '20180711', 'tti': '213100', 's...\n",
       "2    [{'ic': {'td': '20180712', 'tti': '013100', 's...\n",
       "3    [{'ic': {'td': '20180712', 'tti': '013100', 's...\n",
       "4    [{'ic': {'td': '20180713', 'tti': '153200', 's...\n",
       "Name: cnt, dtype: object"
      ]
     },
     "execution_count": 21,
     "metadata": {},
     "output_type": "execute_result"
    }
   ],
   "source": [
    "seexml.head()['cnt']"
   ]
  },
  {
   "cell_type": "code",
   "execution_count": 2,
   "metadata": {},
   "outputs": [
    {
     "data": {
      "application/vnd.jupyter.widget-view+json": {
       "model_id": "1dd8dd1a56cc43a998c1acf4a59c1da5",
       "version_major": 2,
       "version_minor": 0
      },
      "text/plain": [
       "Text(value='4', description='invoice', layout=Layout(width='500px'), style=DescriptionStyle(description_width=…"
      ]
     },
     "metadata": {},
     "output_type": "display_data"
    },
    {
     "data": {
      "application/vnd.jupyter.widget-view+json": {
       "model_id": "cd3dfc5d943f418f8d0b3e4d9a423cbb",
       "version_major": 2,
       "version_minor": 0
      },
      "text/plain": [
       "Dropdown(description='FILTER', layout=Layout(width='500px'), options={'other (False)': 2, 'other (True)': 3, '…"
      ]
     },
     "metadata": {},
     "output_type": "display_data"
    },
    {
     "data": {
      "application/vnd.jupyter.widget-view+json": {
       "model_id": "dc1a04876a984b66affed74689d2534c",
       "version_major": 2,
       "version_minor": 0
      },
      "text/plain": [
       "Dropdown(description='FILTER', layout=Layout(width='500px'), options=('/applicableHeaderTradeSettlement', '/ap…"
      ]
     },
     "metadata": {},
     "output_type": "display_data"
    },
    {
     "data": {
      "application/vnd.jupyter.widget-view+json": {
       "model_id": "0dc846818b5f4b27ae300442c4ba4833",
       "version_major": 2,
       "version_minor": 0
      },
      "text/plain": [
       "Output()"
      ]
     },
     "metadata": {},
     "output_type": "display_data"
    }
   ],
   "source": [
    "import fakturxWidget\n",
    "import ipywidgets as widgets\n",
    "from IPython.display import clear_output\n",
    "outs = widgets.Output()\n",
    "style = {'description_width': '250px'}\n",
    "layout = {'width': '500px'}\n",
    "\n",
    "def printPath(m,path,hideUnused=False):\n",
    "    __name__='printPath'\n",
    "    #print(__name__,hideUnused)\n",
    "    r = fakturxWidget.getPathValue(m, path)\n",
    "    print(r)\n",
    "        \n",
    "def mytest(x):\n",
    "    with outs:\n",
    "        clear_output()\n",
    "        lookhere = mytestfilter.value\n",
    "        path = pathtext.value\n",
    "        #print(pathtext)\n",
    "        if lookhere==1:\n",
    "            fakturxWidget.doit(m,path,hideUnused=False)\n",
    "        if lookhere==0:\n",
    "            #doit(m,path,hideUnused=True)\n",
    "            fakturxWidget.printPath(m,path,hideUnused=False)  \n",
    "        if lookhere==2:\n",
    "            fakturxWidget.addChilds(m,path,hideUnused=False)    \n",
    "        if lookhere==3:\n",
    "            #print(m['includedSupplyChainTradeLineItem'])\n",
    "            fakturxWidget.addChilds(m,path,hideUnused=True)  \n",
    "             \n",
    "def handle_submit(text):\n",
    "    #print('ok')\n",
    "    #print(text.value)\n",
    "    global m\n",
    "    m=invoices.iloc[int(text.value)]\n",
    "    #print(m.get('includedSupplyChainTradeLineItem'))\n",
    "    #print(len(str(m)))\n",
    "    mytest(1)\n",
    "    return text.value\n",
    "    \n",
    "mytestfilter = widgets.Dropdown(options={ 'other (False)': 2, 'other (True)': 3 , 'print': 0}, description=\"FILTER\", style=style, layout=layout)\n",
    "#pathtext = widgets.Text(description = 'path',value = '/applicableHeaderTradeAgreement', style=style, layout={'width': '800px'})\n",
    "invoice = widgets.Text(description = 'invoice',value = '4', style=style, layout=layout)\n",
    "\n",
    "pathtext = widgets.Dropdown(options={'/includedSupplyChainTradeLineItem', '/applicableHeaderTradeAgreement', '/applicableHeaderTradeDelivery', '/applicableHeaderTradeSettlement'}, description=\"FILTER\", style=style, layout=layout)\n",
    "pathtext.observe(mytest, names='value')\n",
    "display(invoice,mytestfilter,pathtext)\n",
    "display(outs)\n",
    "mytestfilter.observe(mytest, names='value')\n",
    "invoice.on_submit(handle_submit)"
   ]
  }
 ],
 "metadata": {
  "kernelspec": {
   "display_name": "Python 3",
   "language": "python",
   "name": "python3"
  },
  "language_info": {
   "codemirror_mode": {
    "name": "ipython",
    "version": 3
   },
   "file_extension": ".py",
   "mimetype": "text/x-python",
   "name": "python",
   "nbconvert_exporter": "python",
   "pygments_lexer": "ipython3",
   "version": "3.8.6"
  }
 },
 "nbformat": 4,
 "nbformat_minor": 4
}
