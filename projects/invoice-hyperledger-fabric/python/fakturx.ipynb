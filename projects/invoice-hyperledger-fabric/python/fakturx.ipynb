{
 "cells": [
  {
   "cell_type": "code",
   "execution_count": 1,
   "metadata": {},
   "outputs": [],
   "source": [
    "import pandas as pd\n",
    "pd.set_option('display.max_rows', 500)\n",
    "invoices = pd.read_parquet('./invoices_facturx.parquet')"
   ]
  },
  {
   "cell_type": "code",
   "execution_count": null,
   "metadata": {},
   "outputs": [],
   "source": [
    "import pandas as pd\n",
    "pd.set_option('display.max_rows', 500)\n",
    "#seexml = pd.read_parquet('/home/jovyan/work/data/seexml/parquet/20129c47-d70a-4e9b-b7f3-b541f03e1922_SEEINVOIC_I-335311388_O1835403871.parquet')\n",
    "seexml = pd.read_parquet('/home/jovyan/work/data/seexml/poc2/parquet/79cc713b-f3c2-4200-91f0-599e9f8c1ef5_SEEDELFOR_I-1049843335_O1835403871.parquet')"
   ]
  },
  {
   "cell_type": "code",
   "execution_count": null,
   "metadata": {},
   "outputs": [],
   "source": [
    "seexml.head()['cnt']"
   ]
  },
  {
   "cell_type": "code",
   "execution_count": null,
   "metadata": {},
   "outputs": [],
   "source": []
  },
  {
   "cell_type": "code",
   "execution_count": 2,
   "metadata": {},
   "outputs": [
    {
     "data": {
      "application/vnd.jupyter.widget-view+json": {
       "model_id": "ce099c99e3b04d5592eee1170920f2a8",
       "version_major": 2,
       "version_minor": 0
      },
      "text/plain": [
       "Text(value='4', description='invoice', layout=Layout(width='500px'), style=DescriptionStyle(description_width=…"
      ]
     },
     "metadata": {},
     "output_type": "display_data"
    },
    {
     "data": {
      "application/vnd.jupyter.widget-view+json": {
       "model_id": "c55faecc46ae49ab83ff1ab1ce6bad41",
       "version_major": 2,
       "version_minor": 0
      },
      "text/plain": [
       "Dropdown(description='FILTER', layout=Layout(width='500px'), options={'other (False)': 2, 'other (True)': 3, '…"
      ]
     },
     "metadata": {},
     "output_type": "display_data"
    },
    {
     "data": {
      "application/vnd.jupyter.widget-view+json": {
       "model_id": "072c602b64e24be0bc70df3c4ec087b5",
       "version_major": 2,
       "version_minor": 0
      },
      "text/plain": [
       "Dropdown(description='FILTER', layout=Layout(width='500px'), options=('/applicableHeaderTradeAgreement', '/app…"
      ]
     },
     "metadata": {},
     "output_type": "display_data"
    },
    {
     "data": {
      "application/vnd.jupyter.widget-view+json": {
       "model_id": "1d25014f1c0d4050b5b0f7b170b60ddb",
       "version_major": 2,
       "version_minor": 0
      },
      "text/plain": [
       "Output()"
      ]
     },
     "metadata": {},
     "output_type": "display_data"
    }
   ],
   "source": [
    "import facturxWidget\n",
    "import ipywidgets as widgets\n",
    "from IPython.display import clear_output\n",
    "outs = widgets.Output()\n",
    "style = {'description_width': '250px'}\n",
    "layout = {'width': '500px'}\n",
    "\n",
    "def printPath(m,path,hideUnused=False):\n",
    "    __name__='printPath'\n",
    "    #print(__name__,hideUnused)\n",
    "    r = facturxWidget.getPathValue(m, path)\n",
    "    print(r)\n",
    "        \n",
    "def mytest(x):\n",
    "    with outs:\n",
    "        clear_output()\n",
    "        lookhere = mytestfilter.value\n",
    "        path = pathtext.value\n",
    "        #print(pathtext)\n",
    "        if lookhere==1:\n",
    "            facturxWidget.doit(m,path,hideUnused=False)\n",
    "        if lookhere==0:\n",
    "            #doit(m,path,hideUnused=True)\n",
    "            facturxWidget.printPath(m,path,hideUnused=False)  \n",
    "        if lookhere==2:\n",
    "            facturxWidget.addChilds(m,path,hideUnused=False)    \n",
    "        if lookhere==3:\n",
    "            #print(m['includedSupplyChainTradeLineItem'])\n",
    "            facturxWidget.addChilds(m,path,hideUnused=True)  \n",
    "             \n",
    "def handle_submit(text):\n",
    "    #print('ok')\n",
    "    #print(text.value)\n",
    "    global m\n",
    "    m=invoices.iloc[int(text.value)]\n",
    "    #print(m.get('includedSupplyChainTradeLineItem'))\n",
    "    #print(len(str(m)))\n",
    "    mytest(1)\n",
    "    return text.value\n",
    "    \n",
    "mytestfilter = widgets.Dropdown(options={ 'other (False)': 2, 'other (True)': 3 , 'print': 0}, description=\"FILTER\", style=style, layout=layout)\n",
    "#pathtext = widgets.Text(description = 'path',value = '/applicableHeaderTradeAgreement', style=style, layout={'width': '800px'})\n",
    "invoice = widgets.Text(description = 'invoice',value = '4', style=style, layout=layout)\n",
    "\n",
    "pathtext = widgets.Dropdown(options={'/includedSupplyChainTradeLineItem', '/applicableHeaderTradeAgreement', '/applicableHeaderTradeDelivery', '/applicableHeaderTradeSettlement'}, description=\"FILTER\", style=style, layout=layout)\n",
    "pathtext.observe(mytest, names='value')\n",
    "display(invoice,mytestfilter,pathtext)\n",
    "display(outs)\n",
    "mytestfilter.observe(mytest, names='value')\n",
    "invoice.on_submit(handle_submit)"
   ]
  },
  {
   "cell_type": "code",
   "execution_count": 24,
   "metadata": {},
   "outputs": [
    {
     "data": {
      "text/plain": [
       "{'businessProcessSpecifiedDocumentContextParameter': None,\n",
       " 'guidelineSpecifiedDocumentContextParameter': array([{'id': {'value': 'urn:factur-x.eu:1p0:basicwl', 'schemeID': None}}],\n",
       "       dtype=object)}"
      ]
     },
     "execution_count": 24,
     "metadata": {},
     "output_type": "execute_result"
    }
   ],
   "source": [
    "invoices.iloc[2]['exchangedDocumentContext']\n",
    "#https://github.com/invoice-x/factur-x-ng/blob/master/facturx/tests/sample_invoices/Avoir_FR_type380_BASIC.pdf"
   ]
  },
  {
   "cell_type": "code",
   "execution_count": 27,
   "metadata": {},
   "outputs": [
    {
     "data": {
      "text/plain": [
       "pandas.core.frame.DataFrame"
      ]
     },
     "execution_count": 27,
     "metadata": {},
     "output_type": "execute_result"
    }
   ],
   "source": [
    "type(invoices)"
   ]
  },
  {
   "cell_type": "code",
   "execution_count": null,
   "metadata": {},
   "outputs": [],
   "source": [
    "for index, invoice in invoices.iterrows():\n",
    "    print(invoice.keys())"
   ]
  },
  {
   "cell_type": "code",
   "execution_count": 36,
   "metadata": {},
   "outputs": [
    {
     "name": "stdout",
     "output_type": "stream",
     "text": [
      "0 urn:factur-x.eu:1p0:minimum\n",
      "1 urn:factur-x.eu:1p0:minimum\n",
      "2 urn:factur-x.eu:1p0:basicwl\n",
      "3 urn:cen.eu:en16931:2017\n",
      "4 urn:cen.eu:en16931:2017:compliant:factur-x.eu:1p0:basic\n",
      "5 urn:cen.eu:en16931:2017:compliant:factur-x.eu:1p0:basic\n",
      "6 urn:cen.eu:en16931:2017\n",
      "7 urn:factur-x.eu:1p0:minimum\n",
      "8 urn:factur-x.eu:1p0:minimum\n",
      "9 urn:factur-x.eu:1p0:basicwl\n",
      "10 urn:cen.eu:en16931:2017:compliant:factur-x.eu:1p0:basic\n",
      "11 urn:factur-x.eu:1p0:basicwl\n",
      "12 urn:factur-x.eu:1p0:minimum\n",
      "13 urn:cen.eu:en16931:2017:compliant:factur-x.eu:1p0:basic\n",
      "14 urn:cen.eu:en16931:2017\n",
      "15 urn:cen.eu:en16931:2017:compliant:factur-x.eu:1p0:basic\n",
      "16 urn:cen.eu:en16931:2017\n",
      "17 urn:cen.eu:en16931:2017\n",
      "18 urn:factur-x.eu:1p0:basicwl\n",
      "19 urn:factur-x.eu:1p0:basicwl\n"
     ]
    }
   ],
   "source": [
    "for index, invoice in invoices.iterrows():\n",
    "    print(index,invoice['exchangedDocumentContext']['guidelineSpecifiedDocumentContextParameter'][0]['id']['value'])"
   ]
  },
  {
   "cell_type": "code",
   "execution_count": 37,
   "metadata": {},
   "outputs": [
    {
     "data": {
      "application/vnd.jupyter.widget-view+json": {
       "model_id": "a81f1e614c754b4a922f562f250a7c87",
       "version_major": 2,
       "version_minor": 0
      },
      "text/plain": [
       "HTML(value='', description=' ', layout=Layout(width='500px'), style=DescriptionStyle(description_width='250px'…"
      ]
     },
     "metadata": {},
     "output_type": "display_data"
    },
    {
     "data": {
      "application/vnd.jupyter.widget-view+json": {
       "model_id": "d165bb045281455bbe125cf341f62470",
       "version_major": 2,
       "version_minor": 0
      },
      "text/plain": [
       "Text(value='FA-2017-0008', description='id', layout=Layout(width='500px'), style=DescriptionStyle(description_…"
      ]
     },
     "metadata": {},
     "output_type": "display_data"
    },
    {
     "data": {
      "application/vnd.jupyter.widget-view+json": {
       "model_id": "b5fed757d7aa4b5b958e6280c9364bd2",
       "version_major": 2,
       "version_minor": 0
      },
      "text/plain": [
       "Text(value='380', description='typeCode', layout=Layout(width='500px'), style=DescriptionStyle(description_wid…"
      ]
     },
     "metadata": {},
     "output_type": "display_data"
    },
    {
     "data": {
      "application/vnd.jupyter.widget-view+json": {
       "model_id": "35666dfe914f45ca8a3f0909d537d588",
       "version_major": 2,
       "version_minor": 0
      },
      "text/plain": [
       "HTML(value='<b>issueDateTime</b>', description=' ', layout=Layout(width='500px'), style=DescriptionStyle(descr…"
      ]
     },
     "metadata": {},
     "output_type": "display_data"
    },
    {
     "data": {
      "application/vnd.jupyter.widget-view+json": {
       "model_id": "3fc1c3a3c57f44a981d7ae15c59448e3",
       "version_major": 2,
       "version_minor": 0
      },
      "text/plain": [
       "Text(value='20171103', description='dateTimeString', layout=Layout(width='500px'), style=DescriptionStyle(desc…"
      ]
     },
     "metadata": {},
     "output_type": "display_data"
    },
    {
     "data": {
      "application/vnd.jupyter.widget-view+json": {
       "model_id": "faa5e4ca619749f783c5315bfbe3306a",
       "version_major": 2,
       "version_minor": 0
      },
      "text/plain": [
       "Text(value='102', description='format', layout=Layout(width='500px'), style=DescriptionStyle(description_width…"
      ]
     },
     "metadata": {},
     "output_type": "display_data"
    },
    {
     "data": {
      "application/vnd.jupyter.widget-view+json": {
       "model_id": "86043f5026c441ce88262c6843325d43",
       "version_major": 2,
       "version_minor": 0
      },
      "text/plain": [
       "HTML(value='includedNote', description=' ', layout=Layout(width='500px'), style=DescriptionStyle(description_w…"
      ]
     },
     "metadata": {},
     "output_type": "display_data"
    },
    {
     "data": {
      "application/vnd.jupyter.widget-view+json": {
       "model_id": "2691ac60d92443ecb6b7118cfc40939d",
       "version_major": 2,
       "version_minor": 0
      },
      "text/plain": [
       "Text(value='Free shipping (amount > 300 €)', description='content', layout=Layout(width='500px'), style=Descri…"
      ]
     },
     "metadata": {},
     "output_type": "display_data"
    }
   ],
   "source": [
    "#widget = facturxWidget.facturx_widgets(invoices.iloc[14], '/supplyChainTradeTransaction',hideUnused=True) \n",
    "widget = facturxWidget.facturx_widgets(invoices.iloc[15], '/exchangedDocument',hideUnused=True) \n",
    "#widget = facturxWidget.facturx_widgets(invoices.iloc[14], '/exchangedDocumentContext',hideUnused=True) "
   ]
  },
  {
   "cell_type": "code",
   "execution_count": null,
   "metadata": {},
   "outputs": [],
   "source": [
    "invoices.iloc[0].keys()"
   ]
  },
  {
   "cell_type": "code",
   "execution_count": 39,
   "metadata": {},
   "outputs": [
    {
     "data": {
      "text/plain": [
       "{}"
      ]
     },
     "execution_count": 39,
     "metadata": {},
     "output_type": "execute_result"
    }
   ],
   "source": [
    "widget.__dict__"
   ]
  }
 ],
 "metadata": {
  "kernelspec": {
   "display_name": "Python 3 (ipykernel)",
   "language": "python",
   "name": "python3"
  },
  "language_info": {
   "codemirror_mode": {
    "name": "ipython",
    "version": 3
   },
   "file_extension": ".py",
   "mimetype": "text/x-python",
   "name": "python",
   "nbconvert_exporter": "python",
   "pygments_lexer": "ipython3",
   "version": "3.9.5"
  }
 },
 "nbformat": 4,
 "nbformat_minor": 4
}
