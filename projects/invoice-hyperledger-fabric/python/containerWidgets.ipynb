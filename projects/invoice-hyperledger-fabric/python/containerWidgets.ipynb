{
 "cells": [
  {
   "cell_type": "code",
   "execution_count": null,
   "metadata": {},
   "outputs": [],
   "source": [
    "# widgets Tool\n",
    "\n",
    "import ipywidgets as widgets\n",
    "from IPython.display import clear_output\n",
    "from IPython.display import Javascript, display\n",
    "import uuid\n",
    "\n",
    "style = {'description_width': '250px'}\n",
    "layout = {'width': '500px'}\n",
    " \n",
    "def addVisText(key='',value='',disabled=False, layout=layout):\n",
    "    text = widgets.Text(description = key,value = value, style=style, layout=layout,disabled=disabled)\n",
    "    display(text)  \n",
    "    return text\n",
    "    \n",
    "def addVisCheckbox(key='',value=False):\n",
    "    text = widgets.Checkbox(description = key,value = value, style=style, layout=layout)\n",
    "    display(text)   \n",
    "    return text\n",
    "\n",
    "def addHeader(text='',bold=True):\n",
    "    if bold == True:\n",
    "        html = widgets.HTML(\n",
    "        value=\"<b>\" + text + \"</b>\",\n",
    "        description=' ',\n",
    "        style=style, layout=layout\n",
    "        )\n",
    "    else:\n",
    "        html = widgets.HTML(\n",
    "        value=text,\n",
    "        description=' ',\n",
    "        style=style, layout=layout\n",
    "        )\n",
    "    display(html)    "
   ]
  }
 ],
 "metadata": {
  "kernelspec": {
   "display_name": "Python 3",
   "language": "python",
   "name": "python3"
  },
  "language_info": {
   "codemirror_mode": {
    "name": "ipython",
    "version": 3
   },
   "file_extension": ".py",
   "mimetype": "text/x-python",
   "name": "python",
   "nbconvert_exporter": "python",
   "pygments_lexer": "ipython3",
   "version": "3.8.6"
  }
 },
 "nbformat": 4,
 "nbformat_minor": 4
}
