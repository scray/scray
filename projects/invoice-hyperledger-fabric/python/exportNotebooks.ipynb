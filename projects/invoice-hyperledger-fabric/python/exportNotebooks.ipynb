{
 "cells": [
  {
   "cell_type": "code",
   "execution_count": 2,
   "metadata": {},
   "outputs": [
    {
     "name": "stdout",
     "output_type": "stream",
     "text": [
      "[NbConvertApp] Converting notebook facturxWidget.ipynb to script\n",
      "[NbConvertApp] Writing 12263 bytes to facturxWidget.py\n",
      "[NbConvertApp] Converting notebook containerWidgets.ipynb to script\n",
      "[NbConvertApp] Writing 984 bytes to containerWidgets.py\n",
      "[NbConvertApp] Converting notebook kubernetesTool.ipynb to script\n",
      "[NbConvertApp] Writing 5345 bytes to kubernetesTool.py\n"
     ]
    }
   ],
   "source": [
    "!jupyter nbconvert --to script facturxWidget.ipynb\n",
    "!jupyter nbconvert --to script containerWidgets.ipynb\n",
    "!jupyter nbconvert --to script kubernetesTool.ipynb"
   ]
  },
  {
   "cell_type": "code",
   "execution_count": null,
   "metadata": {},
   "outputs": [],
   "source": []
  }
 ],
 "metadata": {
  "kernelspec": {
   "display_name": "Python 3 (ipykernel)",
   "language": "python",
   "name": "python3"
  },
  "language_info": {
   "codemirror_mode": {
    "name": "ipython",
    "version": 3
   },
   "file_extension": ".py",
   "mimetype": "text/x-python",
   "name": "python",
   "nbconvert_exporter": "python",
   "pygments_lexer": "ipython3",
   "version": "3.9.5"
  }
 },
 "nbformat": 4,
 "nbformat_minor": 4
}
