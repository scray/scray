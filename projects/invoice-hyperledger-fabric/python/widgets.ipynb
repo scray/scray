{
 "cells": [
  {
   "cell_type": "code",
   "execution_count": null,
   "metadata": {},
   "outputs": [],
   "source": [
    "from ipywidgets import widgets  \n",
    "\n",
    "# Create text widget for output\n",
    "output_text = widgets.Text()\n",
    "\n",
    "# Create text widget for input\n",
    "input_text = widgets.Text()\n",
    "\n",
    "# Define function to bind value of the input to the output variable \n",
    "def bind_input_to_output(sender):\n",
    "    output_text.value = input_text.value\n",
    "\n",
    "# Tell the text input widget to call bind_input_to_output() on submit\n",
    "input_text.on_submit(bind_input_to_output)\n",
    "\n",
    "# Display input text box widget for input\n",
    "#input_text\n",
    "\n",
    "# Display output text box widget (will populate when value submitted in input)\n",
    "#output_text\n",
    "\n",
    "# Display text value of string in output_text variable\n",
    "#output_text.value\n",
    "\n",
    "# Define new string variable with value of output_text, do something to it\n",
    "uppercase_string = output_text.value.upper()\n",
    "#print (uppercase_string)"
   ]
  },
  {
   "cell_type": "code",
   "execution_count": null,
   "metadata": {},
   "outputs": [],
   "source": [
    "import ipywidgets as widget\n",
    "inp = widget.Text(placeholder='Type Here', description='Address:', disabled=False)\n",
    "inp2 = widget.Text(placeholder='Type Here', description='Address:', disabled=False)\n",
    "inp"
   ]
  },
  {
   "cell_type": "code",
   "execution_count": null,
   "metadata": {},
   "outputs": [],
   "source": [
    "inp.value"
   ]
  },
  {
   "cell_type": "code",
   "execution_count": null,
   "metadata": {},
   "outputs": [],
   "source": [
    "import ipywidgets as widgets\n",
    "from IPython.display import display\n",
    "\n",
    "def fun(a):\n",
    "    f.year.value = \"2018\"\n",
    "\n",
    "def on_button_clicked(f):\n",
    "    f.year.value = \"2019\"\n",
    "\n",
    "out = widgets.Output()\n",
    "\n",
    "def foo(b):\n",
    "    with out:\n",
    "        label = display('Initial text', display_id = True)\n",
    "\n",
    "        def on_button_click(b, label):\n",
    "            label.update('New number {}'.format(random.random()))\n",
    "\n",
    "        button = widgets.Button(description=\"New number\")\n",
    "        display(button)    \n",
    "        label = \"12\"\n",
    "        button.on_click(functools.partial(on_button_click, label=label))\n",
    "    \n",
    "    \n",
    "class date_input():\n",
    "    def __init__(self, \n",
    "                 year = \"2017\", \n",
    "                 month = \"05\", \n",
    "                 day = \"21\"\n",
    "                ):\n",
    "        self.year = widgets.Text(description = 'Year',value = year)\n",
    "        self.month = widgets.Text(description = 'Month',value = month)\n",
    "        self.day = widgets.Text(description = 'Day',value = day)        \n",
    "        self.year.on_submit(self.handle_submit)\n",
    "        self.year.on_submit(self.handle_submit)\n",
    "        self.year.on_submit(self.handle_submit)\n",
    "        self.button = button = widgets.Button(description=\"Button\")\n",
    "        button.on_click(foo)\n",
    "        display(self.year, self.month, self.day,self.button)\n",
    "\n",
    "    def handle_submit(self, text):\n",
    "        self.v = text.value\n",
    "        widgets.Button(description=\"Button\")\n",
    "        return self.v\n",
    "    \n",
    "    def on_button_clicked(self,b):\n",
    "        self.year.value = \"2018\"\n",
    "        fun('a')\n",
    "\n",
    "print(\"enter the year, month and day above, then press return in any field\")\n",
    "f = date_input()"
   ]
  },
  {
   "cell_type": "code",
   "execution_count": null,
   "metadata": {},
   "outputs": [],
   "source": [
    "f.year.value, f.month.value\n",
    "widgets.Output()"
   ]
  },
  {
   "cell_type": "code",
   "execution_count": null,
   "metadata": {},
   "outputs": [],
   "source": [
    "import ipywidgets as widgets\n",
    "from IPython.display import display\n",
    "import invoiceTool\n",
    "import uuid\n",
    "\n",
    "def any_function_returning_value(word1,word2):\n",
    "    invoiceTool.createInvoice(id=word1,invoiceNumber=word2,sell=\"True\")\n",
    "\n",
    "class learn_classes_and_widgets():\n",
    "    def __init__(self, param1 = str(uuid.uuid4()), param2 = ''):\n",
    "        self.p1_text = widgets.Text(description = 'id',value = param1)\n",
    "        self.p2_text = widgets.Text(description = 'number',value = param2)\n",
    "        \n",
    "        self.p1_text.on_submit(self.handle_submit)\n",
    "        self.p2_text.on_submit(self.handle_submit)\n",
    "        display(self.p1_text, self.p2_text)\n",
    "\n",
    "    def handle_submit(self, text):\n",
    "        #print (\"Submitting:\")\n",
    "        #print (\"Text \" + str(text.value))\n",
    "        self.w = any_function_returning_value(self.p1_text.value,self.p2_text.value)\n",
    "        self.p1_text.value = str(uuid.uuid4())\n",
    "        self.p2_text.value = ''\n",
    "        return self.w\n",
    "\n",
    "f = learn_classes_and_widgets()"
   ]
  },
  {
   "cell_type": "code",
   "execution_count": null,
   "metadata": {},
   "outputs": [],
   "source": [
    "widget.RadioButtons( options=['Male', 'Female', 'Other'], description ='Gender',disabled=False)"
   ]
  },
  {
   "cell_type": "code",
   "execution_count": null,
   "metadata": {},
   "outputs": [],
   "source": [
    "import ipywidgets as widgets\n",
    "from IPython.display import display\n",
    "button = widgets.Button(description=\"Click Me!\")\n",
    "display(button)\n",
    "\n",
    "i=int(1)\n",
    "\n",
    "def fun(a):\n",
    "    print(a)\n",
    "    i=i+1\n",
    "    button.description=a\n",
    "    #button.disabled=True\n",
    "    button.disabled=False\n",
    "\n",
    "#def on_button_click(b):\n",
    "#    fun('a')\n",
    "    \n",
    "def on_button_clicked(b, rs_=\"some_default_string\"):\n",
    "    #button.description=rs_\n",
    "    fun(rs_)    \n",
    "\n",
    "#button.on_click(on_button_clicked)\n",
    "button.on_click(functools.partial(on_button_clicked, rs_=\"abcdefg\"))"
   ]
  },
  {
   "cell_type": "code",
   "execution_count": null,
   "metadata": {},
   "outputs": [],
   "source": [
    "import functools\n",
    "\n",
    "def on_button_clicked(b, rs_=\"some_default_string\"):\n",
    "    fun(rs_)\n",
    "\n",
    "button.on_click(functools.partial(on_button_clicked, rs_=\"abcdefg\"))"
   ]
  },
  {
   "cell_type": "code",
   "execution_count": null,
   "metadata": {},
   "outputs": [],
   "source": [
    "import functools\n",
    "import ipywidgets as widgets\n",
    "from IPython.display import display\n",
    "import random\n",
    "\n",
    "out = widgets.Output()\n",
    "\n",
    "\n",
    "def foo(b):\n",
    "    with out:\n",
    "        label = display('Initial text', display_id = True)\n",
    "\n",
    "        def on_button_click(b, label):\n",
    "            label.update('New number {}'.format(random.random()))\n",
    "\n",
    "        button = widgets.Button(description=\"New number\")\n",
    "        display(button)           \n",
    "        button.on_click(functools.partial(on_button_click, label=label))\n",
    "\n",
    "\n",
    "button = widgets.Button(description=\"Button\")\n",
    "button.on_click(foo)\n",
    "display(button)\n",
    "display(out)"
   ]
  },
  {
   "cell_type": "code",
   "execution_count": null,
   "metadata": {},
   "outputs": [],
   "source": [
    "widgets.Output()"
   ]
  },
  {
   "cell_type": "code",
   "execution_count": null,
   "metadata": {},
   "outputs": [],
   "source": [
    "import ipywidgets as widgets\n",
    "from ipywidgets import interact, fixed\n",
    "\n",
    "w1 = widgets.Checkbox(value=False, description='Widget 1')\n",
    "w2 = widgets.Checkbox(value=False, description='Widget 2')\n",
    "w3 = widgets.Checkbox(value=False, description='Widget 3')\n",
    "\n",
    "def test(**kwargs):\n",
    "    x = kwargs.pop('val')\n",
    "    if all(kwargs.values()):\n",
    "        print(x)\n",
    "      # do something\n",
    "\n",
    "interact(test, val = fixed(3), w1=w1, w2=w2, w3=w3);"
   ]
  },
  {
   "cell_type": "code",
   "execution_count": null,
   "metadata": {},
   "outputs": [],
   "source": [
    "from ipywidgets import widgets\n",
    "from IPython.display import Javascript, display\n",
    "\n",
    "align_kw = dict(\n",
    "    _css = (('.widget-label', 'min-width', '20ex'),),\n",
    "    margin = '0px 0px 5px 12px'\n",
    ")\n",
    "platform_ui = widgets.Dropdown(description = 'platform',options=['iPhone','iPad','Android'], **align_kw)\n",
    "event_type_ui = widgets.Text(value='open', description='Test Event', **align_kw)\n",
    "os_version_ui = widgets.Text(value='iOS9', description='Operating System', **align_kw)\n",
    "refresh_ui = widgets.Checkbox(description='Force Refresh', **align_kw)\n",
    "\n",
    "display(platform_ui,event_type_ui,os_version_ui,refresh_ui)"
   ]
  },
  {
   "cell_type": "code",
   "execution_count": null,
   "metadata": {},
   "outputs": [],
   "source": [
    "widgets.Box(\n",
    "    [\n",
    "        widgets.Label(value='Pizza topping with a very long label:'),\n",
    "        widgets.RadioButtons(\n",
    "            options=[\n",
    "                'pepperoni',\n",
    "                'pineapple',\n",
    "                'anchovies',\n",
    "                'and the long name that will fit fine and the long name that will fit fine and the long name that will fit fine '\n",
    "            ],\n",
    "            layout={'width': 'max-content'}\n",
    "        )\n",
    "    ]\n",
    ")"
   ]
  },
  {
   "cell_type": "code",
   "execution_count": null,
   "metadata": {},
   "outputs": [],
   "source": [
    "from ipywidgets import *\n",
    "\n",
    "style = {'description_width': '150px'}\n",
    "layout = {'width': '400px'}\n",
    "\n",
    "def helper(a,b,c):\n",
    "            print (a)\n",
    "TextField1= Text(value='', placeholder='Type client table name',description='Client List Name:',disabled=False, style=style, layout=layout)\n",
    "TextField2= Text(value='', placeholder='Type flagged column name',description='Flagged column name:',disabled=False, style=style, layout=layout)\n",
    "TextField3= Text(value='', placeholder='Type columns name',description='Columns name:',disabled=False, style=style, layout=layout)\n",
    "x=interactive(helper,a=TextField1,b=TextField2,c=TextField3)\n",
    "display(x)"
   ]
  },
  {
   "cell_type": "code",
   "execution_count": 1,
   "metadata": {},
   "outputs": [
    {
     "data": {
      "application/vnd.jupyter.widget-view+json": {
       "model_id": "dca37328c27e4eaababde005becb11db",
       "version_major": 2,
       "version_minor": 0
      },
      "text/plain": [
       "Button(description='Button', style=ButtonStyle())"
      ]
     },
     "metadata": {},
     "output_type": "display_data"
    },
    {
     "data": {
      "application/vnd.jupyter.widget-view+json": {
       "model_id": "b44e7542fc844ece9cfc1c19ce9abc7a",
       "version_major": 2,
       "version_minor": 0
      },
      "text/plain": [
       "Output()"
      ]
     },
     "metadata": {},
     "output_type": "display_data"
    }
   ],
   "source": [
    "import functools\n",
    "import ipywidgets as widgets\n",
    "from IPython.display import display\n",
    "import random\n",
    "\n",
    "out = widgets.Output()\n",
    "\n",
    "\n",
    "def foo(b):\n",
    "    with out:\n",
    "        label = display('Initial text', display_id = True)\n",
    "\n",
    "        def on_button_click(b, label):\n",
    "            label.update('New number {}'.format(random.random()))\n",
    "\n",
    "        button = widgets.Button(description=\"New number\")\n",
    "        display(button)           \n",
    "        button.on_click(functools.partial(on_button_click, label=label))\n",
    "\n",
    "\n",
    "button = widgets.Button(description=\"Button\")\n",
    "button.on_click(foo)\n",
    "display(button)\n",
    "display(out)"
   ]
  },
  {
   "cell_type": "code",
   "execution_count": 2,
   "metadata": {},
   "outputs": [
    {
     "data": {
      "application/vnd.jupyter.widget-view+json": {
       "model_id": "8be4e2573cee438fa01f72c3e007c552",
       "version_major": 2,
       "version_minor": 0
      },
      "text/plain": [
       "Dropdown(description='FILTER', options={'night': 0, 'morning': 1}, value=0)"
      ]
     },
     "metadata": {},
     "output_type": "display_data"
    },
    {
     "data": {
      "application/vnd.jupyter.widget-view+json": {
       "model_id": "92cb0f283b514bf8a8ee665fd5558ec2",
       "version_major": 2,
       "version_minor": 0
      },
      "text/plain": [
       "Output()"
      ]
     },
     "metadata": {},
     "output_type": "display_data"
    }
   ],
   "source": [
    "import ipywidgets as widgets\n",
    "from IPython.display import clear_output\n",
    "outs = widgets.Output()\n",
    "\n",
    "def mytest(x):\n",
    "    with outs:\n",
    "        clear_output()\n",
    "        lookhere = mytestfilter.value\n",
    "        if lookhere==1:\n",
    "            print(\"hello\")\n",
    "        if lookhere==0:\n",
    "            print(\"goodbye\")\n",
    "\n",
    "mytestfilter = widgets.Dropdown(options={'night': 0, 'morning': 1}, description=\"FILTER\")\n",
    "display(mytestfilter)\n",
    "display(outs)\n",
    "mytestfilter.observe(mytest, names='value')"
   ]
  },
  {
   "cell_type": "code",
   "execution_count": 1,
   "metadata": {},
   "outputs": [
    {
     "data": {
      "application/vnd.jupyter.widget-view+json": {
       "model_id": "38d7a3148c7741eab20a1a1487ea52d0",
       "version_major": 2,
       "version_minor": 0
      },
      "text/plain": [
       "HBox(children=(IntSlider(value=0, description='idx', max=10, orientation='vertical'), Output()))"
      ]
     },
     "metadata": {},
     "output_type": "display_data"
    }
   ],
   "source": [
    "from IPython.display import display, clear_output\n",
    "import ipywidgets as ipy\n",
    "import matplotlib.pyplot as plt\n",
    "import numpy as np\n",
    "\n",
    "# setup figure\n",
    "n = 10\n",
    "\n",
    "out = ipy.Output()\n",
    "\n",
    "# show random mesh\n",
    "def update(idx):\n",
    "    with out:\n",
    "        clear_output()\n",
    "        fig, ax = plt.subplots(figsize = (5,5))\n",
    "        h = ax.imshow(np.random.rand(n, n))\n",
    "        h.set_data(np.random.rand(n, n))\n",
    "        fig.canvas.flush_events()\n",
    "        fig.canvas.draw()\n",
    "        plt.show()\n",
    "\n",
    "slider = ipy.IntSlider(min = 0, max = 10, orientation = 'vertical')\n",
    "widget = ipy.interactive(update, idx = slider)\n",
    "\n",
    "layout = ipy.Layout(\n",
    "#     display = 'flex',\n",
    "#                    flex_flow = 'row',\n",
    "#                    justify_content = 'space-between',\n",
    "#                    align_items = 'center',\n",
    "                   )\n",
    "widgets = ipy.HBox(children=(slider, out), layout = layout)\n",
    "display(widgets)"
   ]
  }
 ],
 "metadata": {
  "kernelspec": {
   "display_name": "Python 3",
   "language": "python",
   "name": "python3"
  },
  "language_info": {
   "codemirror_mode": {
    "name": "ipython",
    "version": 3
   },
   "file_extension": ".py",
   "mimetype": "text/x-python",
   "name": "python",
   "nbconvert_exporter": "python",
   "pygments_lexer": "ipython3",
   "version": "3.8.6"
  }
 },
 "nbformat": 4,
 "nbformat_minor": 4
}
