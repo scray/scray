{
 "cells": [
  {
   "cell_type": "code",
   "execution_count": 1,
   "id": "4e27f9fe-8f9e-4beb-b364-135909403dcb",
   "metadata": {},
   "outputs": [],
   "source": [
    "import numpy as np\n",
    "import pandas as pd\n",
    "\n",
    "from pyspark.sql import SQLContext\n",
    "\n",
    "import lightgbm as lgb\n",
    "from sklearn.model_selection import train_test_split\n",
    "from sklearn.metrics import accuracy_score\n",
    "\n",
    "import matplotlib.pylab as plt\n",
    "\n",
    "import warnings\n",
    "warnings.filterwarnings('ignore')\n",
    "import DataCollector as collector\n",
    "dc = collector.DataCollector()\n",
    "import TrainingConfigurations as configurations\n",
    "t = configurations.TrainingConfigurations()\n",
    "\n",
    "dc._init_()\n",
    "data = dc.loadData()\n",
    "spark = dc.getSparkSession()"
   ]
  },
  {
   "cell_type": "code",
   "execution_count": 2,
   "id": "878d610b-c638-490a-ae36-2a25a1bee453",
   "metadata": {},
   "outputs": [],
   "source": [
    "import shutil\n",
    "import os\n",
    "\n",
    "path = os.path.join('new_message_tracking/data/')\n",
    "shutil.rmtree(path)\n",
    "os.mkdir(path)"
   ]
  },
  {
   "cell_type": "code",
   "execution_count": 3,
   "id": "e4d8f286-52ef-4cb1-880f-359cdc352fee",
   "metadata": {},
   "outputs": [],
   "source": [
    "def print_disk_space(text):\n",
    "    print(text)\n",
    "    !df | grep 'overlay'"
   ]
  },
  {
   "cell_type": "code",
   "execution_count": 4,
   "id": "ae710da6-a314-4b2d-94a1-07633bbff745",
   "metadata": {
    "tags": []
   },
   "outputs": [
    {
     "name": "stdout",
     "output_type": "stream",
     "text": [
      "Anzahl Datensätze=233390980 each_len=23339098\n",
      "Durchlauf Start 0\n",
      "overlay                209608708 86246872 123361836  42% /\n",
      "Anzahl Datensätze=210051882\n",
      "Durchlauf Ende 0\n",
      "overlay                209608708 141529656  68079052  68% /\n",
      "Durchlauf Start 1\n",
      "overlay                209608708 141529656  68079052  68% /\n",
      "Anzahl Datensätze=186712784\n",
      "Durchlauf Ende 1\n",
      "overlay                209608708 195218212  14390496  94% /\n",
      "Durchlauf Start 2\n",
      "overlay                209608708 195218212  14390496  94% /\n"
     ]
    },
    {
     "ename": "Py4JJavaError",
     "evalue": "An error occurred while calling o102.count.\n: org.apache.spark.SparkException: Job aborted due to stage failure: Task 28 in stage 107.0 failed 1 times, most recent failure: Lost task 28.0 in stage 107.0 (TID 3093) (260c22397ee8 executor driver): java.io.IOException: No space left on device\n\tat java.base/java.io.FileOutputStream.writeBytes(Native Method)\n\tat java.base/java.io.FileOutputStream.write(FileOutputStream.java:354)\n\tat org.apache.spark.storage.TimeTrackingOutputStream.write(TimeTrackingOutputStream.java:59)\n\tat org.apache.spark.io.MutableCheckedOutputStream.write(MutableCheckedOutputStream.scala:43)\n\tat java.base/java.io.BufferedOutputStream.flushBuffer(BufferedOutputStream.java:81)\n\tat java.base/java.io.BufferedOutputStream.write(BufferedOutputStream.java:127)\n\tat net.jpountz.lz4.LZ4BlockOutputStream.flushBufferedData(LZ4BlockOutputStream.java:223)\n\tat net.jpountz.lz4.LZ4BlockOutputStream.write(LZ4BlockOutputStream.java:176)\n\tat java.base/java.io.BufferedOutputStream.flushBuffer(BufferedOutputStream.java:81)\n\tat java.base/java.io.BufferedOutputStream.write(BufferedOutputStream.java:127)\n\tat java.base/java.io.DataOutputStream.write(DataOutputStream.java:107)\n\tat org.apache.spark.sql.catalyst.expressions.UnsafeRow.writeToStream(UnsafeRow.java:541)\n\tat org.apache.spark.sql.execution.UnsafeRowSerializerInstance$$anon$1.writeValue(UnsafeRowSerializer.scala:69)\n\tat org.apache.spark.storage.DiskBlockObjectWriter.write(DiskBlockObjectWriter.scala:283)\n\tat org.apache.spark.shuffle.sort.BypassMergeSortShuffleWriter.write(BypassMergeSortShuffleWriter.java:171)\n\tat org.apache.spark.shuffle.ShuffleWriteProcessor.write(ShuffleWriteProcessor.scala:59)\n\tat org.apache.spark.scheduler.ShuffleMapTask.runTask(ShuffleMapTask.scala:99)\n\tat org.apache.spark.scheduler.ShuffleMapTask.runTask(ShuffleMapTask.scala:52)\n\tat org.apache.spark.scheduler.Task.run(Task.scala:131)\n\tat org.apache.spark.executor.Executor$TaskRunner.$anonfun$run$3(Executor.scala:506)\n\tat org.apache.spark.util.Utils$.tryWithSafeFinally(Utils.scala:1462)\n\tat org.apache.spark.executor.Executor$TaskRunner.run(Executor.scala:509)\n\tat java.base/java.util.concurrent.ThreadPoolExecutor.runWorker(ThreadPoolExecutor.java:1128)\n\tat java.base/java.util.concurrent.ThreadPoolExecutor$Worker.run(ThreadPoolExecutor.java:628)\n\tat java.base/java.lang.Thread.run(Thread.java:829)\n\nDriver stacktrace:\n\tat org.apache.spark.scheduler.DAGScheduler.failJobAndIndependentStages(DAGScheduler.scala:2454)\n\tat org.apache.spark.scheduler.DAGScheduler.$anonfun$abortStage$2(DAGScheduler.scala:2403)\n\tat org.apache.spark.scheduler.DAGScheduler.$anonfun$abortStage$2$adapted(DAGScheduler.scala:2402)\n\tat scala.collection.mutable.ResizableArray.foreach(ResizableArray.scala:62)\n\tat scala.collection.mutable.ResizableArray.foreach$(ResizableArray.scala:55)\n\tat scala.collection.mutable.ArrayBuffer.foreach(ArrayBuffer.scala:49)\n\tat org.apache.spark.scheduler.DAGScheduler.abortStage(DAGScheduler.scala:2402)\n\tat org.apache.spark.scheduler.DAGScheduler.$anonfun$handleTaskSetFailed$1(DAGScheduler.scala:1160)\n\tat org.apache.spark.scheduler.DAGScheduler.$anonfun$handleTaskSetFailed$1$adapted(DAGScheduler.scala:1160)\n\tat scala.Option.foreach(Option.scala:407)\n\tat org.apache.spark.scheduler.DAGScheduler.handleTaskSetFailed(DAGScheduler.scala:1160)\n\tat org.apache.spark.scheduler.DAGSchedulerEventProcessLoop.doOnReceive(DAGScheduler.scala:2642)\n\tat org.apache.spark.scheduler.DAGSchedulerEventProcessLoop.onReceive(DAGScheduler.scala:2584)\n\tat org.apache.spark.scheduler.DAGSchedulerEventProcessLoop.onReceive(DAGScheduler.scala:2573)\n\tat org.apache.spark.util.EventLoop$$anon$1.run(EventLoop.scala:49)\nCaused by: java.io.IOException: No space left on device\n\tat java.base/java.io.FileOutputStream.writeBytes(Native Method)\n\tat java.base/java.io.FileOutputStream.write(FileOutputStream.java:354)\n\tat org.apache.spark.storage.TimeTrackingOutputStream.write(TimeTrackingOutputStream.java:59)\n\tat org.apache.spark.io.MutableCheckedOutputStream.write(MutableCheckedOutputStream.scala:43)\n\tat java.base/java.io.BufferedOutputStream.flushBuffer(BufferedOutputStream.java:81)\n\tat java.base/java.io.BufferedOutputStream.write(BufferedOutputStream.java:127)\n\tat net.jpountz.lz4.LZ4BlockOutputStream.flushBufferedData(LZ4BlockOutputStream.java:223)\n\tat net.jpountz.lz4.LZ4BlockOutputStream.write(LZ4BlockOutputStream.java:176)\n\tat java.base/java.io.BufferedOutputStream.flushBuffer(BufferedOutputStream.java:81)\n\tat java.base/java.io.BufferedOutputStream.write(BufferedOutputStream.java:127)\n\tat java.base/java.io.DataOutputStream.write(DataOutputStream.java:107)\n\tat org.apache.spark.sql.catalyst.expressions.UnsafeRow.writeToStream(UnsafeRow.java:541)\n\tat org.apache.spark.sql.execution.UnsafeRowSerializerInstance$$anon$1.writeValue(UnsafeRowSerializer.scala:69)\n\tat org.apache.spark.storage.DiskBlockObjectWriter.write(DiskBlockObjectWriter.scala:283)\n\tat org.apache.spark.shuffle.sort.BypassMergeSortShuffleWriter.write(BypassMergeSortShuffleWriter.java:171)\n\tat org.apache.spark.shuffle.ShuffleWriteProcessor.write(ShuffleWriteProcessor.scala:59)\n\tat org.apache.spark.scheduler.ShuffleMapTask.runTask(ShuffleMapTask.scala:99)\n\tat org.apache.spark.scheduler.ShuffleMapTask.runTask(ShuffleMapTask.scala:52)\n\tat org.apache.spark.scheduler.Task.run(Task.scala:131)\n\tat org.apache.spark.executor.Executor$TaskRunner.$anonfun$run$3(Executor.scala:506)\n\tat org.apache.spark.util.Utils$.tryWithSafeFinally(Utils.scala:1462)\n\tat org.apache.spark.executor.Executor$TaskRunner.run(Executor.scala:509)\n\tat java.base/java.util.concurrent.ThreadPoolExecutor.runWorker(ThreadPoolExecutor.java:1128)\n\tat java.base/java.util.concurrent.ThreadPoolExecutor$Worker.run(ThreadPoolExecutor.java:628)\n\tat java.base/java.lang.Thread.run(Thread.java:829)\n",
     "output_type": "error",
     "traceback": [
      "\u001b[0;31m\u001b[0m",
      "\u001b[0;31mPy4JJavaError\u001b[0mTraceback (most recent call last)",
      "Input \u001b[0;32mIn [4]\u001b[0m, in \u001b[0;36m<module>\u001b[0;34m\u001b[0m\n\u001b[1;32m     19\u001b[0m df_py \u001b[38;5;241m=\u001b[39m data\u001b[38;5;241m.\u001b[39mlimit(each_len)\n\u001b[1;32m     20\u001b[0m data \u001b[38;5;241m=\u001b[39m data\u001b[38;5;241m.\u001b[39msubtract(df_py)\n\u001b[0;32m---> 22\u001b[0m \u001b[38;5;28mprint\u001b[39m(\u001b[38;5;124m'\u001b[39m\u001b[38;5;124mAnzahl Datensätze=\u001b[39m\u001b[38;5;124m'\u001b[39m \u001b[38;5;241m+\u001b[39m \u001b[38;5;28mstr\u001b[39m(\u001b[43mdata\u001b[49m\u001b[38;5;241;43m.\u001b[39;49m\u001b[43mcount\u001b[49m\u001b[43m(\u001b[49m\u001b[43m)\u001b[49m))\n\u001b[1;32m     23\u001b[0m \u001b[38;5;124;03m'''\u001b[39;00m\n\u001b[1;32m     24\u001b[0m \u001b[38;5;124;03mprint_disk_space('After substracting data ' +str(counter))\u001b[39;00m\n\u001b[1;32m     25\u001b[0m \u001b[38;5;124;03mevals_result = {}\u001b[39;00m\n\u001b[0;32m   (...)\u001b[0m\n\u001b[1;32m     44\u001b[0m \u001b[38;5;124;03m\u001b[39;00m\n\u001b[1;32m     45\u001b[0m \u001b[38;5;124;03m'''\u001b[39;00m\n\u001b[1;32m     46\u001b[0m \u001b[38;5;124;03m'''\u001b[39;00m\n\u001b[1;32m     47\u001b[0m \u001b[38;5;124;03m#train_data, test_data, valid_data = df.randomSplit([0.8, 0.1, 0.1], seed=1)\u001b[39;00m\n\u001b[1;32m     48\u001b[0m \u001b[38;5;124;03mtrain_data, test_data = df.randomSplit([0.8, 0.2], seed=1)\u001b[39;00m\n\u001b[0;32m   (...)\u001b[0m\n\u001b[1;32m     79\u001b[0m \u001b[38;5;124;03m#yvalid = yvalid.toPandas()\u001b[39;00m\n\u001b[1;32m     80\u001b[0m \u001b[38;5;124;03m'''\u001b[39;00m\n",
      "File \u001b[0;32m/usr/local/spark/python/pyspark/sql/dataframe.py:680\u001b[0m, in \u001b[0;36mDataFrame.count\u001b[0;34m(self)\u001b[0m\n\u001b[1;32m    670\u001b[0m \u001b[38;5;28;01mdef\u001b[39;00m \u001b[38;5;21mcount\u001b[39m(\u001b[38;5;28mself\u001b[39m):\n\u001b[1;32m    671\u001b[0m     \u001b[38;5;124;03m\"\"\"Returns the number of rows in this :class:`DataFrame`.\u001b[39;00m\n\u001b[1;32m    672\u001b[0m \n\u001b[1;32m    673\u001b[0m \u001b[38;5;124;03m    .. versionadded:: 1.3.0\u001b[39;00m\n\u001b[0;32m   (...)\u001b[0m\n\u001b[1;32m    678\u001b[0m \u001b[38;5;124;03m    2\u001b[39;00m\n\u001b[1;32m    679\u001b[0m \u001b[38;5;124;03m    \"\"\"\u001b[39;00m\n\u001b[0;32m--> 680\u001b[0m     \u001b[38;5;28;01mreturn\u001b[39;00m \u001b[38;5;28mint\u001b[39m(\u001b[38;5;28;43mself\u001b[39;49m\u001b[38;5;241;43m.\u001b[39;49m\u001b[43m_jdf\u001b[49m\u001b[38;5;241;43m.\u001b[39;49m\u001b[43mcount\u001b[49m\u001b[43m(\u001b[49m\u001b[43m)\u001b[49m)\n",
      "File \u001b[0;32m/usr/local/spark/python/lib/py4j-0.10.9.3-src.zip/py4j/java_gateway.py:1321\u001b[0m, in \u001b[0;36mJavaMember.__call__\u001b[0;34m(self, *args)\u001b[0m\n\u001b[1;32m   1315\u001b[0m command \u001b[38;5;241m=\u001b[39m proto\u001b[38;5;241m.\u001b[39mCALL_COMMAND_NAME \u001b[38;5;241m+\u001b[39m\\\n\u001b[1;32m   1316\u001b[0m     \u001b[38;5;28mself\u001b[39m\u001b[38;5;241m.\u001b[39mcommand_header \u001b[38;5;241m+\u001b[39m\\\n\u001b[1;32m   1317\u001b[0m     args_command \u001b[38;5;241m+\u001b[39m\\\n\u001b[1;32m   1318\u001b[0m     proto\u001b[38;5;241m.\u001b[39mEND_COMMAND_PART\n\u001b[1;32m   1320\u001b[0m answer \u001b[38;5;241m=\u001b[39m \u001b[38;5;28mself\u001b[39m\u001b[38;5;241m.\u001b[39mgateway_client\u001b[38;5;241m.\u001b[39msend_command(command)\n\u001b[0;32m-> 1321\u001b[0m return_value \u001b[38;5;241m=\u001b[39m \u001b[43mget_return_value\u001b[49m\u001b[43m(\u001b[49m\n\u001b[1;32m   1322\u001b[0m \u001b[43m    \u001b[49m\u001b[43manswer\u001b[49m\u001b[43m,\u001b[49m\u001b[43m \u001b[49m\u001b[38;5;28;43mself\u001b[39;49m\u001b[38;5;241;43m.\u001b[39;49m\u001b[43mgateway_client\u001b[49m\u001b[43m,\u001b[49m\u001b[43m \u001b[49m\u001b[38;5;28;43mself\u001b[39;49m\u001b[38;5;241;43m.\u001b[39;49m\u001b[43mtarget_id\u001b[49m\u001b[43m,\u001b[49m\u001b[43m \u001b[49m\u001b[38;5;28;43mself\u001b[39;49m\u001b[38;5;241;43m.\u001b[39;49m\u001b[43mname\u001b[49m\u001b[43m)\u001b[49m\n\u001b[1;32m   1324\u001b[0m \u001b[38;5;28;01mfor\u001b[39;00m temp_arg \u001b[38;5;129;01min\u001b[39;00m temp_args:\n\u001b[1;32m   1325\u001b[0m     temp_arg\u001b[38;5;241m.\u001b[39m_detach()\n",
      "File \u001b[0;32m/usr/local/spark/python/pyspark/sql/utils.py:111\u001b[0m, in \u001b[0;36mcapture_sql_exception.<locals>.deco\u001b[0;34m(*a, **kw)\u001b[0m\n\u001b[1;32m    109\u001b[0m \u001b[38;5;28;01mdef\u001b[39;00m \u001b[38;5;21mdeco\u001b[39m(\u001b[38;5;241m*\u001b[39ma, \u001b[38;5;241m*\u001b[39m\u001b[38;5;241m*\u001b[39mkw):\n\u001b[1;32m    110\u001b[0m     \u001b[38;5;28;01mtry\u001b[39;00m:\n\u001b[0;32m--> 111\u001b[0m         \u001b[38;5;28;01mreturn\u001b[39;00m \u001b[43mf\u001b[49m\u001b[43m(\u001b[49m\u001b[38;5;241;43m*\u001b[39;49m\u001b[43ma\u001b[49m\u001b[43m,\u001b[49m\u001b[43m \u001b[49m\u001b[38;5;241;43m*\u001b[39;49m\u001b[38;5;241;43m*\u001b[39;49m\u001b[43mkw\u001b[49m\u001b[43m)\u001b[49m\n\u001b[1;32m    112\u001b[0m     \u001b[38;5;28;01mexcept\u001b[39;00m py4j\u001b[38;5;241m.\u001b[39mprotocol\u001b[38;5;241m.\u001b[39mPy4JJavaError \u001b[38;5;28;01mas\u001b[39;00m e:\n\u001b[1;32m    113\u001b[0m         converted \u001b[38;5;241m=\u001b[39m convert_exception(e\u001b[38;5;241m.\u001b[39mjava_exception)\n",
      "File \u001b[0;32m/usr/local/spark/python/lib/py4j-0.10.9.3-src.zip/py4j/protocol.py:326\u001b[0m, in \u001b[0;36mget_return_value\u001b[0;34m(answer, gateway_client, target_id, name)\u001b[0m\n\u001b[1;32m    324\u001b[0m value \u001b[38;5;241m=\u001b[39m OUTPUT_CONVERTER[\u001b[38;5;28mtype\u001b[39m](answer[\u001b[38;5;241m2\u001b[39m:], gateway_client)\n\u001b[1;32m    325\u001b[0m \u001b[38;5;28;01mif\u001b[39;00m answer[\u001b[38;5;241m1\u001b[39m] \u001b[38;5;241m==\u001b[39m REFERENCE_TYPE:\n\u001b[0;32m--> 326\u001b[0m     \u001b[38;5;28;01mraise\u001b[39;00m Py4JJavaError(\n\u001b[1;32m    327\u001b[0m         \u001b[38;5;124m\"\u001b[39m\u001b[38;5;124mAn error occurred while calling \u001b[39m\u001b[38;5;132;01m{0}\u001b[39;00m\u001b[38;5;132;01m{1}\u001b[39;00m\u001b[38;5;132;01m{2}\u001b[39;00m\u001b[38;5;124m.\u001b[39m\u001b[38;5;130;01m\\n\u001b[39;00m\u001b[38;5;124m\"\u001b[39m\u001b[38;5;241m.\u001b[39m\n\u001b[1;32m    328\u001b[0m         \u001b[38;5;28mformat\u001b[39m(target_id, \u001b[38;5;124m\"\u001b[39m\u001b[38;5;124m.\u001b[39m\u001b[38;5;124m\"\u001b[39m, name), value)\n\u001b[1;32m    329\u001b[0m \u001b[38;5;28;01melse\u001b[39;00m:\n\u001b[1;32m    330\u001b[0m     \u001b[38;5;28;01mraise\u001b[39;00m Py4JError(\n\u001b[1;32m    331\u001b[0m         \u001b[38;5;124m\"\u001b[39m\u001b[38;5;124mAn error occurred while calling \u001b[39m\u001b[38;5;132;01m{0}\u001b[39;00m\u001b[38;5;132;01m{1}\u001b[39;00m\u001b[38;5;132;01m{2}\u001b[39;00m\u001b[38;5;124m. Trace:\u001b[39m\u001b[38;5;130;01m\\n\u001b[39;00m\u001b[38;5;132;01m{3}\u001b[39;00m\u001b[38;5;130;01m\\n\u001b[39;00m\u001b[38;5;124m\"\u001b[39m\u001b[38;5;241m.\u001b[39m\n\u001b[1;32m    332\u001b[0m         \u001b[38;5;28mformat\u001b[39m(target_id, \u001b[38;5;124m\"\u001b[39m\u001b[38;5;124m.\u001b[39m\u001b[38;5;124m\"\u001b[39m, name, value))\n",
      "\u001b[0;31mPy4JJavaError\u001b[0m: An error occurred while calling o102.count.\n: org.apache.spark.SparkException: Job aborted due to stage failure: Task 28 in stage 107.0 failed 1 times, most recent failure: Lost task 28.0 in stage 107.0 (TID 3093) (260c22397ee8 executor driver): java.io.IOException: No space left on device\n\tat java.base/java.io.FileOutputStream.writeBytes(Native Method)\n\tat java.base/java.io.FileOutputStream.write(FileOutputStream.java:354)\n\tat org.apache.spark.storage.TimeTrackingOutputStream.write(TimeTrackingOutputStream.java:59)\n\tat org.apache.spark.io.MutableCheckedOutputStream.write(MutableCheckedOutputStream.scala:43)\n\tat java.base/java.io.BufferedOutputStream.flushBuffer(BufferedOutputStream.java:81)\n\tat java.base/java.io.BufferedOutputStream.write(BufferedOutputStream.java:127)\n\tat net.jpountz.lz4.LZ4BlockOutputStream.flushBufferedData(LZ4BlockOutputStream.java:223)\n\tat net.jpountz.lz4.LZ4BlockOutputStream.write(LZ4BlockOutputStream.java:176)\n\tat java.base/java.io.BufferedOutputStream.flushBuffer(BufferedOutputStream.java:81)\n\tat java.base/java.io.BufferedOutputStream.write(BufferedOutputStream.java:127)\n\tat java.base/java.io.DataOutputStream.write(DataOutputStream.java:107)\n\tat org.apache.spark.sql.catalyst.expressions.UnsafeRow.writeToStream(UnsafeRow.java:541)\n\tat org.apache.spark.sql.execution.UnsafeRowSerializerInstance$$anon$1.writeValue(UnsafeRowSerializer.scala:69)\n\tat org.apache.spark.storage.DiskBlockObjectWriter.write(DiskBlockObjectWriter.scala:283)\n\tat org.apache.spark.shuffle.sort.BypassMergeSortShuffleWriter.write(BypassMergeSortShuffleWriter.java:171)\n\tat org.apache.spark.shuffle.ShuffleWriteProcessor.write(ShuffleWriteProcessor.scala:59)\n\tat org.apache.spark.scheduler.ShuffleMapTask.runTask(ShuffleMapTask.scala:99)\n\tat org.apache.spark.scheduler.ShuffleMapTask.runTask(ShuffleMapTask.scala:52)\n\tat org.apache.spark.scheduler.Task.run(Task.scala:131)\n\tat org.apache.spark.executor.Executor$TaskRunner.$anonfun$run$3(Executor.scala:506)\n\tat org.apache.spark.util.Utils$.tryWithSafeFinally(Utils.scala:1462)\n\tat org.apache.spark.executor.Executor$TaskRunner.run(Executor.scala:509)\n\tat java.base/java.util.concurrent.ThreadPoolExecutor.runWorker(ThreadPoolExecutor.java:1128)\n\tat java.base/java.util.concurrent.ThreadPoolExecutor$Worker.run(ThreadPoolExecutor.java:628)\n\tat java.base/java.lang.Thread.run(Thread.java:829)\n\nDriver stacktrace:\n\tat org.apache.spark.scheduler.DAGScheduler.failJobAndIndependentStages(DAGScheduler.scala:2454)\n\tat org.apache.spark.scheduler.DAGScheduler.$anonfun$abortStage$2(DAGScheduler.scala:2403)\n\tat org.apache.spark.scheduler.DAGScheduler.$anonfun$abortStage$2$adapted(DAGScheduler.scala:2402)\n\tat scala.collection.mutable.ResizableArray.foreach(ResizableArray.scala:62)\n\tat scala.collection.mutable.ResizableArray.foreach$(ResizableArray.scala:55)\n\tat scala.collection.mutable.ArrayBuffer.foreach(ArrayBuffer.scala:49)\n\tat org.apache.spark.scheduler.DAGScheduler.abortStage(DAGScheduler.scala:2402)\n\tat org.apache.spark.scheduler.DAGScheduler.$anonfun$handleTaskSetFailed$1(DAGScheduler.scala:1160)\n\tat org.apache.spark.scheduler.DAGScheduler.$anonfun$handleTaskSetFailed$1$adapted(DAGScheduler.scala:1160)\n\tat scala.Option.foreach(Option.scala:407)\n\tat org.apache.spark.scheduler.DAGScheduler.handleTaskSetFailed(DAGScheduler.scala:1160)\n\tat org.apache.spark.scheduler.DAGSchedulerEventProcessLoop.doOnReceive(DAGScheduler.scala:2642)\n\tat org.apache.spark.scheduler.DAGSchedulerEventProcessLoop.onReceive(DAGScheduler.scala:2584)\n\tat org.apache.spark.scheduler.DAGSchedulerEventProcessLoop.onReceive(DAGScheduler.scala:2573)\n\tat org.apache.spark.util.EventLoop$$anon$1.run(EventLoop.scala:49)\nCaused by: java.io.IOException: No space left on device\n\tat java.base/java.io.FileOutputStream.writeBytes(Native Method)\n\tat java.base/java.io.FileOutputStream.write(FileOutputStream.java:354)\n\tat org.apache.spark.storage.TimeTrackingOutputStream.write(TimeTrackingOutputStream.java:59)\n\tat org.apache.spark.io.MutableCheckedOutputStream.write(MutableCheckedOutputStream.scala:43)\n\tat java.base/java.io.BufferedOutputStream.flushBuffer(BufferedOutputStream.java:81)\n\tat java.base/java.io.BufferedOutputStream.write(BufferedOutputStream.java:127)\n\tat net.jpountz.lz4.LZ4BlockOutputStream.flushBufferedData(LZ4BlockOutputStream.java:223)\n\tat net.jpountz.lz4.LZ4BlockOutputStream.write(LZ4BlockOutputStream.java:176)\n\tat java.base/java.io.BufferedOutputStream.flushBuffer(BufferedOutputStream.java:81)\n\tat java.base/java.io.BufferedOutputStream.write(BufferedOutputStream.java:127)\n\tat java.base/java.io.DataOutputStream.write(DataOutputStream.java:107)\n\tat org.apache.spark.sql.catalyst.expressions.UnsafeRow.writeToStream(UnsafeRow.java:541)\n\tat org.apache.spark.sql.execution.UnsafeRowSerializerInstance$$anon$1.writeValue(UnsafeRowSerializer.scala:69)\n\tat org.apache.spark.storage.DiskBlockObjectWriter.write(DiskBlockObjectWriter.scala:283)\n\tat org.apache.spark.shuffle.sort.BypassMergeSortShuffleWriter.write(BypassMergeSortShuffleWriter.java:171)\n\tat org.apache.spark.shuffle.ShuffleWriteProcessor.write(ShuffleWriteProcessor.scala:59)\n\tat org.apache.spark.scheduler.ShuffleMapTask.runTask(ShuffleMapTask.scala:99)\n\tat org.apache.spark.scheduler.ShuffleMapTask.runTask(ShuffleMapTask.scala:52)\n\tat org.apache.spark.scheduler.Task.run(Task.scala:131)\n\tat org.apache.spark.executor.Executor$TaskRunner.$anonfun$run$3(Executor.scala:506)\n\tat org.apache.spark.util.Utils$.tryWithSafeFinally(Utils.scala:1462)\n\tat org.apache.spark.executor.Executor$TaskRunner.run(Executor.scala:509)\n\tat java.base/java.util.concurrent.ThreadPoolExecutor.runWorker(ThreadPoolExecutor.java:1128)\n\tat java.base/java.util.concurrent.ThreadPoolExecutor$Worker.run(ThreadPoolExecutor.java:628)\n\tat java.base/java.lang.Thread.run(Thread.java:829)\n"
     ]
    }
   ],
   "source": [
    "#%%capture\n",
    "evals = {}\n",
    "lgb_estimator = None\n",
    "counter = 0\n",
    "n_splits = 10\n",
    "count = data.count()\n",
    "each_len = int(count/n_splits)\n",
    "\n",
    "print('Anzahl Datensätze=' + str(count) + ' each_len=' + str(each_len))\n",
    "\n",
    "inputColumns = ['CSTARTTIME','CSERVICE','CSENDERENDPOINTID','CSENDERPROTOCOL','CINBOUNDSIZE','year', 'month', 'day', 'hour', 'minute']\n",
    "\n",
    "lgb_params = {\n",
    "    'application' : 'binary',\n",
    "    'num_leaves' : '20'}\n",
    "\n",
    "while counter < n_splits:\n",
    "    print_disk_space('Durchlauf Start ' +str(counter))\n",
    "    df_py = data.limit(each_len)\n",
    "    data = data.subtract(df_py)\n",
    "    \n",
    "    print_disk_space('After substracting data ' +str(counter))\n",
    "    evals_result = {}\n",
    "\n",
    "    ###\n",
    "    df = df_py.toPandas()\n",
    "    print_disk_space('df_py persisted ' +str(counter))\n",
    "    df_py.unpersist()\n",
    "    print_disk_space('df_py unpersisted ' +str(counter))\n",
    "    xtrain, xother, ytrain, yother = train_test_split(df[inputColumns], df['outcome'], test_size=0.3, shuffle=True)\n",
    "    del df\n",
    "    print_disk_space('df deleted ' +str(counter))\n",
    "    xtest, xvalid, ytest, yvalid = train_test_split(xother, yother, test_size=0.5, shuffle=True)\n",
    "    \n",
    "    test_data = pd.concat([xtest,ytest], axis=1)\n",
    "    train_data = pd.concat([xtrain,ytrain], axis=1)\n",
    "    valid_data = pd.concat([xvalid,yvalid], axis=1)\n",
    "    \n",
    "    test_data.to_csv(t.all_train_path, mode='a')\n",
    "    train_data.to_csv(t.all_test_path, mode='a')\n",
    "    valid_data.to_csv(t.all_valid_path, mode='a')\n",
    "    '''\n",
    "    #train_data, test_data, valid_data = df.randomSplit([0.8, 0.1, 0.1], seed=1)\n",
    "    train_data, test_data = df.randomSplit([0.8, 0.2], seed=1)\n",
    "    \n",
    "    df.unpersist()\n",
    "\n",
    "    x_train = test_data[inputColumns]\n",
    "    y_train = test_data.select('outcome')\n",
    "    x_test = test_data[inputColumns]\n",
    "    y_test = test_data.select('outcome')\n",
    "    #xvalid = test_data[inputColumns]\n",
    "    #yvalid = test_data.select('outcome')\n",
    "    \n",
    "    train_data.unpersist()\n",
    "    test_data.unpersist()\n",
    "    \n",
    "    x_train.write.parquet(\"new_message_tracking/data/x_train/x_train_\" + str(counter) + \".parquet\")\n",
    "    xtrain = x_train.toPandas()\n",
    "    x_train.unpersist()\n",
    "    \n",
    "    y_train.write.parquet(\"new_message_tracking/data/y_train/y_train_\" + str(counter) + \".parquet\")\n",
    "    ytrain = y_train.toPandas()\n",
    "    y_train.unpersist()\n",
    "    \n",
    "    x_test.write.parquet(\"new_message_tracking/data/x_test/x_test_\" + str(counter) + \".parquet\")\n",
    "    xtest = x_test.toPandas()\n",
    "    x_test.unpersist()\n",
    "        \n",
    "    y_test.write.parquet(\"new_message_tracking/data/y_test/y_test_\" + str(counter) + \".parquet\")\n",
    "    ytest = y_test.toPandas()\n",
    "    y_test.unpersist()\n",
    "    \n",
    "    #xvalid = xvalid.toPandas()\n",
    "    #yvalid = yvalid.toPandas()\n",
    "    '''\n",
    "   \n",
    "    lgb_estimator = lgb.train(lgb_params,\n",
    "                         keep_training_booster = True,\n",
    "                         init_model=lgb_estimator,\n",
    "                         #evals_result = evals_result,\n",
    "                         callbacks = [lgb.record_evaluation(evals_result)],\n",
    "                         train_set = lgb.Dataset(xtrain, ytrain),\n",
    "                         #valid_sets=[lgb.Dataset(xvalid, yvalid), lgb.Dataset(xtrain, ytrain)],\n",
    "                         #valid_names = ['valid','train'],\n",
    "                         valid_sets=[lgb.Dataset(xvalid, yvalid), lgb.Dataset(xtrain, ytrain)],\n",
    "                         valid_names = ['test','train'],\n",
    "                         num_boost_round=10)\n",
    "\n",
    "    evals = t.mergeDictionary(evals, evals_result)\n",
    "    del xtrain, ytrain, xtest, ytest, xvalid, yvalid, test_data, valid_data, train_data\n",
    "    print_disk_space('variables deleted ' +str(counter))\n",
    "    print_disk_space('Durchlauf Ende ' +str(counter))\n",
    "    counter = counter + 1\n",
    "#    if counter == 2:\n",
    "#        break"
   ]
  },
  {
   "cell_type": "code",
   "execution_count": null,
   "id": "83cfcd66-a126-420a-a312-bf551bd00d0d",
   "metadata": {},
   "outputs": [],
   "source": [
    "'''train = spark.read.parquet('new_message_tracking/data/train/')\n",
    "test = spark.read.parquet('new_message_tracking/data/test/')\n",
    "valid = spark.read.parquet('new_message_tracking/data/valid/')'''"
   ]
  },
  {
   "cell_type": "code",
   "execution_count": null,
   "id": "8b930cdf-303a-41bc-b621-e1319ab79bc8",
   "metadata": {},
   "outputs": [],
   "source": [
    "x_train = t.get_X_train()\n",
    "y_train = t.get_y_train()\n",
    "x_test = t.get_X_test()\n",
    "y_test = t.get_y_test()\n",
    "x_valid = t.get_X_valid()\n",
    "y_valid = t.get_y_valid()"
   ]
  },
  {
   "cell_type": "markdown",
   "id": "7c02e978-5025-4a2b-8da4-46af62aaa04d",
   "metadata": {
    "tags": []
   },
   "source": [
    "# Model Prediction"
   ]
  },
  {
   "cell_type": "code",
   "execution_count": null,
   "id": "86de0b8f-e151-4a4d-96aa-e72ed2b18784",
   "metadata": {},
   "outputs": [],
   "source": [
    "print('test label count: ' + str(t.get_y_test_count()))\n",
    "print('train label count: ' + str(t.get_y_train_count()))\n",
    "print('valid label count: ' + str(t.get_y_valid_count()))"
   ]
  },
  {
   "cell_type": "code",
   "execution_count": null,
   "id": "cc73bb94-1695-43fb-b1f0-6dd3186fbe6f",
   "metadata": {},
   "outputs": [],
   "source": [
    "print('test data count: ' + str(t.get_X_test_count()))\n",
    "print('train data count: ' + str(t.get_X_train_count()))\n",
    "print('valid data count: ' + str(t.get_X_valid_count()))"
   ]
  },
  {
   "cell_type": "code",
   "execution_count": null,
   "id": "f741a965-c4e5-4ffb-b419-412f75c2de89",
   "metadata": {},
   "outputs": [],
   "source": [
    "preds = []\n",
    "preds = lgb_estimator.predict(x_test)"
   ]
  },
  {
   "cell_type": "code",
   "execution_count": null,
   "id": "a70f16ff-bde5-4391-8854-d25abb49567b",
   "metadata": {},
   "outputs": [],
   "source": [
    "preds_as_int = []\n",
    "for pred in preds:\n",
    "    preds_as_int.append(round(pred))"
   ]
  },
  {
   "cell_type": "code",
   "execution_count": null,
   "id": "0aa9e664-4355-4eb7-9e17-f42f853f23e4",
   "metadata": {},
   "outputs": [],
   "source": [
    "len(preds_as_int)"
   ]
  },
  {
   "cell_type": "code",
   "execution_count": null,
   "id": "78e853f6-e941-4994-b0dc-b58c4493d98e",
   "metadata": {},
   "outputs": [],
   "source": [
    "preds_as_int"
   ]
  },
  {
   "cell_type": "code",
   "execution_count": null,
   "id": "378c631f-d659-49ca-a3ef-e146b76fc897",
   "metadata": {},
   "outputs": [],
   "source": [
    "evals"
   ]
  },
  {
   "cell_type": "markdown",
   "id": "d1dd3bdd-6214-4e5f-a231-28cc829fecb2",
   "metadata": {},
   "source": [
    "# View Accuracy"
   ]
  },
  {
   "cell_type": "code",
   "execution_count": null,
   "id": "062de295-9931-4ed4-be19-4ad75167403c",
   "metadata": {},
   "outputs": [],
   "source": [
    "import matplotlib.pyplot as plt\n",
    "print('Plot metrics during training...')\n",
    "ax = lgb.plot_metric(evals)\n",
    "plt.show()"
   ]
  },
  {
   "cell_type": "code",
   "execution_count": null,
   "id": "52e62d36-c1c1-48a8-81c5-2796e8499dac",
   "metadata": {},
   "outputs": [],
   "source": [
    "print('Plot feature importances...')\n",
    "ax = lgb.plot_importance(lgb_estimator, max_num_features=10)\n",
    "plt.show()"
   ]
  },
  {
   "cell_type": "code",
   "execution_count": null,
   "id": "4051fa21-0a93-494a-b2da-82d4d07334ab",
   "metadata": {},
   "outputs": [],
   "source": [
    "unique, counts = np.unique(preds_as_int, return_counts=True)\n",
    "preds_count = np.asarray((unique, counts))\n",
    "print(str(preds_count[0][1]) + '   ' + str(preds_count[1][1]))\n",
    "print(str(preds_count[0][0]) + '   ' + str(preds_count[1][0]))"
   ]
  },
  {
   "cell_type": "code",
   "execution_count": null,
   "id": "00756088-7044-4e5e-a868-359c802a15cd",
   "metadata": {},
   "outputs": [],
   "source": [
    "y_test.value_counts()"
   ]
  },
  {
   "cell_type": "code",
   "execution_count": null,
   "id": "896d07a2-fdd6-4f1e-a4be-aa291820f1d8",
   "metadata": {},
   "outputs": [],
   "source": [
    "from sklearn.metrics import mean_squared_error\n",
    "print('\\nThe rmse of prediction is:', mean_squared_error(y_test, preds_as_int) ** 0.5)"
   ]
  },
  {
   "cell_type": "code",
   "execution_count": null,
   "id": "8d865d48-46b7-4eb9-9f3e-74c6aa1cef4c",
   "metadata": {},
   "outputs": [],
   "source": [
    "print('LightGBM Model accuracy score: {0:0.4f}'.format(accuracy_score(y_test, preds_as_int)))"
   ]
  },
  {
   "cell_type": "markdown",
   "id": "8def0beb-5bc6-4e85-b8ae-1bff8106f42a",
   "metadata": {},
   "source": [
    "##### Confusion-matrix"
   ]
  },
  {
   "cell_type": "code",
   "execution_count": null,
   "id": "41dcd109-e09c-402b-ae02-f7e718ff189f",
   "metadata": {},
   "outputs": [],
   "source": [
    "from sklearn.metrics import confusion_matrix\n",
    "cm = confusion_matrix(y_test, preds_as_int)\n",
    "print('Confusion matrix\\n\\n', cm)\n",
    "print('\\nTrue Negatives(TN) = ', cm[0,0])\n",
    "print('\\nTrue Positives(TP) = ', cm[1,1])\n",
    "print('\\nFalse Negatives(FN) = ', cm[0,1])\n",
    "print('\\nFalse Positives(FP) = ', cm[1,0])"
   ]
  },
  {
   "cell_type": "code",
   "execution_count": null,
   "id": "6e30ff19-e591-4358-8c9d-7c00bbd211aa",
   "metadata": {},
   "outputs": [],
   "source": [
    "import seaborn as sns\n",
    "cm_matrix = pd.DataFrame(data=cm, columns=['Actual Negative:0', 'Actual Positive:1'], \n",
    "                                 index=['Predict Negative:0', 'Predict Positive:1'])\n",
    "\n",
    "sns.heatmap(cm_matrix, annot=True, fmt='d', cmap='YlGnBu')"
   ]
  },
  {
   "cell_type": "markdown",
   "id": "e4054d87-d38f-4334-9add-d0d05ff74fc6",
   "metadata": {},
   "source": [
    "##### Classification Metrices"
   ]
  },
  {
   "cell_type": "code",
   "execution_count": null,
   "id": "c0ab7890-e0cf-4df5-b25e-47b5a649d996",
   "metadata": {},
   "outputs": [],
   "source": [
    "from sklearn.metrics import classification_report\n",
    "print(classification_report(y_test, preds_as_int))"
   ]
  },
  {
   "cell_type": "code",
   "execution_count": null,
   "id": "ef199932-cead-437f-9d6c-ab5415fe1d40",
   "metadata": {},
   "outputs": [],
   "source": [
    "from sklearn.metrics import f1_score\n",
    "print(f1_score(y_test, preds_as_int))"
   ]
  }
 ],
 "metadata": {
  "kernelspec": {
   "display_name": "Python 3 (ipykernel)",
   "language": "python",
   "name": "python3"
  },
  "language_info": {
   "codemirror_mode": {
    "name": "ipython",
    "version": 3
   },
   "file_extension": ".py",
   "mimetype": "text/x-python",
   "name": "python",
   "nbconvert_exporter": "python",
   "pygments_lexer": "ipython3",
   "version": "3.9.10"
  }
 },
 "nbformat": 4,
 "nbformat_minor": 5
}
