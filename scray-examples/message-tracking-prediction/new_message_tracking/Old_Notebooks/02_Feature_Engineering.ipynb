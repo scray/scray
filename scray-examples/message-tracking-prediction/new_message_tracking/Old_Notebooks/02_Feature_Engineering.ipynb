{
 "cells": [
  {
   "cell_type": "code",
   "execution_count": 1,
   "id": "a12540e2-7b9d-4e8f-8259-5951187a082d",
   "metadata": {},
   "outputs": [],
   "source": [
    "import os\n",
    "os.environ['https_proxy'] = 'https://172.30.12.56:3128'"
   ]
  },
  {
   "cell_type": "code",
   "execution_count": null,
   "id": "78278a2e-f9a1-41a7-9287-50485db9b611",
   "metadata": {},
   "outputs": [],
   "source": [
    "import warnings\n",
    "warnings.filterwarnings('ignore')\n",
    "import DataCollector as collector\n",
    "dc = collector.DataCollector()\n",
    "\n",
    "dc._init_()\n",
    "data = dc.loadData()\n",
    "data = data['CSTARTTIME','CSERVICE','CSENDERENDPOINTID','CSENDERPROTOCOL','CINBOUNDSIZE','year', 'month', 'day', 'hour', 'minute', 'outcome']"
   ]
  },
  {
   "cell_type": "code",
   "execution_count": null,
   "id": "3a9b3095-465c-49fa-a29c-f697d9d373da",
   "metadata": {},
   "outputs": [],
   "source": [
    "train, test = data.randomSplit([0.85, 0.15], seed=1)"
   ]
  },
  {
   "cell_type": "code",
   "execution_count": null,
   "id": "e5bfecc8-17f2-4841-a53c-3de8fffe332e",
   "metadata": {},
   "outputs": [],
   "source": [
    "from pyspark.ml.feature import VectorAssembler\n",
    "\n",
    "inputColumns = ['CSTARTTIME','CSERVICE','CSENDERENDPOINTID','CSENDERPROTOCOL','CINBOUNDSIZE','year', 'month', 'day', 'hour', 'minute']\n",
    "\n",
    "feature_cols = data[inputColumns]\n",
    "featurizer = VectorAssembler(inputCols=feature_cols.columns, outputCol=\"features\")\n",
    "train_data = featurizer.transform(train).select('features', 'outcome')\n",
    "test_data = featurizer.transform(test).select('features', 'outcome')"
   ]
  },
  {
   "cell_type": "code",
   "execution_count": null,
   "id": "fa893111-03cb-48ed-9077-f1080ea2cbed",
   "metadata": {},
   "outputs": [],
   "source": [
    "display(train_data.groupBy(\"outcome\").count().show())"
   ]
  },
  {
   "cell_type": "code",
   "execution_count": null,
   "id": "05a40911-6d0f-4ae3-a4f6-19ae44dbdd88",
   "metadata": {},
   "outputs": [],
   "source": [
    "from synapse.ml.lightgbm import *\n",
    "\n",
    "model = LightGBMClassifier(\n",
    "    objective=\"binary\", featuresCol=\"features\", labelCol=\"outcome\", isUnbalance=True\n",
    ").fit(train_data)"
   ]
  },
  {
   "cell_type": "code",
   "execution_count": null,
   "id": "6e44d681-bfdd-4ca7-abe4-d57600bb6b58",
   "metadata": {},
   "outputs": [],
   "source": [
    "model = model.fit(train_data)"
   ]
  },
  {
   "cell_type": "code",
   "execution_count": null,
   "id": "eb60488f-9c1f-4766-94a7-8738b26c4fbe",
   "metadata": {},
   "outputs": [],
   "source": [
    "import pandas as pd\n",
    "import matplotlib.pyplot as plt\n",
    "\n",
    "feature_importances = model.getFeatureImportances()\n",
    "fi = pd.Series(feature_importances, index=feature_cols)\n",
    "fi = fi.sort_values(ascending=True)\n",
    "f_index = fi.index\n",
    "f_values = fi.values\n",
    "\n",
    "# print feature importances\n",
    "print(\"f_index:\", f_index)\n",
    "print(\"f_values:\", f_values)\n",
    "\n",
    "# plot\n",
    "x_index = list(range(len(fi)))\n",
    "x_index = [x / len(fi) for x in x_index]\n",
    "plt.rcParams[\"figure.figsize\"] = (20, 20)\n",
    "plt.barh(\n",
    "    x_index, f_values, height=0.028, align=\"center\", color=\"tan\", tick_label=f_index\n",
    ")\n",
    "plt.xlabel(\"importances\")\n",
    "plt.ylabel(\"features\")\n",
    "plt.show()"
   ]
  },
  {
   "cell_type": "code",
   "execution_count": null,
   "id": "a6fc66a6-182a-454a-b000-4b8101bd2443",
   "metadata": {},
   "outputs": [],
   "source": [
    "predictions = model.transform(test_data)\n",
    "predictions.limit(10).toPandas()"
   ]
  },
  {
   "cell_type": "code",
   "execution_count": null,
   "id": "5b245bb1-6cad-4b11-8638-a886e4c85d57",
   "metadata": {},
   "outputs": [],
   "source": [
    "from synapse.ml.train import ComputeModelStatistics\n",
    "\n",
    "metrics = ComputeModelStatistics(\n",
    "    evaluationMetric=\"classification\",\n",
    "    labelCol=\"outcome\",\n",
    "    scoredLabelsCol=\"prediction\",\n",
    ").transform(predictions)\n",
    "display(metrics)"
   ]
  }
 ],
 "metadata": {
  "kernelspec": {
   "display_name": "Python 3 (ipykernel)",
   "language": "python",
   "name": "python3"
  },
  "language_info": {
   "codemirror_mode": {
    "name": "ipython",
    "version": 3
   },
   "file_extension": ".py",
   "mimetype": "text/x-python",
   "name": "python",
   "nbconvert_exporter": "python",
   "pygments_lexer": "ipython3",
   "version": "3.9.10"
  }
 },
 "nbformat": 4,
 "nbformat_minor": 5
}
