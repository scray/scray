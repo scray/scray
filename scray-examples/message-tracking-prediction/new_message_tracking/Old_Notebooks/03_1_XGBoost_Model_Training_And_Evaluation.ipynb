{
 "cells": [
  {
   "cell_type": "code",
   "execution_count": 1,
   "id": "4e27f9fe-8f9e-4beb-b364-135909403dcb",
   "metadata": {},
   "outputs": [],
   "source": [
    "import numpy as np\n",
    "import pandas as pd\n",
    "\n",
    "from pyspark.sql import SQLContext\n",
    "\n",
    "import lightgbm as lgb\n",
    "from sklearn.model_selection import train_test_split\n",
    "from sklearn.metrics import accuracy_score\n",
    "\n",
    "import matplotlib.pylab as plt\n",
    "\n",
    "import os\n",
    "os.chdir(\"/home/jovyan/work\")\n",
    "\n",
    "import warnings\n",
    "warnings.filterwarnings('ignore')\n",
    "import DataCollector as collector\n",
    "dc = collector.DataCollector()\n",
    "import TrainingConfigurations as configurations\n",
    "t = configurations.TrainingConfigurations()\n",
    "import FeaturePreparer as preparer\n",
    "fp = preparer.FeaturePreparer()\n",
    "\n",
    "dc._init_()\n",
    "data = dc.loadData()\n",
    "spark = dc.getSparkSession()"
   ]
  },
  {
   "cell_type": "code",
   "execution_count": 2,
   "id": "bc752cc0-560b-4933-a7f0-6dfaf57c6665",
   "metadata": {},
   "outputs": [],
   "source": [
    "#data = dc.negativeValues(data)"
   ]
  },
  {
   "cell_type": "code",
   "execution_count": 3,
   "id": "57ffdf2f-6ced-444e-8913-3a44394960b0",
   "metadata": {},
   "outputs": [
    {
     "name": "stdout",
     "output_type": "stream",
     "text": [
      "+-------------+--------+-----------------+---------------+------------+----+-----+---+----+------+-------+\n",
      "|   CSTARTTIME|CSERVICE|CSENDERENDPOINTID|CSENDERPROTOCOL|CINBOUNDSIZE|year|month|day|hour|minute|outcome|\n",
      "+-------------+--------+-----------------+---------------+------------+----+-----+---+----+------+-------+\n",
      "|1572335390398|       5|             4946|              0|        6545|2019|   10| 29|   8|    49|      1|\n",
      "|1572336843110|       6|             2718|              0|         193|2019|   10| 29|   9|    14|      1|\n",
      "|1572346925970|       6|             2718|              0|         562|2019|   10| 29|  12|     2|      1|\n",
      "|1572363173767|       6|             3978|              0|         195|2019|   10| 29|  16|    32|      1|\n",
      "|1572424572659|       6|             2276|              0|         195|2019|   10| 30|   9|    36|      1|\n",
      "|1572448533657|       6|             3316|              4|       18102|2019|   10| 30|  16|    15|      1|\n",
      "|1572504329226|       6|             2718|              0|         193|2019|   10| 31|   7|    45|      1|\n",
      "|1572524404205|       6|             2105|              0|         443|2019|   10| 31|  13|    20|      1|\n",
      "|1572540887550|       5|             4946|              0|         630|2019|   10| 31|  17|    54|      1|\n",
      "|1572613842851|       6|             2105|              0|         195|2019|   11|  1|  14|    10|      1|\n",
      "+-------------+--------+-----------------+---------------+------------+----+-----+---+----+------+-------+\n",
      "only showing top 10 rows\n",
      "\n"
     ]
    }
   ],
   "source": [
    "data.show(10)"
   ]
  },
  {
   "cell_type": "code",
   "execution_count": 4,
   "id": "c21986d5-97f8-442f-b502-21675a2ceaa6",
   "metadata": {},
   "outputs": [],
   "source": [
    "import shutil\n",
    "import os\n",
    "\n",
    "path = os.path.join('new_message_tracking/data/')\n",
    "shutil.rmtree(path)\n",
    "os.mkdir(path)"
   ]
  },
  {
   "cell_type": "code",
   "execution_count": null,
   "id": "ae710da6-a314-4b2d-94a1-07633bbff745",
   "metadata": {
    "tags": []
   },
   "outputs": [],
   "source": [
    "from xgboost.spark import SparkXGBClassifier\n",
    "from pyspark.ml.feature import VectorAssembler\n",
    "import shutil\n",
    "import os\n",
    "\n",
    "counter = 1\n",
    "n_splits = 10000\n",
    "count = data.count()\n",
    "each_len = int(count/n_splits)\n",
    "modelPath = 'new_message_tracking/models/model_1.json'\n",
    "os.mkdir(modelPath)\n",
    "\n",
    "data = fp.prepare_data_for_training_1(data)\n",
    "\n",
    "while counter < n_splits:\n",
    "    df_py = data.limit(each_len)\n",
    "    data = data.subtract(df_py)\n",
    "\n",
    "    train_df, test_df = df_py.randomSplit([0.8, 0.2], seed=1)\n",
    "    train_df.write.mode('append').parquet('new_message_tracking/data/train.parquet')\n",
    "    test_df.write.mode('append').parquet('new_message_tracking/data/test.parquet')\n",
    "\n",
    "    if counter == 1:\n",
    "        classifier = SparkXGBClassifier(\n",
    "          features_col=\"features\",\n",
    "          label_col=\"outcome\",\n",
    "          num_workers=2,\n",
    "        )\n",
    "\n",
    "    else:\n",
    "        classifier = classifier.load(modelPath)\n",
    "        \n",
    "    counter = counter +1\n",
    "    model = classifier.fit(train_df)\n",
    "    shutil.rmtree(modelPath)\n",
    "    classifier.save(modelPath)\n",
    "    \n",
    "#    if counter == 2:\n",
    "#        break"
   ]
  },
  {
   "cell_type": "code",
   "execution_count": null,
   "id": "bb6ac374-df94-4ea6-b05f-e231d6c07b77",
   "metadata": {},
   "outputs": [],
   "source": [
    "test_data=spark.read.parquet('new_message_tracking/data/train.parquet')\n",
    "train_data=spark.read.parquet('new_message_tracking/data/train.parquet')"
   ]
  },
  {
   "cell_type": "code",
   "execution_count": null,
   "id": "6881ba1b-51cf-4346-a7c8-d965bf17d2fe",
   "metadata": {},
   "outputs": [],
   "source": [
    "predictionAndLabels = test_data.map(lambda lp: (float(model.transform(lp.select('features'))), lp.outcome))\n",
    "\n",
    "# Instantiate metrics object\n",
    "metrics = BinaryClassificationMetrics(predictionAndLabels)\n",
    "\n",
    "# Area under precision-recall curve\n",
    "print(\"Area under PR = %s\" % metrics.areaUnderPR)\n",
    "\n",
    "# Area under ROC curve\n",
    "print(\"Area under ROC = %s\" % metrics.areaUnderROC)"
   ]
  },
  {
   "cell_type": "code",
   "execution_count": null,
   "id": "29150f4d-365c-40fe-8679-7e86119c0d82",
   "metadata": {},
   "outputs": [],
   "source": [
    "import shap\n",
    "\n",
    "shap.initjs()\n",
    "explainer = shap.TreeExplainer(model)\n",
    "shap_values = explainer.shap_values(train_data)"
   ]
  },
  {
   "cell_type": "code",
   "execution_count": null,
   "id": "a4805007-f3f2-4882-8aa2-47fe52e43a81",
   "metadata": {},
   "outputs": [],
   "source": [
    "shap.force_plot(explainer.expected_value, shap_values[0,:], train_data.iloc[0,:])"
   ]
  },
  {
   "cell_type": "code",
   "execution_count": null,
   "id": "7b76f17f-212f-4127-bc32-87d48bc0bb65",
   "metadata": {},
   "outputs": [],
   "source": [
    "shap.force_plot(explainer.expected_value, shap_values, train_data)"
   ]
  },
  {
   "cell_type": "code",
   "execution_count": null,
   "id": "44d6bff3-0608-4b1e-b5c3-e0824a367ae1",
   "metadata": {},
   "outputs": [],
   "source": [
    "shap.summary_plot(shap_values, train_data)"
   ]
  },
  {
   "cell_type": "code",
   "execution_count": null,
   "id": "9fcb179e-2f46-44bd-8186-6a0be40e5053",
   "metadata": {},
   "outputs": [],
   "source": [
    "shap.summary_plot(shap_values, train_data, plot_type=\"bar\")"
   ]
  }
 ],
 "metadata": {
  "kernelspec": {
   "display_name": "Python 3 (ipykernel)",
   "language": "python",
   "name": "python3"
  },
  "language_info": {
   "codemirror_mode": {
    "name": "ipython",
    "version": 3
   },
   "file_extension": ".py",
   "mimetype": "text/x-python",
   "name": "python",
   "nbconvert_exporter": "python",
   "pygments_lexer": "ipython3",
   "version": "3.11.4"
  }
 },
 "nbformat": 4,
 "nbformat_minor": 5
}
