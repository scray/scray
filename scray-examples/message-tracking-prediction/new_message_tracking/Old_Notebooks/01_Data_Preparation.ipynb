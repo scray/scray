{
 "cells": [
  {
   "cell_type": "code",
   "execution_count": 1,
   "id": "dc3e54ef-93b5-4d98-bf90-e2d4b584c190",
   "metadata": {},
   "outputs": [],
   "source": [
    "import DataCollector as collector"
   ]
  },
  {
   "cell_type": "code",
   "execution_count": 2,
   "id": "5eb3eed4-e348-499b-b094-05cb1cffc727",
   "metadata": {},
   "outputs": [
    {
     "name": "stdout",
     "output_type": "stream",
     "text": [
      "+--------------------+-------------+-------------+-------+--------+-----------------+---------------+------------+-----------------+-------------------+-------+------------+----------------+----+-----+---+----+------+\n",
      "|    CGLOBALMESSAGEID|   CSTARTTIME|     CENDTIME|CSTATUS|CSERVICE|CSENDERENDPOINTID|CSENDERPROTOCOL|CINBOUNDSIZE|CRECEIVERPROTOCOL|CRECEIVERENDPOINTID|CSLATAT|CMESSAGETAT2|CSLADELIVERYTIME|year|month|day|hour|minute|\n",
      "+--------------------+-------------+-------------+-------+--------+-----------------+---------------+------------+-----------------+-------------------+-------+------------+----------------+----+-----+---+----+------+\n",
      "|26651d03-e52a-11e...|1626325477424|1626325480445|     14|       5|             4946|              0|         218|                0|               3499|   2802|        3021|   1626325480226|2021|    7| 15|   7|     4|\n",
      "|43105633-e648-11e...|1626448360765|1626448364647|     14|       5|             4946|              0|         203|                8|               2550|   3757|        3882|   1626448364522|2021|    7| 16|  17|    12|\n",
      "|f2214105-e852-11e...|1626672851699|1626672854534|     14|       5|             4946|              0|         437|                8|                978|   2754|        2835|   1626672854453|2021|    7| 19|   7|    34|\n",
      "|504e8ca3-e868-11e...|1626682029996|1626682033351|     14|       5|             4946|              0|         197|                8|               2550|   3248|        3355|   1626682033244|2021|    7| 19|  10|     7|\n",
      "|28797c90-e8e4-11e...|1626735220463|1626735223156|     14|       5|             4946|              0|         345|                8|               2550|   2611|        2693|   1626735223074|2021|    7| 20|   0|    53|\n",
      "+--------------------+-------------+-------------+-------+--------+-----------------+---------------+------------+-----------------+-------------------+-------+------------+----------------+----+-----+---+----+------+\n",
      "only showing top 5 rows\n",
      "\n"
     ]
    }
   ],
   "source": [
    "data = collector.getData()\n",
    "data.show(n=5)"
   ]
  }
 ],
 "metadata": {
  "kernelspec": {
   "display_name": "Python 3 (ipykernel)",
   "language": "python",
   "name": "python3"
  },
  "language_info": {
   "codemirror_mode": {
    "name": "ipython",
    "version": 3
   },
   "file_extension": ".py",
   "mimetype": "text/x-python",
   "name": "python",
   "nbconvert_exporter": "python",
   "pygments_lexer": "ipython3",
   "version": "3.11.4"
  }
 },
 "nbformat": 4,
 "nbformat_minor": 5
}
