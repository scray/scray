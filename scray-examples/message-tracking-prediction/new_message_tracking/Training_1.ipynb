{
 "cells": [
  {
   "cell_type": "markdown",
   "id": "adf3669c-02b3-4020-b38b-e3b70f7a105a",
   "metadata": {},
   "source": [
    "# Imports"
   ]
  },
  {
   "cell_type": "code",
   "execution_count": 1,
   "id": "f6b06cee-6a3f-4798-b266-6624fab4254a",
   "metadata": {},
   "outputs": [],
   "source": [
    "import os\n",
    "os.environ['http_proxy'] = \"http://172.30.12.56:3128\"\n",
    "os.environ['https_proxy'] = \"http://172.30.12.56:3128\""
   ]
  },
  {
   "cell_type": "code",
   "execution_count": 2,
   "id": "f30bc93c-6f33-4ff1-8ee1-4f3c4a7cce76",
   "metadata": {},
   "outputs": [],
   "source": [
    "import warnings\n",
    "warnings.filterwarnings('ignore')\n",
    "import DataCollector as collector\n",
    "dc = collector.DataCollector()\n",
    "import ModelTrainer as trainer\n",
    "mt = trainer.ModelTrainer()\n",
    "import FeaturePreparer as preparer\n",
    "fp = preparer.FeaturePreparer()\n",
    "from pyspark.sql.functions import  udf, rand"
   ]
  },
  {
   "cell_type": "markdown",
   "id": "fc287a15-4f49-4571-be61-e05551c78495",
   "metadata": {},
   "source": [
    "# Load Data"
   ]
  },
  {
   "cell_type": "code",
   "execution_count": 3,
   "id": "7abd0935-2de9-4ad0-8ab8-bd3efd0dfe01",
   "metadata": {},
   "outputs": [],
   "source": [
    "dc._init_()\n",
    "data = dc.loadData()\n",
    "#data = data.orderBy(rand())\n",
    "#data.write.mode('overwrite').parquet(dc.data_shuffled_path)\n",
    "#data = dc.get_Data_half_distribution()\n",
    "#data = dc.getSparkSession().read.parquet(dc.sample_path_cleaned)\n",
    "spark = dc.getSparkSession()"
   ]
  },
  {
   "cell_type": "markdown",
   "id": "f816caa1-7a86-4f22-b612-d8fde14c7ea2",
   "metadata": {},
   "source": [
    "# Clean Data"
   ]
  },
  {
   "cell_type": "code",
   "execution_count": null,
   "id": "bb9e71c7-fd7e-490c-99db-e8018d8c8cbe",
   "metadata": {},
   "outputs": [
    {
     "data": {
      "text/markdown": [
       "# Statistics"
      ],
      "text/plain": [
       "<IPython.core.display.Markdown object>"
      ]
     },
     "metadata": {},
     "output_type": "display_data"
    }
   ],
   "source": [
    "dc.getStatistics(data)\n",
    "#data = dc.negativeValues(data)\n",
    "#data = dc.zeroValues(data)\n",
    "#data = dc.duplicatedValues(data)\n",
    "#data = dc.missingValues(data)\n",
    "#data = dc.outlierValues(data)\n",
    "#dc.eda(data)"
   ]
  },
  {
   "cell_type": "markdown",
   "id": "374ad14c-55a0-4601-91b2-355c6805f3b9",
   "metadata": {},
   "source": [
    "# Prepare Data"
   ]
  },
  {
   "cell_type": "code",
   "execution_count": null,
   "id": "0e11d871-2788-4802-82d2-68818a943a6a",
   "metadata": {},
   "outputs": [],
   "source": [
    "from IPython.display import display, Markdown\n",
    "\n",
    "def printmd(string):\n",
    "        display(Markdown(string))"
   ]
  },
  {
   "cell_type": "code",
   "execution_count": null,
   "id": "18e02e95-d8db-4f21-873f-8d4548c98d8d",
   "metadata": {},
   "outputs": [],
   "source": [
    "data = fp.prepare_data_for_training_1(data)\n",
    "#data = fp.t1_convert_to_features_column_presplit(data, 10)\n",
    "#data = fp.t1_convert_to_features_column_presplit_from_previous(spark, 5)"
   ]
  },
  {
   "cell_type": "markdown",
   "id": "1bafc3e5-8a6d-44c9-9050-9b0f76490d7f",
   "metadata": {},
   "source": [
    "# Train Model"
   ]
  },
  {
   "cell_type": "code",
   "execution_count": null,
   "id": "f35d65f8-fd79-455b-ade9-a592c5b73a80",
   "metadata": {},
   "outputs": [],
   "source": [
    "#data = spark.read.parquet(mt.train_path_1)\n",
    "#model = mt.perform_training_1_presplit(data, spark)\n",
    "model = mt.perform_training_1(data, spark)"
   ]
  },
  {
   "cell_type": "markdown",
   "id": "87ca0003-00e3-47a6-aabe-1129a0f1f458",
   "metadata": {},
   "source": [
    "# Test"
   ]
  },
  {
   "cell_type": "code",
   "execution_count": null,
   "id": "e8ab56d5-f275-4133-80e3-3bef48117b8c",
   "metadata": {},
   "outputs": [],
   "source": [
    "'''from pyspark.sql.functions import  lit\n",
    "data = dc.getSparkSession().read.parquet(dc.data_shuffled_path)\n",
    "data = data.drop('CGLOBALMESSAGEID')\n",
    "#data = data.orderBy(rand())\n",
    "row = data.filter((data.error==1) & (data.CSTARTTIME == 1633844322674)).head(1)'''"
   ]
  },
  {
   "cell_type": "code",
   "execution_count": null,
   "id": "1d3f0e23-5920-4f23-8809-f298aa666d40",
   "metadata": {},
   "outputs": [],
   "source": [
    "'''df = spark.createDataFrame(row)\n",
    "df = df.withColumn('CINBOUNDSIZE', lit(1500))\n",
    "df = df.withColumn('CSENDERPROTOCOL', lit(1))\n",
    "df.show()\n",
    "df = fp.t1_convert_to_features_column(df)\n",
    "prediction = model.transform(df)\n",
    "print(prediction.show())'''"
   ]
  },
  {
   "cell_type": "code",
   "execution_count": null,
   "id": "55aa7d15-572b-493f-a9b3-eeb6284769e0",
   "metadata": {},
   "outputs": [],
   "source": [
    "#mt.e1_get_confusion_matrix(prediction)\n",
    "#mt.e1_model_explanations(model, df)"
   ]
  },
  {
   "cell_type": "code",
   "execution_count": null,
   "id": "8a4233fd-415a-4c43-a06a-f57bab42ff90",
   "metadata": {},
   "outputs": [],
   "source": [
    "#df.show()"
   ]
  }
 ],
 "metadata": {
  "kernelspec": {
   "display_name": "Python 3 (ipykernel)",
   "language": "python",
   "name": "python3"
  },
  "language_info": {
   "codemirror_mode": {
    "name": "ipython",
    "version": 3
   },
   "file_extension": ".py",
   "mimetype": "text/x-python",
   "name": "python",
   "nbconvert_exporter": "python",
   "pygments_lexer": "ipython3",
   "version": "3.11.4"
  }
 },
 "nbformat": 4,
 "nbformat_minor": 5
}
