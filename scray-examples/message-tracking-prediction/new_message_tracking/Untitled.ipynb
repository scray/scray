{
 "cells": [
  {
   "cell_type": "code",
   "execution_count": 1,
   "id": "3ea1e5ae-6e8c-4207-aeb4-892240d1ce91",
   "metadata": {},
   "outputs": [],
   "source": [
    "import warnings\n",
    "warnings.filterwarnings('ignore')\n",
    "import DataCollector as collector\n",
    "dc = collector.DataCollector()\n",
    "import ModelTrainer as trainer\n",
    "mt = trainer.ModelTrainer()\n",
    "import FeaturePreparer as preparer\n",
    "fp = preparer.FeaturePreparer()\n",
    "from pyspark.sql.functions import  udf, rand\n",
    "from xgboost.spark import SparkXGBClassifier, SparkXGBRegressor\n",
    "from pyspark.sql.types import StructField, StructType, IntegerType, LongType"
   ]
  },
  {
   "cell_type": "code",
   "execution_count": 2,
   "id": "1e2d93b1-aae2-49a9-9e28-6677fbb60b00",
   "metadata": {},
   "outputs": [],
   "source": [
    "dc._init_()\n",
    "spark = dc.getSparkSession()"
   ]
  },
  {
   "cell_type": "code",
   "execution_count": 3,
   "id": "c9d2c2e6-0298-4cf8-89e4-55b5192fea73",
   "metadata": {},
   "outputs": [],
   "source": [
    "data = dc.getSparkSession().read.parquet(dc.data_shuffled_path)\n",
    "data = data.drop('CGLOBALMESSAGEID')\n",
    "row = data.filter((data.outcome==0) & (data.CRECEIVERPROTOCOL >=0)).head(1)"
   ]
  },
  {
   "cell_type": "code",
   "execution_count": 4,
   "id": "eeae86b7-0464-46e7-94fc-334d7b5da0df",
   "metadata": {},
   "outputs": [],
   "source": [
    "#print(row)"
   ]
  },
  {
   "cell_type": "code",
   "execution_count": 5,
   "id": "97311006-80c0-42e5-8e61-d1d586e1fd21",
   "metadata": {},
   "outputs": [],
   "source": [
    "#schema = StructType([\n",
    "#                    StructField(\"CSTARTTIME\", IntegerType(), True),\n",
    "#                    StructField(\"CENDTIME\", IntegerType(), True),\n",
    "#                    StructField(\"CSTATUS\", IntegerType(), True),\n",
    "#                    StructField(\"CSERVICE\", IntegerType(), True),\n",
    "#                    StructField(\"CSENDERENDPOINTID\", IntegerType(), True),\n",
    "#                    StructField(\"CSENDERPROTOCOL\", IntegerType(), True),\n",
    "#                    StructField(\"CINBOUNDSIZE\", IntegerType(), True),\n",
    "#                    StructField(\"CRECEIVERPROTOCOL\", IntegerType(), True),\n",
    "#                    StructField(\"CRECEIVERENDPOINTID\", IntegerType(), True),\n",
    "#                    StructField(\"CSLATAT\", IntegerType(), True),\n",
    "#                    StructField(\"CMESSAGETAT2\", IntegerType(), True),\n",
    "#                    StructField(\"CSLADELIVERYTIME\", IntegerType(), True),\n",
    "#                    StructField(\"year\", IntegerType(), True),\n",
    "#                    StructField(\"month\", IntegerType(), True),\n",
    "#                    StructField(\"day\", IntegerType(), True),\n",
    "#                    StructField(\"hour\", IntegerType(), True),\n",
    "#                    StructField(\"outcome\", IntegerType(), True)\n",
    "#                ])\n",
    "df = spark.createDataFrame(row)\n",
    "#df.union(row)"
   ]
  },
  {
   "cell_type": "code",
   "execution_count": 6,
   "id": "aa9a4440-88a7-4f7b-b574-71dfc3e99ea1",
   "metadata": {},
   "outputs": [],
   "source": [
    "df = fp.t1_convert_to_features_column(df)"
   ]
  },
  {
   "cell_type": "code",
   "execution_count": 7,
   "id": "2b5dabff-934b-4045-8351-4e6d1605f7ef",
   "metadata": {},
   "outputs": [
    {
     "ename": "AttributeError",
     "evalue": "'SparkXGBClassifier' object has no attribute 'transform'",
     "output_type": "error",
     "traceback": [
      "\u001b[0;31m---------------------------------------------------------------------------\u001b[0m",
      "\u001b[0;31mAttributeError\u001b[0m                            Traceback (most recent call last)",
      "Cell \u001b[0;32mIn[7], line 3\u001b[0m\n\u001b[1;32m      1\u001b[0m tree \u001b[38;5;241m=\u001b[39m SparkXGBClassifier()\n\u001b[1;32m      2\u001b[0m tree\u001b[38;5;241m.\u001b[39mload(mt\u001b[38;5;241m.\u001b[39mmodel_path_1)\n\u001b[0;32m----> 3\u001b[0m prediction \u001b[38;5;241m=\u001b[39m \u001b[43mtree\u001b[49m\u001b[38;5;241;43m.\u001b[39;49m\u001b[43mtransform\u001b[49m(df)\n\u001b[1;32m      4\u001b[0m \u001b[38;5;28mprint\u001b[39m(prediction)\n",
      "\u001b[0;31mAttributeError\u001b[0m: 'SparkXGBClassifier' object has no attribute 'transform'"
     ]
    }
   ],
   "source": [
    "tree = SparkXGBClassifier()\n",
    "tree.load(mt.model_path_1)\n",
    "prediction = tree.transform(df)\n",
    "print(prediction)"
   ]
  }
 ],
 "metadata": {
  "kernelspec": {
   "display_name": "Python 3 (ipykernel)",
   "language": "python",
   "name": "python3"
  },
  "language_info": {
   "codemirror_mode": {
    "name": "ipython",
    "version": 3
   },
   "file_extension": ".py",
   "mimetype": "text/x-python",
   "name": "python",
   "nbconvert_exporter": "python",
   "pygments_lexer": "ipython3",
   "version": "3.11.4"
  }
 },
 "nbformat": 4,
 "nbformat_minor": 5
}
