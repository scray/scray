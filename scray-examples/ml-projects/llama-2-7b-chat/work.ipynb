{
 "cells": [
  {
   "cell_type": "code",
   "execution_count": 152,
   "id": "414299ce-e14e-4fee-bb12-84e4f292b81f",
   "metadata": {
    "tags": []
   },
   "outputs": [],
   "source": [
    "%run kafka.ipynb\n",
    "group = 'g-test-1'\n",
    "topic = 'test'\n",
    "topic = 'llama2-7b-01'\n",
    "#topic = 'llama2-13b-01'"
   ]
  },
  {
   "cell_type": "code",
   "execution_count": 153,
   "id": "5fe207fb-c28d-4b16-a82d-e0ab46bd5ec8",
   "metadata": {
    "tags": []
   },
   "outputs": [],
   "source": [
    "send_to_topic({'action':'stop'},topic)"
   ]
  },
  {
   "cell_type": "code",
   "execution_count": 155,
   "id": "4b9a05d5-4e82-437a-91f3-5ae5fedfc3d0",
   "metadata": {
    "tags": []
   },
   "outputs": [
    {
     "name": "stdout",
     "output_type": "stream",
     "text": [
      "none\n"
     ]
    },
    {
     "data": {
      "text/plain": [
       "[{'id': '202308-0113-3321-a2ff3813-c713-4044-816a-b7870dc5cae9',\n",
       "  'name': 'llama-2-13b-chat',\n",
       "  'status': 'end',\n",
       "  'type': 'backend',\n",
       "  'topic': 'llama2-13b-01',\n",
       "  'date': '2023-08-08 11:48:32'},\n",
       " {'id': '202308-0108-3236-afbc19e7-0eed-48b0-b184-438383102e4e',\n",
       "  'name': 'llama-2-7b-chat',\n",
       "  'status': 'end',\n",
       "  'type': 'backend',\n",
       "  'topic': 'llama2-7b-01',\n",
       "  'date': '2023-08-08 11:49:36'}]"
      ]
     },
     "execution_count": 155,
     "metadata": {},
     "output_type": "execute_result"
    }
   ],
   "source": [
    "get_last_n_messages(2,topic='jobs',group_id='test-consumer')"
   ]
  },
  {
   "cell_type": "code",
   "execution_count": 150,
   "id": "e57231ca-33b5-45ed-ae2c-205e0f45c199",
   "metadata": {
    "tags": []
   },
   "outputs": [
    {
     "name": "stdout",
     "output_type": "stream",
     "text": [
      "none\n"
     ]
    },
    {
     "data": {
      "text/plain": [
       "[{'answer': \" Certainly, I'd be happy to help! iPaaS stands for Integration Platform as a Service. It's a cloud-based platform that enables organizations to integrate their applications, data, and systems with each other and with external systems, such as APIs, cloud services, and on-premises systems.\\n\\nWith iPaaS, organizations can connect their applications and systems in a flexible, scalable, and secure manner, without the need for complex and expensive hardware or software installations. This allows them to streamline their business processes, improve their bottom line, and gain a competitive edge in their industry.\\n\\nNow, can you tell me more about your experience with SEEBURGER's iPaaS solution? What specific features or benefits have you found most valuable in your work with the platform?\",\n",
       "  'id': '202308-0811-2550-9c50082e-f4ee-45eb-a8f1-36a48b2bddf1',\n",
       "  'time': 16},\n",
       " {'action': 'stop'}]"
      ]
     },
     "execution_count": 150,
     "metadata": {},
     "output_type": "execute_result"
    }
   ],
   "source": [
    "#topic = 'llama2-7b-01'\n",
    "topic = 'llama2-13b-01'\n",
    "get_last_n_messages(2,topic=topic,group_id='test-consumer')"
   ]
  },
  {
   "cell_type": "code",
   "execution_count": 77,
   "id": "5c9092aa-0608-4660-bd7d-c8ea66ec054b",
   "metadata": {
    "tags": []
   },
   "outputs": [
    {
     "name": "stdout",
     "output_type": "stream",
     "text": [
      "none\n"
     ]
    },
    {
     "ename": "KeyError",
     "evalue": "'instruction'",
     "output_type": "error",
     "traceback": [
      "\u001b[0;31m---------------------------------------------------------------------------\u001b[0m",
      "\u001b[0;31mKeyError\u001b[0m                                  Traceback (most recent call last)",
      "Cell \u001b[0;32mIn[77], line 1\u001b[0m\n\u001b[0;32m----> 1\u001b[0m \u001b[38;5;28minput\u001b[39m \u001b[38;5;241m=\u001b[39m \u001b[43mget_last_n_messages\u001b[49m\u001b[43m(\u001b[49m\u001b[38;5;241;43m2\u001b[39;49m\u001b[43m,\u001b[49m\u001b[43mtopic\u001b[49m\u001b[38;5;241;43m=\u001b[39;49m\u001b[43mtopic\u001b[49m\u001b[43m,\u001b[49m\u001b[43mgroup_id\u001b[49m\u001b[38;5;241;43m=\u001b[39;49m\u001b[38;5;124;43m'\u001b[39;49m\u001b[38;5;124;43mtest-consumer\u001b[39;49m\u001b[38;5;124;43m'\u001b[39;49m\u001b[43m)\u001b[49m\u001b[43m[\u001b[49m\u001b[38;5;241;43m0\u001b[39;49m\u001b[43m]\u001b[49m\u001b[43m[\u001b[49m\u001b[38;5;124;43m'\u001b[39;49m\u001b[38;5;124;43minstruction\u001b[39;49m\u001b[38;5;124;43m'\u001b[39;49m\u001b[43m]\u001b[49m\n\u001b[1;32m      2\u001b[0m ast\u001b[38;5;241m.\u001b[39mliteral_eval(\u001b[38;5;28minput\u001b[39m)\n",
      "\u001b[0;31mKeyError\u001b[0m: 'instruction'"
     ]
    }
   ],
   "source": [
    "input = get_last_n_messages(2,topic=topic,group_id='test-consumer')[0]['instruction']\n",
    "ast.literal_eval(input)"
   ]
  },
  {
   "cell_type": "code",
   "execution_count": 85,
   "id": "5b858935-ecc4-45c8-9e8b-225bcc3dc191",
   "metadata": {
    "tags": []
   },
   "outputs": [
    {
     "name": "stdout",
     "output_type": "stream",
     "text": [
      "none\n",
      "{'message': <class 'str'>, 'history_with_input': <class 'list'>, 'system_prompt': <class 'str'>, 'max_new_tokens': <class 'int'>, 'temperature': <class 'int'>, 'top_p': <class 'float'>, 'top_k': <class 'int'>, '_dict': <class 'dict'>}\n"
     ]
    }
   ],
   "source": [
    "import ast\n",
    "_str = get_last_n_messages(1,topic=topic,group_id='test-consumer')[0]['instruction']\n",
    "generate(*ast.literal_eval(_str))"
   ]
  },
  {
   "cell_type": "code",
   "execution_count": 86,
   "id": "fadd7034-377c-42aa-9fe4-1844ed33c137",
   "metadata": {
    "tags": []
   },
   "outputs": [
    {
     "name": "stdout",
     "output_type": "stream",
     "text": [
      "message: <class 'str'>\n",
      "history_with_input: list[tuple[str, str]]\n",
      "system_prompt: <class 'str'>\n",
      "max_new_tokens: <class 'int'>\n",
      "temperature: <class 'float'>\n",
      "top_p: <class 'float'>\n",
      "top_k: <class 'int'>\n"
     ]
    }
   ],
   "source": [
    "from typing import get_type_hints\n",
    "\n",
    "def generate(\n",
    "    message: str,\n",
    "    history_with_input: list[tuple[str, str]],\n",
    "    system_prompt: str,\n",
    "    max_new_tokens: int,\n",
    "    temperature: float,\n",
    "    top_p: float,\n",
    "    top_k: int,\n",
    "):\n",
    "    #_dict = { key:item for key,item in locals().items()}\n",
    "    _dict = { key:type(item) for key,item in locals().items()}\n",
    "    print(_dict)\n",
    "    \n",
    "type_hints = get_type_hints(generate)\n",
    "\n",
    "# Print the defined types\n",
    "for parameter, parameter_type in type_hints.items():\n",
    "    print(f\"{parameter}: {parameter_type}\")    "
   ]
  },
  {
   "cell_type": "code",
   "execution_count": 91,
   "id": "53cc9643-98d4-4635-aa48-844bd2048128",
   "metadata": {
    "tags": []
   },
   "outputs": [
    {
     "data": {
      "text/plain": [
       "[]"
      ]
     },
     "execution_count": 91,
     "metadata": {},
     "output_type": "execute_result"
    }
   ],
   "source": [
    "ast.literal_eval(_str)[1]"
   ]
  },
  {
   "cell_type": "markdown",
   "id": "1aab4388-a211-418d-b534-2d157899e7d3",
   "metadata": {},
   "source": [
    "# send question"
   ]
  },
  {
   "cell_type": "code",
   "execution_count": 7,
   "id": "eb2b9e64-2695-4863-bf87-6462fa3df2c0",
   "metadata": {
    "tags": []
   },
   "outputs": [
    {
     "data": {
      "text/plain": [
       "{'id': '202307-2808-5047-291e768b-321b-4b49-b89e-ee3a2d6ac081',\n",
       " 'instruction': '[\\'What is iPaaS (Integration Platform as a Service)\\', [], \"You are a helpful, respectful and honest assistant. Always answer as helpfully as possible, while being safe.  Your answers should not include any harmful, unethical, racist, sexist, toxic, dangerous, or illegal content. Please ensure that your responses are socially unbiased and positive in nature.\\\\n\\\\nIf a question does not make any sense, or is not factually coherent, explain why instead of answering something not correct. If you don\\'t know the answer to a question, please don\\'t share false information.\", 1024, 1, 0.95, 50]'}"
      ]
     },
     "execution_count": 7,
     "metadata": {},
     "output_type": "execute_result"
    }
   ],
   "source": [
    "import ast\n",
    "input= ['What is iPaaS (Integration Platform as a Service)', [], \"You are a helpful, respectful and honest assistant. Always answer as helpfully as possible, while being safe.  Your answers should not include any harmful, unethical, racist, sexist, toxic, dangerous, or illegal content. Please ensure that your responses are socially unbiased and positive in nature.\\n\\nIf a question does not make any sense, or is not factually coherent, explain why instead of answering something not correct. If you don't know the answer to a question, please don't share false information.\", 1024, 1, 0.95, 50]\n",
    "_str = str(input)\n",
    "ast.literal_eval(_str)\n",
    "\n",
    "question = create_question_message(question=_str)\n",
    "send_to_topic(question,topic)\n",
    "id = question['id']\n",
    "question"
   ]
  },
  {
   "cell_type": "code",
   "execution_count": 6,
   "id": "a345603b-2a6e-4901-8a2b-a402e11dc206",
   "metadata": {},
   "outputs": [
    {
     "data": {
      "text/plain": [
       "{'id': '202307-2808-4906-581b62b6-0d21-4546-9376-ada906f6d70e',\n",
       " 'instruction': '[\\'What is iPaaS (Integration Platform as a Service)\\', [], \"You are a helpful, respectful and honest assistant. Always answer as helpfully as possible, while being safe.  Your answers should not include any harmful, unethical, racist, sexist, toxic, dangerous, or illegal content. Please ensure that your responses are socially unbiased and positive in nature.\\\\n\\\\nIf a question does not make any sense, or is not factually coherent, explain why instead of answering something not correct. If you don\\'t know the answer to a question, please don\\'t share false information.\", 1024, 1, 0.95, 50]'}"
      ]
     },
     "execution_count": 6,
     "metadata": {},
     "output_type": "execute_result"
    }
   ],
   "source": [
    "question"
   ]
  },
  {
   "cell_type": "code",
   "execution_count": 26,
   "id": "1a8dc1a0-1fe0-456c-8b9c-4f9ad56b2f9d",
   "metadata": {
    "tags": []
   },
   "outputs": [],
   "source": [
    "send_to_topic({'actionb':'stop'},'test-topic')"
   ]
  },
  {
   "cell_type": "code",
   "execution_count": 28,
   "id": "c3d80d2a-1d88-4b85-a877-da3b5b412d83",
   "metadata": {
    "tags": []
   },
   "outputs": [
    {
     "name": "stdout",
     "output_type": "stream",
     "text": [
      "none\n"
     ]
    },
    {
     "data": {
      "text/plain": [
       "[{'actionb': 'stop'}]"
      ]
     },
     "execution_count": 28,
     "metadata": {},
     "output_type": "execute_result"
    }
   ],
   "source": [
    "messages = get_last_n_messages(1,topic='test-topic',group_id='my-consumer-qra')    \n",
    "message = messages[0]\n",
    "messages"
   ]
  },
  {
   "cell_type": "code",
   "execution_count": null,
   "id": "171a2313-b46a-45ee-8d99-6149946f1a0b",
   "metadata": {},
   "outputs": [],
   "source": []
  },
  {
   "cell_type": "code",
   "execution_count": 9,
   "id": "b2b971cc-e3f5-4ba9-a6de-d724f06563f7",
   "metadata": {},
   "outputs": [
    {
     "name": "stdout",
     "output_type": "stream",
     "text": [
      "none\n"
     ]
    },
    {
     "data": {
      "text/plain": [
       "[{'id': '202307-1115-5607-91ce7ece-a1e2-4b95-a051-015654c7a6ac',\n",
       "  'name': 'qr',\n",
       "  'status': 'start',\n",
       "  'type': 'backend',\n",
       "  'date': '2023-07-11 15:56:07'},\n",
       " {'id': '202307-1115-5607-91ce7ece-a1e2-4b95-a051-015654c7a6ac',\n",
       "  'name': 'qr',\n",
       "  'status': 'end',\n",
       "  'type': 'backend',\n",
       "  'date': '2023-07-12 09:26:16'}]"
      ]
     },
     "execution_count": 9,
     "metadata": {},
     "output_type": "execute_result"
    }
   ],
   "source": [
    "messages = get_last_n_messages(2,topic='jobs',group_id='my-consumer-qra')    \n",
    "message = messages[0]\n",
    "messages"
   ]
  },
  {
   "cell_type": "code",
   "execution_count": 5,
   "id": "8e6e76a4-affe-4e68-be78-7c7ee4d4e306",
   "metadata": {},
   "outputs": [
    {
     "data": {
      "text/plain": [
       "{'id': '202307-1115-4839-29fc7946-9351-4aab-87d6-351a65645dc7',\n",
       " 'name': 'qr',\n",
       " 'status': 'start',\n",
       " 'type': 'backend',\n",
       " 'date': '2023-07-11 15:52:05'}"
      ]
     },
     "execution_count": 5,
     "metadata": {},
     "output_type": "execute_result"
    }
   ],
   "source": [
    "msg = create_status_message(type='backend',status='start',name='qr')\n",
    "msg"
   ]
  },
  {
   "cell_type": "code",
   "execution_count": 7,
   "id": "27c9281e-87b6-41f3-861d-02b30355dda3",
   "metadata": {
    "tags": []
   },
   "outputs": [],
   "source": [
    "#topic = 'qr-01'\n",
    "send_to_topic({'action':'stop'},'qr-01')"
   ]
  },
  {
   "cell_type": "code",
   "execution_count": 10,
   "id": "5bcd57e2-ed6e-45f8-8dae-33c1fe399885",
   "metadata": {
    "tags": []
   },
   "outputs": [],
   "source": [
    "group = 'g-test-1'\n",
    "topic = 'llama2-7b-01'"
   ]
  },
  {
   "cell_type": "code",
   "execution_count": 30,
   "id": "8dc812c5-0bb1-4e03-9c25-fe25a324109d",
   "metadata": {
    "tags": []
   },
   "outputs": [
    {
     "name": "stdout",
     "output_type": "stream",
     "text": [
      "none\n"
     ]
    },
    {
     "data": {
      "text/plain": [
       "('202307-2814-0103-e09a74c1-c68d-498c-8640-9dce529ced01',\n",
       " '202307-2814-0103-e09a74c1-c68d-498c-8640-9dce529ced01')"
      ]
     },
     "execution_count": 30,
     "metadata": {},
     "output_type": "execute_result"
    }
   ],
   "source": [
    "messages = get_last_n_messages(2,topic=topic,group_id=group)    \n",
    "messages[0]['id'],messages[1]['id']"
   ]
  },
  {
   "cell_type": "code",
   "execution_count": 31,
   "id": "57ca946f-bcef-47ce-88e0-f09a73c89d84",
   "metadata": {
    "tags": []
   },
   "outputs": [
    {
     "name": "stdout",
     "output_type": "stream",
     "text": [
      "none\n"
     ]
    },
    {
     "data": {
      "text/plain": [
       "{'answer': '(\\'\\', [(\\'What is iPaaS (Integration Platform as a Service)\\', \" Hello! I\\'m here to help you with your question. iPaaS (Integration Platform as a Service) is a cloud-based platform that enables organizations to integrate their applications, data, and services with ease. It provides a centralized and standardized integration environment that enables organizations to connect their applications, APIs, and data sources, and automate the flow of data and processes across these systems.\\\\niPaaS platforms offer a variety of benefits, including:\\\\n1. Easy integration: iPaaS platforms provide a simple and intuitive interface for integrating applications, data, and services, without the need for complex coding or programming.\\\\n2. Scalability: iPaaS platforms are designed to handle large volumes of data and traffic, making them scalable to meet the needs of growing organizations.\\\\n3. Flexibility: iPaaS platforms offer a wide range of integration options, including real-time, batch, and file-based integration, as well as support for a variety of protocols and formats.\\\\n4. Security: iPaaS platforms provide robust security features, such as encryption, authentication, and access control, to ensure the integrity and security of data during integration.\\\\n5. Low cost: iPaaS platforms are typically offered on a subscription basis, making them a cost-effective solution for organizations of all sizes.\\\\n\\\\nOverall, iPaaS platforms provide a powerful and flexible solution for organizations looking to integrate their applications, data, and services in the cloud. However, it\\'s important to note that not all iPaaS platforms are created equal, and organizations should carefully evaluate their options before selecting a platform that best meets their needs.\\\\nI hope this helps! If you have any further questions, please don\\'t hesitate to ask.\")])',\n",
       " 'id': '202307-2814-0103-e09a74c1-c68d-498c-8640-9dce529ced01',\n",
       " 'time': 1.0}"
      ]
     },
     "execution_count": 31,
     "metadata": {},
     "output_type": "execute_result"
    }
   ],
   "source": [
    "messages = get_last_n_messages(1,topic=topic,group_id=group)    \n",
    "message = messages[0]\n",
    "message"
   ]
  },
  {
   "cell_type": "code",
   "execution_count": 33,
   "id": "876b2b34-9039-4e4b-aaca-493445de896f",
   "metadata": {
    "tags": []
   },
   "outputs": [
    {
     "data": {
      "text/plain": [
       "('',\n",
       " [('What is iPaaS (Integration Platform as a Service)',\n",
       "   \" Hello! I'm here to help you with your question. iPaaS (Integration Platform as a Service) is a cloud-based platform that enables organizations to integrate their applications, data, and services with ease. It provides a centralized and standardized integration environment that enables organizations to connect their applications, APIs, and data sources, and automate the flow of data and processes across these systems.\\niPaaS platforms offer a variety of benefits, including:\\n1. Easy integration: iPaaS platforms provide a simple and intuitive interface for integrating applications, data, and services, without the need for complex coding or programming.\\n2. Scalability: iPaaS platforms are designed to handle large volumes of data and traffic, making them scalable to meet the needs of growing organizations.\\n3. Flexibility: iPaaS platforms offer a wide range of integration options, including real-time, batch, and file-based integration, as well as support for a variety of protocols and formats.\\n4. Security: iPaaS platforms provide robust security features, such as encryption, authentication, and access control, to ensure the integrity and security of data during integration.\\n5. Low cost: iPaaS platforms are typically offered on a subscription basis, making them a cost-effective solution for organizations of all sizes.\\n\\nOverall, iPaaS platforms provide a powerful and flexible solution for organizations looking to integrate their applications, data, and services in the cloud. However, it's important to note that not all iPaaS platforms are created equal, and organizations should carefully evaluate their options before selecting a platform that best meets their needs.\\nI hope this helps! If you have any further questions, please don't hesitate to ask.\")])"
      ]
     },
     "execution_count": 33,
     "metadata": {},
     "output_type": "execute_result"
    }
   ],
   "source": [
    "ast.literal_eval(message['answer'])"
   ]
  },
  {
   "cell_type": "code",
   "execution_count": 24,
   "id": "09d6e4e3-abdd-4e03-8200-dfa0c0f822f7",
   "metadata": {
    "tags": []
   },
   "outputs": [
    {
     "data": {
      "text/plain": [
       "['Explain the plot of Cinderella in a sentence.',\n",
       " [['Hello there! How are you doing?', '']],\n",
       " \"You are a helpful, respectful and honest assistant. Always answer as helpfully as possible, while being safe.  Your answers should not include any harmful, unethical, racist, sexist, toxic, dangerous, or illegal content. Please ensure that your responses are socially unbiased and positive in nature.\\n\\nIf a question does not make any sense, or is not factually coherent, explain why instead of answering something not correct. If you don't know the answer to a question, please don't share false information.\",\n",
       " 1024,\n",
       " 1,\n",
       " 0.95,\n",
       " 50]"
      ]
     },
     "execution_count": 24,
     "metadata": {},
     "output_type": "execute_result"
    }
   ],
   "source": [
    "dict_str = message['instruction']\n",
    "value = ast.literal_eval(dict_str)\n",
    "value"
   ]
  },
  {
   "cell_type": "code",
   "execution_count": 14,
   "id": "05345abb-1f9a-4ecd-876e-1954832445a6",
   "metadata": {
    "tags": []
   },
   "outputs": [
    {
     "data": {
      "text/plain": [
       "True"
      ]
     },
     "execution_count": 14,
     "metadata": {},
     "output_type": "execute_result"
    }
   ],
   "source": [
    "'action' in message.keys()"
   ]
  },
  {
   "cell_type": "code",
   "execution_count": null,
   "id": "48c7e940-0cde-4b69-a2e2-e00f371be39d",
   "metadata": {
    "tags": []
   },
   "outputs": [],
   "source": [
    "img_str = base64_encode_pil_image(image)\n",
    "answer = create_answer_message (answer=img_str,id=id,time=1.0)\n",
    "send_to_topic(answer,topic)"
   ]
  },
  {
   "cell_type": "code",
   "execution_count": null,
   "id": "a5489354-58aa-4466-9511-86d6076d7cf4",
   "metadata": {
    "tags": []
   },
   "outputs": [],
   "source": [
    "messages[0]"
   ]
  },
  {
   "cell_type": "code",
   "execution_count": null,
   "id": "d156f13e-e406-48cb-a8e6-c835ff7163fb",
   "metadata": {
    "tags": []
   },
   "outputs": [],
   "source": [
    "%run kafka.ipynb\n",
    "group = 'g-test-1'\n",
    "topic = 'qr-01'\n",
    "messages = get_last_n_messages(1,topic=topic,group_id='my-consumer-qr')    \n",
    "message = messages[0]\n",
    "message"
   ]
  },
  {
   "cell_type": "code",
   "execution_count": null,
   "id": "16a2bcc9-eb51-4f22-b999-9058c52ee6d9",
   "metadata": {},
   "outputs": [],
   "source": []
  },
  {
   "cell_type": "markdown",
   "id": "9b99579f-74be-44b7-b8a6-a247ac30b342",
   "metadata": {},
   "source": [
    "# decode answer"
   ]
  },
  {
   "cell_type": "code",
   "execution_count": null,
   "id": "2f3990f5-e743-4462-afe9-9face9b3b27a",
   "metadata": {
    "tags": []
   },
   "outputs": [],
   "source": [
    "messages = get_last_n_messages(1,topic=topic,group_id='my-consumer-qr')    \n",
    "message = messages[0]\n",
    "message.keys()"
   ]
  },
  {
   "cell_type": "code",
   "execution_count": null,
   "id": "c3388ace-cae7-43ed-af22-052185786c73",
   "metadata": {
    "tags": []
   },
   "outputs": [],
   "source": [
    "messages = get_last_n_messages(1,topic=topic,group_id='my-consumer-qr')    \n",
    "message = messages[0]\n",
    "if 'answer' in message.keys():\n",
    "    image = base64_decode_pil_image(message['answer'])\n",
    "    display(image)"
   ]
  },
  {
   "cell_type": "code",
   "execution_count": null,
   "id": "29521c32-220b-485f-9528-093983564e11",
   "metadata": {
    "tags": []
   },
   "outputs": [],
   "source": [
    "#messages[0]\n",
    "#len(messages)"
   ]
  },
  {
   "cell_type": "markdown",
   "id": "dfbedb7f-25ee-4954-997c-f7fa80f66a9a",
   "metadata": {},
   "source": [
    "# init"
   ]
  },
  {
   "cell_type": "code",
   "execution_count": 2,
   "id": "35e5fb20-eda3-4c86-8fde-6a7ed89bb1ea",
   "metadata": {
    "tags": []
   },
   "outputs": [],
   "source": [
    "%run kafka.ipynb\n",
    "group = 'g-qr-2'\n",
    "topic = 'qr-01'"
   ]
  },
  {
   "cell_type": "markdown",
   "id": "65a319bd-1484-4be3-ba2e-c4bc029584fa",
   "metadata": {},
   "source": [
    "# wait for answer"
   ]
  },
  {
   "cell_type": "code",
   "execution_count": 4,
   "id": "91bbe487-18aa-40f7-b509-11802e14dc33",
   "metadata": {
    "tags": []
   },
   "outputs": [],
   "source": [
    "id = '202307-0708-3319-7be170ce-dd07-4143-9472-a7acf7e3ed63'    \n",
    "consumer = create_and_subscribe_consumer(group = group,topic = topic)   "
   ]
  },
  {
   "cell_type": "code",
   "execution_count": 7,
   "id": "86f1ade5-c4c9-474a-9f82-dd39220162b5",
   "metadata": {
    "tags": []
   },
   "outputs": [
    {
     "data": {
      "image/png": "[encoded data removed]",
      "text/plain": [
       "<PIL.JpegImagePlugin.JpegImageFile image mode=RGB size=768x768>"
      ]
     },
     "execution_count": 7,
     "metadata": {},
     "output_type": "execute_result"
    }
   ],
   "source": [
    "\n",
    "            \n",
    "get_response_image(consumer,topic=topic,key='answer',id=id)"
   ]
  },
  {
   "cell_type": "code",
   "execution_count": null,
   "id": "038e751e-6564-42c6-a59e-0e5646cd05cb",
   "metadata": {},
   "outputs": [],
   "source": [
    "_id = msg['id']\n",
    "\n",
    "def get_response(consumer,topic=None,id=None,key='answer'):\n",
    "    while True:\n",
    "        message = consumer.poll(120.0)\n",
    "        if not message or  message.error():\n",
    "            continue\n",
    "                \n",
    "        dict_str = message.value().decode('utf-8')\n",
    "        value = ast.literal_eval(dict_str)\n",
    "        if (value['id'] == _id):\n",
    "            #messages.append(message)\n",
    "            if key in value.keys():\n",
    "                dt2 = datetime.now()\n",
    "                time = (dt2 - dt1).seconds\n",
    "                msg = {'id':_id, 'time':time}\n",
    "                byte_str = dict_to_byte_str(msg)   \n",
    "                send_to_topic(byte_str,'test-topic')\n",
    "    \n",
    "                return(value['answer'])"
   ]
  }
 ],
 "metadata": {
  "kernelspec": {
   "display_name": "Python 3 (ipykernel)",
   "language": "python",
   "name": "python3"
  },
  "language_info": {
   "codemirror_mode": {
    "name": "ipython",
    "version": 3
   },
   "file_extension": ".py",
   "mimetype": "text/x-python",
   "name": "python",
   "nbconvert_exporter": "python",
   "pygments_lexer": "ipython3",
   "version": "3.10.10"
  }
 },
 "nbformat": 4,
 "nbformat_minor": 5
}
