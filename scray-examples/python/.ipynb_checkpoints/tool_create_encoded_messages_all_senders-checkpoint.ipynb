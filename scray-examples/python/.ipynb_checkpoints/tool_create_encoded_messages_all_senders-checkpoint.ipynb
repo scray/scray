{
 "cells": [
  {
   "cell_type": "code",
   "execution_count": null,
   "id": "8dcfbe43-5c39-4b9e-8587-40ad13b4f434",
   "metadata": {},
   "outputs": [],
   "source": []
  },
  {
   "cell_type": "markdown",
   "id": "702826e7-1bed-4e54-826d-f5ac89d706b0",
   "metadata": {},
   "source": [
    "# Main"
   ]
  },
  {
   "cell_type": "code",
   "execution_count": 1,
   "id": "9c9fdb62-1ec5-4e68-b9f2-9131041ebb86",
   "metadata": {},
   "outputs": [],
   "source": [
    "import dfBasics\n",
    "import common\n",
    "import encoder\n",
    "import pfAdapt\n",
    "#import charts"
   ]
  },
  {
   "cell_type": "code",
   "execution_count": 2,
   "id": "8333c020-913d-4d53-a868-2ccb67071a33",
   "metadata": {},
   "outputs": [],
   "source": [
    "import pandas as pd\n",
    "from pyspark.sql import functions"
   ]
  },
  {
   "cell_type": "code",
   "execution_count": 7,
   "id": "d4af20e4-8cc2-4b2c-b4ea-c4dd01776f5d",
   "metadata": {},
   "outputs": [],
   "source": [
    "columns = ['CGLOBALMESSAGEID', 'CSTARTTIME', 'CENDTIME', 'CSTATUS', 'CSERVICE',\\\n",
    "       'CSLABILLINGMONTH', 'CSENDERPROTOCOL', 'CSENDERENDPOINTID',\\\n",
    "       'CINBOUNDSIZE', 'CRECEIVERPROTOCOL', 'CRECEIVERENDPOINTID', 'CSLATAT',\\\n",
    "       'CMESSAGETAT2', 'CSLADELIVERYTIME']\n",
    "# withot 'CSLABILLINGMONTH'\n",
    "def get_columns_2():\n",
    "    columns = ['CGLOBALMESSAGEID', 'CSTARTTIME', 'CENDTIME', 'CSTATUS', 'CSERVICE',\\\n",
    "            'CSENDERPROTOCOL', 'CSENDERENDPOINTID',\\\n",
    "           'CINBOUNDSIZE', 'CRECEIVERPROTOCOL', 'CRECEIVERENDPOINTID', 'CSLATAT',\\\n",
    "           'CMESSAGETAT2', 'CSLADELIVERYTIME']\n",
    "    return columns\n",
    "\n",
    "columns = ['CGLOBALMESSAGEID',  'CSTARTTIME', 'CENDTIME', 'CSTATUS', 'CSERVICE', 'CSENDERENDPOINTID', 'CSENDERPROTOCOL', 'CINBOUNDSIZE', 'CRECEIVERPROTOCOL', 'CRECEIVERENDPOINTID', 'CSLATAT', 'CMESSAGETAT2', 'CSLADELIVERYTIME']\n",
    "     \n",
    "\n",
    "#columns = get_columns_2()\n",
    "#to count messages sent\n",
    "#columns = [ 'CSTARTTIME', 'CSENDERENDPOINTID']"
   ]
  },
  {
   "cell_type": "code",
   "execution_count": 8,
   "id": "9e9aa448-41a4-4388-9f02-a9c5a8590d4a",
   "metadata": {
    "tags": []
   },
   "outputs": [],
   "source": [
    "sparkSession = dfBasics.getSparkSession()"
   ]
  },
  {
   "cell_type": "markdown",
   "id": "0e89f1ca-13d8-4e7f-a497-c9f64e7279c5",
   "metadata": {},
   "source": [
    "## encode columns"
   ]
  },
  {
   "cell_type": "code",
   "execution_count": 9,
   "id": "600d73de-4473-4c6c-aff8-419b4096acb4",
   "metadata": {},
   "outputs": [],
   "source": [
    "#df = sparkSession.read.parquet(\"/tmp/sla.parquet\")\n",
    "df = sparkSession.read.parquet('hdfs://172.30.17.145:8020/sla_sql_data/*/*').select(columns).dropDuplicates() \n",
    "#senders = pd.read_parquet('/tmp/senders' + '.parquet', engine='pyarrow')"
   ]
  },
  {
   "cell_type": "code",
   "execution_count": 10,
   "id": "780f48aa-3c0d-4ee0-8127-59c1ed53cef2",
   "metadata": {},
   "outputs": [],
   "source": [
    "from pyspark.sql.functions import udf\n",
    "from pyspark.sql.types import StringType\n",
    "\n",
    "def transform(value):\n",
    "    return int( _encoder.transform([value])[0])\n",
    "    \n",
    "udf_transform = udf(lambda z: transform(z), StringType())\n",
    "\n",
    "#df2.withColumn(\"CSENDERENDPOINTID\", str( _encoder.transform([df2.CSENDERENDPOINTID])[0])) \n",
    "#df2 = df2.withColumn(\"CSENDERENDPOINTID\", udf_transform(df2.CSENDERENDPOINTID)) "
   ]
  },
  {
   "cell_type": "code",
   "execution_count": 11,
   "id": "eb3de88c-f153-47fa-8fa8-924e17909df0",
   "metadata": {},
   "outputs": [],
   "source": [
    "senders = sparkSession.read.parquet(\"/tmp/senders.parquet\")\n",
    "senders = list(senders.toPandas()['CSENDERENDPOINTID'])"
   ]
  },
  {
   "cell_type": "code",
   "execution_count": 12,
   "id": "5b5fc0ac-1d10-47c8-b402-6984725821fe",
   "metadata": {},
   "outputs": [],
   "source": [
    "def get_columns(df):\n",
    "    columns = list(df.limit(1).toPandas().columns)\n",
    "    columns.remove('CGLOBALMESSAGEID')\n",
    "    columns.remove('CSLATAT')\n",
    "    columns.remove('CMESSAGETAT2') \n",
    "    columns.remove('CSLADELIVERYTIME')\n",
    "    columns.remove('CINBOUNDSIZE')\n",
    "    columns.remove('CSTARTTIME')\n",
    "    columns.remove('CENDTIME')\n",
    "    return columns"
   ]
  },
  {
   "cell_type": "code",
   "execution_count": 13,
   "id": "4c4c357e-0863-4b69-84cb-ad4d93200dec",
   "metadata": {},
   "outputs": [],
   "source": [
    "from datetime import time\n",
    "import datetime as dt\n",
    "import calendar\n",
    "import pytz\n",
    "de = pytz.timezone('Europe/Berlin')\n",
    "from pyspark.sql.types import IntegerType\n",
    "\n",
    "# long timestamp\n",
    "def date(x):\n",
    "    return  dt.datetime.fromtimestamp(float(x) / 1e3, tz=de)\n",
    "\n",
    "udf_add_year = udf(lambda z: date(z).date().year, IntegerType())\n",
    "udf_add_month = udf(lambda z: date(z).date().month, IntegerType())\n",
    "udf_add_day = udf(lambda z: date(z).date().day, IntegerType())\n",
    "udf_add_hour = udf(lambda z: date(z).time().hour, IntegerType())\n",
    "udf_add_minute = udf(lambda z: date(z).time().minute, IntegerType())\n",
    "udf_add_minute = udf(lambda z: date(z).time().minute, IntegerType())"
   ]
  },
  {
   "cell_type": "code",
   "execution_count": 14,
   "id": "1c142099-bc0d-497c-9484-94dbd6733e83",
   "metadata": {},
   "outputs": [],
   "source": [
    "import numpy as np\n",
    "import encoder\n",
    "from pyspark.sql.functions import col\n",
    "\n",
    "def encode_columns_spark(dataframe=None,columns=None, npy='/home/jovyan/work/npy'):\n",
    "    for column in columns:\n",
    "        global _encoder\n",
    "        #print (column)\n",
    "        _encoder = encoder.TolerantLabelEncoder(ignore_unknown=True)\n",
    "        _encoder.classes_ = np.load(npy + '/' + column + '.npy')\n",
    "        #dataall[column] = _encoder.transform(dataall[column]) \n",
    "        udf_transform = udf(lambda z: transform(z), StringType())\n",
    "        dataframe=dataframe.withColumn(column, udf_transform(col(column)).cast(\"Integer\"))\n",
    "        #df3.head()\n",
    "    return dataframe"
   ]
  },
  {
   "cell_type": "code",
   "execution_count": 15,
   "id": "cf53fe5f-81aa-46a3-aa07-086c63778f0a",
   "metadata": {},
   "outputs": [],
   "source": [
    "def cast_spark_columns(dataframe=None,columns=[],type=\"int\" ):\n",
    "    for column in columns:\n",
    "        dataframe = dataframe.withColumn(column, col(column).cast(type))\n",
    "    return dataframe    "
   ]
  },
  {
   "cell_type": "code",
   "execution_count": 16,
   "id": "31cd5047-f880-4358-9c9e-5aa399fcedea",
   "metadata": {},
   "outputs": [],
   "source": [
    "def process(sender=None, dataframe=None):\n",
    "    df3 = dataframe.where(f.col(\"CSENDERENDPOINTID\").isin([sender]))\n",
    "    df3 = encode_columns_spark(dataframe=df3,columns=columns)\n",
    "    df3 = df3.withColumn(\"year\", udf_add_year(df3.CSTARTTIME)).withColumn(\"month\", udf_add_month(df3.CSTARTTIME)).withColumn(\"day\", udf_add_day(df3.CSTARTTIME)).withColumn(\"hour\", udf_add_hour(df3.CSTARTTIME)).withColumn(\"minute\", udf_add_minute(df3.CSTARTTIME)) \n",
    "    df3=cast_spark_columns(dataframe=df3, columns=['CSTARTTIME', 'CENDTIME','CINBOUNDSIZE','CSLATAT','CMESSAGETAT2','CSLADELIVERYTIME'], type='long')\n",
    "    return df3"
   ]
  },
  {
   "cell_type": "code",
   "execution_count": 17,
   "id": "a6773f62-015a-4a9f-a5f4-8579f104d705",
   "metadata": {},
   "outputs": [],
   "source": [
    "np_load_old = np.load\n",
    "\n",
    "# modify the default parameters of np.load\n",
    "np.load = lambda *a,**k: np_load_old(*a, allow_pickle=True, **k)\n",
    "\n",
    "# restore np.load for future normal usage\n",
    "#np.load = np_load_old"
   ]
  },
  {
   "cell_type": "code",
   "execution_count": 18,
   "id": "c8aa1627-ad77-48ce-928b-81e01e1f06bf",
   "metadata": {},
   "outputs": [],
   "source": [
    "#import pyspark.sql.functions as f\n",
    "#ender = senders[0]\n",
    "#df4 = process(sender=sender,dataframe=df)\n",
    "#df4.head()\n",
    "#!mkdir /tmp/enc"
   ]
  },
  {
   "cell_type": "code",
   "execution_count": 19,
   "id": "1905d3df-99b5-45cb-a869-40ef2380fbcb",
   "metadata": {},
   "outputs": [],
   "source": [
    "from os import listdir\n",
    "\n",
    "def listdirectory(path=None,filter='.'):\n",
    "    return [x for x in listdir(path) if not x.startswith(filter)]    \n",
    "\n",
    "_files = listdirectory(path='/tmp/enc')\n",
    "senders = senders[len(_files):]"
   ]
  },
  {
   "cell_type": "code",
   "execution_count": 20,
   "id": "43a68f33-83cb-4564-bf71-9586060a196d",
   "metadata": {},
   "outputs": [],
   "source": [
    "columns = ['CSTATUS','CSERVICE','CSENDERENDPOINTID','CSENDERPROTOCOL','CRECEIVERPROTOCOL','CRECEIVERENDPOINTID']\n"
   ]
  },
  {
   "cell_type": "code",
   "execution_count": 21,
   "id": "b27fd457-9008-4f4a-96c5-778aad89e250",
   "metadata": {},
   "outputs": [],
   "source": [
    "#import pyspark.sql.functions as f\n",
    "#sender = senders[0]\n",
    "#df4 = process(sender=sender,dataframe=df)\n",
    "#df4.write.mode(\"overwrite\").parquet(\"/tmp/enc/sla_enc_\" + sender + \".parquet\")"
   ]
  },
  {
   "cell_type": "code",
   "execution_count": 23,
   "id": "56ed84ed-493a-478d-a60e-fc63397c97e3",
   "metadata": {},
   "outputs": [],
   "source": [
    "#!ls /tmp/enc/"
   ]
  },
  {
   "cell_type": "code",
   "execution_count": null,
   "id": "ed4b9a78-f9e6-4f52-9e52-cfbc61295825",
   "metadata": {},
   "outputs": [],
   "source": [
    "import pyspark.sql.functions as f\n",
    "#sender = senders[0]\n",
    "#senders=senders[24:]\n",
    "for sender in senders:\n",
    "    df4 = process(sender=sender,dataframe=df)\n",
    "    df4.write.mode(\"overwrite\").parquet(\"/tmp/enc/sla_enc_\" + sender + \".parquet\")"
   ]
  }
 ],
 "metadata": {
  "kernelspec": {
   "display_name": "Python 3 (ipykernel)",
   "language": "python",
   "name": "python3"
  },
  "language_info": {
   "codemirror_mode": {
    "name": "ipython",
    "version": 3
   },
   "file_extension": ".py",
   "mimetype": "text/x-python",
   "name": "python",
   "nbconvert_exporter": "python",
   "pygments_lexer": "ipython3",
   "version": "3.9.10"
  }
 },
 "nbformat": 4,
 "nbformat_minor": 5
}
