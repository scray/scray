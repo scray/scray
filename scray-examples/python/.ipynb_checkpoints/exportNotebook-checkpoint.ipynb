{
 "cells": [
  {
   "cell_type": "code",
   "execution_count": 3,
   "metadata": {},
   "outputs": [
    {
     "name": "stdout",
     "output_type": "stream",
     "text": [
      "[NbConvertApp] Converting notebook dfBasics.ipynb to script\n",
      "[NbConvertApp] Writing 505 bytes to dfBasics.py\n",
      "[NbConvertApp] Converting notebook encoder.ipynb to script\n",
      "[NbConvertApp] Writing 2874 bytes to encoder.py\n",
      "[NbConvertApp] Converting notebook pfAdapt.ipynb to script\n",
      "[NbConvertApp] Writing 1567 bytes to pfAdapt.py\n",
      "[NbConvertApp] Converting notebook charts.ipynb to script\n",
      "[NbConvertApp] Writing 2221 bytes to charts.py\n",
      "[NbConvertApp] Converting notebook common.ipynb to script\n",
      "[NbConvertApp] Writing 232 bytes to common.py\n",
      "[NbConvertApp] Converting notebook anomaly.ipynb to script\n",
      "[NbConvertApp] Writing 7584 bytes to anomaly.py\n",
      "[NbConvertApp] Converting notebook createMessageSendersParquet.ipynb to script\n",
      "[NbConvertApp] Writing 3109 bytes to createMessageSendersParquet.py\n",
      "[NbConvertApp] Converting notebook encodeSLA.ipynb to script\n",
      "[NbConvertApp] Writing 5913 bytes to encodeSLA.py\n"
     ]
    }
   ],
   "source": [
    "!jupyter nbconvert --to script dfBasics.ipynb\n",
    "!jupyter nbconvert --to script encoder.ipynb\n",
    "!jupyter nbconvert --to script pfAdapt.ipynb\n",
    "!jupyter nbconvert --to script charts.ipynb\n",
    "!jupyter nbconvert --to script common.ipynb\n",
    "!jupyter nbconvert --to script anomaly.ipynb\n",
    "!jupyter nbconvert --to script createMessageSendersParquet.ipynb\n"
   ]
  },
  {
   "cell_type": "code",
   "execution_count": null,
   "metadata": {},
   "outputs": [],
   "source": [
    "!jupyter nbconvert --to script tool_create_encoded_messages_all_senders.ipynb"
   ]
  },
  {
   "cell_type": "code",
   "execution_count": 1,
   "metadata": {},
   "outputs": [
    {
     "name": "stdout",
     "output_type": "stream",
     "text": [
      "[NbConvertApp] Converting notebook createMessageSendersParquet_Encode.ipynb to script\n",
      "[NbConvertApp] Writing 2110 bytes to createMessageSendersParquet_Encode.py\n"
     ]
    }
   ],
   "source": [
    "!jupyter nbconvert --to script createMessageSendersParquet_Encode.ipynb"
   ]
  },
  {
   "cell_type": "code",
   "execution_count": 8,
   "metadata": {},
   "outputs": [
    {
     "name": "stdout",
     "output_type": "stream",
     "text": [
      "[NbConvertApp] Converting notebook encodeSLA.ipynb to script\n",
      "[NbConvertApp] Writing 7051 bytes to encodeSLA.py\n"
     ]
    }
   ],
   "source": [
    "!jupyter nbconvert --to script encodeSLA.ipynb"
   ]
  },
  {
   "cell_type": "code",
   "execution_count": 18,
   "metadata": {},
   "outputs": [
    {
     "name": "stdout",
     "output_type": "stream",
     "text": [
      "[NbConvertApp] Converting notebook process_CSENDERENDPOINTID.ipynb to script\n",
      "[NbConvertApp] Writing 1153 bytes to process_CSENDERENDPOINTID.py\n"
     ]
    }
   ],
   "source": [
    "!jupyter nbconvert --to script process_CSENDERENDPOINTID.ipynb"
   ]
  },
  {
   "cell_type": "code",
   "execution_count": 21,
   "metadata": {},
   "outputs": [
    {
     "name": "stdout",
     "output_type": "stream",
     "text": [
      "[NbConvertApp] Converting notebook AnomalyDetectionLSTMAutoencoder.ipynb to script\n",
      "[NbConvertApp] Writing 8495 bytes to AnomalyDetectionLSTMAutoencoder.py\n"
     ]
    }
   ],
   "source": [
    "!jupyter nbconvert --to script AnomalyDetectionLSTMAutoencoder.ipynb"
   ]
  },
  {
   "cell_type": "code",
   "execution_count": 4,
   "metadata": {},
   "outputs": [
    {
     "name": "stdout",
     "output_type": "stream",
     "text": [
      "/home/jovyan/work/scray/scray-examples/python\n"
     ]
    }
   ],
   "source": [
    "#from notebook import encoder\n",
    "#from encoder.py import encoder\n",
    "#import encoder\n",
    "#from encoder import getEncoder\n",
    "\n",
    "\n",
    "#encoder = encoder.getEncoder('status')\n",
    "#encoder.inverse_transform([3,2,1])\n",
    "!pwd"
   ]
  },
  {
   "cell_type": "code",
   "execution_count": 9,
   "metadata": {},
   "outputs": [
    {
     "name": "stdout",
     "output_type": "stream",
     "text": [
      "[NbConvertApp] Converting notebook encodeSLA.ipynb to script\n",
      "[NbConvertApp] Writing 7197 bytes to encodeSLA.py\n"
     ]
    }
   ],
   "source": [
    "!jupyter nbconvert --to script encodeSLA.ipynb"
   ]
  },
  {
   "cell_type": "code",
   "execution_count": 29,
   "metadata": {},
   "outputs": [
    {
     "name": "stdout",
     "output_type": "stream",
     "text": [
      "[NbConvertApp] Converting notebook anomaly.ipynb to script\n",
      "[NbConvertApp] Writing 7567 bytes to anomaly.py\n"
     ]
    }
   ],
   "source": [
    "!jupyter nbconvert --to script anomaly.ipynb"
   ]
  },
  {
   "cell_type": "code",
   "execution_count": 2,
   "metadata": {},
   "outputs": [
    {
     "name": "stdout",
     "output_type": "stream",
     "text": [
      "root:x:0:0:root:/root:/bin/bash\n",
      "daemon:x:1:1:daemon:/usr/sbin:/usr/sbin/nologin\n",
      "bin:x:2:2:bin:/bin:/usr/sbin/nologin\n",
      "sys:x:3:3:sys:/dev:/usr/sbin/nologin\n",
      "sync:x:4:65534:sync:/bin:/bin/sync\n",
      "games:x:5:60:games:/usr/games:/usr/sbin/nologin\n",
      "man:x:6:12:man:/var/cache/man:/usr/sbin/nologin\n",
      "lp:x:7:7:lp:/var/spool/lpd:/usr/sbin/nologin\n",
      "mail:x:8:8:mail:/var/mail:/usr/sbin/nologin\n",
      "news:x:9:9:news:/var/spool/news:/usr/sbin/nologin\n",
      "uucp:x:10:10:uucp:/var/spool/uucp:/usr/sbin/nologin\n",
      "proxy:x:13:13:proxy:/bin:/usr/sbin/nologin\n",
      "www-data:x:33:33:www-data:/var/www:/usr/sbin/nologin\n",
      "backup:x:34:34:backup:/var/backups:/usr/sbin/nologin\n",
      "list:x:38:38:Mailing List Manager:/var/list:/usr/sbin/nologin\n",
      "irc:x:39:39:ircd:/var/run/ircd:/usr/sbin/nologin\n",
      "gnats:x:41:41:Gnats Bug-Reporting System (admin):/var/lib/gnats:/usr/sbin/nologi\n",
      "n\n",
      "nobody:x:65534:65534:nobody:/nonexistent:/usr/sbin/nologin\n",
      "_apt:x:100:65534::/nonexistent:/usr/sbin/nologin\n",
      "jovyan:x:1000:100::/home/jovyan:/bin/bash\n"
     ]
    }
   ],
   "source": [
    "!more /etc/passwd"
   ]
  }
 ],
 "metadata": {
  "kernelspec": {
   "display_name": "Python 3 (ipykernel)",
   "language": "python",
   "name": "python3"
  },
  "language_info": {
   "codemirror_mode": {
    "name": "ipython",
    "version": 3
   },
   "file_extension": ".py",
   "mimetype": "text/x-python",
   "name": "python",
   "nbconvert_exporter": "python",
   "pygments_lexer": "ipython3",
   "version": "3.9.7"
  }
 },
 "nbformat": 4,
 "nbformat_minor": 4
}
