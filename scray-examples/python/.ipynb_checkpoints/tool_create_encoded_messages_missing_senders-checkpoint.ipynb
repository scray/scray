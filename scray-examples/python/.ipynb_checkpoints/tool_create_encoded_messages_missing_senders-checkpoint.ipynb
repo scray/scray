{
 "cells": [
  {
   "cell_type": "markdown",
   "id": "4c7bf0cc-2bee-4491-b8e6-ba3e624ecb4d",
   "metadata": {},
   "source": [
    "# tool_create_encoded_messages_missing_senders"
   ]
  },
  {
   "cell_type": "markdown",
   "id": "a5cf76a5-dfad-4145-bb46-46e821783320",
   "metadata": {},
   "source": [
    "# Main"
   ]
  },
  {
   "cell_type": "code",
   "execution_count": 1,
   "id": "1315d67c-dca1-42e7-a044-6be3f2fbc49e",
   "metadata": {},
   "outputs": [],
   "source": [
    "import dfBasics\n",
    "import common\n",
    "import encoder\n",
    "import pfAdapt\n",
    "#import charts"
   ]
  },
  {
   "cell_type": "code",
   "execution_count": 2,
   "id": "7546a523-8667-44c7-a2dd-ca55815afea1",
   "metadata": {},
   "outputs": [],
   "source": [
    "version_sla = 'v00001'\n",
    "version     = version_sla + '/v00000'\n",
    "\n",
    "home_directory  =  '/home/jovyan/work/'\n",
    "share_directory =  '/home/jovyan/work/share/'\n",
    "#share_directory =  '/home/jovyan/share/'"
   ]
  },
  {
   "cell_type": "code",
   "execution_count": 3,
   "id": "9f057a9f-e288-42c3-b185-00a14bc15162",
   "metadata": {},
   "outputs": [],
   "source": [
    "import pandas as pd\n",
    "from pyspark.sql import functions"
   ]
  },
  {
   "cell_type": "code",
   "execution_count": 4,
   "id": "9979ee4f-7cb4-4d06-ab96-7d54e5e1c348",
   "metadata": {},
   "outputs": [],
   "source": [
    "columns = ['CGLOBALMESSAGEID', 'CSTARTTIME', 'CENDTIME', 'CSTATUS', 'CSERVICE',\\\n",
    "       'CSLABILLINGMONTH', 'CSENDERPROTOCOL', 'CSENDERENDPOINTID',\\\n",
    "       'CINBOUNDSIZE', 'CRECEIVERPROTOCOL', 'CRECEIVERENDPOINTID', 'CSLATAT',\\\n",
    "       'CMESSAGETAT2', 'CSLADELIVERYTIME']\n",
    "# withot 'CSLABILLINGMONTH'\n",
    "def get_columns_2():\n",
    "    columns = ['CGLOBALMESSAGEID', 'CSTARTTIME', 'CENDTIME', 'CSTATUS', 'CSERVICE',\\\n",
    "            'CSENDERPROTOCOL', 'CSENDERENDPOINTID',\\\n",
    "           'CINBOUNDSIZE', 'CRECEIVERPROTOCOL', 'CRECEIVERENDPOINTID', 'CSLATAT',\\\n",
    "           'CMESSAGETAT2', 'CSLADELIVERYTIME']\n",
    "    return columns\n",
    "\n",
    "columns = ['CGLOBALMESSAGEID',  'CSTARTTIME', 'CENDTIME', 'CSTATUS', 'CSERVICE', 'CSENDERENDPOINTID', 'CSENDERPROTOCOL', 'CINBOUNDSIZE', 'CRECEIVERPROTOCOL', 'CRECEIVERENDPOINTID', 'CSLATAT', 'CMESSAGETAT2', 'CSLADELIVERYTIME']\n",
    "     \n",
    "\n",
    "#columns = get_columns_2()\n",
    "#to count messages sent\n",
    "#columns = [ 'CSTARTTIME', 'CSENDERENDPOINTID']"
   ]
  },
  {
   "cell_type": "code",
   "execution_count": 5,
   "id": "5144238f-ef6b-4b9b-a0e4-ae6b85edc033",
   "metadata": {
    "tags": []
   },
   "outputs": [],
   "source": [
    "sparkSession = dfBasics.getSparkSession()"
   ]
  },
  {
   "cell_type": "code",
   "execution_count": 6,
   "id": "57fb9b44-6b8f-47d9-8a62-b699f767cdb7",
   "metadata": {},
   "outputs": [],
   "source": [
    "df = sparkSession.read.parquet('hdfs://172.30.17.145:8020/sla_sql_data/*/*').select(columns).dropDuplicates() "
   ]
  },
  {
   "cell_type": "code",
   "execution_count": null,
   "id": "b999647a-d330-46cc-83e7-08c01450d109",
   "metadata": {},
   "outputs": [],
   "source": [
    "#senders = sparkSession.read.parquet(\"/tmp/senders.parquet\")\n",
    "#senders = pd.read_parquet('/tmp/senders' + '.parquet', engine='pyarrow')\n",
    "#senders = list(senders.toPandas()['CSENDERENDPOINTID'])"
   ]
  },
  {
   "cell_type": "code",
   "execution_count": 7,
   "id": "a6f3fbe7-8d6a-4445-8743-99915ffe0b64",
   "metadata": {},
   "outputs": [],
   "source": [
    "senders = list(sparkSession.read.parquet('hdfs://172.30.17.145:8020/user/admin/sla/v00000/v00000/senders/senders.parquet').toPandas()['CSENDERENDPOINTID'])"
   ]
  },
  {
   "cell_type": "code",
   "execution_count": 8,
   "id": "47e4f8a3-ee0d-4a0c-9f1d-80ce3e6ce632",
   "metadata": {},
   "outputs": [
    {
     "data": {
      "text/plain": [
       "5493"
      ]
     },
     "execution_count": 8,
     "metadata": {},
     "output_type": "execute_result"
    }
   ],
   "source": [
    "len(senders)"
   ]
  },
  {
   "cell_type": "code",
   "execution_count": 11,
   "id": "2fb869c6-0003-4d5c-857d-791d8c5f9d48",
   "metadata": {},
   "outputs": [],
   "source": [
    "#senders"
   ]
  },
  {
   "cell_type": "code",
   "execution_count": 12,
   "id": "83dedd84-19f0-4647-8e26-e91b9483f41d",
   "metadata": {},
   "outputs": [],
   "source": [
    "senders_files = sparkSession.read.options(delimiter=',') \\\n",
    "                      .csv('hdfs://172.30.17.145:8020/user/admin/sla/' + version + '/senders/senders_files.txt').toPandas()\n",
    "senders_files.columns = ['size','filename']    "
   ]
  },
  {
   "cell_type": "code",
   "execution_count": 13,
   "id": "8e16e072-ef90-4f40-8761-e813f0a62874",
   "metadata": {},
   "outputs": [
    {
     "data": {
      "text/plain": [
       "'sla_enc_000b4e02-7f43-11ec-ae40-78d9ac1e124d.parquet'"
      ]
     },
     "execution_count": 13,
     "metadata": {},
     "output_type": "execute_result"
    }
   ],
   "source": [
    "#senders_files['filename'][0]"
   ]
  },
  {
   "cell_type": "code",
   "execution_count": 16,
   "id": "fab91974-87c7-4c1b-8072-e9a251d283bb",
   "metadata": {},
   "outputs": [
    {
     "data": {
      "text/plain": [
       "'sla_enc_772e6440-e973-11e8-be62-528eac1b495c.parquet'"
      ]
     },
     "execution_count": 16,
     "metadata": {},
     "output_type": "execute_result"
    }
   ],
   "source": [
    "'sla_enc_' + senders[0] + '.parquet'"
   ]
  },
  {
   "cell_type": "code",
   "execution_count": 24,
   "id": "67cddeef-af71-4fb4-94b8-9d16cee6aafa",
   "metadata": {
    "tags": []
   },
   "outputs": [],
   "source": [
    "failed = []\n",
    "for sender in senders:\n",
    "    try:\n",
    "        filename = 'sla_enc_' + sender + '.parquet'\n",
    "        sparkSession.read.text('hdfs://172.30.17.145:8020/user/admin/sla/' + version + '/encoded/senders/' + filename + '/_SUCCESS')\n",
    "    except Exception as exception: \n",
    "        failed.append(sender)\n",
    "        #if not 'temporary' in filename:\n",
    "            #failed.append(filename.split('sla_enc_')[1].split('.')[0])"
   ]
  },
  {
   "cell_type": "code",
   "execution_count": 34,
   "id": "e4e86330-3592-489a-a194-a0854c5fddaf",
   "metadata": {},
   "outputs": [
    {
     "data": {
      "text/plain": [
       "2050"
      ]
     },
     "execution_count": 34,
     "metadata": {},
     "output_type": "execute_result"
    }
   ],
   "source": [
    "failed.remove(None)\n",
    "len(failed)"
   ]
  },
  {
   "cell_type": "code",
   "execution_count": 28,
   "id": "1d8bc830-a4c2-46ad-b3e0-1adfb0f1f6ed",
   "metadata": {},
   "outputs": [],
   "source": [
    "from pyspark.sql.functions import udf\n",
    "from pyspark.sql.types import StringType\n",
    "\n",
    "def transform(value):\n",
    "    return int( _encoder.transform([value])[0])\n",
    "    \n",
    "udf_transform = udf(lambda z: transform(z), StringType())\n",
    "\n",
    "#df2.withColumn(\"CSENDERENDPOINTID\", str( _encoder.transform([df2.CSENDERENDPOINTID])[0])) \n",
    "#df2 = df2.withColumn(\"CSENDERENDPOINTID\", udf_transform(df2.CSENDERENDPOINTID)) \n",
    "\n",
    "def get_columns(df):\n",
    "    columns = list(df.limit(1).toPandas().columns)\n",
    "    columns.remove('CGLOBALMESSAGEID')\n",
    "    columns.remove('CSLATAT')\n",
    "    columns.remove('CMESSAGETAT2') \n",
    "    columns.remove('CSLADELIVERYTIME')\n",
    "    columns.remove('CINBOUNDSIZE')\n",
    "    columns.remove('CSTARTTIME')\n",
    "    columns.remove('CENDTIME')\n",
    "    return columns"
   ]
  },
  {
   "cell_type": "code",
   "execution_count": 29,
   "id": "9c6c7df2-04f1-48b0-a4ed-dbd08ec18268",
   "metadata": {},
   "outputs": [],
   "source": [
    "# ## encode columns\n",
    "\n",
    "from datetime import time\n",
    "import datetime as dt\n",
    "import calendar\n",
    "import pytz\n",
    "de = pytz.timezone('Europe/Berlin')\n",
    "from pyspark.sql.types import IntegerType\n",
    "\n",
    "# long timestamp\n",
    "def date(x):\n",
    "    return  dt.datetime.fromtimestamp(float(x) / 1e3, tz=de)\n",
    "\n",
    "udf_add_year = udf(lambda z: date(z).date().year, IntegerType())\n",
    "udf_add_month = udf(lambda z: date(z).date().month, IntegerType())\n",
    "udf_add_day = udf(lambda z: date(z).date().day, IntegerType())\n",
    "udf_add_hour = udf(lambda z: date(z).time().hour, IntegerType())\n",
    "udf_add_minute = udf(lambda z: date(z).time().minute, IntegerType())\n",
    "udf_add_minute = udf(lambda z: date(z).time().minute, IntegerType())\n",
    "\n",
    "\n",
    "# In[14]:\n",
    "\n",
    "\n",
    "import numpy as np\n",
    "import encoder\n",
    "from pyspark.sql.functions import col\n",
    "\n",
    "def encode_columns_spark(dataframe=None,columns=None, npy='/home/jovyan/work/npy'):\n",
    "    for column in columns:\n",
    "        global _encoder\n",
    "        #print (column)\n",
    "        #_encoder = encoder.TolerantLabelEncoder(ignore_unknown=True)\n",
    "        #_encoder.classes_ = np.load(npy + '/' + column + '.npy')\n",
    "        \n",
    "        _encoder = encoders[column]\n",
    "        \n",
    "        #dataall[column] = _encoder.transform(dataall[column]) \n",
    "        udf_transform = udf(lambda z: transform(z), StringType())\n",
    "        dataframe=dataframe.withColumn(column, udf_transform(col(column)).cast(\"Integer\"))\n",
    "        #df3.head()\n",
    "    return dataframe\n",
    "\n",
    "\n",
    "# In[15]:\n",
    "\n",
    "\n",
    "def cast_spark_columns(dataframe=None,columns=[],type=\"int\" ):\n",
    "    for column in columns:\n",
    "        dataframe = dataframe.withColumn(column, col(column).cast(type))\n",
    "    return dataframe    \n",
    "\n",
    "\n",
    "# In[16]:\n",
    "\n",
    "\n",
    "def process(sender=None, dataframe=None):\n",
    "    df3 = dataframe.where(f.col(\"CSENDERENDPOINTID\").isin([sender]))\n",
    "    df3 = encode_columns_spark(dataframe=df3,columns=columns)\n",
    "    df3 = df3.withColumn(\"year\", udf_add_year(df3.CSTARTTIME)).withColumn(\"month\", udf_add_month(df3.CSTARTTIME)).withColumn(\"day\", udf_add_day(df3.CSTARTTIME)).withColumn(\"hour\", udf_add_hour(df3.CSTARTTIME)).withColumn(\"minute\", udf_add_minute(df3.CSTARTTIME)) \n",
    "    df3=cast_spark_columns(dataframe=df3, columns=['CSTARTTIME', 'CENDTIME','CINBOUNDSIZE','CSLATAT','CMESSAGETAT2','CSLADELIVERYTIME'], type='long')\n",
    "    return df3\n",
    "\n",
    "\n",
    "# In[17]:\n",
    "\n",
    "np_load_old = np.load\n",
    "\n",
    "# modify the default parameters of np.load\n",
    "np.load = lambda *a,**k: np_load_old(*a, allow_pickle=True, **k)\n",
    "\n",
    "# restore np.load for future normal usage\n",
    "#np.load = np_load_old\n",
    "\n",
    "\n",
    "# In[18]:\n",
    "\n",
    "\n",
    "#import pyspark.sql.functions as f\n",
    "#ender = senders[0]\n",
    "#df4 = process(sender=sender,dataframe=df)\n",
    "#df4.head()\n",
    "#!mkdir /tmp/enc\n",
    "\n",
    "\n",
    "# In[19]:\n",
    "\n",
    "\n",
    "\n"
   ]
  },
  {
   "cell_type": "code",
   "execution_count": 30,
   "id": "47b9f6e4-6570-4d0c-89ea-0efa43084842",
   "metadata": {},
   "outputs": [],
   "source": [
    "#!mkdir -p /home/jovyan/work/output/enc"
   ]
  },
  {
   "cell_type": "code",
   "execution_count": 31,
   "id": "4d4b7d4a-f3ed-442c-83f2-638eaeeef62c",
   "metadata": {},
   "outputs": [],
   "source": [
    "if None in senders:\n",
    "    senders.remove(None)"
   ]
  },
  {
   "cell_type": "code",
   "execution_count": 32,
   "id": "b38a3e24-7111-43d6-ae0d-524c619e721c",
   "metadata": {},
   "outputs": [],
   "source": [
    "#None in senders"
   ]
  },
  {
   "cell_type": "code",
   "execution_count": 33,
   "id": "4a79cb9f-b97e-42aa-9a99-3698ab7a5880",
   "metadata": {},
   "outputs": [],
   "source": [
    "from os import listdir\n",
    "\n",
    "#def listdirectory(path=None,filter='.'):\n",
    "#    return [x for x in listdir(path) if not x.startswith(filter)]    \n",
    "\n",
    "#_files = listdirectory(path='/home/jovyan/work/output/enc')\n",
    "#senders = senders[len(_files):]\n",
    "\n",
    "columns = ['CSTATUS','CSERVICE','CSENDERENDPOINTID','CSENDERPROTOCOL','CRECEIVERPROTOCOL','CRECEIVERENDPOINTID']"
   ]
  },
  {
   "cell_type": "code",
   "execution_count": 36,
   "id": "1c7b04de-c13b-4380-a6b2-fa115177b8a4",
   "metadata": {},
   "outputs": [],
   "source": [
    "npy='/home/jovyan/work/npy'\n",
    "encoders = {}\n",
    "for column in columns:\n",
    "    _encoder = encoder.TolerantLabelEncoder(ignore_unknown=True)\n",
    "    _encoder.classes_ = np.load(npy + '/' + column + '.npy')\n",
    "    encoders[column] = _encoder"
   ]
  },
  {
   "cell_type": "code",
   "execution_count": null,
   "id": "b3c60f8b-d70d-4812-bd50-66ea86ac830c",
   "metadata": {},
   "outputs": [],
   "source": [
    "#encoders"
   ]
  },
  {
   "cell_type": "code",
   "execution_count": null,
   "id": "667196c5-f65e-429e-a645-dce9d76647fa",
   "metadata": {},
   "outputs": [],
   "source": [
    "#import pyspark.sql.functions as f\n",
    "#sender = senders[0]\n",
    "#print(sender)\n",
    "#df4 = process(sender=sender,dataframe=df)\n",
    "#df4.write.mode(\"overwrite\").parquet(\"/home/jovyan/work/output/enc/sla_enc_\" + sender + \".parquet\")"
   ]
  },
  {
   "cell_type": "code",
   "execution_count": null,
   "id": "8256796e-9fe5-4836-a326-46710fee2130",
   "metadata": {},
   "outputs": [],
   "source": [
    "import pyspark.sql.functions as f\n",
    "#sender = senders[0]\n",
    "for sender in failed:\n",
    "    df4 = process(sender=sender,dataframe=df)\n",
    "    df4.write.mode(\"overwrite\").parquet(\"/home/jovyan/work/output/enc/sla_enc_\" + sender + \".parquet\")"
   ]
  },
  {
   "cell_type": "code",
   "execution_count": null,
   "id": "b855497c-6862-4568-b017-03d3025e37b2",
   "metadata": {},
   "outputs": [],
   "source": []
  }
 ],
 "metadata": {
  "kernelspec": {
   "display_name": "Python 3 (ipykernel)",
   "language": "python",
   "name": "python3"
  },
  "language_info": {
   "codemirror_mode": {
    "name": "ipython",
    "version": 3
   },
   "file_extension": ".py",
   "mimetype": "text/x-python",
   "name": "python",
   "nbconvert_exporter": "python",
   "pygments_lexer": "ipython3",
   "version": "3.9.10"
  }
 },
 "nbformat": 4,
 "nbformat_minor": 5
}
