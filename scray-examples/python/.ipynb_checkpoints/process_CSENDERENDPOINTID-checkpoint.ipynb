{
 "cells": [
  {
   "cell_type": "code",
   "execution_count": 13,
   "id": "random-basket",
   "metadata": {},
   "outputs": [],
   "source": [
    "import dfBasics\n",
    "#import common\n",
    "#import encoder\n",
    "#import pfAdapt\n",
    "#import charts"
   ]
  },
  {
   "cell_type": "code",
   "execution_count": 14,
   "id": "super-listing",
   "metadata": {},
   "outputs": [],
   "source": [
    "import pandas as pd\n",
    "from pyspark.sql import functions\n",
    "from pyspark.sql.functions import when, lit, col"
   ]
  },
  {
   "cell_type": "code",
   "execution_count": 15,
   "id": "likely-robertson",
   "metadata": {},
   "outputs": [],
   "source": [
    "sparkSession = dfBasics.getSparkSession()"
   ]
  },
  {
   "cell_type": "code",
   "execution_count": 16,
   "id": "occupational-statement",
   "metadata": {},
   "outputs": [],
   "source": [
    "df = sparkSession.read.parquet('hdfs://172.30.17.145:8020/user/admin/sla/sla_1580199488133.parquet')"
   ]
  },
  {
   "cell_type": "code",
   "execution_count": 17,
   "id": "intelligent-transmission",
   "metadata": {},
   "outputs": [
    {
     "data": {
      "text/plain": [
       "<bound method DataFrame.head of DataFrame[CGLOBALMESSAGEID: bigint, CSTARTTIME: bigint, CENDTIME: bigint, CSTATUS: bigint, CSERVICE: bigint, CSENDERPROTOCOL: bigint, CSENDERENDPOINTID: bigint, CINBOUNDSIZE: bigint, CRECEIVERPROTOCOL: bigint, CRECEIVERENDPOINTID: bigint, CSLATAT: bigint, CMESSAGETAT2: bigint, CSLADELIVERYTIME: bigint, year: bigint, month: bigint, day: bigint, hour: bigint, minute: bigint, __index_level_0__: bigint]>"
      ]
     },
     "execution_count": 17,
     "metadata": {},
     "output_type": "execute_result"
    }
   ],
   "source": []
  },
  {
   "cell_type": "code",
   "execution_count": 9,
   "id": "technological-insulin",
   "metadata": {},
   "outputs": [],
   "source": [
    "for sender in range(0, 2460):\n",
    "    #df = sparkSession.read.parquet('hdfs://172.30.17.145:8020/user/admin/sla/sla_*.parquet').select(['CGLOBALMESSAGEID', 'year', 'month', 'day', 'hour']).filter(col('CSENDERENDPOINTID')==sender)\n",
    "    df = sparkSession.read.parquet('hdfs://172.30.17.145:8020/user/admin/sla/sla_*.parquet').select(['CGLOBALMESSAGEID', 'year', 'month', 'day', 'hour','CSTATUS','CSERVICE', 'CSENDERPROTOCOL', 'CINBOUNDSIZE', 'CRECEIVERPROTOCOL', 'CRECEIVERENDPOINTID', 'CSLATAT', 'CMESSAGETAT2', 'CSLADELIVERYTIME']).filter(col('CSENDERENDPOINTID')==sender)\n",
    "    pfall = df.toPandas()\n",
    "    pfall.to_parquet('/tmp/CSENDERENDPOINTID_' + str(sender) + '.parquet', engine='pyarrow', compression='GZIP')"
   ]
  }
 ],
 "metadata": {
  "kernelspec": {
   "display_name": "Python 3 (ipykernel)",
   "language": "python",
   "name": "python3"
  },
  "language_info": {
   "codemirror_mode": {
    "name": "ipython",
    "version": 3
   },
   "file_extension": ".py",
   "mimetype": "text/x-python",
   "name": "python",
   "nbconvert_exporter": "python",
   "pygments_lexer": "ipython3",
   "version": "3.9.7"
  }
 },
 "nbformat": 4,
 "nbformat_minor": 5
}
