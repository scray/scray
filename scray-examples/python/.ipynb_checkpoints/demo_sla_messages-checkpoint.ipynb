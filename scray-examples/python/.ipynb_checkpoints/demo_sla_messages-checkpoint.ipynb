{
 "cells": [
  {
   "cell_type": "markdown",
   "id": "1a6a0ce0-e217-4ffe-9801-03314c265737",
   "metadata": {},
   "source": [
    "# Next Version "
   ]
  },
  {
   "cell_type": "code",
   "execution_count": 9,
   "id": "9de3bd41-e00e-4ab2-a94c-ad9140e0f8bb",
   "metadata": {},
   "outputs": [],
   "source": [
    "import dfBasics\n",
    "import pandas as pd\n",
    "\n",
    "version_sla = 'v00001'\n",
    "version     = version_sla + '/v00000'\n",
    "\n",
    "home_directory  =  '/home/jovyan/work/'\n",
    "share_directory =  '/home/jovyan/work/share/'\n",
    "#share_directory =  '/home/jovyan/share/'"
   ]
  },
  {
   "cell_type": "code",
   "execution_count": 10,
   "id": "f16a4f3d-54ff-4b09-8b86-b7777b001faf",
   "metadata": {},
   "outputs": [],
   "source": [
    "sparkSession = dfBasics.getSparkSession()"
   ]
  },
  {
   "cell_type": "code",
   "execution_count": 11,
   "id": "1e1824bf-7e24-4b9a-aa81-9bf478648735",
   "metadata": {},
   "outputs": [
    {
     "name": "stdout",
     "output_type": "stream",
     "text": [
      "+--------------------+-------------+-------------+-------+--------+-----------------+---------------+------------+-----------------+-------------------+-------+------------+----------------+----+-----+---+----+------+\n",
      "|    CGLOBALMESSAGEID|   CSTARTTIME|     CENDTIME|CSTATUS|CSERVICE|CSENDERENDPOINTID|CSENDERPROTOCOL|CINBOUNDSIZE|CRECEIVERPROTOCOL|CRECEIVERENDPOINTID|CSLATAT|CMESSAGETAT2|CSLADELIVERYTIME|year|month|day|hour|minute|\n",
      "+--------------------+-------------+-------------+-------+--------+-----------------+---------------+------------+-----------------+-------------------+-------+------------+----------------+----+-----+---+----+------+\n",
      "|26651d03-e52a-11e...|1626325477424|1626325480445|     14|       5|             4946|              0|         218|                0|               3499|   2802|        3021|   1626325480226|2021|    7| 15|   7|     4|\n",
      "|43105633-e648-11e...|1626448360765|1626448364647|     14|       5|             4946|              0|         203|                8|               2550|   3757|        3882|   1626448364522|2021|    7| 16|  17|    12|\n",
      "|f2214105-e852-11e...|1626672851699|1626672854534|     14|       5|             4946|              0|         437|                8|                978|   2754|        2835|   1626672854453|2021|    7| 19|   7|    34|\n",
      "|504e8ca3-e868-11e...|1626682029996|1626682033351|     14|       5|             4946|              0|         197|                8|               2550|   3248|        3355|   1626682033244|2021|    7| 19|  10|     7|\n",
      "|28797c90-e8e4-11e...|1626735220463|1626735223156|     14|       5|             4946|              0|         345|                8|               2550|   2611|        2693|   1626735223074|2021|    7| 20|   0|    53|\n",
      "+--------------------+-------------+-------------+-------+--------+-----------------+---------------+------------+-----------------+-------------------+-------+------------+----------------+----+-----+---+----+------+\n",
      "only showing top 5 rows\n",
      "\n"
     ]
    }
   ],
   "source": [
    "df = sparkSession.read.parquet(share_directory + 'data/sla_enc_all_v00001_v00001.parquet')\n",
    "senders = df.select('CSENDERENDPOINTID').dropDuplicates().toPandas()['CSENDERENDPOINTID']\n",
    "len(senders)\n",
    "df.show(n=5)\n",
    "#df.dtypes"
   ]
  },
  {
   "cell_type": "code",
   "execution_count": 12,
   "id": "ea5a5269-f17e-4ec8-88de-8259272d65e3",
   "metadata": {},
   "outputs": [],
   "source": [
    "import pyspark.sql.functions as f\n",
    "sender = int(senders[0])\n",
    "pfall = df.where(f.col(\"CSENDERENDPOINTID\").isin([sender])).toPandas()"
   ]
  },
  {
   "cell_type": "code",
   "execution_count": 16,
   "id": "65c5ce98-9fd4-45cd-95b5-f13014891d99",
   "metadata": {},
   "outputs": [
    {
     "data": {
      "text/plain": [
       "array([14, 11,  2, 10], dtype=int32)"
      ]
     },
     "execution_count": 16,
     "metadata": {},
     "output_type": "execute_result"
    }
   ],
   "source": [
    "pd.unique(pfall['CSTATUS'])"
   ]
  },
  {
   "cell_type": "code",
   "execution_count": 17,
   "id": "01f5f862-5399-45f7-898e-adad1fc5c888",
   "metadata": {},
   "outputs": [],
   "source": [
    "df3 = df.where(f.col(\"CGLOBALMESSAGEID\").isin(['2a3df189-699c-11ec-90fd-4ad4ac1e100f']))"
   ]
  },
  {
   "cell_type": "code",
   "execution_count": 18,
   "id": "189bd3d8-7b8f-41d5-9802-4934f51bd592",
   "metadata": {},
   "outputs": [
    {
     "name": "stdout",
     "output_type": "stream",
     "text": [
      "+--------------------+-------------+-------------+-------+--------+-----------------+---------------+------------+-----------------+-------------------+-------+------------+----------------+----+-----+---+----+------+\n",
      "|    CGLOBALMESSAGEID|   CSTARTTIME|     CENDTIME|CSTATUS|CSERVICE|CSENDERENDPOINTID|CSENDERPROTOCOL|CINBOUNDSIZE|CRECEIVERPROTOCOL|CRECEIVERENDPOINTID|CSLATAT|CMESSAGETAT2|CSLADELIVERYTIME|year|month|day|hour|minute|\n",
      "+--------------------+-------------+-------------+-------+--------+-----------------+---------------+------------+-----------------+-------------------+-------+------------+----------------+----+-----+---+----+------+\n",
      "|2a3df189-699c-11e...|1640887999475|1640888000287|     11|       5|             4946|              0|         511|               -1|                 -1|      0|         812|              -1|2021|   12| 30|  19|    13|\n",
      "+--------------------+-------------+-------------+-------+--------+-----------------+---------------+------------+-----------------+-------------------+-------+------------+----------------+----+-----+---+----+------+\n",
      "\n"
     ]
    }
   ],
   "source": [
    "df3.show()"
   ]
  },
  {
   "cell_type": "code",
   "execution_count": 24,
   "id": "21f89a9f-dc49-4463-b743-b2902895819c",
   "metadata": {},
   "outputs": [],
   "source": [
    "pfall = df3.toPandas()"
   ]
  },
  {
   "cell_type": "code",
   "execution_count": 22,
   "id": "0ba7c489-2c89-484b-88eb-85f4093702cf",
   "metadata": {},
   "outputs": [
    {
     "data": {
      "text/plain": [
       "['PENDING']"
      ]
     },
     "execution_count": 22,
     "metadata": {},
     "output_type": "execute_result"
    }
   ],
   "source": [
    "inverse_transform([11],column='CSTATUS')"
   ]
  },
  {
   "cell_type": "code",
   "execution_count": 29,
   "id": "3cf1fb11-1fec-47be-8110-c9df6cf77966",
   "metadata": {},
   "outputs": [
    {
     "data": {
      "text/html": [
       "<div>\n",
       "<style scoped>\n",
       "    .dataframe tbody tr th:only-of-type {\n",
       "        vertical-align: middle;\n",
       "    }\n",
       "\n",
       "    .dataframe tbody tr th {\n",
       "        vertical-align: top;\n",
       "    }\n",
       "\n",
       "    .dataframe thead th {\n",
       "        text-align: right;\n",
       "    }\n",
       "</style>\n",
       "<table border=\"1\" class=\"dataframe\">\n",
       "  <thead>\n",
       "    <tr style=\"text-align: right;\">\n",
       "      <th></th>\n",
       "      <th>CGLOBALMESSAGEID</th>\n",
       "      <th>CSTARTTIME</th>\n",
       "      <th>CENDTIME</th>\n",
       "      <th>CSTATUS</th>\n",
       "      <th>CSERVICE</th>\n",
       "      <th>CSENDERENDPOINTID</th>\n",
       "      <th>CSENDERPROTOCOL</th>\n",
       "      <th>CINBOUNDSIZE</th>\n",
       "      <th>CRECEIVERPROTOCOL</th>\n",
       "      <th>CRECEIVERENDPOINTID</th>\n",
       "      <th>CSLATAT</th>\n",
       "      <th>CMESSAGETAT2</th>\n",
       "      <th>CSLADELIVERYTIME</th>\n",
       "      <th>year</th>\n",
       "      <th>month</th>\n",
       "      <th>day</th>\n",
       "      <th>hour</th>\n",
       "      <th>minute</th>\n",
       "      <th>error</th>\n",
       "    </tr>\n",
       "  </thead>\n",
       "  <tbody>\n",
       "    <tr>\n",
       "      <th>0</th>\n",
       "      <td>2a3df189-699c-11ec-90fd-4ad4ac1e100f</td>\n",
       "      <td>1640887999475</td>\n",
       "      <td>1640888000287</td>\n",
       "      <td>11</td>\n",
       "      <td>5</td>\n",
       "      <td>4946</td>\n",
       "      <td>0</td>\n",
       "      <td>511</td>\n",
       "      <td>-1</td>\n",
       "      <td>-1</td>\n",
       "      <td>0</td>\n",
       "      <td>812</td>\n",
       "      <td>-1</td>\n",
       "      <td>2021</td>\n",
       "      <td>12</td>\n",
       "      <td>30</td>\n",
       "      <td>19</td>\n",
       "      <td>13</td>\n",
       "      <td>1</td>\n",
       "    </tr>\n",
       "  </tbody>\n",
       "</table>\n",
       "</div>"
      ],
      "text/plain": [
       "                       CGLOBALMESSAGEID     CSTARTTIME       CENDTIME  \\\n",
       "0  2a3df189-699c-11ec-90fd-4ad4ac1e100f  1640887999475  1640888000287   \n",
       "\n",
       "   CSTATUS  CSERVICE  CSENDERENDPOINTID  CSENDERPROTOCOL  CINBOUNDSIZE  \\\n",
       "0       11         5               4946                0           511   \n",
       "\n",
       "   CRECEIVERPROTOCOL  CRECEIVERENDPOINTID  CSLATAT  CMESSAGETAT2  \\\n",
       "0                 -1                   -1        0           812   \n",
       "\n",
       "   CSLADELIVERYTIME  year  month  day  hour  minute  error  \n",
       "0                -1  2021     12   30    19      13      1  "
      ]
     },
     "execution_count": 29,
     "metadata": {},
     "output_type": "execute_result"
    }
   ],
   "source": [
    "assign_outcome_error(pfall)"
   ]
  },
  {
   "cell_type": "code",
   "execution_count": 31,
   "id": "e99cc08e-3151-4aa6-9370-499d3eab11ca",
   "metadata": {},
   "outputs": [],
   "source": [
    "columns = ['CGLOBALMESSAGEID',  'CSTARTTIME', 'CENDTIME', 'CSTATUS', 'CSERVICE', 'CSENDERENDPOINTID', 'CSENDERPROTOCOL', 'CINBOUNDSIZE', 'CRECEIVERPROTOCOL', 'CRECEIVERENDPOINTID', 'CSLATAT', 'CMESSAGETAT2', 'CSLADELIVERYTIME']\n",
    "df_org  = sparkSession.read.parquet('hdfs://172.30.17.145:8020/sla_sql_data/*/*').select(columns).dropDuplicates() \n",
    "df_org3 =  df_org.where(f.col(\"CGLOBALMESSAGEID\").isin(['2a3df189-699c-11ec-90fd-4ad4ac1e100f']))\n",
    "pfall_org_3 = df_org3.toPandas()"
   ]
  },
  {
   "cell_type": "code",
   "execution_count": null,
   "id": "2f0dc789-ebfd-40c1-8103-54eda386de68",
   "metadata": {},
   "outputs": [],
   "source": []
  },
  {
   "cell_type": "code",
   "execution_count": 32,
   "id": "e98dfe04-2a92-4435-adc8-11182ef42cbf",
   "metadata": {},
   "outputs": [
    {
     "data": {
      "text/html": [
       "<div>\n",
       "<style scoped>\n",
       "    .dataframe tbody tr th:only-of-type {\n",
       "        vertical-align: middle;\n",
       "    }\n",
       "\n",
       "    .dataframe tbody tr th {\n",
       "        vertical-align: top;\n",
       "    }\n",
       "\n",
       "    .dataframe thead th {\n",
       "        text-align: right;\n",
       "    }\n",
       "</style>\n",
       "<table border=\"1\" class=\"dataframe\">\n",
       "  <thead>\n",
       "    <tr style=\"text-align: right;\">\n",
       "      <th></th>\n",
       "      <th>CGLOBALMESSAGEID</th>\n",
       "      <th>CSTARTTIME</th>\n",
       "      <th>CENDTIME</th>\n",
       "      <th>CSTATUS</th>\n",
       "      <th>CSERVICE</th>\n",
       "      <th>CSENDERENDPOINTID</th>\n",
       "      <th>CSENDERPROTOCOL</th>\n",
       "      <th>CINBOUNDSIZE</th>\n",
       "      <th>CRECEIVERPROTOCOL</th>\n",
       "      <th>CRECEIVERENDPOINTID</th>\n",
       "      <th>CSLATAT</th>\n",
       "      <th>CMESSAGETAT2</th>\n",
       "      <th>CSLADELIVERYTIME</th>\n",
       "    </tr>\n",
       "  </thead>\n",
       "  <tbody>\n",
       "    <tr>\n",
       "      <th>0</th>\n",
       "      <td>2a3df189-699c-11ec-90fd-4ad4ac1e100f</td>\n",
       "      <td>1640887999475</td>\n",
       "      <td>1640888000287</td>\n",
       "      <td>PENDING</td>\n",
       "      <td>MAKO_BE_ROUTER</td>\n",
       "      <td>e57c94c0-e0f0-11e8-be62-528eac1b495c</td>\n",
       "      <td>AS2</td>\n",
       "      <td>511</td>\n",
       "      <td>None</td>\n",
       "      <td>None</td>\n",
       "      <td>0</td>\n",
       "      <td>812</td>\n",
       "      <td>-1</td>\n",
       "    </tr>\n",
       "  </tbody>\n",
       "</table>\n",
       "</div>"
      ],
      "text/plain": [
       "                       CGLOBALMESSAGEID     CSTARTTIME       CENDTIME  \\\n",
       "0  2a3df189-699c-11ec-90fd-4ad4ac1e100f  1640887999475  1640888000287   \n",
       "\n",
       "   CSTATUS        CSERVICE                     CSENDERENDPOINTID  \\\n",
       "0  PENDING  MAKO_BE_ROUTER  e57c94c0-e0f0-11e8-be62-528eac1b495c   \n",
       "\n",
       "  CSENDERPROTOCOL CINBOUNDSIZE CRECEIVERPROTOCOL CRECEIVERENDPOINTID CSLATAT  \\\n",
       "0             AS2          511              None                None       0   \n",
       "\n",
       "  CMESSAGETAT2 CSLADELIVERYTIME  \n",
       "0          812               -1  "
      ]
     },
     "execution_count": 32,
     "metadata": {},
     "output_type": "execute_result"
    }
   ],
   "source": [
    "pfall_org_3"
   ]
  },
  {
   "cell_type": "code",
   "execution_count": 33,
   "id": "9a63a733-7a21-4d23-8a5a-9363fccf4236",
   "metadata": {},
   "outputs": [],
   "source": [
    "df_status_org = sparkSession.read.parquet('hdfs://172.30.17.145:8020/sla_sql_data/*/*').select(['CSTATUS']).dropDuplicates().toPandas() "
   ]
  },
  {
   "cell_type": "code",
   "execution_count": 35,
   "id": "16172498-34e8-425f-9cfb-e23719c6c6d8",
   "metadata": {},
   "outputs": [],
   "source": [
    "df_status = df.select(['CSTATUS']).dropDuplicates().toPandas() "
   ]
  },
  {
   "cell_type": "code",
   "execution_count": 37,
   "id": "389f7c57-6d24-4bfa-883d-55994d5bf31d",
   "metadata": {},
   "outputs": [
    {
     "data": {
      "text/plain": [
       "11"
      ]
     },
     "execution_count": 37,
     "metadata": {},
     "output_type": "execute_result"
    }
   ],
   "source": [
    "df_status_org\n",
    "df_status\n",
    "\n",
    "transform('PENDING',column='CSTATUS')"
   ]
  },
  {
   "cell_type": "code",
   "execution_count": 40,
   "id": "eda527e7-ec72-4256-a64d-fa42e0c8992c",
   "metadata": {},
   "outputs": [
    {
     "name": "stdout",
     "output_type": "stream",
     "text": [
      "COMPONENT_ERROR_CONTENTEXTRACTOR 1\n",
      "PENDING 11\n",
      "CONFIGURATION_ERROR 2\n",
      "EXPIRED 7\n",
      "DATA_ERROR 3\n",
      "SUCCESS_POLLQUEUE 16\n",
      "TORESEND 18\n",
      "RECALLED 13\n",
      "MESSAGE_QUEUED 10\n",
      "DELETED 4\n",
      "WARNING 19\n",
      "COMPONENT_ERROR 0\n",
      "THREAT_DETECTED 17\n",
      "MDN_ERROR 9\n",
      "ECHO-ERROR 5\n",
      "FAILED 8\n",
      "ERROR 6\n",
      "READY_FOR_DOWNLOAD 12\n",
      "SUCCESS 14\n",
      "SUCCESS_DOWNLOADED 15\n"
     ]
    }
   ],
   "source": [
    "# COMPONENT_ERROR 0\n",
    "for status in set(df_status_org['CSTATUS']):\n",
    "    print(status,transform(status,column='CSTATUS'))"
   ]
  },
  {
   "cell_type": "markdown",
   "id": "fe5f0337-7f90-41a7-9001-628da527287d",
   "metadata": {
    "tags": []
   },
   "source": [
    "# Main"
   ]
  },
  {
   "cell_type": "code",
   "execution_count": 1,
   "id": "26cbb69c-0b33-48a0-ba09-bf3a060c1bb7",
   "metadata": {},
   "outputs": [],
   "source": [
    "import dfBasics\n",
    "import pandas as pd\n",
    "\n",
    "version_sla = 'v00001'\n",
    "version     = version_sla + '/v00000'\n",
    "\n",
    "home_directory  =  '/home/jovyan/work/'\n",
    "share_directory =  '/home/jovyan/work/share/'\n",
    "#share_directory =  '/home/jovyan/share/'"
   ]
  },
  {
   "cell_type": "code",
   "execution_count": null,
   "id": "29b5d21e-370f-4d90-82b7-8e160841f592",
   "metadata": {},
   "outputs": [],
   "source": [
    "sparkSession = dfBasics.getSparkSession()"
   ]
  },
  {
   "cell_type": "code",
   "execution_count": null,
   "id": "2181d487-8b43-411b-bf62-a337d699970c",
   "metadata": {},
   "outputs": [],
   "source": [
    "#senders = list(sparkSession.read.parquet('hdfs://172.30.17.145:8020/user/admin/sla/v00000/v00000/senders/senders.parquet').toPandas()['CSENDERENDPOINTID'])"
   ]
  },
  {
   "cell_type": "code",
   "execution_count": null,
   "id": "e7742c0c-8602-4990-b626-32997e477363",
   "metadata": {},
   "outputs": [],
   "source": [
    "#senders"
   ]
  },
  {
   "cell_type": "code",
   "execution_count": null,
   "id": "5990b071-582b-4618-ac1a-d5c69437c9a0",
   "metadata": {},
   "outputs": [],
   "source": [
    "senders_files = sparkSession.read.options(delimiter=',') \\\n",
    "                      .csv('hdfs://172.30.17.145:8020/user/admin/sla/' + version + '/senders/senders_files.txt').toPandas()\n",
    "senders_files.columns = ['size','filename']    "
   ]
  },
  {
   "cell_type": "code",
   "execution_count": null,
   "id": "7af633a8-6d76-439f-a892-f76b6b406ecf",
   "metadata": {
    "tags": []
   },
   "outputs": [],
   "source": [
    "filename = senders_files['filename'][0]\n",
    "failed = []\n",
    "for filename in senders_files['filename']:\n",
    "    try:\n",
    "        sparkSession.read.text('hdfs://172.30.17.145:8020/user/admin/sla/' + version + '/encoded/senders/' + filename + '/_SUCCESS')\n",
    "    except Exception as exception: \n",
    "        if not 'temporary' in filename:\n",
    "            failed.append(filename.split('sla_enc_')[1].split('.')[0])"
   ]
  },
  {
   "cell_type": "code",
   "execution_count": null,
   "id": "7c2cfae8-7608-4894-b27c-0a4ea2eaba5e",
   "metadata": {},
   "outputs": [],
   "source": [
    "failed"
   ]
  },
  {
   "cell_type": "markdown",
   "id": "23715061-5e92-47c2-97e6-da38f90484a1",
   "metadata": {},
   "source": [
    "# Examples"
   ]
  },
  {
   "cell_type": "markdown",
   "id": "9cdd0665-ae36-4309-8e4a-d2b0c8846c8c",
   "metadata": {},
   "source": [
    "## some info"
   ]
  },
  {
   "cell_type": "code",
   "execution_count": null,
   "id": "273cacbb-a4fa-456d-93b3-141f6173b6d6",
   "metadata": {},
   "outputs": [],
   "source": [
    "len(senders_files),max(senders_files['size'])"
   ]
  },
  {
   "cell_type": "markdown",
   "id": "59460404-f5a0-46ba-8100-e7be9ccb7848",
   "metadata": {},
   "source": [
    "## get message tracking data "
   ]
  },
  {
   "cell_type": "markdown",
   "id": "a29a1541-6271-495b-8031-a5a6e053da2f",
   "metadata": {},
   "source": [
    "### single file"
   ]
  },
  {
   "cell_type": "code",
   "execution_count": null,
   "id": "7d09641f-a269-41e9-93af-82806f6688ae",
   "metadata": {},
   "outputs": [],
   "source": [
    "def get_empty_message_tracking_dataframe():\n",
    "    columns = ['CGLOBALMESSAGEID', 'CSTARTTIME', 'CENDTIME', 'CSTATUS', 'CSERVICE', \\\n",
    "       'CSENDERENDPOINTID', 'CSENDERPROTOCOL', 'CINBOUNDSIZE', \\\n",
    "       'CRECEIVERPROTOCOL', 'CRECEIVERENDPOINTID', 'CSLATAT', 'CMESSAGETAT2', \\\n",
    "       'CSLADELIVERYTIME', 'year', 'month', 'day', 'hour', 'minute']\n",
    "    return pd.DataFrame(columns=columns)\n",
    "\n",
    "def get_message_tracking_dataframe_of_senders_filename(filename, version=version):\n",
    "    try:\n",
    "        return sparkSession.read.parquet('hdfs://172.30.17.145:8020/user/admin/sla/' + version + '/encoded/senders/' + filename).toPandas()\n",
    "    except Exception as exception: \n",
    "        return get_empty_message_tracking_dataframe()"
   ]
  },
  {
   "cell_type": "code",
   "execution_count": null,
   "id": "128f1198-5af4-4823-aa33-cfc7ef591073",
   "metadata": {},
   "outputs": [],
   "source": [
    "pfall = get_message_tracking_dataframe_of_senders_filename(senders_files['filename'][1])    "
   ]
  },
  {
   "cell_type": "code",
   "execution_count": null,
   "id": "3afe5592-3438-405c-83fb-73c8ee4bcffc",
   "metadata": {},
   "outputs": [],
   "source": [
    "pfall.head()"
   ]
  },
  {
   "cell_type": "code",
   "execution_count": null,
   "id": "8b70bdbd-6cad-4d17-a160-d70e65496113",
   "metadata": {},
   "outputs": [],
   "source": [
    "len(pd.unique(pfall['CGLOBALMESSAGEID'])),len(pfall), pd.unique(pfall['CSTATUS']), pd.unique(pfall['CSERVICE'])"
   ]
  },
  {
   "cell_type": "code",
   "execution_count": null,
   "id": "f66b52bb-9ffb-4991-9daf-8709dabc8a99",
   "metadata": {},
   "outputs": [],
   "source": [
    "pfall[ pfall['CSERVICE'] == -1]"
   ]
  },
  {
   "cell_type": "markdown",
   "id": "d310a475-3462-41ef-8bba-f06ee24ec830",
   "metadata": {},
   "source": [
    "### create parquet file with all senders"
   ]
  },
  {
   "cell_type": "code",
   "execution_count": null,
   "id": "83f63937-5aa7-452f-8924-a5f557728cf5",
   "metadata": {},
   "outputs": [],
   "source": [
    "df = sparkSession.read.parquet('hdfs://172.30.17.145:8020/user/admin/sla/' + version + '/encoded/senders/*')\n",
    "df.write.mode(\"overwrite\").parquet(\"/home/jovyan/work/output/sla_enc_all\" + \".parquet\")\n",
    "#pfall = df.toPandas()"
   ]
  },
  {
   "cell_type": "markdown",
   "id": "626c3999-bf3f-4dea-94b9-eb82c80e7476",
   "metadata": {},
   "source": [
    "### all senders"
   ]
  },
  {
   "cell_type": "code",
   "execution_count": null,
   "id": "108caecc-bc87-438d-934a-ba21d4891172",
   "metadata": {},
   "outputs": [],
   "source": [
    "df = sparkSession.read.parquet('hdfs://172.30.17.145:8020/user/admin/sla/' + version + '/encoded/sla_enc_all' + \".parquet\")"
   ]
  },
  {
   "cell_type": "code",
   "execution_count": null,
   "id": "c2256abe-aa5d-47dd-9863-2edc87c55420",
   "metadata": {},
   "outputs": [],
   "source": [
    "pfall = df.toPandas()"
   ]
  },
  {
   "cell_type": "markdown",
   "id": "46f2d46c-952b-4ede-bbdb-3a26fe2bd21c",
   "metadata": {},
   "source": [
    "## check message tracking files"
   ]
  },
  {
   "cell_type": "code",
   "execution_count": null,
   "id": "a38488fd-4fe0-4b7f-afe1-b13bfd5447e8",
   "metadata": {},
   "outputs": [],
   "source": [
    "def get_skip_senders(senders_files):\n",
    "    skip_senders_files = []\n",
    "    for file in senders_files:\n",
    "        try:\n",
    "            pfall = sparkSession.read.parquet('hdfs://172.30.17.145:8020/user/admin/sla/' + version + '/encoded/senders/' + file).toPandas()\n",
    "            if -1 in pd.unique(pfall['CSENDERENDPOINTID']) :\n",
    "                skip_senders_files.append(file)\n",
    "        except Exception as exception:     \n",
    "            skip_senders_files.append(file)"
   ]
  },
  {
   "cell_type": "code",
   "execution_count": null,
   "id": "06c3258a-f199-44b4-b97f-455253014c9d",
   "metadata": {},
   "outputs": [],
   "source": [
    "skip_senders_files = get_skip_senders(senders_files['filename'])\n",
    "tested_senders_files = [file for file in senders_files['filename'] if file not in skip_senders_files]\n",
    "#len(skip_senders_files)"
   ]
  },
  {
   "cell_type": "markdown",
   "id": "13000b47-9f5a-4760-9178-509013f4e52b",
   "metadata": {},
   "source": [
    "## encoded values"
   ]
  },
  {
   "cell_type": "markdown",
   "id": "61268cb8-9f6c-4368-806f-9adbd3c5cc03",
   "metadata": {},
   "source": [
    "## init encoders (run only once)"
   ]
  },
  {
   "cell_type": "code",
   "execution_count": 21,
   "id": "eb4be366-1b08-41f7-9cc0-1951c479ec6b",
   "metadata": {},
   "outputs": [],
   "source": [
    "# - run this paragraph only once !\n",
    "# - if you get an 'allow_pickle' error you need Kernel/restart kernel\n",
    "\n",
    "import encoder\n",
    "import numpy as np\n",
    "\n",
    "np_load_old = np.load\n",
    "\n",
    "# modify the default parameters of np.load\n",
    "np.load = lambda *a,**k: np_load_old(*a, allow_pickle=True, **k)\n",
    "\n",
    "# restore np.load for future normal usage\n",
    "#np.load = np_load_old"
   ]
  },
  {
   "cell_type": "markdown",
   "id": "456e6970-c1a8-43ff-8363-860f82cf41ec",
   "metadata": {},
   "source": [
    "### encode value"
   ]
  },
  {
   "cell_type": "code",
   "execution_count": 28,
   "id": "ec4a5698-41b3-4c1f-bb14-6402f07d3b5d",
   "metadata": {},
   "outputs": [],
   "source": [
    "def transform(value,column=None, npy= share_directory + 'sla/' + version_sla + '/npy'):\n",
    "    _encoder = encoder.TolerantLabelEncoder(ignore_unknown=True)\n",
    "    _encoder.classes_ = np.load(npy + '/' + column + '.npy')\n",
    "    return int( _encoder.transform([value])[0])"
   ]
  },
  {
   "cell_type": "markdown",
   "id": "7b0472ba-99ab-47c7-9fe9-0da53e391c6e",
   "metadata": {},
   "source": [
    "### decode value"
   ]
  },
  {
   "cell_type": "code",
   "execution_count": 19,
   "id": "f8c80ca2-1136-4593-9fd8-c19ae814dbbd",
   "metadata": {},
   "outputs": [],
   "source": [
    "def inverse_transform(value,column=None, npy= share_directory + 'sla/' + version_sla + '/npy'):\n",
    "    _encoder = encoder.TolerantLabelEncoder(ignore_unknown=True)\n",
    "    _encoder.classes_ = np.load(npy + '/' + column + '.npy')\n",
    "    if type(value) == int:\n",
    "        return str(_encoder.inverse_transform(value))  \n",
    "    elif type(value) == list:\n",
    "        return [str(_encoder.inverse_transform(v)) for v in value]\n",
    "    else:\n",
    "        return None"
   ]
  },
  {
   "cell_type": "code",
   "execution_count": 6,
   "id": "ba247477-f42d-441b-984f-9d4c068f66f6",
   "metadata": {},
   "outputs": [
    {
     "data": {
      "text/plain": [
       "'ERROR'"
      ]
     },
     "execution_count": 6,
     "metadata": {},
     "output_type": "execute_result"
    }
   ],
   "source": [
    "inverse_transform([6,5],column='CSERVICE')\n",
    "inverse_transform(6, 'CSTATUS')\n",
    "#inverse_transform(list(pd.unique(pfall['CSTATUS'])),'CSTATUS')"
   ]
  },
  {
   "cell_type": "markdown",
   "id": "1bffa44e-fe9c-475e-9b27-5f63120eb393",
   "metadata": {},
   "source": [
    "## status : was the message processed successfully ?"
   ]
  },
  {
   "cell_type": "code",
   "execution_count": 23,
   "id": "c8552302-3672-4702-99fc-2427c0e4a6c2",
   "metadata": {},
   "outputs": [],
   "source": [
    "def check_transformed(pfall,column,value):\n",
    "    return pfall[column] == transform(value,column=column)\n",
    "\n",
    "def assign_outcome_error(pfall):\n",
    "    pfall = pfall.assign(error=(~( ( check_transformed(pfall,'CSTATUS','PENDING') & check_transformed(pfall,'CSERVICE','InvoicePortal')  ) | \\\n",
    "        (check_transformed(pfall,'CSTATUS','PENDING') & check_transformed(pfall,'CSERVICE','IDS')  ) | \\\n",
    "        check_transformed(pfall,'CSTATUS','SUCCESS') | \\\n",
    "        check_transformed(pfall,'CSTATUS','SUCCESS_DOWNLOADED') | check_transformed(pfall,'CSTATUS','SUCCESS_POLLQUEUE')  )).astype(int))\n",
    "    return pfall"
   ]
  },
  {
   "cell_type": "code",
   "execution_count": null,
   "id": "4fab24ee-aeaa-4113-bee0-be40b9c82525",
   "metadata": {},
   "outputs": [],
   "source": [
    "pfall = assign_outcome_error(pfall)"
   ]
  },
  {
   "cell_type": "code",
   "execution_count": null,
   "id": "8c9656f9-532e-4909-9625-c1bcee5a7793",
   "metadata": {},
   "outputs": [],
   "source": [
    "pfall[pfall['error'] == 1]"
   ]
  },
  {
   "cell_type": "code",
   "execution_count": null,
   "id": "fd431cf8-52d2-4aab-8e98-791e0e1adf24",
   "metadata": {},
   "outputs": [],
   "source": [
    "#pfall = pfall.assign(outcome=(~( ((pfall['CSTATUS'] == 'PENDING') & (pfall['CSERVICE'] == 'InvoicePortal')) | ((pfall['CSTATUS'] == 'PENDING') & (pfall['CSERVICE'] == 'IDS')) | (pfall['CSTATUS'] == 'SUCCESS') | (pfall['CSTATUS'] == 'SUCCESS_DOWNLOADED') | (pfall['CSTATUS'] == 'SUCCESS_POLLQUEUE'))).astype(int))\n",
    "    "
   ]
  }
 ],
 "metadata": {
  "kernelspec": {
   "display_name": "Python 3 (ipykernel)",
   "language": "python",
   "name": "python3"
  },
  "language_info": {
   "codemirror_mode": {
    "name": "ipython",
    "version": 3
   },
   "file_extension": ".py",
   "mimetype": "text/x-python",
   "name": "python",
   "nbconvert_exporter": "python",
   "pygments_lexer": "ipython3",
   "version": "3.9.10"
  }
 },
 "nbformat": 4,
 "nbformat_minor": 5
}
