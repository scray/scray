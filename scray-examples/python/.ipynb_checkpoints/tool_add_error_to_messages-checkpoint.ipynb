{
 "cells": [
  {
   "cell_type": "markdown",
   "id": "4c7bf0cc-2bee-4491-b8e6-ba3e624ecb4d",
   "metadata": {},
   "source": [
    "# tool_merge_encoded_yearly_messages_all_senders"
   ]
  },
  {
   "cell_type": "markdown",
   "id": "a5cf76a5-dfad-4145-bb46-46e821783320",
   "metadata": {},
   "source": [
    "# Main"
   ]
  },
  {
   "cell_type": "code",
   "execution_count": 1,
   "id": "1315d67c-dca1-42e7-a044-6be3f2fbc49e",
   "metadata": {},
   "outputs": [],
   "source": [
    "import dfBasics\n",
    "import common\n",
    "import encoder\n",
    "import pfAdapt\n",
    "#import charts"
   ]
  },
  {
   "cell_type": "code",
   "execution_count": 2,
   "id": "7546a523-8667-44c7-a2dd-ca55815afea1",
   "metadata": {},
   "outputs": [],
   "source": [
    "version_sla = 'v00001'\n",
    "version     = version_sla + '/v00000'\n",
    "\n",
    "home_directory  =  '/home/jovyan/work/'\n",
    "share_directory =  '/home/jovyan/work/share/'\n",
    "#share_directory =  '/home/jovyan/share/'"
   ]
  },
  {
   "cell_type": "code",
   "execution_count": 3,
   "id": "9f057a9f-e288-42c3-b185-00a14bc15162",
   "metadata": {},
   "outputs": [],
   "source": [
    "import pandas as pd\n",
    "from pyspark.sql import functions"
   ]
  },
  {
   "cell_type": "markdown",
   "id": "f6c591b8-8cb4-46c4-9459-4510fcc6006a",
   "metadata": {},
   "source": [
    "## load dataframe : v00001_v00001"
   ]
  },
  {
   "cell_type": "code",
   "execution_count": 4,
   "id": "71195997-0c19-4e83-9206-7349990463df",
   "metadata": {},
   "outputs": [],
   "source": [
    "sparkSession = dfBasics.getSparkSession()\n",
    "df = sparkSession.read.parquet('/home/jovyan/work/output/sla_enc_all_v00001_v00001.parquet')"
   ]
  },
  {
   "cell_type": "markdown",
   "id": "a33e7593-3682-4600-9a0e-2744039a453e",
   "metadata": {},
   "source": [
    "## encoded values"
   ]
  },
  {
   "cell_type": "markdown",
   "id": "2205ddb5-c7d7-4316-89fd-69a72592d05a",
   "metadata": {},
   "source": [
    "## init encoders (run only once)"
   ]
  },
  {
   "cell_type": "code",
   "execution_count": 5,
   "id": "450f14e3-3265-40e8-978f-8dab7fe8e9ed",
   "metadata": {},
   "outputs": [],
   "source": [
    "# - run this paragraph only once !\n",
    "# - if you get an 'allow_pickle' error you need Kernel/restart kernel\n",
    "import numpy as np\n",
    "import encoder\n",
    "\n",
    "np_load_old = np.load\n",
    "\n",
    "# modify the default parameters of np.load\n",
    "np.load = lambda *a,**k: np_load_old(*a, allow_pickle=True, **k)\n",
    "\n",
    "# restore np.load for future normal usage\n",
    "#np.load = np_load_old"
   ]
  },
  {
   "cell_type": "markdown",
   "id": "e527732a-22c7-4c50-80d0-eb1003c517c7",
   "metadata": {},
   "source": [
    "### encode value"
   ]
  },
  {
   "cell_type": "code",
   "execution_count": 6,
   "id": "e0ae2588-4cb4-42e8-bfc0-f496f65f9987",
   "metadata": {},
   "outputs": [],
   "source": [
    "import numpy as np\n",
    "def transform(value,column=None, npy= share_directory + 'sla/' + version_sla + '/npy'):\n",
    "    np.load = lambda *a,**k: np_load_old(*a, allow_pickle=True, **k)\n",
    "    _encoder = encoder.TolerantLabelEncoder(ignore_unknown=True)\n",
    "    _encoder.classes_ = np.load(npy + '/' + column + '.npy')\n",
    "    return int( _encoder.transform([value])[0])"
   ]
  },
  {
   "cell_type": "markdown",
   "id": "5e448bb8-a026-4788-aa7d-b043d57e6b74",
   "metadata": {},
   "source": [
    "### decode value"
   ]
  },
  {
   "cell_type": "code",
   "execution_count": 7,
   "id": "4e39287c-74d3-45d3-8566-3078525be01c",
   "metadata": {},
   "outputs": [],
   "source": [
    "def inverse_transform(value,column=None, npy= share_directory + 'sla/' + version_sla + '/npy'):\n",
    "    _encoder = encoder.TolerantLabelEncoder(ignore_unknown=True)\n",
    "    _encoder.classes_ = np.load(npy + '/' + column + '.npy')\n",
    "    if type(value) == int:\n",
    "        return str(_encoder.inverse_transform(value))  \n",
    "    elif type(value) == list:\n",
    "        return [str(_encoder.inverse_transform(v)) for v in value]\n",
    "    else:\n",
    "        return None"
   ]
  },
  {
   "cell_type": "code",
   "execution_count": 8,
   "id": "c8552302-3672-4702-99fc-2427c0e4a6c2",
   "metadata": {},
   "outputs": [],
   "source": [
    "def check_transformed(value0,column,value):\n",
    "    return value0 == transform(value,column=column)\n",
    "\n",
    "def calc_error(columns):\n",
    "    status = columns[0]\n",
    "    service = columns[1]\n",
    "    error=int(not( ( check_transformed(status,'CSTATUS','PENDING') & check_transformed(service,'CSERVICE','InvoicePortal')  ) | \\\n",
    "        (check_transformed(status,'CSTATUS','PENDING') & check_transformed(service,'CSERVICE','IDS')  ) | \\\n",
    "        check_transformed(status,'CSTATUS','SUCCESS') | \\\n",
    "        check_transformed(status,'CSTATUS','SUCCESS_DOWNLOADED') | check_transformed(status,'CSTATUS','SUCCESS_POLLQUEUE')  ))\n",
    "    return error"
   ]
  },
  {
   "cell_type": "code",
   "execution_count": 9,
   "id": "9f1220f1-e45a-43dd-b258-c84a33cbe088",
   "metadata": {},
   "outputs": [],
   "source": [
    "import pyspark.sql.functions as f\n",
    "from pyspark.sql.functions import udf\n",
    "from pyspark.sql.types import IntegerType\n",
    "udf_add_error = udf(lambda y,z: calc_error((y,z)), IntegerType())"
   ]
  },
  {
   "cell_type": "code",
   "execution_count": 10,
   "id": "9b4c387f-222e-4cfb-8987-ebd064faad05",
   "metadata": {},
   "outputs": [],
   "source": [
    "df3 = df.withColumn(\"error\", udf_add_error(f.col(\"CSTATUS\"), f.col(\"CSERVICE\")).cast(IntegerType()))"
   ]
  },
  {
   "cell_type": "markdown",
   "id": "7235f53b-e0a7-4586-baaf-c9be1835be99",
   "metadata": {},
   "source": [
    "## store updated dataframe including errors"
   ]
  },
  {
   "cell_type": "code",
   "execution_count": 1,
   "id": "cb46f1b1-f446-4c31-a956-0df60b1bfe54",
   "metadata": {},
   "outputs": [],
   "source": [
    "def process(year,month):\n",
    "    df4 = df3.where(f.col(\"year\").isin([year])).where(f.col(\"month\").isin([month]))\n",
    "    df4.write.mode('overwrite').parquet('/home/jovyan/work/output/sla_enc_all_v00001_v00002_' + str(year) + '_' + str(month) + '.parquet')"
   ]
  },
  {
   "cell_type": "code",
   "execution_count": null,
   "id": "a90746d9-8245-4a4b-a509-6b5af4ed32be",
   "metadata": {},
   "outputs": [],
   "source": [
    "years = [2021,2022]\n",
    "for year in years:\n",
    "    for month in range(1,13):\n",
    "        process(year,month)        "
   ]
  },
  {
   "cell_type": "code",
   "execution_count": null,
   "id": "18c1b1bf-f551-4843-80e5-4269ddfc3ec6",
   "metadata": {},
   "outputs": [],
   "source": [
    "year = 2019\n",
    "for month in range(10,13):\n",
    "        process(year,month)     "
   ]
  },
  {
   "cell_type": "code",
   "execution_count": null,
   "id": "ad1db904-c9ee-45b5-a441-18be6fe58bfc",
   "metadata": {},
   "outputs": [],
   "source": [
    "year = 2023\n",
    "for month in range(1,7):\n",
    "        process(year,month)     "
   ]
  },
  {
   "cell_type": "code",
   "execution_count": null,
   "id": "2e93468b-6031-488d-bd0d-97b38ca367aa",
   "metadata": {},
   "outputs": [],
   "source": [
    "#df3.write.mode('overwrite').parquet('/home/jovyan/work/output/sla_enc_all_v00001_v00002.parquet')"
   ]
  }
 ],
 "metadata": {
  "kernelspec": {
   "display_name": "Python 3 (ipykernel)",
   "language": "python",
   "name": "python3"
  },
  "language_info": {
   "codemirror_mode": {
    "name": "ipython",
    "version": 3
   },
   "file_extension": ".py",
   "mimetype": "text/x-python",
   "name": "python",
   "nbconvert_exporter": "python",
   "pygments_lexer": "ipython3",
   "version": "3.9.10"
  }
 },
 "nbformat": 4,
 "nbformat_minor": 5
}
