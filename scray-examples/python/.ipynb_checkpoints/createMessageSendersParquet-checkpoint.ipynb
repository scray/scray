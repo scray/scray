{
 "cells": [
  {
   "cell_type": "markdown",
   "metadata": {},
   "source": [
    "# Base for Tools to encode messages (current)"
   ]
  },
  {
   "cell_type": "markdown",
   "metadata": {},
   "source": [
    "# Main"
   ]
  },
  {
   "cell_type": "code",
   "execution_count": 1,
   "metadata": {},
   "outputs": [],
   "source": [
    "import dfBasics\n",
    "import common\n",
    "import encoder\n",
    "import pfAdapt\n",
    "#import charts"
   ]
  },
  {
   "cell_type": "code",
   "execution_count": 2,
   "metadata": {},
   "outputs": [],
   "source": [
    "import pandas as pd\n",
    "from pyspark.sql import functions"
   ]
  },
  {
   "cell_type": "code",
   "execution_count": 3,
   "metadata": {},
   "outputs": [],
   "source": [
    "columns = ['CGLOBALMESSAGEID', 'CSTARTTIME', 'CENDTIME', 'CSTATUS', 'CSERVICE',\\\n",
    "       'CSLABILLINGMONTH', 'CSENDERPROTOCOL', 'CSENDERENDPOINTID',\\\n",
    "       'CINBOUNDSIZE', 'CRECEIVERPROTOCOL', 'CRECEIVERENDPOINTID', 'CSLATAT',\\\n",
    "       'CMESSAGETAT2', 'CSLADELIVERYTIME']\n",
    "# withot 'CSLABILLINGMONTH'\n",
    "def get_columns_2():\n",
    "    columns = ['CGLOBALMESSAGEID', 'CSTARTTIME', 'CENDTIME', 'CSTATUS', 'CSERVICE',\\\n",
    "            'CSENDERPROTOCOL', 'CSENDERENDPOINTID',\\\n",
    "           'CINBOUNDSIZE', 'CRECEIVERPROTOCOL', 'CRECEIVERENDPOINTID', 'CSLATAT',\\\n",
    "           'CMESSAGETAT2', 'CSLADELIVERYTIME']\n",
    "    return columns\n",
    "\n",
    "columns = ['CGLOBALMESSAGEID',  'CSTARTTIME', 'CENDTIME', 'CSTATUS', 'CSERVICE', 'CSENDERENDPOINTID', 'CSENDERPROTOCOL', 'CINBOUNDSIZE', 'CRECEIVERPROTOCOL', 'CRECEIVERENDPOINTID', 'CSLATAT', 'CMESSAGETAT2', 'CSLADELIVERYTIME']\n",
    "     \n",
    "\n",
    "#columns = get_columns_2()\n",
    "#to count messages sent\n",
    "#columns = [ 'CSTARTTIME', 'CSENDERENDPOINTID']"
   ]
  },
  {
   "cell_type": "code",
   "execution_count": 4,
   "metadata": {
    "tags": []
   },
   "outputs": [],
   "source": [
    "sparkSession = dfBasics.getSparkSession()"
   ]
  },
  {
   "cell_type": "markdown",
   "metadata": {},
   "source": [
    "## work"
   ]
  },
  {
   "cell_type": "code",
   "execution_count": 8,
   "metadata": {},
   "outputs": [],
   "source": [
    "df = sparkSession.read.parquet('hdfs://172.30.17.145:8020/sla_sql_data/*/*').select(columns).dropDuplicates() "
   ]
  },
  {
   "cell_type": "code",
   "execution_count": null,
   "metadata": {},
   "outputs": [],
   "source": [
    "#!rm -rf /tmp/sla.parquet\n",
    "df.write.mode(\"overwrite\").parquet(\"/tmp/sla.parquet\") "
   ]
  },
  {
   "cell_type": "code",
   "execution_count": null,
   "metadata": {},
   "outputs": [],
   "source": [
    "df = sparkSession.read.parquet(\"/tmp/sla.parquet\")"
   ]
  },
  {
   "cell_type": "code",
   "execution_count": null,
   "metadata": {},
   "outputs": [],
   "source": [
    "df.head()  "
   ]
  },
  {
   "cell_type": "code",
   "execution_count": null,
   "metadata": {},
   "outputs": [],
   "source": []
  },
  {
   "cell_type": "code",
   "execution_count": 23,
   "metadata": {},
   "outputs": [
    {
     "ename": "ModuleNotFoundError",
     "evalue": "No module named 'pywebhdfs'",
     "output_type": "error",
     "traceback": [
      "\u001b[0;31m---------------------------------------------------------------------------\u001b[0m",
      "\u001b[0;31mModuleNotFoundError\u001b[0m                       Traceback (most recent call last)",
      "Input \u001b[0;32mIn [23]\u001b[0m, in \u001b[0;36m<module>\u001b[0;34m\u001b[0m\n\u001b[1;32m      1\u001b[0m \u001b[38;5;28;01mimport\u001b[39;00m \u001b[38;5;21;01mjson\u001b[39;00m\n\u001b[1;32m      2\u001b[0m \u001b[38;5;28;01mfrom\u001b[39;00m \u001b[38;5;21;01mpprint\u001b[39;00m \u001b[38;5;28;01mimport\u001b[39;00m pprint\n\u001b[0;32m----> 3\u001b[0m \u001b[38;5;28;01mfrom\u001b[39;00m \u001b[38;5;21;01mpywebhdfs\u001b[39;00m\u001b[38;5;21;01m.\u001b[39;00m\u001b[38;5;21;01mwebhdfs\u001b[39;00m \u001b[38;5;28;01mimport\u001b[39;00m PyWebHdfsClient\n\u001b[1;32m      5\u001b[0m hdfs \u001b[38;5;241m=\u001b[39m PyWebHdfsClient(host\u001b[38;5;241m=\u001b[39m\u001b[38;5;124m'\u001b[39m\u001b[38;5;124m172.30.17.145\u001b[39m\u001b[38;5;124m'\u001b[39m,port\u001b[38;5;241m=\u001b[39m\u001b[38;5;124m'\u001b[39m\u001b[38;5;124m50070\u001b[39m\u001b[38;5;124m'\u001b[39m, user_name\u001b[38;5;241m=\u001b[39m\u001b[38;5;124m'\u001b[39m\u001b[38;5;124mhdfs\u001b[39m\u001b[38;5;124m'\u001b[39m)  \u001b[38;5;66;03m# Use your own host/port/user_name config\u001b[39;00m\n\u001b[1;32m      7\u001b[0m data \u001b[38;5;241m=\u001b[39m hdfs\u001b[38;5;241m.\u001b[39mlist_dir(\u001b[38;5;124m\"\u001b[39m\u001b[38;5;124m/tmp\u001b[39m\u001b[38;5;124m\"\u001b[39m)  \u001b[38;5;66;03m# Use your preferred directory, without the leading \"/\"\u001b[39;00m\n",
      "\u001b[0;31mModuleNotFoundError\u001b[0m: No module named 'pywebhdfs'"
     ]
    }
   ],
   "source": [
    "https://stackoverflow.com/questions/37989520/how-to-list-hdfs-directory-contents-using-webhdfs\n",
    "import json\n",
    "from pprint import pprint\n",
    "from pywebhdfs.webhdfs import PyWebHdfsClient\n",
    "\n",
    "hdfs = PyWebHdfsClient(host='172.30.17.145',port='50070', user_name='hdfs')  # Use your own host/port/user_name config\n",
    "\n",
    "data = hdfs.list_dir(\"/tmp\")  # Use your preferred directory, without the leading \"/\"\n",
    "\n",
    "file_statuses = data[\"FileStatuses\"]\n",
    "#pprint file_statuses   # Display the dict\n",
    "\n",
    "#for item in file_statuses[\"FileStatus\"]:\n",
    "#    print item[\"pathSuffix\"]   # Display the item filename\n"
   ]
  },
  {
   "cell_type": "code",
   "execution_count": null,
   "metadata": {},
   "outputs": [],
   "source": []
  },
  {
   "cell_type": "code",
   "execution_count": null,
   "metadata": {},
   "outputs": [],
   "source": [
    "# fix null endpoints\n",
    "from pyspark.sql.functions import when\n",
    "df2 = df.withColumn(\"CSENDERENDPOINTID\", when(df.CSENDERENDPOINTID.isNull(), \"None\").otherwise(df.CSENDERENDPOINTID))"
   ]
  },
  {
   "cell_type": "code",
   "execution_count": null,
   "metadata": {},
   "outputs": [],
   "source": [
    "df2.head()"
   ]
  },
  {
   "cell_type": "code",
   "execution_count": null,
   "metadata": {},
   "outputs": [],
   "source": [
    "#!rm -rf /tmp/sla.parquet\n",
    "\n",
    "df2.write.mode(\"overwrite\").parquet(\"/tmp/sla.parquet\") "
   ]
  },
  {
   "cell_type": "markdown",
   "metadata": {},
   "source": [
    "## create file with current sending endpoints"
   ]
  },
  {
   "cell_type": "code",
   "execution_count": null,
   "metadata": {
    "tags": []
   },
   "outputs": [],
   "source": [
    "df = sparkSession.read.parquet('hdfs://172.30.17.145:8020/sla_sql_data/*/*').select(['CSENDERENDPOINTID']).dropDuplicates() "
   ]
  },
  {
   "cell_type": "code",
   "execution_count": null,
   "metadata": {},
   "outputs": [],
   "source": [
    "senders = df.toPandas() \n",
    "senders.to_parquet('/tmp/senders' + '.parquet', engine='pyarrow', compression='GZIP')"
   ]
  },
  {
   "cell_type": "code",
   "execution_count": null,
   "metadata": {},
   "outputs": [],
   "source": [
    "!ls /tmp"
   ]
  },
  {
   "cell_type": "code",
   "execution_count": null,
   "metadata": {},
   "outputs": [],
   "source": [
    "senders = df2.select([ 'CSENDERENDPOINTID']).dropDuplicates().toPandas() "
   ]
  },
  {
   "cell_type": "code",
   "execution_count": null,
   "metadata": {},
   "outputs": [],
   "source": [
    "senders.to_parquet('/tmp/senders' + '.parquet', engine='pyarrow', compression='GZIP')"
   ]
  },
  {
   "cell_type": "code",
   "execution_count": 5,
   "metadata": {},
   "outputs": [],
   "source": [
    "senders = sparkSession.read.parquet(\"/tmp/senders.parquet\")\n",
    "senders = list(senders.toPandas()['CSENDERENDPOINTID'])"
   ]
  },
  {
   "cell_type": "code",
   "execution_count": null,
   "metadata": {},
   "outputs": [],
   "source": [
    "senders = list(senders['CSENDERENDPOINTID'])"
   ]
  },
  {
   "cell_type": "code",
   "execution_count": null,
   "metadata": {},
   "outputs": [],
   "source": [
    "senders[0]"
   ]
  },
  {
   "cell_type": "markdown",
   "metadata": {},
   "source": [
    "## create column encoders (pyspark)"
   ]
  },
  {
   "cell_type": "code",
   "execution_count": null,
   "metadata": {},
   "outputs": [],
   "source": [
    "import numpy as np\n",
    "import encoder\n",
    "\n",
    "def createEncoders(dataall,columns):\n",
    "    for column in columns:\n",
    "        le = encoder.TolerantLabelEncoder(ignore_unknown=True)\n",
    "        #le.fit([1, 2, 2, 6])\n",
    "        le.fit(dataall[column])\n",
    "        encoder.LabelEncoder()\n",
    "        #print(le.classes_)\n",
    "        np.save('/home/jovyan/work/cls/jupyter/npy/' + column + '.npy', le.classes_)\n",
    "        \n",
    "#!ls /home/jovyan/work/cls/jupyter/npy\n",
    "#createEncoders(senders,['CSENDERENDPOINTID'])"
   ]
  },
  {
   "cell_type": "code",
   "execution_count": null,
   "metadata": {},
   "outputs": [],
   "source": [
    "columns = list(df.limit(1).toPandas().columns)\n",
    "columns.remove('CGLOBALMESSAGEID')\n",
    "columns.remove('CSLATAT')\n",
    "columns.remove('CMESSAGETAT2') \n",
    "columns.remove('CSLADELIVERYTIME')\n",
    "columns.remove('CINBOUNDSIZE')"
   ]
  },
  {
   "cell_type": "code",
   "execution_count": null,
   "metadata": {},
   "outputs": [],
   "source": [
    "for column in columns:\n",
    "    print (column)\n",
    "    pfall=df.select([column]).dropDuplicates().toPandas()\n",
    "    createEncoders(pfall,[column])"
   ]
  },
  {
   "cell_type": "markdown",
   "metadata": {},
   "source": [
    "## list directory"
   ]
  },
  {
   "cell_type": "code",
   "execution_count": null,
   "metadata": {},
   "outputs": [],
   "source": [
    "from os import listdir\n",
    "\n",
    "def listdirectory(path=None,filter='.'):\n",
    "    return [x for x in listdir(path) if not x.startswith(filter)]    \n",
    "\n",
    "_files = listdirectory(path='/tmp/enc')"
   ]
  },
  {
   "cell_type": "code",
   "execution_count": null,
   "metadata": {},
   "outputs": [],
   "source": [
    "!mkdir -p /tmp/enc"
   ]
  },
  {
   "cell_type": "markdown",
   "metadata": {},
   "source": [
    "## encode columns"
   ]
  },
  {
   "cell_type": "code",
   "execution_count": null,
   "metadata": {},
   "outputs": [],
   "source": [
    "df = sparkSession.read.parquet(\"/tmp/sla.parquet\")\n",
    "#senders = pd.read_parquet('/tmp/senders' + '.parquet', engine='pyarrow')"
   ]
  },
  {
   "cell_type": "code",
   "execution_count": 6,
   "metadata": {},
   "outputs": [],
   "source": [
    "from pyspark.sql.functions import udf\n",
    "from pyspark.sql.types import StringType\n",
    "\n",
    "def transform(value):\n",
    "    return int( _encoder.transform([value])[0])\n",
    "    \n",
    "udf_transform = udf(lambda z: transform(z), StringType())\n",
    "\n",
    "#df2.withColumn(\"CSENDERENDPOINTID\", str( _encoder.transform([df2.CSENDERENDPOINTID])[0])) \n",
    "#df2 = df2.withColumn(\"CSENDERENDPOINTID\", udf_transform(df2.CSENDERENDPOINTID)) "
   ]
  },
  {
   "cell_type": "code",
   "execution_count": null,
   "metadata": {},
   "outputs": [],
   "source": [
    "senders = sparkSession.read.parquet(\"/tmp/senders.parquet\")\n",
    "senders = list(senders.toPandas()['CSENDERENDPOINTID'])"
   ]
  },
  {
   "cell_type": "code",
   "execution_count": 9,
   "metadata": {},
   "outputs": [],
   "source": [
    "columns = list(df.limit(1).toPandas().columns)\n",
    "columns.remove('CGLOBALMESSAGEID')\n",
    "columns.remove('CSLATAT')\n",
    "columns.remove('CMESSAGETAT2') \n",
    "columns.remove('CSLADELIVERYTIME')\n",
    "columns.remove('CINBOUNDSIZE')\n",
    "columns.remove('CSTARTTIME')\n",
    "columns.remove('CENDTIME')"
   ]
  },
  {
   "cell_type": "code",
   "execution_count": 24,
   "metadata": {},
   "outputs": [],
   "source": [
    "from datetime import time\n",
    "import datetime as dt\n",
    "import calendar\n",
    "import pytz\n",
    "de = pytz.timezone('Europe/Berlin')\n",
    "from pyspark.sql.types import IntegerType\n",
    "\n",
    "# long timestamp\n",
    "def date(x):\n",
    "    return  dt.datetime.fromtimestamp(float(x) / 1e3, tz=de)\n",
    "\n",
    "udf_add_year = udf(lambda z: date(z).date().year, IntegerType())\n",
    "udf_add_month = udf(lambda z: date(z).date().month, IntegerType())\n",
    "udf_add_day = udf(lambda z: date(z).date().day, IntegerType())\n",
    "udf_add_hour = udf(lambda z: date(z).time().hour, IntegerType())\n",
    "udf_add_minute = udf(lambda z: date(z).time().minute, IntegerType())"
   ]
  },
  {
   "cell_type": "code",
   "execution_count": 11,
   "metadata": {},
   "outputs": [],
   "source": [
    "import numpy as np\n",
    "import encoder\n",
    "from pyspark.sql.functions import col\n",
    "\n",
    "def encode_columns_spark(dataframe=None,columns=None, npy='/home/jovyan/work/npy'):\n",
    "    for column in columns:\n",
    "        global _encoder\n",
    "        #print (column)\n",
    "        _encoder = encoder.TolerantLabelEncoder(ignore_unknown=True)\n",
    "        _encoder.classes_ = np.load(npy + '/' + column + '.npy')\n",
    "        #dataall[column] = _encoder.transform(dataall[column]) \n",
    "        udf_transform = udf(lambda z: transform(z), StringType())\n",
    "        dataframe=dataframe.withColumn(column, udf_transform(col(column)).cast(\"Integer\"))\n",
    "        #df3.head()\n",
    "    return dataframe"
   ]
  },
  {
   "cell_type": "code",
   "execution_count": null,
   "metadata": {},
   "outputs": [],
   "source": [
    "#!ls /home/jovyan/work/npy"
   ]
  },
  {
   "cell_type": "code",
   "execution_count": 12,
   "metadata": {},
   "outputs": [],
   "source": [
    "def cast_spark_columns(dataframe=None,columns=[],type=\"int\" ):\n",
    "    for column in columns:\n",
    "        dataframe = dataframe.withColumn(column, col(column).cast(type))\n",
    "    return dataframe    "
   ]
  },
  {
   "cell_type": "code",
   "execution_count": 29,
   "metadata": {},
   "outputs": [],
   "source": [
    "def process(sender=None, dataframe=None):\n",
    "    df3 = dataframe.where(f.col(\"CSENDERENDPOINTID\").isin([sender]))\n",
    "    df3 = encode_columns_spark(dataframe=df3,columns=columns)\n",
    "    df3 = df3.withColumn(\"year\", udf_add_year(df3.CSTARTTIME)).withColumn(\"month\", udf_add_month(df3.CSTARTTIME)).withColumn(\"day\", udf_add_day(df3.CSTARTTIME)).withColumn(\"hour\", udf_add_hour(df3.CSTARTTIME)).withColumn(\"minute\", udf_add_minute(df3.CSTARTTIME)) \n",
    "    df3=cast_spark_columns(dataframe=df3, columns=['CSTARTTIME', 'CENDTIME','CINBOUNDSIZE','CSLATAT','CMESSAGETAT2','CSLADELIVERYTIME'], type='long')\n",
    "    return df3"
   ]
  },
  {
   "cell_type": "code",
   "execution_count": 14,
   "metadata": {},
   "outputs": [],
   "source": [
    "np_load_old = np.load\n",
    "\n",
    "# modify the default parameters of np.load\n",
    "np.load = lambda *a,**k: np_load_old(*a, allow_pickle=True, **k)\n",
    "\n",
    "# restore np.load for future normal usage\n",
    "#np.load = np_load_old"
   ]
  },
  {
   "cell_type": "code",
   "execution_count": null,
   "metadata": {},
   "outputs": [],
   "source": [
    "import pyspark.sql.functions as f\n",
    "#sender = senders[0]\n",
    "for sender in senders:\n",
    "    df4 = process(sender=sender,dataframe=df)\n",
    "    df4.write.mode(\"overwrite\").parquet(\"/tmp/enc/sla_enc_\" + sender + \".parquet\")"
   ]
  },
  {
   "cell_type": "code",
   "execution_count": 30,
   "metadata": {},
   "outputs": [],
   "source": [
    "import pyspark.sql.functions as f\n",
    "\n",
    "sender=senders[0]\n",
    "df4 = process(sender=sender,dataframe=df)"
   ]
  },
  {
   "cell_type": "code",
   "execution_count": null,
   "metadata": {},
   "outputs": [],
   "source": [
    "df4.head()"
   ]
  },
  {
   "cell_type": "code",
   "execution_count": 31,
   "metadata": {},
   "outputs": [
    {
     "name": "stdout",
     "output_type": "stream",
     "text": [
      "Tue 17 Jan 2023 03:12:35 PM UTC\n"
     ]
    }
   ],
   "source": [
    "#!ls /home/jovyan/work/npy\n",
    "!date\n",
    "pfall = df4.toPandas()"
   ]
  },
  {
   "cell_type": "code",
   "execution_count": 33,
   "metadata": {},
   "outputs": [],
   "source": [
    "df4.write.mode(\"overwrite\").parquet(\"/tmp/enc/sla_enc_\" + sender + \".parquet\")"
   ]
  },
  {
   "cell_type": "code",
   "execution_count": 36,
   "metadata": {},
   "outputs": [],
   "source": [
    "#!ls /tmp/enc/sla_enc_772e6440-e973-11e8-be62-528eac1b495c.parquet"
   ]
  },
  {
   "cell_type": "code",
   "execution_count": 32,
   "metadata": {},
   "outputs": [
    {
     "data": {
      "text/html": [
       "<div>\n",
       "<style scoped>\n",
       "    .dataframe tbody tr th:only-of-type {\n",
       "        vertical-align: middle;\n",
       "    }\n",
       "\n",
       "    .dataframe tbody tr th {\n",
       "        vertical-align: top;\n",
       "    }\n",
       "\n",
       "    .dataframe thead th {\n",
       "        text-align: right;\n",
       "    }\n",
       "</style>\n",
       "<table border=\"1\" class=\"dataframe\">\n",
       "  <thead>\n",
       "    <tr style=\"text-align: right;\">\n",
       "      <th></th>\n",
       "      <th>CGLOBALMESSAGEID</th>\n",
       "      <th>CSTARTTIME</th>\n",
       "      <th>CENDTIME</th>\n",
       "      <th>CSTATUS</th>\n",
       "      <th>CSERVICE</th>\n",
       "      <th>CSENDERENDPOINTID</th>\n",
       "      <th>CSENDERPROTOCOL</th>\n",
       "      <th>CINBOUNDSIZE</th>\n",
       "      <th>CRECEIVERPROTOCOL</th>\n",
       "      <th>CRECEIVERENDPOINTID</th>\n",
       "      <th>CSLATAT</th>\n",
       "      <th>CMESSAGETAT2</th>\n",
       "      <th>CSLADELIVERYTIME</th>\n",
       "      <th>year</th>\n",
       "      <th>month</th>\n",
       "      <th>day</th>\n",
       "      <th>hour</th>\n",
       "      <th>minute</th>\n",
       "    </tr>\n",
       "  </thead>\n",
       "  <tbody>\n",
       "    <tr>\n",
       "      <th>0</th>\n",
       "      <td>9c375341-fa2b-11e9-9cf9-6e9eac1e100b</td>\n",
       "      <td>1572340082291</td>\n",
       "      <td>1572340095549</td>\n",
       "      <td>11</td>\n",
       "      <td>6</td>\n",
       "      <td>1118</td>\n",
       "      <td>4</td>\n",
       "      <td>998330</td>\n",
       "      <td>0</td>\n",
       "      <td>1896</td>\n",
       "      <td>13110</td>\n",
       "      <td>13258</td>\n",
       "      <td>1572340095401</td>\n",
       "      <td>2019</td>\n",
       "      <td>10</td>\n",
       "      <td>29</td>\n",
       "      <td>10</td>\n",
       "      <td>8</td>\n",
       "    </tr>\n",
       "    <tr>\n",
       "      <th>1</th>\n",
       "      <td>ea4c1041-3903-11ea-ae99-31b5ac1e100c</td>\n",
       "      <td>1579249956675</td>\n",
       "      <td>1579249965825</td>\n",
       "      <td>11</td>\n",
       "      <td>6</td>\n",
       "      <td>1118</td>\n",
       "      <td>4</td>\n",
       "      <td>14916</td>\n",
       "      <td>0</td>\n",
       "      <td>601</td>\n",
       "      <td>9062</td>\n",
       "      <td>9150</td>\n",
       "      <td>1579249965737</td>\n",
       "      <td>2020</td>\n",
       "      <td>1</td>\n",
       "      <td>17</td>\n",
       "      <td>9</td>\n",
       "      <td>32</td>\n",
       "    </tr>\n",
       "    <tr>\n",
       "      <th>2</th>\n",
       "      <td>39007911-40fc-11ea-abd6-95efac1e100b</td>\n",
       "      <td>1580126262048</td>\n",
       "      <td>1580126272526</td>\n",
       "      <td>11</td>\n",
       "      <td>6</td>\n",
       "      <td>1118</td>\n",
       "      <td>4</td>\n",
       "      <td>54610</td>\n",
       "      <td>0</td>\n",
       "      <td>1896</td>\n",
       "      <td>10289</td>\n",
       "      <td>10478</td>\n",
       "      <td>1580126272337</td>\n",
       "      <td>2020</td>\n",
       "      <td>1</td>\n",
       "      <td>27</td>\n",
       "      <td>12</td>\n",
       "      <td>57</td>\n",
       "    </tr>\n",
       "    <tr>\n",
       "      <th>3</th>\n",
       "      <td>13f2ca62-fa7f-11e9-92f2-f5adac1e100c</td>\n",
       "      <td>1572375931398</td>\n",
       "      <td>1572375942951</td>\n",
       "      <td>11</td>\n",
       "      <td>6</td>\n",
       "      <td>1118</td>\n",
       "      <td>4</td>\n",
       "      <td>14713</td>\n",
       "      <td>0</td>\n",
       "      <td>1002</td>\n",
       "      <td>11395</td>\n",
       "      <td>11553</td>\n",
       "      <td>1572375942793</td>\n",
       "      <td>2019</td>\n",
       "      <td>10</td>\n",
       "      <td>29</td>\n",
       "      <td>20</td>\n",
       "      <td>5</td>\n",
       "    </tr>\n",
       "    <tr>\n",
       "      <th>4</th>\n",
       "      <td>b89a6a12-fb00-11e9-9cf9-6e9eac1e100b</td>\n",
       "      <td>1572431612721</td>\n",
       "      <td>1572431621934</td>\n",
       "      <td>11</td>\n",
       "      <td>6</td>\n",
       "      <td>1118</td>\n",
       "      <td>4</td>\n",
       "      <td>18351</td>\n",
       "      <td>0</td>\n",
       "      <td>979</td>\n",
       "      <td>9054</td>\n",
       "      <td>9213</td>\n",
       "      <td>1572431621775</td>\n",
       "      <td>2019</td>\n",
       "      <td>10</td>\n",
       "      <td>30</td>\n",
       "      <td>11</td>\n",
       "      <td>33</td>\n",
       "    </tr>\n",
       "    <tr>\n",
       "      <th>...</th>\n",
       "      <td>...</td>\n",
       "      <td>...</td>\n",
       "      <td>...</td>\n",
       "      <td>...</td>\n",
       "      <td>...</td>\n",
       "      <td>...</td>\n",
       "      <td>...</td>\n",
       "      <td>...</td>\n",
       "      <td>...</td>\n",
       "      <td>...</td>\n",
       "      <td>...</td>\n",
       "      <td>...</td>\n",
       "      <td>...</td>\n",
       "      <td>...</td>\n",
       "      <td>...</td>\n",
       "      <td>...</td>\n",
       "      <td>...</td>\n",
       "      <td>...</td>\n",
       "    </tr>\n",
       "    <tr>\n",
       "      <th>44228</th>\n",
       "      <td>8dd93a33-e566-11ea-a215-6070ac1e100c</td>\n",
       "      <td>1598203921747</td>\n",
       "      <td>1598203925828</td>\n",
       "      <td>11</td>\n",
       "      <td>6</td>\n",
       "      <td>1118</td>\n",
       "      <td>4</td>\n",
       "      <td>13361</td>\n",
       "      <td>0</td>\n",
       "      <td>979</td>\n",
       "      <td>4012</td>\n",
       "      <td>4081</td>\n",
       "      <td>1598203925759</td>\n",
       "      <td>2020</td>\n",
       "      <td>8</td>\n",
       "      <td>23</td>\n",
       "      <td>19</td>\n",
       "      <td>32</td>\n",
       "    </tr>\n",
       "    <tr>\n",
       "      <th>44229</th>\n",
       "      <td>06323cb1-c70d-11eb-8bcb-c61fac1e100d</td>\n",
       "      <td>1623014431738</td>\n",
       "      <td>1623014436407</td>\n",
       "      <td>11</td>\n",
       "      <td>6</td>\n",
       "      <td>1118</td>\n",
       "      <td>4</td>\n",
       "      <td>13646</td>\n",
       "      <td>0</td>\n",
       "      <td>979</td>\n",
       "      <td>4603</td>\n",
       "      <td>4669</td>\n",
       "      <td>1623014436341</td>\n",
       "      <td>2021</td>\n",
       "      <td>6</td>\n",
       "      <td>6</td>\n",
       "      <td>23</td>\n",
       "      <td>20</td>\n",
       "    </tr>\n",
       "    <tr>\n",
       "      <th>44230</th>\n",
       "      <td>6f4453d3-26bf-11eb-8064-4550ac1e100d</td>\n",
       "      <td>1605388921229</td>\n",
       "      <td>1605388925628</td>\n",
       "      <td>11</td>\n",
       "      <td>6</td>\n",
       "      <td>1118</td>\n",
       "      <td>4</td>\n",
       "      <td>13912</td>\n",
       "      <td>0</td>\n",
       "      <td>979</td>\n",
       "      <td>4323</td>\n",
       "      <td>4399</td>\n",
       "      <td>1605388925552</td>\n",
       "      <td>2020</td>\n",
       "      <td>11</td>\n",
       "      <td>14</td>\n",
       "      <td>22</td>\n",
       "      <td>22</td>\n",
       "    </tr>\n",
       "    <tr>\n",
       "      <th>44231</th>\n",
       "      <td>9c2e8052-ad7a-11ea-aad1-6c31ac1e100c</td>\n",
       "      <td>1592055270613</td>\n",
       "      <td>1592055275138</td>\n",
       "      <td>11</td>\n",
       "      <td>6</td>\n",
       "      <td>1118</td>\n",
       "      <td>4</td>\n",
       "      <td>75142</td>\n",
       "      <td>0</td>\n",
       "      <td>1002</td>\n",
       "      <td>4467</td>\n",
       "      <td>4525</td>\n",
       "      <td>1592055275080</td>\n",
       "      <td>2020</td>\n",
       "      <td>6</td>\n",
       "      <td>13</td>\n",
       "      <td>15</td>\n",
       "      <td>34</td>\n",
       "    </tr>\n",
       "    <tr>\n",
       "      <th>44232</th>\n",
       "      <td>14ab8961-90e8-11ea-b1dd-9cbdac1e100b</td>\n",
       "      <td>1588913704181</td>\n",
       "      <td>1588913705189</td>\n",
       "      <td>9</td>\n",
       "      <td>6</td>\n",
       "      <td>1118</td>\n",
       "      <td>4</td>\n",
       "      <td>14886</td>\n",
       "      <td>0</td>\n",
       "      <td>1896</td>\n",
       "      <td>0</td>\n",
       "      <td>1008</td>\n",
       "      <td>-1</td>\n",
       "      <td>2020</td>\n",
       "      <td>5</td>\n",
       "      <td>8</td>\n",
       "      <td>6</td>\n",
       "      <td>55</td>\n",
       "    </tr>\n",
       "  </tbody>\n",
       "</table>\n",
       "<p>44233 rows × 18 columns</p>\n",
       "</div>"
      ],
      "text/plain": [
       "                           CGLOBALMESSAGEID     CSTARTTIME       CENDTIME  \\\n",
       "0      9c375341-fa2b-11e9-9cf9-6e9eac1e100b  1572340082291  1572340095549   \n",
       "1      ea4c1041-3903-11ea-ae99-31b5ac1e100c  1579249956675  1579249965825   \n",
       "2      39007911-40fc-11ea-abd6-95efac1e100b  1580126262048  1580126272526   \n",
       "3      13f2ca62-fa7f-11e9-92f2-f5adac1e100c  1572375931398  1572375942951   \n",
       "4      b89a6a12-fb00-11e9-9cf9-6e9eac1e100b  1572431612721  1572431621934   \n",
       "...                                     ...            ...            ...   \n",
       "44228  8dd93a33-e566-11ea-a215-6070ac1e100c  1598203921747  1598203925828   \n",
       "44229  06323cb1-c70d-11eb-8bcb-c61fac1e100d  1623014431738  1623014436407   \n",
       "44230  6f4453d3-26bf-11eb-8064-4550ac1e100d  1605388921229  1605388925628   \n",
       "44231  9c2e8052-ad7a-11ea-aad1-6c31ac1e100c  1592055270613  1592055275138   \n",
       "44232  14ab8961-90e8-11ea-b1dd-9cbdac1e100b  1588913704181  1588913705189   \n",
       "\n",
       "       CSTATUS  CSERVICE  CSENDERENDPOINTID  CSENDERPROTOCOL  CINBOUNDSIZE  \\\n",
       "0           11         6               1118                4        998330   \n",
       "1           11         6               1118                4         14916   \n",
       "2           11         6               1118                4         54610   \n",
       "3           11         6               1118                4         14713   \n",
       "4           11         6               1118                4         18351   \n",
       "...        ...       ...                ...              ...           ...   \n",
       "44228       11         6               1118                4         13361   \n",
       "44229       11         6               1118                4         13646   \n",
       "44230       11         6               1118                4         13912   \n",
       "44231       11         6               1118                4         75142   \n",
       "44232        9         6               1118                4         14886   \n",
       "\n",
       "       CRECEIVERPROTOCOL  CRECEIVERENDPOINTID  CSLATAT  CMESSAGETAT2  \\\n",
       "0                      0                 1896    13110         13258   \n",
       "1                      0                  601     9062          9150   \n",
       "2                      0                 1896    10289         10478   \n",
       "3                      0                 1002    11395         11553   \n",
       "4                      0                  979     9054          9213   \n",
       "...                  ...                  ...      ...           ...   \n",
       "44228                  0                  979     4012          4081   \n",
       "44229                  0                  979     4603          4669   \n",
       "44230                  0                  979     4323          4399   \n",
       "44231                  0                 1002     4467          4525   \n",
       "44232                  0                 1896        0          1008   \n",
       "\n",
       "       CSLADELIVERYTIME  year  month  day  hour  minute  \n",
       "0         1572340095401  2019     10   29    10       8  \n",
       "1         1579249965737  2020      1   17     9      32  \n",
       "2         1580126272337  2020      1   27    12      57  \n",
       "3         1572375942793  2019     10   29    20       5  \n",
       "4         1572431621775  2019     10   30    11      33  \n",
       "...                 ...   ...    ...  ...   ...     ...  \n",
       "44228     1598203925759  2020      8   23    19      32  \n",
       "44229     1623014436341  2021      6    6    23      20  \n",
       "44230     1605388925552  2020     11   14    22      22  \n",
       "44231     1592055275080  2020      6   13    15      34  \n",
       "44232                -1  2020      5    8     6      55  \n",
       "\n",
       "[44233 rows x 18 columns]"
      ]
     },
     "execution_count": 32,
     "metadata": {},
     "output_type": "execute_result"
    }
   ],
   "source": [
    "pfall"
   ]
  },
  {
   "cell_type": "markdown",
   "metadata": {},
   "source": [
    "## work"
   ]
  },
  {
   "cell_type": "code",
   "execution_count": null,
   "metadata": {},
   "outputs": [],
   "source": [
    "!mkdir /tmp/enc"
   ]
  },
  {
   "cell_type": "code",
   "execution_count": null,
   "metadata": {},
   "outputs": [],
   "source": [
    "!ls /tmp/sla_enc_772e6440-e973-11e8-be62-528eac1b495c.parquet\n"
   ]
  },
  {
   "cell_type": "code",
   "execution_count": null,
   "metadata": {},
   "outputs": [],
   "source": [
    "#list(df.limit(1).toPandas().columns)\n",
    "\n",
    "#pfall=df3.toPandas()\n",
    "#pfall.dtypes"
   ]
  },
  {
   "cell_type": "code",
   "execution_count": null,
   "metadata": {},
   "outputs": [],
   "source": [
    "#df4 =  df3.withColumn(\"CSENDERENDPOINTID\", udf_transform(df3.CSENDERENDPOINTID).cast(\"Integer\"))"
   ]
  },
  {
   "cell_type": "code",
   "execution_count": null,
   "metadata": {},
   "outputs": [],
   "source": [
    "#df4.show(10)\n",
    "!date\n",
    "df4.write.mode(\"overwrite\").parquet(\"/tmp/sla_enc.parquet\")\n",
    "!date"
   ]
  },
  {
   "cell_type": "code",
   "execution_count": null,
   "metadata": {},
   "outputs": [],
   "source": [
    "np_load_old = np.load\n",
    "\n",
    "# modify the default parameters of np.load\n",
    "np.load = lambda *a,**k: np_load_old(*a, allow_pickle=True, **k)\n",
    "\n",
    "# restore np.load for future normal usage\n",
    "#np.load = np_load_old"
   ]
  },
  {
   "cell_type": "code",
   "execution_count": null,
   "metadata": {},
   "outputs": [],
   "source": [
    "pfall=df3.toPandas()\n",
    "pfall"
   ]
  },
  {
   "cell_type": "code",
   "execution_count": null,
   "metadata": {},
   "outputs": [],
   "source": [
    "#df3 = df3.withColumn(\"CSTARTTIME\", col(\"CSTARTTIME\").cast(\"decimal(38,0)\"))\n",
    "df3 = df3.withColumn(\"CSTARTTIME\", col(\"CSTARTTIME\").cast(\"long\"))\n",
    "pfall=df3.toPandas()\n",
    "pfall.dtypes"
   ]
  },
  {
   "cell_type": "code",
   "execution_count": null,
   "metadata": {},
   "outputs": [],
   "source": [
    "list(df.limit(1).toPandas().columns).remove('CGLOBALMESSAGEID')"
   ]
  },
  {
   "cell_type": "code",
   "execution_count": null,
   "metadata": {},
   "outputs": [],
   "source": [
    "#_encoder.transform(['None'])\n",
    "_encoder.transform(['0014de30-f8ec-11eb-9933-02daac1e124d'])\n",
    "#!ls /home/jovyan/work/jupyter/npy/    \n",
    "#!pwd\n",
    "#_encoder.inverse_transform(4866)\n",
    "#len(_encoder.classes_)"
   ]
  },
  {
   "cell_type": "code",
   "execution_count": null,
   "metadata": {},
   "outputs": [],
   "source": [
    "transform(['0014de30-f8ec-11eb-9933-02daac1e124d'])"
   ]
  },
  {
   "cell_type": "code",
   "execution_count": null,
   "metadata": {},
   "outputs": [],
   "source": [
    "df2.count()"
   ]
  },
  {
   "cell_type": "code",
   "execution_count": null,
   "metadata": {},
   "outputs": [],
   "source": [
    "#df3 =  df2.limit(50000000).withColumn(\"CSENDERENDPOINTID\", udf_transform(df2.CSENDERENDPOINTID).cast(\"Integer\"))\n",
    "df3 =  df2.withColumn(\"CSENDERENDPOINTID\", udf_transform(df2.CSENDERENDPOINTID).cast(\"Integer\"))"
   ]
  },
  {
   "cell_type": "code",
   "execution_count": null,
   "metadata": {},
   "outputs": [],
   "source": [
    "!date\n",
    "df3.head()\n",
    "#df3.show(10)\n",
    "!date"
   ]
  },
  {
   "cell_type": "code",
   "execution_count": null,
   "metadata": {},
   "outputs": [],
   "source": [
    "!date"
   ]
  },
  {
   "cell_type": "code",
   "execution_count": null,
   "metadata": {},
   "outputs": [],
   "source": [
    "from pyspark.sql.types import IntegerType\n",
    "df3 = df3.withColumn(\"CSENDERENDPOINTID\", df3[\"CSENDERENDPOINTID\"].cast(IntegerType()))"
   ]
  },
  {
   "cell_type": "code",
   "execution_count": null,
   "metadata": {},
   "outputs": [],
   "source": [
    "#######\n",
    "df3.head(11)\n"
   ]
  },
  {
   "cell_type": "code",
   "execution_count": null,
   "metadata": {},
   "outputs": [],
   "source": [
    "!rm -rf /tmp/sla_enc.parquet"
   ]
  },
  {
   "cell_type": "code",
   "execution_count": null,
   "metadata": {},
   "outputs": [],
   "source": [
    "df3.write.mode(\"overwrite\").parquet(\"/tmp/sla_enc.parquet\")"
   ]
  },
  {
   "cell_type": "code",
   "execution_count": null,
   "metadata": {},
   "outputs": [],
   "source": [
    "pfall = df3.toPandas() "
   ]
  },
  {
   "cell_type": "code",
   "execution_count": null,
   "metadata": {},
   "outputs": [],
   "source": []
  },
  {
   "cell_type": "code",
   "execution_count": null,
   "metadata": {},
   "outputs": [],
   "source": [
    "from datetime import time\n",
    "import datetime as dt\n",
    "import calendar\n",
    "import pytz\n",
    "de = pytz.timezone('Europe/Berlin')\n",
    "\n",
    "# long timestamp\n",
    "def date(x):\n",
    "    return  dt.datetime.fromtimestamp(float(x) / 1e3, tz=de)\n",
    "\n",
    "\n",
    "def adddatecolumns(data,pf,column) :\n",
    "    data['year'] = pf[column].apply(lambda x: date(x).date().year)\n",
    "    data['month'] = pf[column].apply(lambda x: date(x).date().month)\n",
    "    data['day'] = pf[column].apply(lambda x: date(x).date().day)\n",
    "    data['hour'] = pf[column].apply(lambda x: date(x).time().hour)\n",
    "    data['minute'] = pf[column].apply(lambda x: date(x).time().minute)\n",
    "    #data['second'] = pf[column].apply(lambda x: x.time().second)\n",
    "    #data['microsecond'] = pf[column].apply(lambda x: x.time().microsecond)\n",
    "\n",
    "def converttimestampcolumnn(pf,tsc) :\n",
    "    pf[tsc] = pf[tsc].apply(lambda x: dt.datetime.fromtimestamp(float(x) / 1e3))"
   ]
  },
  {
   "cell_type": "code",
   "execution_count": null,
   "metadata": {},
   "outputs": [],
   "source": [
    "def astype(pfall,selected,newtype):\n",
    "    for each in selected:\n",
    "        pfall[each] = pfall[each].astype(newtype)"
   ]
  },
  {
   "cell_type": "code",
   "execution_count": null,
   "metadata": {},
   "outputs": [],
   "source": [
    "selected = [  'CSENDERENDPOINTID']\n",
    "\n",
    "astype(pfall,selected,str) \n",
    "encoder.encode(pfall,selected)\n",
    "#astype(pfall,['CSTARTTIME','CENDTIME','CSLATAT','CMESSAGETAT2','CSLADELIVERYTIME','CINBOUNDSIZE'] ,int) \n",
    "#del(pfall['CSLABILLINGMONTH'])\n",
    "#pfall['CGLOBALMESSAGEID'] = pfall['CGLOBALMESSAGEID'].apply(hash)\n",
    "pfall = pfall.drop_duplicates()"
   ]
  },
  {
   "cell_type": "code",
   "execution_count": null,
   "metadata": {},
   "outputs": [],
   "source": [
    "# convert timestamp to datetime and add column date\n",
    "#import calendar\n",
    "##import pytz\n",
    "#de = pytz.timezone('Europe/Berlin')\n",
    "adddatecolumns(pfall,pfall,'CSTARTTIME')"
   ]
  },
  {
   "cell_type": "code",
   "execution_count": null,
   "metadata": {},
   "outputs": [],
   "source": [
    "astype(pfall,['CSTARTTIME'] ,int) "
   ]
  },
  {
   "cell_type": "code",
   "execution_count": null,
   "metadata": {},
   "outputs": [],
   "source": [
    "import time; ts = str(time.time()) \n",
    "pfall.to_parquet('/tmp/msgsenders_' + ts + '.parquet', engine='fastparquet', compression='GZIP')"
   ]
  },
  {
   "cell_type": "code",
   "execution_count": null,
   "metadata": {},
   "outputs": [],
   "source": [
    "#!mv /tmp/msgsenders_date.parquet /tmp/msgsenders_200716.parquet\n",
    "import time; ts = time.time() \n",
    "print(ts)"
   ]
  }
 ],
 "metadata": {
  "kernelspec": {
   "display_name": "Python 3 (ipykernel)",
   "language": "python",
   "name": "python3"
  },
  "language_info": {
   "codemirror_mode": {
    "name": "ipython",
    "version": 3
   },
   "file_extension": ".py",
   "mimetype": "text/x-python",
   "name": "python",
   "nbconvert_exporter": "python",
   "pygments_lexer": "ipython3",
   "version": "3.9.10"
  }
 },
 "nbformat": 4,
 "nbformat_minor": 4
}
