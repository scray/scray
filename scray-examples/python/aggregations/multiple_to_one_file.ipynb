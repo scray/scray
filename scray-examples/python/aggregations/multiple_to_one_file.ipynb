{
 "cells": [
  {
   "cell_type": "code",
   "execution_count": 1,
   "id": "cfce1809-0c09-4830-9ce1-5847d447e39c",
   "metadata": {},
   "outputs": [],
   "source": [
    "VERSION=\"1.0.1\""
   ]
  },
  {
   "cell_type": "code",
   "execution_count": 2,
   "id": "8dbc8bfc-c2c9-4f93-9e2d-8a37be1cdd9e",
   "metadata": {},
   "outputs": [],
   "source": [
    "import os\n",
    "os.environ[\"HADOOP_USER_NAME\"] = \"hdfs\""
   ]
  },
  {
   "cell_type": "code",
   "execution_count": 3,
   "id": "f2af5c08-6fbc-414f-916a-f0e45962e20c",
   "metadata": {},
   "outputs": [
    {
     "name": "stderr",
     "output_type": "stream",
     "text": [
      "WARNING: An illegal reflective access operation has occurred\n",
      "WARNING: Illegal reflective access by org.apache.spark.unsafe.Platform (file:/usr/local/spark-3.2.0-bin-hadoop3.2/jars/spark-unsafe_2.12-3.2.0.jar) to constructor java.nio.DirectByteBuffer(long,int)\n",
      "WARNING: Please consider reporting this to the maintainers of org.apache.spark.unsafe.Platform\n",
      "WARNING: Use --illegal-access=warn to enable warnings of further illegal reflective access operations\n",
      "WARNING: All illegal access operations will be denied in a future release\n",
      "Using Spark's default log4j profile: org/apache/spark/log4j-defaults.properties\n",
      "Setting default log level to \"WARN\".\n",
      "To adjust logging level use sc.setLogLevel(newLevel). For SparkR, use setLogLevel(newLevel).\n",
      "23/03/15 09:34:24 WARN NativeCodeLoader: Unable to load native-hadoop library for your platform... using builtin-java classes where applicable\n",
      "23/03/15 09:34:24 WARN SparkConf: Note that spark.local.dir will be overridden by the value set by the cluster manager (via SPARK_LOCAL_DIRS in mesos/standalone/kubernetes and LOCAL_DIRS in YARN).\n"
     ]
    }
   ],
   "source": [
    "import numpy as np\n",
    "import pandas as pd\n",
    "\n",
    "import findspark\n",
    "findspark.init()\n",
    "\n",
    "from pyspark.sql import SparkSession\n",
    "from pyspark.sql.types import IntegerType\n",
    "from pyspark.sql.functions import col\n",
    "sparkSession=SparkSession.builder.config('spark.local.dir', '/tmp').config(\"spark.executor.memory\", \"8g\").config(\"spark.driver.memory\", \"8g\").config(\"spark.driver.maxResultSize\", \"0\").config(\"spark.shuffle.registration.maxAttempts\", \"1\").config(\"spark.task.maxFailures\", \"1\").appName(\"jupyter\").getOrCreate()"
   ]
  },
  {
   "cell_type": "code",
   "execution_count": 2,
   "id": "0c8365c0-0e06-4b06-9b57-0f66f3dd8d0e",
   "metadata": {},
   "outputs": [
    {
     "name": "stderr",
     "output_type": "stream",
     "text": [
      "                                                                                \r"
     ]
    }
   ],
   "source": [
    "import pyspark.sql.functions as f\n",
    "encoded_rows = sparkSession.read.parquet(\"hdfs://172.30.17.145:8020/user/admin/sla/v00001/v00000/encoded/senders/enc/*.parquet\"  + \"/*\")"
   ]
  },
  {
   "cell_type": "code",
   "execution_count": 4,
   "id": "e0e5193a-c6a5-45b7-b548-427d2736c032",
   "metadata": {},
   "outputs": [
    {
     "name": "stderr",
     "output_type": "stream",
     "text": [
      "                                                                                \r"
     ]
    }
   ],
   "source": [
    "import pyspark.sql.functions as f\n",
    "sparkSession.read.parquet(\"hdfs://172.30.17.145:8020/user/admin/sla/v00001/v00000/encoded/senders/enc/*.parquet\"  + \"/*\").repartition(1).write.mode(\"append\").parquet(\"hdfs://172.30.17.145:8020/user/admin/sla/v00001/v00000/encoded/senders/one_file/\" + VERSION + \"/\") \n"
   ]
  },
  {
   "cell_type": "code",
   "execution_count": 4,
   "id": "8fa1caf1-90de-427a-9520-ef67a1f3fe57",
   "metadata": {},
   "outputs": [
    {
     "name": "stderr",
     "output_type": "stream",
     "text": [
      "                                                                                \r"
     ]
    }
   ],
   "source": [
    "import pyspark.sql.functions as f\n",
    "\n",
    "num_encoded_rows = encoded_rows.count()\n",
    "num_encoded_rows_by_year = encoded_rows.groupBy(f.col(\"year\"), f.col(\"month\")).count().orderBy(f.col(\"year\"), f.col(\"month\")).toPandas()"
   ]
  },
  {
   "cell_type": "code",
   "execution_count": 5,
   "id": "4248c49a-c5c0-47b7-b2e7-0cef8b3e4c93",
   "metadata": {},
   "outputs": [
    {
     "name": "stdout",
     "output_type": "stream",
     "text": [
      "Number of encoded rows: 57966217\n",
      "Number of encoded rows by year: \n",
      "    year  month    count\n",
      "0   2019     10    76467\n",
      "1   2019     11   722211\n",
      "2   2019     12   849370\n",
      "3   2020      1  1145474\n",
      "4   2020      2   983907\n",
      "5   2020      3  1100777\n",
      "6   2020      4  1029538\n",
      "7   2020      5   968144\n",
      "8   2020      6  1098602\n",
      "9   2020      7  1355497\n",
      "10  2020      8  1380564\n",
      "11  2020      9  1222625\n",
      "12  2020     10  1320187\n",
      "13  2020     11  1296009\n",
      "14  2020     12  1254080\n",
      "15  2021      1  1108384\n",
      "16  2021      2  1274073\n",
      "17  2021      3  1633120\n",
      "18  2021      4  1152709\n",
      "19  2021      5  1142477\n",
      "20  2021      6  1173720\n",
      "21  2021      7  1725361\n",
      "22  2021      8  1626424\n",
      "23  2021      9  1369719\n",
      "24  2021     10  1228531\n",
      "25  2021     11  1458984\n",
      "26  2021     12  1901519\n",
      "27  2022      1  2029761\n",
      "28  2022      2  1809473\n",
      "29  2022      3  1924678\n",
      "30  2022      4  1751997\n",
      "31  2022      5  1889257\n",
      "32  2022      6  1716909\n",
      "33  2022      7  1804309\n",
      "34  2022      8  1782924\n",
      "35  2022      9  2159065\n",
      "36  2022     10  2117793\n",
      "37  2022     11  2115933\n",
      "38  2022     12  2276109\n",
      "39  2023      1  1977666\n",
      "40  2023      2    11870\n"
     ]
    }
   ],
   "source": [
    "print(\"Number of encoded rows: \" + str(num_encoded_rows))\n",
    "print(\"Number of encoded rows by year: \\n\" + str(num_encoded_rows_by_year))"
   ]
  },
  {
   "cell_type": "code",
   "execution_count": null,
   "id": "5500c6b6-f430-4be5-a7c7-740efaa5cf05",
   "metadata": {},
   "outputs": [],
   "source": []
  }
 ],
 "metadata": {
  "kernelspec": {
   "display_name": "Python 3 (ipykernel)",
   "language": "python",
   "name": "python3"
  },
  "language_info": {
   "codemirror_mode": {
    "name": "ipython",
    "version": 3
   },
   "file_extension": ".py",
   "mimetype": "text/x-python",
   "name": "python",
   "nbconvert_exporter": "python",
   "pygments_lexer": "ipython3",
   "version": "3.9.7"
  }
 },
 "nbformat": 4,
 "nbformat_minor": 5
}
