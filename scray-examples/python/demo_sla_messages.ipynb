{
 "cells": [
  {
   "cell_type": "markdown",
   "id": "fe5f0337-7f90-41a7-9001-628da527287d",
   "metadata": {},
   "source": [
    "# Main"
   ]
  },
  {
   "cell_type": "code",
   "execution_count": 2,
   "id": "26cbb69c-0b33-48a0-ba09-bf3a060c1bb7",
   "metadata": {},
   "outputs": [],
   "source": [
    "import dfBasics\n",
    "import pandas as pd\n",
    "\n",
    "version_sla = 'v00001'\n",
    "version     = version_sla + '/v00000'\n",
    "\n",
    "home_directory  =  '/home/jovyan/work/'\n",
    "#share_directory =  '/home/jovyan/work/share/'\n",
    "share_directory =  '/home/jovyan/share/'"
   ]
  },
  {
   "cell_type": "code",
   "execution_count": 3,
   "id": "29b5d21e-370f-4d90-82b7-8e160841f592",
   "metadata": {},
   "outputs": [],
   "source": [
    "sparkSession = dfBasics.getSparkSession()"
   ]
  },
  {
   "cell_type": "code",
   "execution_count": 4,
   "id": "2181d487-8b43-411b-bf62-a337d699970c",
   "metadata": {},
   "outputs": [],
   "source": [
    "#senders = list(sparkSession.read.parquet('hdfs://172.30.17.145:8020/user/admin/sla/v00000/v00000/senders/senders.parquet').toPandas()['CSENDERENDPOINTID'])"
   ]
  },
  {
   "cell_type": "code",
   "execution_count": 6,
   "id": "e7742c0c-8602-4990-b626-32997e477363",
   "metadata": {},
   "outputs": [],
   "source": [
    "#senders"
   ]
  },
  {
   "cell_type": "code",
   "execution_count": 7,
   "id": "5990b071-582b-4618-ac1a-d5c69437c9a0",
   "metadata": {},
   "outputs": [],
   "source": [
    "senders_files = sparkSession.read.options(delimiter=',') \\\n",
    "                      .csv('hdfs://172.30.17.145:8020/user/admin/sla/' + version + '/senders/senders_files.txt').toPandas()\n",
    "senders_files.columns = ['size','filename']    "
   ]
  },
  {
   "cell_type": "code",
   "execution_count": 20,
   "id": "7af633a8-6d76-439f-a892-f76b6b406ecf",
   "metadata": {
    "tags": []
   },
   "outputs": [],
   "source": [
    "filename = senders_files['filename'][0]\n",
    "failed = []\n",
    "for filename in senders_files['filename']:\n",
    "    try:\n",
    "        sparkSession.read.text('hdfs://172.30.17.145:8020/user/admin/sla/' + version + '/encoded/senders/' + filename + '/_SUCCESS')\n",
    "    except Exception as exception: \n",
    "        if not 'temporary' in filename:\n",
    "            failed.append(filename.split('sla_enc_')[1].split('.')[0])"
   ]
  },
  {
   "cell_type": "code",
   "execution_count": 21,
   "id": "7c2cfae8-7608-4894-b27c-0a4ea2eaba5e",
   "metadata": {},
   "outputs": [
    {
     "data": {
      "text/plain": [
       "['069436a0-a16b-11e9-a189-ddafac1b495c',\n",
       " '24345d10-b904-11e9-af3f-21adac1b495c',\n",
       " '2b11b860-5c0b-11ec-81bf-11c3ac1e124d',\n",
       " '40d50320-f563-11e9-9e7f-fa2cac1b495c',\n",
       " '7309fb90-f1a6-11e9-8b88-0b60ac1b495c',\n",
       " 'bbaed6b1-437e-11eb-b000-d76cac1b495c_0ef2c320-3e18-11eb-97db-29f9ac1b495c',\n",
       " 'c5956260-e0ee-11e8-be62-528eac1b495c',\n",
       " 'e1b2df80-a796-11e9-b569-14e0ac1b495c_a771d9a0-869b-11e9-b822-0ff9ac1b495c']"
      ]
     },
     "execution_count": 21,
     "metadata": {},
     "output_type": "execute_result"
    }
   ],
   "source": [
    "failed"
   ]
  },
  {
   "cell_type": "markdown",
   "id": "23715061-5e92-47c2-97e6-da38f90484a1",
   "metadata": {},
   "source": [
    "# Examples"
   ]
  },
  {
   "cell_type": "markdown",
   "id": "9cdd0665-ae36-4309-8e4a-d2b0c8846c8c",
   "metadata": {},
   "source": [
    "## some info"
   ]
  },
  {
   "cell_type": "code",
   "execution_count": null,
   "id": "273cacbb-a4fa-456d-93b3-141f6173b6d6",
   "metadata": {},
   "outputs": [],
   "source": [
    "len(senders_files),max(senders_files['size'])"
   ]
  },
  {
   "cell_type": "markdown",
   "id": "59460404-f5a0-46ba-8100-e7be9ccb7848",
   "metadata": {},
   "source": [
    "## get message tracking data "
   ]
  },
  {
   "cell_type": "markdown",
   "id": "a29a1541-6271-495b-8031-a5a6e053da2f",
   "metadata": {},
   "source": [
    "### single file"
   ]
  },
  {
   "cell_type": "code",
   "execution_count": null,
   "id": "7d09641f-a269-41e9-93af-82806f6688ae",
   "metadata": {},
   "outputs": [],
   "source": [
    "def get_empty_message_tracking_dataframe():\n",
    "    columns = ['CGLOBALMESSAGEID', 'CSTARTTIME', 'CENDTIME', 'CSTATUS', 'CSERVICE', \\\n",
    "       'CSENDERENDPOINTID', 'CSENDERPROTOCOL', 'CINBOUNDSIZE', \\\n",
    "       'CRECEIVERPROTOCOL', 'CRECEIVERENDPOINTID', 'CSLATAT', 'CMESSAGETAT2', \\\n",
    "       'CSLADELIVERYTIME', 'year', 'month', 'day', 'hour', 'minute']\n",
    "    return pd.DataFrame(columns=columns)\n",
    "\n",
    "def get_message_tracking_dataframe_of_senders_filename(filename, version=version):\n",
    "    try:\n",
    "        return sparkSession.read.parquet('hdfs://172.30.17.145:8020/user/admin/sla/' + version + '/encoded/senders/' + filename).toPandas()\n",
    "    except Exception as exception: \n",
    "        return get_empty_message_tracking_dataframe()"
   ]
  },
  {
   "cell_type": "code",
   "execution_count": null,
   "id": "128f1198-5af4-4823-aa33-cfc7ef591073",
   "metadata": {},
   "outputs": [],
   "source": [
    "pfall = get_message_tracking_dataframe_of_senders_filename(senders_files['filename'][1])    "
   ]
  },
  {
   "cell_type": "code",
   "execution_count": null,
   "id": "3afe5592-3438-405c-83fb-73c8ee4bcffc",
   "metadata": {},
   "outputs": [],
   "source": [
    "pfall.head()"
   ]
  },
  {
   "cell_type": "code",
   "execution_count": null,
   "id": "8b70bdbd-6cad-4d17-a160-d70e65496113",
   "metadata": {},
   "outputs": [],
   "source": [
    "len(pd.unique(pfall['CGLOBALMESSAGEID'])),len(pfall), pd.unique(pfall['CSTATUS']), pd.unique(pfall['CSERVICE'])"
   ]
  },
  {
   "cell_type": "code",
   "execution_count": null,
   "id": "f66b52bb-9ffb-4991-9daf-8709dabc8a99",
   "metadata": {},
   "outputs": [],
   "source": [
    "pfall[ pfall['CSERVICE'] == -1]"
   ]
  },
  {
   "cell_type": "markdown",
   "id": "d310a475-3462-41ef-8bba-f06ee24ec830",
   "metadata": {},
   "source": [
    "### create parquet file with all senders"
   ]
  },
  {
   "cell_type": "code",
   "execution_count": 5,
   "id": "83f63937-5aa7-452f-8924-a5f557728cf5",
   "metadata": {},
   "outputs": [],
   "source": [
    "df = sparkSession.read.parquet('hdfs://172.30.17.145:8020/user/admin/sla/' + version + '/encoded/senders/*')\n",
    "df.write.mode(\"overwrite\").parquet(\"/home/jovyan/work/output/sla_enc_all\" + \".parquet\")\n",
    "#pfall = df.toPandas()"
   ]
  },
  {
   "cell_type": "markdown",
   "id": "626c3999-bf3f-4dea-94b9-eb82c80e7476",
   "metadata": {},
   "source": [
    "### all senders"
   ]
  },
  {
   "cell_type": "code",
   "execution_count": 7,
   "id": "108caecc-bc87-438d-934a-ba21d4891172",
   "metadata": {},
   "outputs": [],
   "source": [
    "df = sparkSession.read.parquet('hdfs://172.30.17.145:8020/user/admin/sla/' + version + '/encoded/sla_enc_all' + \".parquet\")"
   ]
  },
  {
   "cell_type": "code",
   "execution_count": 8,
   "id": "c2256abe-aa5d-47dd-9863-2edc87c55420",
   "metadata": {},
   "outputs": [
    {
     "ename": "Py4JJavaError",
     "evalue": "An error occurred while calling o72.collectToPython.\n: java.lang.OutOfMemoryError: Java heap space\n",
     "output_type": "error",
     "traceback": [
      "\u001b[0;31m---------------------------------------------------------------------------\u001b[0m",
      "\u001b[0;31mPy4JJavaError\u001b[0m                             Traceback (most recent call last)",
      "Input \u001b[0;32mIn [8]\u001b[0m, in \u001b[0;36m<module>\u001b[0;34m\u001b[0m\n\u001b[0;32m----> 1\u001b[0m pfall \u001b[38;5;241m=\u001b[39m \u001b[43mdf\u001b[49m\u001b[38;5;241;43m.\u001b[39;49m\u001b[43mtoPandas\u001b[49m\u001b[43m(\u001b[49m\u001b[43m)\u001b[49m\n",
      "File \u001b[0;32m/usr/local/spark/python/pyspark/sql/pandas/conversion.py:157\u001b[0m, in \u001b[0;36mPandasConversionMixin.toPandas\u001b[0;34m(self)\u001b[0m\n\u001b[1;32m    154\u001b[0m             \u001b[38;5;28;01mraise\u001b[39;00m\n\u001b[1;32m    156\u001b[0m \u001b[38;5;66;03m# Below is toPandas without Arrow optimization.\u001b[39;00m\n\u001b[0;32m--> 157\u001b[0m pdf \u001b[38;5;241m=\u001b[39m pd\u001b[38;5;241m.\u001b[39mDataFrame\u001b[38;5;241m.\u001b[39mfrom_records(\u001b[38;5;28;43mself\u001b[39;49m\u001b[38;5;241;43m.\u001b[39;49m\u001b[43mcollect\u001b[49m\u001b[43m(\u001b[49m\u001b[43m)\u001b[49m, columns\u001b[38;5;241m=\u001b[39m\u001b[38;5;28mself\u001b[39m\u001b[38;5;241m.\u001b[39mcolumns)\n\u001b[1;32m    158\u001b[0m column_counter \u001b[38;5;241m=\u001b[39m Counter(\u001b[38;5;28mself\u001b[39m\u001b[38;5;241m.\u001b[39mcolumns)\n\u001b[1;32m    160\u001b[0m dtype \u001b[38;5;241m=\u001b[39m [\u001b[38;5;28;01mNone\u001b[39;00m] \u001b[38;5;241m*\u001b[39m \u001b[38;5;28mlen\u001b[39m(\u001b[38;5;28mself\u001b[39m\u001b[38;5;241m.\u001b[39mschema)\n",
      "File \u001b[0;32m/usr/local/spark/python/pyspark/sql/dataframe.py:693\u001b[0m, in \u001b[0;36mDataFrame.collect\u001b[0;34m(self)\u001b[0m\n\u001b[1;32m    683\u001b[0m \u001b[38;5;124;03m\"\"\"Returns all the records as a list of :class:`Row`.\u001b[39;00m\n\u001b[1;32m    684\u001b[0m \n\u001b[1;32m    685\u001b[0m \u001b[38;5;124;03m.. versionadded:: 1.3.0\u001b[39;00m\n\u001b[0;32m   (...)\u001b[0m\n\u001b[1;32m    690\u001b[0m \u001b[38;5;124;03m[Row(age=2, name='Alice'), Row(age=5, name='Bob')]\u001b[39;00m\n\u001b[1;32m    691\u001b[0m \u001b[38;5;124;03m\"\"\"\u001b[39;00m\n\u001b[1;32m    692\u001b[0m \u001b[38;5;28;01mwith\u001b[39;00m SCCallSiteSync(\u001b[38;5;28mself\u001b[39m\u001b[38;5;241m.\u001b[39m_sc) \u001b[38;5;28;01mas\u001b[39;00m css:\n\u001b[0;32m--> 693\u001b[0m     sock_info \u001b[38;5;241m=\u001b[39m \u001b[38;5;28;43mself\u001b[39;49m\u001b[38;5;241;43m.\u001b[39;49m\u001b[43m_jdf\u001b[49m\u001b[38;5;241;43m.\u001b[39;49m\u001b[43mcollectToPython\u001b[49m\u001b[43m(\u001b[49m\u001b[43m)\u001b[49m\n\u001b[1;32m    694\u001b[0m \u001b[38;5;28;01mreturn\u001b[39;00m \u001b[38;5;28mlist\u001b[39m(_load_from_socket(sock_info, BatchedSerializer(PickleSerializer())))\n",
      "File \u001b[0;32m/usr/local/spark/python/lib/py4j-0.10.9.3-src.zip/py4j/java_gateway.py:1321\u001b[0m, in \u001b[0;36mJavaMember.__call__\u001b[0;34m(self, *args)\u001b[0m\n\u001b[1;32m   1315\u001b[0m command \u001b[38;5;241m=\u001b[39m proto\u001b[38;5;241m.\u001b[39mCALL_COMMAND_NAME \u001b[38;5;241m+\u001b[39m\\\n\u001b[1;32m   1316\u001b[0m     \u001b[38;5;28mself\u001b[39m\u001b[38;5;241m.\u001b[39mcommand_header \u001b[38;5;241m+\u001b[39m\\\n\u001b[1;32m   1317\u001b[0m     args_command \u001b[38;5;241m+\u001b[39m\\\n\u001b[1;32m   1318\u001b[0m     proto\u001b[38;5;241m.\u001b[39mEND_COMMAND_PART\n\u001b[1;32m   1320\u001b[0m answer \u001b[38;5;241m=\u001b[39m \u001b[38;5;28mself\u001b[39m\u001b[38;5;241m.\u001b[39mgateway_client\u001b[38;5;241m.\u001b[39msend_command(command)\n\u001b[0;32m-> 1321\u001b[0m return_value \u001b[38;5;241m=\u001b[39m \u001b[43mget_return_value\u001b[49m\u001b[43m(\u001b[49m\n\u001b[1;32m   1322\u001b[0m \u001b[43m    \u001b[49m\u001b[43manswer\u001b[49m\u001b[43m,\u001b[49m\u001b[43m \u001b[49m\u001b[38;5;28;43mself\u001b[39;49m\u001b[38;5;241;43m.\u001b[39;49m\u001b[43mgateway_client\u001b[49m\u001b[43m,\u001b[49m\u001b[43m \u001b[49m\u001b[38;5;28;43mself\u001b[39;49m\u001b[38;5;241;43m.\u001b[39;49m\u001b[43mtarget_id\u001b[49m\u001b[43m,\u001b[49m\u001b[43m \u001b[49m\u001b[38;5;28;43mself\u001b[39;49m\u001b[38;5;241;43m.\u001b[39;49m\u001b[43mname\u001b[49m\u001b[43m)\u001b[49m\n\u001b[1;32m   1324\u001b[0m \u001b[38;5;28;01mfor\u001b[39;00m temp_arg \u001b[38;5;129;01min\u001b[39;00m temp_args:\n\u001b[1;32m   1325\u001b[0m     temp_arg\u001b[38;5;241m.\u001b[39m_detach()\n",
      "File \u001b[0;32m/usr/local/spark/python/pyspark/sql/utils.py:111\u001b[0m, in \u001b[0;36mcapture_sql_exception.<locals>.deco\u001b[0;34m(*a, **kw)\u001b[0m\n\u001b[1;32m    109\u001b[0m \u001b[38;5;28;01mdef\u001b[39;00m \u001b[38;5;21mdeco\u001b[39m(\u001b[38;5;241m*\u001b[39ma, \u001b[38;5;241m*\u001b[39m\u001b[38;5;241m*\u001b[39mkw):\n\u001b[1;32m    110\u001b[0m     \u001b[38;5;28;01mtry\u001b[39;00m:\n\u001b[0;32m--> 111\u001b[0m         \u001b[38;5;28;01mreturn\u001b[39;00m \u001b[43mf\u001b[49m\u001b[43m(\u001b[49m\u001b[38;5;241;43m*\u001b[39;49m\u001b[43ma\u001b[49m\u001b[43m,\u001b[49m\u001b[43m \u001b[49m\u001b[38;5;241;43m*\u001b[39;49m\u001b[38;5;241;43m*\u001b[39;49m\u001b[43mkw\u001b[49m\u001b[43m)\u001b[49m\n\u001b[1;32m    112\u001b[0m     \u001b[38;5;28;01mexcept\u001b[39;00m py4j\u001b[38;5;241m.\u001b[39mprotocol\u001b[38;5;241m.\u001b[39mPy4JJavaError \u001b[38;5;28;01mas\u001b[39;00m e:\n\u001b[1;32m    113\u001b[0m         converted \u001b[38;5;241m=\u001b[39m convert_exception(e\u001b[38;5;241m.\u001b[39mjava_exception)\n",
      "File \u001b[0;32m/usr/local/spark/python/lib/py4j-0.10.9.3-src.zip/py4j/protocol.py:326\u001b[0m, in \u001b[0;36mget_return_value\u001b[0;34m(answer, gateway_client, target_id, name)\u001b[0m\n\u001b[1;32m    324\u001b[0m value \u001b[38;5;241m=\u001b[39m OUTPUT_CONVERTER[\u001b[38;5;28mtype\u001b[39m](answer[\u001b[38;5;241m2\u001b[39m:], gateway_client)\n\u001b[1;32m    325\u001b[0m \u001b[38;5;28;01mif\u001b[39;00m answer[\u001b[38;5;241m1\u001b[39m] \u001b[38;5;241m==\u001b[39m REFERENCE_TYPE:\n\u001b[0;32m--> 326\u001b[0m     \u001b[38;5;28;01mraise\u001b[39;00m Py4JJavaError(\n\u001b[1;32m    327\u001b[0m         \u001b[38;5;124m\"\u001b[39m\u001b[38;5;124mAn error occurred while calling \u001b[39m\u001b[38;5;132;01m{0}\u001b[39;00m\u001b[38;5;132;01m{1}\u001b[39;00m\u001b[38;5;132;01m{2}\u001b[39;00m\u001b[38;5;124m.\u001b[39m\u001b[38;5;130;01m\\n\u001b[39;00m\u001b[38;5;124m\"\u001b[39m\u001b[38;5;241m.\u001b[39m\n\u001b[1;32m    328\u001b[0m         \u001b[38;5;28mformat\u001b[39m(target_id, \u001b[38;5;124m\"\u001b[39m\u001b[38;5;124m.\u001b[39m\u001b[38;5;124m\"\u001b[39m, name), value)\n\u001b[1;32m    329\u001b[0m \u001b[38;5;28;01melse\u001b[39;00m:\n\u001b[1;32m    330\u001b[0m     \u001b[38;5;28;01mraise\u001b[39;00m Py4JError(\n\u001b[1;32m    331\u001b[0m         \u001b[38;5;124m\"\u001b[39m\u001b[38;5;124mAn error occurred while calling \u001b[39m\u001b[38;5;132;01m{0}\u001b[39;00m\u001b[38;5;132;01m{1}\u001b[39;00m\u001b[38;5;132;01m{2}\u001b[39;00m\u001b[38;5;124m. Trace:\u001b[39m\u001b[38;5;130;01m\\n\u001b[39;00m\u001b[38;5;132;01m{3}\u001b[39;00m\u001b[38;5;130;01m\\n\u001b[39;00m\u001b[38;5;124m\"\u001b[39m\u001b[38;5;241m.\u001b[39m\n\u001b[1;32m    332\u001b[0m         \u001b[38;5;28mformat\u001b[39m(target_id, \u001b[38;5;124m\"\u001b[39m\u001b[38;5;124m.\u001b[39m\u001b[38;5;124m\"\u001b[39m, name, value))\n",
      "\u001b[0;31mPy4JJavaError\u001b[0m: An error occurred while calling o72.collectToPython.\n: java.lang.OutOfMemoryError: Java heap space\n"
     ]
    }
   ],
   "source": [
    "pfall = df.toPandas()"
   ]
  },
  {
   "cell_type": "markdown",
   "id": "46f2d46c-952b-4ede-bbdb-3a26fe2bd21c",
   "metadata": {},
   "source": [
    "## check message tracking files"
   ]
  },
  {
   "cell_type": "code",
   "execution_count": null,
   "id": "a38488fd-4fe0-4b7f-afe1-b13bfd5447e8",
   "metadata": {},
   "outputs": [],
   "source": [
    "def get_skip_senders(senders_files):\n",
    "    skip_senders_files = []\n",
    "    for file in senders_files:\n",
    "        try:\n",
    "            pfall = sparkSession.read.parquet('hdfs://172.30.17.145:8020/user/admin/sla/' + version + '/encoded/senders/' + file).toPandas()\n",
    "            if -1 in pd.unique(pfall['CSENDERENDPOINTID']) :\n",
    "                skip_senders_files.append(file)\n",
    "        except Exception as exception:     \n",
    "            skip_senders_files.append(file)"
   ]
  },
  {
   "cell_type": "code",
   "execution_count": null,
   "id": "06c3258a-f199-44b4-b97f-455253014c9d",
   "metadata": {},
   "outputs": [],
   "source": [
    "skip_senders_files = get_skip_senders(senders_files['filename'])\n",
    "tested_senders_files = [file for file in senders_files['filename'] if file not in skip_senders_files]\n",
    "#len(skip_senders_files)"
   ]
  },
  {
   "cell_type": "markdown",
   "id": "13000b47-9f5a-4760-9178-509013f4e52b",
   "metadata": {},
   "source": [
    "## encoded values"
   ]
  },
  {
   "cell_type": "markdown",
   "id": "61268cb8-9f6c-4368-806f-9adbd3c5cc03",
   "metadata": {},
   "source": [
    "## init encoders (run only once)"
   ]
  },
  {
   "cell_type": "code",
   "execution_count": null,
   "id": "eb4be366-1b08-41f7-9cc0-1951c479ec6b",
   "metadata": {},
   "outputs": [],
   "source": [
    "# - run this paragraph only once !\n",
    "# - if you get an 'allow_pickle' error you need Kernel/restart kernel\n",
    "\n",
    "import encoder\n",
    "import numpy as np\n",
    "\n",
    "np_load_old = np.load\n",
    "\n",
    "# modify the default parameters of np.load\n",
    "np.load = lambda *a,**k: np_load_old(*a, allow_pickle=True, **k)\n",
    "\n",
    "# restore np.load for future normal usage\n",
    "#np.load = np_load_old"
   ]
  },
  {
   "cell_type": "markdown",
   "id": "456e6970-c1a8-43ff-8363-860f82cf41ec",
   "metadata": {},
   "source": [
    "### encode value"
   ]
  },
  {
   "cell_type": "code",
   "execution_count": null,
   "id": "ec4a5698-41b3-4c1f-bb14-6402f07d3b5d",
   "metadata": {},
   "outputs": [],
   "source": [
    "def transform(value,column=None, npy= share_directory + 'sla/' + version_sla + '/npy'):\n",
    "    _encoder = encoder.TolerantLabelEncoder(ignore_unknown=True)\n",
    "    _encoder.classes_ = np.load(npy + '/' + column + '.npy')\n",
    "    return int( _encoder.transform([value])[0])"
   ]
  },
  {
   "cell_type": "markdown",
   "id": "7b0472ba-99ab-47c7-9fe9-0da53e391c6e",
   "metadata": {},
   "source": [
    "### decode value"
   ]
  },
  {
   "cell_type": "code",
   "execution_count": null,
   "id": "f8c80ca2-1136-4593-9fd8-c19ae814dbbd",
   "metadata": {},
   "outputs": [],
   "source": [
    "def inverse_transform(value,column=None, npy= share_directory + 'sla/' + version_sla + '/npy'):\n",
    "    _encoder = encoder.TolerantLabelEncoder(ignore_unknown=True)\n",
    "    _encoder.classes_ = np.load(npy + '/' + column + '.npy')\n",
    "    if type(value) == int:\n",
    "        return str(_encoder.inverse_transform(value))  \n",
    "    elif type(value) == list:\n",
    "        return [str(_encoder.inverse_transform(v)) for v in value]\n",
    "    else:\n",
    "        return None"
   ]
  },
  {
   "cell_type": "code",
   "execution_count": null,
   "id": "ba247477-f42d-441b-984f-9d4c068f66f6",
   "metadata": {},
   "outputs": [],
   "source": [
    "inverse_transform([6,5],column='CSERVICE')\n",
    "inverse_transform(6, 'CSTATUS')\n",
    "inverse_transform(list(pd.unique(pfall['CSTATUS'])),'CSTATUS')"
   ]
  },
  {
   "cell_type": "markdown",
   "id": "1bffa44e-fe9c-475e-9b27-5f63120eb393",
   "metadata": {},
   "source": [
    "## status : was the message processed successfully ?"
   ]
  },
  {
   "cell_type": "code",
   "execution_count": null,
   "id": "c8552302-3672-4702-99fc-2427c0e4a6c2",
   "metadata": {},
   "outputs": [],
   "source": [
    "def check_transformed(pfall,column,value):\n",
    "    return pfall[column] == transform(value,column=column)\n",
    "\n",
    "def assign_outcome_error(pfall):\n",
    "    pfall = pfall.assign(error=(~( ( check_transformed(pfall,'CSTATUS','PENDING') & check_transformed(pfall,'CSERVICE','InvoicePortal')  ) | \\\n",
    "        (check_transformed(pfall,'CSTATUS','PENDING') & check_transformed(pfall,'CSERVICE','IDS')  ) | \\\n",
    "        check_transformed(pfall,'CSTATUS','SUCCESS') | \\\n",
    "        check_transformed(pfall,'CSTATUS','SUCCESS_DOWNLOADED') | check_transformed(pfall,'CSTATUS','SUCCESS_POLLQUEUE')  )).astype(int))\n",
    "    return pfall"
   ]
  },
  {
   "cell_type": "code",
   "execution_count": null,
   "id": "4fab24ee-aeaa-4113-bee0-be40b9c82525",
   "metadata": {},
   "outputs": [],
   "source": [
    "pfall = assign_outcome_error(pfall)"
   ]
  },
  {
   "cell_type": "code",
   "execution_count": null,
   "id": "8c9656f9-532e-4909-9625-c1bcee5a7793",
   "metadata": {},
   "outputs": [],
   "source": [
    "pfall[pfall['error'] == 1]"
   ]
  },
  {
   "cell_type": "code",
   "execution_count": null,
   "id": "fd431cf8-52d2-4aab-8e98-791e0e1adf24",
   "metadata": {},
   "outputs": [],
   "source": [
    "#pfall = pfall.assign(outcome=(~( ((pfall['CSTATUS'] == 'PENDING') & (pfall['CSERVICE'] == 'InvoicePortal')) | ((pfall['CSTATUS'] == 'PENDING') & (pfall['CSERVICE'] == 'IDS')) | (pfall['CSTATUS'] == 'SUCCESS') | (pfall['CSTATUS'] == 'SUCCESS_DOWNLOADED') | (pfall['CSTATUS'] == 'SUCCESS_POLLQUEUE'))).astype(int))\n",
    "    "
   ]
  }
 ],
 "metadata": {
  "kernelspec": {
   "display_name": "Python 3 (ipykernel)",
   "language": "python",
   "name": "python3"
  },
  "language_info": {
   "codemirror_mode": {
    "name": "ipython",
    "version": 3
   },
   "file_extension": ".py",
   "mimetype": "text/x-python",
   "name": "python",
   "nbconvert_exporter": "python",
   "pygments_lexer": "ipython3",
   "version": "3.9.10"
  }
 },
 "nbformat": 4,
 "nbformat_minor": 5
}
