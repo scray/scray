{
 "cells": [
  {
   "cell_type": "markdown",
   "id": "fe5f0337-7f90-41a7-9001-628da527287d",
   "metadata": {},
   "source": [
    "# Main"
   ]
  },
  {
   "cell_type": "code",
   "execution_count": 38,
   "id": "26cbb69c-0b33-48a0-ba09-bf3a060c1bb7",
   "metadata": {},
   "outputs": [],
   "source": [
    "import dfBasics\n",
    "import pandas as pd\n",
    "\n",
    "version_sla = 'v00001'\n",
    "version     = version_sla + '/v00000'\n",
    "\n",
    "home_directory  =  '/home/jovyan/work/'\n",
    "#share_directory =  '/home/jovyan/work/share/'\n",
    "share_directory =  '/home/jovyan/share/'"
   ]
  },
  {
   "cell_type": "code",
   "execution_count": 5,
   "id": "29b5d21e-370f-4d90-82b7-8e160841f592",
   "metadata": {},
   "outputs": [],
   "source": [
    "sparkSession = dfBasics.getSparkSession()"
   ]
  },
  {
   "cell_type": "code",
   "execution_count": 6,
   "id": "2181d487-8b43-411b-bf62-a337d699970c",
   "metadata": {},
   "outputs": [],
   "source": [
    "#senders = list(sparkSession.read.parquet('hdfs://172.30.17.145:8020/user/admin/sla/v00000/v00000/senders/senders.parquet').toPandas()['CSENDERENDPOINTID'])"
   ]
  },
  {
   "cell_type": "code",
   "execution_count": 7,
   "id": "5990b071-582b-4618-ac1a-d5c69437c9a0",
   "metadata": {},
   "outputs": [],
   "source": [
    "senders_files = sparkSession.read.options(delimiter=',') \\\n",
    "                      .csv('hdfs://172.30.17.145:8020/user/admin/sla/' + version + '/senders/senders_files.txt').toPandas()\n",
    "senders_files.columns = ['size','filename']    "
   ]
  },
  {
   "cell_type": "markdown",
   "id": "23715061-5e92-47c2-97e6-da38f90484a1",
   "metadata": {},
   "source": [
    "# Examples"
   ]
  },
  {
   "cell_type": "markdown",
   "id": "9cdd0665-ae36-4309-8e4a-d2b0c8846c8c",
   "metadata": {},
   "source": [
    "## some info"
   ]
  },
  {
   "cell_type": "code",
   "execution_count": 11,
   "id": "273cacbb-a4fa-456d-93b3-141f6173b6d6",
   "metadata": {},
   "outputs": [
    {
     "data": {
      "text/plain": [
       "(697, '9772')"
      ]
     },
     "execution_count": 11,
     "metadata": {},
     "output_type": "execute_result"
    }
   ],
   "source": [
    "len(senders_files),max(senders_files['size'])"
   ]
  },
  {
   "cell_type": "markdown",
   "id": "59460404-f5a0-46ba-8100-e7be9ccb7848",
   "metadata": {},
   "source": [
    "## get message tracking data "
   ]
  },
  {
   "cell_type": "code",
   "execution_count": 8,
   "id": "7d09641f-a269-41e9-93af-82806f6688ae",
   "metadata": {},
   "outputs": [],
   "source": [
    "def get_empty_message_tracking_dataframe():\n",
    "    columns = ['CGLOBALMESSAGEID', 'CSTARTTIME', 'CENDTIME', 'CSTATUS', 'CSERVICE', \\\n",
    "       'CSENDERENDPOINTID', 'CSENDERPROTOCOL', 'CINBOUNDSIZE', \\\n",
    "       'CRECEIVERPROTOCOL', 'CRECEIVERENDPOINTID', 'CSLATAT', 'CMESSAGETAT2', \\\n",
    "       'CSLADELIVERYTIME', 'year', 'month', 'day', 'hour', 'minute']\n",
    "    return pd.DataFrame(columns=columns)\n",
    "\n",
    "def get_message_tracking_dataframe_of_senders_filename(filename, version=version):\n",
    "    try:\n",
    "        return sparkSession.read.parquet('hdfs://172.30.17.145:8020/user/admin/sla/' + version + '/encoded/senders/' + filename).toPandas()\n",
    "    except Exception as exception: \n",
    "        return get_empty_message_tracking_dataframe()"
   ]
  },
  {
   "cell_type": "code",
   "execution_count": 9,
   "id": "128f1198-5af4-4823-aa33-cfc7ef591073",
   "metadata": {},
   "outputs": [],
   "source": [
    "pfall = get_message_tracking_dataframe_of_senders_filename(senders_files['filename'][0])    "
   ]
  },
  {
   "cell_type": "code",
   "execution_count": 10,
   "id": "3afe5592-3438-405c-83fb-73c8ee4bcffc",
   "metadata": {},
   "outputs": [
    {
     "data": {
      "text/html": [
       "<div>\n",
       "<style scoped>\n",
       "    .dataframe tbody tr th:only-of-type {\n",
       "        vertical-align: middle;\n",
       "    }\n",
       "\n",
       "    .dataframe tbody tr th {\n",
       "        vertical-align: top;\n",
       "    }\n",
       "\n",
       "    .dataframe thead th {\n",
       "        text-align: right;\n",
       "    }\n",
       "</style>\n",
       "<table border=\"1\" class=\"dataframe\">\n",
       "  <thead>\n",
       "    <tr style=\"text-align: right;\">\n",
       "      <th></th>\n",
       "      <th>CGLOBALMESSAGEID</th>\n",
       "      <th>CSTARTTIME</th>\n",
       "      <th>CENDTIME</th>\n",
       "      <th>CSTATUS</th>\n",
       "      <th>CSERVICE</th>\n",
       "      <th>CSENDERENDPOINTID</th>\n",
       "      <th>CSENDERPROTOCOL</th>\n",
       "      <th>CINBOUNDSIZE</th>\n",
       "      <th>CRECEIVERPROTOCOL</th>\n",
       "      <th>CRECEIVERENDPOINTID</th>\n",
       "      <th>CSLATAT</th>\n",
       "      <th>CMESSAGETAT2</th>\n",
       "      <th>CSLADELIVERYTIME</th>\n",
       "      <th>year</th>\n",
       "      <th>month</th>\n",
       "      <th>day</th>\n",
       "      <th>hour</th>\n",
       "      <th>minute</th>\n",
       "    </tr>\n",
       "  </thead>\n",
       "  <tbody>\n",
       "    <tr>\n",
       "      <th>0</th>\n",
       "      <td>175cf1c1-4afa-11ed-be5c-0905ac1e100e</td>\n",
       "      <td>1665667351259</td>\n",
       "      <td>1665667357772</td>\n",
       "      <td>14</td>\n",
       "      <td>6</td>\n",
       "      <td>2</td>\n",
       "      <td>4</td>\n",
       "      <td>33672</td>\n",
       "      <td>0</td>\n",
       "      <td>4870</td>\n",
       "      <td>6466</td>\n",
       "      <td>6513</td>\n",
       "      <td>1665667357725</td>\n",
       "      <td>2022</td>\n",
       "      <td>10</td>\n",
       "      <td>13</td>\n",
       "      <td>15</td>\n",
       "      <td>22</td>\n",
       "    </tr>\n",
       "    <tr>\n",
       "      <th>1</th>\n",
       "      <td>ee445b1f-4afa-11ed-b5bc-15f0ac1e100d</td>\n",
       "      <td>1665667711809</td>\n",
       "      <td>1665667716813</td>\n",
       "      <td>14</td>\n",
       "      <td>6</td>\n",
       "      <td>2</td>\n",
       "      <td>4</td>\n",
       "      <td>33664</td>\n",
       "      <td>0</td>\n",
       "      <td>3932</td>\n",
       "      <td>4957</td>\n",
       "      <td>5004</td>\n",
       "      <td>1665667716766</td>\n",
       "      <td>2022</td>\n",
       "      <td>10</td>\n",
       "      <td>13</td>\n",
       "      <td>15</td>\n",
       "      <td>28</td>\n",
       "    </tr>\n",
       "    <tr>\n",
       "      <th>2</th>\n",
       "      <td>42d298e3-4ad9-11ed-b5bc-15f0ac1e100d</td>\n",
       "      <td>1665653250781</td>\n",
       "      <td>1665653255722</td>\n",
       "      <td>14</td>\n",
       "      <td>6</td>\n",
       "      <td>2</td>\n",
       "      <td>4</td>\n",
       "      <td>33820</td>\n",
       "      <td>0</td>\n",
       "      <td>2382</td>\n",
       "      <td>4909</td>\n",
       "      <td>4941</td>\n",
       "      <td>1665653255690</td>\n",
       "      <td>2022</td>\n",
       "      <td>10</td>\n",
       "      <td>13</td>\n",
       "      <td>11</td>\n",
       "      <td>27</td>\n",
       "    </tr>\n",
       "    <tr>\n",
       "      <th>3</th>\n",
       "      <td>6ca7539c-4ad8-11ed-be5c-0905ac1e100e</td>\n",
       "      <td>1665652891465</td>\n",
       "      <td>1665652897927</td>\n",
       "      <td>14</td>\n",
       "      <td>6</td>\n",
       "      <td>2</td>\n",
       "      <td>4</td>\n",
       "      <td>33659</td>\n",
       "      <td>0</td>\n",
       "      <td>3476</td>\n",
       "      <td>6415</td>\n",
       "      <td>6462</td>\n",
       "      <td>1665652897880</td>\n",
       "      <td>2022</td>\n",
       "      <td>10</td>\n",
       "      <td>13</td>\n",
       "      <td>11</td>\n",
       "      <td>21</td>\n",
       "    </tr>\n",
       "    <tr>\n",
       "      <th>4</th>\n",
       "      <td>6b5bcb58-4ad9-11ed-be5c-0905ac1e100e</td>\n",
       "      <td>1665653318789</td>\n",
       "      <td>1665653325777</td>\n",
       "      <td>14</td>\n",
       "      <td>6</td>\n",
       "      <td>2</td>\n",
       "      <td>4</td>\n",
       "      <td>33652</td>\n",
       "      <td>0</td>\n",
       "      <td>4102</td>\n",
       "      <td>6957</td>\n",
       "      <td>6988</td>\n",
       "      <td>1665653325746</td>\n",
       "      <td>2022</td>\n",
       "      <td>10</td>\n",
       "      <td>13</td>\n",
       "      <td>11</td>\n",
       "      <td>28</td>\n",
       "    </tr>\n",
       "  </tbody>\n",
       "</table>\n",
       "</div>"
      ],
      "text/plain": [
       "                       CGLOBALMESSAGEID     CSTARTTIME       CENDTIME  \\\n",
       "0  175cf1c1-4afa-11ed-be5c-0905ac1e100e  1665667351259  1665667357772   \n",
       "1  ee445b1f-4afa-11ed-b5bc-15f0ac1e100d  1665667711809  1665667716813   \n",
       "2  42d298e3-4ad9-11ed-b5bc-15f0ac1e100d  1665653250781  1665653255722   \n",
       "3  6ca7539c-4ad8-11ed-be5c-0905ac1e100e  1665652891465  1665652897927   \n",
       "4  6b5bcb58-4ad9-11ed-be5c-0905ac1e100e  1665653318789  1665653325777   \n",
       "\n",
       "   CSTATUS  CSERVICE  CSENDERENDPOINTID  CSENDERPROTOCOL  CINBOUNDSIZE  \\\n",
       "0       14         6                  2                4         33672   \n",
       "1       14         6                  2                4         33664   \n",
       "2       14         6                  2                4         33820   \n",
       "3       14         6                  2                4         33659   \n",
       "4       14         6                  2                4         33652   \n",
       "\n",
       "   CRECEIVERPROTOCOL  CRECEIVERENDPOINTID  CSLATAT  CMESSAGETAT2  \\\n",
       "0                  0                 4870     6466          6513   \n",
       "1                  0                 3932     4957          5004   \n",
       "2                  0                 2382     4909          4941   \n",
       "3                  0                 3476     6415          6462   \n",
       "4                  0                 4102     6957          6988   \n",
       "\n",
       "   CSLADELIVERYTIME  year  month  day  hour  minute  \n",
       "0     1665667357725  2022     10   13    15      22  \n",
       "1     1665667716766  2022     10   13    15      28  \n",
       "2     1665653255690  2022     10   13    11      27  \n",
       "3     1665652897880  2022     10   13    11      21  \n",
       "4     1665653325746  2022     10   13    11      28  "
      ]
     },
     "execution_count": 10,
     "metadata": {},
     "output_type": "execute_result"
    }
   ],
   "source": [
    "pfall.head()"
   ]
  },
  {
   "cell_type": "code",
   "execution_count": 17,
   "id": "8b70bdbd-6cad-4d17-a160-d70e65496113",
   "metadata": {},
   "outputs": [
    {
     "data": {
      "text/plain": [
       "(13, 13, array([14], dtype=int32), array([6], dtype=int32))"
      ]
     },
     "execution_count": 17,
     "metadata": {},
     "output_type": "execute_result"
    }
   ],
   "source": [
    "len(pd.unique(pfall['CGLOBALMESSAGEID'])),len(pfall), pd.unique(pfall['CSTATUS']), pd.unique(pfall['CSERVICE'])"
   ]
  },
  {
   "cell_type": "code",
   "execution_count": 18,
   "id": "f66b52bb-9ffb-4991-9daf-8709dabc8a99",
   "metadata": {},
   "outputs": [
    {
     "data": {
      "text/html": [
       "<div>\n",
       "<style scoped>\n",
       "    .dataframe tbody tr th:only-of-type {\n",
       "        vertical-align: middle;\n",
       "    }\n",
       "\n",
       "    .dataframe tbody tr th {\n",
       "        vertical-align: top;\n",
       "    }\n",
       "\n",
       "    .dataframe thead th {\n",
       "        text-align: right;\n",
       "    }\n",
       "</style>\n",
       "<table border=\"1\" class=\"dataframe\">\n",
       "  <thead>\n",
       "    <tr style=\"text-align: right;\">\n",
       "      <th></th>\n",
       "      <th>CGLOBALMESSAGEID</th>\n",
       "      <th>CSTARTTIME</th>\n",
       "      <th>CENDTIME</th>\n",
       "      <th>CSTATUS</th>\n",
       "      <th>CSERVICE</th>\n",
       "      <th>CSENDERENDPOINTID</th>\n",
       "      <th>CSENDERPROTOCOL</th>\n",
       "      <th>CINBOUNDSIZE</th>\n",
       "      <th>CRECEIVERPROTOCOL</th>\n",
       "      <th>CRECEIVERENDPOINTID</th>\n",
       "      <th>CSLATAT</th>\n",
       "      <th>CMESSAGETAT2</th>\n",
       "      <th>CSLADELIVERYTIME</th>\n",
       "      <th>year</th>\n",
       "      <th>month</th>\n",
       "      <th>day</th>\n",
       "      <th>hour</th>\n",
       "      <th>minute</th>\n",
       "    </tr>\n",
       "  </thead>\n",
       "  <tbody>\n",
       "  </tbody>\n",
       "</table>\n",
       "</div>"
      ],
      "text/plain": [
       "Empty DataFrame\n",
       "Columns: [CGLOBALMESSAGEID, CSTARTTIME, CENDTIME, CSTATUS, CSERVICE, CSENDERENDPOINTID, CSENDERPROTOCOL, CINBOUNDSIZE, CRECEIVERPROTOCOL, CRECEIVERENDPOINTID, CSLATAT, CMESSAGETAT2, CSLADELIVERYTIME, year, month, day, hour, minute]\n",
       "Index: []"
      ]
     },
     "execution_count": 18,
     "metadata": {},
     "output_type": "execute_result"
    }
   ],
   "source": [
    "pfall[ pfall['CSERVICE'] == -1]"
   ]
  },
  {
   "cell_type": "markdown",
   "id": "46f2d46c-952b-4ede-bbdb-3a26fe2bd21c",
   "metadata": {},
   "source": [
    "## check message tracking files"
   ]
  },
  {
   "cell_type": "code",
   "execution_count": null,
   "id": "a38488fd-4fe0-4b7f-afe1-b13bfd5447e8",
   "metadata": {},
   "outputs": [],
   "source": [
    "def get_skip_senders(senders_files):\n",
    "    skip_senders_files = []\n",
    "    for file in senders_files:\n",
    "        try:\n",
    "            pfall = sparkSession.read.parquet('hdfs://172.30.17.145:8020/user/admin/sla/' + version + '/encoded/senders/' + file).toPandas()\n",
    "            if -1 in pd.unique(pfall['CSENDERENDPOINTID']) :\n",
    "                skip_senders_files.append(file)\n",
    "        except Exception as exception:     \n",
    "            skip_senders_files.append(file)"
   ]
  },
  {
   "cell_type": "code",
   "execution_count": null,
   "id": "06c3258a-f199-44b4-b97f-455253014c9d",
   "metadata": {},
   "outputs": [],
   "source": [
    "skip_senders_files = get_skip_senders(senders_files['filename'])\n",
    "tested_senders_files = [file for file in senders_files['filename'] if file not in skip_senders_files]\n",
    "#len(skip_senders_files)"
   ]
  },
  {
   "cell_type": "markdown",
   "id": "13000b47-9f5a-4760-9178-509013f4e52b",
   "metadata": {},
   "source": [
    "## inverse transform encoded values"
   ]
  },
  {
   "cell_type": "code",
   "execution_count": 1,
   "id": "eb4be366-1b08-41f7-9cc0-1951c479ec6b",
   "metadata": {},
   "outputs": [],
   "source": [
    "# - run this paragraph only once !\n",
    "# - if you get an 'allow_pickle' error you need Kernel/restart kernel\n",
    "\n",
    "import encoder\n",
    "import numpy as np\n",
    "\n",
    "np_load_old = np.load\n",
    "\n",
    "# modify the default parameters of np.load\n",
    "np.load = lambda *a,**k: np_load_old(*a, allow_pickle=True, **k)\n",
    "\n",
    "# restore np.load for future normal usage\n",
    "#np.load = np_load_old"
   ]
  },
  {
   "cell_type": "code",
   "execution_count": 36,
   "id": "f8c80ca2-1136-4593-9fd8-c19ae814dbbd",
   "metadata": {},
   "outputs": [],
   "source": [
    "def inverse_transform(value,column=None, npy= share_directory + 'sla/' + version_sla + '/npy'):\n",
    "    _encoder = encoder.TolerantLabelEncoder(ignore_unknown=True)\n",
    "    _encoder.classes_ = np.load(npy + '/' + column + '.npy')\n",
    "    if type(value) == int:\n",
    "        return str(_encoder.inverse_transform(value))  \n",
    "    elif type(value) == list:\n",
    "        return [str(_encoder.inverse_transform(v)) for v in value]\n",
    "    else:\n",
    "        return None"
   ]
  },
  {
   "cell_type": "code",
   "execution_count": 37,
   "id": "ba247477-f42d-441b-984f-9d4c068f66f6",
   "metadata": {},
   "outputs": [
    {
     "data": {
      "text/plain": [
       "'ERROR'"
      ]
     },
     "execution_count": 37,
     "metadata": {},
     "output_type": "execute_result"
    }
   ],
   "source": [
    "inverse_transform([6,5],column='CSERVICE')\n",
    "inverse_transform(6, 'CSTATUS')"
   ]
  },
  {
   "cell_type": "markdown",
   "id": "1bffa44e-fe9c-475e-9b27-5f63120eb393",
   "metadata": {},
   "source": [
    "## status : was the message processed successfully ?"
   ]
  },
  {
   "cell_type": "code",
   "execution_count": null,
   "id": "fd431cf8-52d2-4aab-8e98-791e0e1adf24",
   "metadata": {},
   "outputs": [],
   "source": [
    "pfall = pfall.assign(outcome=(~( ((pfall['CSTATUS'] == 'PENDING') & (pfall['CSERVICE'] == 'InvoicePortal')) | ((pfall['CSTATUS'] == 'PENDING') & (pfall['CSERVICE'] == 'IDS')) | (pfall['CSTATUS'] == 'SUCCESS') | (pfall['CSTATUS'] == 'SUCCESS_DOWNLOADED') | (pfall['CSTATUS'] == 'SUCCESS_POLLQUEUE'))).astype(int))\n",
    "    "
   ]
  }
 ],
 "metadata": {
  "kernelspec": {
   "display_name": "Python 3 (ipykernel)",
   "language": "python",
   "name": "python3"
  },
  "language_info": {
   "codemirror_mode": {
    "name": "ipython",
    "version": 3
   },
   "file_extension": ".py",
   "mimetype": "text/x-python",
   "name": "python",
   "nbconvert_exporter": "python",
   "pygments_lexer": "ipython3",
   "version": "3.9.10"
  }
 },
 "nbformat": 4,
 "nbformat_minor": 5
}
