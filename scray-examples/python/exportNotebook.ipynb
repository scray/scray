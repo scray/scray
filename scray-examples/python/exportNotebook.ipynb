{
 "cells": [
  {
   "cell_type": "code",
   "execution_count": null,
   "metadata": {},
   "outputs": [],
   "source": [
    "!jupyter nbconvert --to script dfBasics.ipynb\n",
    "!jupyter nbconvert --to script encoder.ipynb\n",
    "!jupyter nbconvert --to script pfAdapt.ipynb\n",
    "!jupyter nbconvert --to script charts.ipynb\n",
    "!jupyter nbconvert --to script common.ipynb\n",
    "!jupyter nbconvert --to script anomaly.ipynb\n",
    "!jupyter nbconvert --to script createMessageSendersParquet.ipynb\n"
   ]
  },
  {
   "cell_type": "code",
   "execution_count": 1,
   "metadata": {},
   "outputs": [
    {
     "name": "stdout",
     "output_type": "stream",
     "text": [
      "[NbConvertApp] Converting notebook tool_merge_encoded_messages_all_senders.ipynb to script\n",
      "[NbConvertApp] Writing 4244 bytes to tool_merge_encoded_messages_all_senders.py\n"
     ]
    }
   ],
   "source": [
    "!jupyter nbconvert --to script tool_merge_encoded_messages_all_senders.ipynb"
   ]
  },
  {
   "cell_type": "code",
   "execution_count": 1,
   "metadata": {},
   "outputs": [
    {
     "name": "stdout",
     "output_type": "stream",
     "text": [
      "[NbConvertApp] Converting notebook dfBasics.ipynb to script\n",
      "[NbConvertApp] Writing 1455 bytes to dfBasics.py\n"
     ]
    }
   ],
   "source": [
    "!jupyter nbconvert --to script dfBasics.ipynb"
   ]
  },
  {
   "cell_type": "code",
   "execution_count": 1,
   "metadata": {},
   "outputs": [
    {
     "name": "stdout",
     "output_type": "stream",
     "text": [
      "[NbConvertApp] Converting notebook tool_create_encoded_messages_failed_senders.ipynb to script\n",
      "[NbConvertApp] Writing 7174 bytes to tool_create_encoded_messages_failed_senders.py\n"
     ]
    }
   ],
   "source": [
    "!jupyter nbconvert --to script tool_create_encoded_messages_failed_senders.ipynb"
   ]
  },
  {
   "cell_type": "code",
   "execution_count": null,
   "metadata": {},
   "outputs": [],
   "source": [
    "!jupyter nbconvert --to script encoder.ipynb"
   ]
  },
  {
   "cell_type": "code",
   "execution_count": null,
   "metadata": {},
   "outputs": [],
   "source": [
    "!jupyter nbconvert --to script tool_create_encoded_messages_all_senders.ipynb"
   ]
  },
  {
   "cell_type": "code",
   "execution_count": null,
   "metadata": {},
   "outputs": [],
   "source": [
    "!jupyter nbconvert --to script createMessageSendersParquet_Encode.ipynb"
   ]
  },
  {
   "cell_type": "code",
   "execution_count": null,
   "metadata": {},
   "outputs": [],
   "source": [
    "!jupyter nbconvert --to script encodeSLA.ipynb"
   ]
  },
  {
   "cell_type": "code",
   "execution_count": null,
   "metadata": {},
   "outputs": [],
   "source": [
    "!jupyter nbconvert --to script process_CSENDERENDPOINTID.ipynb"
   ]
  },
  {
   "cell_type": "code",
   "execution_count": null,
   "metadata": {},
   "outputs": [],
   "source": [
    "!jupyter nbconvert --to script AnomalyDetectionLSTMAutoencoder.ipynb"
   ]
  },
  {
   "cell_type": "code",
   "execution_count": null,
   "metadata": {},
   "outputs": [],
   "source": [
    "#from notebook import encoder\n",
    "#from encoder.py import encoder\n",
    "#import encoder\n",
    "#from encoder import getEncoder\n",
    "\n",
    "\n",
    "#encoder = encoder.getEncoder('status')\n",
    "#encoder.inverse_transform([3,2,1])\n",
    "!pwd"
   ]
  },
  {
   "cell_type": "code",
   "execution_count": null,
   "metadata": {},
   "outputs": [],
   "source": [
    "!jupyter nbconvert --to script encodeSLA.ipynb"
   ]
  },
  {
   "cell_type": "code",
   "execution_count": null,
   "metadata": {},
   "outputs": [],
   "source": [
    "!jupyter nbconvert --to script anomaly.ipynb"
   ]
  },
  {
   "cell_type": "code",
   "execution_count": null,
   "metadata": {},
   "outputs": [],
   "source": [
    "!more /etc/passwd"
   ]
  }
 ],
 "metadata": {
  "kernelspec": {
   "display_name": "Python 3 (ipykernel)",
   "language": "python",
   "name": "python3"
  },
  "language_info": {
   "codemirror_mode": {
    "name": "ipython",
    "version": 3
   },
   "file_extension": ".py",
   "mimetype": "text/x-python",
   "name": "python",
   "nbconvert_exporter": "python",
   "pygments_lexer": "ipython3",
   "version": "3.9.10"
  }
 },
 "nbformat": 4,
 "nbformat_minor": 4
}
