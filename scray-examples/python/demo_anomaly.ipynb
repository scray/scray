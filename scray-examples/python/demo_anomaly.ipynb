{
 "cells": [
  {
   "cell_type": "code",
   "execution_count": null,
   "metadata": {},
   "outputs": [],
   "source": [
    "# demo: loads file with all messages (CSTARTTIME, CSENDERENDPOINTID, ymdhm )\n",
    "# show some charts, anomaly detection with LSTM autoencoders"
   ]
  },
  {
   "cell_type": "code",
   "execution_count": 250,
   "metadata": {},
   "outputs": [],
   "source": [
    "import base.dfBasics as dfBasics\n",
    "import base.common as common\n",
    "import base.encoder as encoder\n",
    "import base.pfAdapt as pfAdapt\n",
    "import base.charts as charts\n",
    "import base.anomaly as anomaly\n",
    "\n",
    "import pandas as pd    \n",
    "from pyspark.sql import functions"
   ]
  },
  {
   "cell_type": "code",
   "execution_count": 251,
   "metadata": {},
   "outputs": [
    {
     "name": "stderr",
     "output_type": "stream",
     "text": [
      "                                                                                \r"
     ]
    }
   ],
   "source": [
    "sparkSession = dfBasics.getSparkSession()\n",
    "#df = sparkSession.read.parquet('hdfs://172.30.17.145:8020/user/admin/sla/CSENDERENDPOINTID/CSENDERENDPOINTID_9.parquet')\n",
    "#df = sparkSession.read.parquet('hdfs://172.30.17.145:8020/user/admin/sla/sla_1580137124017.parquet')\n",
    "#df = sparkSession.read.parquet('hdfs://172.30.17.145:8020/user/admin/sla/sla_1616754087742.parquet')\n",
    "#df = sparkSession.read.parquet('hdfs://172.30.17.145:8020/user/admin/CSENDERENDPOINTID/CSENDERENDPOINTID_2191.parquet')\n",
    "df = sparkSession.read.parquet('hdfs://172.30.17.145:8020/user/admin/CSENDERENDPOINTID_full/CSENDERENDPOINTID_9.parquet')\n",
    "pfall = df.toPandas() "
   ]
  },
  {
   "cell_type": "code",
   "execution_count": 252,
   "metadata": {},
   "outputs": [],
   "source": [
    "CSENDERENDPOINTID=9"
   ]
  },
  {
   "cell_type": "code",
   "execution_count": 253,
   "metadata": {},
   "outputs": [
    {
     "name": "stdout",
     "output_type": "stream",
     "text": [
      "Setup Complete\n"
     ]
    }
   ],
   "source": [
    "## Setup charts\n",
    "import pandas as pd\n",
    "pd.plotting.register_matplotlib_converters()\n",
    "import matplotlib.pyplot as plt\n",
    "%matplotlib inline\n",
    "import seaborn as sns\n",
    "print(\"Setup Complete\")\n",
    "\n",
    "def get_ym_string(a,b) :\n",
    "    return a + \"-\" + b\n",
    "    #return a.join([\"-\",b]) \n",
    "\n",
    "def get_ym(mdcountsall) :\n",
    "    a = mdcountsall.index.get_level_values(0).astype(str)\n",
    "    b = mdcountsall.index.get_level_values(1).astype(str)\n",
    "    return a,b\n",
    "\n",
    "def get_ymd(mdcountsall) :\n",
    "    a = mdcountsall.index.get_level_values(0).astype(str)\n",
    "    b = mdcountsall.index.get_level_values(1).astype(str)\n",
    "    c = mdcountsall.index.get_level_values(2).astype(str)\n",
    "    return a,b,c\n",
    "\n",
    "def make_2digits(blist):\n",
    "    for n, b in enumerate(blist):\n",
    "        if int(b) < 10:\n",
    "             blist[n] = '0' + str(b)\n",
    "    return blist\n",
    "\n",
    "def get_ymd_string(a,b,c) :\n",
    "    if isinstance(a, str) :\n",
    "        return a + \"-\" + make_2digits([b])[0] + \"-\" + make_2digits([c])[0] \n",
    "    return a + \"-\" + pd.Index(make_2digits(b.tolist())) + \"-\" + pd.Index(make_2digits(c.tolist())) \n",
    "\n",
    "def get_ymdh(mdcountsall) :\n",
    "    a = mdcountsall.index.get_level_values(0).astype(str)\n",
    "    b = mdcountsall.index.get_level_values(1).astype(str)\n",
    "    c = mdcountsall.index.get_level_values(2).astype(str)\n",
    "    d = mdcountsall.index.get_level_values(3).astype(str)\n",
    "    return a,b,c,d\n",
    "\n",
    "def get_ymdh_string(a,b,c,d) :\n",
    "    return a + \"-\" + b + \"-\" + c + \"-\" + d\n",
    "\n",
    "def createData_ym(pfall,month) :\n",
    "    if (month > 0) & (month < 13) :\n",
    "        mdcountsall = pfall[(pfall['month'] == month)].groupby(['year','month'])['year'].count()\n",
    "    else :\n",
    "        mdcountsall = pfall.groupby(['year','month'])['year'].count()    \n",
    "    a,b = get_ym(mdcountsall)\n",
    "    data2 = pd.DataFrame()\n",
    "    data2['date'] = get_ym_string(a,b)\n",
    "    data2['outcome'] = mdcountsall.reset_index(level=0, drop=True).reset_index()['year'].astype(int) \n",
    "    return data2\n",
    "\n",
    "def createData(pfall,month,year=2020) :\n",
    "    if (month > 0) & (month < 13) :\n",
    "        mdcountsall = pfall[(pfall['year'] == year) & (pfall['month'] == month)].groupby(['year','month','day','hour'])['year'].count()\n",
    "    else :\n",
    "        mdcountsall = pfall.groupby(['year','month','day','hour'])['year'].count()    \n",
    "    a,b,c,d = get_ymdh(mdcountsall)\n",
    "    data2 = pd.DataFrame()\n",
    "    data2['date'] = get_ymdh_string(a,b,c,d)\n",
    "    data2['outcome'] =  mdcountsall.reset_index(level=0, drop=True).reset_index()['year'].astype(int)\n",
    "\n",
    "    #for pivot table\n",
    "    data2['hours'] =  d.astype(int) \n",
    "    data2['days']  =  c.astype(int) \n",
    "    return data2\n",
    "\n",
    "\n",
    "def createData_ymd(pfall,month,year=2020) :\n",
    "    if (month > 0) & (month < 13) :\n",
    "        mdcountsall = pfall[(pfall['year'] == year) & (pfall['month'] == month)].groupby(['year','month','day'])['year'].count()\n",
    "    else :\n",
    "        mdcountsall = pfall.groupby(['year','month','day'])['year'].count()    \n",
    "    a,b,c = get_ymd(mdcountsall)\n",
    "    data2 = pd.DataFrame()\n",
    "    data2['date'] = get_ymd_string(a,b,c)\n",
    "    data2['year'] = a.astype(int) \n",
    "    data2['month'] = b.astype(int) \n",
    "    data2['day'] = c.astype(int) \n",
    "    data2['outcome'] = mdcountsall.reset_index(level=0, drop=True).reset_index()['year'].astype(int) \n",
    "    return data2\n",
    "\n",
    "def label(graph,skip,rot) :\n",
    "    for ind, label in enumerate(graph.get_xticklabels()):\n",
    "        if ind % skip == 0:  # every 10th label is kept\n",
    "            label.set_visible(True)\n",
    "            label.set_rotation(rot)\n",
    "        else:\n",
    "            label.set_visible(False)\n",
    "\n",
    "def createBarplot(md=None,fx=24,fy=12,fontscale=3.0,title=\"\") :\n",
    "    sns.set(style='whitegrid', palette='muted', font_scale=fontscale)\n",
    "    plt.figure(figsize=(fx,fy))\n",
    "    plt.title(title)\n",
    "    ax = sns.barplot(x=md['date'], y=md['outcome'], data=md)\n",
    "    plt.setp( ax.xaxis.get_majorticklabels(), rotation=75 )\n",
    "    plt.tight_layout()\n",
    "    plt.show()\n",
    "    return ax\n",
    "\n",
    "## heatmap\n",
    "def createHeatmap(piv,title=\"\") :\n",
    "    plt.figure(figsize=(24,8))\n",
    "    plt.title(title)\n",
    "    ax = sns.heatmap(piv, square=True)\n",
    "    plt.setp( ax.xaxis.get_majorticklabels(), rotation=0 )\n",
    "    plt.tight_layout()\n",
    "    plt.show()\n",
    "    return ax"
   ]
  },
  {
   "cell_type": "code",
   "execution_count": 254,
   "metadata": {},
   "outputs": [
    {
     "data": {
      "text/plain": [
       "['04']"
      ]
     },
     "execution_count": 254,
     "metadata": {},
     "output_type": "execute_result"
    }
   ],
   "source": [
    "make_2digits([4])"
   ]
  },
  {
   "cell_type": "code",
   "execution_count": null,
   "metadata": {},
   "outputs": [],
   "source": [
    "pfall1 = pfall.sort_values(['year','month','day','hour']).reset_index()\n",
    "del pfall1['index']\n",
    "del pfall1['CGLOBALMESSAGEID']"
   ]
  },
  {
   "cell_type": "code",
   "execution_count": 258,
   "metadata": {},
   "outputs": [
    {
     "data": {
      "text/plain": [
       "Index(['CGLOBALMESSAGEID', 'year', 'month', 'day', 'hour', 'CSTATUS',\n",
       "       'CSERVICE', 'CSENDERPROTOCOL', 'CINBOUNDSIZE', 'CRECEIVERPROTOCOL',\n",
       "       'CRECEIVERENDPOINTID', 'CSLATAT', 'CMESSAGETAT2', 'CSLADELIVERYTIME'],\n",
       "      dtype='object')"
      ]
     },
     "execution_count": 258,
     "metadata": {},
     "output_type": "execute_result"
    }
   ],
   "source": [
    "pfall.columns\n"
   ]
  },
  {
   "cell_type": "code",
   "execution_count": null,
   "metadata": {},
   "outputs": [],
   "source": [
    "CRECEIVERENDPOINTID=725"
   ]
  },
  {
   "cell_type": "code",
   "execution_count": null,
   "metadata": {},
   "outputs": [],
   "source": [
    "pfall0 = pfall[pfall['CRECEIVERENDPOINTID']==725]\n",
    "pda = createData_ymd(pfall0,0)"
   ]
  },
  {
   "cell_type": "code",
   "execution_count": null,
   "metadata": {},
   "outputs": [],
   "source": [
    "def check_complete(year=2020):\n",
    "    for m in range(1, 13):\n",
    "        #print(m)\n",
    "        mm = pda[(pda['month'] == m) & (pda['year'] == year)]\n",
    "        print(m,monthrange(year, m)[1] == len(mm))\n",
    "\n",
    "def fill(pda,year,month):        \n",
    "    days = monthrange(year, month)[1]\n",
    "    df = pda[(pda['month'] == month) & (pda['year'] == year)]\n",
    "    for day in range(1, days + 1):\n",
    "        if len(df[df['day']==day]) == 0:\n",
    "            pda.loc[len(pda)]=[get_ymd_string(str(year),str(month),str(day)),year,month,day,0]\n",
    "    "
   ]
  },
  {
   "cell_type": "code",
   "execution_count": null,
   "metadata": {},
   "outputs": [],
   "source": [
    "def unique(pfall):\n",
    "    return pd.unique(pfall['CRECEIVERENDPOINTID']), pd.unique(pfall['CSTATUS']), pd.unique(pfall['CSERVICE']), pd.unique(pfall['CSENDERPROTOCOL']), pd.unique(pfall['CRECEIVERPROTOCOL'])\n",
    "\n",
    "#un=unique(pfall)\n",
    "#unique(pfall[pfall['CRECEIVERENDPOINTID']==725])\n",
    "\n",
    "#pfall0 = pfall[pfall['CRECEIVERENDPOINTID']==un[0][1]]\n",
    "#pda = createData_ymd(pfall0,0)\n",
    "\n",
    "#del pda['index'] "
   ]
  },
  {
   "cell_type": "code",
   "execution_count": null,
   "metadata": {},
   "outputs": [],
   "source": [
    "from calendar import monthrange\n",
    "\n",
    "def get_month(pda, year=2020, month=1):\n",
    "    return pda[(pda['month'] == month) & (pda['year'] == year)]\n",
    "\n",
    "def is_complete(pda, year=2020, month=1):\n",
    "    mm = pda[(pda['month'] == month) & (pda['year'] == year)]\n",
    "    if len(mm) > 0:\n",
    "        return monthrange(year, month)[1] == len(mm)\n",
    "    return None\n",
    "    \n",
    "def check_complete(pda, year=2020):\n",
    "    for m in range(1, 13):\n",
    "        mm = pda[(pda['month'] == m) & (pda['year'] == year)]\n",
    "        if len(mm) > 0:\n",
    "            print(m,monthrange(year, m)[1] == len(mm))\n",
    "\n",
    "#pda :  date,year,month,day.outcome \n",
    "def fill(pda,year,month):        \n",
    "    days = monthrange(year, month)[1]\n",
    "    df = pda[(pda['month'] == month) & (pda['year'] == year)]\n",
    "    for day in range(1, days + 1):\n",
    "        if len(df[df['day']==day]) == 0:\n",
    "            #print(day)\n",
    "            pda.loc[len(pda)]=[get_ymd_string(str(year),str(month),str(day)),year,month,day,0]\n",
    "            \n",
    "def check(_res):\n",
    "    _start_year = min(pd.unique(_res['year']))\n",
    "    _end_year = max(pd.unique(_res['year']))  \n",
    "    _start_month = min(pd.unique(_res[_res['year']== _start_year]['month']))\n",
    "    _end_month = max(pd.unique(_res[_res['year']== _end_year]['month']))\n",
    "\n",
    "    _end = 13\n",
    "    for year in range(_start_year,_end_year+1):\n",
    "        for month in range(_start_month,_end):\n",
    "            print(year,month)\n",
    "            fill(_res,year,month)\n",
    "        _start_month=1\n",
    "        if year == (_end_year-1):\n",
    "            _end = _end_month + 1     \n",
    "            \n",
    "#check(pda)  \n",
    "pda = pda.sort_values(['date']).reset_index()   "
   ]
  },
  {
   "cell_type": "code",
   "execution_count": null,
   "metadata": {},
   "outputs": [],
   "source": [
    "del pda['index'] "
   ]
  },
  {
   "cell_type": "code",
   "execution_count": null,
   "metadata": {},
   "outputs": [],
   "source": [
    "fill(pda,2019,11)     \n",
    "fill(pda,2019,12) \n",
    "fill(pda,2020,1)\n",
    "fill(pda,2020,2)\n",
    "fill(pda,2020,3)\n",
    "fill(pda,2020,4)\n",
    "fill(pda,2020,5)\n",
    "fill(pda,2020,6)\n",
    "fill(pda,2020,7)\n",
    "fill(pda,2020,8)\n",
    "fill(pda,2020,9)\n",
    "fill(pda,2020,10)\n",
    "fill(pda,2020,11)\n",
    "fill(pda,2020,12)\n",
    "fill(pda,2021,1)\n",
    "fill(pda,2021,2)\n",
    "fill(pda,2021,3)\n",
    "pda = pda.sort_values(['date']).reset_index()"
   ]
  },
  {
   "cell_type": "code",
   "execution_count": null,
   "metadata": {},
   "outputs": [],
   "source": [
    "pfall1 = pda"
   ]
  },
  {
   "cell_type": "code",
   "execution_count": null,
   "metadata": {},
   "outputs": [],
   "source": [
    "pda\n",
    "md = createData_ym(pfall,0)\n",
    "ax=createBarplot(md,24,12,3.0,title=\"number messages sent by all endpoints\")"
   ]
  },
  {
   "cell_type": "code",
   "execution_count": null,
   "metadata": {},
   "outputs": [],
   "source": [
    "md"
   ]
  },
  {
   "cell_type": "code",
   "execution_count": null,
   "metadata": {},
   "outputs": [],
   "source": [
    "md2 = createData_ymd(pfall,3,year=2020)\n",
    "ax=createBarplot(md2,fx=24,fy=12,fontscale=3.0,title=\"number messages sent by all endpoints\")\n",
    "label(ax,1000,90)"
   ]
  },
  {
   "cell_type": "code",
   "execution_count": null,
   "metadata": {},
   "outputs": [],
   "source": [
    "# pfall[(pfall['year'] == year) & (pfall['month'] == month)].groupby(['year','month','day','hour'])['year'].count()\n",
    "md2['outcome'].sum()    "
   ]
  },
  {
   "cell_type": "code",
   "execution_count": null,
   "metadata": {},
   "outputs": [],
   "source": [
    "class Time(object):         \n",
    "    def __init__(self,year=None,month=None,day=None):\n",
    "        self.year  = self._int_value(year)\n",
    "        self.month = self._int_value(month)\n",
    "        self.day   = self._int_value(day)\n",
    "    \n",
    "    def _int_value(self,value):\n",
    "        if value == '' or value == None:\n",
    "            return None\n",
    "        return int(value)\n",
    "        \n",
    "\n",
    "class TimeRange(object):    \n",
    "    def __init__(self,dataframe=None,year_from=None,month_from=None,day_from=None,year_to=None,month_to=None,day_to=None):\n",
    "        if dataframe is None:\n",
    "            self.start = Time(year=year_from,month=month_from,day=day_from).__dict__\n",
    "            self.end   = Time(year_to,month_to,day_to).__dict__\n",
    "        else:\n",
    "            #print(dataframe)\n",
    "            year_from = min(pd.unique(dataframe['year']))\n",
    "            year_to = max(pd.unique(dataframe['year']))  \n",
    "            month_from = min(pd.unique(dataframe[dataframe['year']== year_from]['month']))\n",
    "            month_to = max(pd.unique(dataframe[dataframe['year']== year_to]['month']))\n",
    "            day_from = min(pd.unique(dataframe[(dataframe['year']== year_from) & (dataframe['month'] == month_from)]['day']))\n",
    "            day_to = max(pd.unique(dataframe[(dataframe['year']== year_to) & (dataframe['month'] == month_to)]['day']))\n",
    "            self.start = Time(year_from,month_from,day_from).__dict__\n",
    "            self.end   = Time(year_to,month_to,day_to).__dict__\n",
    "            \n",
    "#TimeRange(dataframe=pfall).__dict__  \n",
    "\n",
    "def set_date_widget_value(element, value):\n",
    "    if value != None:\n",
    "        element.value = str(value)\n",
    "    else:\n",
    "        element.value = ''\n",
    "\n",
    "def init_date_widget(_res):\n",
    "    _range = TimeRange(dataframe=_res)\n",
    "    set_date_widget_value(year_from, _range.start['year'])\n",
    "    set_date_widget_value(month_from, _range.start['month'])\n",
    "    set_date_widget_value(day_from, _range.start['day'])\n",
    "    \n",
    "    set_date_widget_value(year_to, _range.end['year'])\n",
    "    set_date_widget_value(month_to, _range.end['month'])\n",
    "    set_date_widget_value(day_to, _range.end['day'])\n",
    "    \n",
    "    \n",
    "  "
   ]
  },
  {
   "cell_type": "code",
   "execution_count": null,
   "metadata": {},
   "outputs": [],
   "source": [
    "def createHeatmapPfall(pfall=pfall,sender='all',month=1,year=2020):\n",
    "    #print(month,year)\n",
    "    global data2\n",
    "    global piv\n",
    "    data2 = createData(pfall,month,year=year)\n",
    "    piv = pd.pivot_table(data2, values=\"outcome\",index=[\"hours\"], columns=[\"days\"], fill_value=0)\n",
    "    #titlestring = \"CSENDERENDPOINTID: \" + str(topsender.iloc[7]['CSENDERENDPOINTID']) + \": \"+ category + \" so far = \" + str(topsender.iloc[7]['outcome']) + \" , month: \" + str(month) \n",
    "    #titlestring = \"CSENDERENDPOINTID: \" + str(topsender.iloc[7]['CSENDERENDPOINTID']) + \": \"+ category  + \" month: \" + str(month) \n",
    "    titlestring =\"number messages \" + str(year) + \"-\" + str(month) + \"  \" + sender\n",
    "    sns.set(style='whitegrid', palette='muted', font_scale=1.2)\n",
    "    createHeatmap(piv, titlestring)\n",
    "\n",
    "createHeatmapPfall(pfall=pfall,sender='all',month=1,year=2020)"
   ]
  },
  {
   "cell_type": "code",
   "execution_count": null,
   "metadata": {},
   "outputs": [],
   "source": [
    "def on_value_submit_month(change):\n",
    "    #adapt_all()    \n",
    "    sender=0\n",
    "   \n",
    "    with out:\n",
    "        clear_output()\n",
    "        month=int(month_from.value)\n",
    "        year=int(year_from.value)\n",
    "        createHeatmapPfall(pfall0,\"endpoint \" + str(CSENDERENDPOINTID) + ' --> ' + str(CRECEIVERENDPOINTID),month=month, year=year)\n",
    "        #print(int(month_from.value), year_from.value)\n",
    "        #createHeatmapPfall(pfall=pfall,sender='all',month=1,year=2020)\n",
    "        \n",
    "        md2 = createData_ymd(pfall0,month,year=year)\n",
    "        ax=createBarplot(md2,fx=24,fy=12,fontscale=3.0,title=\"number messages \" + \"endpoint \" + str(CSENDERENDPOINTID) + ' --> ' + str(CRECEIVERENDPOINTID))\n",
    "        label(ax,1000,90)"
   ]
  },
  {
   "cell_type": "code",
   "execution_count": null,
   "metadata": {},
   "outputs": [],
   "source": [
    "layout2 = {'width': '400px'}\n",
    "\n",
    "year_from   = widgets.Text(description = 'year',value = '2020', style=style, layout=layout2,disabled=False)   \n",
    "year_to     = widgets.Text(description = 'to',value = '', style={'description_width': '20px'}, layout={'width': '200px'},disabled=False)  \n",
    "#year_hbox = widgets.HBox([year_from,year_to])\n",
    "year_hbox = widgets.HBox([year_from])\n",
    "\n",
    "#month  = widgets.Text(description = 'month',value = '', style=style, layout=layout,disabled=False) \n",
    "month_from   = widgets.Text(description = 'month',value = '1', style=style, layout=layout2,disabled=False)   \n",
    "month_to     = widgets.Text(description = 'to',value = '', style={'description_width': '20px'}, layout={'width': '200px'},disabled=False)  \n",
    "#month_hbox   = widgets.HBox([month_from,month_to])\n",
    "month_hbox   = widgets.HBox([month_from])\n",
    "\n",
    "day_from   = widgets.Text(description = 'day',value = '', style=style, layout=layout2,disabled=False)   \n",
    "day_to     = widgets.Text(description = 'to',value = '', style={'description_width': '20px'}, layout={'width': '200px'},disabled=False)  \n",
    "day_hbox   = widgets.HBox([day_from,day_to])\n",
    "\n",
    "month_from.on_submit(on_value_submit_month)\n",
    "year_from.on_submit(on_value_submit_month)\n",
    "\n",
    "out = widgets.Output()\n",
    "\n",
    "display (year_hbox,month_hbox,out)\n",
    "#init_date_widget(pfall)  "
   ]
  },
  {
   "cell_type": "code",
   "execution_count": null,
   "metadata": {},
   "outputs": [],
   "source": [
    "#data2\n",
    "#TimeRange(dataframe=pfall).__dict__\n",
    "_pf = pfall.drop_duplicates(subset=['month','day','year'])\n",
    "#_pf[(_pf['month'] == 1) & (_pf['year'] == 2020)]\n",
    "_pf = pfall[['month','day','year']].drop_duplicates()\n",
    "\n",
    "_days = len(_pf[(_pf['month'] == 10) & (_pf['year'] == 2019)]) \\\n",
    "+ len(_pf[(_pf['month'] == 11) & (_pf['year'] == 2019)]) \\\n",
    "+ len(_pf[(_pf['month'] == 12) & (_pf['year'] == 2019)]) \\\n",
    "+ len(_pf[(_pf['month'] == 1) & (_pf['year'] == 2020)]) \\\n",
    "+ len(_pf[(_pf['month'] == 2) & (_pf['year'] == 2020)]) \\\n",
    "+ 18 , len(_pf)\n",
    "_days[0] / _days[1]"
   ]
  },
  {
   "cell_type": "code",
   "execution_count": null,
   "metadata": {},
   "outputs": [],
   "source": [
    "TimeRange(dataframe=pfall).__dict__"
   ]
  },
  {
   "cell_type": "code",
   "execution_count": null,
   "metadata": {},
   "outputs": [],
   "source": [
    "import warnings\n",
    "warnings.filterwarnings('ignore')\n",
    "#warnings.filterwarnings(action='once')"
   ]
  },
  {
   "cell_type": "markdown",
   "metadata": {},
   "source": [
    "# new"
   ]
  },
  {
   "cell_type": "code",
   "execution_count": null,
   "metadata": {},
   "outputs": [],
   "source": [
    "from sklearn.preprocessing import Normalizer, MinMaxScaler\n",
    "from sklearn.pipeline import Pipeline\n",
    "\n",
    "# configure our pipeline\n",
    "pipeline = Pipeline([('normalizer', Normalizer()),\n",
    "                     ('scaler', MinMaxScaler())])"
   ]
  },
  {
   "cell_type": "markdown",
   "metadata": {},
   "source": [
    "# Time Series Anomaly Detection with LSTM Autoencoders (selected sender)"
   ]
  },
  {
   "cell_type": "code",
   "execution_count": null,
   "metadata": {},
   "outputs": [],
   "source": [
    "# %%capture\n",
    "import AnomalyDetectionLSTMAutoencoder\n",
    "anomalyEnc2 = AnomalyDetectionLSTMAutoencoder.AnomalyDetectionLSTMAutoencoder(TIME_STEPS = 30)\n",
    "anomalyEnc2.initAndTrain(pfall1,0.7)\n",
    "\n",
    "anomalyEnc1 = AnomalyDetectionLSTMAutoencoder.AnomalyDetectionLSTMAutoencoder(TIME_STEPS = 30)\n",
    "anomalyEnc1.initAndTrain(pfall1,0.262)"
   ]
  },
  {
   "cell_type": "code",
   "execution_count": null,
   "metadata": {},
   "outputs": [],
   "source": []
  },
  {
   "cell_type": "code",
   "execution_count": null,
   "metadata": {},
   "outputs": [],
   "source": [
    "len(pfall1),  len(anomalyEnc.train), len(anomalyEnc.test), len(anomalyEnc.y_test), len(anomalyEnc.df1), len(anomalyEnc.train), len(anomalyEnc.test),anomalyEnc.TIME_STEPS, len(anomalyEnc.X_train), len(anomalyEnc.y_train)"
   ]
  },
  {
   "cell_type": "code",
   "execution_count": null,
   "metadata": {},
   "outputs": [],
   "source": [
    "# %%capture\n",
    "import numpy as np\n",
    "\n",
    "#anomalyEnc.test_score_df      = anomalyEnc.testScoreDF(anomalyEnc.model, 0.0, anomalyEnc.X_test, anomalyEnc.test)\n",
    "\n",
    "#plt.tick_params(axis='x', which='both', bottom=False, top=False, labelbottom=False) \n",
    "#data = plt.plot(anomalyEnc.test_score_df.index, anomalyEnc.test_score_df.loss, label='loss')\n",
    "\n",
    "#y=plt.getp(data[0],'ydata')\n",
    "\n",
    "#threshold_X = 0.98 * np.max(y)\n",
    "#threshold_X = np.max(y) - 0.0001\n",
    "#anomalyEnc.evaluateAnomalies(threshold_X)"
   ]
  },
  {
   "cell_type": "code",
   "execution_count": null,
   "metadata": {},
   "outputs": [],
   "source": [
    "import ipywidgets as widgets\n",
    "style = {'description_width': '250px'}\n",
    "layout = {'width': '600px'}\n",
    "from IPython.display import display, clear_output\n",
    "\n",
    "def getThreshold(perc):\n",
    "    anomalyEnc.test_score_df      = anomalyEnc.testScoreDF(anomalyEnc.model, 0.0, anomalyEnc.X_test, anomalyEnc.test)\n",
    "    fig = plt.figure(figsize=(12,6))\n",
    "    plt.tick_params(axis='x', which='both', bottom=False, top=False, labelbottom=False) \n",
    "    data = plt.plot(anomalyEnc.test_score_df.index, anomalyEnc.test_score_df.loss, label='loss')\n",
    "    y=plt.getp(data[0],'ydata')\n",
    "    plt.show(fig)\n",
    "    \n",
    "    #threshold_X = np.max(y) - 0.025\n",
    "    return perc * np.max(y)\n",
    "\n",
    "out2 = widgets.Output()\n",
    "with out2:\n",
    "    threshold_X = getThreshold(0.88)\n",
    "    \n",
    "threshold_X    \n",
    "\n",
    "anomalyEnc.evaluateAnomalies(threshold_X)"
   ]
  },
  {
   "cell_type": "code",
   "execution_count": null,
   "metadata": {},
   "outputs": [],
   "source": [
    "def scatterplot(index, values,label):\n",
    "    return sns.scatterplot(\n",
    "      x=index,\n",
    "      y=values,\n",
    "      color=sns.color_palette()[3],\n",
    "      s=152,\n",
    "      label=label\n",
    "    )\n",
    "    \n",
    "def plot_test(test,scaler,anomalies,titlestring,xlabel):\n",
    "\n",
    "    fig = plt.figure(figsize=(18,9))\n",
    "    \n",
    "    plt.plot(\n",
    "      test[anomalyEnc.TIME_STEPS:].index, \n",
    "      #scaler.inverse_transform(test[TIME_STEPS:].close), \n",
    "      scaler.inverse_transform(test[anomalyEnc.TIME_STEPS:]),   \n",
    "      label='msg count'\n",
    "    );\n",
    "\n",
    "    #ax = scatterplot(anomalyEnc.anomalies.index, anomalyEnc.scaler.inverse_transform(anomalyEnc.anomalies['close']), 'anomaly')  \n",
    "    #ax = scatterplot(anomalyEnc.anomalies.index, anomalyEnc.scaler.inverse_transform(anomalyEnc.anomalies), 'anomaly')\n",
    "    _a=anomalyEnc.anomalies['close']\n",
    "    _a = pd.DataFrame(_a)\n",
    "    _a = anomalyEnc.scaler.inverse_transform(_a)\n",
    "    _a = _a[:, 0]\n",
    "    #print(_a,type(_a),_a[0],len(_a),len(_a[:, 0]))\n",
    "    ax = scatterplot(anomalyEnc.anomalies.index, _a, 'anomaly') \n",
    "    \n",
    "    ax.set_xlabel(xlabel)\n",
    "    plt.tick_params(axis='x', which='both', bottom=False, top=False, labelbottom=False) \n",
    "    plt.xticks(rotation=25)\n",
    "    plt.legend();\n",
    "\n",
    "    label(ax,5,80)\n",
    "    plt.title(titlestring)\n",
    "    plt.show(fig)\n"
   ]
  },
  {
   "cell_type": "code",
   "execution_count": null,
   "metadata": {},
   "outputs": [],
   "source": []
  },
  {
   "cell_type": "code",
   "execution_count": null,
   "metadata": {},
   "outputs": [],
   "source": [
    "out3 = widgets.Output()\n",
    "\n",
    "def models_on_change(change):\n",
    "    global anomalyEnc\n",
    "    if change['type'] == 'change' and change['name'] == 'value':\n",
    "        #print(change['new'])\n",
    "        if change['new'] == 1:\n",
    "            anomalyEnc = anomalyEnc1\n",
    "        else:\n",
    "            anomalyEnc = anomalyEnc2\n",
    "\n",
    "def on_value_submit_percent(change):\n",
    "    with out2:\n",
    "        global threshold_X\n",
    "        threshold_X = getThreshold(float(percent.value))\n",
    "        anomalyEnc.evaluateAnomalies(threshold_X)\n",
    "        clear_output()\n",
    "    \n",
    "    with out3:\n",
    "        clear_output()\n",
    "        sender = 0\n",
    "        #titlestring =\"endpoint (sending) : \" + str(sender) + \" ( trained: \" +  anomalyEnc.train.index[0] + \" -- \" + anomalyEnc.train.index[len(anomalyEnc.train.index)-1] + \" )\"\n",
    "        #plot_test(anomalyEnc.test,anomalyEnc.scaler,anomalyEnc.anomalies,titlestring)\n",
    "        \n",
    "        #fig = plt.figure(figsize=(12,6))\n",
    "        #plt.tick_params(axis='x', which='both', bottom=False, top=False, labelbottom=False) \n",
    "        \n",
    "        # threshold\n",
    "        #plt.plot(anomalyEnc.test_score_df.index, anomalyEnc.test_score_df.loss, label='loss')\n",
    "        #plt.plot(anomalyEnc.test_score_df.index, anomalyEnc.test_score_df.threshold, label='threshold')\n",
    "        \n",
    "        sender = CSENDERENDPOINTID\n",
    "        receiver = CRECEIVERENDPOINTID\n",
    "        titlestring =\"endpoint \" + str(CSENDERENDPOINTID) + ' --> ' + str(CRECEIVERENDPOINTID) + \" ( trained: \" +  anomalyEnc.train.index[0] + \" -- \" + anomalyEnc.train.index[len(anomalyEnc.train.index)-1] + \" )\"\n",
    "        _xlabel = 'date: ' + anomalyEnc.test.index[0] + ' -- ' + anomalyEnc.test.index[len(anomalyEnc.test) -1]\n",
    "        plot_test(anomalyEnc.test,anomalyEnc.scaler,anomalyEnc.anomalies,titlestring, _xlabel)\n",
    "        display(anomalyEnc.anomalies)\n",
    "        \n",
    "        #plt.show(fig)\n",
    "        \n",
    "percent   = widgets.Text(description = 'percent',value = '0.985', style=style, layout=layout,disabled=False)    \n",
    "percent.on_submit(on_value_submit_percent)\n",
    "\n",
    "models = widgets.Dropdown(description='model',options =[1,2], style=style, layout=layout,disabled=False)\n",
    "models.observe(models_on_change) \n",
    "\n",
    "anomalyEnc = anomalyEnc1\n",
    "display(models,percent,out3)"
   ]
  },
  {
   "cell_type": "markdown",
   "metadata": {},
   "source": [
    "# Demo"
   ]
  },
  {
   "cell_type": "code",
   "execution_count": 246,
   "metadata": {},
   "outputs": [
    {
     "data": {
      "text/html": [
       "<div>\n",
       "<style scoped>\n",
       "    .dataframe tbody tr th:only-of-type {\n",
       "        vertical-align: middle;\n",
       "    }\n",
       "\n",
       "    .dataframe tbody tr th {\n",
       "        vertical-align: top;\n",
       "    }\n",
       "\n",
       "    .dataframe thead th {\n",
       "        text-align: right;\n",
       "    }\n",
       "</style>\n",
       "<table border=\"1\" class=\"dataframe\">\n",
       "  <thead>\n",
       "    <tr style=\"text-align: right;\">\n",
       "      <th></th>\n",
       "      <th>CGLOBALMESSAGEID</th>\n",
       "      <th>year</th>\n",
       "      <th>month</th>\n",
       "      <th>day</th>\n",
       "      <th>hour</th>\n",
       "      <th>CSTATUS</th>\n",
       "      <th>CSERVICE</th>\n",
       "      <th>CSENDERPROTOCOL</th>\n",
       "      <th>CINBOUNDSIZE</th>\n",
       "      <th>CRECEIVERPROTOCOL</th>\n",
       "      <th>CRECEIVERENDPOINTID</th>\n",
       "      <th>CSLATAT</th>\n",
       "      <th>CMESSAGETAT2</th>\n",
       "      <th>CSLADELIVERYTIME</th>\n",
       "    </tr>\n",
       "  </thead>\n",
       "  <tbody>\n",
       "    <tr>\n",
       "      <th>0</th>\n",
       "      <td>6878249240966155692</td>\n",
       "      <td>2020</td>\n",
       "      <td>1</td>\n",
       "      <td>15</td>\n",
       "      <td>5</td>\n",
       "      <td>11</td>\n",
       "      <td>5</td>\n",
       "      <td>0</td>\n",
       "      <td>2293</td>\n",
       "      <td>0</td>\n",
       "      <td>725</td>\n",
       "      <td>6159</td>\n",
       "      <td>7495</td>\n",
       "      <td>1579063677504</td>\n",
       "    </tr>\n",
       "    <tr>\n",
       "      <th>1</th>\n",
       "      <td>-3549930604559515972</td>\n",
       "      <td>2020</td>\n",
       "      <td>1</td>\n",
       "      <td>15</td>\n",
       "      <td>5</td>\n",
       "      <td>11</td>\n",
       "      <td>5</td>\n",
       "      <td>0</td>\n",
       "      <td>2293</td>\n",
       "      <td>0</td>\n",
       "      <td>725</td>\n",
       "      <td>6239</td>\n",
       "      <td>7205</td>\n",
       "      <td>1579063703375</td>\n",
       "    </tr>\n",
       "    <tr>\n",
       "      <th>2</th>\n",
       "      <td>7294079960648046876</td>\n",
       "      <td>2020</td>\n",
       "      <td>1</td>\n",
       "      <td>15</td>\n",
       "      <td>7</td>\n",
       "      <td>11</td>\n",
       "      <td>5</td>\n",
       "      <td>0</td>\n",
       "      <td>2445</td>\n",
       "      <td>0</td>\n",
       "      <td>725</td>\n",
       "      <td>227454</td>\n",
       "      <td>276896</td>\n",
       "      <td>1579071191028</td>\n",
       "    </tr>\n",
       "    <tr>\n",
       "      <th>3</th>\n",
       "      <td>4593600892465465186</td>\n",
       "      <td>2020</td>\n",
       "      <td>1</td>\n",
       "      <td>15</td>\n",
       "      <td>9</td>\n",
       "      <td>11</td>\n",
       "      <td>5</td>\n",
       "      <td>0</td>\n",
       "      <td>2359</td>\n",
       "      <td>0</td>\n",
       "      <td>725</td>\n",
       "      <td>6285</td>\n",
       "      <td>40731</td>\n",
       "      <td>1579076545891</td>\n",
       "    </tr>\n",
       "    <tr>\n",
       "      <th>4</th>\n",
       "      <td>-1466978904100060073</td>\n",
       "      <td>2020</td>\n",
       "      <td>1</td>\n",
       "      <td>15</td>\n",
       "      <td>10</td>\n",
       "      <td>11</td>\n",
       "      <td>5</td>\n",
       "      <td>0</td>\n",
       "      <td>854</td>\n",
       "      <td>0</td>\n",
       "      <td>725</td>\n",
       "      <td>6160</td>\n",
       "      <td>43341</td>\n",
       "      <td>1579081703258</td>\n",
       "    </tr>\n",
       "    <tr>\n",
       "      <th>...</th>\n",
       "      <td>...</td>\n",
       "      <td>...</td>\n",
       "      <td>...</td>\n",
       "      <td>...</td>\n",
       "      <td>...</td>\n",
       "      <td>...</td>\n",
       "      <td>...</td>\n",
       "      <td>...</td>\n",
       "      <td>...</td>\n",
       "      <td>...</td>\n",
       "      <td>...</td>\n",
       "      <td>...</td>\n",
       "      <td>...</td>\n",
       "      <td>...</td>\n",
       "    </tr>\n",
       "    <tr>\n",
       "      <th>1782420</th>\n",
       "      <td>-7897740044678644349</td>\n",
       "      <td>2020</td>\n",
       "      <td>4</td>\n",
       "      <td>5</td>\n",
       "      <td>22</td>\n",
       "      <td>11</td>\n",
       "      <td>5</td>\n",
       "      <td>0</td>\n",
       "      <td>614</td>\n",
       "      <td>0</td>\n",
       "      <td>725</td>\n",
       "      <td>5640</td>\n",
       "      <td>5790</td>\n",
       "      <td>1586117600585</td>\n",
       "    </tr>\n",
       "    <tr>\n",
       "      <th>1782421</th>\n",
       "      <td>-6783699335817719085</td>\n",
       "      <td>2020</td>\n",
       "      <td>4</td>\n",
       "      <td>5</td>\n",
       "      <td>22</td>\n",
       "      <td>11</td>\n",
       "      <td>5</td>\n",
       "      <td>0</td>\n",
       "      <td>30549</td>\n",
       "      <td>0</td>\n",
       "      <td>725</td>\n",
       "      <td>4485</td>\n",
       "      <td>4637</td>\n",
       "      <td>1586117117778</td>\n",
       "    </tr>\n",
       "    <tr>\n",
       "      <th>1782422</th>\n",
       "      <td>3176671547071877123</td>\n",
       "      <td>2020</td>\n",
       "      <td>4</td>\n",
       "      <td>5</td>\n",
       "      <td>22</td>\n",
       "      <td>11</td>\n",
       "      <td>5</td>\n",
       "      <td>0</td>\n",
       "      <td>599</td>\n",
       "      <td>0</td>\n",
       "      <td>725</td>\n",
       "      <td>5185</td>\n",
       "      <td>5324</td>\n",
       "      <td>1586117624175</td>\n",
       "    </tr>\n",
       "    <tr>\n",
       "      <th>1782423</th>\n",
       "      <td>-541979808772834438</td>\n",
       "      <td>2020</td>\n",
       "      <td>4</td>\n",
       "      <td>5</td>\n",
       "      <td>22</td>\n",
       "      <td>11</td>\n",
       "      <td>5</td>\n",
       "      <td>0</td>\n",
       "      <td>602</td>\n",
       "      <td>0</td>\n",
       "      <td>725</td>\n",
       "      <td>4661</td>\n",
       "      <td>4804</td>\n",
       "      <td>1586117595455</td>\n",
       "    </tr>\n",
       "    <tr>\n",
       "      <th>1782424</th>\n",
       "      <td>-6790964194287412290</td>\n",
       "      <td>2020</td>\n",
       "      <td>4</td>\n",
       "      <td>5</td>\n",
       "      <td>22</td>\n",
       "      <td>11</td>\n",
       "      <td>5</td>\n",
       "      <td>0</td>\n",
       "      <td>608</td>\n",
       "      <td>0</td>\n",
       "      <td>725</td>\n",
       "      <td>4562</td>\n",
       "      <td>4707</td>\n",
       "      <td>1586117505014</td>\n",
       "    </tr>\n",
       "  </tbody>\n",
       "</table>\n",
       "<p>1780506 rows × 14 columns</p>\n",
       "</div>"
      ],
      "text/plain": [
       "            CGLOBALMESSAGEID  year  month  day  hour  CSTATUS  CSERVICE  \\\n",
       "0        6878249240966155692  2020      1   15     5       11         5   \n",
       "1       -3549930604559515972  2020      1   15     5       11         5   \n",
       "2        7294079960648046876  2020      1   15     7       11         5   \n",
       "3        4593600892465465186  2020      1   15     9       11         5   \n",
       "4       -1466978904100060073  2020      1   15    10       11         5   \n",
       "...                      ...   ...    ...  ...   ...      ...       ...   \n",
       "1782420 -7897740044678644349  2020      4    5    22       11         5   \n",
       "1782421 -6783699335817719085  2020      4    5    22       11         5   \n",
       "1782422  3176671547071877123  2020      4    5    22       11         5   \n",
       "1782423  -541979808772834438  2020      4    5    22       11         5   \n",
       "1782424 -6790964194287412290  2020      4    5    22       11         5   \n",
       "\n",
       "         CSENDERPROTOCOL  CINBOUNDSIZE  CRECEIVERPROTOCOL  \\\n",
       "0                      0          2293                  0   \n",
       "1                      0          2293                  0   \n",
       "2                      0          2445                  0   \n",
       "3                      0          2359                  0   \n",
       "4                      0           854                  0   \n",
       "...                  ...           ...                ...   \n",
       "1782420                0           614                  0   \n",
       "1782421                0         30549                  0   \n",
       "1782422                0           599                  0   \n",
       "1782423                0           602                  0   \n",
       "1782424                0           608                  0   \n",
       "\n",
       "         CRECEIVERENDPOINTID  CSLATAT  CMESSAGETAT2  CSLADELIVERYTIME  \n",
       "0                        725     6159          7495     1579063677504  \n",
       "1                        725     6239          7205     1579063703375  \n",
       "2                        725   227454        276896     1579071191028  \n",
       "3                        725     6285         40731     1579076545891  \n",
       "4                        725     6160         43341     1579081703258  \n",
       "...                      ...      ...           ...               ...  \n",
       "1782420                  725     5640          5790     1586117600585  \n",
       "1782421                  725     4485          4637     1586117117778  \n",
       "1782422                  725     5185          5324     1586117624175  \n",
       "1782423                  725     4661          4804     1586117595455  \n",
       "1782424                  725     4562          4707     1586117505014  \n",
       "\n",
       "[1780506 rows x 14 columns]"
      ]
     },
     "execution_count": 246,
     "metadata": {},
     "output_type": "execute_result"
    }
   ],
   "source": [
    "pfall0"
   ]
  },
  {
   "cell_type": "code",
   "execution_count": 247,
   "metadata": {},
   "outputs": [
    {
     "name": "stdout",
     "output_type": "stream",
     "text": [
      "{'start': {'year': 2019, 'month': 10, 'day': 29}, 'end': {'year': 2021, 'month': 4, 'day': 7}}\n"
     ]
    },
    {
     "data": {
      "image/png": "[encoded data removed]",
      "text/plain": [
       "<Figure size 1728x864 with 1 Axes>"
      ]
     },
     "metadata": {},
     "output_type": "display_data"
    }
   ],
   "source": [
    "print(TimeRange(dataframe=pfall).__dict__)\n",
    "md = createData_ym(pfall0,0)\n",
    "ax=createBarplot(md,24,12,3.0,title=\"number messages \" +  \"endpoint \" + str(CSENDERENDPOINTID) + ' --> ' + str(CRECEIVERENDPOINTID))"
   ]
  },
  {
   "cell_type": "code",
   "execution_count": 248,
   "metadata": {},
   "outputs": [
    {
     "data": {
      "application/vnd.jupyter.widget-view+json": {
       "model_id": "11fe25552b2641c59287d3baaee77435",
       "version_major": 2,
       "version_minor": 0
      },
      "text/plain": [
       "HBox(children=(Text(value='2020', description='year', layout=Layout(width='400px'), style=DescriptionStyle(des…"
      ]
     },
     "metadata": {},
     "output_type": "display_data"
    },
    {
     "data": {
      "application/vnd.jupyter.widget-view+json": {
       "model_id": "09221c826bc94359ab70313ca2d51fd3",
       "version_major": 2,
       "version_minor": 0
      },
      "text/plain": [
       "HBox(children=(Text(value='4', description='month', layout=Layout(width='400px'), style=DescriptionStyle(descr…"
      ]
     },
     "metadata": {},
     "output_type": "display_data"
    },
    {
     "data": {
      "application/vnd.jupyter.widget-view+json": {
       "model_id": "798a390316d045e3bfdcd6b7ccba8e95",
       "version_major": 2,
       "version_minor": 0
      },
      "text/plain": [
       "Output(outputs=({'output_type': 'display_data', 'data': {'text/plain': '<Figure size 1728x576 with 2 Axes>', '…"
      ]
     },
     "metadata": {},
     "output_type": "display_data"
    }
   ],
   "source": [
    "display (year_hbox,month_hbox,out)"
   ]
  },
  {
   "cell_type": "code",
   "execution_count": 249,
   "metadata": {},
   "outputs": [
    {
     "data": {
      "application/vnd.jupyter.widget-view+json": {
       "model_id": "3b7b02d81bb744a9977ab96775346c5a",
       "version_major": 2,
       "version_minor": 0
      },
      "text/plain": [
       "Dropdown(description='model', layout=Layout(width='600px'), options=(1, 2), style=DescriptionStyle(description…"
      ]
     },
     "metadata": {},
     "output_type": "display_data"
    },
    {
     "data": {
      "application/vnd.jupyter.widget-view+json": {
       "model_id": "4d154e301a1b4fde8924f617605e1db6",
       "version_major": 2,
       "version_minor": 0
      },
      "text/plain": [
       "Text(value='0.985', description='percent', layout=Layout(width='600px'), style=DescriptionStyle(description_wi…"
      ]
     },
     "metadata": {},
     "output_type": "display_data"
    },
    {
     "data": {
      "application/vnd.jupyter.widget-view+json": {
       "model_id": "c416a0f9ddec44539a8899e863de1d7b",
       "version_major": 2,
       "version_minor": 0
      },
      "text/plain": [
       "Output(outputs=({'output_type': 'display_data', 'data': {'text/plain': '<Figure size 1296x648 with 1 Axes>', '…"
      ]
     },
     "metadata": {},
     "output_type": "display_data"
    }
   ],
   "source": [
    "percent   = widgets.Text(description = 'percent',value = '0.985', style=style, layout=layout,disabled=False)    \n",
    "percent.on_submit(on_value_submit_percent)\n",
    "\n",
    "models = widgets.Dropdown(description='model',options =[1,2], style=style, layout=layout,disabled=False)\n",
    "models.observe(models_on_change) \n",
    "\n",
    "anomalyEnc = anomalyEnc1\n",
    "display(models,percent,out3)"
   ]
  }
 ],
 "metadata": {
  "kernelspec": {
   "display_name": "Python 3 (ipykernel)",
   "language": "python",
   "name": "python3"
  },
  "language_info": {
   "codemirror_mode": {
    "name": "ipython",
    "version": 3
   },
   "file_extension": ".py",
   "mimetype": "text/x-python",
   "name": "python",
   "nbconvert_exporter": "python",
   "pygments_lexer": "ipython3",
   "version": "3.9.7"
  }
 },
 "nbformat": 4,
 "nbformat_minor": 4
}
