{
 "cells": [
  {
   "cell_type": "markdown",
   "id": "4c7bf0cc-2bee-4491-b8e6-ba3e624ecb4d",
   "metadata": {},
   "source": [
    "# tool_merge_encoded_yearly_messages_all_senders"
   ]
  },
  {
   "cell_type": "markdown",
   "id": "a5cf76a5-dfad-4145-bb46-46e821783320",
   "metadata": {},
   "source": [
    "# Main"
   ]
  },
  {
   "cell_type": "code",
   "execution_count": 1,
   "id": "1315d67c-dca1-42e7-a044-6be3f2fbc49e",
   "metadata": {},
   "outputs": [],
   "source": [
    "import dfBasics\n",
    "import common\n",
    "import encoder\n",
    "import pfAdapt\n",
    "#import charts"
   ]
  },
  {
   "cell_type": "code",
   "execution_count": 2,
   "id": "7546a523-8667-44c7-a2dd-ca55815afea1",
   "metadata": {},
   "outputs": [],
   "source": [
    "version_sla = 'v00001'\n",
    "version     = version_sla + '/v00000'\n",
    "\n",
    "home_directory  =  '/home/jovyan/work/'\n",
    "share_directory =  '/home/jovyan/work/share/'\n",
    "#share_directory =  '/home/jovyan/share/'"
   ]
  },
  {
   "cell_type": "code",
   "execution_count": 3,
   "id": "9f057a9f-e288-42c3-b185-00a14bc15162",
   "metadata": {},
   "outputs": [],
   "source": [
    "import pandas as pd\n",
    "from pyspark.sql import functions"
   ]
  },
  {
   "cell_type": "code",
   "execution_count": 4,
   "id": "5144238f-ef6b-4b9b-a0e4-ae6b85edc033",
   "metadata": {
    "tags": []
   },
   "outputs": [],
   "source": [
    "sparkSession = dfBasics.getSparkSession()"
   ]
  },
  {
   "cell_type": "code",
   "execution_count": 5,
   "id": "57fb9b44-6b8f-47d9-8a62-b699f767cdb7",
   "metadata": {},
   "outputs": [],
   "source": [
    "df = sparkSession.read.parquet('hdfs://172.30.17.145:8020/preprocessing/enc/missing_senders/*/*').select('CSENDERENDPOINTID').dropDuplicates()\n",
    "senders = df.toPandas()['CSENDERENDPOINTID']\n",
    "senders = list(senders)"
   ]
  },
  {
   "cell_type": "code",
   "execution_count": 11,
   "id": "cb9c395b-a24d-4ba4-b34e-65aa531e5f13",
   "metadata": {},
   "outputs": [
    {
     "data": {
      "text/plain": [
       "877"
      ]
     },
     "execution_count": 11,
     "metadata": {},
     "output_type": "execute_result"
    }
   ],
   "source": [
    "len(senders)"
   ]
  },
  {
   "cell_type": "code",
   "execution_count": 16,
   "id": "6f3d740a-eef6-4055-ac9e-013fa9a43ef8",
   "metadata": {},
   "outputs": [],
   "source": [
    "#senders"
   ]
  },
  {
   "cell_type": "code",
   "execution_count": 9,
   "id": "10973534-299f-439d-8d15-c86ff875715d",
   "metadata": {},
   "outputs": [],
   "source": [
    "import pyspark.sql.functions as f\n",
    "\n",
    "def process(sender=None, dataframe=None):\n",
    "    df3 = dataframe.where(f.col(\"CSENDERENDPOINTID\").isin([sender]))\n",
    "    return df3\n",
    "\n",
    "df = process(sender=senders[0],dataframe=sparkSession.read.parquet('hdfs://172.30.17.145:8020/preprocessing/enc/missing_senders/*/*'))"
   ]
  },
  {
   "cell_type": "code",
   "execution_count": 12,
   "id": "92497fcb-245b-424a-91aa-e8bf9a36def9",
   "metadata": {},
   "outputs": [],
   "source": [
    "_result=df.toPandas()"
   ]
  },
  {
   "cell_type": "code",
   "execution_count": 14,
   "id": "00778667-e0e1-4aca-937d-a963f96b4265",
   "metadata": {},
   "outputs": [
    {
     "data": {
      "text/html": [
       "<div>\n",
       "<style scoped>\n",
       "    .dataframe tbody tr th:only-of-type {\n",
       "        vertical-align: middle;\n",
       "    }\n",
       "\n",
       "    .dataframe tbody tr th {\n",
       "        vertical-align: top;\n",
       "    }\n",
       "\n",
       "    .dataframe thead th {\n",
       "        text-align: right;\n",
       "    }\n",
       "</style>\n",
       "<table border=\"1\" class=\"dataframe\">\n",
       "  <thead>\n",
       "    <tr style=\"text-align: right;\">\n",
       "      <th></th>\n",
       "      <th>CGLOBALMESSAGEID</th>\n",
       "      <th>CSTARTTIME</th>\n",
       "      <th>CENDTIME</th>\n",
       "      <th>CSTATUS</th>\n",
       "      <th>CSERVICE</th>\n",
       "      <th>CSENDERENDPOINTID</th>\n",
       "      <th>CSENDERPROTOCOL</th>\n",
       "      <th>CINBOUNDSIZE</th>\n",
       "      <th>CRECEIVERPROTOCOL</th>\n",
       "      <th>CRECEIVERENDPOINTID</th>\n",
       "      <th>CSLATAT</th>\n",
       "      <th>CMESSAGETAT2</th>\n",
       "      <th>CSLADELIVERYTIME</th>\n",
       "      <th>year</th>\n",
       "      <th>month</th>\n",
       "      <th>day</th>\n",
       "      <th>hour</th>\n",
       "      <th>minute</th>\n",
       "    </tr>\n",
       "  </thead>\n",
       "  <tbody>\n",
       "    <tr>\n",
       "      <th>0</th>\n",
       "      <td>30448b53-fa10-11e9-92f2-f5adac1e100c</td>\n",
       "      <td>1572328305420</td>\n",
       "      <td>1572328312503</td>\n",
       "      <td>SUCCESS</td>\n",
       "      <td>MAKO_BE_ROUTER</td>\n",
       "      <td>e57c94c0-e0f0-11e8-be62-528eac1b495c</td>\n",
       "      <td>AS2</td>\n",
       "      <td>20836</td>\n",
       "      <td>HTTP</td>\n",
       "      <td>5169</td>\n",
       "      <td>6844</td>\n",
       "      <td>7083</td>\n",
       "      <td>1572328312264</td>\n",
       "      <td>2019</td>\n",
       "      <td>10</td>\n",
       "      <td>29</td>\n",
       "      <td>6</td>\n",
       "      <td>51</td>\n",
       "    </tr>\n",
       "    <tr>\n",
       "      <th>1</th>\n",
       "      <td>8266ffc3-fa1b-11e9-92f2-f5adac1e100c</td>\n",
       "      <td>1572333167526</td>\n",
       "      <td>1572333173387</td>\n",
       "      <td>SUCCESS</td>\n",
       "      <td>MAKO_BE_ROUTER</td>\n",
       "      <td>e57c94c0-e0f0-11e8-be62-528eac1b495c</td>\n",
       "      <td>AS2</td>\n",
       "      <td>5293</td>\n",
       "      <td>HTTP</td>\n",
       "      <td>5169</td>\n",
       "      <td>5610</td>\n",
       "      <td>5861</td>\n",
       "      <td>1572333173136</td>\n",
       "      <td>2019</td>\n",
       "      <td>10</td>\n",
       "      <td>29</td>\n",
       "      <td>8</td>\n",
       "      <td>12</td>\n",
       "    </tr>\n",
       "    <tr>\n",
       "      <th>2</th>\n",
       "      <td>fe4600f3-fa02-11e9-9cf9-6e9eac1e100b</td>\n",
       "      <td>1572322638537</td>\n",
       "      <td>1572322645118</td>\n",
       "      <td>SUCCESS</td>\n",
       "      <td>MAKO_BE_ROUTER</td>\n",
       "      <td>e57c94c0-e0f0-11e8-be62-528eac1b495c</td>\n",
       "      <td>AS2</td>\n",
       "      <td>64363</td>\n",
       "      <td>HTTP</td>\n",
       "      <td>5169</td>\n",
       "      <td>6315</td>\n",
       "      <td>6581</td>\n",
       "      <td>1572322644852</td>\n",
       "      <td>2019</td>\n",
       "      <td>10</td>\n",
       "      <td>29</td>\n",
       "      <td>5</td>\n",
       "      <td>17</td>\n",
       "    </tr>\n",
       "    <tr>\n",
       "      <th>3</th>\n",
       "      <td>85035aba-fa09-11e9-9cf9-6e9eac1e100b</td>\n",
       "      <td>1572325441519</td>\n",
       "      <td>1572325451697</td>\n",
       "      <td>SUCCESS</td>\n",
       "      <td>MAKO_BE_ROUTER</td>\n",
       "      <td>e57c94c0-e0f0-11e8-be62-528eac1b495c</td>\n",
       "      <td>AS2</td>\n",
       "      <td>56967</td>\n",
       "      <td>AS2</td>\n",
       "      <td>3499</td>\n",
       "      <td>9739</td>\n",
       "      <td>10178</td>\n",
       "      <td>1572325451258</td>\n",
       "      <td>2019</td>\n",
       "      <td>10</td>\n",
       "      <td>29</td>\n",
       "      <td>6</td>\n",
       "      <td>4</td>\n",
       "    </tr>\n",
       "    <tr>\n",
       "      <th>4</th>\n",
       "      <td>6997da86-fa09-11e9-92f2-f5adac1e100c</td>\n",
       "      <td>1572325395079</td>\n",
       "      <td>1572325400141</td>\n",
       "      <td>SUCCESS</td>\n",
       "      <td>MAKO_BE_ROUTER</td>\n",
       "      <td>e57c94c0-e0f0-11e8-be62-528eac1b495c</td>\n",
       "      <td>AS2</td>\n",
       "      <td>195</td>\n",
       "      <td>AS2</td>\n",
       "      <td>3499</td>\n",
       "      <td>4680</td>\n",
       "      <td>5062</td>\n",
       "      <td>1572325399759</td>\n",
       "      <td>2019</td>\n",
       "      <td>10</td>\n",
       "      <td>29</td>\n",
       "      <td>6</td>\n",
       "      <td>3</td>\n",
       "    </tr>\n",
       "  </tbody>\n",
       "</table>\n",
       "</div>"
      ],
      "text/plain": [
       "                       CGLOBALMESSAGEID     CSTARTTIME       CENDTIME  \\\n",
       "0  30448b53-fa10-11e9-92f2-f5adac1e100c  1572328305420  1572328312503   \n",
       "1  8266ffc3-fa1b-11e9-92f2-f5adac1e100c  1572333167526  1572333173387   \n",
       "2  fe4600f3-fa02-11e9-9cf9-6e9eac1e100b  1572322638537  1572322645118   \n",
       "3  85035aba-fa09-11e9-9cf9-6e9eac1e100b  1572325441519  1572325451697   \n",
       "4  6997da86-fa09-11e9-92f2-f5adac1e100c  1572325395079  1572325400141   \n",
       "\n",
       "   CSTATUS        CSERVICE                     CSENDERENDPOINTID  \\\n",
       "0  SUCCESS  MAKO_BE_ROUTER  e57c94c0-e0f0-11e8-be62-528eac1b495c   \n",
       "1  SUCCESS  MAKO_BE_ROUTER  e57c94c0-e0f0-11e8-be62-528eac1b495c   \n",
       "2  SUCCESS  MAKO_BE_ROUTER  e57c94c0-e0f0-11e8-be62-528eac1b495c   \n",
       "3  SUCCESS  MAKO_BE_ROUTER  e57c94c0-e0f0-11e8-be62-528eac1b495c   \n",
       "4  SUCCESS  MAKO_BE_ROUTER  e57c94c0-e0f0-11e8-be62-528eac1b495c   \n",
       "\n",
       "  CSENDERPROTOCOL CINBOUNDSIZE CRECEIVERPROTOCOL  CRECEIVERENDPOINTID CSLATAT  \\\n",
       "0             AS2        20836              HTTP                 5169    6844   \n",
       "1             AS2         5293              HTTP                 5169    5610   \n",
       "2             AS2        64363              HTTP                 5169    6315   \n",
       "3             AS2        56967               AS2                 3499    9739   \n",
       "4             AS2          195               AS2                 3499    4680   \n",
       "\n",
       "  CMESSAGETAT2  CSLADELIVERYTIME  year  month  day  hour  minute  \n",
       "0         7083     1572328312264  2019     10   29     6      51  \n",
       "1         5861     1572333173136  2019     10   29     8      12  \n",
       "2         6581     1572322644852  2019     10   29     5      17  \n",
       "3        10178     1572325451258  2019     10   29     6       4  \n",
       "4         5062     1572325399759  2019     10   29     6       3  "
      ]
     },
     "execution_count": 14,
     "metadata": {},
     "output_type": "execute_result"
    }
   ],
   "source": [
    "_result.head()"
   ]
  },
  {
   "cell_type": "code",
   "execution_count": null,
   "id": "58929ac1-17ec-4f48-9242-a84522000a29",
   "metadata": {},
   "outputs": [],
   "source": [
    "failed = []\n",
    "for sender in senders:\n",
    "    try:\n",
    "        filename = 'sla_enc_' + sender + '.parquet'\n",
    "        sparkSession.read.text('hdfs://172.30.17.145:8020/user/admin/sla/' + version + '/encoded/senders/' + filename + '/_SUCCESS')\n",
    "    except Exception as exception: \n",
    "        failed.append(sender)\n",
    "        #if not 'temporary' in filename:\n",
    "            #failed.append(filename.split('sla_enc_')[1].split('.')[0])"
   ]
  },
  {
   "cell_type": "code",
   "execution_count": null,
   "id": "b999647a-d330-46cc-83e7-08c01450d109",
   "metadata": {},
   "outputs": [],
   "source": [
    "#senders = sparkSession.read.parquet(\"/tmp/senders.parquet\")\n",
    "#senders = pd.read_parquet('/tmp/senders' + '.parquet', engine='pyarrow')\n",
    "#senders = list(senders.toPandas()['CSENDERENDPOINTID'])"
   ]
  },
  {
   "cell_type": "code",
   "execution_count": null,
   "id": "a6f3fbe7-8d6a-4445-8743-99915ffe0b64",
   "metadata": {},
   "outputs": [],
   "source": [
    "senders = list(sparkSession.read.parquet('hdfs://172.30.17.145:8020/user/admin/sla/v00000/v00000/senders/senders.parquet').toPandas()['CSENDERENDPOINTID'])"
   ]
  },
  {
   "cell_type": "code",
   "execution_count": null,
   "id": "47e4f8a3-ee0d-4a0c-9f1d-80ce3e6ce632",
   "metadata": {},
   "outputs": [],
   "source": [
    "len(senders)"
   ]
  },
  {
   "cell_type": "code",
   "execution_count": null,
   "id": "2fb869c6-0003-4d5c-857d-791d8c5f9d48",
   "metadata": {},
   "outputs": [],
   "source": [
    "#senders"
   ]
  },
  {
   "cell_type": "code",
   "execution_count": null,
   "id": "83dedd84-19f0-4647-8e26-e91b9483f41d",
   "metadata": {},
   "outputs": [],
   "source": [
    "senders_files = sparkSession.read.options(delimiter=',') \\\n",
    "                      .csv('hdfs://172.30.17.145:8020/user/admin/sla/' + version + '/senders/senders_files.txt').toPandas()\n",
    "senders_files.columns = ['size','filename']    "
   ]
  },
  {
   "cell_type": "code",
   "execution_count": null,
   "id": "8e16e072-ef90-4f40-8761-e813f0a62874",
   "metadata": {},
   "outputs": [],
   "source": [
    "#senders_files['filename'][0]"
   ]
  },
  {
   "cell_type": "code",
   "execution_count": null,
   "id": "fab91974-87c7-4c1b-8072-e9a251d283bb",
   "metadata": {},
   "outputs": [],
   "source": [
    "#'sla_enc_' + senders[0] + '.parquet'"
   ]
  },
  {
   "cell_type": "code",
   "execution_count": null,
   "id": "67cddeef-af71-4fb4-94b8-9d16cee6aafa",
   "metadata": {
    "tags": []
   },
   "outputs": [],
   "source": [
    "failed = []\n",
    "for sender in senders:\n",
    "    try:\n",
    "        filename = 'sla_enc_' + sender + '.parquet'\n",
    "        sparkSession.read.text('hdfs://172.30.17.145:8020/user/admin/sla/' + version + '/encoded/senders/' + filename + '/_SUCCESS')\n",
    "    except Exception as exception: \n",
    "        failed.append(sender)\n",
    "        #if not 'temporary' in filename:\n",
    "            #failed.append(filename.split('sla_enc_')[1].split('.')[0])"
   ]
  },
  {
   "cell_type": "code",
   "execution_count": null,
   "id": "e4e86330-3592-489a-a194-a0854c5fddaf",
   "metadata": {},
   "outputs": [],
   "source": [
    "failed.remove(None)\n",
    "len(failed)"
   ]
  },
  {
   "cell_type": "code",
   "execution_count": null,
   "id": "b4fb4361-430f-4c7b-9e93-6bcae8216b64",
   "metadata": {},
   "outputs": [],
   "source": [
    "working = [x for x in senders if x not in failed]\n",
    "working.remove(None)"
   ]
  },
  {
   "cell_type": "code",
   "execution_count": null,
   "id": "0eba6036-f898-463e-9fbd-243ab8ac9426",
   "metadata": {},
   "outputs": [],
   "source": [
    "len(working)"
   ]
  },
  {
   "cell_type": "code",
   "execution_count": null,
   "id": "ad6738b4-f46d-490f-9bbc-c850b6e90e24",
   "metadata": {},
   "outputs": [],
   "source": [
    "#sender = working[0]\n",
    "#filename = 'sla_enc_' + sender + '.parquet'\n",
    "#_df = sparkSession.read.parquet('hdfs://172.30.17.145:8020/user/admin/sla/' + version + '/encoded/senders/' + filename ).toPandas()\n",
    "#_df.columns"
   ]
  },
  {
   "cell_type": "code",
   "execution_count": null,
   "id": "c4087dee-e498-4bc6-b262-52eef78a9e7a",
   "metadata": {},
   "outputs": [],
   "source": [
    "columns = ['CGLOBALMESSAGEID', 'CSTARTTIME', 'CENDTIME', 'CSTATUS', 'CSERVICE', 'CSENDERENDPOINTID', 'CSENDERPROTOCOL', 'CINBOUNDSIZE', 'CRECEIVERPROTOCOL', 'CRECEIVERENDPOINTID', 'CSLATAT', 'CMESSAGETAT2', 'CSLADELIVERYTIME', 'year', 'month', 'day', 'hour', 'minute']"
   ]
  },
  {
   "cell_type": "code",
   "execution_count": null,
   "id": "4ec4c417-921b-4ec1-ba81-ce1eda320e51",
   "metadata": {},
   "outputs": [],
   "source": [
    "#columns"
   ]
  },
  {
   "cell_type": "code",
   "execution_count": null,
   "id": "8c6929ca-6fba-4656-92e8-425234498f36",
   "metadata": {},
   "outputs": [],
   "source": [
    "df = pd.DataFrame(columns=columns)"
   ]
  },
  {
   "cell_type": "code",
   "execution_count": null,
   "id": "c0a66b28-42f0-4a3d-92ad-3f0f852129c1",
   "metadata": {},
   "outputs": [],
   "source": [
    "df = pd.read_parquet('/home/jovyan/work/output/sla_enc_all_5.parquet')"
   ]
  },
  {
   "cell_type": "code",
   "execution_count": null,
   "id": "64817ce7-a0bc-48e3-90d9-264d6258780b",
   "metadata": {},
   "outputs": [],
   "source": [
    "processed_senders = pd.unique(df['CSENDERENDPOINTID'])"
   ]
  },
  {
   "cell_type": "code",
   "execution_count": null,
   "id": "c964a17f-0ac7-4222-b179-4fd6b70ad045",
   "metadata": {},
   "outputs": [],
   "source": [
    "len(processed_senders)"
   ]
  },
  {
   "cell_type": "code",
   "execution_count": null,
   "id": "91040f7e-7516-4814-84d6-2e1c031f7b58",
   "metadata": {},
   "outputs": [],
   "source": [
    "len(pd.unique(df['CSENDERENDPOINTID']))"
   ]
  },
  {
   "cell_type": "code",
   "execution_count": null,
   "id": "a38a4b6c-79be-4346-87c4-e494c8e0f803",
   "metadata": {},
   "outputs": [],
   "source": [
    "# - run this paragraph only once !\n",
    "# - if you get an 'allow_pickle' error you need Kernel/restart kernel\n",
    "\n",
    "import encoder\n",
    "import numpy as np\n",
    "\n",
    "np_load_old = np.load\n",
    "\n",
    "# modify the default parameters of np.load\n",
    "np.load = lambda *a,**k: np_load_old(*a, allow_pickle=True, **k)\n",
    "\n",
    "# restore np.load for future normal usage\n",
    "#np.load = np_load_old"
   ]
  },
  {
   "cell_type": "code",
   "execution_count": null,
   "id": "d1705be5-dfa4-4b2e-9cb0-966a151278c0",
   "metadata": {},
   "outputs": [],
   "source": [
    "import numpy as np\n",
    "version_sla = 'v00001'\n",
    "version     = version_sla + '/v00000'\n",
    "share_directory =  '/home/jovyan/work/share/'\n",
    "\n",
    "def transform(value,column=None, npy= share_directory + 'sla/' + version_sla + '/npy'):\n",
    "    _encoder = encoder.TolerantLabelEncoder(ignore_unknown=True)\n",
    "    _encoder.classes_ = np.load(npy + '/' + column + '.npy')\n",
    "    return int( _encoder.transform([value])[0])\n",
    "\n",
    "#transform('e95a3090-ed87-11e8-a40c-5396ac1b495c',column='CSENDERENDPOINTID')"
   ]
  },
  {
   "cell_type": "code",
   "execution_count": null,
   "id": "512b5a9c-fd26-415a-b110-1fcb93c68462",
   "metadata": {},
   "outputs": [],
   "source": [
    "for sender in working:\n",
    "    try:\n",
    "        if transform(sender,column='CSENDERENDPOINTID') not in processed_senders:\n",
    "            filename = 'sla_enc_' + sender + '.parquet'\n",
    "            _df = sparkSession.read.parquet('hdfs://172.30.17.145:8020/user/admin/sla/' + version + '/encoded/senders/' + filename ).toPandas()\n",
    "            df = df.append(_df)\n",
    "    except Exception as exception:\n",
    "        exception\n",
    "        print(sender,exception)       "
   ]
  },
  {
   "cell_type": "code",
   "execution_count": null,
   "id": "48ecae9b-43bd-4ec7-a013-804e550886b8",
   "metadata": {},
   "outputs": [],
   "source": [
    "for sender in working:\n",
    "    #print(sender)\n",
    "    try:\n",
    "        filename = 'sla_enc_' + sender + '.parquet'\n",
    "        _df = sparkSession.read.parquet('hdfs://172.30.17.145:8020/user/admin/sla/' + version + '/encoded/senders/' + filename ).toPandas()\n",
    "        df = df.append(_df)\n",
    "    except Exception as exception:\n",
    "        pass"
   ]
  },
  {
   "cell_type": "code",
   "execution_count": null,
   "id": "8f3fdbea-6ca4-4c57-918a-9d55ef0119c5",
   "metadata": {},
   "outputs": [],
   "source": [
    "#!ls -l /home/jovyan/work/output/sla_enc_all.parquet"
   ]
  },
  {
   "cell_type": "code",
   "execution_count": null,
   "id": "36f56945-9601-4efe-adff-00ca967750d4",
   "metadata": {},
   "outputs": [],
   "source": [
    "df.to_parquet('/home/jovyan/work/output/sla_enc_all_5.parquet')"
   ]
  },
  {
   "cell_type": "code",
   "execution_count": null,
   "id": "c6ce96f4-7abb-4caf-9bd2-b8a008df97bd",
   "metadata": {},
   "outputs": [],
   "source": [
    "#pd.read_parquet('/home/jovyan/work/output/sla_enc_all_2.parquet')"
   ]
  },
  {
   "cell_type": "code",
   "execution_count": null,
   "id": "ac262fe6-82bb-4c96-b4d5-8a6bfe00bed4",
   "metadata": {},
   "outputs": [],
   "source": [
    "_senders = pd.unique(df['CSENDERENDPOINTID'])\n",
    "len(_senders)"
   ]
  },
  {
   "cell_type": "code",
   "execution_count": null,
   "id": "2122300e-e747-4f2a-9ef0-9a8bde8e8b5a",
   "metadata": {},
   "outputs": [],
   "source": [
    "#pd.unique(df[df['CSENDERENDPOINTID'] == _senders[0]]['CRECEIVERPROTOCOL'])"
   ]
  },
  {
   "cell_type": "code",
   "execution_count": null,
   "id": "7bc3f9d4-9424-43ad-9fff-9412905ec33b",
   "metadata": {},
   "outputs": [],
   "source": [
    "#pd.unique(df['CRECEIVERPROTOCOL'])"
   ]
  }
 ],
 "metadata": {
  "kernelspec": {
   "display_name": "Python 3 (ipykernel)",
   "language": "python",
   "name": "python3"
  },
  "language_info": {
   "codemirror_mode": {
    "name": "ipython",
    "version": 3
   },
   "file_extension": ".py",
   "mimetype": "text/x-python",
   "name": "python",
   "nbconvert_exporter": "python",
   "pygments_lexer": "ipython3",
   "version": "3.9.10"
  }
 },
 "nbformat": 4,
 "nbformat_minor": 5
}
