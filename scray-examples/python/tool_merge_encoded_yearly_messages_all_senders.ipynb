{
 "cells": [
  {
   "cell_type": "markdown",
   "id": "4c7bf0cc-2bee-4491-b8e6-ba3e624ecb4d",
   "metadata": {},
   "source": [
    "# tool_merge_encoded_yearly_messages_all_senders"
   ]
  },
  {
   "cell_type": "markdown",
   "id": "a5cf76a5-dfad-4145-bb46-46e821783320",
   "metadata": {},
   "source": [
    "# Main"
   ]
  },
  {
   "cell_type": "code",
   "execution_count": 1,
   "id": "1315d67c-dca1-42e7-a044-6be3f2fbc49e",
   "metadata": {},
   "outputs": [],
   "source": [
    "import dfBasics\n",
    "import common\n",
    "import encoder\n",
    "import pfAdapt\n",
    "#import charts"
   ]
  },
  {
   "cell_type": "code",
   "execution_count": 2,
   "id": "7546a523-8667-44c7-a2dd-ca55815afea1",
   "metadata": {},
   "outputs": [],
   "source": [
    "version_sla = 'v00001'\n",
    "version     = version_sla + '/v00000'\n",
    "\n",
    "home_directory  =  '/home/jovyan/work/'\n",
    "share_directory =  '/home/jovyan/work/share/'\n",
    "#share_directory =  '/home/jovyan/share/'"
   ]
  },
  {
   "cell_type": "code",
   "execution_count": 3,
   "id": "9f057a9f-e288-42c3-b185-00a14bc15162",
   "metadata": {},
   "outputs": [],
   "source": [
    "import pandas as pd\n",
    "from pyspark.sql import functions"
   ]
  },
  {
   "cell_type": "markdown",
   "id": "b3bc6586-25b9-4927-b6b5-e84c2171aa42",
   "metadata": {},
   "source": [
    "## merge all senders, fix types and save dataframe: v00001_v00001"
   ]
  },
  {
   "cell_type": "code",
   "execution_count": null,
   "id": "5144238f-ef6b-4b9b-a0e4-ae6b85edc033",
   "metadata": {
    "tags": []
   },
   "outputs": [],
   "source": [
    "sparkSession = dfBasics.getSparkSession()\n",
    "df = sparkSession.read.parquet('hdfs://172.30.17.145:8020/user/admin/sla/v00001/v00000/encoded/senders/enc/*.parquet').dropDuplicates()\n",
    "df.write.mode('overwrite').parquet('/home/jovyan/work/output/sla_enc_all_v00001_v00000_0.parquet')                               "
   ]
  },
  {
   "cell_type": "code",
   "execution_count": null,
   "id": "dee0b773-b8a1-41f0-a8a8-6a9fcdf5ff6a",
   "metadata": {},
   "outputs": [],
   "source": [
    "_dtypes = sparkSession.read.parquet('/home/jovyan/work/output/sla_enc_all_v00001_v00000_0.parquet').dtypes\n",
    "_dtypes = {c[0]:c[1] for c in _dtypes}"
   ]
  },
  {
   "cell_type": "code",
   "execution_count": null,
   "id": "3cd0a995-a5fd-45d9-a287-916ce31ca97b",
   "metadata": {},
   "outputs": [],
   "source": [
    "df = sparkSession.read.parquet('hdfs://172.30.17.145:8020/preprocessing/enc/missing_senders/1.1.24/*/*/*').dropDuplicates()"
   ]
  },
  {
   "cell_type": "code",
   "execution_count": null,
   "id": "8940fd7c-1841-4861-88c9-3a8c9a4f42d1",
   "metadata": {},
   "outputs": [],
   "source": [
    "for c in df.columns:\n",
    "    df=df.withColumn(c, df[c].cast(_dtypes[c]))"
   ]
  },
  {
   "cell_type": "code",
   "execution_count": null,
   "id": "483a6ee0-9298-4e85-8e44-fc58000e4cda",
   "metadata": {},
   "outputs": [],
   "source": [
    "df.write.mode('overwrite').parquet('/home/jovyan/work/output/sla_enc_all_v00001_v00000_1.parquet')  "
   ]
  },
  {
   "cell_type": "code",
   "execution_count": null,
   "id": "aa32bb2b-9d43-4312-bc81-67fb729db7cc",
   "metadata": {},
   "outputs": [],
   "source": [
    "df = sparkSession.read.parquet('/home/jovyan/work/output/sla_enc_all_v00001_v00000_*').dropDuplicates()\n",
    "df.write.mode('overwrite').parquet('/home/jovyan/work/output/sla_enc_all_v00001_v00001.parquet')"
   ]
  },
  {
   "cell_type": "markdown",
   "id": "f6c591b8-8cb4-46c4-9459-4510fcc6006a",
   "metadata": {},
   "source": [
    "## load dataframe : v00001_v00001"
   ]
  },
  {
   "cell_type": "code",
   "execution_count": 4,
   "id": "71195997-0c19-4e83-9206-7349990463df",
   "metadata": {},
   "outputs": [],
   "source": [
    "sparkSession = dfBasics.getSparkSession()\n",
    "df = sparkSession.read.parquet('/home/jovyan/work/output/sla_enc_all_v00001_v00001.parquet')"
   ]
  },
  {
   "cell_type": "markdown",
   "id": "a33e7593-3682-4600-9a0e-2744039a453e",
   "metadata": {},
   "source": [
    "## encoded values"
   ]
  },
  {
   "cell_type": "markdown",
   "id": "2205ddb5-c7d7-4316-89fd-69a72592d05a",
   "metadata": {},
   "source": [
    "## init encoders (run only once)"
   ]
  },
  {
   "cell_type": "code",
   "execution_count": 5,
   "id": "450f14e3-3265-40e8-978f-8dab7fe8e9ed",
   "metadata": {},
   "outputs": [],
   "source": [
    "# - run this paragraph only once !\n",
    "# - if you get an 'allow_pickle' error you need Kernel/restart kernel\n",
    "import numpy as np\n",
    "import encoder\n",
    "\n",
    "np_load_old = np.load\n",
    "\n",
    "# modify the default parameters of np.load\n",
    "np.load = lambda *a,**k: np_load_old(*a, allow_pickle=True, **k)\n",
    "\n",
    "# restore np.load for future normal usage\n",
    "#np.load = np_load_old"
   ]
  },
  {
   "cell_type": "markdown",
   "id": "e527732a-22c7-4c50-80d0-eb1003c517c7",
   "metadata": {},
   "source": [
    "### encode value"
   ]
  },
  {
   "cell_type": "code",
   "execution_count": 6,
   "id": "e0ae2588-4cb4-42e8-bfc0-f496f65f9987",
   "metadata": {},
   "outputs": [],
   "source": [
    "import numpy as np\n",
    "def transform(value,column=None, npy= share_directory + 'sla/' + version_sla + '/npy'):\n",
    "    np.load = lambda *a,**k: np_load_old(*a, allow_pickle=True, **k)\n",
    "    _encoder = encoder.TolerantLabelEncoder(ignore_unknown=True)\n",
    "    _encoder.classes_ = np.load(npy + '/' + column + '.npy')\n",
    "    return int( _encoder.transform([value])[0])"
   ]
  },
  {
   "cell_type": "markdown",
   "id": "5e448bb8-a026-4788-aa7d-b043d57e6b74",
   "metadata": {},
   "source": [
    "### decode value"
   ]
  },
  {
   "cell_type": "code",
   "execution_count": 7,
   "id": "4e39287c-74d3-45d3-8566-3078525be01c",
   "metadata": {},
   "outputs": [],
   "source": [
    "def inverse_transform(value,column=None, npy= share_directory + 'sla/' + version_sla + '/npy'):\n",
    "    _encoder = encoder.TolerantLabelEncoder(ignore_unknown=True)\n",
    "    _encoder.classes_ = np.load(npy + '/' + column + '.npy')\n",
    "    if type(value) == int:\n",
    "        return str(_encoder.inverse_transform(value))  \n",
    "    elif type(value) == list:\n",
    "        return [str(_encoder.inverse_transform(v)) for v in value]\n",
    "    else:\n",
    "        return None"
   ]
  },
  {
   "cell_type": "code",
   "execution_count": 8,
   "id": "c8552302-3672-4702-99fc-2427c0e4a6c2",
   "metadata": {},
   "outputs": [],
   "source": [
    "def check_transformed(value0,column,value):\n",
    "    return value0 == transform(value,column=column)\n",
    "\n",
    "def calc_error(columns):\n",
    "    status = columns[0]\n",
    "    service = columns[1]\n",
    "    error=int(not( ( check_transformed(status,'CSTATUS','PENDING') & check_transformed(service,'CSERVICE','InvoicePortal')  ) | \\\n",
    "        (check_transformed(status,'CSTATUS','PENDING') & check_transformed(service,'CSERVICE','IDS')  ) | \\\n",
    "        check_transformed(status,'CSTATUS','SUCCESS') | \\\n",
    "        check_transformed(status,'CSTATUS','SUCCESS_DOWNLOADED') | check_transformed(status,'CSTATUS','SUCCESS_POLLQUEUE')  ))\n",
    "    return error"
   ]
  },
  {
   "cell_type": "code",
   "execution_count": 9,
   "id": "9f1220f1-e45a-43dd-b258-c84a33cbe088",
   "metadata": {},
   "outputs": [],
   "source": [
    "import pyspark.sql.functions as f\n",
    "from pyspark.sql.functions import udf\n",
    "from pyspark.sql.types import IntegerType\n",
    "udf_add_error = udf(lambda y,z: calc_error((y,z)), IntegerType())"
   ]
  },
  {
   "cell_type": "code",
   "execution_count": 10,
   "id": "9b4c387f-222e-4cfb-8987-ebd064faad05",
   "metadata": {},
   "outputs": [],
   "source": [
    "df3 = df.withColumn(\"error\", udf_add_error(f.col(\"CSTATUS\"), f.col(\"CSERVICE\")).cast(IntegerType()))"
   ]
  },
  {
   "cell_type": "markdown",
   "id": "b3f5c048-9457-4bde-b70a-d43bfa2ae6ba",
   "metadata": {},
   "source": [
    "## test dataframe"
   ]
  },
  {
   "cell_type": "code",
   "execution_count": 11,
   "id": "cfd5cf75-8e3d-4d9d-b7b2-3dea0fb2fab8",
   "metadata": {},
   "outputs": [
    {
     "name": "stdout",
     "output_type": "stream",
     "text": [
      "+--------------------+-------------+-------------+-------+--------+-----------------+---------------+------------+-----------------+-------------------+-------+------------+----------------+----+-----+---+----+------+-----+\n",
      "|    CGLOBALMESSAGEID|   CSTARTTIME|     CENDTIME|CSTATUS|CSERVICE|CSENDERENDPOINTID|CSENDERPROTOCOL|CINBOUNDSIZE|CRECEIVERPROTOCOL|CRECEIVERENDPOINTID|CSLATAT|CMESSAGETAT2|CSLADELIVERYTIME|year|month|day|hour|minute|error|\n",
      "+--------------------+-------------+-------------+-------+--------+-----------------+---------------+------------+-----------------+-------------------+-------+------------+----------------+----+-----+---+----+------+-----+\n",
      "|43ab3478-2c54-11e...|1577855101807|1577855110236|     14|       6|             3517|              0|         192|                0|                710|   8224|        8429|   1577855110031|2020|    1|  1|   6|     5|    0|\n",
      "|4db209d3-2c54-11e...|1577855118372|1577855124039|     14|       5|             3427|              0|       14293|                0|               5068|   5352|        5667|   1577855123724|2020|    1|  1|   6|     5|    0|\n",
      "|ad68ffb3-2c8a-11e...|1577878472396|1577878478663|     14|       5|             4946|              0|         457|                0|               3499|   5917|        6267|   1577878478313|2020|    1|  1|  12|    34|    0|\n",
      "|bb0b2440-2c8a-11e...|1577878494753|1577878502309|     14|       5|             3427|              0|         557|                0|               5068|   7262|        7556|   1577878502015|2020|    1|  1|  12|    34|    0|\n",
      "|2b307127-2c8c-11e...|1577879113361|1577879121912|     14|       6|             2276|              0|         189|                3|               2414|   8511|        8551|   1577879121872|2020|    1|  1|  12|    45|    0|\n",
      "+--------------------+-------------+-------------+-------+--------+-----------------+---------------+------------+-----------------+-------------------+-------+------------+----------------+----+-----+---+----+------+-----+\n",
      "only showing top 5 rows\n",
      "\n"
     ]
    }
   ],
   "source": [
    "df3.where(f.col(\"year\").isin([2020])).where(f.col(\"month\").isin([1])).show(5)"
   ]
  },
  {
   "cell_type": "markdown",
   "id": "7235f53b-e0a7-4586-baaf-c9be1835be99",
   "metadata": {},
   "source": [
    "## store updated dataframe including errors"
   ]
  },
  {
   "cell_type": "code",
   "execution_count": 13,
   "id": "cb46f1b1-f446-4c31-a956-0df60b1bfe54",
   "metadata": {},
   "outputs": [],
   "source": [
    "df4 = df3.where(f.col(\"year\").isin([2020])).where(f.col(\"month\").isin([1]))\n",
    "df4.write.mode('overwrite').parquet('/home/jovyan/work/output/sla_enc_all_v00001_v00002_2020_1.parquet')"
   ]
  },
  {
   "cell_type": "code",
   "execution_count": null,
   "id": "2e93468b-6031-488d-bd0d-97b38ca367aa",
   "metadata": {},
   "outputs": [],
   "source": [
    "#df3.write.mode('overwrite').parquet('/home/jovyan/work/output/sla_enc_all_v00001_v00002.parquet')"
   ]
  },
  {
   "cell_type": "markdown",
   "id": "0004117a-57b0-49a2-a777-80f3801ba104",
   "metadata": {},
   "source": [
    "# obsolete"
   ]
  },
  {
   "cell_type": "code",
   "execution_count": null,
   "id": "4d5f59af-c0d5-45bf-801b-eeae0dd7fc66",
   "metadata": {},
   "outputs": [],
   "source": [
    "df = sparkSession.read.parquet('/home/jovyan/work/output/sla_enc_all_v00001_v00000.parquet')\n",
    "#senders = df.select('CSENDERENDPOINTID').dropDuplicates().toPandas()['CSENDERENDPOINTID']\n",
    "#len(senders)\n",
    "df.show(n=20)"
   ]
  },
  {
   "cell_type": "code",
   "execution_count": null,
   "id": "5ea14d53-4592-45c7-bb21-a30d7bf2f2eb",
   "metadata": {},
   "outputs": [],
   "source": [
    "senders = df.toPandas()['CSENDERENDPOINTID']\n",
    "len(senders)"
   ]
  },
  {
   "cell_type": "code",
   "execution_count": null,
   "id": "46599b12-5c26-4386-87a4-75feb17571c6",
   "metadata": {},
   "outputs": [],
   "source": [
    "sparkSession = dfBasics.getSparkSession()\n",
    "df = sparkSession.read.parquet('hdfs://172.30.17.145:8020/user/admin/sla/v00001/v00000/encoded/senders/enc/*.parquet').dropDuplicates()\n",
    "df.write.mode('overwrite').parquet('/home/jovyan/work/output/sla_enc_all_v00001_v00000_0.parquet')      "
   ]
  },
  {
   "cell_type": "code",
   "execution_count": null,
   "id": "56b68601-d0f0-4b4b-8607-77e066d85ffa",
   "metadata": {},
   "outputs": [],
   "source": [
    "df = sparkSession.read.parquet('hdfs://172.30.17.145:8020/preprocessing/enc/missing_senders/1.1.24/*/*/*').dropDuplicates()\n",
    "df.write.mode('overwrite').parquet('/home/jovyan/work/output/sla_enc_all_v00001_v00000_1.parquet')  "
   ]
  },
  {
   "cell_type": "code",
   "execution_count": null,
   "id": "1119e117-1da2-4fa0-a20c-6a33df808551",
   "metadata": {},
   "outputs": [],
   "source": [
    "senders = df.select('CSENDERENDPOINTID').dropDuplicates().toPandas()['CSENDERENDPOINTID']\n",
    "len(senders)"
   ]
  },
  {
   "cell_type": "code",
   "execution_count": null,
   "id": "1e4b6f92-6526-4ed9-81bc-903148ffb0f7",
   "metadata": {},
   "outputs": [],
   "source": [
    "df = sparkSession.read.parquet('/home/jovyan/work/output/sla_enc_all_v00001_v00000_1.parquet')\n",
    "#df.show(n=20)\n",
    "df.dtypes"
   ]
  },
  {
   "cell_type": "code",
   "execution_count": null,
   "id": "7ff62290-ed2a-4ad6-8078-a89b1665aa42",
   "metadata": {},
   "outputs": [],
   "source": [
    "_dtypes = sparkSession.read.parquet('/home/jovyan/work/output/sla_enc_all_v00001_v00000_0.parquet').dtypes\n",
    "_dtypes = {c[0]:c[1] for c in _dtypes}"
   ]
  },
  {
   "cell_type": "code",
   "execution_count": null,
   "id": "3b426993-30f6-43a1-a840-6d68341d81ea",
   "metadata": {},
   "outputs": [],
   "source": [
    "df.dtypes"
   ]
  },
  {
   "cell_type": "code",
   "execution_count": null,
   "id": "90c56bca-106e-4ad5-8442-a436d42423b2",
   "metadata": {},
   "outputs": [],
   "source": [
    "_dtypes['CSENDERENDPOINTID']"
   ]
  },
  {
   "cell_type": "code",
   "execution_count": null,
   "id": "d0b102c3-c2cf-4755-9343-0fab1594687c",
   "metadata": {},
   "outputs": [],
   "source": [
    "for c in df.columns:\n",
    "    df=df.withColumn(c, df[c].cast(_dtypes[c]))"
   ]
  },
  {
   "cell_type": "code",
   "execution_count": null,
   "id": "32f076aa-02f5-4ebe-9ce1-c97e1e22063a",
   "metadata": {},
   "outputs": [],
   "source": [
    "df.write.mode('overwrite').parquet('/home/jovyan/work/output/sla_enc_all_v00001_v00000_1b.parquet')  "
   ]
  },
  {
   "cell_type": "code",
   "execution_count": null,
   "id": "d297f3af-e499-4803-8d23-2904d1d3eb41",
   "metadata": {},
   "outputs": [],
   "source": [
    "!du -h  /home/jovyan/work/output/sla_enc_all_v00001_v00000_1.parquet"
   ]
  },
  {
   "cell_type": "code",
   "execution_count": null,
   "id": "6fb6cb26-7393-47d5-9409-716af28e8c4e",
   "metadata": {},
   "outputs": [],
   "source": [
    "sparkSession = dfBasics.getSparkSession()\n",
    "df = sparkSession.read.parquet('/home/jovyan/work/output/sla_enc_all_v00001_v00000_*').dropDuplicates()\n",
    "df.write.mode('overwrite').parquet('/home/jovyan/work/output/sla_enc_all_v00001_v00000.parquet')"
   ]
  },
  {
   "cell_type": "code",
   "execution_count": null,
   "id": "91a10a64-85c9-4a34-8e89-87f8920045c5",
   "metadata": {},
   "outputs": [],
   "source": []
  },
  {
   "cell_type": "code",
   "execution_count": null,
   "id": "c0cdfacd-d5ed-4f2c-bb09-1c5143b84787",
   "metadata": {},
   "outputs": [],
   "source": [
    "!mv /home/jovyan/work/output/sla_enc_all_v00001_v00000.parquet /home/jovyan/work/output/sla_enc_all_v00001_v00001.parquet"
   ]
  },
  {
   "cell_type": "code",
   "execution_count": null,
   "id": "22b7c21e-48ba-4385-80e8-e5303eca1970",
   "metadata": {},
   "outputs": [],
   "source": [
    "df = sparkSession.read.parquet('/home/jovyan/work/output/sla_enc_all_v00001_v00001.parquet')\n",
    "senders = df.select('CSENDERENDPOINTID').dropDuplicates().toPandas()['CSENDERENDPOINTID']\n",
    "len(senders)\n",
    "df.show(n=20)\n",
    "#df.dtypes"
   ]
  },
  {
   "cell_type": "code",
   "execution_count": null,
   "id": "75790176-9fe5-40c7-ad73-2d5b57f233d5",
   "metadata": {},
   "outputs": [],
   "source": [
    "len (senders)"
   ]
  },
  {
   "cell_type": "code",
   "execution_count": null,
   "id": "57fb9b44-6b8f-47d9-8a62-b699f767cdb7",
   "metadata": {},
   "outputs": [],
   "source": [
    "df = sparkSession.read.parquet('hdfs://172.30.17.145:8020/preprocessing/enc/missing_senders/*/*').dropDuplicates()\n",
    "senders = df.toPandas()['CSENDERENDPOINTID']\n",
    "senders = list(senders)"
   ]
  },
  {
   "cell_type": "code",
   "execution_count": null,
   "id": "cb9c395b-a24d-4ba4-b34e-65aa531e5f13",
   "metadata": {},
   "outputs": [],
   "source": [
    "len(senders)"
   ]
  },
  {
   "cell_type": "code",
   "execution_count": null,
   "id": "6f3d740a-eef6-4055-ac9e-013fa9a43ef8",
   "metadata": {},
   "outputs": [],
   "source": [
    "#senders"
   ]
  },
  {
   "cell_type": "code",
   "execution_count": null,
   "id": "10973534-299f-439d-8d15-c86ff875715d",
   "metadata": {},
   "outputs": [],
   "source": [
    "import pyspark.sql.functions as f\n",
    "\n",
    "def process(sender=None, dataframe=None):\n",
    "    df3 = dataframe.where(f.col(\"CSENDERENDPOINTID\").isin([sender]))\n",
    "    return df3\n",
    "\n",
    "df = process(sender=senders[0],dataframe=sparkSession.read.parquet('hdfs://172.30.17.145:8020/preprocessing/enc/missing_senders/*/*'))"
   ]
  },
  {
   "cell_type": "code",
   "execution_count": null,
   "id": "92497fcb-245b-424a-91aa-e8bf9a36def9",
   "metadata": {},
   "outputs": [],
   "source": [
    "_result=df.toPandas()"
   ]
  },
  {
   "cell_type": "code",
   "execution_count": null,
   "id": "00778667-e0e1-4aca-937d-a963f96b4265",
   "metadata": {},
   "outputs": [],
   "source": [
    "_result.head()"
   ]
  },
  {
   "cell_type": "code",
   "execution_count": null,
   "id": "58929ac1-17ec-4f48-9242-a84522000a29",
   "metadata": {},
   "outputs": [],
   "source": [
    "failed = []\n",
    "for sender in senders:\n",
    "    try:\n",
    "        filename = 'sla_enc_' + sender + '.parquet'\n",
    "        sparkSession.read.text('hdfs://172.30.17.145:8020/user/admin/sla/' + version + '/encoded/senders/' + filename + '/_SUCCESS')\n",
    "    except Exception as exception: \n",
    "        failed.append(sender)\n",
    "        #if not 'temporary' in filename:\n",
    "            #failed.append(filename.split('sla_enc_')[1].split('.')[0])"
   ]
  },
  {
   "cell_type": "code",
   "execution_count": null,
   "id": "b999647a-d330-46cc-83e7-08c01450d109",
   "metadata": {},
   "outputs": [],
   "source": [
    "#senders = sparkSession.read.parquet(\"/tmp/senders.parquet\")\n",
    "#senders = pd.read_parquet('/tmp/senders' + '.parquet', engine='pyarrow')\n",
    "#senders = list(senders.toPandas()['CSENDERENDPOINTID'])"
   ]
  },
  {
   "cell_type": "code",
   "execution_count": null,
   "id": "a6f3fbe7-8d6a-4445-8743-99915ffe0b64",
   "metadata": {},
   "outputs": [],
   "source": [
    "senders = list(sparkSession.read.parquet('hdfs://172.30.17.145:8020/user/admin/sla/v00000/v00000/senders/senders.parquet').toPandas()['CSENDERENDPOINTID'])"
   ]
  },
  {
   "cell_type": "code",
   "execution_count": null,
   "id": "47e4f8a3-ee0d-4a0c-9f1d-80ce3e6ce632",
   "metadata": {},
   "outputs": [],
   "source": [
    "len(senders)"
   ]
  },
  {
   "cell_type": "code",
   "execution_count": null,
   "id": "2fb869c6-0003-4d5c-857d-791d8c5f9d48",
   "metadata": {},
   "outputs": [],
   "source": [
    "#senders"
   ]
  },
  {
   "cell_type": "code",
   "execution_count": null,
   "id": "83dedd84-19f0-4647-8e26-e91b9483f41d",
   "metadata": {},
   "outputs": [],
   "source": [
    "senders_files = sparkSession.read.options(delimiter=',') \\\n",
    "                      .csv('hdfs://172.30.17.145:8020/user/admin/sla/' + version + '/senders/senders_files.txt').toPandas()\n",
    "senders_files.columns = ['size','filename']    "
   ]
  },
  {
   "cell_type": "code",
   "execution_count": null,
   "id": "8e16e072-ef90-4f40-8761-e813f0a62874",
   "metadata": {},
   "outputs": [],
   "source": [
    "#senders_files['filename'][0]"
   ]
  },
  {
   "cell_type": "code",
   "execution_count": null,
   "id": "fab91974-87c7-4c1b-8072-e9a251d283bb",
   "metadata": {},
   "outputs": [],
   "source": [
    "#'sla_enc_' + senders[0] + '.parquet'"
   ]
  },
  {
   "cell_type": "code",
   "execution_count": null,
   "id": "67cddeef-af71-4fb4-94b8-9d16cee6aafa",
   "metadata": {
    "tags": []
   },
   "outputs": [],
   "source": [
    "failed = []\n",
    "for sender in senders:\n",
    "    try:\n",
    "        filename = 'sla_enc_' + sender + '.parquet'\n",
    "        sparkSession.read.text('hdfs://172.30.17.145:8020/user/admin/sla/' + version + '/encoded/senders/' + filename + '/_SUCCESS')\n",
    "    except Exception as exception: \n",
    "        failed.append(sender)\n",
    "        #if not 'temporary' in filename:\n",
    "            #failed.append(filename.split('sla_enc_')[1].split('.')[0])"
   ]
  },
  {
   "cell_type": "code",
   "execution_count": null,
   "id": "e4e86330-3592-489a-a194-a0854c5fddaf",
   "metadata": {},
   "outputs": [],
   "source": [
    "failed.remove(None)\n",
    "len(failed)"
   ]
  },
  {
   "cell_type": "code",
   "execution_count": null,
   "id": "b4fb4361-430f-4c7b-9e93-6bcae8216b64",
   "metadata": {},
   "outputs": [],
   "source": [
    "working = [x for x in senders if x not in failed]\n",
    "working.remove(None)"
   ]
  },
  {
   "cell_type": "code",
   "execution_count": null,
   "id": "0eba6036-f898-463e-9fbd-243ab8ac9426",
   "metadata": {},
   "outputs": [],
   "source": [
    "len(working)"
   ]
  },
  {
   "cell_type": "code",
   "execution_count": null,
   "id": "ad6738b4-f46d-490f-9bbc-c850b6e90e24",
   "metadata": {},
   "outputs": [],
   "source": [
    "#sender = working[0]\n",
    "#filename = 'sla_enc_' + sender + '.parquet'\n",
    "#_df = sparkSession.read.parquet('hdfs://172.30.17.145:8020/user/admin/sla/' + version + '/encoded/senders/' + filename ).toPandas()\n",
    "#_df.columns"
   ]
  },
  {
   "cell_type": "code",
   "execution_count": null,
   "id": "c4087dee-e498-4bc6-b262-52eef78a9e7a",
   "metadata": {},
   "outputs": [],
   "source": [
    "columns = ['CGLOBALMESSAGEID', 'CSTARTTIME', 'CENDTIME', 'CSTATUS', 'CSERVICE', 'CSENDERENDPOINTID', 'CSENDERPROTOCOL', 'CINBOUNDSIZE', 'CRECEIVERPROTOCOL', 'CRECEIVERENDPOINTID', 'CSLATAT', 'CMESSAGETAT2', 'CSLADELIVERYTIME', 'year', 'month', 'day', 'hour', 'minute']"
   ]
  },
  {
   "cell_type": "code",
   "execution_count": null,
   "id": "4ec4c417-921b-4ec1-ba81-ce1eda320e51",
   "metadata": {},
   "outputs": [],
   "source": [
    "#columns"
   ]
  },
  {
   "cell_type": "code",
   "execution_count": null,
   "id": "8c6929ca-6fba-4656-92e8-425234498f36",
   "metadata": {},
   "outputs": [],
   "source": [
    "df = pd.DataFrame(columns=columns)"
   ]
  },
  {
   "cell_type": "code",
   "execution_count": null,
   "id": "c0a66b28-42f0-4a3d-92ad-3f0f852129c1",
   "metadata": {},
   "outputs": [],
   "source": [
    "df = pd.read_parquet('/home/jovyan/work/output/sla_enc_all_5.parquet')"
   ]
  },
  {
   "cell_type": "code",
   "execution_count": null,
   "id": "64817ce7-a0bc-48e3-90d9-264d6258780b",
   "metadata": {},
   "outputs": [],
   "source": [
    "processed_senders = pd.unique(df['CSENDERENDPOINTID'])"
   ]
  },
  {
   "cell_type": "code",
   "execution_count": null,
   "id": "c964a17f-0ac7-4222-b179-4fd6b70ad045",
   "metadata": {},
   "outputs": [],
   "source": [
    "len(processed_senders)"
   ]
  },
  {
   "cell_type": "code",
   "execution_count": null,
   "id": "91040f7e-7516-4814-84d6-2e1c031f7b58",
   "metadata": {},
   "outputs": [],
   "source": [
    "len(pd.unique(df['CSENDERENDPOINTID']))"
   ]
  },
  {
   "cell_type": "code",
   "execution_count": null,
   "id": "a38a4b6c-79be-4346-87c4-e494c8e0f803",
   "metadata": {},
   "outputs": [],
   "source": [
    "# - run this paragraph only once !\n",
    "# - if you get an 'allow_pickle' error you need Kernel/restart kernel\n",
    "\n",
    "import encoder\n",
    "import numpy as np\n",
    "\n",
    "np_load_old = np.load\n",
    "\n",
    "# modify the default parameters of np.load\n",
    "np.load = lambda *a,**k: np_load_old(*a, allow_pickle=True, **k)\n",
    "\n",
    "# restore np.load for future normal usage\n",
    "#np.load = np_load_old"
   ]
  },
  {
   "cell_type": "code",
   "execution_count": null,
   "id": "d1705be5-dfa4-4b2e-9cb0-966a151278c0",
   "metadata": {},
   "outputs": [],
   "source": [
    "import numpy as np\n",
    "version_sla = 'v00001'\n",
    "version     = version_sla + '/v00000'\n",
    "share_directory =  '/home/jovyan/work/share/'\n",
    "\n",
    "def transform(value,column=None, npy= share_directory + 'sla/' + version_sla + '/npy'):\n",
    "    _encoder = encoder.TolerantLabelEncoder(ignore_unknown=True)\n",
    "    _encoder.classes_ = np.load(npy + '/' + column + '.npy')\n",
    "    return int( _encoder.transform([value])[0])\n",
    "\n",
    "#transform('e95a3090-ed87-11e8-a40c-5396ac1b495c',column='CSENDERENDPOINTID')"
   ]
  },
  {
   "cell_type": "code",
   "execution_count": null,
   "id": "512b5a9c-fd26-415a-b110-1fcb93c68462",
   "metadata": {},
   "outputs": [],
   "source": [
    "for sender in working:\n",
    "    try:\n",
    "        if transform(sender,column='CSENDERENDPOINTID') not in processed_senders:\n",
    "            filename = 'sla_enc_' + sender + '.parquet'\n",
    "            _df = sparkSession.read.parquet('hdfs://172.30.17.145:8020/user/admin/sla/' + version + '/encoded/senders/' + filename ).toPandas()\n",
    "            df = df.append(_df)\n",
    "    except Exception as exception:\n",
    "        exception\n",
    "        print(sender,exception)       "
   ]
  },
  {
   "cell_type": "code",
   "execution_count": null,
   "id": "48ecae9b-43bd-4ec7-a013-804e550886b8",
   "metadata": {},
   "outputs": [],
   "source": [
    "for sender in working:\n",
    "    #print(sender)\n",
    "    try:\n",
    "        filename = 'sla_enc_' + sender + '.parquet'\n",
    "        _df = sparkSession.read.parquet('hdfs://172.30.17.145:8020/user/admin/sla/' + version + '/encoded/senders/' + filename ).toPandas()\n",
    "        df = df.append(_df)\n",
    "    except Exception as exception:\n",
    "        pass"
   ]
  },
  {
   "cell_type": "code",
   "execution_count": null,
   "id": "8f3fdbea-6ca4-4c57-918a-9d55ef0119c5",
   "metadata": {},
   "outputs": [],
   "source": [
    "#!ls -l /home/jovyan/work/output/sla_enc_all.parquet"
   ]
  },
  {
   "cell_type": "code",
   "execution_count": null,
   "id": "36f56945-9601-4efe-adff-00ca967750d4",
   "metadata": {},
   "outputs": [],
   "source": [
    "df.to_parquet('/home/jovyan/work/output/sla_enc_all_5.parquet')"
   ]
  },
  {
   "cell_type": "code",
   "execution_count": null,
   "id": "c6ce96f4-7abb-4caf-9bd2-b8a008df97bd",
   "metadata": {},
   "outputs": [],
   "source": [
    "#pd.read_parquet('/home/jovyan/work/output/sla_enc_all_2.parquet')"
   ]
  },
  {
   "cell_type": "code",
   "execution_count": null,
   "id": "ac262fe6-82bb-4c96-b4d5-8a6bfe00bed4",
   "metadata": {},
   "outputs": [],
   "source": [
    "_senders = pd.unique(df['CSENDERENDPOINTID'])\n",
    "len(_senders)"
   ]
  },
  {
   "cell_type": "code",
   "execution_count": null,
   "id": "2122300e-e747-4f2a-9ef0-9a8bde8e8b5a",
   "metadata": {},
   "outputs": [],
   "source": [
    "#pd.unique(df[df['CSENDERENDPOINTID'] == _senders[0]]['CRECEIVERPROTOCOL'])"
   ]
  },
  {
   "cell_type": "code",
   "execution_count": null,
   "id": "7bc3f9d4-9424-43ad-9fff-9412905ec33b",
   "metadata": {},
   "outputs": [],
   "source": [
    "#pd.unique(df['CRECEIVERPROTOCOL'])"
   ]
  }
 ],
 "metadata": {
  "kernelspec": {
   "display_name": "Python 3 (ipykernel)",
   "language": "python",
   "name": "python3"
  },
  "language_info": {
   "codemirror_mode": {
    "name": "ipython",
    "version": 3
   },
   "file_extension": ".py",
   "mimetype": "text/x-python",
   "name": "python",
   "nbconvert_exporter": "python",
   "pygments_lexer": "ipython3",
   "version": "3.9.10"
  }
 },
 "nbformat": 4,
 "nbformat_minor": 5
}
