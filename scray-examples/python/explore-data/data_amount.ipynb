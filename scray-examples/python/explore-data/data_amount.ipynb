{
 "cells": [
  {
   "cell_type": "code",
   "execution_count": 2,
   "id": "a1fea5c8-5db6-4d97-9690-b7def943a507",
   "metadata": {},
   "outputs": [
    {
     "name": "stderr",
     "output_type": "stream",
     "text": [
      "WARNING: An illegal reflective access operation has occurred\n",
      "WARNING: Illegal reflective access by org.apache.spark.unsafe.Platform (file:/usr/local/spark-3.2.0-bin-hadoop3.2/jars/spark-unsafe_2.12-3.2.0.jar) to constructor java.nio.DirectByteBuffer(long,int)\n",
      "WARNING: Please consider reporting this to the maintainers of org.apache.spark.unsafe.Platform\n",
      "WARNING: Use --illegal-access=warn to enable warnings of further illegal reflective access operations\n",
      "WARNING: All illegal access operations will be denied in a future release\n",
      "Using Spark's default log4j profile: org/apache/spark/log4j-defaults.properties\n",
      "Setting default log level to \"WARN\".\n",
      "To adjust logging level use sc.setLogLevel(newLevel). For SparkR, use setLogLevel(newLevel).\n",
      "23/03/07 21:24:36 WARN NativeCodeLoader: Unable to load native-hadoop library for your platform... using builtin-java classes where applicable\n",
      "23/03/07 21:24:36 WARN SparkConf: Note that spark.local.dir will be overridden by the value set by the cluster manager (via SPARK_LOCAL_DIRS in mesos/standalone/kubernetes and LOCAL_DIRS in YARN).\n",
      "23/03/07 21:24:37 WARN Utils: Service 'SparkUI' could not bind on port 4040. Attempting port 4041.\n"
     ]
    }
   ],
   "source": [
    "import numpy as np\n",
    "import pandas as pd\n",
    "\n",
    "import findspark\n",
    "findspark.init()\n",
    "\n",
    "from pyspark.sql import SparkSession\n",
    "from pyspark.sql.types import IntegerType\n",
    "from pyspark.sql.functions import col\n",
    "\n",
    "sparkSession = SparkSession.builder.config('spark.local.dir', '/tmp').config(\"spark.executor.memory\", \"8g\").config(\"spark.driver.memory\", \"8g\").config(\"spark.driver.maxResultSize\", \"0\").appName(\"example-pyspark-read-and-write\").getOrCreate()\n"
   ]
  },
  {
   "cell_type": "code",
   "execution_count": 3,
   "id": "df778fdd-8b39-489b-83c5-6308863b6a2c",
   "metadata": {},
   "outputs": [
    {
     "name": "stderr",
     "output_type": "stream",
     "text": [
      "                                                                                \r"
     ]
    }
   ],
   "source": [
    "df = sparkSession.read.parquet('hdfs://172.30.17.145:8020/preprocessing/enc/missing_senders/*/*').select('CSENDERENDPOINTID').dropDuplicates()\n",
    "senders = df.toPandas()['CSENDERENDPOINTID']\n",
    "senders = list(senders)"
   ]
  },
  {
   "cell_type": "code",
   "execution_count": 5,
   "id": "d7fdf096-c67e-4145-8c23-c874acd0e81e",
   "metadata": {},
   "outputs": [
    {
     "data": {
      "text/plain": [
       "877"
      ]
     },
     "execution_count": 5,
     "metadata": {},
     "output_type": "execute_result"
    }
   ],
   "source": [
    "len(senders)"
   ]
  },
  {
   "cell_type": "code",
   "execution_count": 9,
   "id": "d254d747-ae51-474d-b8ba-876e9ba8adc5",
   "metadata": {},
   "outputs": [
    {
     "name": "stderr",
     "output_type": "stream",
     "text": [
      "                                                                                \r"
     ]
    }
   ],
   "source": [
    "df = sparkSession.read.parquet('hdfs://172.30.17.145:8020/preprocessing/enc/missing_senders/*/*').limit(3)"
   ]
  },
  {
   "cell_type": "code",
   "execution_count": 10,
   "id": "3c1e4437-d33d-45ab-a1f0-b57e144d7828",
   "metadata": {},
   "outputs": [
    {
     "data": {
      "text/html": [
       "<div>\n",
       "<style scoped>\n",
       "    .dataframe tbody tr th:only-of-type {\n",
       "        vertical-align: middle;\n",
       "    }\n",
       "\n",
       "    .dataframe tbody tr th {\n",
       "        vertical-align: top;\n",
       "    }\n",
       "\n",
       "    .dataframe thead th {\n",
       "        text-align: right;\n",
       "    }\n",
       "</style>\n",
       "<table border=\"1\" class=\"dataframe\">\n",
       "  <thead>\n",
       "    <tr style=\"text-align: right;\">\n",
       "      <th></th>\n",
       "      <th>CGLOBALMESSAGEID</th>\n",
       "      <th>CSTARTTIME</th>\n",
       "      <th>CENDTIME</th>\n",
       "      <th>CSTATUS</th>\n",
       "      <th>CSERVICE</th>\n",
       "      <th>CSENDERENDPOINTID</th>\n",
       "      <th>CSENDERPROTOCOL</th>\n",
       "      <th>CINBOUNDSIZE</th>\n",
       "      <th>CRECEIVERPROTOCOL</th>\n",
       "      <th>CRECEIVERENDPOINTID</th>\n",
       "      <th>CSLATAT</th>\n",
       "      <th>CMESSAGETAT2</th>\n",
       "      <th>CSLADELIVERYTIME</th>\n",
       "      <th>year</th>\n",
       "      <th>month</th>\n",
       "      <th>day</th>\n",
       "      <th>hour</th>\n",
       "      <th>minute</th>\n",
       "    </tr>\n",
       "  </thead>\n",
       "  <tbody>\n",
       "    <tr>\n",
       "      <th>0</th>\n",
       "      <td>30448b53-fa10-11e9-92f2-f5adac1e100c</td>\n",
       "      <td>1572328305420</td>\n",
       "      <td>1572328312503</td>\n",
       "      <td>SUCCESS</td>\n",
       "      <td>MAKO_BE_ROUTER</td>\n",
       "      <td>e57c94c0-e0f0-11e8-be62-528eac1b495c</td>\n",
       "      <td>AS2</td>\n",
       "      <td>20836</td>\n",
       "      <td>HTTP</td>\n",
       "      <td>5169</td>\n",
       "      <td>6844</td>\n",
       "      <td>7083</td>\n",
       "      <td>1572328312264</td>\n",
       "      <td>2019</td>\n",
       "      <td>10</td>\n",
       "      <td>29</td>\n",
       "      <td>6</td>\n",
       "      <td>51</td>\n",
       "    </tr>\n",
       "    <tr>\n",
       "      <th>1</th>\n",
       "      <td>8266ffc3-fa1b-11e9-92f2-f5adac1e100c</td>\n",
       "      <td>1572333167526</td>\n",
       "      <td>1572333173387</td>\n",
       "      <td>SUCCESS</td>\n",
       "      <td>MAKO_BE_ROUTER</td>\n",
       "      <td>e57c94c0-e0f0-11e8-be62-528eac1b495c</td>\n",
       "      <td>AS2</td>\n",
       "      <td>5293</td>\n",
       "      <td>HTTP</td>\n",
       "      <td>5169</td>\n",
       "      <td>5610</td>\n",
       "      <td>5861</td>\n",
       "      <td>1572333173136</td>\n",
       "      <td>2019</td>\n",
       "      <td>10</td>\n",
       "      <td>29</td>\n",
       "      <td>8</td>\n",
       "      <td>12</td>\n",
       "    </tr>\n",
       "    <tr>\n",
       "      <th>2</th>\n",
       "      <td>fe4600f3-fa02-11e9-9cf9-6e9eac1e100b</td>\n",
       "      <td>1572322638537</td>\n",
       "      <td>1572322645118</td>\n",
       "      <td>SUCCESS</td>\n",
       "      <td>MAKO_BE_ROUTER</td>\n",
       "      <td>e57c94c0-e0f0-11e8-be62-528eac1b495c</td>\n",
       "      <td>AS2</td>\n",
       "      <td>64363</td>\n",
       "      <td>HTTP</td>\n",
       "      <td>5169</td>\n",
       "      <td>6315</td>\n",
       "      <td>6581</td>\n",
       "      <td>1572322644852</td>\n",
       "      <td>2019</td>\n",
       "      <td>10</td>\n",
       "      <td>29</td>\n",
       "      <td>5</td>\n",
       "      <td>17</td>\n",
       "    </tr>\n",
       "  </tbody>\n",
       "</table>\n",
       "</div>"
      ],
      "text/plain": [
       "                       CGLOBALMESSAGEID     CSTARTTIME       CENDTIME  \\\n",
       "0  30448b53-fa10-11e9-92f2-f5adac1e100c  1572328305420  1572328312503   \n",
       "1  8266ffc3-fa1b-11e9-92f2-f5adac1e100c  1572333167526  1572333173387   \n",
       "2  fe4600f3-fa02-11e9-9cf9-6e9eac1e100b  1572322638537  1572322645118   \n",
       "\n",
       "   CSTATUS        CSERVICE                     CSENDERENDPOINTID  \\\n",
       "0  SUCCESS  MAKO_BE_ROUTER  e57c94c0-e0f0-11e8-be62-528eac1b495c   \n",
       "1  SUCCESS  MAKO_BE_ROUTER  e57c94c0-e0f0-11e8-be62-528eac1b495c   \n",
       "2  SUCCESS  MAKO_BE_ROUTER  e57c94c0-e0f0-11e8-be62-528eac1b495c   \n",
       "\n",
       "  CSENDERPROTOCOL CINBOUNDSIZE CRECEIVERPROTOCOL  CRECEIVERENDPOINTID CSLATAT  \\\n",
       "0             AS2        20836              HTTP                 5169    6844   \n",
       "1             AS2         5293              HTTP                 5169    5610   \n",
       "2             AS2        64363              HTTP                 5169    6315   \n",
       "\n",
       "  CMESSAGETAT2  CSLADELIVERYTIME  year  month  day  hour  minute  \n",
       "0         7083     1572328312264  2019     10   29     6      51  \n",
       "1         5861     1572333173136  2019     10   29     8      12  \n",
       "2         6581     1572322644852  2019     10   29     5      17  "
      ]
     },
     "execution_count": 10,
     "metadata": {},
     "output_type": "execute_result"
    }
   ],
   "source": [
    "df.toPandas()"
   ]
  },
  {
   "cell_type": "code",
   "execution_count": null,
   "id": "98fa0253-4f70-4090-9cd2-0fba27563cb4",
   "metadata": {},
   "outputs": [],
   "source": []
  }
 ],
 "metadata": {
  "kernelspec": {
   "display_name": "Python 3 (ipykernel)",
   "language": "python",
   "name": "python3"
  },
  "language_info": {
   "codemirror_mode": {
    "name": "ipython",
    "version": 3
   },
   "file_extension": ".py",
   "mimetype": "text/x-python",
   "name": "python",
   "nbconvert_exporter": "python",
   "pygments_lexer": "ipython3",
   "version": "3.9.7"
  }
 },
 "nbformat": 4,
 "nbformat_minor": 5
}
