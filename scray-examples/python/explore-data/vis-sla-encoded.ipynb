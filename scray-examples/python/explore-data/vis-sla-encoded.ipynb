{
 "cells": [
  {
   "cell_type": "code",
   "execution_count": null,
   "id": "05f7b351-c0a6-44c1-b449-5b5fc7c4d92c",
   "metadata": {},
   "outputs": [],
   "source": [
    "VERSION=\"1.1.15\""
   ]
  },
  {
   "cell_type": "code",
   "execution_count": null,
   "id": "32b24602-d2c1-4688-adc6-75187bb6d2a7",
   "metadata": {},
   "outputs": [],
   "source": []
  },
  {
   "cell_type": "code",
   "execution_count": null,
   "id": "afcf1638-5c76-4fc2-a2ff-b4aff4a79d16",
   "metadata": {},
   "outputs": [],
   "source": [
    "import numpy as np\n",
    "import pandas as pd\n",
    "\n",
    "import findspark\n",
    "findspark.init()\n",
    "\n",
    "from pyspark.sql import SparkSession\n",
    "from pyspark.sql.types import IntegerType\n",
    "from pyspark.sql.functions import col\n",
    "sparkSession=SparkSession.builder.config('spark.local.dir', '/tmp').config(\"spark.executor.memory\", \"8g\").config(\"spark.driver.memory\", \"8g\").config(\"spark.driver.maxResultSize\", \"0\").config(\"spark.shuffle.registration.maxAttempts\", \"1\").config(\"spark.task.maxFailures\", \"1\").appName(\"jupyter\").getOrCreate()"
   ]
  },
  {
   "cell_type": "code",
   "execution_count": null,
   "id": "bb142b4e-780c-486d-878e-888f6659b9d9",
   "metadata": {},
   "outputs": [],
   "source": [
    "import pyspark.sql.functions as f\n",
    "encoded_rows = sparkSession.read.parquet(\"hdfs://172.30.17.145:8020/preprocessing/enc/missing_senders/\" + VERSION + \"/*/*/*\")"
   ]
  },
  {
   "cell_type": "code",
   "execution_count": null,
   "id": "ff2c41fd-ca5b-45eb-89bd-031c2325da0b",
   "metadata": {},
   "outputs": [],
   "source": [
    "encoded_rows.toPandas()"
   ]
  },
  {
   "cell_type": "code",
   "execution_count": null,
   "id": "40eba3ad-c02a-4015-ac6d-ed332866e480",
   "metadata": {},
   "outputs": [],
   "source": [
    "import pyspark.sql.functions as f\n",
    "\n",
    "num_encoded_rows = encoded_rows.count()\n",
    "num_encoded_rows_by_year = encoded_rows.groupBy(f.col(\"year\"), f.col(\"month\")).count().orderBy(f.col(\"year\"), f.col(\"month\")).toPandas()\n"
   ]
  },
  {
   "cell_type": "code",
   "execution_count": null,
   "id": "a0943740-c4d7-4634-856c-0f3b932eca61",
   "metadata": {},
   "outputs": [],
   "source": [
    "all_months = encoded_rows.select(f.col(\"month\")).distinct()\n",
    "print(all_months.toPandas())"
   ]
  },
  {
   "cell_type": "code",
   "execution_count": null,
   "id": "0dd57084-cb90-493d-bd6c-56a1acaf3827",
   "metadata": {},
   "outputs": [],
   "source": [
    "print(\"Number of encoded rows: \" + str(num_encoded_rows))\n",
    "print(\"Number of encoded rows by year: \\n\" + str(num_encoded_rows_by_year))"
   ]
  },
  {
   "cell_type": "code",
   "execution_count": null,
   "id": "5d11dd81-67c5-495f-85f5-3820d9ad2602",
   "metadata": {},
   "outputs": [],
   "source": [
    " df.toPandas()"
   ]
  },
  {
   "cell_type": "code",
   "execution_count": null,
   "id": "235b3839-5baf-4e79-b858-abe119e68682",
   "metadata": {},
   "outputs": [],
   "source": [
    "import pyspark.sql.functions as f\n",
    "df = sparkSession.read.parquet(\"hdfs://172.30.17.145:8020/preprocessing/enc/missing_senders/\" + VERSION + \"/\"*\").sort(f.col('CSTARTTIME')).dropDuplicates()\n",
    "\n",
    "import pandas as pd\n",
    "import numpy as np\n",
    "import pandas as pd\n",
    "from datetime import datetime\n",
    "\n",
    "import matplotlib.pyplot as plt\n",
    "df_pandas= df.toPandas()\n",
    "\n",
    "df_pandas['CSTARTTIME2']=(df_pandas['CSTARTTIME']/1000).astype(int)\n",
    "df_pandas['CSTARTTIME']=(pd.to_datetime(df_pandas['CSTARTTIME2'],unit='s')).astype(datetime)\n",
    "\n",
    "df_pandas.info(verbose = True)"
   ]
  },
  {
   "cell_type": "code",
   "execution_count": null,
   "id": "667590e0-554a-4d2d-944a-b315eceee7b4",
   "metadata": {},
   "outputs": [],
   "source": [
    "\n"
   ]
  },
  {
   "cell_type": "code",
   "execution_count": null,
   "id": "b7e19c96-fc1c-4799-9056-09d03df8161c",
   "metadata": {},
   "outputs": [],
   "source": [
    "import matplotlib.ticker as ticker\n",
    "import matplotlib.pyplot as plt\n",
    "import matplotlib.ticker as mtick\n",
    "import time\n",
    "\n",
    "\n",
    "df_pandas.plot(kind='line',x='CSTARTTIME',y='CMESSAGETAT2')"
   ]
  },
  {
   "cell_type": "code",
   "execution_count": null,
   "id": "95bf56e7-fe97-4e31-b447-e6c25e594940",
   "metadata": {},
   "outputs": [],
   "source": []
  },
  {
   "cell_type": "code",
   "execution_count": null,
   "id": "0e838037-2a87-44de-9a97-548e9d562e2f",
   "metadata": {},
   "outputs": [],
   "source": []
  },
  {
   "cell_type": "code",
   "execution_count": null,
   "id": "9ae5c6b9-9aa9-4432-9dbd-00406b4d0fb2",
   "metadata": {},
   "outputs": [],
   "source": []
  }
 ],
 "metadata": {
  "kernelspec": {
   "display_name": "Python 3 (ipykernel)",
   "language": "python",
   "name": "python3"
  },
  "language_info": {
   "codemirror_mode": {
    "name": "ipython",
    "version": 3
   },
   "file_extension": ".py",
   "mimetype": "text/x-python",
   "name": "python",
   "nbconvert_exporter": "python",
   "pygments_lexer": "ipython3",
   "version": "3.9.7"
  }
 },
 "nbformat": 4,
 "nbformat_minor": 5
}
