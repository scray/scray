{
 "cells": [
  {
   "cell_type": "markdown",
   "id": "4c7bf0cc-2bee-4491-b8e6-ba3e624ecb4d",
   "metadata": {},
   "source": [
    "# tool_create_encoded_messages_missing_senders"
   ]
  },
  {
   "cell_type": "markdown",
   "id": "a5cf76a5-dfad-4145-bb46-46e821783320",
   "metadata": {},
   "source": [
    "# Main"
   ]
  },
  {
   "cell_type": "code",
   "execution_count": 1,
   "id": "482a3892-5c50-4b74-81a0-72e6119bee32",
   "metadata": {},
   "outputs": [],
   "source": [
    "VERSION=\"1.1.19\""
   ]
  },
  {
   "cell_type": "code",
   "execution_count": 2,
   "id": "1315d67c-dca1-42e7-a044-6be3f2fbc49e",
   "metadata": {},
   "outputs": [],
   "source": [
    "import dfBasics\n",
    "import common\n",
    "import encoder\n",
    "import pfAdapt\n",
    "#import charts\n",
    "# test"
   ]
  },
  {
   "cell_type": "code",
   "execution_count": 3,
   "id": "eb0ebfeb-bfaa-42de-8c0e-ef0768e3ee62",
   "metadata": {},
   "outputs": [],
   "source": [
    "VERSION=\"1.1.16\"\n",
    "import os\n",
    "os.environ[\"HADOOP_USER_NAME\"] = \"hdfs\""
   ]
  },
  {
   "cell_type": "code",
   "execution_count": 4,
   "id": "41a541e8-d04f-47a1-992f-7d85479ef593",
   "metadata": {
    "tags": [
     "parameters"
    ]
   },
   "outputs": [],
   "source": [
    "start_year=2021\n",
    "start_month=1\n",
    "start_day_in_month=1\n",
    "\n",
    "end_year=2021\n",
    "end_month=1\n",
    "end_day_in_month=5"
   ]
  },
  {
   "cell_type": "code",
   "execution_count": null,
   "id": "7e778c64-c8b5-41e9-b8de-bf71958291c2",
   "metadata": {},
   "outputs": [],
   "source": []
  },
  {
   "cell_type": "code",
   "execution_count": 5,
   "id": "7546a523-8667-44c7-a2dd-ca55815afea1",
   "metadata": {},
   "outputs": [],
   "source": [
    "version_sla = 'v00001'\n",
    "version     = version_sla + '/v00000'\n",
    "\n",
    "home_directory  =  '/home/jovyan/work/'\n",
    "share_directory =  '/home/jovyan/work/share/'\n",
    "#share_directory =  '/home/jovyan/share/'"
   ]
  },
  {
   "cell_type": "code",
   "execution_count": 6,
   "id": "9f057a9f-e288-42c3-b185-00a14bc15162",
   "metadata": {},
   "outputs": [],
   "source": [
    "import pandas as pd\n",
    "from pyspark.sql import functions"
   ]
  },
  {
   "cell_type": "code",
   "execution_count": 7,
   "id": "9979ee4f-7cb4-4d06-ab96-7d54e5e1c348",
   "metadata": {},
   "outputs": [],
   "source": [
    "columns = ['CGLOBALMESSAGEID', 'CSTARTTIME', 'CENDTIME', 'CSTATUS', 'CSERVICE',\\\n",
    "       'CSLABILLINGMONTH', 'CSENDERPROTOCOL', 'CSENDERENDPOINTID',\\\n",
    "       'CINBOUNDSIZE', 'CRECEIVERPROTOCOL', 'CRECEIVERENDPOINTID', 'CSLATAT',\\\n",
    "       'CMESSAGETAT2', 'CSLADELIVERYTIME']\n",
    "# withot 'CSLABILLINGMONTH'\n",
    "def get_columns_2():\n",
    "    columns = ['CGLOBALMESSAGEID', 'CSTARTTIME', 'CENDTIME', 'CSTATUS', 'CSERVICE',\\\n",
    "            'CSENDERPROTOCOL', 'CSENDERENDPOINTID',\\\n",
    "           'CINBOUNDSIZE', 'CRECEIVERPROTOCOL', 'CRECEIVERENDPOINTID', 'CSLATAT',\\\n",
    "           'CMESSAGETAT2', 'CSLADELIVERYTIME']\n",
    "    return columns\n",
    "\n",
    "columns = ['CGLOBALMESSAGEID',  'CSTARTTIME', 'CENDTIME', 'CSTATUS', 'CSERVICE', 'CSENDERENDPOINTID', 'CSENDERPROTOCOL', 'CINBOUNDSIZE', 'CRECEIVERPROTOCOL', 'CRECEIVERENDPOINTID', 'CSLATAT', 'CMESSAGETAT2', 'CSLADELIVERYTIME']\n",
    "     \n",
    "\n",
    "#columns = get_columns_2()\n",
    "#to count messages sent\n",
    "#columns = [ 'CSTARTTIME', 'CSENDERENDPOINTID']"
   ]
  },
  {
   "cell_type": "code",
   "execution_count": 8,
   "id": "5144238f-ef6b-4b9b-a0e4-ae6b85edc033",
   "metadata": {
    "tags": []
   },
   "outputs": [
    {
     "name": "stderr",
     "output_type": "stream",
     "text": [
      "WARNING: An illegal reflective access operation has occurred\n",
      "WARNING: Illegal reflective access by org.apache.spark.unsafe.Platform (file:/usr/local/spark-3.2.0-bin-hadoop3.2/jars/spark-unsafe_2.12-3.2.0.jar) to constructor java.nio.DirectByteBuffer(long,int)\n",
      "WARNING: Please consider reporting this to the maintainers of org.apache.spark.unsafe.Platform\n",
      "WARNING: Use --illegal-access=warn to enable warnings of further illegal reflective access operations\n",
      "WARNING: All illegal access operations will be denied in a future release\n",
      "Using Spark's default log4j profile: org/apache/spark/log4j-defaults.properties\n",
      "Setting default log level to \"WARN\".\n",
      "To adjust logging level use sc.setLogLevel(newLevel). For SparkR, use setLogLevel(newLevel).\n",
      "23/03/15 14:03:20 WARN NativeCodeLoader: Unable to load native-hadoop library for your platform... using builtin-java classes where applicable\n",
      "23/03/15 14:03:20 WARN SparkConf: Note that spark.local.dir will be overridden by the value set by the cluster manager (via SPARK_LOCAL_DIRS in mesos/standalone/kubernetes and LOCAL_DIRS in YARN).\n"
     ]
    }
   ],
   "source": [
    "sparkSession = dfBasics.getSparkSession()"
   ]
  },
  {
   "cell_type": "code",
   "execution_count": 9,
   "id": "5895880d-c8e2-4bf8-82ba-a7a1ac9587f7",
   "metadata": {},
   "outputs": [
    {
     "name": "stdout",
     "output_type": "stream",
     "text": [
      "1609804800000.0\n",
      "16094\n"
     ]
    }
   ],
   "source": [
    "from datetime import datetime, timezone\n",
    "import pyspark.sql.functions as f\n",
    "\n",
    "def timestamp(dt):\n",
    "    return dt.replace(tzinfo=timezone.utc).timestamp() * 1000\n",
    "\n",
    "startTime = timestamp(datetime(start_year, start_month, start_day_in_month))\n",
    "endTime = timestamp(datetime(end_year, end_month, end_day_in_month))\n",
    "\n",
    "print(endTime)\n",
    "\n",
    "filename_min=str(int(startTime/100000000))\n",
    "\n",
    "print(filename_min)\n",
    "\n",
    "# df = sparkSession.read.parquet('hdfs://172.30.17.145:8020/sla_sql_data/*/*').select(columns).show()"
   ]
  },
  {
   "cell_type": "code",
   "execution_count": 10,
   "id": "cd4c5435-c1be-4fb3-9bb5-29cf6b637c4e",
   "metadata": {},
   "outputs": [
    {
     "name": "stdout",
     "output_type": "stream",
     "text": [
      "Start: 1609459200000.0\n",
      "End: 1609804800000.0\n"
     ]
    }
   ],
   "source": [
    "print(\"Start: \" + str(startTime))\n",
    "print(\"End: \" + str(endTime))"
   ]
  },
  {
   "cell_type": "code",
   "execution_count": 11,
   "id": "57fb9b44-6b8f-47d9-8a62-b699f767cdb7",
   "metadata": {},
   "outputs": [
    {
     "name": "stderr",
     "output_type": "stream",
     "text": [
      "                                                                                \r"
     ]
    }
   ],
   "source": [
    "import pyspark.sql.functions as f\n",
    "import pyspark\n",
    "\n",
    "#df = sparkSession.read.parquet(\"hdfs://172.30.17.145:8020/sla_sql_data/*/*\").select(columns)\n",
    "df = sparkSession.read.parquet(\"hdfs://172.30.17.145:8020/sla_sql_data/\" + \"*/*\").select(columns).filter((f.col('CSTARTTIME') >= startTime) & (f.col('CSTARTTIME') < endTime))\n",
    "# FIXME reactivate\n",
    "#.filter((f.col('CSTARTTIME') >= startTime) & (f.col('CSTARTTIME') < endTime)).dropDuplicates()\n",
    "\n",
    "#df = sparkSession.read.parquet(\"hdfs://172.30.17.145:8020/sla_sql_data/\" + str(15801371) +\"*/*\").select(columns).filter((f.col('CSTARTTIME') >= startTime) & (f.col('CSTARTTIME') < endTime)).dropDuplicates()\n"
   ]
  },
  {
   "cell_type": "code",
   "execution_count": 12,
   "id": "90310c7d-3765-444d-85de-f2391243d8d0",
   "metadata": {},
   "outputs": [],
   "source": [
    "# Find min and max date range\n",
    "import pyspark.sql.functions as f\n",
    "\n",
    "# df.select(f.min(f.col('CSTARTTIME')).alias(\"min\"), f.max(f.col('CSTARTTIME')).alias(\"max\")).show()\n"
   ]
  },
  {
   "cell_type": "code",
   "execution_count": 13,
   "id": "b999647a-d330-46cc-83e7-08c01450d109",
   "metadata": {},
   "outputs": [],
   "source": [
    "#senders = sparkSession.read.parquet(\"/tmp/senders.parquet\")\n",
    "#senders = pd.read_parquet('/tmp/senders' + '.parquet', engine='pyarrow')\n",
    "#senders = list(senders.toPandas()['CSENDERENDPOINTID'])"
   ]
  },
  {
   "cell_type": "code",
   "execution_count": 14,
   "id": "a6f3fbe7-8d6a-4445-8743-99915ffe0b64",
   "metadata": {},
   "outputs": [
    {
     "name": "stderr",
     "output_type": "stream",
     "text": [
      "                                                                                \r"
     ]
    }
   ],
   "source": [
    "#senders = list(sparkSession.read.parquet('hdfs://172.30.17.145:8020/user/admin/sla/v00000/v00000/senders/senders.parquet').dropDuplicates().toPandas()['CSENDERENDPOINTID'])\n",
    "#/senders/senders_07.03.2023.parquet\n",
    "senders = list(sparkSession.read.parquet('hdfs://172.30.17.145:8020/preprocessing/senders/senders_07.03.2023.parquet').dropDuplicates().toPandas()['CSENDERENDPOINTID'])"
   ]
  },
  {
   "cell_type": "code",
   "execution_count": 15,
   "id": "47e4f8a3-ee0d-4a0c-9f1d-80ce3e6ce632",
   "metadata": {},
   "outputs": [
    {
     "data": {
      "text/plain": [
       "5697"
      ]
     },
     "execution_count": 15,
     "metadata": {},
     "output_type": "execute_result"
    }
   ],
   "source": [
    "len(dict.fromkeys(senders))"
   ]
  },
  {
   "cell_type": "code",
   "execution_count": 16,
   "id": "2fb869c6-0003-4d5c-857d-791d8c5f9d48",
   "metadata": {},
   "outputs": [],
   "source": [
    "#senders"
   ]
  },
  {
   "cell_type": "code",
   "execution_count": 17,
   "id": "83dedd84-19f0-4647-8e26-e91b9483f41d",
   "metadata": {},
   "outputs": [],
   "source": [
    "#senders_files = sparkSession.read.options(delimiter=',')     .csv('hdfs://172.30.17.145:8020/user/admin/sla/' + version + '/senders/senders_files.txt').toPandas()\n",
    "#senders_files.columns = ['size','filename']    "
   ]
  },
  {
   "cell_type": "code",
   "execution_count": 18,
   "id": "8e16e072-ef90-4f40-8761-e813f0a62874",
   "metadata": {},
   "outputs": [],
   "source": [
    "#senders_files['filename'][0]"
   ]
  },
  {
   "cell_type": "code",
   "execution_count": 19,
   "id": "fab91974-87c7-4c1b-8072-e9a251d283bb",
   "metadata": {},
   "outputs": [
    {
     "data": {
      "text/plain": [
       "'sla_enc_9df80140-60b6-11e7-ac31-a21bac1b495c.parquet'"
      ]
     },
     "execution_count": 19,
     "metadata": {},
     "output_type": "execute_result"
    }
   ],
   "source": [
    "'sla_enc_' + senders[0] + '.parquet'"
   ]
  },
  {
   "cell_type": "code",
   "execution_count": 20,
   "id": "67cddeef-af71-4fb4-94b8-9d16cee6aafa",
   "metadata": {
    "tags": []
   },
   "outputs": [],
   "source": [
    "#failed = []\n",
    "#for sender in senders:\n",
    "#    try:\n",
    "#        filename = 'sla_enc_' + sender + '.parquet'\n",
    "#        sparkSession.read.text('hdfs://172.30.17.145:8020/user/admin/sla/' + version + '/encoded/senders/' + filename + '/_SUCCESS'); \n",
    "#    except Exception as exception: \n",
    "#        failed.append(sender)\n",
    "#        if not 'temporary' in filename:\n",
    "#            failed.append(filename.split('sla_enc_')[1].split('.')[0])"
   ]
  },
  {
   "cell_type": "code",
   "execution_count": 21,
   "id": "b23a4ff0-ba0c-417b-989a-f3eb319ded77",
   "metadata": {},
   "outputs": [
    {
     "name": "stdout",
     "output_type": "stream",
     "text": [
      "/user/admin/sla/v00001/v00000/encoded/senders/\n"
     ]
    }
   ],
   "source": [
    "print('/user/admin/sla/' + version + '/encoded/senders/')"
   ]
  },
  {
   "cell_type": "code",
   "execution_count": 22,
   "id": "e7d9d0d0-6c1a-4315-96c9-ad168aaed072",
   "metadata": {},
   "outputs": [
    {
     "name": "stdout",
     "output_type": "stream",
     "text": [
      "Error in file: can only concatenate str (not \"NoneType\") to str\n"
     ]
    }
   ],
   "source": [
    "sc =  sparkSession.sparkContext\n",
    "URI  = sc._gateway.jvm.java.net.URI\n",
    "fs = sc._jvm.org.apache.hadoop.fs.FileSystem.get(URI(\"hdfs://172.30.17.145:8020\"), sc._jsc.hadoopConfiguration())\n",
    "failed = []\n",
    "success = []\n",
    "\n",
    "\n",
    "for sender in senders:\n",
    "    try:\n",
    "        filename = 'sla_enc_' + sender + '.parquet'\n",
    "        fileExists = fs.exists(sc._jvm.org.apache.hadoop.fs.Path('/user/admin/sla/' + version + '/encoded/senders/' + filename + '/_SUCCESS'))\n",
    "\n",
    "        if not fileExists:\n",
    "            failed.append(filename.split('sla_enc_')[1].split('.')[0])\n",
    "    except Exception as exception: \n",
    "            print(\"Error in file: \" + str(exception))\n"
   ]
  },
  {
   "cell_type": "code",
   "execution_count": null,
   "id": "df6cb1b2-1dd5-4d68-bc48-8c91dc44adad",
   "metadata": {},
   "outputs": [],
   "source": []
  },
  {
   "cell_type": "code",
   "execution_count": 23,
   "id": "e4e86330-3592-489a-a194-a0854c5fddaf",
   "metadata": {},
   "outputs": [
    {
     "name": "stdout",
     "output_type": "stream",
     "text": [
      "senders: 5697 failed: 2254\n"
     ]
    },
    {
     "data": {
      "text/plain": [
       "0"
      ]
     },
     "execution_count": 23,
     "metadata": {},
     "output_type": "execute_result"
    }
   ],
   "source": [
    "#print(\"senders: \" + str(len(senders)) + \" failed: \" + str(len(dict.fromkeys(failed))))\n",
    "\n",
    "#len(set(success))"
   ]
  },
  {
   "cell_type": "code",
   "execution_count": 24,
   "id": "1d8bc830-a4c2-46ad-b3e0-1adfb0f1f6ed",
   "metadata": {},
   "outputs": [],
   "source": [
    "from pyspark.sql.functions import udf\n",
    "from pyspark.sql.types import StringType\n",
    "\n",
    "def transform(value):\n",
    "    return int( _encoder.transform([value])[0])\n",
    "    \n",
    "udf_transform = udf(lambda z: transform(z), StringType())\n",
    "\n",
    "#df2.withColumn(\"CSENDERENDPOINTID\", str( _encoder.transform([df2.CSENDERENDPOINTID])[0])) \n",
    "#df2 = df2.withColumn(\"CSENDERENDPOINTID\", udf_transform(df2.CSENDERENDPOINTID)) \n",
    "\n",
    "def get_columns(df):\n",
    "    columns = list(df.limit(1).toPandas().columns)\n",
    "    columns.remove('CGLOBALMESSAGEID')\n",
    "    columns.remove('CSLATAT')\n",
    "    columns.remove('CMESSAGETAT2') \n",
    "    columns.remove('CSLADELIVERYTIME')\n",
    "    columns.remove('CINBOUNDSIZE')\n",
    "    columns.remove('CSTARTTIME')\n",
    "    columns.remove('CENDTIME')\n",
    "    columns.remove('CSLADELIVERYTIME')\n",
    "    \n",
    "    return columns"
   ]
  },
  {
   "cell_type": "code",
   "execution_count": 25,
   "id": "039aa0ce-cbe7-4f3b-a986-d5c31317c0ea",
   "metadata": {},
   "outputs": [],
   "source": [
    "def useSendersOnly(sender=None, dataframe=None):\n",
    "    #print(\"Senders size: \" + str([sender]))\n",
    "    return dataframe.where(f.col(\"CSENDERENDPOINTID\").isin(sender)) "
   ]
  },
  {
   "cell_type": "code",
   "execution_count": 26,
   "id": "9c6c7df2-04f1-48b0-a4ed-dbd08ec18268",
   "metadata": {},
   "outputs": [],
   "source": [
    "# ## encode columns\n",
    "\n",
    "from datetime import time\n",
    "import datetime as dt\n",
    "import calendar\n",
    "import pytz\n",
    "de = pytz.timezone('Europe/Berlin')\n",
    "from pyspark.sql.types import IntegerType\n",
    "\n",
    "# long timestamp\n",
    "def date(x):\n",
    "    return  dt.datetime.fromtimestamp(float(x) / 1e3, tz=de)\n",
    "\n",
    "udf_add_year = udf(lambda z: date(z).date().year, IntegerType())\n",
    "udf_add_month = udf(lambda z: date(z).date().month, IntegerType())\n",
    "udf_add_day = udf(lambda z: date(z).date().day, IntegerType())\n",
    "udf_add_hour = udf(lambda z: date(z).time().hour, IntegerType())\n",
    "udf_add_minute = udf(lambda z: date(z).time().minute, IntegerType())\n",
    "udf_add_minute = udf(lambda z: date(z).time().minute, IntegerType())\n",
    "\n",
    "\n",
    "# In[14]:\n",
    "\n",
    "\n",
    "import numpy as np\n",
    "import encoder\n",
    "from pyspark.sql.functions import col\n",
    "\n",
    "\n",
    "def encode_columns_spark_map(dataframe=None,columns=None, npy='/home/jovyan/work/npy'):\n",
    "    print(str(columns))\n",
    "    for column in columns:\n",
    "        global _encoder\n",
    "        print (column)\n",
    "        #_encoder = encoder.TolerantLabelEncoder(ignore_unknown=True)\n",
    "        #_encoder.classes_ = np.load(npy + '/' + column + '.npy')\n",
    "        \n",
    "        _encoder = encoders[column]\n",
    "        \n",
    "        #dataall[column] = _encoder.transform(dataall[column]) \n",
    "        udf_transform = udf(lambda z: transform(z), StringType())\n",
    "        dataframe=dataframe.withColumn(column, udf_transform(col(column)).cast(\"Integer\"))\n",
    "        #df3.head()\n",
    "    return dataframe\n",
    "\n",
    "def encode_columns_spark(dataframe=None,columns=None, npy='/home/jovyan/work/npy'):\n",
    "    print(str(columns))\n",
    "    for column in columns:\n",
    "        global _encoder\n",
    "        print (column)\n",
    "        #_encoder = encoder.TolerantLabelEncoder(ignore_unknown=True)\n",
    "        #_encoder.classes_ = np.load(npy + '/' + column + '.npy')\n",
    "        \n",
    "        _encoder = encoders[column]\n",
    "        \n",
    "        #dataall[column] = _encoder.transform(dataall[column]) \n",
    "        udf_transform = udf(lambda z: transform(z), StringType())\n",
    "        dataframe=dataframe.withColumn(column, udf_transform(col(column)).cast(\"Integer\"))\n",
    "        #df3.head()\n",
    "    return dataframe\n",
    "\n",
    "\n",
    "# In[15]:\n",
    "\n",
    "\n",
    "def cast_spark_columns(dataframe=None,columns=[],type=\"int\" ):\n",
    "    for column in columns:\n",
    "        dataframe_r = dataframe.withColumn(column, col(column).cast(type))\n",
    "    return dataframe_r    \n",
    "\n",
    "\n",
    "# In[16]:\n",
    "\n",
    "\n",
    "\n",
    "def process(df3):\n",
    "    df4 = encode_columns_spark(dataframe=df3,columns=columns)\n",
    "    df5 = df4.withColumn(\"year\", udf_add_year(df4.CSTARTTIME)).withColumn(\"month\", udf_add_month(df4.CSTARTTIME)).withColumn(\"day\", udf_add_day(df4.CSTARTTIME)).withColumn(\"hour\", udf_add_hour(df4.CSTARTTIME)).withColumn(\"minute\", udf_add_minute(df4.CSTARTTIME)) \n",
    "    df6=cast_spark_columns(dataframe=df5, columns=['CSTARTTIME', 'CENDTIME','CINBOUNDSIZE','CSLATAT','CMESSAGETAT2','CSLADELIVERYTIME'], type='long')\n",
    "    return df6\n",
    "\n",
    "# In[17]:\n",
    "\n",
    "np_load_old = np.load\n",
    "\n",
    "# modify the default parameters of np.load\n",
    "np.load = lambda *a,**k: np_load_old(*a, allow_pickle=True, **k)\n",
    "\n",
    "# restore np.load for future normal usage\n",
    "#np.load = np_load_old\n",
    "\n",
    "\n",
    "# In[18]:\n",
    "\n",
    "\n",
    "#import pyspark.sql.functions as f\n",
    "#ender = senders[0]\n",
    "#df4 = process(sender=sender,dataframe=df)\n",
    "#df4.head()\n",
    "#!mkdir /tmp/enc\n",
    "\n",
    "\n",
    "# In[19]:\n",
    "\n",
    "\n",
    "\n"
   ]
  },
  {
   "cell_type": "code",
   "execution_count": 27,
   "id": "47b9f6e4-6570-4d0c-89ea-0efa43084842",
   "metadata": {},
   "outputs": [],
   "source": [
    "#!mkdir -p /home/jovyan/work/output/enc"
   ]
  },
  {
   "cell_type": "code",
   "execution_count": 28,
   "id": "4d4b7d4a-f3ed-442c-83f2-638eaeeef62c",
   "metadata": {},
   "outputs": [],
   "source": [
    "if None in senders:\n",
    "    senders.remove(None)"
   ]
  },
  {
   "cell_type": "code",
   "execution_count": 29,
   "id": "b38a3e24-7111-43d6-ae0d-524c619e721c",
   "metadata": {},
   "outputs": [],
   "source": [
    "#None in senders"
   ]
  },
  {
   "cell_type": "code",
   "execution_count": 30,
   "id": "4a79cb9f-b97e-42aa-9a99-3698ab7a5880",
   "metadata": {},
   "outputs": [],
   "source": [
    "from os import listdir\n",
    "\n",
    "#def listdirectory(path=None,filter='.'):\n",
    "#    return [x for x in listdir(path) if not x.startswith(filter)]    \n",
    "\n",
    "#_files = listdirectory(path='/home/jovyan/work/output/enc')\n",
    "#senders = senders[len(_files):]\n",
    "\n",
    "columns = ['CSTATUS','CSERVICE','CSENDERENDPOINTID','CSENDERPROTOCOL','CRECEIVERPROTOCOL','CRECEIVERENDPOINTID']"
   ]
  },
  {
   "cell_type": "code",
   "execution_count": 31,
   "id": "1c7b04de-c13b-4380-a6b2-fa115177b8a4",
   "metadata": {},
   "outputs": [
    {
     "name": "stdout",
     "output_type": "stream",
     "text": [
      "CSTATUS\n",
      "CSERVICE\n",
      "CSENDERENDPOINTID\n",
      "CSENDERPROTOCOL\n",
      "CRECEIVERPROTOCOL\n",
      "CRECEIVERENDPOINTID\n"
     ]
    }
   ],
   "source": [
    "npy='/home/jovyan/work/npy'\n",
    "\n",
    "encoders = {}\n",
    "for column in columns:\n",
    "#    _encoder = encoder.TolerantLabelEncoder(ignore_unknown=True)\n",
    "    print(column)\n",
    "    _encoder = encoder.TolerantLabelEncoder(ignore_unknown=False)\n",
    "    _encoder.classes_ = np.load(npy + '/' + column + '.npy')\n",
    "    encoders[column] = _encoder"
   ]
  },
  {
   "cell_type": "code",
   "execution_count": 32,
   "id": "b3c60f8b-d70d-4812-bd50-66ea86ac830c",
   "metadata": {},
   "outputs": [
    {
     "data": {
      "text/plain": [
       "{'CSTATUS': TolerantLabelEncoder(),\n",
       " 'CSERVICE': TolerantLabelEncoder(),\n",
       " 'CSENDERENDPOINTID': TolerantLabelEncoder(),\n",
       " 'CSENDERPROTOCOL': TolerantLabelEncoder(),\n",
       " 'CRECEIVERPROTOCOL': TolerantLabelEncoder(),\n",
       " 'CRECEIVERENDPOINTID': TolerantLabelEncoder()}"
      ]
     },
     "execution_count": 32,
     "metadata": {},
     "output_type": "execute_result"
    }
   ],
   "source": [
    "encoders"
   ]
  },
  {
   "cell_type": "code",
   "execution_count": 33,
   "id": "667196c5-f65e-429e-a645-dce9d76647fa",
   "metadata": {},
   "outputs": [],
   "source": [
    "#import pyspark.sql.functions as f\n",
    "#sender = senders[0]\n",
    "#print(sender)\n",
    "#df4 = process(sender=sender,dataframe=df)\n",
    "#df4.write.mode(\"overwrite\").parquet(\"/home/jovyan/work/output/enc/sla_enc_\" + sender + \".parquet\")"
   ]
  },
  {
   "cell_type": "code",
   "execution_count": 34,
   "id": "6ca2f999-0874-41b7-b2ec-8d77d6f39498",
   "metadata": {},
   "outputs": [],
   "source": [
    "#sender = senders[0]\n",
    "#for sender in failed:\n",
    "#    dfOfSender = useSendersOnly(sender=sender,dataframe=df)\n",
    "\n",
    "#    dataCount = dfOfSender.count()\n",
    "#    biggerCounter = 0\n",
    "    \n",
    "#    if dataCount < 1 :\n",
    "#        print(\"No data for sender: \" + sender + \" count: \" + str(dataCount) + \" Bigger count: \" + str(biggerCounter))\n",
    "#    else:\n",
    "#        biggerCounter = biggerCounter + 1\n",
    "        \n",
    "    \n",
    "#print(\"Process sender: \" + sender + \" Data count: \" + str(dfOfSender.count()))\n",
    "#df10 = process(dfOfSender)\n",
    "#df10.toPandas()"
   ]
  },
  {
   "cell_type": "code",
   "execution_count": 38,
   "id": "5cfd135b-05a2-42af-8cbb-187ce43aa455",
   "metadata": {},
   "outputs": [
    {
     "name": "stderr",
     "output_type": "stream",
     "text": [
      "23/03/15 14:49:20 WARN CacheManager: Asked to cache already cached data.\n",
      "[Stage 6:====================================================>(1591 + 2) / 1593]\r"
     ]
    },
    {
     "name": "stdout",
     "output_type": "stream",
     "text": [
      "Process sender: 3fe7dc81-519c-11eb-b000-d76cac1b495c Data count: 741606\n"
     ]
    },
    {
     "name": "stderr",
     "output_type": "stream",
     "text": [
      "                                                                                \r"
     ]
    }
   ],
   "source": [
    "import pyspark.sql.functions as f\n",
    "import pyspark\n",
    "\n",
    "dfOfSender = df.where(f.col(\"CSENDERENDPOINTID\").isin(failed)).persist(pyspark.StorageLevel.MEMORY_ONLY) \n",
    "#dfOfSender.explain()\n",
    "#print(\"Process sender: \" + sender + \" Data count: \" + str(dfOfSender.count()))\n",
    "df10 = process(df)#.repartition(1)\n",
    "#df10.explain()\n",
    "df10.write.mode(\"append\").parquet(\"hdfs://172.30.17.145:8020/preprocessing/enc/missing_senders/\" + VERSION + \"/\" + str(start_year) + \"/\" + str(start_day_in_month) + \".\" + str(start_month) + \".\"  + str(start_year)  + \"-\" +  str(end_day_in_month) + \".\" + str(end_month) + \".\"  + str(end_year) + \"/sla_enc_\" + sender + '.parquet') \n",
    "#df10.write.mode(\"overwrite\").parquet(\"/home/jovyan/work/output/enc/test/\" + str(start_year) + \"/sla_enc_\" + sender + \"-\" + str(start_year) + \"-\" + str(start_month) + \"-\" + str(start_day_in_month) + \".parquet\")"
   ]
  },
  {
   "cell_type": "code",
   "execution_count": null,
   "id": "8256796e-9fe5-4836-a326-46710fee2130",
   "metadata": {},
   "outputs": [],
   "source": [
    "import pyspark.sql.functions as f\n",
    "\n",
    "\n",
    "#sender = senders[0]\n",
    "#for sender in failed:\n",
    "#    dfOfSender = useSendersOnly(sender=sender,dataframe=df)\n",
    "#    #print(\"Process sender: \" + sender + \" Data count: \" + str(dfOfSender.count()))\n",
    "#    df10 = process(dfOfSender).repartition(1)\n",
    "#    df10.write.mode(\"append\").parquet(\"hdfs://172.30.17.145:8020/preprocessing/enc/missing_senders/\" + VERSION + \"/\" + str(start_year) + \"/\" + str(start_day_in_month) + \".\" + str(start_month) + \".\"  + str(start_year)  + \"-\" +  str(end_day_in_month) + \".\" + str(end_month) + \".\"  + str(end_year) + \"/sla_enc_\" + sender + '.parquet') \n",
    "#    #df10.write.mode(\"overwrite\").parquet(\"/home/jovyan/work/output/enc/test/\" + str(start_year) + \"/sla_enc_\" + sender + \"-\" + str(start_year) + \"-\" + str(start_month) + \"-\" + str(start_day_in_month) + \".parquet\")"
   ]
  },
  {
   "cell_type": "code",
   "execution_count": null,
   "id": "b855497c-6862-4568-b017-03d3025e37b2",
   "metadata": {},
   "outputs": [],
   "source": [
    "#  papermill /home/jovyan/work/tool_create_encoded_messages_missing_senders.ipynb  /home/jovyan/work/integration/papermill-jobs/job-output/out_tool_create_encoded_messages_missing_senders.ipynb -p start_year 2023  -p start_month 1 -p start_day_in_month 1 -p end_year 2023 -p end_month 2  -p end_day_in_month 1"
   ]
  },
  {
   "cell_type": "code",
   "execution_count": null,
   "id": "c8dc40ed-8230-4e58-b141-670733140c37",
   "metadata": {},
   "outputs": [],
   "source": []
  }
 ],
 "metadata": {
  "kernelspec": {
   "display_name": "Python 3 (ipykernel)",
   "language": "python",
   "name": "python3"
  },
  "language_info": {
   "codemirror_mode": {
    "name": "ipython",
    "version": 3
   },
   "file_extension": ".py",
   "mimetype": "text/x-python",
   "name": "python",
   "nbconvert_exporter": "python",
   "pygments_lexer": "ipython3",
   "version": "3.9.7"
  }
 },
 "nbformat": 4,
 "nbformat_minor": 5
}
