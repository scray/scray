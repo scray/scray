{
 "cells": [
  {
   "cell_type": "markdown",
   "id": "4c7bf0cc-2bee-4491-b8e6-ba3e624ecb4d",
   "metadata": {},
   "source": [
    "# tool_merge_encoded_messages_all_senders"
   ]
  },
  {
   "cell_type": "markdown",
   "id": "a5cf76a5-dfad-4145-bb46-46e821783320",
   "metadata": {},
   "source": [
    "# Main"
   ]
  },
  {
   "cell_type": "code",
   "execution_count": 1,
   "id": "1315d67c-dca1-42e7-a044-6be3f2fbc49e",
   "metadata": {},
   "outputs": [],
   "source": [
    "import dfBasics\n",
    "import common\n",
    "import encoder\n",
    "import pfAdapt\n",
    "#import charts"
   ]
  },
  {
   "cell_type": "code",
   "execution_count": 2,
   "id": "7546a523-8667-44c7-a2dd-ca55815afea1",
   "metadata": {},
   "outputs": [],
   "source": [
    "version_sla = 'v00001'\n",
    "version     = version_sla + '/v00000'\n",
    "\n",
    "home_directory  =  '/home/jovyan/work/'\n",
    "share_directory =  '/home/jovyan/work/share/'\n",
    "#share_directory =  '/home/jovyan/share/'"
   ]
  },
  {
   "cell_type": "code",
   "execution_count": 3,
   "id": "9f057a9f-e288-42c3-b185-00a14bc15162",
   "metadata": {},
   "outputs": [],
   "source": [
    "import pandas as pd\n",
    "from pyspark.sql import functions"
   ]
  },
  {
   "cell_type": "code",
   "execution_count": 4,
   "id": "9979ee4f-7cb4-4d06-ab96-7d54e5e1c348",
   "metadata": {},
   "outputs": [],
   "source": [
    "columns = ['CGLOBALMESSAGEID', 'CSTARTTIME', 'CENDTIME', 'CSTATUS', 'CSERVICE',\\\n",
    "       'CSLABILLINGMONTH', 'CSENDERPROTOCOL', 'CSENDERENDPOINTID',\\\n",
    "       'CINBOUNDSIZE', 'CRECEIVERPROTOCOL', 'CRECEIVERENDPOINTID', 'CSLATAT',\\\n",
    "       'CMESSAGETAT2', 'CSLADELIVERYTIME']\n",
    "# withot 'CSLABILLINGMONTH'\n",
    "def get_columns_2():\n",
    "    columns = ['CGLOBALMESSAGEID', 'CSTARTTIME', 'CENDTIME', 'CSTATUS', 'CSERVICE',\\\n",
    "            'CSENDERPROTOCOL', 'CSENDERENDPOINTID',\\\n",
    "           'CINBOUNDSIZE', 'CRECEIVERPROTOCOL', 'CRECEIVERENDPOINTID', 'CSLATAT',\\\n",
    "           'CMESSAGETAT2', 'CSLADELIVERYTIME']\n",
    "    return columns\n",
    "\n",
    "columns = ['CGLOBALMESSAGEID',  'CSTARTTIME', 'CENDTIME', 'CSTATUS', 'CSERVICE', 'CSENDERENDPOINTID', 'CSENDERPROTOCOL', 'CINBOUNDSIZE', 'CRECEIVERPROTOCOL', 'CRECEIVERENDPOINTID', 'CSLATAT', 'CMESSAGETAT2', 'CSLADELIVERYTIME']\n",
    "     \n",
    "\n",
    "#columns = get_columns_2()\n",
    "#to count messages sent\n",
    "#columns = [ 'CSTARTTIME', 'CSENDERENDPOINTID']"
   ]
  },
  {
   "cell_type": "code",
   "execution_count": 5,
   "id": "5144238f-ef6b-4b9b-a0e4-ae6b85edc033",
   "metadata": {
    "tags": []
   },
   "outputs": [],
   "source": [
    "sparkSession = dfBasics.getSparkSession()"
   ]
  },
  {
   "cell_type": "code",
   "execution_count": 6,
   "id": "57fb9b44-6b8f-47d9-8a62-b699f767cdb7",
   "metadata": {},
   "outputs": [],
   "source": [
    "df = sparkSession.read.parquet('hdfs://172.30.17.145:8020/sla_sql_data/*/*').select(columns).dropDuplicates() "
   ]
  },
  {
   "cell_type": "code",
   "execution_count": 7,
   "id": "b999647a-d330-46cc-83e7-08c01450d109",
   "metadata": {},
   "outputs": [],
   "source": [
    "#senders = sparkSession.read.parquet(\"/tmp/senders.parquet\")\n",
    "#senders = pd.read_parquet('/tmp/senders' + '.parquet', engine='pyarrow')\n",
    "#senders = list(senders.toPandas()['CSENDERENDPOINTID'])"
   ]
  },
  {
   "cell_type": "code",
   "execution_count": 8,
   "id": "a6f3fbe7-8d6a-4445-8743-99915ffe0b64",
   "metadata": {},
   "outputs": [],
   "source": [
    "senders = list(sparkSession.read.parquet('hdfs://172.30.17.145:8020/user/admin/sla/v00000/v00000/senders/senders.parquet').toPandas()['CSENDERENDPOINTID'])"
   ]
  },
  {
   "cell_type": "code",
   "execution_count": 9,
   "id": "47e4f8a3-ee0d-4a0c-9f1d-80ce3e6ce632",
   "metadata": {},
   "outputs": [
    {
     "data": {
      "text/plain": [
       "5493"
      ]
     },
     "execution_count": 9,
     "metadata": {},
     "output_type": "execute_result"
    }
   ],
   "source": [
    "len(senders)"
   ]
  },
  {
   "cell_type": "code",
   "execution_count": 10,
   "id": "2fb869c6-0003-4d5c-857d-791d8c5f9d48",
   "metadata": {},
   "outputs": [],
   "source": [
    "#senders"
   ]
  },
  {
   "cell_type": "code",
   "execution_count": 11,
   "id": "83dedd84-19f0-4647-8e26-e91b9483f41d",
   "metadata": {},
   "outputs": [],
   "source": [
    "senders_files = sparkSession.read.options(delimiter=',') \\\n",
    "                      .csv('hdfs://172.30.17.145:8020/user/admin/sla/' + version + '/senders/senders_files.txt').toPandas()\n",
    "senders_files.columns = ['size','filename']    "
   ]
  },
  {
   "cell_type": "code",
   "execution_count": 12,
   "id": "8e16e072-ef90-4f40-8761-e813f0a62874",
   "metadata": {},
   "outputs": [],
   "source": [
    "#senders_files['filename'][0]"
   ]
  },
  {
   "cell_type": "code",
   "execution_count": 13,
   "id": "fab91974-87c7-4c1b-8072-e9a251d283bb",
   "metadata": {},
   "outputs": [],
   "source": [
    "#'sla_enc_' + senders[0] + '.parquet'"
   ]
  },
  {
   "cell_type": "code",
   "execution_count": 14,
   "id": "67cddeef-af71-4fb4-94b8-9d16cee6aafa",
   "metadata": {
    "tags": []
   },
   "outputs": [],
   "source": [
    "failed = []\n",
    "for sender in senders:\n",
    "    try:\n",
    "        filename = 'sla_enc_' + sender + '.parquet'\n",
    "        sparkSession.read.text('hdfs://172.30.17.145:8020/user/admin/sla/' + version + '/encoded/senders/' + filename + '/_SUCCESS')\n",
    "    except Exception as exception: \n",
    "        failed.append(sender)\n",
    "        #if not 'temporary' in filename:\n",
    "            #failed.append(filename.split('sla_enc_')[1].split('.')[0])"
   ]
  },
  {
   "cell_type": "code",
   "execution_count": 15,
   "id": "e4e86330-3592-489a-a194-a0854c5fddaf",
   "metadata": {},
   "outputs": [
    {
     "data": {
      "text/plain": [
       "2050"
      ]
     },
     "execution_count": 15,
     "metadata": {},
     "output_type": "execute_result"
    }
   ],
   "source": [
    "failed.remove(None)\n",
    "len(failed)"
   ]
  },
  {
   "cell_type": "code",
   "execution_count": 16,
   "id": "b4fb4361-430f-4c7b-9e93-6bcae8216b64",
   "metadata": {},
   "outputs": [],
   "source": [
    "working = [x for x in senders if x not in failed]\n",
    "working.remove(None)"
   ]
  },
  {
   "cell_type": "code",
   "execution_count": 17,
   "id": "0eba6036-f898-463e-9fbd-243ab8ac9426",
   "metadata": {},
   "outputs": [
    {
     "data": {
      "text/plain": [
       "3442"
      ]
     },
     "execution_count": 17,
     "metadata": {},
     "output_type": "execute_result"
    }
   ],
   "source": [
    "len(working)"
   ]
  },
  {
   "cell_type": "code",
   "execution_count": 18,
   "id": "ad6738b4-f46d-490f-9bbc-c850b6e90e24",
   "metadata": {},
   "outputs": [],
   "source": [
    "#sender = working[0]\n",
    "#filename = 'sla_enc_' + sender + '.parquet'\n",
    "#_df = sparkSession.read.parquet('hdfs://172.30.17.145:8020/user/admin/sla/' + version + '/encoded/senders/' + filename ).toPandas()\n",
    "#_df.columns"
   ]
  },
  {
   "cell_type": "code",
   "execution_count": 19,
   "id": "c4087dee-e498-4bc6-b262-52eef78a9e7a",
   "metadata": {},
   "outputs": [],
   "source": [
    "columns = ['CGLOBALMESSAGEID', 'CSTARTTIME', 'CENDTIME', 'CSTATUS', 'CSERVICE', 'CSENDERENDPOINTID', 'CSENDERPROTOCOL', 'CINBOUNDSIZE', 'CRECEIVERPROTOCOL', 'CRECEIVERENDPOINTID', 'CSLATAT', 'CMESSAGETAT2', 'CSLADELIVERYTIME', 'year', 'month', 'day', 'hour', 'minute']"
   ]
  },
  {
   "cell_type": "code",
   "execution_count": 20,
   "id": "4ec4c417-921b-4ec1-ba81-ce1eda320e51",
   "metadata": {},
   "outputs": [],
   "source": [
    "#columns"
   ]
  },
  {
   "cell_type": "code",
   "execution_count": 21,
   "id": "8c6929ca-6fba-4656-92e8-425234498f36",
   "metadata": {},
   "outputs": [],
   "source": [
    "df = pd.DataFrame(columns=columns)\n",
    "#df.append(_df)\n",
    "#df"
   ]
  },
  {
   "cell_type": "code",
   "execution_count": null,
   "id": "48ecae9b-43bd-4ec7-a013-804e550886b8",
   "metadata": {},
   "outputs": [],
   "source": [
    "for sender in working:\n",
    "    #print(sender)\n",
    "    try:\n",
    "        filename = 'sla_enc_' + sender + '.parquet'\n",
    "        _df = sparkSession.read.parquet('hdfs://172.30.17.145:8020/user/admin/sla/' + version + '/encoded/senders/' + filename ).toPandas()\n",
    "        df = df.append(_df)\n",
    "    except Exception as exception:\n",
    "        pass"
   ]
  },
  {
   "cell_type": "code",
   "execution_count": null,
   "id": "8f3fdbea-6ca4-4c57-918a-9d55ef0119c5",
   "metadata": {},
   "outputs": [],
   "source": [
    "#!ls -l /home/jovyan/work/output/sla_enc_all.parquet"
   ]
  },
  {
   "cell_type": "code",
   "execution_count": 23,
   "id": "36f56945-9601-4efe-adff-00ca967750d4",
   "metadata": {},
   "outputs": [],
   "source": [
    "df.to_parquet('/home/jovyan/work/output/sla_enc_all_4.parquet')"
   ]
  },
  {
   "cell_type": "code",
   "execution_count": null,
   "id": "c6ce96f4-7abb-4caf-9bd2-b8a008df97bd",
   "metadata": {},
   "outputs": [],
   "source": [
    "#pd.read_parquet('/home/jovyan/work/output/sla_enc_all_2.parquet')"
   ]
  },
  {
   "cell_type": "code",
   "execution_count": 24,
   "id": "ac262fe6-82bb-4c96-b4d5-8a6bfe00bed4",
   "metadata": {},
   "outputs": [
    {
     "data": {
      "text/plain": [
       "975"
      ]
     },
     "execution_count": 24,
     "metadata": {},
     "output_type": "execute_result"
    }
   ],
   "source": [
    "#_senders = pd.unique(df['CSENDERENDPOINTID'])\n",
    "#len(_senders)"
   ]
  },
  {
   "cell_type": "code",
   "execution_count": null,
   "id": "2122300e-e747-4f2a-9ef0-9a8bde8e8b5a",
   "metadata": {},
   "outputs": [],
   "source": [
    "#pd.unique(df[df['CSENDERENDPOINTID'] == _senders[0]]['CRECEIVERPROTOCOL'])"
   ]
  },
  {
   "cell_type": "code",
   "execution_count": null,
   "id": "7bc3f9d4-9424-43ad-9fff-9412905ec33b",
   "metadata": {},
   "outputs": [],
   "source": [
    "#pd.unique(df['CRECEIVERPROTOCOL'])"
   ]
  }
 ],
 "metadata": {
  "kernelspec": {
   "display_name": "Python 3 (ipykernel)",
   "language": "python",
   "name": "python3"
  },
  "language_info": {
   "codemirror_mode": {
    "name": "ipython",
    "version": 3
   },
   "file_extension": ".py",
   "mimetype": "text/x-python",
   "name": "python",
   "nbconvert_exporter": "python",
   "pygments_lexer": "ipython3",
   "version": "3.9.10"
  }
 },
 "nbformat": 4,
 "nbformat_minor": 5
}
