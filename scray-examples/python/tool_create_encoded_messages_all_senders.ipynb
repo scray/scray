{
 "cells": [
  {
   "cell_type": "code",
   "execution_count": null,
   "id": "58049f0b-5495-4287-9a8e-78ad33c24dd1",
   "metadata": {},
   "outputs": [],
   "source": []
  },
  {
   "cell_type": "markdown",
   "id": "a5cf76a5-dfad-4145-bb46-46e821783320",
   "metadata": {},
   "source": [
    "# Main"
   ]
  },
  {
   "cell_type": "code",
   "execution_count": 1,
   "id": "1315d67c-dca1-42e7-a044-6be3f2fbc49e",
   "metadata": {},
   "outputs": [],
   "source": [
    "import dfBasics\n",
    "import common\n",
    "import encoder\n",
    "import pfAdapt\n",
    "#import charts"
   ]
  },
  {
   "cell_type": "code",
   "execution_count": 2,
   "id": "9f057a9f-e288-42c3-b185-00a14bc15162",
   "metadata": {},
   "outputs": [],
   "source": [
    "import pandas as pd\n",
    "from pyspark.sql import functions"
   ]
  },
  {
   "cell_type": "code",
   "execution_count": 3,
   "id": "9979ee4f-7cb4-4d06-ab96-7d54e5e1c348",
   "metadata": {},
   "outputs": [],
   "source": [
    "columns = ['CGLOBALMESSAGEID', 'CSTARTTIME', 'CENDTIME', 'CSTATUS', 'CSERVICE',\\\n",
    "       'CSLABILLINGMONTH', 'CSENDERPROTOCOL', 'CSENDERENDPOINTID',\\\n",
    "       'CINBOUNDSIZE', 'CRECEIVERPROTOCOL', 'CRECEIVERENDPOINTID', 'CSLATAT',\\\n",
    "       'CMESSAGETAT2', 'CSLADELIVERYTIME']\n",
    "# withot 'CSLABILLINGMONTH'\n",
    "def get_columns_2():\n",
    "    columns = ['CGLOBALMESSAGEID', 'CSTARTTIME', 'CENDTIME', 'CSTATUS', 'CSERVICE',\\\n",
    "            'CSENDERPROTOCOL', 'CSENDERENDPOINTID',\\\n",
    "           'CINBOUNDSIZE', 'CRECEIVERPROTOCOL', 'CRECEIVERENDPOINTID', 'CSLATAT',\\\n",
    "           'CMESSAGETAT2', 'CSLADELIVERYTIME']\n",
    "    return columns\n",
    "\n",
    "columns = ['CGLOBALMESSAGEID',  'CSTARTTIME', 'CENDTIME', 'CSTATUS', 'CSERVICE', 'CSENDERENDPOINTID', 'CSENDERPROTOCOL', 'CINBOUNDSIZE', 'CRECEIVERPROTOCOL', 'CRECEIVERENDPOINTID', 'CSLATAT', 'CMESSAGETAT2', 'CSLADELIVERYTIME']\n",
    "     \n",
    "\n",
    "#columns = get_columns_2()\n",
    "#to count messages sent\n",
    "#columns = [ 'CSTARTTIME', 'CSENDERENDPOINTID']"
   ]
  },
  {
   "cell_type": "code",
   "execution_count": 4,
   "id": "5144238f-ef6b-4b9b-a0e4-ae6b85edc033",
   "metadata": {
    "tags": []
   },
   "outputs": [],
   "source": [
    "sparkSession = dfBasics.getSparkSession()"
   ]
  },
  {
   "cell_type": "code",
   "execution_count": 5,
   "id": "57fb9b44-6b8f-47d9-8a62-b699f767cdb7",
   "metadata": {},
   "outputs": [],
   "source": [
    "#df = sparkSession.read.parquet(\"/tmp/sla.parquet\")\n",
    "df = sparkSession.read.parquet('hdfs://172.30.17.145:8020/sla_sql_data/*/*').select(columns).dropDuplicates() \n",
    "#senders = pd.read_parquet('/tmp/senders' + '.parquet', engine='pyarrow')"
   ]
  },
  {
   "cell_type": "code",
   "execution_count": 6,
   "id": "b999647a-d330-46cc-83e7-08c01450d109",
   "metadata": {},
   "outputs": [],
   "source": [
    "senders = sparkSession.read.parquet(\"/tmp/senders.parquet\")\n",
    "#senders = pd.read_parquet('/tmp/senders' + '.parquet', engine='pyarrow')\n",
    "senders = list(senders.toPandas()['CSENDERENDPOINTID'])"
   ]
  },
  {
   "cell_type": "code",
   "execution_count": 7,
   "id": "1d8bc830-a4c2-46ad-b3e0-1adfb0f1f6ed",
   "metadata": {},
   "outputs": [],
   "source": [
    "from pyspark.sql.functions import udf\n",
    "from pyspark.sql.types import StringType\n",
    "\n",
    "def transform(value):\n",
    "    return int( _encoder.transform([value])[0])\n",
    "    \n",
    "udf_transform = udf(lambda z: transform(z), StringType())\n",
    "\n",
    "#df2.withColumn(\"CSENDERENDPOINTID\", str( _encoder.transform([df2.CSENDERENDPOINTID])[0])) \n",
    "#df2 = df2.withColumn(\"CSENDERENDPOINTID\", udf_transform(df2.CSENDERENDPOINTID)) \n",
    "\n",
    "def get_columns(df):\n",
    "    columns = list(df.limit(1).toPandas().columns)\n",
    "    columns.remove('CGLOBALMESSAGEID')\n",
    "    columns.remove('CSLATAT')\n",
    "    columns.remove('CMESSAGETAT2') \n",
    "    columns.remove('CSLADELIVERYTIME')\n",
    "    columns.remove('CINBOUNDSIZE')\n",
    "    columns.remove('CSTARTTIME')\n",
    "    columns.remove('CENDTIME')\n",
    "    return columns"
   ]
  },
  {
   "cell_type": "code",
   "execution_count": 8,
   "id": "9c6c7df2-04f1-48b0-a4ed-dbd08ec18268",
   "metadata": {},
   "outputs": [],
   "source": [
    "# ## encode columns\n",
    "\n",
    "from datetime import time\n",
    "import datetime as dt\n",
    "import calendar\n",
    "import pytz\n",
    "de = pytz.timezone('Europe/Berlin')\n",
    "from pyspark.sql.types import IntegerType\n",
    "\n",
    "# long timestamp\n",
    "def date(x):\n",
    "    return  dt.datetime.fromtimestamp(float(x) / 1e3, tz=de)\n",
    "\n",
    "udf_add_year = udf(lambda z: date(z).date().year, IntegerType())\n",
    "udf_add_month = udf(lambda z: date(z).date().month, IntegerType())\n",
    "udf_add_day = udf(lambda z: date(z).date().day, IntegerType())\n",
    "udf_add_hour = udf(lambda z: date(z).time().hour, IntegerType())\n",
    "udf_add_minute = udf(lambda z: date(z).time().minute, IntegerType())\n",
    "udf_add_minute = udf(lambda z: date(z).time().minute, IntegerType())\n",
    "\n",
    "\n",
    "# In[14]:\n",
    "\n",
    "\n",
    "import numpy as np\n",
    "import encoder\n",
    "from pyspark.sql.functions import col\n",
    "\n",
    "def encode_columns_spark(dataframe=None,columns=None, npy='/home/jovyan/work/npy'):\n",
    "    for column in columns:\n",
    "        global _encoder\n",
    "        #print (column)\n",
    "        #_encoder = encoder.TolerantLabelEncoder(ignore_unknown=True)\n",
    "        #_encoder.classes_ = np.load(npy + '/' + column + '.npy')\n",
    "        \n",
    "        _encoder = encoders[column]\n",
    "        \n",
    "        #dataall[column] = _encoder.transform(dataall[column]) \n",
    "        udf_transform = udf(lambda z: transform(z), StringType())\n",
    "        dataframe=dataframe.withColumn(column, udf_transform(col(column)).cast(\"Integer\"))\n",
    "        #df3.head()\n",
    "    return dataframe\n",
    "\n",
    "\n",
    "# In[15]:\n",
    "\n",
    "\n",
    "def cast_spark_columns(dataframe=None,columns=[],type=\"int\" ):\n",
    "    for column in columns:\n",
    "        dataframe = dataframe.withColumn(column, col(column).cast(type))\n",
    "    return dataframe    \n",
    "\n",
    "\n",
    "# In[16]:\n",
    "\n",
    "\n",
    "def process(sender=None, dataframe=None):\n",
    "    df3 = dataframe.where(f.col(\"CSENDERENDPOINTID\").isin([sender]))\n",
    "    df3 = encode_columns_spark(dataframe=df3,columns=columns)\n",
    "    df3 = df3.withColumn(\"year\", udf_add_year(df3.CSTARTTIME)).withColumn(\"month\", udf_add_month(df3.CSTARTTIME)).withColumn(\"day\", udf_add_day(df3.CSTARTTIME)).withColumn(\"hour\", udf_add_hour(df3.CSTARTTIME)).withColumn(\"minute\", udf_add_minute(df3.CSTARTTIME)) \n",
    "    df3=cast_spark_columns(dataframe=df3, columns=['CSTARTTIME', 'CENDTIME','CINBOUNDSIZE','CSLATAT','CMESSAGETAT2','CSLADELIVERYTIME'], type='long')\n",
    "    return df3\n",
    "\n",
    "\n",
    "# In[17]:\n",
    "\n",
    "np_load_old = np.load\n",
    "\n",
    "# modify the default parameters of np.load\n",
    "np.load = lambda *a,**k: np_load_old(*a, allow_pickle=True, **k)\n",
    "\n",
    "# restore np.load for future normal usage\n",
    "#np.load = np_load_old\n",
    "\n",
    "\n",
    "# In[18]:\n",
    "\n",
    "\n",
    "#import pyspark.sql.functions as f\n",
    "#ender = senders[0]\n",
    "#df4 = process(sender=sender,dataframe=df)\n",
    "#df4.head()\n",
    "#!mkdir /tmp/enc\n",
    "\n",
    "\n",
    "# In[19]:\n",
    "\n",
    "\n",
    "\n"
   ]
  },
  {
   "cell_type": "code",
   "execution_count": 9,
   "id": "47b9f6e4-6570-4d0c-89ea-0efa43084842",
   "metadata": {},
   "outputs": [],
   "source": [
    "#!mkdir -p /home/jovyan/work/output/enc"
   ]
  },
  {
   "cell_type": "code",
   "execution_count": 10,
   "id": "4d4b7d4a-f3ed-442c-83f2-638eaeeef62c",
   "metadata": {},
   "outputs": [],
   "source": [
    "if None in senders:\n",
    "    senders.remove(None)"
   ]
  },
  {
   "cell_type": "code",
   "execution_count": 11,
   "id": "b38a3e24-7111-43d6-ae0d-524c619e721c",
   "metadata": {},
   "outputs": [],
   "source": [
    "#None in senders"
   ]
  },
  {
   "cell_type": "code",
   "execution_count": 12,
   "id": "4a79cb9f-b97e-42aa-9a99-3698ab7a5880",
   "metadata": {},
   "outputs": [],
   "source": [
    "from os import listdir\n",
    "\n",
    "def listdirectory(path=None,filter='.'):\n",
    "    return [x for x in listdir(path) if not x.startswith(filter)]    \n",
    "\n",
    "_files = listdirectory(path='/home/jovyan/work/output/enc')\n",
    "senders = senders[len(_files):]\n",
    "\n",
    "columns = ['CSTATUS','CSERVICE','CSENDERENDPOINTID','CSENDERPROTOCOL','CRECEIVERPROTOCOL','CRECEIVERENDPOINTID']"
   ]
  },
  {
   "cell_type": "code",
   "execution_count": 13,
   "id": "1c7b04de-c13b-4380-a6b2-fa115177b8a4",
   "metadata": {},
   "outputs": [],
   "source": [
    "npy='/home/jovyan/work/npy'\n",
    "encoders = {}\n",
    "for column in columns:\n",
    "    _encoder = encoder.TolerantLabelEncoder(ignore_unknown=True)\n",
    "    _encoder.classes_ = np.load(npy + '/' + column + '.npy')\n",
    "    encoders[column] = _encoder"
   ]
  },
  {
   "cell_type": "code",
   "execution_count": 12,
   "id": "b3c60f8b-d70d-4812-bd50-66ea86ac830c",
   "metadata": {},
   "outputs": [
    {
     "data": {
      "text/plain": [
       "{'CSTATUS': TolerantLabelEncoder(ignore_unknown=True),\n",
       " 'CSERVICE': TolerantLabelEncoder(ignore_unknown=True),\n",
       " 'CSENDERENDPOINTID': TolerantLabelEncoder(ignore_unknown=True),\n",
       " 'CSENDERPROTOCOL': TolerantLabelEncoder(ignore_unknown=True),\n",
       " 'CRECEIVERPROTOCOL': TolerantLabelEncoder(ignore_unknown=True),\n",
       " 'CRECEIVERENDPOINTID': TolerantLabelEncoder(ignore_unknown=True)}"
      ]
     },
     "execution_count": 12,
     "metadata": {},
     "output_type": "execute_result"
    }
   ],
   "source": [
    "#encoders"
   ]
  },
  {
   "cell_type": "code",
   "execution_count": 14,
   "id": "667196c5-f65e-429e-a645-dce9d76647fa",
   "metadata": {},
   "outputs": [
    {
     "name": "stdout",
     "output_type": "stream",
     "text": [
      "a0ba2e40-a181-11e9-a189-ddafac1b495c\n"
     ]
    },
    {
     "data": {
      "text/plain": [
       "Row(CGLOBALMESSAGEID='623b4843-3cde-11ea-9ecd-0a89ac1e100c', CSTARTTIME=1579673641668, CENDTIME=1579673651076, CSTATUS=14, CSERVICE=6, CSENDERENDPOINTID=3469, CSENDERPROTOCOL=4, CINBOUNDSIZE=39428, CRECEIVERPROTOCOL=0, CRECEIVERENDPOINTID=710, CSLATAT=9225, CMESSAGETAT2=9408, CSLADELIVERYTIME=1579673650893, year=2020, month=1, day=22, hour=7, minute=14)"
      ]
     },
     "execution_count": 14,
     "metadata": {},
     "output_type": "execute_result"
    }
   ],
   "source": [
    "import pyspark.sql.functions as f\n",
    "sender = senders[0]\n",
    "print(sender)\n",
    "df4 = process(sender=sender,dataframe=df)\n",
    "#df4.write.mode(\"overwrite\").parquet(\"/home/jovyan/work/output/enc/sla_enc_\" + sender + \".parquet\")\n",
    "df4.head()"
   ]
  },
  {
   "cell_type": "code",
   "execution_count": null,
   "id": "8256796e-9fe5-4836-a326-46710fee2130",
   "metadata": {},
   "outputs": [],
   "source": [
    "import pyspark.sql.functions as f\n",
    "#sender = senders[0]\n",
    "for sender in senders:\n",
    "    df4 = process(sender=sender,dataframe=df)\n",
    "    df4.write.mode(\"overwrite\").parquet(\"/home/jovyan/work/output/enc/sla_enc_\" + sender + \".parquet\")"
   ]
  },
  {
   "cell_type": "code",
   "execution_count": null,
   "id": "9e44c0ad-ea85-4f21-bfaa-937c93566f36",
   "metadata": {},
   "outputs": [],
   "source": []
  },
  {
   "cell_type": "code",
   "execution_count": null,
   "id": "b855497c-6862-4568-b017-03d3025e37b2",
   "metadata": {},
   "outputs": [],
   "source": []
  }
 ],
 "metadata": {
  "kernelspec": {
   "display_name": "Python 3 (ipykernel)",
   "language": "python",
   "name": "python3"
  },
  "language_info": {
   "codemirror_mode": {
    "name": "ipython",
    "version": 3
   },
   "file_extension": ".py",
   "mimetype": "text/x-python",
   "name": "python",
   "nbconvert_exporter": "python",
   "pygments_lexer": "ipython3",
   "version": "3.9.10"
  }
 },
 "nbformat": 4,
 "nbformat_minor": 5
}
