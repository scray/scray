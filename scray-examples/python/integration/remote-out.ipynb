{
 "cells": [
  {
   "cell_type": "markdown",
   "id": "bb4079e8",
   "metadata": {
    "papermill": {
     "duration": 0.011367,
     "end_time": "2023-02-20T21:11:20.429334",
     "exception": false,
     "start_time": "2023-02-20T21:11:20.417967",
     "status": "completed"
    },
    "tags": []
   },
   "source": [
    "## Sample notebook for testing papermill\n",
    "\n",
    "Link to papermill docs: https://papermill.readthedocs.io/en/latest/usage-parameterize.html"
   ]
  },
  {
   "cell_type": "code",
   "execution_count": null,
   "id": "da54b174",
   "metadata": {
    "execution": {
     "iopub.execute_input": "2023-02-20T21:11:20.459983Z",
     "iopub.status.busy": "2023-02-20T21:11:20.454076Z",
     "iopub.status.idle": "2023-02-20T21:11:20.463271Z",
     "shell.execute_reply": "2023-02-20T21:11:20.462573Z"
    },
    "papermill": {
     "duration": 0.023185,
     "end_time": "2023-02-20T21:11:20.463424",
     "exception": false,
     "start_time": "2023-02-20T21:11:20.440239",
     "status": "completed"
    },
    "tags": [
     "parameters"
    ]
   },
   "outputs": [],
   "source": [
    "parameter1 = 10\n",
    "parameter2 = 20"
   ]
  },
  {
   "cell_type": "code",
   "execution_count": null,
   "id": "c0bf038d",
   "metadata": {
    "execution": {
     "iopub.execute_input": "2023-02-20T21:11:20.490045Z",
     "iopub.status.busy": "2023-02-20T21:11:20.489417Z",
     "iopub.status.idle": "2023-02-20T21:11:20.492504Z",
     "shell.execute_reply": "2023-02-20T21:11:20.493012Z"
    },
    "papermill": {
     "duration": 0.018335,
     "end_time": "2023-02-20T21:11:20.493203",
     "exception": false,
     "start_time": "2023-02-20T21:11:20.474868",
     "status": "completed"
    },
    "tags": [
     "injected-parameters"
    ]
   },
   "outputs": [],
   "source": [
    "# Parameters\n",
    "parameter1 = 12\n",
    "parameter2 = 14\n"
   ]
  },
  {
   "cell_type": "code",
   "execution_count": null,
   "id": "e036b8e3",
   "metadata": {
    "execution": {
     "iopub.execute_input": "2023-02-20T21:11:20.519811Z",
     "iopub.status.busy": "2023-02-20T21:11:20.519217Z",
     "iopub.status.idle": "2023-02-20T21:11:20.521985Z",
     "shell.execute_reply": "2023-02-20T21:11:20.522464Z"
    },
    "papermill": {
     "duration": 0.017492,
     "end_time": "2023-02-20T21:11:20.522625",
     "exception": false,
     "start_time": "2023-02-20T21:11:20.505133",
     "status": "completed"
    },
    "tags": []
   },
   "outputs": [],
   "source": [
    "mul = parameter1 * parameter2\n",
    "print(mul)"
   ]
  }
 ],
 "metadata": {
  "celltoolbar": "Tags",
  "kernelspec": {
   "display_name": "Python 3",
   "language": "python",
   "name": "python3"
  },
  "language_info": {
   "codemirror_mode": {
    "name": "ipython",
    "version": 3
   },
   "file_extension": ".py",
   "mimetype": "text/x-python",
   "name": "python",
   "nbconvert_exporter": "python",
   "pygments_lexer": "ipython3",
   "version": "3.9.7"
  },
  "papermill": {
   "default_parameters": {},
   "duration": 1.801825,
   "end_time": "2023-02-20T21:11:20.744299",
   "environment_variables": {},
   "exception": null,
   "input_path": "https://raw.githubusercontent.com/pkoperek/papermill-sample/master/SampleParametrized.ipynb",
   "output_path": "remote-out.ipynb",
   "parameters": {
    "parameter1": 12,
    "parameter2": 14
   },
   "start_time": "2023-02-20T21:11:18.942474",
   "version": "2.4.0"
  }
 },
 "nbformat": 4,
 "nbformat_minor": 5
}
