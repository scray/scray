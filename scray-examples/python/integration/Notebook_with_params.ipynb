{
 "cells": [
  {
   "cell_type": "code",
   "execution_count": null,
   "id": "1be2484c-e582-4b94-8a5a-f650d5b36017",
   "metadata": {
    "tags": [
     "parameters"
    ]
   },
   "outputs": [],
   "source": [
    "path='hdfs://172.30.17.145:8020/sla_sql_data/*/'\n",
    "number=2"
   ]
  },
  {
   "cell_type": "code",
   "execution_count": null,
   "id": "3a38d916-1de6-4708-ac94-2796a43cb79a",
   "metadata": {},
   "outputs": [],
   "source": [
    "print(path + str(number))"
   ]
  }
 ],
 "metadata": {
  "kernelspec": {
   "display_name": "Python 3 (ipykernel)",
   "language": "python",
   "name": "python3"
  },
  "language_info": {
   "codemirror_mode": {
    "name": "ipython",
    "version": 3
   },
   "file_extension": ".py",
   "mimetype": "text/x-python",
   "name": "python",
   "nbconvert_exporter": "python",
   "pygments_lexer": "ipython3",
   "version": "3.9.7"
  }
 },
 "nbformat": 4,
 "nbformat_minor": 5
}
