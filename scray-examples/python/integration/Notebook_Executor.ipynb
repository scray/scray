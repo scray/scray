{
 "cells": [
  {
   "cell_type": "code",
   "execution_count": null,
   "id": "ea21b4f3-f9e7-4f34-867b-533736c99063",
   "metadata": {},
   "outputs": [],
   "source": [
    "!papermill /home/jovyan/work/integration/Notebook_with_params.ipynb output.ipynb -p path /home/jovyan/ -p number 14"
   ]
  },
  {
   "cell_type": "markdown",
   "id": "c4d65e8e-b9f5-4a85-ac70-878577b53d3b",
   "metadata": {},
   "source": [
    "Remote notebook"
   ]
  },
  {
   "cell_type": "code",
   "execution_count": null,
   "id": "858b6ce8-fee6-456c-a0cd-30c865c264f7",
   "metadata": {},
   "outputs": [],
   "source": [
    "import os\n",
    "os.environ['http_proxy'] = \"http://172.30.12.56:3128\"\n",
    "os.environ['https_proxy'] = \"http://172.30.12.56:3128\"\n",
    "\n",
    "!papermill https://raw.githubusercontent.com/pkoperek/papermill-sample/master/SampleParametrized.ipynb remote-out.ipynb -p parameter1 12 -p parameter2 14"
   ]
  },
  {
   "cell_type": "code",
   "execution_count": null,
   "id": "0897f3e4-c7ef-4e12-a0be-510ea93ab96e",
   "metadata": {},
   "outputs": [],
   "source": []
  },
  {
   "cell_type": "code",
   "execution_count": null,
   "id": "e4e2d14e-fd89-4da6-8556-8b796b6eccfb",
   "metadata": {},
   "outputs": [],
   "source": []
  }
 ],
 "metadata": {
  "kernelspec": {
   "display_name": "Python 3 (ipykernel)",
   "language": "python",
   "name": "python3"
  },
  "language_info": {
   "codemirror_mode": {
    "name": "ipython",
    "version": 3
   },
   "file_extension": ".py",
   "mimetype": "text/x-python",
   "name": "python",
   "nbconvert_exporter": "python",
   "pygments_lexer": "ipython3",
   "version": "3.9.7"
  }
 },
 "nbformat": 4,
 "nbformat_minor": 5
}
