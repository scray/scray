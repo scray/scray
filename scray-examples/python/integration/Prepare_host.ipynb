{
 "cells": [
  {
   "cell_type": "code",
   "execution_count": null,
   "id": "a6662148-c7a0-4101-acdc-b2acecc88725",
   "metadata": {},
   "outputs": [],
   "source": [
    "import os\n",
    "os.environ['http_proxy'] = \"http://172.30.12.56:3128\"\n",
    "os.environ['https_proxy'] = \"http://172.30.12.56:3128\"\n",
    "!pip install papermill"
   ]
  },
  {
   "cell_type": "code",
   "execution_count": null,
   "id": "5e8ba572-3b44-444f-b7fd-49ec2a74d536",
   "metadata": {},
   "outputs": [],
   "source": []
  },
  {
   "cell_type": "code",
   "execution_count": null,
   "id": "b9c83d05-77e2-429e-9586-1628cf09798f",
   "metadata": {},
   "outputs": [],
   "source": []
  }
 ],
 "metadata": {
  "kernelspec": {
   "display_name": "Python 3 (ipykernel)",
   "language": "python",
   "name": "python3"
  },
  "language_info": {
   "codemirror_mode": {
    "name": "ipython",
    "version": 3
   },
   "file_extension": ".py",
   "mimetype": "text/x-python",
   "name": "python",
   "nbconvert_exporter": "python",
   "pygments_lexer": "ipython3",
   "version": "3.9.7"
  }
 },
 "nbformat": 4,
 "nbformat_minor": 5
}
