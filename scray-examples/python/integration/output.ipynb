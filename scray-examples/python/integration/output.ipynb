{
 "cells": [
  {
   "cell_type": "code",
   "execution_count": null,
   "id": "1be2484c-e582-4b94-8a5a-f650d5b36017",
   "metadata": {
    "execution": {
     "iopub.execute_input": "2023-02-20T20:23:50.844766Z",
     "iopub.status.busy": "2023-02-20T20:23:50.839000Z",
     "iopub.status.idle": "2023-02-20T20:23:50.848156Z",
     "shell.execute_reply": "2023-02-20T20:23:50.847576Z"
    },
    "papermill": {
     "duration": 0.022157,
     "end_time": "2023-02-20T20:23:50.848318",
     "exception": false,
     "start_time": "2023-02-20T20:23:50.826161",
     "status": "completed"
    },
    "tags": [
     "parameters"
    ]
   },
   "outputs": [],
   "source": [
    "path='hdfs://172.30.17.145:8020/sla_sql_data/*/'\n",
    "number=2"
   ]
  },
  {
   "cell_type": "code",
   "execution_count": null,
   "id": "21dbee03",
   "metadata": {
    "execution": {
     "iopub.execute_input": "2023-02-20T20:23:50.871116Z",
     "iopub.status.busy": "2023-02-20T20:23:50.870506Z",
     "iopub.status.idle": "2023-02-20T20:23:50.872735Z",
     "shell.execute_reply": "2023-02-20T20:23:50.872154Z"
    },
    "papermill": {
     "duration": 0.014664,
     "end_time": "2023-02-20T20:23:50.872877",
     "exception": false,
     "start_time": "2023-02-20T20:23:50.858213",
     "status": "completed"
    },
    "tags": [
     "injected-parameters"
    ]
   },
   "outputs": [],
   "source": [
    "# Parameters\n",
    "path = \"/home/jovyan/\"\n",
    "number = 14\n"
   ]
  },
  {
   "cell_type": "code",
   "execution_count": null,
   "id": "3a38d916-1de6-4708-ac94-2796a43cb79a",
   "metadata": {
    "execution": {
     "iopub.execute_input": "2023-02-20T20:23:50.895698Z",
     "iopub.status.busy": "2023-02-20T20:23:50.895112Z",
     "iopub.status.idle": "2023-02-20T20:23:50.898429Z",
     "shell.execute_reply": "2023-02-20T20:23:50.897837Z"
    },
    "papermill": {
     "duration": 0.016382,
     "end_time": "2023-02-20T20:23:50.898568",
     "exception": false,
     "start_time": "2023-02-20T20:23:50.882186",
     "status": "completed"
    },
    "tags": []
   },
   "outputs": [],
   "source": [
    "print(path + str(number))"
   ]
  }
 ],
 "metadata": {
  "kernelspec": {
   "display_name": "Python 3 (ipykernel)",
   "language": "python",
   "name": "python3"
  },
  "language_info": {
   "codemirror_mode": {
    "name": "ipython",
    "version": 3
   },
   "file_extension": ".py",
   "mimetype": "text/x-python",
   "name": "python",
   "nbconvert_exporter": "python",
   "pygments_lexer": "ipython3",
   "version": "3.9.7"
  },
  "papermill": {
   "default_parameters": {},
   "duration": 4.506512,
   "end_time": "2023-02-20T20:23:53.840408",
   "environment_variables": {},
   "exception": null,
   "input_path": "/home/jovyan/work/integration/Notebook_with_params.ipynb",
   "output_path": "output.ipynb",
   "parameters": {
    "number": 14,
    "path": "/home/jovyan/"
   },
   "start_time": "2023-02-20T20:23:49.333896",
   "version": "2.4.0"
  }
 },
 "nbformat": 4,
 "nbformat_minor": 5
}
