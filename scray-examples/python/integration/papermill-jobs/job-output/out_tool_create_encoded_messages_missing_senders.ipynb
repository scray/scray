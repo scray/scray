{
 "cells": [
  {
   "cell_type": "markdown",
   "id": "188b3b8c",
   "metadata": {
    "tags": [
     "papermill-error-cell-tag"
    ]
   },
   "source": [
    "<span style=\"color:red; font-family:Helvetica Neue, Helvetica, Arial, sans-serif; font-size:2em;\">An Exception was encountered at '<a href=\"#papermill-error-cell\">In [37]</a>'.</span>"
   ]
  },
  {
   "cell_type": "markdown",
   "id": "4c7bf0cc-2bee-4491-b8e6-ba3e624ecb4d",
   "metadata": {
    "papermill": {
     "duration": 0.094813,
     "end_time": "2023-03-17T13:47:47.773726",
     "exception": false,
     "start_time": "2023-03-17T13:47:47.678913",
     "status": "completed"
    },
    "tags": []
   },
   "source": [
    "# tool_create_encoded_messages_missing_senders"
   ]
  },
  {
   "cell_type": "markdown",
   "id": "a5cf76a5-dfad-4145-bb46-46e821783320",
   "metadata": {
    "papermill": {
     "duration": 0.093052,
     "end_time": "2023-03-17T13:47:47.960682",
     "exception": false,
     "start_time": "2023-03-17T13:47:47.867630",
     "status": "completed"
    },
    "tags": []
   },
   "source": [
    "# Main"
   ]
  },
  {
   "cell_type": "code",
   "execution_count": 1,
   "id": "482a3892-5c50-4b74-81a0-72e6119bee32",
   "metadata": {
    "execution": {
     "iopub.execute_input": "2023-03-17T13:47:48.156938Z",
     "iopub.status.busy": "2023-03-17T13:47:48.156316Z",
     "iopub.status.idle": "2023-03-17T13:47:48.159919Z",
     "shell.execute_reply": "2023-03-17T13:47:48.159378Z"
    },
    "papermill": {
     "duration": 0.105658,
     "end_time": "2023-03-17T13:47:48.160082",
     "exception": false,
     "start_time": "2023-03-17T13:47:48.054424",
     "status": "completed"
    },
    "tags": []
   },
   "outputs": [],
   "source": [
    "VERSION=\"1.1.19\""
   ]
  },
  {
   "cell_type": "code",
   "execution_count": 2,
   "id": "1315d67c-dca1-42e7-a044-6be3f2fbc49e",
   "metadata": {
    "execution": {
     "iopub.execute_input": "2023-03-17T13:47:48.352525Z",
     "iopub.status.busy": "2023-03-17T13:47:48.351910Z",
     "iopub.status.idle": "2023-03-17T13:47:49.276660Z",
     "shell.execute_reply": "2023-03-17T13:47:49.276012Z"
    },
    "papermill": {
     "duration": 1.022972,
     "end_time": "2023-03-17T13:47:49.276809",
     "exception": false,
     "start_time": "2023-03-17T13:47:48.253837",
     "status": "completed"
    },
    "tags": []
   },
   "outputs": [],
   "source": [
    "import dfBasics\n",
    "import common\n",
    "import encoder\n",
    "import pfAdapt\n",
    "#import charts\n",
    "# test"
   ]
  },
  {
   "cell_type": "code",
   "execution_count": 3,
   "id": "eb0ebfeb-bfaa-42de-8c0e-ef0768e3ee62",
   "metadata": {
    "execution": {
     "iopub.execute_input": "2023-03-17T13:47:49.469698Z",
     "iopub.status.busy": "2023-03-17T13:47:49.468037Z",
     "iopub.status.idle": "2023-03-17T13:47:49.471742Z",
     "shell.execute_reply": "2023-03-17T13:47:49.472176Z"
    },
    "papermill": {
     "duration": 0.101467,
     "end_time": "2023-03-17T13:47:49.472357",
     "exception": false,
     "start_time": "2023-03-17T13:47:49.370890",
     "status": "completed"
    },
    "tags": []
   },
   "outputs": [],
   "source": [
    "VERSION=\"1.1.16\"\n",
    "import os\n",
    "os.environ[\"HADOOP_USER_NAME\"] = \"hdfs\""
   ]
  },
  {
   "cell_type": "code",
   "execution_count": 4,
   "id": "41a541e8-d04f-47a1-992f-7d85479ef593",
   "metadata": {
    "execution": {
     "iopub.execute_input": "2023-03-17T13:47:49.663839Z",
     "iopub.status.busy": "2023-03-17T13:47:49.663251Z",
     "iopub.status.idle": "2023-03-17T13:47:49.665237Z",
     "shell.execute_reply": "2023-03-17T13:47:49.665663Z"
    },
    "papermill": {
     "duration": 0.099675,
     "end_time": "2023-03-17T13:47:49.665826",
     "exception": false,
     "start_time": "2023-03-17T13:47:49.566151",
     "status": "completed"
    },
    "tags": [
     "parameters"
    ]
   },
   "outputs": [],
   "source": [
    "start_year=2021\n",
    "start_month=1\n",
    "start_day_in_month=1\n",
    "\n",
    "end_year=2021\n",
    "end_month=1\n",
    "end_day_in_month=2"
   ]
  },
  {
   "cell_type": "code",
   "execution_count": 5,
   "id": "b76bfcfe",
   "metadata": {
    "execution": {
     "iopub.execute_input": "2023-03-17T13:47:49.859061Z",
     "iopub.status.busy": "2023-03-17T13:47:49.858462Z",
     "iopub.status.idle": "2023-03-17T13:47:49.860765Z",
     "shell.execute_reply": "2023-03-17T13:47:49.860065Z"
    },
    "papermill": {
     "duration": 0.10054,
     "end_time": "2023-03-17T13:47:49.860904",
     "exception": false,
     "start_time": "2023-03-17T13:47:49.760364",
     "status": "completed"
    },
    "tags": [
     "injected-parameters"
    ]
   },
   "outputs": [],
   "source": [
    "# Parameters\n",
    "start_year = 2022\n",
    "start_month = 1\n",
    "start_day_in_month = 1\n",
    "end_year = 2023\n",
    "end_month = 1\n",
    "end_day_in_month = 2\n"
   ]
  },
  {
   "cell_type": "code",
   "execution_count": null,
   "id": "7e778c64-c8b5-41e9-b8de-bf71958291c2",
   "metadata": {
    "papermill": {
     "duration": 0.094157,
     "end_time": "2023-03-17T13:47:50.049416",
     "exception": false,
     "start_time": "2023-03-17T13:47:49.955259",
     "status": "completed"
    },
    "tags": []
   },
   "outputs": [],
   "source": []
  },
  {
   "cell_type": "code",
   "execution_count": 6,
   "id": "7546a523-8667-44c7-a2dd-ca55815afea1",
   "metadata": {
    "execution": {
     "iopub.execute_input": "2023-03-17T13:47:50.242881Z",
     "iopub.status.busy": "2023-03-17T13:47:50.241294Z",
     "iopub.status.idle": "2023-03-17T13:47:50.245038Z",
     "shell.execute_reply": "2023-03-17T13:47:50.244457Z"
    },
    "papermill": {
     "duration": 0.100788,
     "end_time": "2023-03-17T13:47:50.245176",
     "exception": false,
     "start_time": "2023-03-17T13:47:50.144388",
     "status": "completed"
    },
    "tags": []
   },
   "outputs": [],
   "source": [
    "version_sla = 'v00001'\n",
    "version     = version_sla + '/v00000'\n",
    "\n",
    "home_directory  =  '/home/jovyan/work/'\n",
    "share_directory =  '/home/jovyan/work/share/'\n",
    "#share_directory =  '/home/jovyan/share/'"
   ]
  },
  {
   "cell_type": "code",
   "execution_count": 7,
   "id": "9f057a9f-e288-42c3-b185-00a14bc15162",
   "metadata": {
    "execution": {
     "iopub.execute_input": "2023-03-17T13:47:50.437299Z",
     "iopub.status.busy": "2023-03-17T13:47:50.436695Z",
     "iopub.status.idle": "2023-03-17T13:47:50.439303Z",
     "shell.execute_reply": "2023-03-17T13:47:50.438714Z"
    },
    "papermill": {
     "duration": 0.100051,
     "end_time": "2023-03-17T13:47:50.439441",
     "exception": false,
     "start_time": "2023-03-17T13:47:50.339390",
     "status": "completed"
    },
    "tags": []
   },
   "outputs": [],
   "source": [
    "import pandas as pd\n",
    "from pyspark.sql import functions"
   ]
  },
  {
   "cell_type": "code",
   "execution_count": 8,
   "id": "9979ee4f-7cb4-4d06-ab96-7d54e5e1c348",
   "metadata": {
    "execution": {
     "iopub.execute_input": "2023-03-17T13:47:50.635408Z",
     "iopub.status.busy": "2023-03-17T13:47:50.634795Z",
     "iopub.status.idle": "2023-03-17T13:47:50.636795Z",
     "shell.execute_reply": "2023-03-17T13:47:50.637244Z"
    },
    "papermill": {
     "duration": 0.103061,
     "end_time": "2023-03-17T13:47:50.637411",
     "exception": false,
     "start_time": "2023-03-17T13:47:50.534350",
     "status": "completed"
    },
    "tags": []
   },
   "outputs": [],
   "source": [
    "columns = ['CGLOBALMESSAGEID', 'CSTARTTIME', 'CENDTIME', 'CSTATUS', 'CSERVICE',\\\n",
    "       'CSLABILLINGMONTH', 'CSENDERPROTOCOL', 'CSENDERENDPOINTID',\\\n",
    "       'CINBOUNDSIZE', 'CRECEIVERPROTOCOL', 'CRECEIVERENDPOINTID', 'CSLATAT',\\\n",
    "       'CMESSAGETAT2', 'CSLADELIVERYTIME']\n",
    "# withot 'CSLABILLINGMONTH'\n",
    "def get_columns_2():\n",
    "    columns = ['CGLOBALMESSAGEID', 'CSTARTTIME', 'CENDTIME', 'CSTATUS', 'CSERVICE',\\\n",
    "            'CSENDERPROTOCOL', 'CSENDERENDPOINTID',\\\n",
    "           'CINBOUNDSIZE', 'CRECEIVERPROTOCOL', 'CRECEIVERENDPOINTID', 'CSLATAT',\\\n",
    "           'CMESSAGETAT2', 'CSLADELIVERYTIME']\n",
    "    return columns\n",
    "\n",
    "columns = ['CGLOBALMESSAGEID',  'CSTARTTIME', 'CENDTIME', 'CSTATUS', 'CSERVICE', 'CSENDERENDPOINTID', 'CSENDERPROTOCOL', 'CINBOUNDSIZE', 'CRECEIVERPROTOCOL', 'CRECEIVERENDPOINTID', 'CSLATAT', 'CMESSAGETAT2', 'CSLADELIVERYTIME']\n",
    "     \n",
    "\n",
    "#columns = get_columns_2()\n",
    "#to count messages sent\n",
    "#columns = [ 'CSTARTTIME', 'CSENDERENDPOINTID']"
   ]
  },
  {
   "cell_type": "code",
   "execution_count": 9,
   "id": "5144238f-ef6b-4b9b-a0e4-ae6b85edc033",
   "metadata": {
    "execution": {
     "iopub.execute_input": "2023-03-17T13:47:50.831035Z",
     "iopub.status.busy": "2023-03-17T13:47:50.830426Z",
     "iopub.status.idle": "2023-03-17T13:47:55.692121Z",
     "shell.execute_reply": "2023-03-17T13:47:55.691601Z"
    },
    "papermill": {
     "duration": 4.960543,
     "end_time": "2023-03-17T13:47:55.692297",
     "exception": false,
     "start_time": "2023-03-17T13:47:50.731754",
     "status": "completed"
    },
    "tags": []
   },
   "outputs": [
    {
     "name": "stderr",
     "output_type": "stream",
     "text": [
      "WARNING: An illegal reflective access operation has occurred\n",
      "WARNING: Illegal reflective access by org.apache.spark.unsafe.Platform (file:/usr/local/spark-3.2.0-bin-hadoop3.2/jars/spark-unsafe_2.12-3.2.0.jar) to constructor java.nio.DirectByteBuffer(long,int)\n",
      "WARNING: Please consider reporting this to the maintainers of org.apache.spark.unsafe.Platform\n",
      "WARNING: Use --illegal-access=warn to enable warnings of further illegal reflective access operations\n",
      "WARNING: All illegal access operations will be denied in a future release\n"
     ]
    },
    {
     "name": "stderr",
     "output_type": "stream",
     "text": [
      "Using Spark's default log4j profile: org/apache/spark/log4j-defaults.properties\n",
      "Setting default log level to \"WARN\".\n",
      "To adjust logging level use sc.setLogLevel(newLevel). For SparkR, use setLogLevel(newLevel).\n"
     ]
    },
    {
     "name": "stderr",
     "output_type": "stream",
     "text": [
      "23/03/17 13:47:52 WARN NativeCodeLoader: Unable to load native-hadoop library for your platform... using builtin-java classes where applicable\n",
      "23/03/17 13:47:53 WARN SparkConf: Note that spark.local.dir will be overridden by the value set by the cluster manager (via SPARK_LOCAL_DIRS in mesos/standalone/kubernetes and LOCAL_DIRS in YARN).\n"
     ]
    },
    {
     "name": "stderr",
     "output_type": "stream",
     "text": [
      "23/03/17 13:47:53 WARN Utils: Service 'SparkUI' could not bind on port 4040. Attempting port 4041.\n"
     ]
    }
   ],
   "source": [
    "sparkSession = dfBasics.getSparkSession()"
   ]
  },
  {
   "cell_type": "code",
   "execution_count": 10,
   "id": "5895880d-c8e2-4bf8-82ba-a7a1ac9587f7",
   "metadata": {
    "execution": {
     "iopub.execute_input": "2023-03-17T13:47:55.897521Z",
     "iopub.status.busy": "2023-03-17T13:47:55.896899Z",
     "iopub.status.idle": "2023-03-17T13:47:55.900179Z",
     "shell.execute_reply": "2023-03-17T13:47:55.899601Z"
    },
    "papermill": {
     "duration": 0.108954,
     "end_time": "2023-03-17T13:47:55.900335",
     "exception": false,
     "start_time": "2023-03-17T13:47:55.791381",
     "status": "completed"
    },
    "tags": []
   },
   "outputs": [
    {
     "name": "stdout",
     "output_type": "stream",
     "text": [
      "1672617600000.0\n",
      "16409\n"
     ]
    }
   ],
   "source": [
    "from datetime import datetime, timezone\n",
    "import pyspark.sql.functions as f\n",
    "\n",
    "def timestamp(dt):\n",
    "    return dt.replace(tzinfo=timezone.utc).timestamp() * 1000\n",
    "\n",
    "startTime = timestamp(datetime(start_year, start_month, start_day_in_month))\n",
    "endTime = timestamp(datetime(end_year, end_month, end_day_in_month))\n",
    "\n",
    "print(endTime)\n",
    "\n",
    "filename_min=str(int(startTime/100000000))\n",
    "\n",
    "print(filename_min)\n",
    "\n",
    "# df = sparkSession.read.parquet('hdfs://172.30.17.145:8020/sla_sql_data/*/*').select(columns).show()"
   ]
  },
  {
   "cell_type": "code",
   "execution_count": 11,
   "id": "cd4c5435-c1be-4fb3-9bb5-29cf6b637c4e",
   "metadata": {
    "execution": {
     "iopub.execute_input": "2023-03-17T13:47:56.104301Z",
     "iopub.status.busy": "2023-03-17T13:47:56.103682Z",
     "iopub.status.idle": "2023-03-17T13:47:56.107161Z",
     "shell.execute_reply": "2023-03-17T13:47:56.106690Z"
    },
    "papermill": {
     "duration": 0.107269,
     "end_time": "2023-03-17T13:47:56.107323",
     "exception": false,
     "start_time": "2023-03-17T13:47:56.000054",
     "status": "completed"
    },
    "tags": []
   },
   "outputs": [
    {
     "name": "stdout",
     "output_type": "stream",
     "text": [
      "Start: 1640995200000.0\n",
      "End: 1672617600000.0\n"
     ]
    }
   ],
   "source": [
    "print(\"Start: \" + str(startTime))\n",
    "print(\"End: \" + str(endTime))"
   ]
  },
  {
   "cell_type": "code",
   "execution_count": 12,
   "id": "57fb9b44-6b8f-47d9-8a62-b699f767cdb7",
   "metadata": {
    "execution": {
     "iopub.execute_input": "2023-03-17T13:47:56.314647Z",
     "iopub.status.busy": "2023-03-17T13:47:56.313999Z",
     "iopub.status.idle": "2023-03-17T13:48:56.356931Z",
     "shell.execute_reply": "2023-03-17T13:48:56.356099Z"
    },
    "papermill": {
     "duration": 60.147844,
     "end_time": "2023-03-17T13:48:56.357088",
     "exception": false,
     "start_time": "2023-03-17T13:47:56.209244",
     "status": "completed"
    },
    "tags": []
   },
   "outputs": [
    {
     "name": "stderr",
     "output_type": "stream",
     "text": [
      "\r",
      "[Stage 0:>                                                     (0 + 16) / 10000]\r",
      "\r",
      "[Stage 0:>                                                     (33 + 8) / 10000]\r"
     ]
    },
    {
     "name": "stderr",
     "output_type": "stream",
     "text": [
      "\r",
      "[Stage 0:>                                                     (60 + 9) / 10000]\r",
      "\r",
      "[Stage 0:>                                                     (86 + 9) / 10000]\r"
     ]
    },
    {
     "name": "stderr",
     "output_type": "stream",
     "text": [
      "\r",
      "[Stage 0:>                                                    (121 + 8) / 10000]\r"
     ]
    },
    {
     "name": "stderr",
     "output_type": "stream",
     "text": [
      "\r",
      "[Stage 0:>                                                    (163 + 8) / 10000]\r"
     ]
    },
    {
     "name": "stderr",
     "output_type": "stream",
     "text": [
      "\r",
      "[Stage 0:=>                                                  (203 + 10) / 10000]\r"
     ]
    },
    {
     "name": "stderr",
     "output_type": "stream",
     "text": [
      "\r",
      "[Stage 0:=>                                                   (245 + 8) / 10000]\r"
     ]
    },
    {
     "name": "stderr",
     "output_type": "stream",
     "text": [
      "\r",
      "[Stage 0:=>                                                   (285 + 8) / 10000]\r",
      "\r",
      "[Stage 0:=>                                                   (327 + 9) / 10000]\r"
     ]
    },
    {
     "name": "stderr",
     "output_type": "stream",
     "text": [
      "\r",
      "[Stage 0:=>                                                   (375 + 8) / 10000]\r"
     ]
    },
    {
     "name": "stderr",
     "output_type": "stream",
     "text": [
      "\r",
      "[Stage 0:==>                                                  (422 + 8) / 10000]\r",
      "\r",
      "[Stage 0:==>                                                  (475 + 8) / 10000]\r"
     ]
    },
    {
     "name": "stderr",
     "output_type": "stream",
     "text": [
      "\r",
      "[Stage 0:==>                                                  (531 + 8) / 10000]\r",
      "\r",
      "[Stage 0:===>                                                 (578 + 8) / 10000]\r"
     ]
    },
    {
     "name": "stderr",
     "output_type": "stream",
     "text": [
      "\r",
      "[Stage 0:===>                                                 (631 + 8) / 10000]\r",
      "\r",
      "[Stage 0:===>                                                 (682 + 9) / 10000]\r"
     ]
    },
    {
     "name": "stderr",
     "output_type": "stream",
     "text": [
      "\r",
      "[Stage 0:===>                                                 (744 + 8) / 10000]\r",
      "\r",
      "[Stage 0:====>                                                (780 + 8) / 10000]\r"
     ]
    },
    {
     "name": "stderr",
     "output_type": "stream",
     "text": [
      "\r",
      "[Stage 0:====>                                                (831 + 8) / 10000]\r",
      "\r",
      "[Stage 0:====>                                                (887 + 8) / 10000]\r"
     ]
    },
    {
     "name": "stderr",
     "output_type": "stream",
     "text": [
      "\r",
      "[Stage 0:=====>                                               (946 + 8) / 10000]\r",
      "\r",
      "[Stage 0:=====>                                              (1000 + 8) / 10000]\r"
     ]
    },
    {
     "name": "stderr",
     "output_type": "stream",
     "text": [
      "\r",
      "[Stage 0:=====>                                              (1059 + 8) / 10000]\r",
      "\r",
      "[Stage 0:=====>                                              (1118 + 8) / 10000]\r"
     ]
    },
    {
     "name": "stderr",
     "output_type": "stream",
     "text": [
      "\r",
      "[Stage 0:======>                                             (1175 + 9) / 10000]\r",
      "\r",
      "[Stage 0:======>                                             (1235 + 8) / 10000]\r"
     ]
    },
    {
     "name": "stderr",
     "output_type": "stream",
     "text": [
      "\r",
      "[Stage 0:======>                                             (1299 + 8) / 10000]\r",
      "\r",
      "[Stage 0:=======>                                            (1362 + 8) / 10000]\r"
     ]
    },
    {
     "name": "stderr",
     "output_type": "stream",
     "text": [
      "\r",
      "[Stage 0:=======>                                            (1421 + 8) / 10000]\r",
      "\r",
      "[Stage 0:=======>                                            (1482 + 8) / 10000]\r"
     ]
    },
    {
     "name": "stderr",
     "output_type": "stream",
     "text": [
      "\r",
      "[Stage 0:========>                                           (1546 + 8) / 10000]\r",
      "\r",
      "[Stage 0:========>                                           (1615 + 8) / 10000]\r"
     ]
    },
    {
     "name": "stderr",
     "output_type": "stream",
     "text": [
      "\r",
      "[Stage 0:========>                                           (1673 + 8) / 10000]\r",
      "\r",
      "[Stage 0:=========>                                          (1735 + 8) / 10000]\r"
     ]
    },
    {
     "name": "stderr",
     "output_type": "stream",
     "text": [
      "\r",
      "[Stage 0:=========>                                          (1798 + 8) / 10000]\r",
      "\r",
      "[Stage 0:=========>                                          (1858 + 8) / 10000]\r"
     ]
    },
    {
     "name": "stderr",
     "output_type": "stream",
     "text": [
      "\r",
      "[Stage 0:==========>                                         (1926 + 8) / 10000]\r"
     ]
    },
    {
     "name": "stderr",
     "output_type": "stream",
     "text": [
      "\r",
      "[Stage 0:==========>                                        (1994 + 10) / 10000]\r"
     ]
    },
    {
     "name": "stderr",
     "output_type": "stream",
     "text": [
      "\r",
      "[Stage 0:==========>                                         (2064 + 8) / 10000]\r",
      "\r",
      "[Stage 0:==========>                                        (2134 + 10) / 10000]\r"
     ]
    },
    {
     "name": "stderr",
     "output_type": "stream",
     "text": [
      "\r",
      "[Stage 0:===========>                                        (2200 + 8) / 10000]\r"
     ]
    },
    {
     "name": "stderr",
     "output_type": "stream",
     "text": [
      "\r",
      "[Stage 0:===========>                                        (2268 + 9) / 10000]\r",
      "\r",
      "[Stage 0:============>                                       (2335 + 8) / 10000]\r"
     ]
    },
    {
     "name": "stderr",
     "output_type": "stream",
     "text": [
      "\r",
      "[Stage 0:============>                                       (2397 + 8) / 10000]\r",
      "\r",
      "[Stage 0:============>                                       (2450 + 8) / 10000]\r"
     ]
    },
    {
     "name": "stderr",
     "output_type": "stream",
     "text": [
      "\r",
      "[Stage 0:============>                                      (2503 + 10) / 10000]\r",
      "\r",
      "[Stage 0:=============>                                      (2571 + 9) / 10000]\r"
     ]
    },
    {
     "name": "stderr",
     "output_type": "stream",
     "text": [
      "\r",
      "[Stage 0:=============>                                      (2643 + 8) / 10000]\r"
     ]
    },
    {
     "name": "stderr",
     "output_type": "stream",
     "text": [
      "\r",
      "[Stage 0:==============>                                     (2712 + 8) / 10000]\r",
      "\r",
      "[Stage 0:==============>                                     (2779 + 9) / 10000]\r"
     ]
    },
    {
     "name": "stderr",
     "output_type": "stream",
     "text": [
      "\r",
      "[Stage 0:==============>                                     (2846 + 9) / 10000]\r",
      "\r",
      "[Stage 0:===============>                                    (2920 + 8) / 10000]\r"
     ]
    },
    {
     "name": "stderr",
     "output_type": "stream",
     "text": [
      "\r",
      "[Stage 0:===============>                                    (2992 + 9) / 10000]\r",
      "\r",
      "[Stage 0:===============>                                    (3068 + 8) / 10000]\r"
     ]
    },
    {
     "name": "stderr",
     "output_type": "stream",
     "text": [
      "\r",
      "[Stage 0:================>                                   (3128 + 8) / 10000]\r",
      "\r",
      "[Stage 0:================>                                   (3198 + 8) / 10000]\r"
     ]
    },
    {
     "name": "stderr",
     "output_type": "stream",
     "text": [
      "\r",
      "[Stage 0:================>                                   (3263 + 8) / 10000]\r",
      "\r",
      "[Stage 0:=================>                                  (3322 + 8) / 10000]\r"
     ]
    },
    {
     "name": "stderr",
     "output_type": "stream",
     "text": [
      "\r",
      "[Stage 0:=================>                                  (3384 + 8) / 10000]\r",
      "\r",
      "[Stage 0:=================>                                  (3446 + 8) / 10000]\r"
     ]
    },
    {
     "name": "stderr",
     "output_type": "stream",
     "text": [
      "\r",
      "[Stage 0:==================>                                 (3510 + 8) / 10000]\r",
      "\r",
      "[Stage 0:==================>                                 (3573 + 8) / 10000]\r"
     ]
    },
    {
     "name": "stderr",
     "output_type": "stream",
     "text": [
      "\r",
      "[Stage 0:==================>                                 (3627 + 9) / 10000]\r",
      "\r",
      "[Stage 0:===================>                                (3693 + 9) / 10000]\r"
     ]
    },
    {
     "name": "stderr",
     "output_type": "stream",
     "text": [
      "\r",
      "[Stage 0:===================>                                (3769 + 8) / 10000]\r",
      "\r",
      "[Stage 0:===================>                                (3838 + 8) / 10000]\r"
     ]
    },
    {
     "name": "stderr",
     "output_type": "stream",
     "text": [
      "\r",
      "[Stage 0:===================>                               (3910 + 10) / 10000]\r",
      "\r",
      "[Stage 0:====================>                               (3978 + 8) / 10000]\r"
     ]
    },
    {
     "name": "stderr",
     "output_type": "stream",
     "text": [
      "\r",
      "[Stage 0:=====================>                              (4048 + 8) / 10000]\r",
      "\r",
      "[Stage 0:=====================>                              (4106 + 8) / 10000]\r"
     ]
    },
    {
     "name": "stderr",
     "output_type": "stream",
     "text": [
      "\r",
      "[Stage 0:=====================>                              (4178 + 8) / 10000]\r",
      "\r",
      "[Stage 0:======================>                             (4245 + 8) / 10000]\r"
     ]
    },
    {
     "name": "stderr",
     "output_type": "stream",
     "text": [
      "\r",
      "[Stage 0:======================>                             (4305 + 9) / 10000]\r",
      "\r",
      "[Stage 0:======================>                             (4375 + 8) / 10000]\r"
     ]
    },
    {
     "name": "stderr",
     "output_type": "stream",
     "text": [
      "\r",
      "[Stage 0:=======================>                            (4450 + 8) / 10000]\r",
      "\r",
      "[Stage 0:=======================>                            (4517 + 8) / 10000]\r"
     ]
    },
    {
     "name": "stderr",
     "output_type": "stream",
     "text": [
      "\r",
      "[Stage 0:=======================>                            (4597 + 8) / 10000]\r",
      "\r",
      "[Stage 0:========================>                           (4668 + 8) / 10000]\r"
     ]
    },
    {
     "name": "stderr",
     "output_type": "stream",
     "text": [
      "\r",
      "[Stage 0:========================>                           (4736 + 8) / 10000]\r",
      "\r",
      "[Stage 0:========================>                           (4807 + 8) / 10000]\r"
     ]
    },
    {
     "name": "stderr",
     "output_type": "stream",
     "text": [
      "\r",
      "[Stage 0:=========================>                          (4877 + 9) / 10000]\r",
      "\r",
      "[Stage 0:=========================>                          (4949 + 8) / 10000]\r"
     ]
    },
    {
     "name": "stderr",
     "output_type": "stream",
     "text": [
      "\r",
      "[Stage 0:==========================>                         (5022 + 8) / 10000]\r"
     ]
    },
    {
     "name": "stderr",
     "output_type": "stream",
     "text": [
      "\r",
      "[Stage 0:==========================>                         (5092 + 9) / 10000]\r",
      "\r",
      "[Stage 0:==========================>                         (5155 + 8) / 10000]\r"
     ]
    },
    {
     "name": "stderr",
     "output_type": "stream",
     "text": [
      "\r",
      "[Stage 0:===========================>                        (5224 + 8) / 10000]\r",
      "\r",
      "[Stage 0:===========================>                        (5295 + 8) / 10000]\r"
     ]
    },
    {
     "name": "stderr",
     "output_type": "stream",
     "text": [
      "\r",
      "[Stage 0:===========================>                        (5365 + 8) / 10000]\r",
      "\r",
      "[Stage 0:============================>                       (5426 + 8) / 10000]\r"
     ]
    },
    {
     "name": "stderr",
     "output_type": "stream",
     "text": [
      "\r",
      "[Stage 0:============================>                       (5493 + 8) / 10000]\r",
      "\r",
      "[Stage 0:============================>                       (5562 + 8) / 10000]\r"
     ]
    },
    {
     "name": "stderr",
     "output_type": "stream",
     "text": [
      "\r",
      "[Stage 0:=============================>                      (5625 + 8) / 10000]\r",
      "\r",
      "[Stage 0:============================>                      (5680 + 10) / 10000]\r"
     ]
    },
    {
     "name": "stderr",
     "output_type": "stream",
     "text": [
      "\r",
      "[Stage 0:=============================>                      (5744 + 8) / 10000]\r",
      "\r",
      "[Stage 0:==============================>                     (5809 + 8) / 10000]\r"
     ]
    },
    {
     "name": "stderr",
     "output_type": "stream",
     "text": [
      "\r",
      "[Stage 0:==============================>                     (5879 + 8) / 10000]\r",
      "\r",
      "[Stage 0:==============================>                    (5948 + 11) / 10000]\r"
     ]
    },
    {
     "name": "stderr",
     "output_type": "stream",
     "text": [
      "\r",
      "[Stage 0:==============================>                    (6018 + 10) / 10000]\r"
     ]
    },
    {
     "name": "stderr",
     "output_type": "stream",
     "text": [
      "\r",
      "[Stage 0:===============================>                    (6080 + 8) / 10000]\r",
      "\r",
      "[Stage 0:===============================>                    (6146 + 8) / 10000]\r"
     ]
    },
    {
     "name": "stderr",
     "output_type": "stream",
     "text": [
      "\r",
      "[Stage 0:================================>                   (6219 + 8) / 10000]\r",
      "\r",
      "[Stage 0:================================>                   (6291 + 8) / 10000]\r"
     ]
    },
    {
     "name": "stderr",
     "output_type": "stream",
     "text": [
      "\r",
      "[Stage 0:=================================>                  (6367 + 8) / 10000]\r",
      "\r",
      "[Stage 0:=================================>                  (6433 + 8) / 10000]\r"
     ]
    },
    {
     "name": "stderr",
     "output_type": "stream",
     "text": [
      "\r",
      "[Stage 0:=================================>                  (6504 + 8) / 10000]\r",
      "\r",
      "[Stage 0:==================================>                 (6578 + 8) / 10000]\r"
     ]
    },
    {
     "name": "stderr",
     "output_type": "stream",
     "text": [
      "\r",
      "[Stage 0:==================================>                 (6644 + 8) / 10000]\r",
      "\r",
      "[Stage 0:==================================>                 (6707 + 8) / 10000]\r"
     ]
    },
    {
     "name": "stderr",
     "output_type": "stream",
     "text": [
      "\r",
      "[Stage 0:===================================>                (6776 + 8) / 10000]\r",
      "\r",
      "[Stage 0:===================================>                (6844 + 8) / 10000]\r"
     ]
    },
    {
     "name": "stderr",
     "output_type": "stream",
     "text": [
      "\r",
      "[Stage 0:===================================>                (6901 + 9) / 10000]\r"
     ]
    },
    {
     "name": "stderr",
     "output_type": "stream",
     "text": [
      "\r",
      "[Stage 0:====================================>               (6965 + 8) / 10000]\r",
      "\r",
      "[Stage 0:====================================>               (7038 + 8) / 10000]\r"
     ]
    },
    {
     "name": "stderr",
     "output_type": "stream",
     "text": [
      "\r",
      "[Stage 0:====================================>               (7108 + 8) / 10000]\r",
      "\r",
      "[Stage 0:=====================================>              (7186 + 8) / 10000]\r"
     ]
    },
    {
     "name": "stderr",
     "output_type": "stream",
     "text": [
      "\r",
      "[Stage 0:=====================================>              (7259 + 8) / 10000]\r",
      "\r",
      "[Stage 0:======================================>             (7333 + 8) / 10000]\r"
     ]
    },
    {
     "name": "stderr",
     "output_type": "stream",
     "text": [
      "\r",
      "[Stage 0:======================================>             (7398 + 8) / 10000]\r",
      "\r",
      "[Stage 0:======================================>             (7466 + 8) / 10000]\r"
     ]
    },
    {
     "name": "stderr",
     "output_type": "stream",
     "text": [
      "\r",
      "[Stage 0:======================================>            (7533 + 12) / 10000]\r",
      "\r",
      "[Stage 0:=======================================>            (7603 + 8) / 10000]\r"
     ]
    },
    {
     "name": "stderr",
     "output_type": "stream",
     "text": [
      "\r",
      "[Stage 0:=======================================>            (7674 + 9) / 10000]\r",
      "\r",
      "[Stage 0:========================================>           (7741 + 8) / 10000]\r"
     ]
    },
    {
     "name": "stderr",
     "output_type": "stream",
     "text": [
      "\r",
      "[Stage 0:========================================>           (7816 + 9) / 10000]\r"
     ]
    },
    {
     "name": "stderr",
     "output_type": "stream",
     "text": [
      "\r",
      "[Stage 0:=========================================>          (7891 + 8) / 10000]\r",
      "\r",
      "[Stage 0:=========================================>          (7952 + 8) / 10000]\r"
     ]
    },
    {
     "name": "stderr",
     "output_type": "stream",
     "text": [
      "\r",
      "[Stage 0:=========================================>          (8008 + 8) / 10000]\r",
      "\r",
      "[Stage 0:==========================================>         (8081 + 8) / 10000]\r"
     ]
    },
    {
     "name": "stderr",
     "output_type": "stream",
     "text": [
      "\r",
      "[Stage 0:==========================================>         (8153 + 8) / 10000]\r",
      "\r",
      "[Stage 0:==========================================>         (8227 + 9) / 10000]\r"
     ]
    },
    {
     "name": "stderr",
     "output_type": "stream",
     "text": [
      "\r",
      "[Stage 0:===========================================>        (8298 + 8) / 10000]\r"
     ]
    },
    {
     "name": "stderr",
     "output_type": "stream",
     "text": [
      "\r",
      "[Stage 0:===========================================>        (8376 + 9) / 10000]\r",
      "\r",
      "[Stage 0:===========================================>        (8445 + 8) / 10000]\r"
     ]
    },
    {
     "name": "stderr",
     "output_type": "stream",
     "text": [
      "\r",
      "[Stage 0:============================================>       (8512 + 8) / 10000]\r",
      "\r",
      "[Stage 0:===========================================>       (8584 + 10) / 10000]\r"
     ]
    },
    {
     "name": "stderr",
     "output_type": "stream",
     "text": [
      "\r",
      "[Stage 0:=============================================>      (8657 + 8) / 10000]\r",
      "\r",
      "[Stage 0:=============================================>      (8729 + 9) / 10000]\r"
     ]
    },
    {
     "name": "stderr",
     "output_type": "stream",
     "text": [
      "\r",
      "[Stage 0:=============================================>      (8786 + 9) / 10000]\r"
     ]
    },
    {
     "name": "stderr",
     "output_type": "stream",
     "text": [
      "\r",
      "[Stage 0:==============================================>     (8850 + 8) / 10000]\r"
     ]
    },
    {
     "name": "stderr",
     "output_type": "stream",
     "text": [
      "\r",
      "[Stage 0:==============================================>     (8912 + 8) / 10000]\r",
      "\r",
      "[Stage 0:==============================================>     (8988 + 8) / 10000]\r"
     ]
    },
    {
     "name": "stderr",
     "output_type": "stream",
     "text": [
      "\r",
      "[Stage 0:===============================================>    (9062 + 8) / 10000]\r",
      "\r",
      "[Stage 0:===============================================>    (9127 + 8) / 10000]\r"
     ]
    },
    {
     "name": "stderr",
     "output_type": "stream",
     "text": [
      "\r",
      "[Stage 0:===============================================>    (9189 + 8) / 10000]\r",
      "\r",
      "[Stage 0:================================================>   (9254 + 8) / 10000]\r"
     ]
    },
    {
     "name": "stderr",
     "output_type": "stream",
     "text": [
      "\r",
      "[Stage 0:================================================>   (9322 + 9) / 10000]\r",
      "\r",
      "[Stage 0:===============================================>   (9401 + 10) / 10000]\r"
     ]
    },
    {
     "name": "stderr",
     "output_type": "stream",
     "text": [
      "\r",
      "[Stage 0:=================================================>  (9473 + 9) / 10000]\r",
      "\r",
      "[Stage 0:=================================================>  (9544 + 9) / 10000]\r"
     ]
    },
    {
     "name": "stderr",
     "output_type": "stream",
     "text": [
      "\r",
      "[Stage 0:==================================================> (9618 + 9) / 10000]\r",
      "\r",
      "[Stage 0:==================================================> (9694 + 8) / 10000]\r"
     ]
    },
    {
     "name": "stderr",
     "output_type": "stream",
     "text": [
      "\r",
      "[Stage 0:==================================================> (9760 + 8) / 10000]\r",
      "\r",
      "[Stage 0:==================================================>(9822 + 10) / 10000]\r"
     ]
    },
    {
     "name": "stderr",
     "output_type": "stream",
     "text": [
      "\r",
      "[Stage 0:===================================================>(9886 + 9) / 10000]\r",
      "\r",
      "[Stage 0:===================================================>(9958 + 8) / 10000]\r"
     ]
    },
    {
     "name": "stderr",
     "output_type": "stream",
     "text": [
      "\r",
      "                                                                                \r"
     ]
    }
   ],
   "source": [
    "import pyspark.sql.functions as f\n",
    "import pyspark\n",
    "\n",
    "#df = sparkSession.read.parquet(\"hdfs://172.30.17.145:8020/sla_sql_data/*/*\").select(columns)\n",
    "df = sparkSession.read.parquet(\"hdfs://172.30.17.145:8020/sla_sql_data/\" + \"*/*\").select(columns).filter((f.col('CSTARTTIME') >= startTime) & (f.col('CSTARTTIME') < endTime))\n",
    "# FIXME reactivate\n",
    "#.filter((f.col('CSTARTTIME') >= startTime) & (f.col('CSTARTTIME') < endTime)).dropDuplicates()\n",
    "\n",
    "#df = sparkSession.read.parquet(\"hdfs://172.30.17.145:8020/sla_sql_data/\" + str(15801371) +\"*/*\").select(columns).filter((f.col('CSTARTTIME') >= startTime) & (f.col('CSTARTTIME') < endTime)).dropDuplicates()\n"
   ]
  },
  {
   "cell_type": "code",
   "execution_count": 13,
   "id": "90310c7d-3765-444d-85de-f2391243d8d0",
   "metadata": {
    "execution": {
     "iopub.execute_input": "2023-03-17T13:48:56.725778Z",
     "iopub.status.busy": "2023-03-17T13:48:56.725134Z",
     "iopub.status.idle": "2023-03-17T13:48:56.727802Z",
     "shell.execute_reply": "2023-03-17T13:48:56.727332Z"
    },
    "papermill": {
     "duration": 0.188015,
     "end_time": "2023-03-17T13:48:56.727947",
     "exception": false,
     "start_time": "2023-03-17T13:48:56.539932",
     "status": "completed"
    },
    "tags": []
   },
   "outputs": [],
   "source": [
    "# Find min and max date range\n",
    "import pyspark.sql.functions as f\n",
    "\n",
    "# df.select(f.min(f.col('CSTARTTIME')).alias(\"min\"), f.max(f.col('CSTARTTIME')).alias(\"max\")).show()\n"
   ]
  },
  {
   "cell_type": "code",
   "execution_count": 14,
   "id": "b999647a-d330-46cc-83e7-08c01450d109",
   "metadata": {
    "execution": {
     "iopub.execute_input": "2023-03-17T13:48:57.096140Z",
     "iopub.status.busy": "2023-03-17T13:48:57.095543Z",
     "iopub.status.idle": "2023-03-17T13:48:57.097821Z",
     "shell.execute_reply": "2023-03-17T13:48:57.097348Z"
    },
    "papermill": {
     "duration": 0.187454,
     "end_time": "2023-03-17T13:48:57.097964",
     "exception": false,
     "start_time": "2023-03-17T13:48:56.910510",
     "status": "completed"
    },
    "tags": []
   },
   "outputs": [],
   "source": [
    "#senders = sparkSession.read.parquet(\"/tmp/senders.parquet\")\n",
    "#senders = pd.read_parquet('/tmp/senders' + '.parquet', engine='pyarrow')\n",
    "#senders = list(senders.toPandas()['CSENDERENDPOINTID'])"
   ]
  },
  {
   "cell_type": "code",
   "execution_count": 15,
   "id": "a6f3fbe7-8d6a-4445-8743-99915ffe0b64",
   "metadata": {
    "execution": {
     "iopub.execute_input": "2023-03-17T13:48:57.467007Z",
     "iopub.status.busy": "2023-03-17T13:48:57.466400Z",
     "iopub.status.idle": "2023-03-17T13:48:59.752624Z",
     "shell.execute_reply": "2023-03-17T13:48:59.751858Z"
    },
    "papermill": {
     "duration": 2.473321,
     "end_time": "2023-03-17T13:48:59.752777",
     "exception": false,
     "start_time": "2023-03-17T13:48:57.279456",
     "status": "completed"
    },
    "tags": []
   },
   "outputs": [
    {
     "name": "stderr",
     "output_type": "stream",
     "text": [
      "\r",
      "[Stage 3:>                                                          (0 + 5) / 5]\r",
      "\r",
      "[Stage 3:===========>                                               (1 + 4) / 5]\r"
     ]
    },
    {
     "name": "stderr",
     "output_type": "stream",
     "text": [
      "\r",
      "                                                                                \r"
     ]
    }
   ],
   "source": [
    "#senders = list(sparkSession.read.parquet('hdfs://172.30.17.145:8020/user/admin/sla/v00000/v00000/senders/senders.parquet').dropDuplicates().toPandas()['CSENDERENDPOINTID'])\n",
    "#/senders/senders_07.03.2023.parquet\n",
    "senders = list(sparkSession.read.parquet('hdfs://172.30.17.145:8020/preprocessing/senders/senders_07.03.2023.parquet').dropDuplicates().toPandas()['CSENDERENDPOINTID'])"
   ]
  },
  {
   "cell_type": "code",
   "execution_count": 16,
   "id": "47e4f8a3-ee0d-4a0c-9f1d-80ce3e6ce632",
   "metadata": {
    "execution": {
     "iopub.execute_input": "2023-03-17T13:49:00.128239Z",
     "iopub.status.busy": "2023-03-17T13:49:00.119187Z",
     "iopub.status.idle": "2023-03-17T13:49:00.131002Z",
     "shell.execute_reply": "2023-03-17T13:49:00.131471Z"
    },
    "papermill": {
     "duration": 0.19579,
     "end_time": "2023-03-17T13:49:00.131656",
     "exception": false,
     "start_time": "2023-03-17T13:48:59.935866",
     "status": "completed"
    },
    "tags": []
   },
   "outputs": [
    {
     "data": {
      "text/plain": [
       "5697"
      ]
     },
     "execution_count": 16,
     "metadata": {},
     "output_type": "execute_result"
    }
   ],
   "source": [
    "len(dict.fromkeys(senders))"
   ]
  },
  {
   "cell_type": "code",
   "execution_count": 17,
   "id": "2fb869c6-0003-4d5c-857d-791d8c5f9d48",
   "metadata": {
    "execution": {
     "iopub.execute_input": "2023-03-17T13:49:00.535180Z",
     "iopub.status.busy": "2023-03-17T13:49:00.534585Z",
     "iopub.status.idle": "2023-03-17T13:49:00.537113Z",
     "shell.execute_reply": "2023-03-17T13:49:00.536656Z"
    },
    "papermill": {
     "duration": 0.223823,
     "end_time": "2023-03-17T13:49:00.537277",
     "exception": false,
     "start_time": "2023-03-17T13:49:00.313454",
     "status": "completed"
    },
    "tags": []
   },
   "outputs": [],
   "source": [
    "#senders"
   ]
  },
  {
   "cell_type": "code",
   "execution_count": 18,
   "id": "83dedd84-19f0-4647-8e26-e91b9483f41d",
   "metadata": {
    "execution": {
     "iopub.execute_input": "2023-03-17T13:49:00.906671Z",
     "iopub.status.busy": "2023-03-17T13:49:00.906068Z",
     "iopub.status.idle": "2023-03-17T13:49:00.908496Z",
     "shell.execute_reply": "2023-03-17T13:49:00.908023Z"
    },
    "papermill": {
     "duration": 0.18907,
     "end_time": "2023-03-17T13:49:00.908639",
     "exception": false,
     "start_time": "2023-03-17T13:49:00.719569",
     "status": "completed"
    },
    "tags": []
   },
   "outputs": [],
   "source": [
    "#senders_files = sparkSession.read.options(delimiter=',')     .csv('hdfs://172.30.17.145:8020/user/admin/sla/' + version + '/senders/senders_files.txt').toPandas()\n",
    "#senders_files.columns = ['size','filename']    "
   ]
  },
  {
   "cell_type": "code",
   "execution_count": 19,
   "id": "8e16e072-ef90-4f40-8761-e813f0a62874",
   "metadata": {
    "execution": {
     "iopub.execute_input": "2023-03-17T13:49:01.277809Z",
     "iopub.status.busy": "2023-03-17T13:49:01.276944Z",
     "iopub.status.idle": "2023-03-17T13:49:01.280622Z",
     "shell.execute_reply": "2023-03-17T13:49:01.279898Z"
    },
    "papermill": {
     "duration": 0.189831,
     "end_time": "2023-03-17T13:49:01.280773",
     "exception": false,
     "start_time": "2023-03-17T13:49:01.090942",
     "status": "completed"
    },
    "tags": []
   },
   "outputs": [],
   "source": [
    "#senders_files['filename'][0]"
   ]
  },
  {
   "cell_type": "code",
   "execution_count": 20,
   "id": "fab91974-87c7-4c1b-8072-e9a251d283bb",
   "metadata": {
    "execution": {
     "iopub.execute_input": "2023-03-17T13:49:01.655238Z",
     "iopub.status.busy": "2023-03-17T13:49:01.654616Z",
     "iopub.status.idle": "2023-03-17T13:49:01.657442Z",
     "shell.execute_reply": "2023-03-17T13:49:01.657874Z"
    },
    "papermill": {
     "duration": 0.191865,
     "end_time": "2023-03-17T13:49:01.658051",
     "exception": false,
     "start_time": "2023-03-17T13:49:01.466186",
     "status": "completed"
    },
    "tags": []
   },
   "outputs": [
    {
     "data": {
      "text/plain": [
       "'sla_enc_9df80140-60b6-11e7-ac31-a21bac1b495c.parquet'"
      ]
     },
     "execution_count": 20,
     "metadata": {},
     "output_type": "execute_result"
    }
   ],
   "source": [
    "'sla_enc_' + senders[0] + '.parquet'"
   ]
  },
  {
   "cell_type": "code",
   "execution_count": 21,
   "id": "67cddeef-af71-4fb4-94b8-9d16cee6aafa",
   "metadata": {
    "execution": {
     "iopub.execute_input": "2023-03-17T13:49:02.031643Z",
     "iopub.status.busy": "2023-03-17T13:49:02.031029Z",
     "iopub.status.idle": "2023-03-17T13:49:02.033763Z",
     "shell.execute_reply": "2023-03-17T13:49:02.033069Z"
    },
    "papermill": {
     "duration": 0.19028,
     "end_time": "2023-03-17T13:49:02.033902",
     "exception": false,
     "start_time": "2023-03-17T13:49:01.843622",
     "status": "completed"
    },
    "tags": []
   },
   "outputs": [],
   "source": [
    "#failed = []\n",
    "#for sender in senders:\n",
    "#    try:\n",
    "#        filename = 'sla_enc_' + sender + '.parquet'\n",
    "#        sparkSession.read.text('hdfs://172.30.17.145:8020/user/admin/sla/' + version + '/encoded/senders/' + filename + '/_SUCCESS'); \n",
    "#    except Exception as exception: \n",
    "#        failed.append(sender)\n",
    "#        if not 'temporary' in filename:\n",
    "#            failed.append(filename.split('sla_enc_')[1].split('.')[0])"
   ]
  },
  {
   "cell_type": "code",
   "execution_count": 22,
   "id": "b23a4ff0-ba0c-417b-989a-f3eb319ded77",
   "metadata": {
    "execution": {
     "iopub.execute_input": "2023-03-17T13:49:02.407616Z",
     "iopub.status.busy": "2023-03-17T13:49:02.406113Z",
     "iopub.status.idle": "2023-03-17T13:49:02.410392Z",
     "shell.execute_reply": "2023-03-17T13:49:02.409788Z"
    },
    "papermill": {
     "duration": 0.191094,
     "end_time": "2023-03-17T13:49:02.410536",
     "exception": false,
     "start_time": "2023-03-17T13:49:02.219442",
     "status": "completed"
    },
    "tags": []
   },
   "outputs": [
    {
     "name": "stdout",
     "output_type": "stream",
     "text": [
      "/user/admin/sla/v00001/v00000/encoded/senders/\n"
     ]
    }
   ],
   "source": [
    "print('/user/admin/sla/' + version + '/encoded/senders/')"
   ]
  },
  {
   "cell_type": "code",
   "execution_count": 23,
   "id": "e7d9d0d0-6c1a-4315-96c9-ad168aaed072",
   "metadata": {
    "execution": {
     "iopub.execute_input": "2023-03-17T13:49:02.788297Z",
     "iopub.status.busy": "2023-03-17T13:49:02.784100Z",
     "iopub.status.idle": "2023-03-17T13:49:02.798560Z",
     "shell.execute_reply": "2023-03-17T13:49:02.798065Z"
    },
    "papermill": {
     "duration": 0.202704,
     "end_time": "2023-03-17T13:49:02.798712",
     "exception": false,
     "start_time": "2023-03-17T13:49:02.596008",
     "status": "completed"
    },
    "tags": []
   },
   "outputs": [],
   "source": [
    "sc =  sparkSession.sparkContext\n",
    "URI  = sc._gateway.jvm.java.net.URI\n",
    "fs = sc._jvm.org.apache.hadoop.fs.FileSystem.get(URI(\"hdfs://172.30.17.145:8020\"), sc._jsc.hadoopConfiguration())\n",
    "failed = []\n",
    "success = []\n",
    "\n",
    "def loadFailedSenders():\n",
    "\n",
    "    for sender in senders:\n",
    "        try:\n",
    "            filename = 'sla_enc_' + sender + '.parquet'\n",
    "            fileExists = fs.exists(sc._jvm.org.apache.hadoop.fs.Path('/user/admin/sla/' + version + '/encoded/senders/' + filename + '/_SUCCESS'))\n",
    "\n",
    "            if not fileExists:\n",
    "                failed.append(filename.split('sla_enc_')[1].split('.')[0])\n",
    "        except Exception as exception: \n",
    "                print(\"Error in file: \" + str(exception))\n",
    "    return failed\n"
   ]
  },
  {
   "cell_type": "code",
   "execution_count": 24,
   "id": "df6cb1b2-1dd5-4d68-bc48-8c91dc44adad",
   "metadata": {
    "execution": {
     "iopub.execute_input": "2023-03-17T13:49:03.174582Z",
     "iopub.status.busy": "2023-03-17T13:49:03.173973Z",
     "iopub.status.idle": "2023-03-17T13:49:03.176126Z",
     "shell.execute_reply": "2023-03-17T13:49:03.175552Z"
    },
    "papermill": {
     "duration": 0.191628,
     "end_time": "2023-03-17T13:49:03.176280",
     "exception": false,
     "start_time": "2023-03-17T13:49:02.984652",
     "status": "completed"
    },
    "tags": []
   },
   "outputs": [],
   "source": [
    "failed.append(\"10efe340-9caf-11ed-b6de-a115ac1e124d\") # FIXME remove use loadSenders"
   ]
  },
  {
   "cell_type": "code",
   "execution_count": 25,
   "id": "e4e86330-3592-489a-a194-a0854c5fddaf",
   "metadata": {
    "execution": {
     "iopub.execute_input": "2023-03-17T13:49:03.555534Z",
     "iopub.status.busy": "2023-03-17T13:49:03.554522Z",
     "iopub.status.idle": "2023-03-17T13:49:03.558162Z",
     "shell.execute_reply": "2023-03-17T13:49:03.557572Z"
    },
    "papermill": {
     "duration": 0.195498,
     "end_time": "2023-03-17T13:49:03.558321",
     "exception": false,
     "start_time": "2023-03-17T13:49:03.362823",
     "status": "completed"
    },
    "tags": []
   },
   "outputs": [],
   "source": [
    "#print(\"senders: \" + str(len(senders)) + \" failed: \" + str(len(dict.fromkeys(failed))))\n",
    "\n",
    "#len(set(success))"
   ]
  },
  {
   "cell_type": "code",
   "execution_count": 26,
   "id": "1d8bc830-a4c2-46ad-b3e0-1adfb0f1f6ed",
   "metadata": {
    "execution": {
     "iopub.execute_input": "2023-03-17T13:49:03.941362Z",
     "iopub.status.busy": "2023-03-17T13:49:03.940744Z",
     "iopub.status.idle": "2023-03-17T13:49:03.943196Z",
     "shell.execute_reply": "2023-03-17T13:49:03.942626Z"
    },
    "papermill": {
     "duration": 0.198362,
     "end_time": "2023-03-17T13:49:03.943363",
     "exception": false,
     "start_time": "2023-03-17T13:49:03.745001",
     "status": "completed"
    },
    "tags": []
   },
   "outputs": [],
   "source": [
    "from pyspark.sql.functions import udf\n",
    "from pyspark.sql.types import StringType\n",
    "\n",
    "\n",
    "\n",
    "def transform(value):\n",
    "    return int(_encoder.transform([value])[0])\n",
    "\n",
    "def transform(value, colName):\n",
    "    print(str(value) + \"\\t\" +str(colName))\n",
    "    return int(_encoder.transform([value])[0])\n",
    "    \n",
    "udf_transform = udf(lambda z, column: transform(z, column), StringType())\n",
    "\n",
    "#df2.withColumn(\"CSENDERENDPOINTID\", str( _encoder.transform([df2.CSENDERENDPOINTID])[0])) \n",
    "#df2 = df2.withColumn(\"CSENDERENDPOINTID\", udf_transform(df2.CSENDERENDPOINTID)) \n",
    "\n",
    "def get_columns(df):\n",
    "    columns = list(df.limit(1).toPandas().columns)\n",
    "    columns.remove('CGLOBALMESSAGEID')\n",
    "    columns.remove('CSLATAT')\n",
    "    columns.remove('CMESSAGETAT2') \n",
    "    columns.remove('CSLADELIVERYTIME')\n",
    "    columns.remove('CINBOUNDSIZE')\n",
    "    columns.remove('CSTARTTIME')\n",
    "    columns.remove('CENDTIME')\n",
    "    columns.remove('CSLADELIVERYTIME')\n",
    "    \n",
    "    return columns"
   ]
  },
  {
   "cell_type": "code",
   "execution_count": 27,
   "id": "039aa0ce-cbe7-4f3b-a986-d5c31317c0ea",
   "metadata": {
    "execution": {
     "iopub.execute_input": "2023-03-17T13:49:04.323110Z",
     "iopub.status.busy": "2023-03-17T13:49:04.321381Z",
     "iopub.status.idle": "2023-03-17T13:49:04.325936Z",
     "shell.execute_reply": "2023-03-17T13:49:04.325370Z"
    },
    "papermill": {
     "duration": 0.194446,
     "end_time": "2023-03-17T13:49:04.326074",
     "exception": false,
     "start_time": "2023-03-17T13:49:04.131628",
     "status": "completed"
    },
    "tags": []
   },
   "outputs": [],
   "source": [
    "def useSendersOnly(sender=None, dataframe=None):\n",
    "    #print(\"Senders size: \" + str([sender]))\n",
    "    return dataframe.where(f.col(\"CSENDERENDPOINTID\").isin(sender)) "
   ]
  },
  {
   "cell_type": "code",
   "execution_count": 28,
   "id": "9c6c7df2-04f1-48b0-a4ed-dbd08ec18268",
   "metadata": {
    "execution": {
     "iopub.execute_input": "2023-03-17T13:49:04.712395Z",
     "iopub.status.busy": "2023-03-17T13:49:04.701302Z",
     "iopub.status.idle": "2023-03-17T13:49:04.717481Z",
     "shell.execute_reply": "2023-03-17T13:49:04.716958Z"
    },
    "papermill": {
     "duration": 0.20487,
     "end_time": "2023-03-17T13:49:04.717631",
     "exception": false,
     "start_time": "2023-03-17T13:49:04.512761",
     "status": "completed"
    },
    "tags": []
   },
   "outputs": [],
   "source": [
    "# ## encode columns\n",
    "\n",
    "from datetime import time\n",
    "import datetime as dt\n",
    "import calendar\n",
    "import pytz\n",
    "de = pytz.timezone('Europe/Berlin')\n",
    "from pyspark.sql.types import IntegerType\n",
    "import pyspark\n",
    "\n",
    "# long timestamp\n",
    "def date(x):\n",
    "    return  dt.datetime.fromtimestamp(float(x) / 1e3, tz=de)\n",
    "\n",
    "udf_add_year = udf(lambda z: date(z).date().year, IntegerType())\n",
    "udf_add_month = udf(lambda z: date(z).date().month, IntegerType())\n",
    "udf_add_day = udf(lambda z: date(z).date().day, IntegerType())\n",
    "udf_add_hour = udf(lambda z: date(z).time().hour, IntegerType())\n",
    "udf_add_minute = udf(lambda z: date(z).time().minute, IntegerType())\n",
    "udf_add_minute = udf(lambda z: date(z).time().minute, IntegerType())\n",
    "\n",
    "\n",
    "# In[14]:\n",
    "\n",
    "\n",
    "import numpy as np\n",
    "import encoder\n",
    "from pyspark.sql.functions import col\n",
    "import pyspark\n",
    "\n",
    "def encode_columns_spark_map(dataframe=None,column=None, npy='/home/jovyan/work/npy'):\n",
    "    print(str(columns))\n",
    "    \n",
    "    \n",
    "    #_encoder = encoders[column]\n",
    "\n",
    "    #_encoder = encoder.TolerantLabelEncoder(ignore_unknown=True)\n",
    "    #_encoder.classes_ = np.load(npy + '/' + column + '.npy')\n",
    "       \n",
    "    #_encoders = encoders\n",
    "        \n",
    "        #dataall[column] = _encoder.transform(dataall[column]) \n",
    "    udf_transform = udf(lambda z, colname: transform(z, colname), StringType())\n",
    "   # ['CSTATUS','CSERVICE','CSENDERENDPOINTID','CSENDERPROTOCOL','CRECEIVERPROTOCOL','CRECEIVERENDPOINTID']\n",
    "    return dataframe.withColumn(column, udf_transform(col(column), lit(column)).cast(\"Integer\"))\n",
    "\n",
    "\n",
    "\n",
    "def encode_columns_spark(dataframe=None,columns=None, npy='/home/jovyan/work/npy'):\n",
    "    print(str(columns))\n",
    "    for column in columns:\n",
    "        global _encoder\n",
    "        print (column)\n",
    "        #_encoder = encoder.TolerantLabelEncoder(ignore_unknown=True)\n",
    "        #_encoder.classes_ = np.load(npy + '/' + column + '.npy')\n",
    "        \n",
    "        _encoder = encoders[column]\n",
    "        \n",
    "        #dataall[column] = _encoder.transform(dataall[column]) \n",
    "        udf_transform = udf(lambda z: transform(z), StringType())\n",
    "        dataframe=dataframe.withColumn(column, udf_transform(col(column)).cast(\"Integer\")) # FIXME Re add dataframe=\n",
    "        #df3.head()\n",
    "    return dataframe\n",
    "\n",
    "\n",
    "# In[15]:\n",
    "\n",
    "\n",
    "def cast_spark_columns(dataframe=None,columns=[],type=\"int\" ):\n",
    "    for column in columns:\n",
    "        dataframe_r = dataframe.withColumn(column, col(column).cast(type))\n",
    "    return dataframe_r    \n",
    "\n",
    "\n",
    "# In[16]:\n",
    "\n",
    "\n",
    "\n",
    "def process(df3):\n",
    "   \n",
    "    encode_columns_spark_map(dataframe=df3,column=columns[0])\n",
    "    \n",
    "    df5 = df4.withColumn(\"year\", udf_add_year(df4.CSTARTTIME)).withColumn(\"month\", udf_add_month(df4.CSTARTTIME)).withColumn(\"day\", udf_add_day(df4.CSTARTTIME)).withColumn(\"hour\", udf_add_hour(df4.CSTARTTIME)).withColumn(\"minute\", udf_add_minute(df4.CSTARTTIME)) \n",
    "    df6=cast_spark_columns(dataframe=df5, columns=['CSTARTTIME', 'CENDTIME','CINBOUNDSIZE','CSLATAT','CMESSAGETAT2','CSLADELIVERYTIME'], type='long')\n",
    "    return df6\n",
    "\n",
    "# In[17]:\n",
    "\n",
    "# np_load_old = np.load\n",
    "\n",
    "# modify the default parameters of np.load\n",
    "# np.load = lambda *a,**k: np_load_old(*a, allow_pickle=True, **k)\n",
    "\n",
    "# restore np.load for future normal usage\n",
    "#np.load = np_load_old\n",
    "\n",
    "\n",
    "# In[18]:\n",
    "\n",
    "\n",
    "#import pyspark.sql.functions as f\n",
    "#ender = senders[0]\n",
    "#df4 = process(sender=sender,dataframe=df)\n",
    "#df4.head()\n",
    "#!mkdir /tmp/enc\n",
    "\n",
    "\n",
    "# In[19]:\n",
    "\n",
    "\n",
    "\n"
   ]
  },
  {
   "cell_type": "code",
   "execution_count": 29,
   "id": "47b9f6e4-6570-4d0c-89ea-0efa43084842",
   "metadata": {
    "execution": {
     "iopub.execute_input": "2023-03-17T13:49:05.096664Z",
     "iopub.status.busy": "2023-03-17T13:49:05.096041Z",
     "iopub.status.idle": "2023-03-17T13:49:05.098234Z",
     "shell.execute_reply": "2023-03-17T13:49:05.097636Z"
    },
    "papermill": {
     "duration": 0.192645,
     "end_time": "2023-03-17T13:49:05.098380",
     "exception": false,
     "start_time": "2023-03-17T13:49:04.905735",
     "status": "completed"
    },
    "tags": []
   },
   "outputs": [],
   "source": [
    "#!mkdir -p /home/jovyan/work/output/enc"
   ]
  },
  {
   "cell_type": "code",
   "execution_count": 30,
   "id": "4d4b7d4a-f3ed-442c-83f2-638eaeeef62c",
   "metadata": {
    "execution": {
     "iopub.execute_input": "2023-03-17T13:49:05.478659Z",
     "iopub.status.busy": "2023-03-17T13:49:05.478044Z",
     "iopub.status.idle": "2023-03-17T13:49:05.480906Z",
     "shell.execute_reply": "2023-03-17T13:49:05.480440Z"
    },
    "papermill": {
     "duration": 0.195392,
     "end_time": "2023-03-17T13:49:05.481053",
     "exception": false,
     "start_time": "2023-03-17T13:49:05.285661",
     "status": "completed"
    },
    "tags": []
   },
   "outputs": [],
   "source": [
    "if None in senders:\n",
    "    senders.remove(None)"
   ]
  },
  {
   "cell_type": "code",
   "execution_count": 31,
   "id": "b38a3e24-7111-43d6-ae0d-524c619e721c",
   "metadata": {
    "execution": {
     "iopub.execute_input": "2023-03-17T13:49:05.859195Z",
     "iopub.status.busy": "2023-03-17T13:49:05.858593Z",
     "iopub.status.idle": "2023-03-17T13:49:05.861422Z",
     "shell.execute_reply": "2023-03-17T13:49:05.860932Z"
    },
    "papermill": {
     "duration": 0.193263,
     "end_time": "2023-03-17T13:49:05.861570",
     "exception": false,
     "start_time": "2023-03-17T13:49:05.668307",
     "status": "completed"
    },
    "tags": []
   },
   "outputs": [],
   "source": [
    "#None in senders"
   ]
  },
  {
   "cell_type": "code",
   "execution_count": 32,
   "id": "4a79cb9f-b97e-42aa-9a99-3698ab7a5880",
   "metadata": {
    "execution": {
     "iopub.execute_input": "2023-03-17T13:49:06.244182Z",
     "iopub.status.busy": "2023-03-17T13:49:06.243571Z",
     "iopub.status.idle": "2023-03-17T13:49:06.245799Z",
     "shell.execute_reply": "2023-03-17T13:49:06.245217Z"
    },
    "papermill": {
     "duration": 0.194826,
     "end_time": "2023-03-17T13:49:06.245943",
     "exception": false,
     "start_time": "2023-03-17T13:49:06.051117",
     "status": "completed"
    },
    "tags": []
   },
   "outputs": [],
   "source": [
    "from os import listdir\n",
    "\n",
    "#def listdirectory(path=None,filter='.'):\n",
    "#    return [x for x in listdir(path) if not x.startswith(filter)]    \n",
    "\n",
    "#_files = listdirectory(path='/home/jovyan/work/output/enc')\n",
    "#senders = senders[len(_files):]\n",
    "\n",
    "columns = ['CSTATUS','CSERVICE','CSENDERENDPOINTID','CSENDERPROTOCOL','CRECEIVERPROTOCOL','CRECEIVERENDPOINTID']"
   ]
  },
  {
   "cell_type": "code",
   "execution_count": 33,
   "id": "1c7b04de-c13b-4380-a6b2-fa115177b8a4",
   "metadata": {
    "execution": {
     "iopub.execute_input": "2023-03-17T13:49:06.626503Z",
     "iopub.status.busy": "2023-03-17T13:49:06.625872Z",
     "iopub.status.idle": "2023-03-17T13:49:06.633896Z",
     "shell.execute_reply": "2023-03-17T13:49:06.633426Z"
    },
    "papermill": {
     "duration": 0.201539,
     "end_time": "2023-03-17T13:49:06.634043",
     "exception": false,
     "start_time": "2023-03-17T13:49:06.432504",
     "status": "completed"
    },
    "tags": []
   },
   "outputs": [
    {
     "name": "stdout",
     "output_type": "stream",
     "text": [
      "CSTATUS\n",
      "CSERVICE\n",
      "CSENDERENDPOINTID\n",
      "CSENDERPROTOCOL\n",
      "CRECEIVERPROTOCOL\n",
      "CRECEIVERENDPOINTID\n"
     ]
    }
   ],
   "source": [
    "npy='/home/jovyan/work/npy'\n",
    "\n",
    "encoders = {}\n",
    "for column in columns:\n",
    "#    _encoder = encoder.TolerantLabelEncoder(ignore_unknown=True)\n",
    "    print(column)\n",
    "    _encoder = encoder.TolerantLabelEncoder(ignore_unknown=True)\n",
    "    _encoder.classes_ = np.load(npy + '/' + column + '.npy', allow_pickle=True)\n",
    "    encoders[column] = _encoder"
   ]
  },
  {
   "cell_type": "code",
   "execution_count": 34,
   "id": "b3c60f8b-d70d-4812-bd50-66ea86ac830c",
   "metadata": {
    "execution": {
     "iopub.execute_input": "2023-03-17T13:49:07.022789Z",
     "iopub.status.busy": "2023-03-17T13:49:07.022176Z",
     "iopub.status.idle": "2023-03-17T13:49:07.027716Z",
     "shell.execute_reply": "2023-03-17T13:49:07.027254Z"
    },
    "papermill": {
     "duration": 0.20272,
     "end_time": "2023-03-17T13:49:07.027858",
     "exception": false,
     "start_time": "2023-03-17T13:49:06.825138",
     "status": "completed"
    },
    "tags": []
   },
   "outputs": [
    {
     "data": {
      "text/plain": [
       "{'CSTATUS': TolerantLabelEncoder(ignore_unknown=True),\n",
       " 'CSERVICE': TolerantLabelEncoder(ignore_unknown=True),\n",
       " 'CSENDERENDPOINTID': TolerantLabelEncoder(ignore_unknown=True),\n",
       " 'CSENDERPROTOCOL': TolerantLabelEncoder(ignore_unknown=True),\n",
       " 'CRECEIVERPROTOCOL': TolerantLabelEncoder(ignore_unknown=True),\n",
       " 'CRECEIVERENDPOINTID': TolerantLabelEncoder(ignore_unknown=True)}"
      ]
     },
     "execution_count": 34,
     "metadata": {},
     "output_type": "execute_result"
    }
   ],
   "source": [
    "encoders"
   ]
  },
  {
   "cell_type": "code",
   "execution_count": 35,
   "id": "667196c5-f65e-429e-a645-dce9d76647fa",
   "metadata": {
    "execution": {
     "iopub.execute_input": "2023-03-17T13:49:07.410883Z",
     "iopub.status.busy": "2023-03-17T13:49:07.409937Z",
     "iopub.status.idle": "2023-03-17T13:49:07.413122Z",
     "shell.execute_reply": "2023-03-17T13:49:07.412538Z"
    },
    "papermill": {
     "duration": 0.196047,
     "end_time": "2023-03-17T13:49:07.413282",
     "exception": false,
     "start_time": "2023-03-17T13:49:07.217235",
     "status": "completed"
    },
    "tags": []
   },
   "outputs": [],
   "source": [
    "#import pyspark.sql.functions as f\n",
    "#sender = senders[0]\n",
    "#print(sender)\n",
    "#df4 = process(sender=sender,dataframe=df)\n",
    "#df4.write.mode(\"overwrite\").parquet(\"/home/jovyan/work/output/enc/sla_enc_\" + sender + \".parquet\")"
   ]
  },
  {
   "cell_type": "code",
   "execution_count": 36,
   "id": "6ca2f999-0874-41b7-b2ec-8d77d6f39498",
   "metadata": {
    "execution": {
     "iopub.execute_input": "2023-03-17T13:49:07.796801Z",
     "iopub.status.busy": "2023-03-17T13:49:07.795685Z",
     "iopub.status.idle": "2023-03-17T13:49:07.799026Z",
     "shell.execute_reply": "2023-03-17T13:49:07.798444Z"
    },
    "papermill": {
     "duration": 0.195444,
     "end_time": "2023-03-17T13:49:07.799164",
     "exception": false,
     "start_time": "2023-03-17T13:49:07.603720",
     "status": "completed"
    },
    "tags": []
   },
   "outputs": [],
   "source": [
    "#sender = senders[0]\n",
    "#for sender in failed:\n",
    "#    dfOfSender = useSendersOnly(sender=sender,dataframe=df)\n",
    "\n",
    "#    dataCount = dfOfSender.count()\n",
    "#    biggerCounter = 0\n",
    "    \n",
    "#    if dataCount < 1 :\n",
    "#        print(\"No data for sender: \" + sender + \" count: \" + str(dataCount) + \" Bigger count: \" + str(biggerCounter))\n",
    "#    else:\n",
    "#        biggerCounter = biggerCounter + 1\n",
    "        \n",
    "    \n",
    "#print(\"Process sender: \" + sender + \" Data count: \" + str(dfOfSender.count()))\n",
    "#df10 = process(dfOfSender)\n",
    "#df10.toPandas()"
   ]
  },
  {
   "cell_type": "markdown",
   "id": "64feffe8",
   "metadata": {
    "tags": [
     "papermill-error-cell-tag"
    ]
   },
   "source": [
    "<span id=\"papermill-error-cell\" style=\"color:red; font-family:Helvetica Neue, Helvetica, Arial, sans-serif; font-size:2em;\">Execution using papermill encountered an exception here and stopped:</span>"
   ]
  },
  {
   "cell_type": "code",
   "execution_count": 37,
   "id": "5cfd135b-05a2-42af-8cbb-187ce43aa455",
   "metadata": {
    "execution": {
     "iopub.execute_input": "2023-03-17T13:49:08.185752Z",
     "iopub.status.busy": "2023-03-17T13:49:08.181968Z",
     "iopub.status.idle": "2023-03-17T13:49:10.075840Z",
     "shell.execute_reply": "2023-03-17T13:49:10.074729Z"
    },
    "papermill": {
     "duration": 2.086328,
     "end_time": "2023-03-17T13:49:10.076106",
     "exception": true,
     "start_time": "2023-03-17T13:49:07.989778",
     "status": "failed"
    },
    "tags": []
   },
   "outputs": [
    {
     "name": "stdout",
     "output_type": "stream",
     "text": [
      "['CSTATUS', 'CSERVICE', 'CSENDERENDPOINTID', 'CSENDERPROTOCOL', 'CRECEIVERPROTOCOL', 'CRECEIVERENDPOINTID']\n"
     ]
    },
    {
     "ename": "NameError",
     "evalue": "name 'lit' is not defined",
     "output_type": "error",
     "traceback": [
      "\u001b[0;31m---------------------------------------------------------------------------\u001b[0m",
      "\u001b[0;31mNameError\u001b[0m                                 Traceback (most recent call last)",
      "\u001b[0;32m/tmp/ipykernel_81504/3014358198.py\u001b[0m in \u001b[0;36m<module>\u001b[0;34m\u001b[0m\n\u001b[1;32m      5\u001b[0m \u001b[0;31m#dfOfSender.explain()\u001b[0m\u001b[0;34m\u001b[0m\u001b[0;34m\u001b[0m\u001b[0m\n\u001b[1;32m      6\u001b[0m \u001b[0;31m#print(\"Process sender: \" + sender + \" Data count: \" + str(dfOfSender.count()))\u001b[0m\u001b[0;34m\u001b[0m\u001b[0;34m\u001b[0m\u001b[0m\n\u001b[0;32m----> 7\u001b[0;31m \u001b[0mdf10\u001b[0m \u001b[0;34m=\u001b[0m \u001b[0mprocess\u001b[0m\u001b[0;34m(\u001b[0m\u001b[0mdf\u001b[0m\u001b[0;34m)\u001b[0m\u001b[0;31m#.repartition(1)\u001b[0m\u001b[0;34m\u001b[0m\u001b[0;34m\u001b[0m\u001b[0m\n\u001b[0m\u001b[1;32m      8\u001b[0m \u001b[0;31m#df10.explain()\u001b[0m\u001b[0;34m\u001b[0m\u001b[0;34m\u001b[0m\u001b[0m\n\u001b[1;32m      9\u001b[0m \u001b[0mdf10\u001b[0m\u001b[0;34m.\u001b[0m\u001b[0mwrite\u001b[0m\u001b[0;34m.\u001b[0m\u001b[0mmode\u001b[0m\u001b[0;34m(\u001b[0m\u001b[0;34m\"append\"\u001b[0m\u001b[0;34m)\u001b[0m\u001b[0;34m.\u001b[0m\u001b[0mparquet\u001b[0m\u001b[0;34m(\u001b[0m\u001b[0;34m\"hdfs://172.30.17.145:8020/preprocessing/enc/missing_senders/\"\u001b[0m \u001b[0;34m+\u001b[0m \u001b[0mVERSION\u001b[0m \u001b[0;34m+\u001b[0m \u001b[0;34m\"/\"\u001b[0m \u001b[0;34m+\u001b[0m \u001b[0mstr\u001b[0m\u001b[0;34m(\u001b[0m\u001b[0mstart_year\u001b[0m\u001b[0;34m)\u001b[0m \u001b[0;34m+\u001b[0m \u001b[0;34m\"/\"\u001b[0m \u001b[0;34m+\u001b[0m \u001b[0mstr\u001b[0m\u001b[0;34m(\u001b[0m\u001b[0mstart_day_in_month\u001b[0m\u001b[0;34m)\u001b[0m \u001b[0;34m+\u001b[0m \u001b[0;34m\".\"\u001b[0m \u001b[0;34m+\u001b[0m \u001b[0mstr\u001b[0m\u001b[0;34m(\u001b[0m\u001b[0mstart_month\u001b[0m\u001b[0;34m)\u001b[0m \u001b[0;34m+\u001b[0m \u001b[0;34m\".\"\u001b[0m  \u001b[0;34m+\u001b[0m \u001b[0mstr\u001b[0m\u001b[0;34m(\u001b[0m\u001b[0mstart_year\u001b[0m\u001b[0;34m)\u001b[0m  \u001b[0;34m+\u001b[0m \u001b[0;34m\"-\"\u001b[0m \u001b[0;34m+\u001b[0m  \u001b[0mstr\u001b[0m\u001b[0;34m(\u001b[0m\u001b[0mend_day_in_month\u001b[0m\u001b[0;34m)\u001b[0m \u001b[0;34m+\u001b[0m \u001b[0;34m\".\"\u001b[0m \u001b[0;34m+\u001b[0m \u001b[0mstr\u001b[0m\u001b[0;34m(\u001b[0m\u001b[0mend_month\u001b[0m\u001b[0;34m)\u001b[0m \u001b[0;34m+\u001b[0m \u001b[0;34m\".\"\u001b[0m  \u001b[0;34m+\u001b[0m \u001b[0mstr\u001b[0m\u001b[0;34m(\u001b[0m\u001b[0mend_year\u001b[0m\u001b[0;34m)\u001b[0m \u001b[0;34m+\u001b[0m \u001b[0;34m\"/sla_enc_\"\u001b[0m \u001b[0;34m+\u001b[0m \u001b[0msender\u001b[0m \u001b[0;34m+\u001b[0m \u001b[0;34m'.parquet'\u001b[0m\u001b[0;34m)\u001b[0m\u001b[0;34m\u001b[0m\u001b[0;34m\u001b[0m\u001b[0m\n",
      "\u001b[0;32m/tmp/ipykernel_81504/269179680.py\u001b[0m in \u001b[0;36mprocess\u001b[0;34m(df3)\u001b[0m\n\u001b[1;32m     79\u001b[0m \u001b[0;32mdef\u001b[0m \u001b[0mprocess\u001b[0m\u001b[0;34m(\u001b[0m\u001b[0mdf3\u001b[0m\u001b[0;34m)\u001b[0m\u001b[0;34m:\u001b[0m\u001b[0;34m\u001b[0m\u001b[0;34m\u001b[0m\u001b[0m\n\u001b[1;32m     80\u001b[0m \u001b[0;34m\u001b[0m\u001b[0m\n\u001b[0;32m---> 81\u001b[0;31m     \u001b[0mencode_columns_spark_map\u001b[0m\u001b[0;34m(\u001b[0m\u001b[0mdataframe\u001b[0m\u001b[0;34m=\u001b[0m\u001b[0mdf3\u001b[0m\u001b[0;34m,\u001b[0m\u001b[0mcolumn\u001b[0m\u001b[0;34m=\u001b[0m\u001b[0mcolumns\u001b[0m\u001b[0;34m[\u001b[0m\u001b[0;36m0\u001b[0m\u001b[0;34m]\u001b[0m\u001b[0;34m)\u001b[0m\u001b[0;34m\u001b[0m\u001b[0;34m\u001b[0m\u001b[0m\n\u001b[0m\u001b[1;32m     82\u001b[0m \u001b[0;34m\u001b[0m\u001b[0m\n\u001b[1;32m     83\u001b[0m     \u001b[0mdf5\u001b[0m \u001b[0;34m=\u001b[0m \u001b[0mdf4\u001b[0m\u001b[0;34m.\u001b[0m\u001b[0mwithColumn\u001b[0m\u001b[0;34m(\u001b[0m\u001b[0;34m\"year\"\u001b[0m\u001b[0;34m,\u001b[0m \u001b[0mudf_add_year\u001b[0m\u001b[0;34m(\u001b[0m\u001b[0mdf4\u001b[0m\u001b[0;34m.\u001b[0m\u001b[0mCSTARTTIME\u001b[0m\u001b[0;34m)\u001b[0m\u001b[0;34m)\u001b[0m\u001b[0;34m.\u001b[0m\u001b[0mwithColumn\u001b[0m\u001b[0;34m(\u001b[0m\u001b[0;34m\"month\"\u001b[0m\u001b[0;34m,\u001b[0m \u001b[0mudf_add_month\u001b[0m\u001b[0;34m(\u001b[0m\u001b[0mdf4\u001b[0m\u001b[0;34m.\u001b[0m\u001b[0mCSTARTTIME\u001b[0m\u001b[0;34m)\u001b[0m\u001b[0;34m)\u001b[0m\u001b[0;34m.\u001b[0m\u001b[0mwithColumn\u001b[0m\u001b[0;34m(\u001b[0m\u001b[0;34m\"day\"\u001b[0m\u001b[0;34m,\u001b[0m \u001b[0mudf_add_day\u001b[0m\u001b[0;34m(\u001b[0m\u001b[0mdf4\u001b[0m\u001b[0;34m.\u001b[0m\u001b[0mCSTARTTIME\u001b[0m\u001b[0;34m)\u001b[0m\u001b[0;34m)\u001b[0m\u001b[0;34m.\u001b[0m\u001b[0mwithColumn\u001b[0m\u001b[0;34m(\u001b[0m\u001b[0;34m\"hour\"\u001b[0m\u001b[0;34m,\u001b[0m \u001b[0mudf_add_hour\u001b[0m\u001b[0;34m(\u001b[0m\u001b[0mdf4\u001b[0m\u001b[0;34m.\u001b[0m\u001b[0mCSTARTTIME\u001b[0m\u001b[0;34m)\u001b[0m\u001b[0;34m)\u001b[0m\u001b[0;34m.\u001b[0m\u001b[0mwithColumn\u001b[0m\u001b[0;34m(\u001b[0m\u001b[0;34m\"minute\"\u001b[0m\u001b[0;34m,\u001b[0m \u001b[0mudf_add_minute\u001b[0m\u001b[0;34m(\u001b[0m\u001b[0mdf4\u001b[0m\u001b[0;34m.\u001b[0m\u001b[0mCSTARTTIME\u001b[0m\u001b[0;34m)\u001b[0m\u001b[0;34m)\u001b[0m\u001b[0;34m\u001b[0m\u001b[0;34m\u001b[0m\u001b[0m\n",
      "\u001b[0;32m/tmp/ipykernel_81504/269179680.py\u001b[0m in \u001b[0;36mencode_columns_spark_map\u001b[0;34m(dataframe, column, npy)\u001b[0m\n\u001b[1;32m     43\u001b[0m     \u001b[0mudf_transform\u001b[0m \u001b[0;34m=\u001b[0m \u001b[0mudf\u001b[0m\u001b[0;34m(\u001b[0m\u001b[0;32mlambda\u001b[0m \u001b[0mz\u001b[0m\u001b[0;34m,\u001b[0m \u001b[0mcolname\u001b[0m\u001b[0;34m:\u001b[0m \u001b[0mtransform\u001b[0m\u001b[0;34m(\u001b[0m\u001b[0mz\u001b[0m\u001b[0;34m,\u001b[0m \u001b[0mcolname\u001b[0m\u001b[0;34m)\u001b[0m\u001b[0;34m,\u001b[0m \u001b[0mStringType\u001b[0m\u001b[0;34m(\u001b[0m\u001b[0;34m)\u001b[0m\u001b[0;34m)\u001b[0m\u001b[0;34m\u001b[0m\u001b[0;34m\u001b[0m\u001b[0m\n\u001b[1;32m     44\u001b[0m    \u001b[0;31m# ['CSTATUS','CSERVICE','CSENDERENDPOINTID','CSENDERPROTOCOL','CRECEIVERPROTOCOL','CRECEIVERENDPOINTID']\u001b[0m\u001b[0;34m\u001b[0m\u001b[0;34m\u001b[0m\u001b[0m\n\u001b[0;32m---> 45\u001b[0;31m     \u001b[0;32mreturn\u001b[0m \u001b[0mdataframe\u001b[0m\u001b[0;34m.\u001b[0m\u001b[0mwithColumn\u001b[0m\u001b[0;34m(\u001b[0m\u001b[0mcolumn\u001b[0m\u001b[0;34m,\u001b[0m \u001b[0mudf_transform\u001b[0m\u001b[0;34m(\u001b[0m\u001b[0mcol\u001b[0m\u001b[0;34m(\u001b[0m\u001b[0mcolumn\u001b[0m\u001b[0;34m)\u001b[0m\u001b[0;34m,\u001b[0m \u001b[0mlit\u001b[0m\u001b[0;34m(\u001b[0m\u001b[0mcolumn\u001b[0m\u001b[0;34m)\u001b[0m\u001b[0;34m)\u001b[0m\u001b[0;34m.\u001b[0m\u001b[0mcast\u001b[0m\u001b[0;34m(\u001b[0m\u001b[0;34m\"Integer\"\u001b[0m\u001b[0;34m)\u001b[0m\u001b[0;34m)\u001b[0m\u001b[0;34m\u001b[0m\u001b[0;34m\u001b[0m\u001b[0m\n\u001b[0m\u001b[1;32m     46\u001b[0m \u001b[0;34m\u001b[0m\u001b[0m\n\u001b[1;32m     47\u001b[0m \u001b[0;34m\u001b[0m\u001b[0m\n",
      "\u001b[0;31mNameError\u001b[0m: name 'lit' is not defined"
     ]
    }
   ],
   "source": [
    "import pyspark.sql.functions as f\n",
    "import pyspark\n",
    "\n",
    "dfOfSender = df.where(f.col(\"CSENDERENDPOINTID\").isin(failed)).persist(pyspark.StorageLevel.MEMORY_ONLY) \n",
    "#dfOfSender.explain()\n",
    "#print(\"Process sender: \" + sender + \" Data count: \" + str(dfOfSender.count()))\n",
    "df10 = process(df)#.repartition(1)\n",
    "#df10.explain()\n",
    "df10.write.mode(\"append\").parquet(\"hdfs://172.30.17.145:8020/preprocessing/enc/missing_senders/\" + VERSION + \"/\" + str(start_year) + \"/\" + str(start_day_in_month) + \".\" + str(start_month) + \".\"  + str(start_year)  + \"-\" +  str(end_day_in_month) + \".\" + str(end_month) + \".\"  + str(end_year) + \"/sla_enc_\" + sender + '.parquet') \n",
    "#df10.write.mode(\"overwrite\").parquet(\"/home/jovyan/work/output/enc/test/\" + str(start_year) + \"/sla_enc_\" + sender + \"-\" + str(start_year) + \"-\" + str(start_month) + \"-\" + str(start_day_in_month) + \".parquet\")"
   ]
  },
  {
   "cell_type": "code",
   "execution_count": null,
   "id": "8256796e-9fe5-4836-a326-46710fee2130",
   "metadata": {
    "papermill": {
     "duration": null,
     "end_time": null,
     "exception": null,
     "start_time": null,
     "status": "pending"
    },
    "tags": []
   },
   "outputs": [],
   "source": [
    "import pyspark.sql.functions as f\n",
    "\n",
    "\n",
    "#sender = senders[0]\n",
    "#for sender in failed:\n",
    "#    dfOfSender = useSendersOnly(sender=sender,dataframe=df)\n",
    "#    #print(\"Process sender: \" + sender + \" Data count: \" + str(dfOfSender.count()))\n",
    "#    df10 = process(dfOfSender).repartition(1)\n",
    "#    df10.write.mode(\"append\").parquet(\"hdfs://172.30.17.145:8020/preprocessing/enc/missing_senders/\" + VERSION + \"/\" + str(start_year) + \"/\" + str(start_day_in_month) + \".\" + str(start_month) + \".\"  + str(start_year)  + \"-\" +  str(end_day_in_month) + \".\" + str(end_month) + \".\"  + str(end_year) + \"/sla_enc_\" + sender + '.parquet') \n",
    "#    #df10.write.mode(\"overwrite\").parquet(\"/home/jovyan/work/output/enc/test/\" + str(start_year) + \"/sla_enc_\" + sender + \"-\" + str(start_year) + \"-\" + str(start_month) + \"-\" + str(start_day_in_month) + \".parquet\")"
   ]
  },
  {
   "cell_type": "code",
   "execution_count": null,
   "id": "b855497c-6862-4568-b017-03d3025e37b2",
   "metadata": {
    "papermill": {
     "duration": null,
     "end_time": null,
     "exception": null,
     "start_time": null,
     "status": "pending"
    },
    "tags": []
   },
   "outputs": [],
   "source": [
    "#  papermill /home/jovyan/work/tool_create_encoded_messages_missing_senders.ipynb  /home/jovyan/work/integration/papermill-jobs/job-output/out_tool_create_encoded_messages_missing_senders.ipynb -p start_year 2023  -p start_month 1 -p start_day_in_month 1 -p end_year 2023 -p end_month 2  -p end_day_in_month 1"
   ]
  },
  {
   "cell_type": "code",
   "execution_count": null,
   "id": "c8dc40ed-8230-4e58-b141-670733140c37",
   "metadata": {
    "papermill": {
     "duration": null,
     "end_time": null,
     "exception": null,
     "start_time": null,
     "status": "pending"
    },
    "tags": []
   },
   "outputs": [],
   "source": []
  }
 ],
 "metadata": {
  "kernelspec": {
   "display_name": "Python 3 (ipykernel)",
   "language": "python",
   "name": "python3"
  },
  "language_info": {
   "codemirror_mode": {
    "name": "ipython",
    "version": 3
   },
   "file_extension": ".py",
   "mimetype": "text/x-python",
   "name": "python",
   "nbconvert_exporter": "python",
   "pygments_lexer": "ipython3",
   "version": "3.9.7"
  },
  "papermill": {
   "default_parameters": {},
   "duration": 84.448595,
   "end_time": "2023-03-17T13:49:10.577138",
   "environment_variables": {},
   "exception": true,
   "input_path": "/home/jovyan/work/tool_create_encoded_messages_missing_senders.ipynb",
   "output_path": "/home/jovyan/work/integration/papermill-jobs/job-output/out_tool_create_encoded_messages_missing_senders.ipynb",
   "parameters": {
    "end_day_in_month": 2,
    "end_month": 1,
    "end_year": 2023,
    "start_day_in_month": 1,
    "start_month": 1,
    "start_year": 2022
   },
   "start_time": "2023-03-17T13:47:46.128543",
   "version": "2.4.0"
  }
 },
 "nbformat": 4,
 "nbformat_minor": 5
}