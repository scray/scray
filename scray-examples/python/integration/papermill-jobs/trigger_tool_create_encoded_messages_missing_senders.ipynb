{
 "cells": [
  {
   "cell_type": "code",
   "execution_count": 1,
   "id": "c7c60a20-b644-495a-81b6-8bfe991f7cc9",
   "metadata": {},
   "outputs": [],
   "source": [
    "start_year=2022\n",
    "start_month=1\n",
    "start_day_in_month=1\n",
    "\n",
    "end_year=2022\n",
    "end_month=1\n",
    "end_day_in_month=2"
   ]
  },
  {
   "cell_type": "code",
   "execution_count": 9,
   "id": "e9fdc63a-cdde-46f9-b447-65ba59e9e3d2",
   "metadata": {},
   "outputs": [
    {
     "name": "stdout",
     "output_type": "stream",
     "text": [
      "papermill /home/jovyan/work/tool_create_encoded_messages_missing_senders.ipynb  /home/jovyan/work/integration/papermill-jobs/job-output/out_tool_create_encoded_messages_missing_senders.ipynb -p start_year 2021  -p start_month 1 -p start_day_in_month 1 -p end_year 2021 -p end_month 2 -p end_day_in_month 1&&\\\n",
      "papermill /home/jovyan/work/tool_create_encoded_messages_missing_senders.ipynb  /home/jovyan/work/integration/papermill-jobs/job-output/out_tool_create_encoded_messages_missing_senders.ipynb -p start_year 2021  -p start_month 2 -p start_day_in_month 1 -p end_year 2021 -p end_month 3 -p end_day_in_month 1&&\\\n",
      "papermill /home/jovyan/work/tool_create_encoded_messages_missing_senders.ipynb  /home/jovyan/work/integration/papermill-jobs/job-output/out_tool_create_encoded_messages_missing_senders.ipynb -p start_year 2021  -p start_month 3 -p start_day_in_month 1 -p end_year 2021 -p end_month 4 -p end_day_in_month 1&&\\\n",
      "papermill /home/jovyan/work/tool_create_encoded_messages_missing_senders.ipynb  /home/jovyan/work/integration/papermill-jobs/job-output/out_tool_create_encoded_messages_missing_senders.ipynb -p start_year 2021  -p start_month 4 -p start_day_in_month 1 -p end_year 2021 -p end_month 5 -p end_day_in_month 1&&\\\n",
      "papermill /home/jovyan/work/tool_create_encoded_messages_missing_senders.ipynb  /home/jovyan/work/integration/papermill-jobs/job-output/out_tool_create_encoded_messages_missing_senders.ipynb -p start_year 2021  -p start_month 5 -p start_day_in_month 1 -p end_year 2021 -p end_month 6 -p end_day_in_month 1&&\\\n",
      "papermill /home/jovyan/work/tool_create_encoded_messages_missing_senders.ipynb  /home/jovyan/work/integration/papermill-jobs/job-output/out_tool_create_encoded_messages_missing_senders.ipynb -p start_year 2021  -p start_month 6 -p start_day_in_month 1 -p end_year 2021 -p end_month 7 -p end_day_in_month 1&&\\\n",
      "papermill /home/jovyan/work/tool_create_encoded_messages_missing_senders.ipynb  /home/jovyan/work/integration/papermill-jobs/job-output/out_tool_create_encoded_messages_missing_senders.ipynb -p start_year 2021  -p start_month 7 -p start_day_in_month 1 -p end_year 2021 -p end_month 8 -p end_day_in_month 1&&\\\n",
      "papermill /home/jovyan/work/tool_create_encoded_messages_missing_senders.ipynb  /home/jovyan/work/integration/papermill-jobs/job-output/out_tool_create_encoded_messages_missing_senders.ipynb -p start_year 2021  -p start_month 8 -p start_day_in_month 1 -p end_year 2021 -p end_month 9 -p end_day_in_month 1&&\\\n",
      "papermill /home/jovyan/work/tool_create_encoded_messages_missing_senders.ipynb  /home/jovyan/work/integration/papermill-jobs/job-output/out_tool_create_encoded_messages_missing_senders.ipynb -p start_year 2021  -p start_month 9 -p start_day_in_month 1 -p end_year 2021 -p end_month 10 -p end_day_in_month 1&&\\\n",
      "papermill /home/jovyan/work/tool_create_encoded_messages_missing_senders.ipynb  /home/jovyan/work/integration/papermill-jobs/job-output/out_tool_create_encoded_messages_missing_senders.ipynb -p start_year 2021  -p start_month 10 -p start_day_in_month 1 -p end_year 2021 -p end_month 11 -p end_day_in_month 1&&\\\n",
      "papermill /home/jovyan/work/tool_create_encoded_messages_missing_senders.ipynb  /home/jovyan/work/integration/papermill-jobs/job-output/out_tool_create_encoded_messages_missing_senders.ipynb -p start_year 2021  -p start_month 11 -p start_day_in_month 1 -p end_year 2021 -p end_month 12 -p end_day_in_month 1&&\\\n"
     ]
    }
   ],
   "source": [
    "for month in range(1,12):\n",
    "    print(\"papermill /home/jovyan/work/tool_create_encoded_messages_missing_senders.ipynb  /home/jovyan/work/integration/papermill-jobs/job-output/out_tool_create_encoded_messages_missing_senders.ipynb \\\n",
    "-p start_year 2021  -p start_month \" + str(month) + \" -p start_day_in_month 1 -p end_year 2021 -p end_month \" + str(month+1) + \" -p end_day_in_month 1\"  +  \"&&\\\\\")"
   ]
  },
  {
   "cell_type": "code",
   "execution_count": null,
   "id": "75a5cb27-efb6-4af5-a46c-e1e86b126ad2",
   "metadata": {},
   "outputs": [],
   "source": []
  }
 ],
 "metadata": {
  "kernelspec": {
   "display_name": "Python 3 (ipykernel)",
   "language": "python",
   "name": "python3"
  },
  "language_info": {
   "codemirror_mode": {
    "name": "ipython",
    "version": 3
   },
   "file_extension": ".py",
   "mimetype": "text/x-python",
   "name": "python",
   "nbconvert_exporter": "python",
   "pygments_lexer": "ipython3",
   "version": "3.9.7"
  }
 },
 "nbformat": 4,
 "nbformat_minor": 5
}
