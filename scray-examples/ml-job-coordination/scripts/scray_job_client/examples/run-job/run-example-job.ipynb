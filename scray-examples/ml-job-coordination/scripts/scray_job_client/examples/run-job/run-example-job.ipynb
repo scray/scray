{
 "cells": [
  {
   "cell_type": "markdown",
   "metadata": {},
   "source": [
    "## Install client"
   ]
  },
  {
   "cell_type": "code",
   "execution_count": null,
   "metadata": {},
   "outputs": [],
   "source": [
    "%pip uninstall scray-sync_client -y\n",
    "%pip install git+https://github.com/scray/scray.git@develop#subdirectory=scray-querying/modules/scray_sync_client"
   ]
  },
  {
   "cell_type": "markdown",
   "metadata": {},
   "source": [
    "## Create client"
   ]
  },
  {
   "cell_type": "code",
   "execution_count": 1,
   "metadata": {},
   "outputs": [],
   "source": [
    "from scray.job_client.config import ScrayJobClientConfig\n",
    "from scray.job_client.client import ScrayJobClient \n",
    "\n",
    "config = ScrayJobClientConfig(\n",
    "  host_address = \"http://ml-integration.research.dev.example.com\",\n",
    "  port = 8082,\n",
    "  data_integration_host = \"ml-integration.research.dev.example.com\"\n",
    ")\n",
    "\n",
    "client = ScrayJobClient(config=config)"
   ]
  },
  {
   "cell_type": "markdown",
   "metadata": {},
   "source": [
    "## Upload job"
   ]
  },
  {
   "cell_type": "code",
   "execution_count": 2,
   "metadata": {},
   "outputs": [
    {
     "name": "stdout",
     "output_type": "stream",
     "text": [
      "Create archive job-43f5d7af-4aad-4f52-8e2d-cfa55eddea40.tar.gz from source ./timestamp-job/\n",
      "job-43f5d7af-4aad-4f52-8e2d-cfa55eddea40.tar.gz\n"
     ]
    }
   ],
   "source": [
    "import uuid\n",
    "\n",
    "\n",
    "job_name = client.deploy_job(\n",
    "      source_data=\"./timestamp-job/\", \n",
    "      processing_env=\"http://scray.org/ai/job/env/see/os/k8s/jupyter\", \n",
    "      notebook_name=\"timestamp-example.ipynb\",\n",
    "      docker_image=\"scray/python:0.1.3\"\n",
    "    )"
   ]
  },
  {
   "cell_type": "code",
   "execution_count": 3,
   "metadata": {},
   "outputs": [
    {
     "name": "stdout",
     "output_type": "stream",
     "text": [
      "Waiting for state 'COMPLETED'; current state is 'UPLOADED'\n",
      "Waiting for state 'COMPLETED'; current state is 'SCHEDULED'\n",
      "Waiting for state 'COMPLETED'; current state is 'RUNNING'\n",
      "Waiting for state 'COMPLETED'; current state is 'RUNNING'\n",
      "Waiting for state 'COMPLETED'; current state is 'RUNNING'\n",
      "Waiting for state 'COMPLETED'; current state is 'RUNNING'\n",
      "Waiting for state 'COMPLETED'; current state is 'RUNNING'\n",
      "Waiting for state 'COMPLETED'; current state is 'RUNNING'\n",
      "Waiting for state 'COMPLETED'; current state is 'RUNNING'\n",
      "Waiting for state 'COMPLETED'; current state is 'RUNNING'\n",
      "Waiting for state 'COMPLETED'; current state is 'RUNNING'\n",
      "Waiting for state 'COMPLETED'; current state is 'RUNNING'\n",
      "Waiting for state 'COMPLETED'; current state is 'RUNNING'\n",
      "Waiting for state 'COMPLETED'; current state is 'RUNNING'\n",
      "Waiting for state 'COMPLETED'; current state is 'RUNNING'\n",
      "Waiting for state 'COMPLETED'; current state is 'RUNNING'\n",
      "Waiting for state 'COMPLETED'; current state is 'COMPLETED'\n",
      "State 'COMPLETED' reached\n"
     ]
    }
   ],
   "source": [
    "client.wait_for_job_completion(job_name=job_name)"
   ]
  }
 ],
 "metadata": {
  "kernelspec": {
   "display_name": "Python 3",
   "language": "python",
   "name": "python3"
  },
  "language_info": {
   "codemirror_mode": {
    "name": "ipython",
    "version": 3
   },
   "file_extension": ".py",
   "mimetype": "text/x-python",
   "name": "python",
   "nbconvert_exporter": "python",
   "pygments_lexer": "ipython3",
   "version": "3.10.11"
  }
 },
 "nbformat": 4,
 "nbformat_minor": 2
}
