{
 "cells": [
  {
   "cell_type": "markdown",
   "metadata": {},
   "source": [
    "## Install client"
   ]
  },
  {
   "cell_type": "code",
   "execution_count": null,
   "metadata": {},
   "outputs": [],
   "source": [
    "%pip uninstall scray-sync_client -y\n",
    "%pip install git+https://github.com/scray/scray.git@develop#subdirectory=scray-querying/modules/scray_sync_client"
   ]
  },
  {
   "cell_type": "code",
   "execution_count": null,
   "metadata": {},
   "outputs": [],
   "source": [
    "%pip install ../../"
   ]
  },
  {
   "cell_type": "markdown",
   "metadata": {},
   "source": [
    "## Create client"
   ]
  },
  {
   "cell_type": "code",
   "execution_count": 1,
   "metadata": {},
   "outputs": [],
   "source": [
    "from scray.job_client.config import ScrayJobClientConfig\n",
    "from scray.job_client.client import ScrayJobClient \n",
    "\n",
    "config = ScrayJobClientConfig(\n",
    "  host_address = \"http://ml-integration.research.dev.example.com\",\n",
    "  port = 8082,\n",
    "  data_integration_host = \"ml-integration.research.dev.example.com\"\n",
    ")\n",
    "\n",
    "client = ScrayJobClient(config=config)"
   ]
  },
  {
   "cell_type": "markdown",
   "metadata": {},
   "source": [
    "## Upload job"
   ]
  },
  {
   "cell_type": "code",
   "execution_count": null,
   "metadata": {},
   "outputs": [],
   "source": [
    "import uuid\n",
    "\n",
    "processing_env = \"http://scray.org/ai/jobs/env/see/ki1-k8s\"\n",
    "notebook_name=\"timestamp-example.ipynb\"\n",
    "\n",
    "job_name = client.upload_job(source_data=\"./timestamp-job/\", notebook_name=\"timestamp-example.ipynb\")\n",
    "\n",
    "client.setState(state=\"UPLOADED\", \n",
    "                job_name=job_name, \n",
    "                processing_env=processing_env, \n",
    "                notebook_name=notebook_name\n",
    "            )"
   ]
  }
 ],
 "metadata": {
  "kernelspec": {
   "display_name": "Python 3",
   "language": "python",
   "name": "python3"
  },
  "language_info": {
   "codemirror_mode": {
    "name": "ipython",
    "version": 3
   },
   "file_extension": ".py",
   "mimetype": "text/x-python",
   "name": "python",
   "nbconvert_exporter": "python",
   "pygments_lexer": "ipython3",
   "version": "3.10.11"
  }
 },
 "nbformat": 4,
 "nbformat_minor": 2
}
