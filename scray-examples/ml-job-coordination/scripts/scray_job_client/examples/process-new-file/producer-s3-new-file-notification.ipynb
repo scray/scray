{
 "cells": [
  {
   "cell_type": "markdown",
   "metadata": {},
   "source": [
    "## Install client"
   ]
  },
  {
   "cell_type": "code",
   "execution_count": null,
   "metadata": {},
   "outputs": [],
   "source": [
    "!pip uninstall scray-sync_client -y\n",
    "!pip install git+https://github.com/scray/scray.git@develop#subdirectory=scray-querying/modules/scray_sync_client\n",
    "\n",
    "!pip uninstall scray_job_client -y\n",
    "!pip install git+https://github.com/scray/scray.git@develop#subdirectory=scray-examples/ml-job-coordination/scripts/scray_job_client"
   ]
  },
  {
   "cell_type": "markdown",
   "metadata": {},
   "source": [
    "## Create client"
   ]
  },
  {
   "cell_type": "code",
   "execution_count": null,
   "metadata": {},
   "outputs": [],
   "source": [
    "from scray.job_client.config import ScrayJobClientConfig\n",
    "from scray.job_client.client import ScrayJobClient \n",
    "\n",
    "config = ScrayJobClientConfig(\n",
    "  host_address = \"http://ml-integration.research.dev.example.com\",\n",
    "  port = 8082\n",
    ")\n",
    "\n",
    "client = ScrayJobClient(config=config)"
   ]
  },
  {
   "cell_type": "markdown",
   "metadata": {},
   "source": [
    "## Inform about new data in S3 bucket"
   ]
  },
  {
   "cell_type": "code",
   "execution_count": null,
   "metadata": {},
   "outputs": [],
   "source": [
    "import json\n",
    "import uuid\n",
    "from datetime import datetime\n",
    "\n",
    "\n",
    "job_name=\"s3-ingestion\"\n",
    "env = \"http://scray.org/ai/jobs/env/example/\"\n",
    "\n",
    "s_id = str(uuid.uuid4())\n",
    "job_name = job_name + \"-\" + s_id\n",
    "\n",
    "metadata = {\n",
    "    's_id': s_id,\n",
    "    'version': \"0.0.2\",\n",
    "    'files': [\n",
    "            'example-input/20240731-0820.csv',\n",
    "            'example-input/20240731-0702.csv',\n",
    "            'example-input/20240731-0690.csv',\n",
    "            'example-input/20240731-0608.csv',\n",
    "            'example-input/20240731-0660.csv'\n",
    "            ],\n",
    "    'bucket': 'bucket-4711',\n",
    "    'date': str(datetime.now())\n",
    "}\n",
    "\n",
    "client.setState(job_name=job_name, processing_env=env, state=\"UPLOADED\", metadata=metadata)"
   ]
  }
 ],
 "metadata": {
  "language_info": {
   "name": "python"
  }
 },
 "nbformat": 4,
 "nbformat_minor": 2
}
