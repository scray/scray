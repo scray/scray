{
 "cells": [
  {
   "cell_type": "markdown",
   "metadata": {},
   "source": [
    "## Create client"
   ]
  },
  {
   "cell_type": "code",
   "execution_count": null,
   "metadata": {},
   "outputs": [],
   "source": [
    "from scray.job_client.config import ScrayJobClientConfig\n",
    "from scray.job_client.client import ScrayJobClient \n",
    "\n",
    "config = ScrayJobClientConfig(\n",
    "  host_address = \"http://ml-integration.research.dev.example.com\",\n",
    "  port = 8082\n",
    ")\n",
    "\n",
    "client = ScrayJobClient(config=config)"
   ]
  },
  {
   "cell_type": "markdown",
   "metadata": {},
   "source": [
    "## Wait for a message about newly uploaded files and process them."
   ]
  },
  {
   "cell_type": "code",
   "execution_count": null,
   "metadata": {},
   "outputs": [],
   "source": [
    "env = \"http://scray.org/ai/jobs/env/example/\"\n",
    " \n",
    "    \n",
    "while True:\n",
    "\n",
    "    # Blocking till new job apears\n",
    "    jobs = client.wait_for_new_job(processing_env=env, requested_state=\"UPLOADED\") \n",
    "\n",
    "    # Querying for new jobs\n",
    "        #jobs = client.get_jobs(processing_env=env, requested_state=\"UPLOADED\")\n",
    "\n",
    "    \n",
    "    for job_name in jobs:\n",
    "        print(\"Process uploaded data from job: \" + job_name)\n",
    "    \n",
    "        metadata = client.get_job_metadata(job_name=job_name)\n",
    "\n",
    "        # Process all files in bucket\n",
    "        for file in metadata[\"files\"]:\n",
    "            print(\"Process file \" + file + \" of \" + metadata[\"bucket\"])\n",
    "\n",
    "        \n",
    "        metadata[\"additional_metadata\"] = 'file:' + file + \"processed\"\n",
    "\n",
    "        # Set a new state of the job\n",
    "        client.setState(job_name=job_name, processing_env=env, state=\"FILES_POCESSED\", metadata = metadata)"
   ]
  }
 ],
 "metadata": {
  "kernelspec": {
   "display_name": "Python 3",
   "language": "python",
   "name": "python3"
  },
  "language_info": {
   "name": "python",
   "version": "3.10.11"
  }
 },
 "nbformat": 4,
 "nbformat_minor": 2
}
