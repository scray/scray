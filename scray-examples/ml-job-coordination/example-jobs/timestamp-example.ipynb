{
 "cells": [
  {
   "cell_type": "code",
   "execution_count": null,
   "id": "90dd93ee-3e04-4914-8c93-a312427611cf",
   "metadata": {},
   "outputs": [],
   "source": [
    "import torch\n",
    "use_cuda = torch.cuda.is_available()\n",
    "if torch.cuda.is_available():\n",
    "    # nutzt alle GPUs\n",
    "    device = torch.device('cuda')\n",
    "    n_gpus = torch.cuda.device_count()\n",
    "    print(f'Nutzt {n_gpus} GPUs')\n",
    "else:\n",
    "    # nutzt CPU\n",
    "    device = torch.device('cpu')"
   ]
  },
  {
   "cell_type": "code",
   "execution_count": null,
   "id": "7f1c3e67-f20d-4c39-97f3-841dcf4fefca",
   "metadata": {
    "tags": []
   },
   "outputs": [],
   "source": [
    "from datetime import datetime as dt\n",
    "import time\n",
    "\n",
    "for count in range(0, 10):\n",
    "    print(\"Timestamp \" + str(count) + \"/\" + str(30) + \": [\" + str(dt.now().strftime(\"%H:%M:%S\")) + \"]\")\n",
    "    time.sleep(2)"
   ]
  }
 ],
 "metadata": {
  "kernelspec": {
   "display_name": "Python 3 (ipykernel)",
   "language": "python",
   "name": "python3"
  },
  "language_info": {
   "codemirror_mode": {
    "name": "ipython",
    "version": 3
   },
   "file_extension": ".py",
   "mimetype": "text/x-python",
   "name": "python",
   "nbconvert_exporter": "python",
   "pygments_lexer": "ipython3",
   "version": "3.10.10"
  }
 },
 "nbformat": 4,
 "nbformat_minor": 5
}
